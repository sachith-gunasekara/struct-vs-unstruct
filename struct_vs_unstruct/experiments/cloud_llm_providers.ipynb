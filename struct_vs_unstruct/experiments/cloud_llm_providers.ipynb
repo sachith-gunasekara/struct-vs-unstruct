{
 "cells": [
  {
   "cell_type": "code",
   "execution_count": 1,
   "metadata": {},
   "outputs": [
    {
     "data": {
      "text/plain": [
       "True"
      ]
     },
     "execution_count": 1,
     "metadata": {},
     "output_type": "execute_result"
    }
   ],
   "source": [
    "from dotenv import load_dotenv\n",
    "\n",
    "load_dotenv()"
   ]
  },
  {
   "cell_type": "code",
   "execution_count": 31,
   "metadata": {
    "vscode": {
     "languageId": "plaintext"
    }
   },
   "outputs": [],
   "source": [
    "from langchain_community.chat_models.sambanova import ChatSambaNovaCloud\n",
    "from langchain_core.rate_limiters import InMemoryRateLimiter\n",
    "\n",
    "from struct_vs_unstruct.helpers.rate import AmongProcessRateLimiter\n",
    "\n",
    "rate_limiter = InMemoryRateLimiter(\n",
    "    requests_per_second=0.166,  # <-- Can only make a request once every 10 seconds!!\n",
    "    check_every_n_seconds=0.1,  # Wake up every 100 ms to check whether allowed to make a request,\n",
    "    max_bucket_size=50,  # Controls the maximum burst size.\n",
    ")\n",
    "\n",
    "llm = ChatSambaNovaCloud(\n",
    "    model=\"llama3-405b\", max_tokens=1024, temperature=0.7, top_k=1, top_p=0.01, rate_limiter=rate_limiter\n",
    ")"
   ]
  },
  {
   "cell_type": "code",
   "execution_count": 32,
   "metadata": {},
   "outputs": [],
   "source": [
    "def map_fn(instance, idx):\n",
    "    from typing import Optional, TypedDict\n",
    "    from langgraph.graph import END, START, StateGraph\n",
    "    from langchain_core.output_parsers import StrOutputParser\n",
    "    from langchain_core.prompts import PromptTemplate\n",
    "    \n",
    "    class State(TypedDict):\n",
    "        start: int\n",
    "        end: int\n",
    "        response: Optional[str]\n",
    "    \n",
    "    def call(inputs):\n",
    "        # Initialize everything inside the process\n",
    "        parser = StrOutputParser()\n",
    "        pt = PromptTemplate.from_template(\"Count from {start} to {end}\")\n",
    "        \n",
    "        # Build the chain inside the process\n",
    "        chain = pt | llm | parser\n",
    "    \n",
    "        # Call the chain and pass results to the queue\n",
    "        return {\n",
    "            \"response\": chain.invoke(inputs)\n",
    "        }\n",
    "    graph = StateGraph(State)\n",
    "    graph.add_node(\"call\", call)\n",
    "    graph.add_edge(START, \"call\")\n",
    "    graph.add_edge(\"call\", END)\n",
    "    \n",
    "    \n",
    "    app = graph.compile()\n",
    "    result = app.invoke({\"start\": idx, \"end\": idx+20})\n",
    "\n",
    "    print(result)"
   ]
  },
  {
   "cell_type": "code",
   "execution_count": 26,
   "metadata": {},
   "outputs": [],
   "source": [
    "from datasets import load_dataset\n",
    "ds = load_dataset(\"sachithgunasekara/t4d\")"
   ]
  },
  {
   "cell_type": "code",
   "execution_count": null,
   "metadata": {},
   "outputs": [
    {
     "data": {
      "application/vnd.jupyter.widget-view+json": {
       "model_id": "f7cb17000fc243e79e3d8ddb8eb903f6",
       "version_major": 2,
       "version_minor": 0
      },
      "text/plain": [
       "Map:   0%|          | 0/564 [00:00<?, ? examples/s]"
      ]
     },
     "metadata": {},
     "output_type": "display_data"
    },
    {
     "name": "stdout",
     "output_type": "stream",
     "text": [
      "{'start': 0, 'end': 20, 'response': \"Here's the count from 0 to 20:\\n\\n0, 1, 2, 3, 4, 5, 6, 7, 8, 9, 10, 11, 12, 13, 14, 15, 16, 17, 18, 19, 20.\"}\n",
      "{'start': 1, 'end': 21, 'response': \"Here's the count from 1 to 21:\\n\\n1, 2, 3, 4, 5, 6, 7, 8, 9, 10, 11, 12, 13, 14, 15, 16, 17, 18, 19, 20, 21.\"}\n",
      "{'start': 2, 'end': 22, 'response': \"Here's the count from 2 to 22:\\n\\n2, 3, 4, 5, 6, 7, 8, 9, 10, 11, 12, 13, 14, 15, 16, 17, 18, 19, 20, 21, 22.\"}\n"
     ]
    }
   ],
   "source": [
    "import multiprocessing\n",
    "ds.map(map_fn, with_indices=True)"
   ]
  }
 ],
 "metadata": {
  "kernelspec": {
   "display_name": "Python 3 (ipykernel)",
   "language": "python",
   "name": "python3"
  },
  "language_info": {
   "codemirror_mode": {
    "name": "ipython",
    "version": 3
   },
   "file_extension": ".py",
   "mimetype": "text/x-python",
   "name": "python",
   "nbconvert_exporter": "python",
   "pygments_lexer": "ipython3",
   "version": "3.12.5"
  }
 },
 "nbformat": 4,
 "nbformat_minor": 4
}
