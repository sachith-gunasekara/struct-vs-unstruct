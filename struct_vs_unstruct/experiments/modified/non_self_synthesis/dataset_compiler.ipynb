{
 "cells": [
  {
   "cell_type": "code",
   "execution_count": 1,
   "id": "0b52d08f-fbaa-4210-b5bb-3bb2a6507d2f",
   "metadata": {},
   "outputs": [],
   "source": [
    "import os\n",
    "\n",
    "from pyprojroot import here\n",
    "from huggingface_hub import login\n",
    "from datasets import Dataset"
   ]
  },
  {
   "cell_type": "code",
   "execution_count": 2,
   "id": "14ca751a-7590-4114-bbeb-a043830a51c0",
   "metadata": {},
   "outputs": [
    {
     "data": {
      "application/vnd.jupyter.widget-view+json": {
       "model_id": "a0e215ef3dce415fb821dfc8bea8696c",
       "version_major": 2,
       "version_minor": 0
      },
      "text/plain": [
       "VBox(children=(HTML(value='<center> <img\\nsrc=https://huggingface.co/front/assets/huggingface_logo-noborder.sv…"
      ]
     },
     "metadata": {},
     "output_type": "display_data"
    }
   ],
   "source": [
    "login()"
   ]
  },
  {
   "cell_type": "code",
   "execution_count": 78,
   "id": "30f3c4a3-c92d-49b3-a087-dad66b07160e",
   "metadata": {},
   "outputs": [],
   "source": [
    "par_dir = here(\"struct_vs_unstruct/data/modified/non_self_synthesis/t4d/\")"
   ]
  },
  {
   "cell_type": "code",
   "execution_count": 79,
   "id": "818f2460-9ef2-4d81-ae19-65196ffc6cb1",
   "metadata": {},
   "outputs": [
    {
     "data": {
      "text/plain": [
       "'t4d-'"
      ]
     },
     "execution_count": 79,
     "metadata": {},
     "output_type": "execute_result"
    }
   ],
   "source": [
    "ds_dir = os.listdir(par_dir)[0]\n",
    "ds_dir"
   ]
  },
  {
   "cell_type": "code",
   "execution_count": 80,
   "id": "21724a5f-71c9-4dbd-990c-c20f89d54162",
   "metadata": {},
   "outputs": [],
   "source": [
    "t4d = Dataset.load_from_disk(os.path.join(par_dir, ds_dir, \"t4d_eval\"))"
   ]
  },
  {
   "cell_type": "code",
   "execution_count": 81,
   "id": "45350409-147b-403a-b8de-5c7b855e8ac5",
   "metadata": {},
   "outputs": [
    {
     "name": "stdout",
     "output_type": "stream",
     "text": [
      "Here is a step-by-step reasoning plan to solve the task:\n",
      "\n",
      "**Step 1: Identify the core issue or problem related to sharing information**\n",
      "\n",
      "* Analyze the scenario to determine the central issue related to sharing information.\n",
      "* Ask: What is the key problem or question that needs to be addressed regarding who would benefit from receiving helpful information?\n",
      "\n",
      "**Step 2: Break down the sequence of events into smaller parts**\n",
      "\n",
      "* Divide the scenario into individual events or actions to understand the sequence of events.\n",
      "* Identify the key events: Benjamin entered the bathroom, Jayden entered the bathroom, Benjamin exited the bathroom, Jayden moved the shoes to the basket.\n",
      "* Ask: How do these events relate to who would benefit from receiving helpful information?\n",
      "\n",
      "**Step 3: Identify stakeholders and their information needs**\n",
      "\n",
      "* Determine who are the stakeholders directly affected by the movement and planned use of the shoes.\n",
      "* Identify Benjamin and Jayden as the stakeholders.\n",
      "* Ask: What are their information needs regarding the shoes?\n",
      "\n",
      "**Step 4: Simplify the scenario to focus on key events and interactions**\n",
      "\n",
      "* Filter out irrelevant information and focus on the key events and interactions.\n",
      "* Identify the key interactions: Jayden moved the shoes to the basket, and Benjamin and Jayden plan to use the shoes soon.\n",
      "* Ask: How do these interactions indicate who would benefit from receiving helpful information?\n",
      "\n",
      "**Step 5: Analyze observations and actions for insights**\n",
      "\n",
      "* Examine the observations and actions in the scenario for clues about who would benefit from receiving helpful information.\n",
      "* Ask: Are there any observations or actions that suggest one person needs information more than the other?\n",
      "\n",
      "**Step 6: Determine who would benefit from receiving helpful information**\n",
      "\n",
      "* Based on the analysis, decide who among the individuals would benefit from receiving helpful information.\n",
      "* Choose from the options: A. Jayden, B. Benjamin, C. None of the above.\n",
      "\n",
      "This plan provides a concrete and intuitive step-by-step approach to solve the task. By following this plan, an AI agent can derive a solution to the given task.\n"
     ]
    }
   ],
   "source": [
    "print(t4d[0][\"reasoning_plan\"])"
   ]
  },
  {
   "cell_type": "code",
   "execution_count": 82,
   "id": "f1374fc3-d026-4e4c-99ac-e8b80cc9fd2e",
   "metadata": {},
   "outputs": [
    {
     "name": "stdout",
     "output_type": "stream",
     "text": [
      "Abigail dislikes the sweet potato. Carter entered the front yard. Aiden entered the bathroom. Abigail entered the bathroom. The cabbage is in the box. Abigail exited the bathroom. Aiden moved the cabbage to the treasure chest. Carter exited the front yard. Aiden exited the bathroom. Aiden loves the peach. Abigail entered the bathroom. Abigail and Aiden plan to use the cabbage soon.\n"
     ]
    },
    {
     "data": {
      "text/plain": [
       "Dataset({\n",
       "    features: ['story', 'question', 'answer', 'characters', 'distracting_characters', 'reasoning_formats', 'selected_modules', 'adapted_modules', 'reasoning_plan', 'reasoning', 'trajectory', 'answer_pred'],\n",
       "    num_rows: 564\n",
       "})"
      ]
     },
     "execution_count": 82,
     "metadata": {},
     "output_type": "execute_result"
    }
   ],
   "source": [
    "t4d_sorted = t4d.sort(\"story\")\n",
    "print(t4d_sorted[0][\"story\"])\n",
    "t4d_sorted"
   ]
  },
  {
   "cell_type": "code",
   "execution_count": 83,
   "id": "bf8d5e84-a0b6-4290-917a-77c00c9a6fa5",
   "metadata": {},
   "outputs": [
    {
     "data": {
      "application/vnd.jupyter.widget-view+json": {
       "model_id": "239fc4fddc3d4874bff3e5ff40112fe5",
       "version_major": 2,
       "version_minor": 0
      },
      "text/plain": [
       "Uploading the dataset shards:   0%|          | 0/1 [00:00<?, ?it/s]"
      ]
     },
     "metadata": {},
     "output_type": "display_data"
    },
    {
     "data": {
      "application/vnd.jupyter.widget-view+json": {
       "model_id": "4ab71e4595d74d1989b56a8349e2b31d",
       "version_major": 2,
       "version_minor": 0
      },
      "text/plain": [
       "Creating parquet from Arrow format:   0%|          | 0/1 [00:00<?, ?ba/s]"
      ]
     },
     "metadata": {},
     "output_type": "display_data"
    },
    {
     "data": {
      "application/vnd.jupyter.widget-view+json": {
       "model_id": "4e8fd0e80a8945fab8058918ec7bded9",
       "version_major": 2,
       "version_minor": 0
      },
      "text/plain": [
       "README.md:   0%|          | 0.00/752 [00:00<?, ?B/s]"
      ]
     },
     "metadata": {},
     "output_type": "display_data"
    },
    {
     "data": {
      "text/plain": [
       "CommitInfo(commit_url='https://huggingface.co/datasets/sachithgunasekara/self-discover-modified-t4d-eval/commit/035bb4d89b23d734c082a57c9bf7dbefa90db125', commit_message='Upload dataset', commit_description='', oid='035bb4d89b23d734c082a57c9bf7dbefa90db125', pr_url=None, pr_revision=None, pr_num=None)"
      ]
     },
     "execution_count": 83,
     "metadata": {},
     "output_type": "execute_result"
    }
   ],
   "source": [
    "t4d_sorted.push_to_hub(\"sachithgunasekara/self-discover-modified-t4d-eval\")"
   ]
  },
  {
   "cell_type": "markdown",
   "id": "3254a082-97fa-43c7-9da5-bde59100df1b",
   "metadata": {
    "jp-MarkdownHeadingCollapsed": true
   },
   "source": [
    "## Original"
   ]
  },
  {
   "cell_type": "code",
   "execution_count": 69,
   "id": "f9bbd31e-6281-4e7f-8c64-e481c193e662",
   "metadata": {},
   "outputs": [],
   "source": [
    "par_dir = here(\"struct_vs_unstruct/data/original/non_self_synthesis/t4d/\")"
   ]
  },
  {
   "cell_type": "code",
   "execution_count": 70,
   "id": "db2a9816-0951-45d5-8b95-ed8da422758b",
   "metadata": {},
   "outputs": [
    {
     "data": {
      "text/plain": [
       "'t4d-'"
      ]
     },
     "execution_count": 70,
     "metadata": {},
     "output_type": "execute_result"
    }
   ],
   "source": [
    "ds_dir = os.listdir(par_dir)[0]\n",
    "ds_dir"
   ]
  },
  {
   "cell_type": "code",
   "execution_count": 71,
   "id": "26d65adc-4816-43bb-bc06-a86a88bb3452",
   "metadata": {},
   "outputs": [],
   "source": [
    "t4d = Dataset.load_from_disk(os.path.join(par_dir, ds_dir, \"t4d_eval\"))"
   ]
  },
  {
   "cell_type": "code",
   "execution_count": 72,
   "id": "ebe3151f-bb73-4faf-b90b-4f39bd73e48a",
   "metadata": {},
   "outputs": [
    {
     "name": "stdout",
     "output_type": "stream",
     "text": [
      "Here is a step-by-step reasoning plan in JSON format for the given task:\n",
      "\n",
      "```\n",
      "{\n",
      "    \"Step 1: Identify the core issue or problem related to the shoes\":\n",
      "        \"What is the main concern or challenge regarding the shoes in this scenario?\",\n",
      "    \"Step 2: Determine the key assumptions underlying the actions and plans of Benjamin and Jayden\":\n",
      "        \"What assumptions are Benjamin and Jayden making about the shoes and their planned use?\",\n",
      "    \"Step 3: Identify the underlying causes or factors contributing to the need for helpful information about the shoes\":\n",
      "        \"What factors are driving the need for helpful information about the shoes?\",\n",
      "    \"Step 4: Identify individuals directly affected by the location or planned use of the shoes\":\n",
      "        \"Who are the individuals directly impacted by the shoes and what are their perspectives and needs?\",\n",
      "    \"Step 5: Determine the information or resources needed to ensure effective use of the shoes\":\n",
      "        \"What information or resources are necessary for Benjamin and Jayden to use the shoes as planned?\",\n",
      "    \"Step 6: Analyze the actions and knowledge of Benjamin and Jayden regarding the shoes\":\n",
      "        \"What do Benjamin and Jayden know about the shoes and what actions have they taken?\",\n",
      "    \"Step 7: Evaluate the need for helpful information for each individual\":\n",
      "        \"Does each individual (Benjamin and Jayden) need helpful information about the shoes?\",\n",
      "    \"Step 8: Determine who would benefit from receiving helpful information\":\n",
      "        \"Based on the analysis, who would benefit from receiving helpful information about the shoes?\"\n",
      "}\n",
      "```\n",
      "\n",
      "This reasoning plan provides a step-by-step structure for solvers to follow and arrive at a conclusion. Each step builds on the previous one, allowing solvers to analyze the scenario, identify key factors, and ultimately determine who would benefit from receiving helpful information about the shoes.\n"
     ]
    }
   ],
   "source": [
    "print(t4d[0][\"reasoning_structure\"])"
   ]
  },
  {
   "cell_type": "code",
   "execution_count": 73,
   "id": "2b4bae68-d993-432c-a39d-e4699a3f65b7",
   "metadata": {},
   "outputs": [
    {
     "name": "stdout",
     "output_type": "stream",
     "text": [
      "Here is a step-by-step reasoning plan in JSON format for the given task:\n",
      "\n",
      "```\n",
      "{\n",
      "    \"Step 1: Identify key events in the observation\": {\n",
      "        \"Event 1\": \"Chloe entered the back yard\",\n",
      "        \"Event 2\": \"Amelia entered the back yard\",\n",
      "        \"Event 3\": \"The underclothes is in the suitcase\",\n",
      "        \"Event 4\": \"Chloe exited the back yard\",\n",
      "        \"Event 5\": \"Amelia moved the underclothes to the pantry\",\n",
      "        \"Event 6\": \"Amelia exited the back yard\",\n",
      "        \"Event 7\": \"Carter entered the patio\",\n",
      "        \"Event 8\": \"Carter likes the cap\",\n",
      "        \"Event 9\": \"Carter exited the patio\",\n",
      "        \"Event 10\": \"Amelia dislikes the sweet potato\",\n",
      "        \"Event 11\": \"Chloe entered the patio\",\n",
      "        \"Event 12\": \"Amelia and Chloe plan to use the underclothes soon\"\n",
      "    },\n",
      "    \"Step 2: Simplify the sequence of events to focus on interactions and needs\": {\n",
      "        \"Simplified Event 1\": \"Chloe and Amelia interact in the back yard\",\n",
      "        \"Simplified Event 2\": \"Amelia moves underclothes to pantry\",\n",
      "        \"Simplified Event 3\": \"Carter interacts with cap on patio\",\n",
      "        \"Simplified Event 4\": \"Amelia and Chloe plan to use underclothes\"\n",
      "    },\n",
      "    \"Step 3: Break down observation into smaller parts to identify needs\": {\n",
      "        \"Individual Actions\": {\n",
      "            \"Chloe\": [\"entered back yard\", \"exited back yard\", \"entered patio\"],\n",
      "            \"Amelia\": [\"entered back yard\", \"moved underclothes\", \"exited back yard\", \"dislikes sweet potato\"],\n",
      "            \"Carter\": [\"entered patio\", \"likes cap\", \"exited patio\"]\n",
      "        },\n",
      "        \"Preferences\": {\n",
      "            \"Carter\": [\"likes cap\"],\n",
      "            \"Amelia\": [\"dislikes sweet potato\"]\n",
      "        }\n",
      "    },\n",
      "    \"Step 4: Identify core issue or problem\": {\n",
      "        \"Core Issue\": \"Who among the individuals would benefit from receiving helpful information?\"\n",
      "    },\n",
      "    \"Step 5: Analyze preferences and needs to determine who would benefit from helpful information\": {\n",
      "        \"Analysis\": \"Based on the simplified events, individual actions, and preferences, identify who would benefit from helpful information\"\n",
      "    },\n",
      "    \"Step 6: Determine if problem requires expertise in human behavior or preferences\": {\n",
      "        \"Expertise Required\": \"No\"\n",
      "    },\n",
      "    \"Step 7: Determine if problem is a creative challenge\": {\n",
      "        \"Creative Challenge\": \"No\"\n",
      "    },\n",
      "    \"Step 8: Create a plan to provide helpful information\": {\n",
      "        \"Plan\": \"Based on the analysis, create a plan to provide helpful information to the individual(s) who would benefit from it\"\n",
      "    },\n",
      "    \"Step 9: Identify the correct answer\": {\n",
      "        \"Correct Answer\": \"\"\n",
      "    }\n",
      "}\n",
      "```\n",
      "\n",
      "This plan provides a step-by-step structure for analyzing the observation, identifying key events and preferences, and determining who would benefit from helpful information. The final answer is left blank, as the goal is to generate a plan, not to arrive at a conclusion.\n"
     ]
    }
   ],
   "source": [
    "print(t[0][\"reasoning_structure\"])"
   ]
  },
  {
   "cell_type": "code",
   "execution_count": 74,
   "id": "21ce63e3-a37d-4530-b7d3-a65ec3248b60",
   "metadata": {},
   "outputs": [],
   "source": [
    "t4d_sorted = t4d.sort(\"story\")"
   ]
  },
  {
   "cell_type": "code",
   "execution_count": 76,
   "id": "8c1d0f37-63c8-4579-95b2-648ea7674fa9",
   "metadata": {},
   "outputs": [
    {
     "name": "stdout",
     "output_type": "stream",
     "text": [
      "Abigail dislikes the sweet potato. Carter entered the front yard. Aiden entered the bathroom. Abigail entered the bathroom. The cabbage is in the box. Abigail exited the bathroom. Aiden moved the cabbage to the treasure chest. Carter exited the front yard. Aiden exited the bathroom. Aiden loves the peach. Abigail entered the bathroom. Abigail and Aiden plan to use the cabbage soon.\n"
     ]
    },
    {
     "data": {
      "text/plain": [
       "Dataset({\n",
       "    features: ['story', 'question', 'answer', 'characters', 'distracting_characters', 'reasoning_formats', 'selected_modules', 'adapted_modules', 'reasoning_structure', 'reasoning', 'trajectory', 'answer_pred'],\n",
       "    num_rows: 564\n",
       "})"
      ]
     },
     "execution_count": 76,
     "metadata": {},
     "output_type": "execute_result"
    }
   ],
   "source": [
    "print(t4d_sorted[0][\"story\"])\n",
    "t4d_sorted"
   ]
  },
  {
   "cell_type": "code",
   "execution_count": 77,
   "id": "35e72924-9c17-4af5-b09f-42528d78f3e8",
   "metadata": {},
   "outputs": [
    {
     "data": {
      "application/vnd.jupyter.widget-view+json": {
       "model_id": "ea8a120d3b4b48a9a9de97b36b43812b",
       "version_major": 2,
       "version_minor": 0
      },
      "text/plain": [
       "Uploading the dataset shards:   0%|          | 0/1 [00:00<?, ?it/s]"
      ]
     },
     "metadata": {},
     "output_type": "display_data"
    },
    {
     "data": {
      "application/vnd.jupyter.widget-view+json": {
       "model_id": "8b5b72ef015243dca6d8a0cd3b59845f",
       "version_major": 2,
       "version_minor": 0
      },
      "text/plain": [
       "Creating parquet from Arrow format:   0%|          | 0/1 [00:00<?, ?ba/s]"
      ]
     },
     "metadata": {},
     "output_type": "display_data"
    },
    {
     "data": {
      "application/vnd.jupyter.widget-view+json": {
       "model_id": "20a6d08279bc4bd09aadeb142c377b00",
       "version_major": 2,
       "version_minor": 0
      },
      "text/plain": [
       "README.md:   0%|          | 0.00/742 [00:00<?, ?B/s]"
      ]
     },
     "metadata": {},
     "output_type": "display_data"
    },
    {
     "data": {
      "text/plain": [
       "CommitInfo(commit_url='https://huggingface.co/datasets/sachithgunasekara/self-discover-original-t4d-eval/commit/41219091c2c450afa618763174ebe04bcfee0869', commit_message='Upload dataset', commit_description='', oid='41219091c2c450afa618763174ebe04bcfee0869', pr_url=None, pr_revision=None, pr_num=None)"
      ]
     },
     "execution_count": 77,
     "metadata": {},
     "output_type": "execute_result"
    }
   ],
   "source": [
    "t4d_sorted.push_to_hub(\"sachithgunasekara/self-discover-original-t4d-eval\")"
   ]
  },
  {
   "cell_type": "markdown",
   "id": "d22422ca-eb08-41ec-ae79-19bf3569c115",
   "metadata": {},
   "source": [
    "# BBH"
   ]
  },
  {
   "cell_type": "code",
   "execution_count": 3,
   "id": "00524d77-a6fa-4bfe-9a09-4f4fa2879f82",
   "metadata": {},
   "outputs": [],
   "source": [
    "par_dir = here(\"struct_vs_unstruct/data/modified/non_self_synthesis/bbh/refined/\")"
   ]
  },
  {
   "cell_type": "code",
   "execution_count": 5,
   "id": "ab5455ce-510f-4744-af2a-7a4924314270",
   "metadata": {},
   "outputs": [
    {
     "data": {
      "application/vnd.jupyter.widget-view+json": {
       "model_id": "40222185f5da4cfd838fc809128aa68f",
       "version_major": 2,
       "version_minor": 0
      },
      "text/plain": [
       "Uploading the dataset shards:   0%|          | 0/1 [00:00<?, ?it/s]"
      ]
     },
     "metadata": {},
     "output_type": "display_data"
    },
    {
     "data": {
      "application/vnd.jupyter.widget-view+json": {
       "model_id": "4e34e99ff9d7435d80d5532f452c682d",
       "version_major": 2,
       "version_minor": 0
      },
      "text/plain": [
       "Creating parquet from Arrow format:   0%|          | 0/1 [00:00<?, ?ba/s]"
      ]
     },
     "metadata": {},
     "output_type": "display_data"
    },
    {
     "data": {
      "application/vnd.jupyter.widget-view+json": {
       "model_id": "795a69e46f4c496f877f92712bbcc5e6",
       "version_major": 2,
       "version_minor": 0
      },
      "text/plain": [
       "Uploading the dataset shards:   0%|          | 0/1 [00:00<?, ?it/s]"
      ]
     },
     "metadata": {},
     "output_type": "display_data"
    },
    {
     "data": {
      "application/vnd.jupyter.widget-view+json": {
       "model_id": "76cc942a28574d1289228d3db359f5a9",
       "version_major": 2,
       "version_minor": 0
      },
      "text/plain": [
       "Creating parquet from Arrow format:   0%|          | 0/1 [00:00<?, ?ba/s]"
      ]
     },
     "metadata": {},
     "output_type": "display_data"
    },
    {
     "data": {
      "application/vnd.jupyter.widget-view+json": {
       "model_id": "b168129ca0d9408c8776e4baf53b9332",
       "version_major": 2,
       "version_minor": 0
      },
      "text/plain": [
       "Uploading the dataset shards:   0%|          | 0/1 [00:00<?, ?it/s]"
      ]
     },
     "metadata": {},
     "output_type": "display_data"
    },
    {
     "data": {
      "application/vnd.jupyter.widget-view+json": {
       "model_id": "771af673675e4befa6426640a0729de1",
       "version_major": 2,
       "version_minor": 0
      },
      "text/plain": [
       "Creating parquet from Arrow format:   0%|          | 0/1 [00:00<?, ?ba/s]"
      ]
     },
     "metadata": {},
     "output_type": "display_data"
    },
    {
     "data": {
      "application/vnd.jupyter.widget-view+json": {
       "model_id": "aa0d71d1a8c649e18b1f27ee8af1d427",
       "version_major": 2,
       "version_minor": 0
      },
      "text/plain": [
       "Uploading the dataset shards:   0%|          | 0/1 [00:00<?, ?it/s]"
      ]
     },
     "metadata": {},
     "output_type": "display_data"
    },
    {
     "data": {
      "application/vnd.jupyter.widget-view+json": {
       "model_id": "21c4af786e674f1c80552fbc3bac7dea",
       "version_major": 2,
       "version_minor": 0
      },
      "text/plain": [
       "Creating parquet from Arrow format:   0%|          | 0/1 [00:00<?, ?ba/s]"
      ]
     },
     "metadata": {},
     "output_type": "display_data"
    },
    {
     "data": {
      "application/vnd.jupyter.widget-view+json": {
       "model_id": "c10dec2ddd894d5487b5cd9278269f92",
       "version_major": 2,
       "version_minor": 0
      },
      "text/plain": [
       "README.md:   0%|          | 0.00/1.78k [00:00<?, ?B/s]"
      ]
     },
     "metadata": {},
     "output_type": "display_data"
    },
    {
     "data": {
      "application/vnd.jupyter.widget-view+json": {
       "model_id": "ecd9ba15106340a4a287d00546939c27",
       "version_major": 2,
       "version_minor": 0
      },
      "text/plain": [
       "Uploading the dataset shards:   0%|          | 0/1 [00:00<?, ?it/s]"
      ]
     },
     "metadata": {},
     "output_type": "display_data"
    },
    {
     "data": {
      "application/vnd.jupyter.widget-view+json": {
       "model_id": "3f52c859a40146b48fcd619d8f511e1b",
       "version_major": 2,
       "version_minor": 0
      },
      "text/plain": [
       "Creating parquet from Arrow format:   0%|          | 0/1 [00:00<?, ?ba/s]"
      ]
     },
     "metadata": {},
     "output_type": "display_data"
    },
    {
     "data": {
      "application/vnd.jupyter.widget-view+json": {
       "model_id": "7c75d4a8078d4c8fa845c2a947930fbe",
       "version_major": 2,
       "version_minor": 0
      },
      "text/plain": [
       "README.md:   0%|          | 0.00/2.37k [00:00<?, ?B/s]"
      ]
     },
     "metadata": {},
     "output_type": "display_data"
    },
    {
     "data": {
      "application/vnd.jupyter.widget-view+json": {
       "model_id": "8fdc108291f344edb2f7521442aa03bf",
       "version_major": 2,
       "version_minor": 0
      },
      "text/plain": [
       "Uploading the dataset shards:   0%|          | 0/1 [00:00<?, ?it/s]"
      ]
     },
     "metadata": {},
     "output_type": "display_data"
    },
    {
     "data": {
      "application/vnd.jupyter.widget-view+json": {
       "model_id": "34958aa101b9485eb734d2d70e90089e",
       "version_major": 2,
       "version_minor": 0
      },
      "text/plain": [
       "Creating parquet from Arrow format:   0%|          | 0/1 [00:00<?, ?ba/s]"
      ]
     },
     "metadata": {},
     "output_type": "display_data"
    },
    {
     "data": {
      "application/vnd.jupyter.widget-view+json": {
       "model_id": "41f986ec54744afd85958e83505ed46a",
       "version_major": 2,
       "version_minor": 0
      },
      "text/plain": [
       "README.md:   0%|          | 0.00/2.94k [00:00<?, ?B/s]"
      ]
     },
     "metadata": {},
     "output_type": "display_data"
    },
    {
     "data": {
      "application/vnd.jupyter.widget-view+json": {
       "model_id": "41618d21f1c344b287f6f4c69d227874",
       "version_major": 2,
       "version_minor": 0
      },
      "text/plain": [
       "Uploading the dataset shards:   0%|          | 0/1 [00:00<?, ?it/s]"
      ]
     },
     "metadata": {},
     "output_type": "display_data"
    },
    {
     "data": {
      "application/vnd.jupyter.widget-view+json": {
       "model_id": "dd8d55ddb2e44609bd3951e25c830751",
       "version_major": 2,
       "version_minor": 0
      },
      "text/plain": [
       "Creating parquet from Arrow format:   0%|          | 0/1 [00:00<?, ?ba/s]"
      ]
     },
     "metadata": {},
     "output_type": "display_data"
    },
    {
     "data": {
      "application/vnd.jupyter.widget-view+json": {
       "model_id": "211f8fdeeca04b2a91888e88ac6c460b",
       "version_major": 2,
       "version_minor": 0
      },
      "text/plain": [
       "README.md:   0%|          | 0.00/3.52k [00:00<?, ?B/s]"
      ]
     },
     "metadata": {},
     "output_type": "display_data"
    },
    {
     "data": {
      "application/vnd.jupyter.widget-view+json": {
       "model_id": "ccd39fcc0b9a450e829eee4689fd6394",
       "version_major": 2,
       "version_minor": 0
      },
      "text/plain": [
       "Uploading the dataset shards:   0%|          | 0/1 [00:00<?, ?it/s]"
      ]
     },
     "metadata": {},
     "output_type": "display_data"
    },
    {
     "data": {
      "application/vnd.jupyter.widget-view+json": {
       "model_id": "3dc5b1e450a14a90a92476140653116e",
       "version_major": 2,
       "version_minor": 0
      },
      "text/plain": [
       "Creating parquet from Arrow format:   0%|          | 0/1 [00:00<?, ?ba/s]"
      ]
     },
     "metadata": {},
     "output_type": "display_data"
    },
    {
     "data": {
      "application/vnd.jupyter.widget-view+json": {
       "model_id": "8e35cc6d6a0a46d6973128f1d2a52d4a",
       "version_major": 2,
       "version_minor": 0
      },
      "text/plain": [
       "README.md:   0%|          | 0.00/4.10k [00:00<?, ?B/s]"
      ]
     },
     "metadata": {},
     "output_type": "display_data"
    },
    {
     "data": {
      "application/vnd.jupyter.widget-view+json": {
       "model_id": "89efc9f5dbcc4913aa73220d1773d805",
       "version_major": 2,
       "version_minor": 0
      },
      "text/plain": [
       "Uploading the dataset shards:   0%|          | 0/1 [00:00<?, ?it/s]"
      ]
     },
     "metadata": {},
     "output_type": "display_data"
    },
    {
     "data": {
      "application/vnd.jupyter.widget-view+json": {
       "model_id": "58da3840f7ef4afc83d6b8de9d41ee52",
       "version_major": 2,
       "version_minor": 0
      },
      "text/plain": [
       "Creating parquet from Arrow format:   0%|          | 0/1 [00:00<?, ?ba/s]"
      ]
     },
     "metadata": {},
     "output_type": "display_data"
    },
    {
     "data": {
      "application/vnd.jupyter.widget-view+json": {
       "model_id": "6d786758c348404b8ddcf9dae699107a",
       "version_major": 2,
       "version_minor": 0
      },
      "text/plain": [
       "README.md:   0%|          | 0.00/4.66k [00:00<?, ?B/s]"
      ]
     },
     "metadata": {},
     "output_type": "display_data"
    },
    {
     "data": {
      "application/vnd.jupyter.widget-view+json": {
       "model_id": "bdac9bb1a774420ebc9245737bcf240f",
       "version_major": 2,
       "version_minor": 0
      },
      "text/plain": [
       "Uploading the dataset shards:   0%|          | 0/1 [00:00<?, ?it/s]"
      ]
     },
     "metadata": {},
     "output_type": "display_data"
    },
    {
     "data": {
      "application/vnd.jupyter.widget-view+json": {
       "model_id": "36a78303b70c43ab830b63c7138868c1",
       "version_major": 2,
       "version_minor": 0
      },
      "text/plain": [
       "Creating parquet from Arrow format:   0%|          | 0/1 [00:00<?, ?ba/s]"
      ]
     },
     "metadata": {},
     "output_type": "display_data"
    },
    {
     "data": {
      "application/vnd.jupyter.widget-view+json": {
       "model_id": "ad936e0362054c20b721e02082f744f7",
       "version_major": 2,
       "version_minor": 0
      },
      "text/plain": [
       "README.md:   0%|          | 0.00/5.28k [00:00<?, ?B/s]"
      ]
     },
     "metadata": {},
     "output_type": "display_data"
    },
    {
     "data": {
      "application/vnd.jupyter.widget-view+json": {
       "model_id": "703c56052e6045e9a1e7d9e91edd3902",
       "version_major": 2,
       "version_minor": 0
      },
      "text/plain": [
       "Uploading the dataset shards:   0%|          | 0/1 [00:00<?, ?it/s]"
      ]
     },
     "metadata": {},
     "output_type": "display_data"
    },
    {
     "data": {
      "application/vnd.jupyter.widget-view+json": {
       "model_id": "b4a7eb71731f4cc6a4ca5d262415fa8e",
       "version_major": 2,
       "version_minor": 0
      },
      "text/plain": [
       "Creating parquet from Arrow format:   0%|          | 0/1 [00:00<?, ?ba/s]"
      ]
     },
     "metadata": {},
     "output_type": "display_data"
    },
    {
     "data": {
      "application/vnd.jupyter.widget-view+json": {
       "model_id": "d5b0a6d49c944c7e8cb32f08c71757e3",
       "version_major": 2,
       "version_minor": 0
      },
      "text/plain": [
       "README.md:   0%|          | 0.00/5.90k [00:00<?, ?B/s]"
      ]
     },
     "metadata": {},
     "output_type": "display_data"
    },
    {
     "data": {
      "application/vnd.jupyter.widget-view+json": {
       "model_id": "a524b774381b47378b74936b7899da77",
       "version_major": 2,
       "version_minor": 0
      },
      "text/plain": [
       "Uploading the dataset shards:   0%|          | 0/1 [00:00<?, ?it/s]"
      ]
     },
     "metadata": {},
     "output_type": "display_data"
    },
    {
     "data": {
      "application/vnd.jupyter.widget-view+json": {
       "model_id": "75274df33eb642e293a437562044d784",
       "version_major": 2,
       "version_minor": 0
      },
      "text/plain": [
       "Creating parquet from Arrow format:   0%|          | 0/1 [00:00<?, ?ba/s]"
      ]
     },
     "metadata": {},
     "output_type": "display_data"
    },
    {
     "data": {
      "application/vnd.jupyter.widget-view+json": {
       "model_id": "25f055aeecff46c38d8d734f238174b8",
       "version_major": 2,
       "version_minor": 0
      },
      "text/plain": [
       "README.md:   0%|          | 0.00/6.53k [00:00<?, ?B/s]"
      ]
     },
     "metadata": {},
     "output_type": "display_data"
    },
    {
     "data": {
      "application/vnd.jupyter.widget-view+json": {
       "model_id": "be38cfd53b6947639a1db4fe80d93030",
       "version_major": 2,
       "version_minor": 0
      },
      "text/plain": [
       "Uploading the dataset shards:   0%|          | 0/1 [00:00<?, ?it/s]"
      ]
     },
     "metadata": {},
     "output_type": "display_data"
    },
    {
     "data": {
      "application/vnd.jupyter.widget-view+json": {
       "model_id": "452216a18264445199c59b6cdaf1237c",
       "version_major": 2,
       "version_minor": 0
      },
      "text/plain": [
       "Creating parquet from Arrow format:   0%|          | 0/1 [00:00<?, ?ba/s]"
      ]
     },
     "metadata": {},
     "output_type": "display_data"
    },
    {
     "data": {
      "application/vnd.jupyter.widget-view+json": {
       "model_id": "caa723031fab4913a7d4699b1eaacbae",
       "version_major": 2,
       "version_minor": 0
      },
      "text/plain": [
       "README.md:   0%|          | 0.00/7.12k [00:00<?, ?B/s]"
      ]
     },
     "metadata": {},
     "output_type": "display_data"
    },
    {
     "data": {
      "application/vnd.jupyter.widget-view+json": {
       "model_id": "7738690d46914fe2907a9fa410aa0f72",
       "version_major": 2,
       "version_minor": 0
      },
      "text/plain": [
       "Uploading the dataset shards:   0%|          | 0/1 [00:00<?, ?it/s]"
      ]
     },
     "metadata": {},
     "output_type": "display_data"
    },
    {
     "data": {
      "application/vnd.jupyter.widget-view+json": {
       "model_id": "da08a9431b1644f3ba1c5cc9ec630212",
       "version_major": 2,
       "version_minor": 0
      },
      "text/plain": [
       "Creating parquet from Arrow format:   0%|          | 0/1 [00:00<?, ?ba/s]"
      ]
     },
     "metadata": {},
     "output_type": "display_data"
    },
    {
     "data": {
      "application/vnd.jupyter.widget-view+json": {
       "model_id": "0b56399f20464582a5b7de935cd79cb2",
       "version_major": 2,
       "version_minor": 0
      },
      "text/plain": [
       "README.md:   0%|          | 0.00/7.72k [00:00<?, ?B/s]"
      ]
     },
     "metadata": {},
     "output_type": "display_data"
    },
    {
     "data": {
      "application/vnd.jupyter.widget-view+json": {
       "model_id": "bcc67fd2bc0244939cbe134e6e1b4b8b",
       "version_major": 2,
       "version_minor": 0
      },
      "text/plain": [
       "Uploading the dataset shards:   0%|          | 0/1 [00:00<?, ?it/s]"
      ]
     },
     "metadata": {},
     "output_type": "display_data"
    },
    {
     "data": {
      "application/vnd.jupyter.widget-view+json": {
       "model_id": "5cedb6205c794fabab41b1a9e0aab4f8",
       "version_major": 2,
       "version_minor": 0
      },
      "text/plain": [
       "Creating parquet from Arrow format:   0%|          | 0/1 [00:00<?, ?ba/s]"
      ]
     },
     "metadata": {},
     "output_type": "display_data"
    },
    {
     "data": {
      "application/vnd.jupyter.widget-view+json": {
       "model_id": "7c0036ed2f9443c195b85e88316f5560",
       "version_major": 2,
       "version_minor": 0
      },
      "text/plain": [
       "README.md:   0%|          | 0.00/8.28k [00:00<?, ?B/s]"
      ]
     },
     "metadata": {},
     "output_type": "display_data"
    },
    {
     "data": {
      "application/vnd.jupyter.widget-view+json": {
       "model_id": "1e0e1b9b14194158849d6db0c2fad519",
       "version_major": 2,
       "version_minor": 0
      },
      "text/plain": [
       "Uploading the dataset shards:   0%|          | 0/1 [00:00<?, ?it/s]"
      ]
     },
     "metadata": {},
     "output_type": "display_data"
    },
    {
     "data": {
      "application/vnd.jupyter.widget-view+json": {
       "model_id": "ca7896dd171c40368f79f1b5a1dd9b31",
       "version_major": 2,
       "version_minor": 0
      },
      "text/plain": [
       "Creating parquet from Arrow format:   0%|          | 0/1 [00:00<?, ?ba/s]"
      ]
     },
     "metadata": {},
     "output_type": "display_data"
    },
    {
     "data": {
      "application/vnd.jupyter.widget-view+json": {
       "model_id": "7b9bfb3f28e04c079ec0678924ef67ca",
       "version_major": 2,
       "version_minor": 0
      },
      "text/plain": [
       "README.md:   0%|          | 0.00/8.85k [00:00<?, ?B/s]"
      ]
     },
     "metadata": {},
     "output_type": "display_data"
    },
    {
     "data": {
      "application/vnd.jupyter.widget-view+json": {
       "model_id": "b92d18e6747f4895ab17d05273a31b25",
       "version_major": 2,
       "version_minor": 0
      },
      "text/plain": [
       "Uploading the dataset shards:   0%|          | 0/1 [00:00<?, ?it/s]"
      ]
     },
     "metadata": {},
     "output_type": "display_data"
    },
    {
     "data": {
      "application/vnd.jupyter.widget-view+json": {
       "model_id": "b9bdcd00fe1246f2b44d02173a1c01d3",
       "version_major": 2,
       "version_minor": 0
      },
      "text/plain": [
       "Creating parquet from Arrow format:   0%|          | 0/1 [00:00<?, ?ba/s]"
      ]
     },
     "metadata": {},
     "output_type": "display_data"
    },
    {
     "data": {
      "application/vnd.jupyter.widget-view+json": {
       "model_id": "2d1b729116ec4f9e8f708003b6a4146c",
       "version_major": 2,
       "version_minor": 0
      },
      "text/plain": [
       "README.md:   0%|          | 0.00/9.44k [00:00<?, ?B/s]"
      ]
     },
     "metadata": {},
     "output_type": "display_data"
    },
    {
     "data": {
      "application/vnd.jupyter.widget-view+json": {
       "model_id": "9cbe266c83f643ea89cbed672fb562a5",
       "version_major": 2,
       "version_minor": 0
      },
      "text/plain": [
       "Uploading the dataset shards:   0%|          | 0/1 [00:00<?, ?it/s]"
      ]
     },
     "metadata": {},
     "output_type": "display_data"
    },
    {
     "data": {
      "application/vnd.jupyter.widget-view+json": {
       "model_id": "754007c424014c4a83d0b99418d47a12",
       "version_major": 2,
       "version_minor": 0
      },
      "text/plain": [
       "Creating parquet from Arrow format:   0%|          | 0/1 [00:00<?, ?ba/s]"
      ]
     },
     "metadata": {},
     "output_type": "display_data"
    },
    {
     "data": {
      "application/vnd.jupyter.widget-view+json": {
       "model_id": "d3b0c63c57294eb3978f368d9c1e73bd",
       "version_major": 2,
       "version_minor": 0
      },
      "text/plain": [
       "README.md:   0%|          | 0.00/10.0k [00:00<?, ?B/s]"
      ]
     },
     "metadata": {},
     "output_type": "display_data"
    },
    {
     "data": {
      "application/vnd.jupyter.widget-view+json": {
       "model_id": "28e814947c014cc5b6a412defc85f7c2",
       "version_major": 2,
       "version_minor": 0
      },
      "text/plain": [
       "Uploading the dataset shards:   0%|          | 0/1 [00:00<?, ?it/s]"
      ]
     },
     "metadata": {},
     "output_type": "display_data"
    },
    {
     "data": {
      "application/vnd.jupyter.widget-view+json": {
       "model_id": "04bb60abd568450b90bd3f0fd9ecd280",
       "version_major": 2,
       "version_minor": 0
      },
      "text/plain": [
       "Creating parquet from Arrow format:   0%|          | 0/1 [00:00<?, ?ba/s]"
      ]
     },
     "metadata": {},
     "output_type": "display_data"
    },
    {
     "data": {
      "application/vnd.jupyter.widget-view+json": {
       "model_id": "a6a9fdc3a948488fab22bb979ffab5aa",
       "version_major": 2,
       "version_minor": 0
      },
      "text/plain": [
       "README.md:   0%|          | 0.00/10.6k [00:00<?, ?B/s]"
      ]
     },
     "metadata": {},
     "output_type": "display_data"
    },
    {
     "data": {
      "application/vnd.jupyter.widget-view+json": {
       "model_id": "1e3be8fe020847dda8ffa3223c99e49f",
       "version_major": 2,
       "version_minor": 0
      },
      "text/plain": [
       "Uploading the dataset shards:   0%|          | 0/1 [00:00<?, ?it/s]"
      ]
     },
     "metadata": {},
     "output_type": "display_data"
    },
    {
     "data": {
      "application/vnd.jupyter.widget-view+json": {
       "model_id": "d5b40c5a06e94b75bf653577f8bd81b4",
       "version_major": 2,
       "version_minor": 0
      },
      "text/plain": [
       "Creating parquet from Arrow format:   0%|          | 0/1 [00:00<?, ?ba/s]"
      ]
     },
     "metadata": {},
     "output_type": "display_data"
    },
    {
     "data": {
      "application/vnd.jupyter.widget-view+json": {
       "model_id": "06c84711c9eb4a619f701e816e3dd7d9",
       "version_major": 2,
       "version_minor": 0
      },
      "text/plain": [
       "README.md:   0%|          | 0.00/11.2k [00:00<?, ?B/s]"
      ]
     },
     "metadata": {},
     "output_type": "display_data"
    },
    {
     "data": {
      "application/vnd.jupyter.widget-view+json": {
       "model_id": "91972a04535640e59b8248faf9c1f82b",
       "version_major": 2,
       "version_minor": 0
      },
      "text/plain": [
       "Uploading the dataset shards:   0%|          | 0/1 [00:00<?, ?it/s]"
      ]
     },
     "metadata": {},
     "output_type": "display_data"
    },
    {
     "data": {
      "application/vnd.jupyter.widget-view+json": {
       "model_id": "020de8258cdd4616ac117c4b772fba30",
       "version_major": 2,
       "version_minor": 0
      },
      "text/plain": [
       "Creating parquet from Arrow format:   0%|          | 0/1 [00:00<?, ?ba/s]"
      ]
     },
     "metadata": {},
     "output_type": "display_data"
    },
    {
     "data": {
      "application/vnd.jupyter.widget-view+json": {
       "model_id": "db8605df4ee84f8d8d06f1e96ac82b0d",
       "version_major": 2,
       "version_minor": 0
      },
      "text/plain": [
       "README.md:   0%|          | 0.00/11.8k [00:00<?, ?B/s]"
      ]
     },
     "metadata": {},
     "output_type": "display_data"
    },
    {
     "data": {
      "application/vnd.jupyter.widget-view+json": {
       "model_id": "f5585b79ecca477f9a3c3033fc0cc67c",
       "version_major": 2,
       "version_minor": 0
      },
      "text/plain": [
       "Uploading the dataset shards:   0%|          | 0/1 [00:00<?, ?it/s]"
      ]
     },
     "metadata": {},
     "output_type": "display_data"
    },
    {
     "data": {
      "application/vnd.jupyter.widget-view+json": {
       "model_id": "37559519894c41298941cb28c2fde059",
       "version_major": 2,
       "version_minor": 0
      },
      "text/plain": [
       "Creating parquet from Arrow format:   0%|          | 0/1 [00:00<?, ?ba/s]"
      ]
     },
     "metadata": {},
     "output_type": "display_data"
    },
    {
     "data": {
      "application/vnd.jupyter.widget-view+json": {
       "model_id": "894ac568512443a1991c6a5f84198289",
       "version_major": 2,
       "version_minor": 0
      },
      "text/plain": [
       "README.md:   0%|          | 0.00/12.4k [00:00<?, ?B/s]"
      ]
     },
     "metadata": {},
     "output_type": "display_data"
    },
    {
     "data": {
      "application/vnd.jupyter.widget-view+json": {
       "model_id": "c09734cd78004e649dff226ee5f1292d",
       "version_major": 2,
       "version_minor": 0
      },
      "text/plain": [
       "Uploading the dataset shards:   0%|          | 0/1 [00:00<?, ?it/s]"
      ]
     },
     "metadata": {},
     "output_type": "display_data"
    },
    {
     "data": {
      "application/vnd.jupyter.widget-view+json": {
       "model_id": "2920cdebb0e0481ba431a4b24883c6dc",
       "version_major": 2,
       "version_minor": 0
      },
      "text/plain": [
       "Creating parquet from Arrow format:   0%|          | 0/1 [00:00<?, ?ba/s]"
      ]
     },
     "metadata": {},
     "output_type": "display_data"
    },
    {
     "data": {
      "application/vnd.jupyter.widget-view+json": {
       "model_id": "25673b6f11ca469ba61441336a2c82d7",
       "version_major": 2,
       "version_minor": 0
      },
      "text/plain": [
       "README.md:   0%|          | 0.00/13.0k [00:00<?, ?B/s]"
      ]
     },
     "metadata": {},
     "output_type": "display_data"
    },
    {
     "data": {
      "application/vnd.jupyter.widget-view+json": {
       "model_id": "e218c8461ace4183919e39713e85a639",
       "version_major": 2,
       "version_minor": 0
      },
      "text/plain": [
       "Uploading the dataset shards:   0%|          | 0/1 [00:00<?, ?it/s]"
      ]
     },
     "metadata": {},
     "output_type": "display_data"
    },
    {
     "data": {
      "application/vnd.jupyter.widget-view+json": {
       "model_id": "dfacb8bc5a7f476e98b8ee2de54b0ac4",
       "version_major": 2,
       "version_minor": 0
      },
      "text/plain": [
       "Creating parquet from Arrow format:   0%|          | 0/1 [00:00<?, ?ba/s]"
      ]
     },
     "metadata": {},
     "output_type": "display_data"
    },
    {
     "data": {
      "application/vnd.jupyter.widget-view+json": {
       "model_id": "668e276c482a43f6b789a6cf56c9b362",
       "version_major": 2,
       "version_minor": 0
      },
      "text/plain": [
       "README.md:   0%|          | 0.00/13.7k [00:00<?, ?B/s]"
      ]
     },
     "metadata": {},
     "output_type": "display_data"
    },
    {
     "data": {
      "application/vnd.jupyter.widget-view+json": {
       "model_id": "f705217d8bf54c899aca5a5be848cf30",
       "version_major": 2,
       "version_minor": 0
      },
      "text/plain": [
       "Uploading the dataset shards:   0%|          | 0/1 [00:00<?, ?it/s]"
      ]
     },
     "metadata": {},
     "output_type": "display_data"
    },
    {
     "data": {
      "application/vnd.jupyter.widget-view+json": {
       "model_id": "662da546ad1c40a9ba547e4aed3641c4",
       "version_major": 2,
       "version_minor": 0
      },
      "text/plain": [
       "Creating parquet from Arrow format:   0%|          | 0/1 [00:00<?, ?ba/s]"
      ]
     },
     "metadata": {},
     "output_type": "display_data"
    },
    {
     "data": {
      "application/vnd.jupyter.widget-view+json": {
       "model_id": "f4b28182b72a438097054aac415e9c39",
       "version_major": 2,
       "version_minor": 0
      },
      "text/plain": [
       "README.md:   0%|          | 0.00/14.3k [00:00<?, ?B/s]"
      ]
     },
     "metadata": {},
     "output_type": "display_data"
    },
    {
     "data": {
      "application/vnd.jupyter.widget-view+json": {
       "model_id": "66f1a359037345dbbb14ef5c96ae73da",
       "version_major": 2,
       "version_minor": 0
      },
      "text/plain": [
       "Uploading the dataset shards:   0%|          | 0/1 [00:00<?, ?it/s]"
      ]
     },
     "metadata": {},
     "output_type": "display_data"
    },
    {
     "data": {
      "application/vnd.jupyter.widget-view+json": {
       "model_id": "037aba635cb34e8a81c00099947cec3d",
       "version_major": 2,
       "version_minor": 0
      },
      "text/plain": [
       "Creating parquet from Arrow format:   0%|          | 0/1 [00:00<?, ?ba/s]"
      ]
     },
     "metadata": {},
     "output_type": "display_data"
    },
    {
     "data": {
      "application/vnd.jupyter.widget-view+json": {
       "model_id": "0523c184bb8c4c85a4cca19599f22d40",
       "version_major": 2,
       "version_minor": 0
      },
      "text/plain": [
       "README.md:   0%|          | 0.00/14.9k [00:00<?, ?B/s]"
      ]
     },
     "metadata": {},
     "output_type": "display_data"
    }
   ],
   "source": [
    "for cat in sorted(os.listdir(par_dir)):\n",
    "    subset = Dataset.load_from_disk(os.path.join(par_dir, cat))\n",
    "    subset.push_to_hub(\"sachithgunasekara/self-discover-modified-bbh-eval\", cat)"
   ]
  }
 ],
 "metadata": {
  "kernelspec": {
   "display_name": "Python 3 (ipykernel)",
   "language": "python",
   "name": "python3"
  },
  "language_info": {
   "codemirror_mode": {
    "name": "ipython",
    "version": 3
   },
   "file_extension": ".py",
   "mimetype": "text/x-python",
   "name": "python",
   "nbconvert_exporter": "python",
   "pygments_lexer": "ipython3",
   "version": "3.8.10"
  }
 },
 "nbformat": 4,
 "nbformat_minor": 5
}
