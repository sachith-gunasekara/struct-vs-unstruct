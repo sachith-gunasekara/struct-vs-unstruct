{
 "cells": [
  {
   "cell_type": "markdown",
   "id": "55fe678e-1c30-4e49-a6e7-a1178e7888ec",
   "metadata": {},
   "source": [
    "# T4D"
   ]
  },
  {
   "cell_type": "code",
   "execution_count": 1,
   "id": "3d8804b0-88f5-46ad-8d3b-cbd470719d0d",
   "metadata": {},
   "outputs": [],
   "source": [
    "from datasets import Dataset\n",
    "from pyprojroot import here"
   ]
  },
  {
   "cell_type": "code",
   "execution_count": 2,
   "id": "58c48cfa-662d-448a-a6cf-e5f023e56d48",
   "metadata": {},
   "outputs": [],
   "source": [
    "chk_dir = here(\"struct_vs_unstruct/data/llama3.1_405B/original/non_self_synthesis/t4d/t4d-/t4d_eval\")"
   ]
  },
  {
   "cell_type": "code",
   "execution_count": 3,
   "id": "5c107970-cc9f-4d6d-a506-7d268c1fcf25",
   "metadata": {},
   "outputs": [],
   "source": [
    "dataset = Dataset.load_from_disk(chk_dir)"
   ]
  },
  {
   "cell_type": "code",
   "execution_count": 4,
   "id": "840b1c84-9ad8-4632-8615-453e94d49c0f",
   "metadata": {},
   "outputs": [
    {
     "data": {
      "text/plain": [
       "Dataset({\n",
       "    features: ['story', 'question', 'answer', 'characters', 'distracting_characters', 'reasoning_formats', 'selected_modules', 'adapted_modules', 'reasoning_structure', 'reasoning', 'trajectory', 'answer_pred'],\n",
       "    num_rows: 564\n",
       "})"
      ]
     },
     "execution_count": 4,
     "metadata": {},
     "output_type": "execute_result"
    }
   ],
   "source": [
    "dataset"
   ]
  },
  {
   "cell_type": "code",
   "execution_count": 5,
   "id": "6e6fb8c2-dfba-4016-9717-4ab53c578907",
   "metadata": {},
   "outputs": [
    {
     "data": {
      "text/plain": [
       "{'A and B, but since the options do not allow for multiple selections, the most direct beneficiary of the information, as per the analysis, would be the one who has actively moved the skirt and is planning to use it.',\n",
       " 'A and C.',\n",
       " 'A.',\n",
       " 'A. Abigail and B. Aiden.',\n",
       " 'A. Abigail.',\n",
       " 'A. Aiden and also it could be C. Abigail as both would benefit from receiving helpful information but since the question is about \"Who among the individuals would benefit from receiving helpful information?\" it is more correct to choose one of them.',\n",
       " 'A. Aiden.',\n",
       " 'A. Alexander and B. Jackson.',\n",
       " 'A. Alexander.',\n",
       " 'A. Amelia.',\n",
       " 'A. Aria.',\n",
       " 'A. Ava.',\n",
       " 'A. Avery',\n",
       " 'A. Avery.',\n",
       " 'A. Benjamin and C. Alexander.',\n",
       " 'A. Benjamin and C. Ella.',\n",
       " 'A. Benjamin.',\n",
       " 'A. Carter.',\n",
       " 'A. Charlotte.',\n",
       " 'A. Chloe and C. Mason.',\n",
       " 'A. Chloe.',\n",
       " 'A. Elizabeth.',\n",
       " 'A. Ella.',\n",
       " 'A. Emily and C. Jack.',\n",
       " 'A. Emily.',\n",
       " 'A. Emma.',\n",
       " 'A. Ethan',\n",
       " 'A. Ethan.',\n",
       " 'A. Evelyn.',\n",
       " 'A. Hannah.',\n",
       " 'A. Hunter.',\n",
       " 'A. Isabella.',\n",
       " 'A. Isla.',\n",
       " 'A. Jack',\n",
       " 'A. Jack.',\n",
       " 'A. Jackson.',\n",
       " 'A. Jacob.',\n",
       " 'A. James.',\n",
       " 'A. Jayden.',\n",
       " 'A. Liam',\n",
       " 'A. Liam.',\n",
       " 'A. Lily.',\n",
       " 'A. Logan.',\n",
       " 'A. Lucas.',\n",
       " 'A. Mason.',\n",
       " 'A. Mia and also B. Alexander would benefit, but since the question asks for a single choice, it is more accurate to say that both would benefit, however, given the options, one should select the option that at least includes one of the beneficiaries, in this case, A. Mia.',\n",
       " 'A. Mia.',\n",
       " 'A. Mila.',\n",
       " 'A. Nathan.',\n",
       " 'A. Noah and B. Isla.',\n",
       " 'A. Noah.',\n",
       " 'A. Oliver.',\n",
       " 'A. Olivia.',\n",
       " 'A. Owen.',\n",
       " 'A. Sophia and C. Logan.',\n",
       " 'A. Sophia.',\n",
       " 'A. William.',\n",
       " 'B.',\n",
       " 'B. Abigail',\n",
       " 'B. Abigail.',\n",
       " 'B. Aiden.',\n",
       " 'B. Alexander.',\n",
       " 'B. Amelia.',\n",
       " 'B. Aria.',\n",
       " 'B. Ava',\n",
       " 'B. Ava and C. Avery.',\n",
       " 'B. Ava.',\n",
       " 'B. Avery and C. Lily.',\n",
       " 'B. Avery.',\n",
       " 'B. Benjamin.',\n",
       " 'B. Carter.',\n",
       " 'B. Charlotte and also C. Mia would be correct but the question only allows one answer, and Charlotte is more involved with the socks.',\n",
       " 'B. Charlotte.',\n",
       " 'B. Chloe and also C. Hannah.',\n",
       " 'B. Chloe.',\n",
       " 'B. Chloe.\"',\n",
       " 'B. Elizabeth.',\n",
       " 'B. Ella.',\n",
       " 'B. Emily.',\n",
       " 'B. Emma.',\n",
       " 'B. Ethan',\n",
       " 'B. Ethan.',\n",
       " 'B. Evelyn.',\n",
       " 'B. Hannah.',\n",
       " 'B. Hunter.',\n",
       " 'B. Isabella.',\n",
       " 'B. Isla',\n",
       " 'B. Isla.',\n",
       " 'B. Jack',\n",
       " 'B. Jack.',\n",
       " 'B. Jackson.',\n",
       " 'B. Jacob.',\n",
       " 'B. James.',\n",
       " 'B. Jayden',\n",
       " 'B. Jayden.',\n",
       " 'B. Liam',\n",
       " 'B. Liam.',\n",
       " 'B. Lily and also A. Emma.',\n",
       " 'B. Lily.',\n",
       " 'B. Logan.',\n",
       " 'B. Lucas.',\n",
       " 'B. Mason.',\n",
       " 'B. Mia',\n",
       " 'B. Mia.',\n",
       " 'B. Mila.',\n",
       " 'B. Nathan and C. Hannah.',\n",
       " 'B. Nathan and also A. Amelia.',\n",
       " 'B. Nathan.',\n",
       " 'B. Noah.',\n",
       " 'B. Oliver.',\n",
       " 'B. Olivia.',\n",
       " 'B. Owen.',\n",
       " 'B. Sophia.',\n",
       " 'B. William and C. Ava.',\n",
       " 'B. William.',\n",
       " 'C.',\n",
       " 'C. Abigail',\n",
       " 'C. Abigail.',\n",
       " 'C. Aiden',\n",
       " 'C. Aiden.',\n",
       " 'C. Alexander.',\n",
       " 'C. Amelia.',\n",
       " 'C. Aria.',\n",
       " 'C. Ava.',\n",
       " 'C. Avery.',\n",
       " 'C. Benjamin.',\n",
       " 'C. Carter.',\n",
       " 'C. Charlotte.',\n",
       " 'C. Chloe.',\n",
       " 'C. Elizabeth.',\n",
       " 'C. Ella.',\n",
       " 'C. Emily.',\n",
       " 'C. Emma and also A. Abigail.',\n",
       " 'C. Emma.',\n",
       " 'C. Ethan.',\n",
       " 'C. Evelyn.',\n",
       " 'C. Hannah.',\n",
       " 'C. Hunter.',\n",
       " 'C. Isabella.',\n",
       " 'C. Isla.',\n",
       " 'C. Jack.',\n",
       " 'C. Jackson.',\n",
       " 'C. Jacob.',\n",
       " 'C. James.',\n",
       " 'C. Jayden.',\n",
       " 'C. Liam.',\n",
       " 'C. Lily.',\n",
       " 'C. Logan.',\n",
       " 'C. Lucas',\n",
       " 'C. Lucas.',\n",
       " 'C. Mason.',\n",
       " 'C. Mia.',\n",
       " 'C. Mila.',\n",
       " 'C. Noah.',\n",
       " 'C. None of the above.',\n",
       " 'C. Oliver.',\n",
       " 'C. Olivia.',\n",
       " 'C. Owen.',\n",
       " 'C. Sophia',\n",
       " 'C. Sophia.',\n",
       " 'C. William.',\n",
       " 'D. None of the above',\n",
       " 'D. None of the above.'}"
      ]
     },
     "execution_count": 5,
     "metadata": {},
     "output_type": "execute_result"
    }
   ],
   "source": [
    "set(dataset[\"answer_pred\"])"
   ]
  },
  {
   "cell_type": "code",
   "execution_count": 6,
   "id": "a0e04d89-7cbb-4719-ba4c-b358f186158b",
   "metadata": {},
   "outputs": [
    {
     "data": {
      "application/vnd.jupyter.widget-view+json": {
       "model_id": "2bacc59acd694e3482e5950d902d4917",
       "version_major": 2,
       "version_minor": 0
      },
      "text/plain": [
       "Map:   0%|          | 0/564 [00:00<?, ? examples/s]"
      ]
     },
     "metadata": {},
     "output_type": "display_data"
    }
   ],
   "source": [
    "def map_fn(instance):    \n",
    "    return {\n",
    "        \"answer_pred\": instance[\"answer_pred\"].translate(str.maketrans(\"\", \"\", '.\"')) if instance[\"answer_pred\"] else None\n",
    "    }\n",
    "\n",
    "new_ds = dataset.map(map_fn, load_from_cache_file=False)"
   ]
  },
  {
   "cell_type": "code",
   "execution_count": 7,
   "id": "1a63efd8-04fa-41e8-9acb-4703d4280ca0",
   "metadata": {},
   "outputs": [
    {
     "data": {
      "application/vnd.jupyter.widget-view+json": {
       "model_id": "e9c20b306f73476da30ea4c314b34c0b",
       "version_major": 2,
       "version_minor": 0
      },
      "text/plain": [
       "Filter:   0%|          | 0/564 [00:00<?, ? examples/s]"
      ]
     },
     "metadata": {},
     "output_type": "display_data"
    },
    {
     "data": {
      "text/plain": [
       "0.7198581560283688"
      ]
     },
     "execution_count": 7,
     "metadata": {},
     "output_type": "execute_result"
    }
   ],
   "source": [
    "t4d = lambda instance, y, y_pred: instance[y] in instance[y_pred] and instance[y] == str(instance[y_pred].translate(str.maketrans(\"\", \"\", \".\"))[2:])\n",
    "\n",
    "corr = new_ds.filter(lambda x: t4d(x, \"answer\", \"answer_pred\"))\n",
    "corr.num_rows / new_ds.num_rows"
   ]
  },
  {
   "cell_type": "code",
   "execution_count": 10,
   "id": "ae13a3bd-0a19-4869-a532-b99e9d186c1a",
   "metadata": {},
   "outputs": [
    {
     "data": {
      "application/vnd.jupyter.widget-view+json": {
       "model_id": "e367847ae9e746e7b17c4573714275db",
       "version_major": 2,
       "version_minor": 0
      },
      "text/plain": [
       "Saving the dataset (0/1 shards):   0%|          | 0/564 [00:00<?, ? examples/s]"
      ]
     },
     "metadata": {},
     "output_type": "display_data"
    }
   ],
   "source": [
    "new_ds.save_to_disk(here(\"struct_vs_unstruct/data/llama3.1_405B/original/non_self_synthesis/t4d/t4d-/refined/t4d_eval\"))"
   ]
  },
  {
   "cell_type": "code",
   "execution_count": 11,
   "id": "a7e6cb52-b480-463b-97a1-640dc49545f5",
   "metadata": {},
   "outputs": [
    {
     "data": {
      "application/vnd.jupyter.widget-view+json": {
       "model_id": "de5424fa30f24b3eb3597946de570090",
       "version_major": 2,
       "version_minor": 0
      },
      "text/plain": [
       "Uploading the dataset shards:   0%|          | 0/1 [00:00<?, ?it/s]"
      ]
     },
     "metadata": {},
     "output_type": "display_data"
    },
    {
     "data": {
      "application/vnd.jupyter.widget-view+json": {
       "model_id": "ff78b5a4b08841f5bf2db45c5c8fa407",
       "version_major": 2,
       "version_minor": 0
      },
      "text/plain": [
       "Creating parquet from Arrow format:   0%|          | 0/1 [00:00<?, ?ba/s]"
      ]
     },
     "metadata": {},
     "output_type": "display_data"
    },
    {
     "data": {
      "application/vnd.jupyter.widget-view+json": {
       "model_id": "976b5b928aa84d83a9eff40e5b6fab3e",
       "version_major": 2,
       "version_minor": 0
      },
      "text/plain": [
       "README.md:   0%|          | 0.00/766 [00:00<?, ?B/s]"
      ]
     },
     "metadata": {},
     "output_type": "display_data"
    },
    {
     "data": {
      "text/plain": [
       "CommitInfo(commit_url='https://huggingface.co/datasets/sachithgunasekara/self-discover-original-t4d-eval/commit/437d229f3facbcf25c153d65c1d794336b3f9aab', commit_message='Upload dataset', commit_description='', oid='437d229f3facbcf25c153d65c1d794336b3f9aab', pr_url=None, pr_revision=None, pr_num=None)"
      ]
     },
     "execution_count": 11,
     "metadata": {},
     "output_type": "execute_result"
    }
   ],
   "source": [
    "new_ds.push_to_hub(\"sachithgunasekara/self-discover-original-t4d-eval\")"
   ]
  }
 ],
 "metadata": {
  "kernelspec": {
   "display_name": "Python 3 (ipykernel)",
   "language": "python",
   "name": "python3"
  },
  "language_info": {
   "codemirror_mode": {
    "name": "ipython",
    "version": 3
   },
   "file_extension": ".py",
   "mimetype": "text/x-python",
   "name": "python",
   "nbconvert_exporter": "python",
   "pygments_lexer": "ipython3",
   "version": "3.8.10"
  }
 },
 "nbformat": 4,
 "nbformat_minor": 5
}
