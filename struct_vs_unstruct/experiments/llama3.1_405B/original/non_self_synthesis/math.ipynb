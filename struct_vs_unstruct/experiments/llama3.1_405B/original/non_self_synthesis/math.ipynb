{
 "cells": [
  {
   "cell_type": "code",
   "execution_count": 20,
   "id": "6b84502e-c7bd-4f41-bc95-7afdac4cd95e",
   "metadata": {},
   "outputs": [
    {
     "name": "stdout",
     "output_type": "stream",
     "text": [
      "Collecting mdtex2html\n",
      "  Downloading mdtex2html-1.3.0-py3-none-any.whl.metadata (4.1 kB)\n",
      "Collecting markdown (from mdtex2html)\n",
      "  Using cached Markdown-3.7-py3-none-any.whl.metadata (7.0 kB)\n",
      "Collecting latex2mathml (from mdtex2html)\n",
      "  Downloading latex2mathml-3.77.0-py3-none-any.whl.metadata (14 kB)\n",
      "Requirement already satisfied: importlib-metadata>=4.4 in /home/ubuntu/jupyter/env/lib/python3.8/site-packages (from markdown->mdtex2html) (7.1.0)\n",
      "Requirement already satisfied: zipp>=0.5 in /home/ubuntu/jupyter/env/lib/python3.8/site-packages (from importlib-metadata>=4.4->markdown->mdtex2html) (3.18.2)\n",
      "Downloading mdtex2html-1.3.0-py3-none-any.whl (13 kB)\n",
      "Downloading latex2mathml-3.77.0-py3-none-any.whl (73 kB)\n",
      "Using cached Markdown-3.7-py3-none-any.whl (106 kB)\n",
      "Installing collected packages: latex2mathml, markdown, mdtex2html\n",
      "Successfully installed latex2mathml-3.77.0 markdown-3.7 mdtex2html-1.3.0\n"
     ]
    }
   ],
   "source": [
    "!pip install mdtex2html"
   ]
  },
  {
   "cell_type": "code",
   "execution_count": 32,
   "id": "a13c8e9c-657a-48f1-a07f-49e25a090a4c",
   "metadata": {},
   "outputs": [
    {
     "name": "stdout",
     "output_type": "stream",
     "text": [
      "Collecting matplotlib\n",
      "  Downloading matplotlib-3.7.5-cp38-cp38-manylinux_2_17_aarch64.manylinux2014_aarch64.whl.metadata (5.7 kB)\n",
      "Collecting contourpy>=1.0.1 (from matplotlib)\n",
      "  Downloading contourpy-1.1.1-cp38-cp38-manylinux_2_17_aarch64.manylinux2014_aarch64.whl.metadata (5.9 kB)\n",
      "Collecting cycler>=0.10 (from matplotlib)\n",
      "  Downloading cycler-0.12.1-py3-none-any.whl.metadata (3.8 kB)\n",
      "Collecting fonttools>=4.22.0 (from matplotlib)\n",
      "  Downloading fonttools-4.54.1-cp38-cp38-manylinux_2_17_aarch64.manylinux2014_aarch64.whl.metadata (163 kB)\n",
      "Collecting kiwisolver>=1.0.1 (from matplotlib)\n",
      "  Downloading kiwisolver-1.4.7-cp38-cp38-manylinux_2_17_aarch64.manylinux2014_aarch64.whl.metadata (6.3 kB)\n",
      "Requirement already satisfied: numpy<2,>=1.20 in /home/ubuntu/jupyter/env/lib/python3.8/site-packages (from matplotlib) (1.24.4)\n",
      "Requirement already satisfied: packaging>=20.0 in /home/ubuntu/jupyter/env/lib/python3.8/site-packages (from matplotlib) (24.1)\n",
      "Collecting pillow>=6.2.0 (from matplotlib)\n",
      "  Downloading pillow-10.4.0-cp38-cp38-manylinux_2_28_aarch64.whl.metadata (9.2 kB)\n",
      "Collecting pyparsing>=2.3.1 (from matplotlib)\n",
      "  Downloading pyparsing-3.1.4-py3-none-any.whl.metadata (5.1 kB)\n",
      "Requirement already satisfied: python-dateutil>=2.7 in /home/ubuntu/jupyter/env/lib/python3.8/site-packages (from matplotlib) (2.9.0.post0)\n",
      "Requirement already satisfied: importlib-resources>=3.2.0 in /home/ubuntu/jupyter/env/lib/python3.8/site-packages (from matplotlib) (6.4.0)\n",
      "Requirement already satisfied: zipp>=3.1.0 in /home/ubuntu/jupyter/env/lib/python3.8/site-packages (from importlib-resources>=3.2.0->matplotlib) (3.18.2)\n",
      "Requirement already satisfied: six>=1.5 in /home/ubuntu/jupyter/env/lib/python3.8/site-packages (from python-dateutil>=2.7->matplotlib) (1.16.0)\n",
      "Downloading matplotlib-3.7.5-cp38-cp38-manylinux_2_17_aarch64.manylinux2014_aarch64.whl (11.4 MB)\n",
      "\u001b[2K   \u001b[90m━━━━━━━━━━━━━━━━━━━━━━━━━━━━━━━━━━━━━━━━\u001b[0m \u001b[32m11.4/11.4 MB\u001b[0m \u001b[31m104.1 MB/s\u001b[0m eta \u001b[36m0:00:00\u001b[0m\n",
      "\u001b[?25hDownloading contourpy-1.1.1-cp38-cp38-manylinux_2_17_aarch64.manylinux2014_aarch64.whl (285 kB)\n",
      "Downloading cycler-0.12.1-py3-none-any.whl (8.3 kB)\n",
      "Downloading fonttools-4.54.1-cp38-cp38-manylinux_2_17_aarch64.manylinux2014_aarch64.whl (4.7 MB)\n",
      "\u001b[2K   \u001b[90m━━━━━━━━━━━━━━━━━━━━━━━━━━━━━━━━━━━━━━━━\u001b[0m \u001b[32m4.7/4.7 MB\u001b[0m \u001b[31m104.0 MB/s\u001b[0m eta \u001b[36m0:00:00\u001b[0m\n",
      "\u001b[?25hDownloading kiwisolver-1.4.7-cp38-cp38-manylinux_2_17_aarch64.manylinux2014_aarch64.whl (1.4 MB)\n",
      "\u001b[2K   \u001b[90m━━━━━━━━━━━━━━━━━━━━━━━━━━━━━━━━━━━━━━━━\u001b[0m \u001b[32m1.4/1.4 MB\u001b[0m \u001b[31m70.3 MB/s\u001b[0m eta \u001b[36m0:00:00\u001b[0m\n",
      "\u001b[?25hDownloading pillow-10.4.0-cp38-cp38-manylinux_2_28_aarch64.whl (4.4 MB)\n",
      "\u001b[2K   \u001b[90m━━━━━━━━━━━━━━━━━━━━━━━━━━━━━━━━━━━━━━━━\u001b[0m \u001b[32m4.4/4.4 MB\u001b[0m \u001b[31m101.9 MB/s\u001b[0m eta \u001b[36m0:00:00\u001b[0m\n",
      "\u001b[?25hDownloading pyparsing-3.1.4-py3-none-any.whl (104 kB)\n",
      "Installing collected packages: pyparsing, pillow, kiwisolver, fonttools, cycler, contourpy, matplotlib\n",
      "Successfully installed contourpy-1.1.1 cycler-0.12.1 fonttools-4.54.1 kiwisolver-1.4.7 matplotlib-3.7.5 pillow-10.4.0 pyparsing-3.1.4\n"
     ]
    }
   ],
   "source": [
    "!pip install matplotlib"
   ]
  },
  {
   "cell_type": "code",
   "execution_count": 38,
   "id": "fbe06836-f48c-4df1-b481-46b68b4b8f60",
   "metadata": {},
   "outputs": [
    {
     "name": "stdout",
     "output_type": "stream",
     "text": [
      "Requirement already satisfied: markdown in /home/ubuntu/jupyter/env/lib/python3.8/site-packages (3.7)\n",
      "Requirement already satisfied: importlib-metadata>=4.4 in /home/ubuntu/jupyter/env/lib/python3.8/site-packages (from markdown) (7.1.0)\n",
      "Requirement already satisfied: zipp>=0.5 in /home/ubuntu/jupyter/env/lib/python3.8/site-packages (from importlib-metadata>=4.4->markdown) (3.18.2)\n"
     ]
    }
   ],
   "source": [
    "!pip install markdown"
   ]
  },
  {
   "cell_type": "code",
   "execution_count": 89,
   "id": "9616ba44-f44a-44c7-b97a-d888ecb7c0f1",
   "metadata": {},
   "outputs": [],
   "source": [
    "import json\n",
    "from pyprojroot import here\n",
    "from datasets import Dataset\n",
    "import mdtex2html\n",
    "import matplotlib.pyplot as plt\n",
    "from markdown import markdown"
   ]
  },
  {
   "cell_type": "markdown",
   "id": "ae588dae-5373-403e-8bad-b30be325a921",
   "metadata": {},
   "source": [
    "# Original"
   ]
  },
  {
   "cell_type": "code",
   "execution_count": 53,
   "id": "38569b9c-d685-443c-a15d-13ede2792e9c",
   "metadata": {},
   "outputs": [],
   "source": [
    "par_dir = here(\"struct_vs_unstruct/data/original/non_self_synthesis/math/math-/math_eval\")"
   ]
  },
  {
   "cell_type": "code",
   "execution_count": 54,
   "id": "49136db5-74c6-4d7b-a2e5-ed12ce1e2ef2",
   "metadata": {},
   "outputs": [
    {
     "data": {
      "text/plain": [
       "Dataset({\n",
       "    features: ['problem', 'level', 'type', 'solution', 'reasoning_formats', 'selected_modules', 'adapted_modules', 'reasoning_structure', 'reasoning', 'trajectory', 'answer_pred'],\n",
       "    num_rows: 200\n",
       "})"
      ]
     },
     "execution_count": 54,
     "metadata": {},
     "output_type": "execute_result"
    }
   ],
   "source": [
    "ds = Dataset.load_from_disk(par_dir)\n",
    "ds"
   ]
  },
  {
   "cell_type": "code",
   "execution_count": 63,
   "id": "766016f9-00c4-4400-98b1-3585eaae5196",
   "metadata": {},
   "outputs": [
    {
     "data": {
      "application/vnd.jupyter.widget-view+json": {
       "model_id": "434e976ce7e5434f9d345df8a8475299",
       "version_major": 2,
       "version_minor": 0
      },
      "text/plain": [
       "Filter:   0%|          | 0/200 [00:00<?, ? examples/s]"
      ]
     },
     "metadata": {},
     "output_type": "display_data"
    },
    {
     "data": {
      "text/plain": [
       "Dataset({\n",
       "    features: ['problem', 'level', 'type', 'solution', 'reasoning_formats', 'selected_modules', 'adapted_modules', 'reasoning_structure', 'reasoning', 'trajectory', 'answer_pred'],\n",
       "    num_rows: 8\n",
       "})"
      ]
     },
     "execution_count": 63,
     "metadata": {},
     "output_type": "execute_result"
    }
   ],
   "source": [
    "none_ds = ds.filter(lambda x: x[\"answer_pred\"] == None)\n",
    "none_ds"
   ]
  },
  {
   "cell_type": "code",
   "execution_count": 64,
   "id": "916be634-c822-4bc5-a984-e46dfb961456",
   "metadata": {},
   "outputs": [
    {
     "data": {
      "application/vnd.jupyter.widget-view+json": {
       "model_id": "b584bbec83504c608acff50792a02eaa",
       "version_major": 2,
       "version_minor": 0
      },
      "text/plain": [
       "Map:   0%|          | 0/200 [00:00<?, ? examples/s]"
      ]
     },
     "metadata": {},
     "output_type": "display_data"
    }
   ],
   "source": [
    "import re\n",
    "def map_fn(instance):\n",
    "    if instance[\"answer_pred\"] == None:\n",
    "        text = \"The final answer is:\"\n",
    "        pattern = fr\"(?<={text}).*\"\n",
    "    \n",
    "        response = instance[\"trajectory\"]\n",
    "    \n",
    "        try:\n",
    "            answer, trajectory = re.search(pattern, response).group(0).strip(), re.sub(pattern, \"\", response).replace(text, \"\").strip()\n",
    "        except:\n",
    "            answer, trajectory = None, response\n",
    "    \n",
    "        return {\n",
    "            \"trajectory\": trajectory,\n",
    "            \"answer_pred\": answer\n",
    "        }\n",
    "\n",
    "    return {\n",
    "        \"trajectory\": instance[\"trajectory\"],\n",
    "        \"answer_pred\": instance[\"answer_pred\"]\n",
    "    }\n",
    "\n",
    "new_ds = ds.map(map_fn)"
   ]
  },
  {
   "cell_type": "code",
   "execution_count": 65,
   "id": "b90d6e56-f916-4ffd-bf07-a6292625fad2",
   "metadata": {},
   "outputs": [
    {
     "data": {
      "application/vnd.jupyter.widget-view+json": {
       "model_id": "5ca94f8d99bb4721863f6805894545d6",
       "version_major": 2,
       "version_minor": 0
      },
      "text/plain": [
       "Filter:   0%|          | 0/200 [00:00<?, ? examples/s]"
      ]
     },
     "metadata": {},
     "output_type": "display_data"
    },
    {
     "data": {
      "text/plain": [
       "Dataset({\n",
       "    features: ['problem', 'level', 'type', 'solution', 'reasoning_formats', 'selected_modules', 'adapted_modules', 'reasoning_structure', 'reasoning', 'trajectory', 'answer_pred'],\n",
       "    num_rows: 0\n",
       "})"
      ]
     },
     "execution_count": 65,
     "metadata": {},
     "output_type": "execute_result"
    }
   ],
   "source": [
    "none_ds = new_ds.filter(lambda x: x[\"answer_pred\"] == None)\n",
    "none_ds"
   ]
  },
  {
   "cell_type": "code",
   "execution_count": 69,
   "id": "61995a85-d0b0-4492-8a9b-03f5e3ca8c8b",
   "metadata": {},
   "outputs": [
    {
     "name": "stdout",
     "output_type": "stream",
     "text": [
      "The solutions of the equation $z^4+4z^3i-6z^2-4zi-i=0$ are the vertices of a convex polygon in the complex plane.  The area of this polygon can be expressed in the form $p^{a/b},$ where $a,$ $b,$ $p$ are positive integers, $p$ is prime, and $a$ and $b$ are relatively prime.  Find $a + b + p.$\n",
      "++++++++++++++++++++++++++++++++++++++++++++++++++++++++++++++++++++++++++++++++\n",
      "Here is the filled JSON for the given reasoning structure:\n",
      "\n",
      "```\n",
      "{\n",
      "  \"Problem Explanation\": {\n",
      "    \"Identify the equation\": \"$z^4+4z^3i-6z^2-4zi-i=0$\",\n",
      "    \"Explain the objective\": \"Find the area of the convex polygon formed by the solutions of the equation\"\n",
      "  },\n",
      "  \"Step 1: Factor the given equation\": {\n",
      "    \"Method\": \"Use algebraic manipulations to factor the equation\",\n",
      "    \"Expected outcome\": \"Factored form of the equation\",\n",
      "    \"Outcome\": \"$z^4+4z^3i-6z^2-4zi-i = (z^2 + 2zi - i)(z^2 + 2zi + 1) = (z^2 + 2zi + 1)^2 - 2i(z^2 + 2zi + 1) + i^2$\"\n",
      "  },\n",
      "  \"Step 2: Identify the roots of the equation\": {\n",
      "    \"Method\": \"Determine the roots of the equation using the factored form\",\n",
      "    \"Expected outcome\": \"Roots of the equation\",\n",
      "    \"Outcome\": \"$z = i, -i, -i + 1, -i - 1$\"\n",
      "  },\n",
      "  \"Step 3: Plot the roots in the complex plane\": {\n",
      "    \"Method\": \"Visualize the roots as points in the complex plane\",\n",
      "    \"Expected outcome\": \"Plot of the roots\",\n",
      "    \"Outcome\": \"The roots form a square with vertices at $i, -i, -i + 1, -i - 1$\"\n",
      "  },\n",
      "  \"Step 4: Determine the shape of the polygon\": {\n",
      "    \"Method\": \"Use the plotted points to determine the shape of the convex polygon\",\n",
      "    \"Expected outcome\": \"Shape of the polygon\",\n",
      "    \"Outcome\": \"The polygon is a square\"\n",
      "  },\n",
      "  \"Step 5: Calculate the area of the polygon\": {\n",
      "    \"Method\": \"Use geometric formulas to calculate the area of the polygon\",\n",
      "    \"Expected outcome\": \"Area of the polygon\",\n",
      "    \"Outcome\": \"The area of the square is $2^2 = 4$\"\n",
      "  },\n",
      "  \"Step 6: Express the area in the required form\": {\n",
      "    \"Method\": \"Express the area in the form $p^{a/b}$\",\n",
      "    \"Expected outcome\": \"Area in the required form\",\n",
      "    \"Outcome\": \"$4 = 2^{2/1}$\"\n",
      "  },\n",
      "  \"Step 7: Calculate the final answer\": {\n",
      "    \"Method\": \"Calculate the sum $a + b + p$\",\n",
      "    \"Expected outcome\": \"Final answer\",\n",
      "    \"Outcome\": \"$2 + 1 + 2 = 5$\"\n",
      "  },\n",
      "  \"Is the final answer correct?\": {\n",
      "    \"Method\": \"Verify the final answer\",\n",
      "    \"Expected outcome\": \"Confirmation of the final answer\",\n",
      "    \"Outcome\": \"Yes, the final answer is correct\"\n",
      "  }\n",
      "}\n",
      "```\n"
     ]
    }
   ],
   "source": [
    "index = 178\n",
    "print(new_ds[index][\"problem\"])\n",
    "print(\"+\" * 80)\n",
    "print(new_ds[index][\"trajectory\"])"
   ]
  },
  {
   "cell_type": "code",
   "execution_count": 70,
   "id": "361051d6-96c2-4f45-92d4-03bdc935c4ba",
   "metadata": {},
   "outputs": [
    {
     "data": {
      "application/vnd.jupyter.widget-view+json": {
       "model_id": "020472ef9f724b35b1f56df272d78bd7",
       "version_major": 2,
       "version_minor": 0
      },
      "text/plain": [
       "Uploading the dataset shards:   0%|          | 0/1 [00:00<?, ?it/s]"
      ]
     },
     "metadata": {},
     "output_type": "display_data"
    },
    {
     "data": {
      "application/vnd.jupyter.widget-view+json": {
       "model_id": "1d53ca4c58e74975b1573ce3595d5091",
       "version_major": 2,
       "version_minor": 0
      },
      "text/plain": [
       "Creating parquet from Arrow format:   0%|          | 0/1 [00:00<?, ?ba/s]"
      ]
     },
     "metadata": {},
     "output_type": "display_data"
    },
    {
     "data": {
      "application/vnd.jupyter.widget-view+json": {
       "model_id": "4e0ffc04ba394b36ab862f9d1367a873",
       "version_major": 2,
       "version_minor": 0
      },
      "text/plain": [
       "README.md:   0%|          | 0.00/679 [00:00<?, ?B/s]"
      ]
     },
     "metadata": {},
     "output_type": "display_data"
    },
    {
     "data": {
      "text/plain": [
       "CommitInfo(commit_url='https://huggingface.co/datasets/sachithgunasekara/self-discover-original-MATH-eval/commit/f39c5c931a3f66d05834172cc522cef58140e4ab', commit_message='Upload dataset', commit_description='', oid='f39c5c931a3f66d05834172cc522cef58140e4ab', pr_url=None, pr_revision=None, pr_num=None)"
      ]
     },
     "execution_count": 70,
     "metadata": {},
     "output_type": "execute_result"
    }
   ],
   "source": [
    "new_ds.push_to_hub(\"sachithgunasekara/self-discover-original-MATH-eval\")"
   ]
  },
  {
   "cell_type": "code",
   "execution_count": 13,
   "id": "f5ae9a02-82f2-4ce5-a0ae-abe205d50b29",
   "metadata": {},
   "outputs": [
    {
     "name": "stdout",
     "output_type": "stream",
     "text": [
      "Find all the rational roots of 2x^4 - x^3 - 18x^2 + 14x + 15 = 0.  Enter all the rational roots, separated by commas.\n"
     ]
    }
   ],
   "source": [
    "from pylatexenc.latex2text import LatexNodes2Text\n",
    "\n",
    "print(LatexNodes2Text().latex_to_text(ds[0][\"problem\"]))"
   ]
  },
  {
   "cell_type": "code",
   "execution_count": 24,
   "id": "edc85b8b-bac3-4629-8ecf-3024783701aa",
   "metadata": {},
   "outputs": [
    {
     "data": {
      "text/plain": [
       "'<p>We solve for <math xmlns=\"http://www.w3.org/1998/Math/MathML\" display=\"inline\"><mrow><msup><mi>x</mi><mn>2</mn></msup></mrow></math>: \\\\begin{align<em>}\\n192x^2 -16 &amp;= 0\\\\\\n192x^2 &amp;=16 \\\\\\nx^2 &amp;= \\\\frac{1}{12}.\\n\\\\end{align</em>} Therefore, <math xmlns=\"http://www.w3.org/1998/Math/MathML\" display=\"inline\"><mrow><msup><mi>x</mi><mn>4</mn></msup><mo>&#x0003D;</mo><mfrac><mrow><mn>1</mn></mrow><mrow><mn>144</mn></mrow></mfrac></mrow></math> and <math xmlns=\"http://www.w3.org/1998/Math/MathML\" display=\"inline\"><mrow><mfrac><mrow><mn>1</mn></mrow><mrow><msup><mi>x</mi><mn>4</mn></msup></mrow></mfrac><mo>&#x0003D;</mo><menclose notation=\"box\"><mrow><mn>144</mn></mrow></menclose></mrow></math>.</p>'"
      ]
     },
     "execution_count": 24,
     "metadata": {},
     "output_type": "execute_result"
    }
   ],
   "source": [
    "mdtex2html.convert(ds[1][\"solution\"])"
   ]
  },
  {
   "cell_type": "code",
   "execution_count": 71,
   "id": "30170dec-184b-434e-a40c-18cbddd5b382",
   "metadata": {},
   "outputs": [
    {
     "data": {
      "text/latex": [
       "By the Binomial Theorem,\n",
       "\\begin{align*}\n",
       "(z + i)^4 &= z^4 + 4z^3 i + 6z^2 i^2 + 4zi^3 + 1 \\\\\n",
       "&= z^4 + 4iz^3 - 6z^2 - 4iz + 1.\n",
       "\\end{align*}So, if $z^4 + 4z^3 i - 6z^2 - 4zi - i = 0,$ then\n",
       "\\[(z + i)^4 = z^4 + 4iz^3 - 6z^2 - 4iz + 1 = 1 + i.\\]Let $w = z + i,$ so $w^4 = 1 + i.$  (If we plot the solutions $w$ in the complex plane, we obtain the same area as from the solutions $z$ in the complex plane, because the substitution $w = z + i$ simply translates the polygon.)\n",
       "\n",
       "If $w^4 = 1 + i,$ then\n",
       "\\[(wi)^4 = w^4 i^4 = w^4 = 1 + i.\\]Thus, if $w$ is a solution, then so are $iw,$ $i^2 w = -w,$ and $i^3 w = -iw,$ which form a square in the complex plane.\n",
       "\n",
       "[asy]\n",
       "unitsize(2 cm);\n",
       "\n",
       "pair A, B, C, D;\n",
       "\n",
       "A = 2^(1/8)*dir(45/4);\n",
       "B = 2^(1/8)*dir(45/4 + 90);\n",
       "C = 2^(1/8)*dir(45/4 + 180);\n",
       "D = 2^(1/8)*dir(45/4 + 270);\n",
       "\n",
       "draw(A--B--C--D--cycle);\n",
       "draw((-1.5,0)--(1.5,0));\n",
       "draw((0,-1.5)--(0,1.5));\n",
       "\n",
       "dot(\"$w$\", A, E);\n",
       "dot(\"$iw$\", B, N);\n",
       "dot(\"$-w$\", C, W);\n",
       "dot(\"$-iw$\", D, S);\n",
       "[/asy]\n",
       "\n",
       "From the equation $w^4 = 1 + i,$ $|w^4| = |1 + i|.$  Then $|w|^4 = \\sqrt{2},$ so $|w| = 2^{1/8}.$  Therefore, the side length of the square is\n",
       "\\[|w - iw| = |w||1 - i| = 2^{1/8} \\sqrt{2} = 2^{5/8},\\]so the area of the square is $(2^{5/8})^2 = 2^{5/4}.$  The final answer is $5 + 4 + 2 = \\boxed{11}.$"
      ],
      "text/plain": [
       "<IPython.core.display.Latex object>"
      ]
     },
     "metadata": {},
     "output_type": "display_data"
    }
   ],
   "source": [
    "from IPython.display import display, Latex\n",
    "display(Latex(new_ds[178][\"solution\"]))"
   ]
  },
  {
   "cell_type": "code",
   "execution_count": 28,
   "id": "f73ef4c3-f704-4805-9ecb-b36f2f67be42",
   "metadata": {},
   "outputs": [
    {
     "name": "stdout",
     "output_type": "stream",
     "text": [
      "We solve for x^2: \n",
      "    192x^2 -16    = 0\n",
      "    \n",
      "    192x^2    =16 \n",
      "    \n",
      "    x^2    = 1/12.\n",
      " Therefore, x^4 = 1/144 and 1/x^4 = 144.\n"
     ]
    }
   ],
   "source": [
    "from pylatexenc.latex2text import LatexNodes2Text\n",
    "\n",
    "# Function to convert LaTeX to HTML\n",
    "def latex_to_html(latex_text):\n",
    "    return LatexNodes2Text().latex_to_text(latex_text)\n",
    "\n",
    "html_solution = latex_to_html(ds[1][\"solution\"])\n",
    "print(html_solution)"
   ]
  },
  {
   "cell_type": "code",
   "execution_count": 47,
   "id": "5533a8d2-2e5c-41f9-850f-eff267aed7f5",
   "metadata": {},
   "outputs": [
    {
     "data": {
      "application/vnd.jupyter.widget-view+json": {
       "model_id": "35303ddecab246bbb6d56b7ecb4adcbd",
       "version_major": 2,
       "version_minor": 0
      },
      "text/plain": [
       "Map:   0%|          | 0/200 [00:00<?, ? examples/s]"
      ]
     },
     "metadata": {},
     "output_type": "display_data"
    }
   ],
   "source": [
    "import json\n",
    "\n",
    "def markdown_to_html(instance):\n",
    "    return {\n",
    "        \"problem_html\": markdown(instance[\"problem\"]),\n",
    "        \"solution_html\": markdown(instance[\"solution\"]),\n",
    "        \"trajectory_html\": f\"<pre>{json.dumps(instance['trajectory'], indent=4)}</pre>\"\n",
    "    }\n",
    "\n",
    "ds_html = ds.map(markdown_to_html)"
   ]
  },
  {
   "cell_type": "code",
   "execution_count": 72,
   "id": "1f5174e3-767d-4c53-86d1-e604c119703f",
   "metadata": {},
   "outputs": [
    {
     "data": {
      "application/vnd.jupyter.widget-view+json": {
       "model_id": "3e3143f3d7ac4a899f33694bb38e86b2",
       "version_major": 2,
       "version_minor": 0
      },
      "text/plain": [
       "Creating CSV from Arrow format:   0%|          | 0/1 [00:00<?, ?ba/s]"
      ]
     },
     "metadata": {},
     "output_type": "display_data"
    },
    {
     "data": {
      "text/plain": [
       "2388883"
      ]
     },
     "execution_count": 72,
     "metadata": {},
     "output_type": "execute_result"
    }
   ],
   "source": [
    "new_ds.to_csv(\"./henrycks_cm_original_evals.csv\")"
   ]
  },
  {
   "cell_type": "markdown",
   "id": "e6c75125-afd6-43f7-b7aa-42dd1679a468",
   "metadata": {},
   "source": [
    "# Original Evals"
   ]
  },
  {
   "cell_type": "code",
   "execution_count": 88,
   "id": "ff6bb50d-9a32-4dfb-866b-b55aa5fa7da3",
   "metadata": {},
   "outputs": [],
   "source": [
    "file_name = \"./project-1-at-2024-10-30-15-35-cd66a721.json\""
   ]
  },
  {
   "cell_type": "code",
   "execution_count": 107,
   "id": "3da2c258-5929-46ad-a1d0-cf2cc47f2919",
   "metadata": {},
   "outputs": [
    {
     "data": {
      "text/plain": [
       "Dataset({\n",
       "    features: ['problem', 'level', 'type', 'solution', 'reasoning_formats', 'selected_modules', 'adapted_modules', 'reasoning_structure', 'reasoning', 'trajectory', 'answer_pred', 'id', 'correct', 'annotator', 'annotation_id', 'created_at', 'updated_at', 'lead_time'],\n",
       "    num_rows: 200\n",
       "})"
      ]
     },
     "execution_count": 107,
     "metadata": {},
     "output_type": "execute_result"
    }
   ],
   "source": [
    "with open(file_name, \"r\") as f:\n",
    "    ds_ann = Dataset.from_list(json.load(f))\n",
    "\n",
    "ds_ann"
   ]
  },
  {
   "cell_type": "code",
   "execution_count": 99,
   "id": "a8fdf8a8-293a-4f46-ad5e-d076a2bd699b",
   "metadata": {},
   "outputs": [
    {
     "data": {
      "text/plain": [
       "{'problem': 'Find all the rational roots of $2x^4 - x^3 - 18x^2 + 14x + 15 = 0.$  Enter all the rational roots, separated by commas.',\n",
       " 'level': 'Level 3',\n",
       " 'type': 'Intermediate Algebra',\n",
       " 'solution': 'By the Rational Root Theorem, the only possible rational roots are of the form $\\\\frac{a}{b},$ where $a \\\\mid 15$ and $b \\\\mid 2.$  Checking all possibilities, we find that the rational roots are $\\\\boxed{\\\\frac{5}{2},-3}.$',\n",
       " 'reasoning_formats': '\\n- should be the final answer based on calculations formatted in Latex style',\n",
       " 'selected_modules': '1. How could I devise an experiment to help solve that problem?\\n4. How can I simplify the problem so that it is easier to solve?\\n9. How can I break down this problem into smaller, more manageable parts?\\n10. Critical Thinking: This style involves analyzing the problem from different perspectives, questioning assumptions, and evaluating the evidence or information available.\\n13. Use systems thinking: Consider the problem as part of a larger system and understanding the interconnectedness of various elements.\\n16. What is the core issue or problem that needs to be addressed?\\n25. Is the problem a technical or practical one that requires a specific expertise or skill set? \\n29. Is the problem an analytical one that requires data analysis, modeling, or optimization techniques?\\n30. Is the problem a design challenge that requires creative solutions and innovation?\\n39. Let’s make a step by step plan and implement it with good notation and explanation.',\n",
       " 'adapted_modules': \"Here is the list of adapted module descriptions:\\n\\n1. How could I devise an algebraic approach to find the rational roots of the given polynomial equation?\\n4. How can I simplify the polynomial equation by factoring or using synthetic division to make it easier to solve?\\n9. How can I break down the polynomial equation into smaller parts, such as finding the factors of the constant term and leading coefficient?\\n10. Critical Thinking: Analyze the polynomial equation from different perspectives, such as using the Rational Root Theorem or looking for patterns in the coefficients.\\n13. Use systems thinking: Consider the polynomial equation as part of a larger system of equations and understand how the rational roots relate to the overall system.\\n16. What is the core issue or problem that needs to be addressed in finding the rational roots of the polynomial equation?\\n25. Is finding the rational roots of the polynomial equation a technical or practical problem that requires expertise in algebra or numerical methods?\\n29. Is finding the rational roots of the polynomial equation an analytical problem that requires data analysis, modeling, or optimization techniques, such as using numerical methods or graphing?\\n30. Is finding the rational roots of the polynomial equation a design challenge that requires creative solutions and innovation, such as using algebraic manipulations or clever factoring?\\n39. Let's make a step-by-step plan to find the rational roots, including using the Rational Root Theorem, synthetic division, and factoring, and implement it with clear notation and explanation.\",\n",
       " 'reasoning_structure': 'Here\\'s a step-by-step reasoning plan in JSON format for the given task:\\n\\n```\\n{\\n  \"Step 1: Analyze the polynomial equation\": {\\n    \"Polynomial equation\": \"2x^4 - x^3 - 18x^2 + 14x + 15 = 0\",\\n    \"Degree of the polynomial\": \"\",\\n    \"Leading coefficient\": \"\",\\n    \"Constant term\": \"\"\\n  },\\n  \"Step 2: Apply the Rational Root Theorem\": {\\n    \"Possible rational roots\": \"\",\\n    \"Factors of the constant term\": \"\",\\n    \"Factors of the leading coefficient\": \"\"\\n  },\\n  \"Step 3: Simplify the polynomial equation\": {\\n    \"Factoring\": \"\",\\n    \"Synthetic division\": \"\",\\n    \"Other simplification methods\": \"\"\\n  },\\n  \"Step 4: Break down the polynomial equation into smaller parts\": {\\n    \"Factors of the constant term\": \"\",\\n    \"Factors of the leading coefficient\": \"\",\\n    \"Other breakdown methods\": \"\"\\n  },\\n  \"Step 5: Analyze the polynomial equation from different perspectives\": {\\n    \"Using the Rational Root Theorem\": \"\",\\n    \"Looking for patterns in the coefficients\": \"\",\\n    \"Other analysis methods\": \"\"\\n  },\\n  \"Step 6: Consider the polynomial equation as part of a larger system of equations\": {\\n    \"Relationship to other equations\": \"\",\\n    \"Impact on the rational roots\": \"\"\\n  },\\n  \"Step 7: Identify the core issue or problem\": {\\n    \"Technical or practical problem\": \"\",\\n    \"Analytical problem\": \"\",\\n    \"Design challenge\": \"\"\\n  },\\n  \"Step 8: Develop a plan to find the rational roots\": {\\n    \"Step-by-step approach\": \"\",\\n    \"Methods to be used\": \"\",\\n    \"Notation and explanation\": \"\"\\n  },\\n  \"Step 9: Implement the plan and find the rational roots\": {\\n    \"Rational roots\": \"\",\\n    \"Explanation and justification\": \"\"\\n  },\\n  \"Step 10: Verify the rational roots\": {\\n    \"Check for errors\": \"\",\\n    \"Validate the results\": \"\"\\n  },\\n  \"Conclusion\": {\\n    \"Rational roots of the polynomial equation\": \"\"\\n  }\\n}\\n```\\n\\nThis plan provides a step-by-step approach to finding the rational roots of the given polynomial equation, incorporating various reasoning modules and techniques. By following this plan, solvers can arrive at the correct conclusion and provide a clear explanation and justification for their answer.',\n",
       " 'reasoning': 'Here is the filled JSON for the above reasoning structure:\\n\\n```\\n{\\n  \"Step 1: Analyze the polynomial equation\": {\\n    \"Polynomial equation\": \"2x^4 - x^3 - 18x^2 + 14x + 15 = 0\",\\n    \"Degree of the polynomial\": \"4\",\\n    \"Leading coefficient\": \"2\",\\n    \"Constant term\": \"15\"\\n  },\\n  \"Step 2: Apply the Rational Root Theorem\": {\\n    \"Possible rational roots\": \"±1, ±3, ±5, ±15, ±1/2, ±3/2, ±5/2, ±15/2\",\\n    \"Factors of the constant term\": \"±1, ±3, ±5, ±15\",\\n    \"Factors of the leading coefficient\": \"±1, ±2\"\\n  },\\n  \"Step 3: Simplify the polynomial equation\": {\\n    \"Factoring\": \"No obvious factoring\",\\n    \"Synthetic division\": \"Not necessary at this stage\",\\n    \"Other simplification methods\": \"None\"\\n  },\\n  \"Step 4: Break down the polynomial equation into smaller parts\": {\\n    \"Factors of the constant term\": \"±1, ±3, ±5, ±15\",\\n    \"Factors of the leading coefficient\": \"±1, ±2\",\\n    \"Other breakdown methods\": \"None\"\\n  },\\n  \"Step 5: Analyze the polynomial equation from different perspectives\": {\\n    \"Using the Rational Root Theorem\": \"Possible rational roots: ±1, ±3, ±5, ±15, ±1/2, ±3/2, ±5/2, ±15/2\",\\n    \"Looking for patterns in the coefficients\": \"No obvious patterns\",\\n    \"Other analysis methods\": \"None\"\\n  },\\n  \"Step 6: Consider the polynomial equation as part of a larger system of equations\": {\\n    \"Relationship to other equations\": \"None\",\\n    \"Impact on the rational roots\": \"None\"\\n  },\\n  \"Step 7: Identify the core issue or problem\": {\\n    \"Technical or practical problem\": \"Finding the rational roots of the polynomial equation\",\\n    \"Analytical problem\": \"None\",\\n    \"Design challenge\": \"None\"\\n  },\\n  \"Step 8: Develop a plan to find the rational roots\": {\\n    \"Step-by-step approach\": \"Test each possible rational root using synthetic division\",\\n    \"Methods to be used\": \"Synthetic division\",\\n    \"Notation and explanation\": \"Divide the polynomial by each possible rational root and check for a remainder of 0\"\\n  },\\n  \"Step 9: Implement the plan and find the rational roots\": {\\n    \"Rational roots\": \"-1, 3/2, -5/2, 5\",\\n    \"Explanation and justification\": \"These values were found by testing each possible rational root using synthetic division\"\\n  },\\n  \"Step 10: Verify the rational roots\": {\\n    \"Check for errors\": \"None found\",\\n    \"Validate the results\": \"The rational roots were verified by plugging them back into the original equation\"\\n  },\\n  \"Conclusion\": {\\n    \"Rational roots of the polynomial equation\": \"-1, 3/2, -5/2, 5\"\\n  }\\n}\\n```\\n\\nThe final answer is $\\\\boxed{-1, 3/2, -5/2, 5}$.',\n",
       " 'trajectory': 'Here is the filled JSON for the above reasoning structure:\\n\\n```\\n{\\n  \"Step 1: Analyze the polynomial equation\": {\\n    \"Polynomial equation\": \"2x^4 - x^3 - 18x^2 + 14x + 15 = 0\",\\n    \"Degree of the polynomial\": \"4\",\\n    \"Leading coefficient\": \"2\",\\n    \"Constant term\": \"15\"\\n  },\\n  \"Step 2: Apply the Rational Root Theorem\": {\\n    \"Possible rational roots\": \"±1, ±3, ±5, ±15, ±1/2, ±3/2, ±5/2, ±15/2\",\\n    \"Factors of the constant term\": \"±1, ±3, ±5, ±15\",\\n    \"Factors of the leading coefficient\": \"±1, ±2\"\\n  },\\n  \"Step 3: Simplify the polynomial equation\": {\\n    \"Factoring\": \"No obvious factoring\",\\n    \"Synthetic division\": \"Not necessary at this stage\",\\n    \"Other simplification methods\": \"None\"\\n  },\\n  \"Step 4: Break down the polynomial equation into smaller parts\": {\\n    \"Factors of the constant term\": \"±1, ±3, ±5, ±15\",\\n    \"Factors of the leading coefficient\": \"±1, ±2\",\\n    \"Other breakdown methods\": \"None\"\\n  },\\n  \"Step 5: Analyze the polynomial equation from different perspectives\": {\\n    \"Using the Rational Root Theorem\": \"Possible rational roots: ±1, ±3, ±5, ±15, ±1/2, ±3/2, ±5/2, ±15/2\",\\n    \"Looking for patterns in the coefficients\": \"No obvious patterns\",\\n    \"Other analysis methods\": \"None\"\\n  },\\n  \"Step 6: Consider the polynomial equation as part of a larger system of equations\": {\\n    \"Relationship to other equations\": \"None\",\\n    \"Impact on the rational roots\": \"None\"\\n  },\\n  \"Step 7: Identify the core issue or problem\": {\\n    \"Technical or practical problem\": \"Finding the rational roots of the polynomial equation\",\\n    \"Analytical problem\": \"None\",\\n    \"Design challenge\": \"None\"\\n  },\\n  \"Step 8: Develop a plan to find the rational roots\": {\\n    \"Step-by-step approach\": \"Test each possible rational root using synthetic division\",\\n    \"Methods to be used\": \"Synthetic division\",\\n    \"Notation and explanation\": \"Divide the polynomial by each possible rational root and check for a remainder of 0\"\\n  },\\n  \"Step 9: Implement the plan and find the rational roots\": {\\n    \"Rational roots\": \"-1, 3/2, -5/2, 5\",\\n    \"Explanation and justification\": \"These values were found by testing each possible rational root using synthetic division\"\\n  },\\n  \"Step 10: Verify the rational roots\": {\\n    \"Check for errors\": \"None found\",\\n    \"Validate the results\": \"The rational roots were verified by plugging them back into the original equation\"\\n  },\\n  \"Conclusion\": {\\n    \"Rational roots of the polynomial equation\": \"-1, 3/2, -5/2, 5\"\\n  }\\n}\\n```',\n",
       " 'answer_pred': '$\\\\boxed{-1, 3/2, -5/2, 5}$.',\n",
       " 'id': 1,\n",
       " 'correct': 'False'}"
      ]
     },
     "execution_count": 99,
     "metadata": {},
     "output_type": "execute_result"
    }
   ],
   "source": [
    "ds_ann[0]"
   ]
  },
  {
   "cell_type": "code",
   "execution_count": 106,
   "id": "33a716a0-3115-4e8a-a98e-00eb4bc40884",
   "metadata": {},
   "outputs": [
    {
     "data": {
      "application/vnd.jupyter.widget-view+json": {
       "model_id": "c5578d4435014fa0ad827bf25fbee193",
       "version_major": 2,
       "version_minor": 0
      },
      "text/plain": [
       "Filter:   0%|          | 0/200 [00:00<?, ? examples/s]"
      ]
     },
     "metadata": {},
     "output_type": "display_data"
    },
    {
     "data": {
      "text/plain": [
       "0.695"
      ]
     },
     "execution_count": 106,
     "metadata": {},
     "output_type": "execute_result"
    }
   ],
   "source": [
    "corr = ds_ann.filter(lambda x: x[\"correct\"] == \"True\")\n",
    "corr.num_rows / ds_ann.num_rows"
   ]
  },
  {
   "cell_type": "code",
   "execution_count": 108,
   "id": "ab147bbb-9227-49fd-9663-15c70accf083",
   "metadata": {},
   "outputs": [
    {
     "data": {
      "application/vnd.jupyter.widget-view+json": {
       "model_id": "26e1ca3fb75b4f4598aa3ee35f132f97",
       "version_major": 2,
       "version_minor": 0
      },
      "text/plain": [
       "Uploading the dataset shards:   0%|          | 0/1 [00:00<?, ?it/s]"
      ]
     },
     "metadata": {},
     "output_type": "display_data"
    },
    {
     "data": {
      "application/vnd.jupyter.widget-view+json": {
       "model_id": "fa1c4dfbcf5a4e4badbaa1162500e0bc",
       "version_major": 2,
       "version_minor": 0
      },
      "text/plain": [
       "Creating parquet from Arrow format:   0%|          | 0/1 [00:00<?, ?ba/s]"
      ]
     },
     "metadata": {},
     "output_type": "display_data"
    },
    {
     "data": {
      "text/plain": [
       "CommitInfo(commit_url='https://huggingface.co/datasets/sachithgunasekara/self-discover-original-MATH-eval-annotated/commit/165992ed9b389658b8f5f059d76503592890e61b', commit_message='Upload dataset', commit_description='', oid='165992ed9b389658b8f5f059d76503592890e61b', pr_url=None, pr_revision=None, pr_num=None)"
      ]
     },
     "execution_count": 108,
     "metadata": {},
     "output_type": "execute_result"
    }
   ],
   "source": [
    "ds_ann.push_to_hub(\"sachithgunasekara/self-discover-original-MATH-eval-annotated\")"
   ]
  }
 ],
 "metadata": {
  "kernelspec": {
   "display_name": "Python 3 (ipykernel)",
   "language": "python",
   "name": "python3"
  },
  "language_info": {
   "codemirror_mode": {
    "name": "ipython",
    "version": 3
   },
   "file_extension": ".py",
   "mimetype": "text/x-python",
   "name": "python",
   "nbconvert_exporter": "python",
   "pygments_lexer": "ipython3",
   "version": "3.8.10"
  }
 },
 "nbformat": 4,
 "nbformat_minor": 5
}
