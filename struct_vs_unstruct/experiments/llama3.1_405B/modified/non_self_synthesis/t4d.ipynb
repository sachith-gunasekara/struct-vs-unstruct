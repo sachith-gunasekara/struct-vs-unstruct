{
 "cells": [
  {
   "cell_type": "markdown",
   "id": "55fe678e-1c30-4e49-a6e7-a1178e7888ec",
   "metadata": {},
   "source": [
    "# T4D"
   ]
  },
  {
   "cell_type": "code",
   "execution_count": 1,
   "id": "3d8804b0-88f5-46ad-8d3b-cbd470719d0d",
   "metadata": {},
   "outputs": [],
   "source": [
    "from datasets import Dataset\n",
    "from pyprojroot import here"
   ]
  },
  {
   "cell_type": "code",
   "execution_count": 2,
   "id": "58c48cfa-662d-448a-a6cf-e5f023e56d48",
   "metadata": {},
   "outputs": [],
   "source": [
    "chk_dir = here(\"struct_vs_unstruct/data/llama3.1_405B/modified/non_self_synthesis/t4d/t4d-/t4d_eval\")"
   ]
  },
  {
   "cell_type": "code",
   "execution_count": 3,
   "id": "5c107970-cc9f-4d6d-a506-7d268c1fcf25",
   "metadata": {},
   "outputs": [],
   "source": [
    "dataset = Dataset.load_from_disk(chk_dir)"
   ]
  },
  {
   "cell_type": "code",
   "execution_count": 4,
   "id": "840b1c84-9ad8-4632-8615-453e94d49c0f",
   "metadata": {},
   "outputs": [
    {
     "data": {
      "text/plain": [
       "Dataset({\n",
       "    features: ['story', 'question', 'answer', 'characters', 'distracting_characters', 'reasoning_formats', 'selected_modules', 'adapted_modules', 'reasoning_plan', 'reasoning', 'trajectory', 'answer_pred'],\n",
       "    num_rows: 564\n",
       "})"
      ]
     },
     "execution_count": 4,
     "metadata": {},
     "output_type": "execute_result"
    }
   ],
   "source": [
    "dataset"
   ]
  },
  {
   "cell_type": "code",
   "execution_count": 5,
   "id": "6e6fb8c2-dfba-4016-9717-4ab53c578907",
   "metadata": {},
   "outputs": [
    {
     "data": {
      "text/plain": [
       "{'A and B, but since the options do not allow for multiple answers, the most appropriate answer would be to choose one of the individuals who would benefit from receiving helpful information.',\n",
       " 'A and B, however, the options do not provide a way to select both A and B. Given the instructions to select one answer, the best answer would be to acknowledge that the format does not allow for the correct answer to be provided as per the instructions. However, following the instructions to the letter as requested:',\n",
       " \"A and C, but since the format requires a single answer, the most relevant answer is A (as Emily's needs are more specific and related to the banana and corn).\",\n",
       " 'A and C, however, the options do not allow for the selection of multiple answers. Given the instructions to select one answer, I will choose one of the correct answers.',\n",
       " 'A and C.',\n",
       " 'A,C.',\n",
       " 'Abigail',\n",
       " 'Aiden',\n",
       " 'Alexander',\n",
       " 'Amelia',\n",
       " 'Aria',\n",
       " 'Ava',\n",
       " 'Avery',\n",
       " 'B and A, however, the options provided do not allow for the selection of multiple answers. Given the instructions to choose one answer, it is not possible to accurately answer the question as it is presented.',\n",
       " 'B, C.',\n",
       " 'B, but since both Ella and Evelyn would benefit, and there is no option for \"both A and B\", the most accurate answer choice is not explicitly provided. However, following the format, I will select one of the individuals:',\n",
       " 'Benjamin',\n",
       " \"C, but the conclusion also suggests A would benefit. However, the question format requires a single choice. Given the equal relevance of A and C, and the format restrictions, the response is adapted to fit, acknowledging this does not fully capture the analysis's nuance.\",\n",
       " 'Carter',\n",
       " 'Charlotte',\n",
       " 'Chloe',\n",
       " 'Elizabeth',\n",
       " 'Ella',\n",
       " 'Emily',\n",
       " 'Emma',\n",
       " 'Ethan',\n",
       " 'Evelyn',\n",
       " 'Hannah',\n",
       " 'Hunter',\n",
       " 'Isabella',\n",
       " 'Isla',\n",
       " 'Jack',\n",
       " 'Jackson',\n",
       " 'Jacob',\n",
       " 'James',\n",
       " 'Jayden',\n",
       " 'Liam',\n",
       " 'Lily',\n",
       " 'Logan',\n",
       " 'Lucas',\n",
       " 'Mason',\n",
       " 'Mia',\n",
       " 'Mila',\n",
       " 'Nathan',\n",
       " 'Noah',\n",
       " 'None of the above',\n",
       " 'Oliver',\n",
       " 'Olivia',\n",
       " 'Owen',\n",
       " 'Sophia',\n",
       " 'William'}"
      ]
     },
     "execution_count": 5,
     "metadata": {},
     "output_type": "execute_result"
    }
   ],
   "source": [
    "set(dataset[\"answer_pred\"])"
   ]
  },
  {
   "cell_type": "code",
   "execution_count": 7,
   "id": "a0e04d89-7cbb-4719-ba4c-b358f186158b",
   "metadata": {},
   "outputs": [
    {
     "data": {
      "application/vnd.jupyter.widget-view+json": {
       "model_id": "fb28a3009ea4444cb24b89991675417a",
       "version_major": 2,
       "version_minor": 0
      },
      "text/plain": [
       "Map:   0%|          | 0/564 [00:00<?, ? examples/s]"
      ]
     },
     "metadata": {},
     "output_type": "display_data"
    }
   ],
   "source": [
    "def map_fn(instance):    \n",
    "    return {\n",
    "        \"answer_pred\": instance[\"answer_pred\"].translate(str.maketrans(\"\", \"\", '.\"')) if instance[\"answer_pred\"] else None\n",
    "    }\n",
    "\n",
    "new_ds = dataset.map(map_fn, load_from_cache_file=False)"
   ]
  },
  {
   "cell_type": "code",
   "execution_count": 9,
   "id": "1a63efd8-04fa-41e8-9acb-4703d4280ca0",
   "metadata": {},
   "outputs": [
    {
     "data": {
      "application/vnd.jupyter.widget-view+json": {
       "model_id": "c6da7cafeda9485495d63bc5b6203533",
       "version_major": 2,
       "version_minor": 0
      },
      "text/plain": [
       "Filter:   0%|          | 0/564 [00:00<?, ? examples/s]"
      ]
     },
     "metadata": {},
     "output_type": "display_data"
    },
    {
     "data": {
      "text/plain": [
       "0.7464539007092199"
      ]
     },
     "execution_count": 9,
     "metadata": {},
     "output_type": "execute_result"
    }
   ],
   "source": [
    "t4d = lambda instance, y, y_pred: instance[y] in instance[y_pred] and instance[y] == str(instance[y_pred].translate(str.maketrans(\"\", \"\", \".\")))\n",
    "\n",
    "corr = new_ds.filter(lambda x: t4d(x, \"answer\", \"answer_pred\"))\n",
    "corr.num_rows / new_ds.num_rows"
   ]
  },
  {
   "cell_type": "code",
   "execution_count": 10,
   "id": "ae13a3bd-0a19-4869-a532-b99e9d186c1a",
   "metadata": {},
   "outputs": [
    {
     "data": {
      "application/vnd.jupyter.widget-view+json": {
       "model_id": "e367847ae9e746e7b17c4573714275db",
       "version_major": 2,
       "version_minor": 0
      },
      "text/plain": [
       "Saving the dataset (0/1 shards):   0%|          | 0/564 [00:00<?, ? examples/s]"
      ]
     },
     "metadata": {},
     "output_type": "display_data"
    }
   ],
   "source": [
    "new_ds.save_to_disk(here(\"struct_vs_unstruct/data/llama3.1_405B/modified/non_self_synthesis/t4d/t4d-/refined/t4d_eval\"))"
   ]
  },
  {
   "cell_type": "code",
   "execution_count": 11,
   "id": "a7e6cb52-b480-463b-97a1-640dc49545f5",
   "metadata": {},
   "outputs": [
    {
     "data": {
      "application/vnd.jupyter.widget-view+json": {
       "model_id": "de5424fa30f24b3eb3597946de570090",
       "version_major": 2,
       "version_minor": 0
      },
      "text/plain": [
       "Uploading the dataset shards:   0%|          | 0/1 [00:00<?, ?it/s]"
      ]
     },
     "metadata": {},
     "output_type": "display_data"
    },
    {
     "data": {
      "application/vnd.jupyter.widget-view+json": {
       "model_id": "ff78b5a4b08841f5bf2db45c5c8fa407",
       "version_major": 2,
       "version_minor": 0
      },
      "text/plain": [
       "Creating parquet from Arrow format:   0%|          | 0/1 [00:00<?, ?ba/s]"
      ]
     },
     "metadata": {},
     "output_type": "display_data"
    },
    {
     "data": {
      "application/vnd.jupyter.widget-view+json": {
       "model_id": "976b5b928aa84d83a9eff40e5b6fab3e",
       "version_major": 2,
       "version_minor": 0
      },
      "text/plain": [
       "README.md:   0%|          | 0.00/766 [00:00<?, ?B/s]"
      ]
     },
     "metadata": {},
     "output_type": "display_data"
    },
    {
     "data": {
      "text/plain": [
       "CommitInfo(commit_url='https://huggingface.co/datasets/sachithgunasekara/self-discover-original-t4d-eval/commit/437d229f3facbcf25c153d65c1d794336b3f9aab', commit_message='Upload dataset', commit_description='', oid='437d229f3facbcf25c153d65c1d794336b3f9aab', pr_url=None, pr_revision=None, pr_num=None)"
      ]
     },
     "execution_count": 11,
     "metadata": {},
     "output_type": "execute_result"
    }
   ],
   "source": [
    "new_ds.push_to_hub(\"sachithgunasekara/self-discover-modified-t4d-eval\")"
   ]
  }
 ],
 "metadata": {
  "kernelspec": {
   "display_name": "Python 3 (ipykernel)",
   "language": "python",
   "name": "python3"
  },
  "language_info": {
   "codemirror_mode": {
    "name": "ipython",
    "version": 3
   },
   "file_extension": ".py",
   "mimetype": "text/x-python",
   "name": "python",
   "nbconvert_exporter": "python",
   "pygments_lexer": "ipython3",
   "version": "3.8.10"
  }
 },
 "nbformat": 4,
 "nbformat_minor": 5
}
