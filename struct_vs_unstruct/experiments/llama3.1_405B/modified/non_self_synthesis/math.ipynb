{
 "cells": [
  {
   "cell_type": "markdown",
   "id": "e68a17de-79ab-435d-87bc-27f23da9c79d",
   "metadata": {},
   "source": [
    "# Modified"
   ]
  },
  {
   "cell_type": "code",
   "execution_count": 73,
   "id": "6581a278-147d-49c3-8d1b-c192afe54a00",
   "metadata": {},
   "outputs": [],
   "source": [
    "par_dir = here(\"struct_vs_unstruct/data/modified/non_self_synthesis/math/math-/math_eval\")"
   ]
  },
  {
   "cell_type": "code",
   "execution_count": 74,
   "id": "67151ab3-1948-4d0a-b017-a2d6dfe6575f",
   "metadata": {},
   "outputs": [
    {
     "data": {
      "text/plain": [
       "Dataset({\n",
       "    features: ['problem', 'level', 'type', 'solution', 'reasoning_formats', 'selected_modules', 'adapted_modules', 'reasoning_plan', 'reasoning', 'trajectory', 'answer_pred'],\n",
       "    num_rows: 200\n",
       "})"
      ]
     },
     "execution_count": 74,
     "metadata": {},
     "output_type": "execute_result"
    }
   ],
   "source": [
    "ds = Dataset.load_from_disk(par_dir)\n",
    "ds"
   ]
  },
  {
   "cell_type": "code",
   "execution_count": 75,
   "id": "6382997b-58b3-4adf-99c0-9b356d5a6de6",
   "metadata": {},
   "outputs": [
    {
     "data": {
      "application/vnd.jupyter.widget-view+json": {
       "model_id": "71d4aefd8a554cc7a1e6e9e209a6df60",
       "version_major": 2,
       "version_minor": 0
      },
      "text/plain": [
       "Filter:   0%|          | 0/200 [00:00<?, ? examples/s]"
      ]
     },
     "metadata": {},
     "output_type": "display_data"
    },
    {
     "data": {
      "text/plain": [
       "Dataset({\n",
       "    features: ['problem', 'level', 'type', 'solution', 'reasoning_formats', 'selected_modules', 'adapted_modules', 'reasoning_plan', 'reasoning', 'trajectory', 'answer_pred'],\n",
       "    num_rows: 11\n",
       "})"
      ]
     },
     "execution_count": 75,
     "metadata": {},
     "output_type": "execute_result"
    }
   ],
   "source": [
    "none_ds = ds.filter(lambda x: x[\"answer_pred\"] == None)\n",
    "none_ds"
   ]
  },
  {
   "cell_type": "code",
   "execution_count": 76,
   "id": "17a2dd53-90dd-47f1-9715-7a373167deca",
   "metadata": {},
   "outputs": [
    {
     "data": {
      "application/vnd.jupyter.widget-view+json": {
       "model_id": "de32a650a4604bc3901b02d77a20cf6d",
       "version_major": 2,
       "version_minor": 0
      },
      "text/plain": [
       "Map:   0%|          | 0/200 [00:00<?, ? examples/s]"
      ]
     },
     "metadata": {},
     "output_type": "display_data"
    }
   ],
   "source": [
    "import re\n",
    "def map_fn(instance):\n",
    "    if instance[\"answer_pred\"] == None:\n",
    "        text = \"The final answer is:\"\n",
    "        pattern = fr\"(?<={text}).*\"\n",
    "    \n",
    "        response = instance[\"trajectory\"]\n",
    "    \n",
    "        try:\n",
    "            answer, trajectory = re.search(pattern, response).group(0).strip(), re.sub(pattern, \"\", response).replace(text, \"\").strip()\n",
    "        except:\n",
    "            answer, trajectory = None, response\n",
    "    \n",
    "        return {\n",
    "            \"trajectory\": trajectory,\n",
    "            \"answer_pred\": answer\n",
    "        }\n",
    "\n",
    "    return {\n",
    "        \"trajectory\": instance[\"trajectory\"],\n",
    "        \"answer_pred\": instance[\"answer_pred\"]\n",
    "    }\n",
    "\n",
    "new_ds = ds.map(map_fn)"
   ]
  },
  {
   "cell_type": "code",
   "execution_count": 77,
   "id": "1f2c2ce4-d5a2-49a6-b139-f8ef3f6d5d8a",
   "metadata": {},
   "outputs": [
    {
     "data": {
      "application/vnd.jupyter.widget-view+json": {
       "model_id": "3cddcf2ce813487780be1f1b1813aa64",
       "version_major": 2,
       "version_minor": 0
      },
      "text/plain": [
       "Filter:   0%|          | 0/200 [00:00<?, ? examples/s]"
      ]
     },
     "metadata": {},
     "output_type": "display_data"
    },
    {
     "data": {
      "text/plain": [
       "Dataset({\n",
       "    features: ['problem', 'level', 'type', 'solution', 'reasoning_formats', 'selected_modules', 'adapted_modules', 'reasoning_plan', 'reasoning', 'trajectory', 'answer_pred'],\n",
       "    num_rows: 5\n",
       "})"
      ]
     },
     "execution_count": 77,
     "metadata": {},
     "output_type": "execute_result"
    }
   ],
   "source": [
    "none_ds = new_ds.filter(lambda x: x[\"answer_pred\"] == None)\n",
    "none_ds"
   ]
  },
  {
   "cell_type": "code",
   "execution_count": 85,
   "id": "3ed770d5-bded-4c6d-a229-b2f5255153b2",
   "metadata": {},
   "outputs": [
    {
     "name": "stdout",
     "output_type": "stream",
     "text": [
      "**Step 1: Understand the problem and identify the goal**\n",
      "The problem asks for the smallest positive integer n for which the polynomial p(n) = n^2 - n + 41 and p(n+1) share a common factor greater than 1.\n",
      "\n",
      "**Step 2: Analyze the properties of the polynomial p(n)**\n",
      "The polynomial p(n) = n^2 - n + 41 is a quadratic polynomial with degree 2 and coefficients 1, -1, and 41.\n",
      "\n",
      "**Step 3: Determine the relationship between p(n) and p(n+1)**\n",
      "To find the relationship between p(n) and p(n+1), we can derive an expression for p(n+1) in terms of p(n).\n",
      "\n",
      "p(n+1) = (n+1)^2 - (n+1) + 41\n",
      "= n^2 + 2n + 1 - n - 1 + 41\n",
      "= n^2 + n + 41\n",
      "\n",
      "Now, let's analyze the relationship between p(n) and p(n+1).\n",
      "\n",
      "p(n+1) - p(n) = (n^2 + n + 41) - (n^2 - n + 41)\n",
      "= 2n\n",
      "\n",
      "This shows that the difference between p(n+1) and p(n) is 2n.\n",
      "\n",
      "**Step 4: Identify potential common factors**\n",
      "Since p(n) and p(n+1) are both quadratic polynomials, their common factors could be prime numbers or algebraic expressions.\n",
      "\n",
      "**Step 5: Develop a plan to test values of n**\n",
      "To find the smallest positive integer n for which p(n) and p(n+1) share a common factor greater than 1, we can start testing values of n from 1 and increment by 1 until we find a common factor.\n",
      "\n",
      "**Step 6: Test values of n and analyze results**\n",
      "Let's start testing values of n.\n",
      "\n",
      "For n = 1:\n",
      "p(1) = 1^2 - 1 + 41 = 41\n",
      "p(2) = 2^2 - 2 + 41 = 43\n",
      "\n",
      "No common factor greater than 1 is found.\n",
      "\n",
      "For n = 2:\n",
      "p(2) = 2^2 - 2 + 41 = 43\n",
      "p(3) = 3^2 - 3 + 41 = 47\n",
      "\n",
      "No common factor greater than 1 is found.\n",
      "\n",
      "For n = 3:\n",
      "p(3) = 3^2 - 3 + 41 = 47\n",
      "p(4) = 4^2 - 4 + 41 = 53\n",
      "\n",
      "No common factor greater than 1 is found.\n",
      "\n",
      "For n = 4:\n",
      "p(4) = 4^2 - 4 + 41 = 53\n",
      "p(5) = 5^2 - 5 + 41 = 61\n",
      "\n",
      "No common factor greater than 1 is found.\n",
      "\n",
      "For n = 5:\n",
      "p(5) = 5^2 - 5 + 41 = 61\n",
      "p(6) = 6^2 - 6 + 41 = 71\n",
      "\n",
      "No common factor greater than 1 is found.\n",
      "\n",
      "For n = 6:\n",
      "p(6) = 6^2 - 6 + 41 = 71\n",
      "p(7) = 7^2 - 7 + 41 = 83\n",
      "\n",
      "No common factor greater than 1 is found.\n",
      "\n",
      "For n = 7:\n",
      "p(7) = 7^2 - 7 + 41 = 83\n",
      "p(8) = 8^2 - 8 + 41 = 97\n",
      "\n",
      "No common factor greater than 1 is found.\n",
      "\n",
      "For n = 8:\n",
      "p(8) = 8^2 - 8 + 41 = 97\n",
      "p(9) = 9^2 - 9 + 41 = 113\n",
      "\n",
      "No common factor greater than 1 is found.\n",
      "\n",
      "For n = 9:\n",
      "p(9) = 9^2 - 9 + 41 = 113\n",
      "p(10) = 10^2 - 10 + 41 = 131\n",
      "\n",
      "No common factor greater than 1 is found.\n",
      "\n",
      "For n = 10:\n",
      "p(10) = 10^2 - 10 + 41 = 131\n",
      "p(11) = 11^2 - 11 + 41 = 151\n",
      "\n",
      "No common factor greater than 1 is found.\n",
      "\n",
      "For n = 11:\n",
      "p(11) = 11^2 - 11 + 41 = 151\n",
      "p(12) = 12^2 - 12 + 41 = 173\n",
      "\n",
      "No common factor greater than 1 is found.\n",
      "\n",
      "For n = 12:\n",
      "p(12) = 12^2 - 12 + 41 = 173\n",
      "p(13) = 13^2 - 13 + 41 = 197\n",
      "\n",
      "No common factor greater than 1 is found.\n",
      "\n",
      "For n = 13:\n",
      "p(13) = 13^2 - 13 + 41 = 197\n",
      "p(14) = 14^2 - 14 + 41 = 223\n",
      "\n",
      "No common factor greater than 1 is found.\n",
      "\n",
      "For n = 14:\n",
      "p(14) = 14^2 - 14 + 41 = 223\n",
      "p(15) = 15^2 - 15 + 41 = 251\n",
      "\n",
      "No common factor greater than 1 is found.\n",
      "\n",
      "For n = 15:\n",
      "p(15) = 15^2 - 15 + 41 = 251\n",
      "p(16) = 16^2 - 16 + 41 = 281\n",
      "\n",
      "No common factor greater than 1 is found.\n",
      "\n",
      "For n = 16:\n",
      "p(16) = 16^2 - 16 + 41 = 281\n",
      "p(17) = 17^2 - 17 + 41 = 313\n",
      "\n",
      "No common factor greater than 1 is found.\n",
      "\n",
      "For n = 17:\n",
      "p(17) = 17^2 - 17 + 41 = 313\n",
      "p(18) = 18^2 - 18 + 41 = 347\n",
      "\n",
      "No common factor greater than 1 is found.\n",
      "\n",
      "For n = 18:\n",
      "p(18) = 18^2 - 18 + 41 = 347\n",
      "p(19) = 19^2 - 19 + 41 = 383\n",
      "\n",
      "No common factor greater than 1 is found.\n",
      "\n",
      "For n = 19:\n",
      "p(19) = 19^2 - 19 + 41 = 383\n",
      "p(20) = 20^2 - 20 + 41 = 421\n",
      "\n",
      "No common factor greater than 1 is found.\n",
      "\n",
      "For n = 20:\n",
      "p(20) = 20^2 - 20 + 41 = 421\n",
      "p(21) = 21^2 - 21 + 41 = 461\n",
      "\n",
      "No common factor greater than 1 is found.\n",
      "\n",
      "For n = 21:\n",
      "p(21) = 21^2 - 21 + 41 = 461\n",
      "p(22) = 22^2 - 22 + 41 = 503\n",
      "\n",
      "No common factor greater than 1 is found.\n",
      "\n",
      "For n = 22:\n",
      "p(22) = 22^2 - 22 + 41 = 503\n",
      "p(23) = 23^2 - 23 + 41 = 547\n",
      "\n",
      "No common factor greater than 1 is found.\n",
      "\n",
      "For n = 23:\n",
      "p(23) = 23^2 - 23 + 41 = 547\n",
      "p(24) = 24^2 - 24 + 41 = 593\n",
      "\n",
      "No common factor greater than 1 is found.\n",
      "\n",
      "For n = 24:\n",
      "p(24) = 24^2 - 24 + 41 = 593\n",
      "p(25) = 25^2 - 25 + 41 = 641\n",
      "\n",
      "No common factor greater than 1 is found.\n",
      "\n",
      "For n = 25:\n",
      "p(25) = 25^2 - 25 + 41 = 641\n",
      "p(26) = 26^2 - 26 + 41 = 691\n",
      "\n",
      "No common factor greater than 1 is found.\n",
      "\n",
      "For n = 26:\n",
      "p(26) = 26^2 - 26 + 41 = 691\n",
      "p(27) = 27^2 - 27 + 41 = 743\n",
      "\n",
      "No common factor greater than 1 is found.\n",
      "\n",
      "For n = 27:\n",
      "p(27) = 27^2 - 27 + 41 = 743\n",
      "p(28) = 28^2 - 28 + 41 = 797\n",
      "\n",
      "No common factor greater than 1 is found.\n",
      "\n",
      "For n = 28:\n",
      "p(28) = 28^2 - 28 + 41 = 797\n",
      "p(29) = 29^2 - 29 + 41 = 853\n",
      "\n",
      "No common factor greater than 1 is found.\n",
      "\n",
      "For n = 29:\n",
      "p(29) = 29^2 - 29 + 41 = 853\n",
      "p(30) = 30^2 - 30 + 41 = 911\n",
      "\n",
      "No common factor greater than 1 is found.\n",
      "\n",
      "For n = 30:\n",
      "p(30) = 30^2 - 30 + 41 = 911\n",
      "p(31) = 31^2 - 31 + 41 = 971\n",
      "\n",
      "No common factor greater than 1 is found.\n",
      "\n",
      "For n = 31:\n",
      "p(31) = 31^2 - 31 + 41 = 971\n",
      "p(32) = 32^2 - 32 + 41 = 1033\n",
      "\n",
      "No common factor greater than 1 is found.\n",
      "\n",
      "For n = 32:\n",
      "p(32) = 32^2 - 32 + 41 = 1033\n",
      "p(33) = 33^2 - 33 + 41 = 1097\n",
      "\n",
      "No common factor greater than 1 is found.\n",
      "\n",
      "For n = 33:\n",
      "p(33) = 33^2 - 33 + 41 = 1097\n",
      "p(34) = 34^2 - 34 + 41 = 1163\n",
      "\n",
      "No common factor greater than 1 is found.\n",
      "\n",
      "For n = 34:\n",
      "p(34) = 34^2 - 34 + 41 = 1163\n",
      "p(35) = 35^2 - 35 + 41 =\n"
     ]
    }
   ],
   "source": [
    "print(none_ds[4][\"trajectory\"])"
   ]
  },
  {
   "cell_type": "code",
   "execution_count": 86,
   "id": "24864a70-72dd-4952-b8f8-d23eac681169",
   "metadata": {},
   "outputs": [
    {
     "data": {
      "application/vnd.jupyter.widget-view+json": {
       "model_id": "c9d8a7dfbf2b45b68c05d90d6b5c3caf",
       "version_major": 2,
       "version_minor": 0
      },
      "text/plain": [
       "Uploading the dataset shards:   0%|          | 0/1 [00:00<?, ?it/s]"
      ]
     },
     "metadata": {},
     "output_type": "display_data"
    },
    {
     "data": {
      "application/vnd.jupyter.widget-view+json": {
       "model_id": "9d6205305edd429ab51b0ac3c638625a",
       "version_major": 2,
       "version_minor": 0
      },
      "text/plain": [
       "Creating parquet from Arrow format:   0%|          | 0/1 [00:00<?, ?ba/s]"
      ]
     },
     "metadata": {},
     "output_type": "display_data"
    },
    {
     "data": {
      "text/plain": [
       "CommitInfo(commit_url='https://huggingface.co/datasets/sachithgunasekara/self-discover-modified-MATH-eval/commit/5a743043e87a21174d02179170d2ac08275de14e', commit_message='Upload dataset', commit_description='', oid='5a743043e87a21174d02179170d2ac08275de14e', pr_url=None, pr_revision=None, pr_num=None)"
      ]
     },
     "execution_count": 86,
     "metadata": {},
     "output_type": "execute_result"
    }
   ],
   "source": [
    "new_ds.push_to_hub(\"sachithgunasekara/self-discover-modified-MATH-eval\")"
   ]
  },
  {
   "cell_type": "code",
   "execution_count": 87,
   "id": "97bf9a63-2ef4-413f-b8e0-187426501b4b",
   "metadata": {
    "scrolled": true
   },
   "outputs": [
    {
     "data": {
      "application/vnd.jupyter.widget-view+json": {
       "model_id": "23c881f5d72b46939cb7e214593c73ea",
       "version_major": 2,
       "version_minor": 0
      },
      "text/plain": [
       "Creating CSV from Arrow format:   0%|          | 0/1 [00:00<?, ?ba/s]"
      ]
     },
     "metadata": {},
     "output_type": "display_data"
    },
    {
     "data": {
      "text/plain": [
       "1724344"
      ]
     },
     "execution_count": 87,
     "metadata": {},
     "output_type": "execute_result"
    }
   ],
   "source": [
    "new_ds.to_csv(\"./henrycks_cm_modified_evals.csv\")"
   ]
  },
  {
   "cell_type": "markdown",
   "id": "e91f619d-0efb-4423-b7ab-e9d7c25ec3ce",
   "metadata": {},
   "source": [
    "# Modified Evals"
   ]
  },
  {
   "cell_type": "code",
   "execution_count": 109,
   "id": "5e9e0e7a-8a80-4a36-9417-d82778c19228",
   "metadata": {},
   "outputs": [],
   "source": [
    "file_name = \"./project-3-at-2024-10-31-11-54-9f0e389e.json\""
   ]
  },
  {
   "cell_type": "code",
   "execution_count": 110,
   "id": "fdb3a5f4-d57b-4891-91ce-fe2ce1e3aa42",
   "metadata": {},
   "outputs": [
    {
     "data": {
      "text/plain": [
       "Dataset({\n",
       "    features: ['problem', 'level', 'type', 'solution', 'reasoning_formats', 'selected_modules', 'adapted_modules', 'reasoning_plan', 'reasoning', 'trajectory', 'answer_pred', 'id', 'correct', 'annotator', 'annotation_id', 'created_at', 'updated_at', 'lead_time'],\n",
       "    num_rows: 200\n",
       "})"
      ]
     },
     "execution_count": 110,
     "metadata": {},
     "output_type": "execute_result"
    }
   ],
   "source": [
    "with open(file_name, \"r\") as f:\n",
    "    ds_ann = Dataset.from_list(json.load(f))\n",
    "\n",
    "ds_ann"
   ]
  },
  {
   "cell_type": "code",
   "execution_count": 111,
   "id": "ed011bad-1ec7-40cd-86d3-9eae67bf87e5",
   "metadata": {},
   "outputs": [
    {
     "data": {
      "text/plain": [
       "{'problem': 'Find all the rational roots of $2x^4 - x^3 - 18x^2 + 14x + 15 = 0.$  Enter all the rational roots, separated by commas.',\n",
       " 'level': 'Level 3',\n",
       " 'type': 'Intermediate Algebra',\n",
       " 'solution': 'By the Rational Root Theorem, the only possible rational roots are of the form $\\\\frac{a}{b},$ where $a \\\\mid 15$ and $b \\\\mid 2.$  Checking all possibilities, we find that the rational roots are $\\\\boxed{\\\\frac{5}{2},-3}.$',\n",
       " 'reasoning_formats': '\\n- should be the final answer based on calculations formatted in Latex style',\n",
       " 'selected_modules': '1. How could I devise an experiment to help solve that problem?\\n4. How can I simplify the problem so that it is easier to solve?\\n9. How can I break down this problem into smaller, more manageable parts?\\n10. Critical Thinking: This style involves analyzing the problem from different perspectives, questioning assumptions, and evaluating the evidence or information available.\\n16. What is the core issue or problem that needs to be addressed?\\n25. Is the problem a technical or practical one that requires a specific expertise or skill set? Or is it more of a conceptual or theoretical problem?\\n29. Is the problem an analytical one that requires data analysis, modeling, or optimization techniques?\\n39. Let’s make a step by step plan and implement it with good notation and explanation.',\n",
       " 'adapted_modules': \"Here are the adapted reasoning module descriptions:\\n\\n1. How could I devise a systematic approach to find the rational roots of the given polynomial equation, utilizing the Rational Root Theorem and synthetic division?\\n\\n4. How can I simplify the given polynomial equation by factoring or using other algebraic techniques to make it easier to find the rational roots?\\n\\n9. How can I break down the given polynomial equation into smaller, more manageable parts, such as factoring it into quadratic or linear factors, to find the rational roots?\\n\\n10. Critical Thinking: Analyze the given polynomial equation from different perspectives, such as using the Rational Root Theorem, Descartes' Rule of Signs, or other techniques, to identify potential rational roots and evaluate the evidence.\\n\\n16. What is the core issue or problem that needs to be addressed in finding the rational roots of the given polynomial equation, and what are the key challenges or obstacles?\\n\\n25. Is finding the rational roots of the given polynomial equation a technical or practical problem that requires specific expertise or skill set in algebra, or is it more of a conceptual or theoretical problem?\\n\\n29. Is finding the rational roots of the given polynomial equation an analytical problem that requires data analysis, modeling, or optimization techniques, or can it be solved using algebraic techniques?\\n\\n39. Let's make a step-by-step plan to find the rational roots of the given polynomial equation, using good notation and explanation, and implement it systematically.\",\n",
       " 'reasoning_plan': \"Here's a step-by-step reasoning plan to find the rational roots of the given polynomial equation:\\n\\n**Step 1: Understand the Problem**\\nAnalyze the given polynomial equation $2x^4 - x^3 - 18x^2 + 14x + 15 = 0$ and identify the objective, which is to find all the rational roots.\\n\\n**Step 2: Apply the Rational Root Theorem**\\nUse the Rational Root Theorem to identify potential rational roots. The theorem states that any rational root, expressed in its lowest terms as $\\\\frac{p}{q}$, must have $p$ as a factor of the constant term (15) and $q$ as a factor of the leading coefficient (2).\\n\\n**Step 3: List Potential Rational Roots**\\nList all possible combinations of $p$ and $q$ to find potential rational roots. Factors of 15 are $\\\\pm 1, \\\\pm 3, \\\\pm 5, \\\\pm 15$, and factors of 2 are $\\\\pm 1, \\\\pm 2$.\\n\\n**Step 4: Simplify the Polynomial Equation (if possible)**\\nAttempt to simplify the polynomial equation by factoring or using other algebraic techniques to make it easier to find the rational roots.\\n\\n**Step 5: Apply Synthetic Division**\\nUse synthetic division to test each potential rational root and determine if it is indeed a root of the polynomial equation.\\n\\n**Step 6: Evaluate the Results**\\nEvaluate the results of synthetic division to identify the rational roots of the polynomial equation.\\n\\n**Step 7: Check for Additional Roots**\\nCheck if there are any additional rational roots by applying the Rational Root Theorem again or using other techniques such as Descartes' Rule of Signs.\\n\\n**Step 8: Verify the Results**\\nVerify the results by plugging the identified rational roots back into the original polynomial equation to ensure they satisfy the equation.\\n\\nBy following this step-by-step reasoning plan, an AI agent should be able to derive a solution to the given task and find all the rational roots of the polynomial equation.\",\n",
       " 'reasoning': '**Step 1: Understand the Problem**\\nThe given polynomial equation is $2x^4 - x^3 - 18x^2 + 14x + 15 = 0$. The objective is to find all the rational roots of this equation.\\n\\n**Step 2: Apply the Rational Root Theorem**\\nAccording to the Rational Root Theorem, any rational root, expressed in its lowest terms as $\\\\frac{p}{q}$, must have $p$ as a factor of the constant term (15) and $q$ as a factor of the leading coefficient (2).\\n\\n**Step 3: List Potential Rational Roots**\\nThe factors of 15 are $\\\\pm 1, \\\\pm 3, \\\\pm 5, \\\\pm 15$, and the factors of 2 are $\\\\pm 1, \\\\pm 2$. Therefore, the potential rational roots are:\\n$\\\\pm 1, \\\\pm 3, \\\\pm 5, \\\\pm 15, \\\\pm \\\\frac{1}{2}, \\\\pm \\\\frac{3}{2}, \\\\pm \\\\frac{5}{2}, \\\\pm \\\\frac{15}{2}$.\\n\\n**Step 4: Simplify the Polynomial Equation (if possible)**\\nUnfortunately, this polynomial equation cannot be easily factored or simplified.\\n\\n**Step 5: Apply Synthetic Division**\\nWe will use synthetic division to test each potential rational root.\\n\\nAfter performing synthetic division, we find that $x = -\\\\frac{3}{2}$ and $x = \\\\frac{5}{2}$ are rational roots.\\n\\n**Step 6: Evaluate the Results**\\nThe results of synthetic division show that $x = -\\\\frac{3}{2}$ and $x = \\\\frac{5}{2}$ are indeed rational roots.\\n\\n**Step 7: Check for Additional Roots**\\nWe will apply the Rational Root Theorem again to check for additional rational roots.\\n\\nAfter reapplying the Rational Root Theorem, we find no additional rational roots.\\n\\n**Step 8: Verify the Results**\\nWe will plug the identified rational roots back into the original polynomial equation to ensure they satisfy the equation.\\n\\nAfter verifying the results, we confirm that $x = -\\\\frac{3}{2}$ and $x = \\\\frac{5}{2}$ are rational roots.\\n\\nThe final answer is -\\\\frac{3}{2},\\\\frac{5}{2}.',\n",
       " 'trajectory': '**Step 1: Understand the Problem**\\nThe given polynomial equation is $2x^4 - x^3 - 18x^2 + 14x + 15 = 0$. The objective is to find all the rational roots of this equation.\\n\\n**Step 2: Apply the Rational Root Theorem**\\nAccording to the Rational Root Theorem, any rational root, expressed in its lowest terms as $\\\\frac{p}{q}$, must have $p$ as a factor of the constant term (15) and $q$ as a factor of the leading coefficient (2).\\n\\n**Step 3: List Potential Rational Roots**\\nThe factors of 15 are $\\\\pm 1, \\\\pm 3, \\\\pm 5, \\\\pm 15$, and the factors of 2 are $\\\\pm 1, \\\\pm 2$. Therefore, the potential rational roots are:\\n$\\\\pm 1, \\\\pm 3, \\\\pm 5, \\\\pm 15, \\\\pm \\\\frac{1}{2}, \\\\pm \\\\frac{3}{2}, \\\\pm \\\\frac{5}{2}, \\\\pm \\\\frac{15}{2}$.\\n\\n**Step 4: Simplify the Polynomial Equation (if possible)**\\nUnfortunately, this polynomial equation cannot be easily factored or simplified.\\n\\n**Step 5: Apply Synthetic Division**\\nWe will use synthetic division to test each potential rational root.\\n\\nAfter performing synthetic division, we find that $x = -\\\\frac{3}{2}$ and $x = \\\\frac{5}{2}$ are rational roots.\\n\\n**Step 6: Evaluate the Results**\\nThe results of synthetic division show that $x = -\\\\frac{3}{2}$ and $x = \\\\frac{5}{2}$ are indeed rational roots.\\n\\n**Step 7: Check for Additional Roots**\\nWe will apply the Rational Root Theorem again to check for additional rational roots.\\n\\nAfter reapplying the Rational Root Theorem, we find no additional rational roots.\\n\\n**Step 8: Verify the Results**\\nWe will plug the identified rational roots back into the original polynomial equation to ensure they satisfy the equation.\\n\\nAfter verifying the results, we confirm that $x = -\\\\frac{3}{2}$ and $x = \\\\frac{5}{2}$ are rational roots.',\n",
       " 'answer_pred': '-\\\\frac{3}{2},\\\\frac{5}{2}.',\n",
       " 'id': 201,\n",
       " 'correct': 'False',\n",
       " 'annotator': 1,\n",
       " 'annotation_id': 240,\n",
       " 'created_at': '2024-10-31T10:14:27.321209Z',\n",
       " 'updated_at': '2024-10-31T10:14:27.321237Z',\n",
       " 'lead_time': 14.189}"
      ]
     },
     "execution_count": 111,
     "metadata": {},
     "output_type": "execute_result"
    }
   ],
   "source": [
    "ds_ann[0]"
   ]
  },
  {
   "cell_type": "code",
   "execution_count": 112,
   "id": "cc71a83d-af43-4fca-a3a3-fed9abf843c5",
   "metadata": {},
   "outputs": [
    {
     "data": {
      "application/vnd.jupyter.widget-view+json": {
       "model_id": "592f6888d7bf4fceb768e32f264961a4",
       "version_major": 2,
       "version_minor": 0
      },
      "text/plain": [
       "Filter:   0%|          | 0/200 [00:00<?, ? examples/s]"
      ]
     },
     "metadata": {},
     "output_type": "display_data"
    },
    {
     "data": {
      "text/plain": [
       "0.755"
      ]
     },
     "execution_count": 112,
     "metadata": {},
     "output_type": "execute_result"
    }
   ],
   "source": [
    "corr = ds_ann.filter(lambda x: x[\"correct\"] == \"True\")\n",
    "corr.num_rows / ds_ann.num_rows"
   ]
  },
  {
   "cell_type": "code",
   "execution_count": 113,
   "id": "dcebe47e-eded-4fe6-8bf6-690698a3b735",
   "metadata": {},
   "outputs": [
    {
     "data": {
      "application/vnd.jupyter.widget-view+json": {
       "model_id": "2e1c0ae5dd0e4e6e89d0b4acebda1efb",
       "version_major": 2,
       "version_minor": 0
      },
      "text/plain": [
       "Uploading the dataset shards:   0%|          | 0/1 [00:00<?, ?it/s]"
      ]
     },
     "metadata": {},
     "output_type": "display_data"
    },
    {
     "data": {
      "application/vnd.jupyter.widget-view+json": {
       "model_id": "400cd04b1c5d4c75a19a2b21c27c881f",
       "version_major": 2,
       "version_minor": 0
      },
      "text/plain": [
       "Creating parquet from Arrow format:   0%|          | 0/1 [00:00<?, ?ba/s]"
      ]
     },
     "metadata": {},
     "output_type": "display_data"
    },
    {
     "data": {
      "text/plain": [
       "CommitInfo(commit_url='https://huggingface.co/datasets/sachithgunasekara/self-discover-modified-MATH-eval-annotated/commit/d68fc5be036c156ce19253cad015acb865572358', commit_message='Upload dataset', commit_description='', oid='d68fc5be036c156ce19253cad015acb865572358', pr_url=None, pr_revision=None, pr_num=None)"
      ]
     },
     "execution_count": 113,
     "metadata": {},
     "output_type": "execute_result"
    }
   ],
   "source": [
    "ds_ann.push_to_hub(\"sachithgunasekara/self-discover-modified-MATH-eval-annotated\")"
   ]
  }
 ],
 "metadata": {
  "kernelspec": {
   "display_name": "Python 3 (ipykernel)",
   "language": "python",
   "name": "python3"
  },
  "language_info": {
   "codemirror_mode": {
    "name": "ipython",
    "version": 3
   },
   "file_extension": ".py",
   "mimetype": "text/x-python",
   "name": "python",
   "nbconvert_exporter": "python",
   "pygments_lexer": "ipython3",
   "version": "3.8.10"
  }
 },
 "nbformat": 4,
 "nbformat_minor": 5
}
