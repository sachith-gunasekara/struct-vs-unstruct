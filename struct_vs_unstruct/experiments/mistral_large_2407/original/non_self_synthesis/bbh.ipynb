{
 "cells": [
  {
   "cell_type": "code",
   "execution_count": 1,
   "id": "a4202b42-fcb2-4057-ba20-4b900b985a78",
   "metadata": {},
   "outputs": [],
   "source": [
    "from datasets import Dataset\n",
    "from pyprojroot import here\n",
    "import os"
   ]
  },
  {
   "cell_type": "code",
   "execution_count": 2,
   "id": "5a87172d-a31f-4bf9-8eac-cfb89b9f6f04",
   "metadata": {},
   "outputs": [
    {
     "name": "stdout",
     "output_type": "stream",
     "text": [
      "/home/ubuntu/jupyter/struct-vs-unstruct/struct_vs_unstruct/data/mistral_large_2407/original/non_self_synthesis/bbh\n",
      "/home/ubuntu/jupyter/struct-vs-unstruct/struct_vs_unstruct/data/mistral_large_2407/original/non_self_synthesis/bbh/refined\n"
     ]
    }
   ],
   "source": [
    "par_dir = here(\"struct_vs_unstruct/data/mistral_large_2407/original/non_self_synthesis/bbh/\")\n",
    "save_par_dir = here(os.path.join(par_dir, \"refined\"))\n",
    "print(par_dir)\n",
    "print(save_par_dir)"
   ]
  },
  {
   "cell_type": "markdown",
   "id": "ad382360-c910-4008-9e29-ed54d2af6a60",
   "metadata": {
    "jp-MarkdownHeadingCollapsed": true
   },
   "source": [
    "# boolean_expressions"
   ]
  },
  {
   "cell_type": "code",
   "execution_count": 6,
   "id": "8e97125a-4717-448e-bb9c-e60b55801a29",
   "metadata": {},
   "outputs": [],
   "source": [
    "chk_dir = here(os.path.join(par_dir, \"bbh-boolean_expressions/bbh_eval\"))"
   ]
  },
  {
   "cell_type": "code",
   "execution_count": 5,
   "id": "40d8dd0a-6202-4900-9a23-f015a60d4ea8",
   "metadata": {},
   "outputs": [],
   "source": [
    "dataset = Dataset.load_from_disk(chk_dir)"
   ]
  },
  {
   "cell_type": "code",
   "execution_count": 7,
   "id": "2855ae0f-99fd-4bbd-9c64-98fcb2d08074",
   "metadata": {},
   "outputs": [
    {
     "data": {
      "text/plain": [
       "{'False\"',\n",
       " 'False.',\n",
       " 'False.\"',\n",
       " 'True\"',\n",
       " 'True.',\n",
       " 'True.\"',\n",
       " 'True.\",',\n",
       " 'not True or False.\"'}"
      ]
     },
     "execution_count": 7,
     "metadata": {},
     "output_type": "execute_result"
    }
   ],
   "source": [
    "set(dataset[\"answer_pred\"])"
   ]
  },
  {
   "cell_type": "code",
   "execution_count": 10,
   "id": "88f60d5b-30f8-4fa0-b307-bed3b745d4ff",
   "metadata": {},
   "outputs": [
    {
     "data": {
      "application/vnd.jupyter.widget-view+json": {
       "model_id": "90a5c4778c6a47668fe5edb2b419cc25",
       "version_major": 2,
       "version_minor": 0
      },
      "text/plain": [
       "Map:   0%|          | 0/250 [00:00<?, ? examples/s]"
      ]
     },
     "metadata": {},
     "output_type": "display_data"
    }
   ],
   "source": [
    "def map_fn(instance):    \n",
    "    return {\n",
    "        \"answer_pred\": instance[\"answer_pred\"].translate(str.maketrans(\"\", \"\", '.,\"'))\n",
    "    }\n",
    "\n",
    "new_ds = dataset.map(map_fn, load_from_cache_file=False)"
   ]
  },
  {
   "cell_type": "code",
   "execution_count": 11,
   "id": "eca2fcf7-8392-4dec-ad63-eae11aa03398",
   "metadata": {},
   "outputs": [
    {
     "data": {
      "text/plain": [
       "{'False', 'True', 'not True or False'}"
      ]
     },
     "execution_count": 11,
     "metadata": {},
     "output_type": "execute_result"
    }
   ],
   "source": [
    "set(new_ds[\"answer_pred\"])"
   ]
  },
  {
   "cell_type": "code",
   "execution_count": 12,
   "id": "71698ea6-7042-4127-8f95-a0eb5477ac7b",
   "metadata": {},
   "outputs": [
    {
     "data": {
      "application/vnd.jupyter.widget-view+json": {
       "model_id": "71ef347e47df4d5bb17ebd62b8b501f0",
       "version_major": 2,
       "version_minor": 0
      },
      "text/plain": [
       "Saving the dataset (0/1 shards):   0%|          | 0/250 [00:00<?, ? examples/s]"
      ]
     },
     "metadata": {},
     "output_type": "display_data"
    }
   ],
   "source": [
    "new_ds.save_to_disk(os.path.join(save_par_dir, \"boolean_expressions\"))"
   ]
  },
  {
   "cell_type": "code",
   "execution_count": 15,
   "id": "c02dc813-116d-4514-aa52-6021f14700b7",
   "metadata": {},
   "outputs": [
    {
     "data": {
      "text/plain": [
       "('Accuracy', 0.956)"
      ]
     },
     "execution_count": 15,
     "metadata": {},
     "output_type": "execute_result"
    }
   ],
   "source": [
    "total = 0\n",
    "for instance in new_ds:\n",
    "    if instance[\"answer_pred\"] == instance[\"target\"]:\n",
    "        total += 1\n",
    "\n",
    "\"Accuracy\", total / new_ds.num_rows"
   ]
  },
  {
   "cell_type": "markdown",
   "id": "f896b20a-b9ca-4770-8d0b-b37c9a472974",
   "metadata": {
    "jp-MarkdownHeadingCollapsed": true
   },
   "source": [
    "# causal_judgement"
   ]
  },
  {
   "cell_type": "code",
   "execution_count": 16,
   "id": "60f0dec8-135d-4ec6-b413-321e122d6151",
   "metadata": {},
   "outputs": [],
   "source": [
    "chk_dir = here(os.path.join(par_dir, \"bbh-causal_judgement/bbh_eval\"))"
   ]
  },
  {
   "cell_type": "code",
   "execution_count": 17,
   "id": "82137aca-da0f-4847-b1f2-4f6fdf0cd8bf",
   "metadata": {},
   "outputs": [],
   "source": [
    "dataset = Dataset.load_from_disk(chk_dir)"
   ]
  },
  {
   "cell_type": "code",
   "execution_count": 18,
   "id": "4bfd0f92-5704-4319-8f03-e00261008556",
   "metadata": {},
   "outputs": [
    {
     "data": {
      "text/plain": [
       "{'No.', 'No.\"', 'Yes.', 'Yes.\"'}"
      ]
     },
     "execution_count": 18,
     "metadata": {},
     "output_type": "execute_result"
    }
   ],
   "source": [
    "set(dataset[\"answer_pred\"])"
   ]
  },
  {
   "cell_type": "code",
   "execution_count": 19,
   "id": "49f660c3-20bf-460d-b16d-5554e01c96d4",
   "metadata": {},
   "outputs": [
    {
     "data": {
      "application/vnd.jupyter.widget-view+json": {
       "model_id": "5f3fc8aa4f1a4ec3b37ac78b4bb17a6e",
       "version_major": 2,
       "version_minor": 0
      },
      "text/plain": [
       "Map:   0%|          | 0/187 [00:00<?, ? examples/s]"
      ]
     },
     "metadata": {},
     "output_type": "display_data"
    }
   ],
   "source": [
    "def map_fn(instance):    \n",
    "    return {\n",
    "        \"answer_pred\": instance[\"answer_pred\"].translate(str.maketrans(\"\", \"\", '.\"')) if instance[\"answer_pred\"] else None\n",
    "    }\n",
    "\n",
    "new_ds = dataset.map(map_fn, load_from_cache_file=False)"
   ]
  },
  {
   "cell_type": "code",
   "execution_count": 20,
   "id": "896afd9e-c33c-4bea-89a8-df22c7874e9f",
   "metadata": {},
   "outputs": [
    {
     "data": {
      "text/plain": [
       "{'No', 'Yes'}"
      ]
     },
     "execution_count": 20,
     "metadata": {},
     "output_type": "execute_result"
    }
   ],
   "source": [
    "set(new_ds[\"answer_pred\"])"
   ]
  },
  {
   "cell_type": "code",
   "execution_count": 21,
   "id": "46a37879-f0fa-4be7-867f-268848ac8af4",
   "metadata": {},
   "outputs": [
    {
     "data": {
      "application/vnd.jupyter.widget-view+json": {
       "model_id": "95285392a62140338e795df94bf6e31a",
       "version_major": 2,
       "version_minor": 0
      },
      "text/plain": [
       "Filter:   0%|          | 0/187 [00:00<?, ? examples/s]"
      ]
     },
     "metadata": {},
     "output_type": "display_data"
    },
    {
     "data": {
      "text/plain": [
       "0.7005347593582888"
      ]
     },
     "execution_count": 21,
     "metadata": {},
     "output_type": "execute_result"
    }
   ],
   "source": [
    "corr = new_ds.filter(lambda x: x[\"target\"] == x[\"answer_pred\"])\n",
    "corr.num_rows / new_ds.num_rows"
   ]
  },
  {
   "cell_type": "code",
   "execution_count": 22,
   "id": "43dae966-2a98-49e9-ae04-5f6e20a6e891",
   "metadata": {},
   "outputs": [
    {
     "data": {
      "application/vnd.jupyter.widget-view+json": {
       "model_id": "62ee5285381a4dfeabb161dec6007452",
       "version_major": 2,
       "version_minor": 0
      },
      "text/plain": [
       "Saving the dataset (0/1 shards):   0%|          | 0/187 [00:00<?, ? examples/s]"
      ]
     },
     "metadata": {},
     "output_type": "display_data"
    }
   ],
   "source": [
    "new_ds.save_to_disk(os.path.join(save_par_dir, \"causal_judgement\"))"
   ]
  },
  {
   "cell_type": "markdown",
   "id": "56710f05-faca-4518-b318-54739646e5d7",
   "metadata": {
    "jp-MarkdownHeadingCollapsed": true
   },
   "source": [
    "# date_understanding"
   ]
  },
  {
   "cell_type": "code",
   "execution_count": 23,
   "id": "71df491e-6a9a-424b-a3ad-6418d59e6d13",
   "metadata": {},
   "outputs": [],
   "source": [
    "chk_dir = here(os.path.join(par_dir, \"bbh-date_understanding/bbh_eval\"))"
   ]
  },
  {
   "cell_type": "code",
   "execution_count": 24,
   "id": "021c7135-b8b8-4d77-a787-0c37e9df3217",
   "metadata": {},
   "outputs": [],
   "source": [
    "dataset = Dataset.load_from_disk(chk_dir)"
   ]
  },
  {
   "cell_type": "code",
   "execution_count": 25,
   "id": "6ab4ee2a-1ae6-41be-8e71-9e40d4d9ab57",
   "metadata": {},
   "outputs": [
    {
     "data": {
      "text/plain": [
       "{'(D).\"',\n",
       " '(E).',\n",
       " '(E).\"',\n",
       " '(F) 06/01/1943.',\n",
       " '(F) 11/30/2019.\"',\n",
       " '(F) 12/31/2014.\"',\n",
       " 'A\"',\n",
       " 'A.',\n",
       " 'A.\"',\n",
       " 'B\"',\n",
       " 'B.',\n",
       " 'B.\"',\n",
       " 'C\"',\n",
       " 'C.',\n",
       " 'C.\"',\n",
       " 'D\"',\n",
       " 'D.',\n",
       " 'D.\"',\n",
       " 'E\"',\n",
       " 'E.',\n",
       " 'E.\"',\n",
       " 'F\"',\n",
       " 'F.',\n",
       " 'F.\"',\n",
       " None,\n",
       " 'None of the options match the calculated date.',\n",
       " 'None of the options match the calculated date.\"',\n",
       " 'None of the options match the new date.',\n",
       " 'not listed among the given options.',\n",
       " 'not listed among the provided options.',\n",
       " 'not listed in the options.\"',\n",
       " 'that none of the given options match the calculated date of 02/16/2010.',\n",
       " 'that none of the given options match the calculated date.\"',\n",
       " 'that none of the options match the calculated date 05/01/2021.',\n",
       " 'that none of the options match the calculated date.',\n",
       " 'that the calculated date 01/02/1963 does not match any of the provided options.'}"
      ]
     },
     "execution_count": 25,
     "metadata": {},
     "output_type": "execute_result"
    }
   ],
   "source": [
    "set(dataset[\"answer_pred\"])"
   ]
  },
  {
   "cell_type": "code",
   "execution_count": 26,
   "id": "bf1e8c96-39e6-449f-827d-4b3d8c93355b",
   "metadata": {},
   "outputs": [
    {
     "data": {
      "application/vnd.jupyter.widget-view+json": {
       "model_id": "bde06d8df7f641959f25860357ffdee6",
       "version_major": 2,
       "version_minor": 0
      },
      "text/plain": [
       "Map:   0%|          | 0/250 [00:00<?, ? examples/s]"
      ]
     },
     "metadata": {},
     "output_type": "display_data"
    }
   ],
   "source": [
    "def map_fn(instance):\n",
    "    return {\n",
    "        \"answer_pred\": instance[\"answer_pred\"].translate(str.maketrans(\"\", \"\", '.,()\"')) if instance[\"answer_pred\"] else None\n",
    "    }\n",
    "\n",
    "new_ds = dataset.map(map_fn, load_from_cache_file=False)"
   ]
  },
  {
   "cell_type": "code",
   "execution_count": 27,
   "id": "41cf17a6-0769-48f7-9594-d7e0e4bb3ad6",
   "metadata": {},
   "outputs": [
    {
     "data": {
      "text/plain": [
       "{'A',\n",
       " 'B',\n",
       " 'C',\n",
       " 'D',\n",
       " 'E',\n",
       " 'F',\n",
       " 'F 06/01/1943',\n",
       " 'F 11/30/2019',\n",
       " 'F 12/31/2014',\n",
       " None,\n",
       " 'None of the options match the calculated date',\n",
       " 'None of the options match the new date',\n",
       " 'not listed among the given options',\n",
       " 'not listed among the provided options',\n",
       " 'not listed in the options',\n",
       " 'that none of the given options match the calculated date',\n",
       " 'that none of the given options match the calculated date of 02/16/2010',\n",
       " 'that none of the options match the calculated date',\n",
       " 'that none of the options match the calculated date 05/01/2021',\n",
       " 'that the calculated date 01/02/1963 does not match any of the provided options'}"
      ]
     },
     "execution_count": 27,
     "metadata": {},
     "output_type": "execute_result"
    }
   ],
   "source": [
    "set(new_ds[\"answer_pred\"])"
   ]
  },
  {
   "cell_type": "code",
   "execution_count": 30,
   "id": "5513e2f2-ebfa-4ef2-b872-e446e4d26c7e",
   "metadata": {},
   "outputs": [
    {
     "data": {
      "application/vnd.jupyter.widget-view+json": {
       "model_id": "2148c0989b6148628809928f5fcd0f65",
       "version_major": 2,
       "version_minor": 0
      },
      "text/plain": [
       "Map:   0%|          | 0/250 [00:00<?, ? examples/s]"
      ]
     },
     "metadata": {},
     "output_type": "display_data"
    }
   ],
   "source": [
    "def map_fn(ins):\n",
    "    ls = ins[\"answer_pred\"].split() if ins[\"answer_pred\"] else [None]\n",
    "\n",
    "    if ls[0] == \"F\":\n",
    "        return {\n",
    "            \"answer_pred\": \"F\"\n",
    "        }\n",
    "\n",
    "    return {\n",
    "        \"answer_pred\": ins[\"answer_pred\"]\n",
    "    }\n",
    "\n",
    "new_ds = new_ds.map(map_fn)"
   ]
  },
  {
   "cell_type": "code",
   "execution_count": 31,
   "id": "fc0c7727-fb1a-4965-967f-fa396f1fb5b0",
   "metadata": {},
   "outputs": [
    {
     "data": {
      "text/plain": [
       "{'A',\n",
       " 'B',\n",
       " 'C',\n",
       " 'D',\n",
       " 'E',\n",
       " 'F',\n",
       " None,\n",
       " 'None of the options match the calculated date',\n",
       " 'None of the options match the new date',\n",
       " 'not listed among the given options',\n",
       " 'not listed among the provided options',\n",
       " 'not listed in the options',\n",
       " 'that none of the given options match the calculated date',\n",
       " 'that none of the given options match the calculated date of 02/16/2010',\n",
       " 'that none of the options match the calculated date',\n",
       " 'that none of the options match the calculated date 05/01/2021',\n",
       " 'that the calculated date 01/02/1963 does not match any of the provided options'}"
      ]
     },
     "execution_count": 31,
     "metadata": {},
     "output_type": "execute_result"
    }
   ],
   "source": [
    "set(new_ds[\"answer_pred\"])"
   ]
  },
  {
   "cell_type": "code",
   "execution_count": 32,
   "id": "a8731798-91af-4f87-aa9c-e75f8aac9dbe",
   "metadata": {},
   "outputs": [
    {
     "data": {
      "application/vnd.jupyter.widget-view+json": {
       "model_id": "37568872ab8b49e1a20dad7b5a9e4a88",
       "version_major": 2,
       "version_minor": 0
      },
      "text/plain": [
       "Filter:   0%|          | 0/250 [00:00<?, ? examples/s]"
      ]
     },
     "metadata": {},
     "output_type": "display_data"
    },
    {
     "data": {
      "text/plain": [
       "Dataset({\n",
       "    features: ['input', 'target', 'reasoning_formats', 'selected_modules', 'adapted_modules', 'reasoning_structure', 'reasoning', 'trajectory', 'answer_pred'],\n",
       "    num_rows: 3\n",
       "})"
      ]
     },
     "execution_count": 32,
     "metadata": {},
     "output_type": "execute_result"
    }
   ],
   "source": [
    "ds_none = new_ds.filter(lambda x: x[\"answer_pred\"] == None)\n",
    "ds_none"
   ]
  },
  {
   "cell_type": "code",
   "execution_count": 35,
   "id": "9d173fa2-7b9c-4f4e-a551-84df863a5d80",
   "metadata": {},
   "outputs": [
    {
     "data": {
      "text/plain": [
       "{'input': 'Jane scheduled 3 apointments with 5 poeple for tomorrow (Tue, 7/9/1972). What is the date tomorrow in MM/DD/YYYY?\\nOptions:\\n(A) 07/09/1923\\n(B) 08/05/1972\\n(C) 09/01/1972\\n(D) 07/09/1972\\n(E) 07/09/2007\\n(F) 09/04/1972',\n",
       " 'target': '(D)',\n",
       " 'reasoning_formats': '\\n- If the answer is not multiple choice, [answer] should be the decided answer. (For eg: Q: not True or False. A: False)\\n- If the answer is multiple choice,\\n    - and the given choices are unlabelled options, [answer] should be the chosen option (For eg: Q: Where does the sun rise from? Options: - East, - West, - North. A: East)\\n    - and the given choices are labelled options, [answer] should be the letter corresponding to the chosen option (For eg: Q: Where does the sun rise from? Options: - A. West, - B. East, - C. North. A: B)',\n",
       " 'selected_modules': '16. What is the core issue or problem that needs to be addressed?\\n20. Are there any relevant data or information that can provide insights into the problem? If yes, what data sources are available, and how can they be analyzed?\\n29. Is the problem an analytical one that requires data analysis, modeling, or optimization techniques?\\n39. Let’s make a step by step plan and implement it with good notation and explanation.',\n",
       " 'adapted_modules': '16. What is the core issue or problem that needs to be addressed?\\n   - Identify the correct date for tomorrow given the initial date of 7/9/1972.\\n\\n20. Are there any relevant data or information that can provide insights into the problem? If yes, what data sources are available, and how can they be analyzed?\\n   - Use the given date (7/9/1972) and the fact that it is a Monday to determine the date for the next day (Tuesday).\\n\\n29. Is the problem an analytical one that requires data analysis, modeling, or optimization techniques?\\n   - Determine if the problem requires simple date calculation or more complex calendar analysis.\\n\\n39. Let’s make a step by step plan and implement it with good notation and explanation.\\n   - Step 1: Confirm the given date is 7/9/1972 and it is a Monday.\\n   - Step 2: Calculate the date for the next day (Tuesday).\\n   - Step 3: Verify the calculated date against the provided options.',\n",
       " 'reasoning_structure': 'Certainly! Here is a step-by-step reasoning plan in JSON format for determining the correct date for tomorrow given the initial date of 7/9/1972:\\n\\n```json\\n{\\n    \"Step 1: Confirm the given date and day\": {\\n        \"Description\": \"Verify that the given date is 7/9/1972 and that it is a Monday.\",\\n        \"Action\": \"Check the provided date and day of the week.\"\\n    },\\n    \"Step 2: Calculate the date for the next day\": {\\n        \"Description\": \"Determine the date for the next day (Tuesday) based on the given date.\",\\n        \"Action\": \"Add one day to the given date (7/9/1972).\"\\n    },\\n    \"Step 3: Verify the calculated date against the provided options\": {\\n        \"Description\": \"Compare the calculated date for tomorrow with the provided options.\",\\n        \"Action\": \"Match the calculated date with one of the options (A, B, C, D, E, F).\"\\n    },\\n    \"Is the calculated date one of the provided options\": {\\n        \"Description\": \"Confirm if the calculated date for tomorrow matches any of the given options.\",\\n        \"Action\": \"Identify the correct option based on the calculated date.\"\\n    }\\n}\\n```\\n\\nThis plan outlines the steps needed to solve the problem and can be filled out in the future to arrive at the correct conclusion.',\n",
       " 'reasoning': '```json\\n{\\n    \"Step 1: Confirm the given date and day\": {\\n        \"Description\": \"Verify that the given date is 7/9/1972 and that it is a Monday.\",\\n        \"Action\": \"Check the provided date and day of the week.\",\\n        \"Result\": \"The given date is 7/9/1972 and it is a Monday.\"\\n    },\\n    \"Step 2: Calculate the date for the next day\": {\\n        \"Description\": \"Determine the date for the next day (Tuesday) based on the given date.\",\\n        \"Action\": \"Add one day to the given date (7/9/1972).\",\\n        \"Result\": \"The date for the next day is 7/10/1972.\"\\n    },\\n    \"Step 3: Verify the calculated date against the provided options\": {\\n        \"Description\": \"Compare the calculated date for tomorrow with the provided options.\",\\n        \"Action\": \"Match the calculated date with one of the options (A, B, C, D, E, F).\",\\n        \"Result\": \"The calculated date (7/10/1972) does not match any of the provided options.\"\\n    },\\n    \"Is the calculated date one of the provided options\": {\\n        \"Description\": \"Confirm if the calculated date for tomorrow matches any of the given options.\",\\n        \"Action\": \"Identify the correct option based on the calculated date.\",\\n        \"Result\": \"None of the options match the calculated date.\"\\n    }\\n}\\n```\\n\\nThe final answer is: None of the options match the calculated date.',\n",
       " 'trajectory': '```json\\n{\\n    \"Step 1: Confirm the given date and day\": {\\n        \"Description\": \"Verify that the given date is 7/9/1972 and that it is a Monday.\",\\n        \"Action\": \"Check the provided date and day of the week.\",\\n        \"Result\": \"The given date is 7/9/1972 and it is a Monday.\"\\n    },\\n    \"Step 2: Calculate the date for the next day\": {\\n        \"Description\": \"Determine the date for the next day (Tuesday) based on the given date.\",\\n        \"Action\": \"Add one day to the given date (7/9/1972).\",\\n        \"Result\": \"The date for the next day is 7/10/1972.\"\\n    },\\n    \"Step 3: Verify the calculated date against the provided options\": {\\n        \"Description\": \"Compare the calculated date for tomorrow with the provided options.\",\\n        \"Action\": \"Match the calculated date with one of the options (A, B, C, D, E, F).\",\\n        \"Result\": \"The calculated date (7/10/1972) does not match any of the provided options.\"\\n    },\\n    \"Is the calculated date one of the provided options\": {\\n        \"Description\": \"Confirm if the calculated date for tomorrow matches any of the given options.\",\\n        \"Action\": \"Identify the correct option based on the calculated date.\",\\n        \"Result\": \"None of the options match the calculated date.\"\\n    }\\n}\\n```\\n\\nThe final answer is: None of the options match the calculated date.',\n",
       " 'answer_pred': None}"
      ]
     },
     "execution_count": 35,
     "metadata": {},
     "output_type": "execute_result"
    }
   ],
   "source": [
    "ds_none[2]"
   ]
  },
  {
   "cell_type": "code",
   "execution_count": 37,
   "id": "b3165a2f-ef46-42d2-8c22-f67922757d90",
   "metadata": {},
   "outputs": [
    {
     "data": {
      "application/vnd.jupyter.widget-view+json": {
       "model_id": "ce81c9ed9a7448169d2fe2cf9a303725",
       "version_major": 2,
       "version_minor": 0
      },
      "text/plain": [
       "Saving the dataset (0/1 shards):   0%|          | 0/250 [00:00<?, ? examples/s]"
      ]
     },
     "metadata": {},
     "output_type": "display_data"
    }
   ],
   "source": [
    "start_string, end_string = \"non_self_synthesis/bbh/\", \"/bbh_eval\"\n",
    "cat = str(chk_dir)[str(chk_dir).find(start_string) + len(start_string) + 4:str(chk_dir).find(end_string)]\n",
    "new_ds.save_to_disk(os.path.join(save_par_dir, cat))"
   ]
  },
  {
   "cell_type": "code",
   "execution_count": 38,
   "id": "710a4930-1b3b-4713-ba53-a90851d9cd80",
   "metadata": {},
   "outputs": [
    {
     "data": {
      "text/plain": [
       "('Accuracy', 0.816)"
      ]
     },
     "execution_count": 38,
     "metadata": {},
     "output_type": "execute_result"
    }
   ],
   "source": [
    "total = 0\n",
    "\n",
    "for instance in new_ds:\n",
    "    if instance[\"answer_pred\"] == instance[\"target\"].translate(str.maketrans(\"\", \"\", '()\"')):\n",
    "        total += 1\n",
    "\n",
    "\"Accuracy\", total / new_ds.num_rows"
   ]
  },
  {
   "cell_type": "markdown",
   "id": "42902384-b596-4280-9966-8fa9e0e11ae6",
   "metadata": {
    "jp-MarkdownHeadingCollapsed": true
   },
   "source": [
    "# disambiguation_qa"
   ]
  },
  {
   "cell_type": "code",
   "execution_count": 39,
   "id": "3b529475-dada-4c81-9a3e-909b3eb864fc",
   "metadata": {},
   "outputs": [],
   "source": [
    "chk_dir = here(os.path.join(par_dir, \"bbh-disambiguation_qa/bbh_eval\"))"
   ]
  },
  {
   "cell_type": "code",
   "execution_count": 40,
   "id": "f940e07e-333e-4f07-9438-d2a158fa225b",
   "metadata": {},
   "outputs": [],
   "source": [
    "dataset = Dataset.load_from_disk(chk_dir)"
   ]
  },
  {
   "cell_type": "code",
   "execution_count": 41,
   "id": "21133bee-e7ac-4fa4-9c26-bf7a9d011447",
   "metadata": {},
   "outputs": [
    {
     "data": {
      "text/plain": [
       "{'(A) Alex sent the letter.',\n",
       " '(A) Alex sent the letter.\"',\n",
       " '(A) It is Sam\\'s office\"',\n",
       " '(A) It was the educator\\'s grading policy.\"',\n",
       " '(A) The developer focuses on code.',\n",
       " '(A) The homeowner had purchased.\"',\n",
       " '(A) The lawyer needed to understand.\"',\n",
       " '(A) The mechanic was in a good mood.',\n",
       " '(A) The patient had a skin condition.\"',\n",
       " '(A) The scientist shares a story\"',\n",
       " '(A) The surgeon needed more time.',\n",
       " '(A) The worker was repairing.\"',\n",
       " \"(A) They were my parent's secretary.\",\n",
       " '(A).',\n",
       " '(A).\"',\n",
       " '(B).\"',\n",
       " '(C) Ambiguous\"',\n",
       " '(C) Ambiguous.',\n",
       " '(C) Ambiguous.\"',\n",
       " '(C).',\n",
       " 'A\"',\n",
       " 'A.',\n",
       " 'A.\"',\n",
       " 'B\"',\n",
       " 'B.',\n",
       " 'B. It is the chef\\'s culinary training.\"',\n",
       " 'B. The pronoun \\'them\\' refers to \\'the editor\\'.\"',\n",
       " 'B.\"',\n",
       " 'C\"',\n",
       " 'C.',\n",
       " 'C.\"'}"
      ]
     },
     "execution_count": 41,
     "metadata": {},
     "output_type": "execute_result"
    }
   ],
   "source": [
    "set(dataset[\"answer_pred\"])"
   ]
  },
  {
   "cell_type": "code",
   "execution_count": 42,
   "id": "71ac8e8b-1d12-43d8-a23e-afd10f410619",
   "metadata": {},
   "outputs": [
    {
     "data": {
      "application/vnd.jupyter.widget-view+json": {
       "model_id": "d5fe987df5764d0682f59336ee28b4ea",
       "version_major": 2,
       "version_minor": 0
      },
      "text/plain": [
       "Map:   0%|          | 0/250 [00:00<?, ? examples/s]"
      ]
     },
     "metadata": {},
     "output_type": "display_data"
    }
   ],
   "source": [
    "def map_fn(instance):    \n",
    "    return {\n",
    "        \"answer_pred\": instance[\"answer_pred\"].translate(str.maketrans(\"\", \"\", '.,()\"')) if instance[\"answer_pred\"] else None\n",
    "    }\n",
    "\n",
    "new_ds = dataset.map(map_fn, load_from_cache_file=False)"
   ]
  },
  {
   "cell_type": "code",
   "execution_count": 43,
   "id": "3724e230-574d-407c-8b07-cded9deb91ed",
   "metadata": {},
   "outputs": [
    {
     "data": {
      "text/plain": [
       "{'A',\n",
       " 'A Alex sent the letter',\n",
       " \"A It is Sam's office\",\n",
       " \"A It was the educator's grading policy\",\n",
       " 'A The developer focuses on code',\n",
       " 'A The homeowner had purchased',\n",
       " 'A The lawyer needed to understand',\n",
       " 'A The mechanic was in a good mood',\n",
       " 'A The patient had a skin condition',\n",
       " 'A The scientist shares a story',\n",
       " 'A The surgeon needed more time',\n",
       " 'A The worker was repairing',\n",
       " \"A They were my parent's secretary\",\n",
       " 'B',\n",
       " \"B It is the chef's culinary training\",\n",
       " \"B The pronoun 'them' refers to 'the editor'\",\n",
       " 'C',\n",
       " 'C Ambiguous'}"
      ]
     },
     "execution_count": 43,
     "metadata": {},
     "output_type": "execute_result"
    }
   ],
   "source": [
    "set(new_ds[\"answer_pred\"])"
   ]
  },
  {
   "cell_type": "code",
   "execution_count": 44,
   "id": "7e77469e-5af5-40cb-891a-7fe9cc940dc7",
   "metadata": {},
   "outputs": [
    {
     "data": {
      "application/vnd.jupyter.widget-view+json": {
       "model_id": "5e63f48bad5a47f7a9b7e2191f4ab3b8",
       "version_major": 2,
       "version_minor": 0
      },
      "text/plain": [
       "Map:   0%|          | 0/250 [00:00<?, ? examples/s]"
      ]
     },
     "metadata": {},
     "output_type": "display_data"
    },
    {
     "data": {
      "text/plain": [
       "{'A', 'B', 'C'}"
      ]
     },
     "execution_count": 44,
     "metadata": {},
     "output_type": "execute_result"
    }
   ],
   "source": [
    "def map_fn(ins):\n",
    "    ls = ins[\"answer_pred\"].split()\n",
    "\n",
    "    return {\n",
    "        \"answer_pred\": ls[0]\n",
    "    }\n",
    "\n",
    "new_ds = new_ds.map(map_fn)\n",
    "set(new_ds[\"answer_pred\"])"
   ]
  },
  {
   "cell_type": "code",
   "execution_count": 45,
   "id": "d4ac2278-e11d-4377-b8c2-1e79d9ac7c10",
   "metadata": {},
   "outputs": [
    {
     "data": {
      "application/vnd.jupyter.widget-view+json": {
       "model_id": "417e7d7e4abe429592871360b1da033c",
       "version_major": 2,
       "version_minor": 0
      },
      "text/plain": [
       "Saving the dataset (0/1 shards):   0%|          | 0/250 [00:00<?, ? examples/s]"
      ]
     },
     "metadata": {},
     "output_type": "display_data"
    }
   ],
   "source": [
    "start_string, end_string = \"non_self_synthesis/bbh/\", \"/bbh_eval\"\n",
    "cat = str(chk_dir)[str(chk_dir).find(start_string) + len(start_string) + 4:str(chk_dir).find(end_string)]\n",
    "new_ds.save_to_disk(os.path.join(save_par_dir, cat))"
   ]
  },
  {
   "cell_type": "code",
   "execution_count": 46,
   "id": "2d42fa2e-575f-4a51-9d69-7994d6508b2b",
   "metadata": {},
   "outputs": [
    {
     "data": {
      "text/plain": [
       "('Accuracy', 0.692)"
      ]
     },
     "execution_count": 46,
     "metadata": {},
     "output_type": "execute_result"
    }
   ],
   "source": [
    "total = 0\n",
    "\n",
    "for instance in new_ds:\n",
    "    if instance[\"answer_pred\"] == instance[\"target\"].translate(str.maketrans(\"\", \"\", '()\"')):\n",
    "        total += 1\n",
    "\n",
    "\"Accuracy\", total / new_ds.num_rows"
   ]
  },
  {
   "cell_type": "markdown",
   "id": "cf9db11f-2eca-4d16-8507-7bd9ed72282a",
   "metadata": {
    "jp-MarkdownHeadingCollapsed": true
   },
   "source": [
    "# dyck_languages"
   ]
  },
  {
   "cell_type": "code",
   "execution_count": 345,
   "id": "658d2bab-9a0b-4026-860d-065c45489f82",
   "metadata": {},
   "outputs": [],
   "source": [
    "chk_dir = here(os.path.join(par_dir, \"bbh-dyck_languages/bbh_eval\"))"
   ]
  },
  {
   "cell_type": "code",
   "execution_count": 346,
   "id": "4d1bee9a-1738-4772-8848-846a0d0a0e15",
   "metadata": {},
   "outputs": [],
   "source": [
    "dataset = Dataset.load_from_disk(chk_dir)"
   ]
  },
  {
   "cell_type": "code",
   "execution_count": 347,
   "id": "83b0c8a1-bda9-418b-a47a-6e436bd7e166",
   "metadata": {},
   "outputs": [
    {
     "data": {
      "text/plain": [
       "Dataset({\n",
       "    features: ['input', 'target', 'reasoning_formats', 'selected_modules', 'adapted_modules', 'reasoning_structure', 'reasoning', 'trajectory', 'answer_pred'],\n",
       "    num_rows: 49\n",
       "})"
      ]
     },
     "execution_count": 347,
     "metadata": {},
     "output_type": "execute_result"
    }
   ],
   "source": [
    "none_ds = dataset.filter(lambda x: x[\"answer_pred\"] == None)\n",
    "none_ds"
   ]
  },
  {
   "cell_type": "code",
   "execution_count": 355,
   "id": "ce39708e-de95-4714-bb53-39a022278ddd",
   "metadata": {},
   "outputs": [],
   "source": [
    "import re\n",
    "def map_fn(instance):\n",
    "    if instance[\"answer_pred\"] == None:\n",
    "        text = \"The final answer is:\"\n",
    "        pattern = fr\"(?<={text}).*\"\n",
    "    \n",
    "        response = instance[\"trajectory\"]\n",
    "    \n",
    "        try:\n",
    "            answer, trajectory = re.search(pattern, response).group(0).strip(), re.sub(pattern, \"\", response).replace(text, \"\").strip()\n",
    "        except:\n",
    "            answer, trajectory = None, response\n",
    "    \n",
    "        return {\n",
    "            \"trajectory\": trajectory,\n",
    "            \"answer_pred\": answer\n",
    "        }\n",
    "\n",
    "    return {\n",
    "        \"trajectory\": instance[\"trajectory\"],\n",
    "        \"answer_pred\": instance[\"answer_pred\"]\n",
    "    }\n",
    "\n",
    "new_ds = dataset.map(map_fn)"
   ]
  },
  {
   "cell_type": "code",
   "execution_count": 356,
   "id": "0caf036c-3fa9-4e6a-b538-d2a7e7b8592a",
   "metadata": {},
   "outputs": [
    {
     "data": {
      "text/plain": [
       "Dataset({\n",
       "    features: ['input', 'target', 'reasoning_formats', 'selected_modules', 'adapted_modules', 'reasoning_structure', 'reasoning', 'trajectory', 'answer_pred'],\n",
       "    num_rows: 0\n",
       "})"
      ]
     },
     "execution_count": 356,
     "metadata": {},
     "output_type": "execute_result"
    }
   ],
   "source": [
    "none_ds = new_ds.filter(lambda x: x[\"answer_pred\"] == None)\n",
    "none_ds"
   ]
  },
  {
   "cell_type": "code",
   "execution_count": 357,
   "id": "eec39703-846b-4e04-88a1-d5cdb2d6eaff",
   "metadata": {},
   "outputs": [
    {
     "data": {
      "text/plain": [
       "{'',\n",
       " '\"< < [ ] >\".',\n",
       " '\"< [ ] { < ( ) > } [ ] ( { }\".',\n",
       " '\"[ < [ ] { { } { < ( { } ) > } } > ] ( { } )\".',\n",
       " \"'< < > >'.\",\n",
       " \"'< [ [ ] ] >'.\",\n",
       " \"'< [ ] >'.\",\n",
       " '( ( ( ( [ [ < [ { { [ ] } } ] > ] ] ( ) ) ) ) ) ) ) )',\n",
       " '( ( ( ) ) )).',\n",
       " '( ( < < < ( ( ) ) ( [ ] ) > > { [ ] } ) ) > > >',\n",
       " '( ( < > ) ).',\n",
       " '( ( < { } > ) ) < { } >.',\n",
       " '( ( { } ) ).',\n",
       " '( ) ( () ).',\n",
       " '( ) ( < < { } > >.',\n",
       " '( ) [ ( [ < { { ( { } ) } } > ] ) ]',\n",
       " '( ) { < } >.',\n",
       " '( < < > > < > [ ] [ )',\n",
       " '( < > ( [ ( ) ] ) )',\n",
       " '( < [ ( ) ] > ).',\n",
       " '( < { } [ ] > ).',\n",
       " '( [ ( ) ] ).',\n",
       " '( [ < < { } > > ] ).',\n",
       " '( [ [ [ ( { ( ( < [ { < > } ] > { { [ ] } } ) ) } ( [ [ < > ] ] ) ) ] ] ] ) ( < > < [ ( ) ] > ( ) > )',\n",
       " '( { ( ) } ).',\n",
       " '( { < [ < > ] > } ).',\n",
       " '( { < { ( ( { } ) ( ) ) } { } < { } > < > > } { } ( { ( { { } } ) [ ( ) ] } ) ) [ ( [ ] ) ]',\n",
       " '( { [ { } ] } ).',\n",
       " '( { } )',\n",
       " '( { } ) < { < { } > } >',\n",
       " '( { } ) { ( [ { ( ) } ] ( [ ] ) ) }.',\n",
       " '**',\n",
       " '< ( ( ( [ { } ] ) ) ) >.',\n",
       " '< ( () )',\n",
       " '< ( ) ( { { [ ] } } ) >.',\n",
       " '< ( ) >.',\n",
       " '< ( < > ) >.',\n",
       " '< ( [ { ( < > ) } ] ) > { ( [ ] } ) >.',\n",
       " '< ( { ( < < > > ) } ) >.',\n",
       " '< ( { [ { } ] } [ ] [ ] ) >',\n",
       " '< ( { } ) >.',\n",
       " '< () >.',\n",
       " '< < ( ( [ ] ) ) > >.',\n",
       " '< < ( < > ) > >.',\n",
       " '< < ( [ ] ) > > > >.',\n",
       " '< < < > > > > >.',\n",
       " '< < > ( [ ] ) > >.',\n",
       " '< < > >.',\n",
       " '< < [ ] > ( < > ) < >.',\n",
       " '< [ < > ] > ] >.',\n",
       " '< [ [ { } ] ] >.',\n",
       " '< [ { { [ [ [ < ( < [ ] { [ ( [ ] ) ] [ ] < > } > ) > ] ( [ ] ) ] ] } } > ] } }',\n",
       " '< { ( { } ) < > } >.',\n",
       " '< { < [ [ ( { } ) ] ] > } >',\n",
       " '< { [ < > ] > } >.',\n",
       " '< { [ ] } >',\n",
       " '< { } [ [ ( ( < { < { [ ] } > } > ) ) ] ] >',\n",
       " '<([[[[[[]]]]]])>.',\n",
       " 'The final sequence is balanced.',\n",
       " 'The final sequence is properly balanced.',\n",
       " 'The final sequence is properly closed and balanced.',\n",
       " 'The final sequence is properly closed and nested.',\n",
       " 'The sequence is already balanced and correctly closed.',\n",
       " 'The sequence is already balanced.',\n",
       " 'The sequence is already complete and balanced.',\n",
       " 'The sequence is already correctly closed: { ( [ ] ) }',\n",
       " 'The sequence is already properly closed and does not require any additional brackets.',\n",
       " 'The sequence is already properly closed.',\n",
       " 'The sequence is complete and correct.',\n",
       " 'The sequence is correctly balanced.',\n",
       " 'The sequence is correctly closed as ( { { { { { < < ( { ( { { < < [ < [ [ ] ] > ] [ ] > [ [ ] ] > ( < [ { < > < [ ] > } ] > ) } } ) } ) > > } } } ).',\n",
       " 'True.',\n",
       " 'Yes, the final sequence is balanced.',\n",
       " 'Yes, the final sequence is properly closed.',\n",
       " 'Yes.',\n",
       " '[ ( ( { < ( { } ) > } ) ) ].',\n",
       " '[ ( < { [ ( ) ] } > ) ].',\n",
       " '[ ( { } ) ].',\n",
       " '[ () ].',\n",
       " '[ < ( [ ] ) > ] { [ { } ] }.',\n",
       " '[ < < { } > < > > ( ) ].',\n",
       " '[ < > [ [ < [ ] > ] ] ].',\n",
       " '[ < > ] [ [ < > ] ].',\n",
       " '[ < > ] [ { < { } > { [ ( [ ( ) ] ) ] } } ]',\n",
       " '[ < > { < [ ] > } ] >.',\n",
       " '[ < [ ( [ < > ] { < > } [ [ ] ] ) ] ] > ]',\n",
       " '[ < [ [ ( { { } } ) ] ] > ( ) { ( ) } ].',\n",
       " '[ < [ ] > [] > ].',\n",
       " '[ < [ ] > ] [ { [ ] } ].',\n",
       " '[ < [ ] ] > ]',\n",
       " '[ < [ { { < > [ ( ) ] ( ( ) ) } } ] > ] { { { ( < > ) } } }.',\n",
       " '[ < { [ ] } >.',\n",
       " '[ [ < < { } > > ] ].',\n",
       " '[ [ < [ ( ) ] > ] ( ) ]',\n",
       " '[ [ [ [ < { ( ) } ( ) > { ( ) } ] { ( ) } ] ] ] ]',\n",
       " '[ [ { { < ( ) > } } ] ].',\n",
       " '[ ] < { < > } > { } ().',\n",
       " '[ ] [ ( [ [ ( ) ] ] ) ] < < [ ] > > < < > >.',\n",
       " '[ ] [ { } ] ( ( ) )).',\n",
       " '[ ] { [ [ < { { { } } } > ] ] < [ { } ] }',\n",
       " '[ { ( < [ [ ] ] > ) } ].',\n",
       " '[ { < ( ) > }.',\n",
       " '[ { { ( ) } } ].',\n",
       " '`( ( ( [ { } ] ) ) )`.',\n",
       " '`( ( [ < [ ] > { { [ [ ] ] } } ] )`.',\n",
       " '`( < ( ) > )`.',\n",
       " '`( < ( [ < < [ ] > > ] ) )`.',\n",
       " '`( < ( [ ] ) > { } ) >`.',\n",
       " '`( < < < > )`.',\n",
       " '`( < > )`.',\n",
       " '`( [ [ [ { } ] ] { < [ < [ { } ] > ] > } ] )`.',\n",
       " '`( [ [ { < { { ( < > ) } } < > > } ] ]`.',\n",
       " '`( [ ] )`.',\n",
       " '`( [])`.',\n",
       " '`( { ( ) { { ( ) ( < < > < > > < ( ) > ) } < ( < < < > > > ) > } }`.',\n",
       " '`( { < { { [ ] } < > [ ] } [ [ [ < [ [ ] ] > ] ] ] > } [ ] { { { { [ { } ] } ( < [ [ [ ] ] ] > ) < < ( { ( [ ] ) [ { { } } ] { [ ] } } ) [ [ { [ [ { ( { } ) [ ( ) { } ] { } } ] ] < > } ] ] > > }`.',\n",
       " '`( { { } } )`.',\n",
       " '`( { } )`.',\n",
       " '`( { } < > { < { ( < > ) } > } )`.',\n",
       " '`< ( ( ( < > < [ [ ] ] > ) { } ) ) ) >`.',\n",
       " '`< ( ( { < > } ) ) >`.',\n",
       " '`< ( < > ) > { } < { [ < > ] >`.',\n",
       " '`< ( { } ) >`.',\n",
       " '`< < < [ ( ) ] > > > >`.',\n",
       " '`< < < { < < > > } > < < { < ( < > ) < > [ [ [ < ( ( ) ) > [ ] [ ] ] ] ] < ( ) > ( ) [ ( [ [ ] ] ) ] > } { } { < [ < { ( { } ) } > ] > } { { } } > >`.',\n",
       " '`< < [ ( < [ ( { [ ( ) ] [ ( ( { [ ] } ) ) ] } ) ] > ) ] >`.',\n",
       " '`< < { ( < ( ) > ) } > >`.',\n",
       " '`< < { { { < [ ( < > { ( ) } ) ] > } } } >`.',\n",
       " '`< < { } > > >`.',\n",
       " '`< > { }`.',\n",
       " '`< { ( ( ) ) } >`.',\n",
       " '`< { < () } >`.',\n",
       " '`< { < > } { () } >`.',\n",
       " '`< { > }`.',\n",
       " '`< { [ < > ] ( ( ( ( { { } } ) ) ) ) ) ) > }`.',\n",
       " '`[ < ( < < > [ ] ( ) > ) > ]`.',\n",
       " '`[ < { < [ ( < > ) ( ( [ [ ] ] ) ) ( ( { } ) ) { [ ] } < ( < > ) > ] > } ]`.',\n",
       " '`[ < { { } } ] >`.',\n",
       " '`[ [ < < { [ ] ( [ [ ( [ [ { [ ] } ] ] ) ( ) ] ] ) ( ) [ ] < [ ( ( ( ) ) ) ] < < < > [ ( ) ] > [ ] > > [ < > ] } > >`',\n",
       " '`[ [ < > ] ]`.',\n",
       " '`[ [ < [ ] > ] ] < >`.',\n",
       " '`[ [ ] ]`.',\n",
       " '`[ ] { ( ( < { ( ( ( { < > ( ) } ) ) [ { } ] { { ( ) } } ) } < > > ) }`.',\n",
       " '`[ ] { ( { < > } ) } [ ( ) ] { } [ { { ( < > ) } < > } ]`.',\n",
       " '`[ { ( { } ) } < < ( ) { { < [ { [ ( ) ] } ] > } } > >`.',\n",
       " '`[ { < ( ) > } ]`.',\n",
       " '`[ { [ < [ < { } > ] [ ] > ] } ] >`.',\n",
       " '`{ ( < [ < > ] ) > }`.',\n",
       " '`{ ( [ [ ] ( ) ] ] }`.',\n",
       " '`{ ( { { < ( < ( [ < < > > ] < > ) > ) > } [ ] }`.',\n",
       " '`{ ( { { < { < > } > } < { } > < < < [ < [ ] > ] > > > } ) }`.',\n",
       " '`{ < ( ) > { < > } ( < > ) < ( ) > [ ] < < < < ( ( ) ) < ( ) > > > > > > > > > > > > { }`.',\n",
       " '`{ < ( [ ( ( [ < { ( { } ) } < < > > > ] ) ) ] ) > }`.',\n",
       " '`{ < > { { ( { } ) } { { ( ( ) ) } } }`.',\n",
       " '`{ < [ ] > ( { [ ] } < ) > }`.',\n",
       " '`{ < [ ] > }`.',\n",
       " '`{ < { } > { ( ) } > }`.',\n",
       " '`{ [ < [ { < ( ) > } ] > } ]`.',\n",
       " '`{ [ < { < ( ( ) ) > } > }`.',\n",
       " '`{ [ [ ] [ ] ] }`.',\n",
       " '`{ {}}`.',\n",
       " '`{{ () () }}`.',\n",
       " '{ ( ( ) ( { ( < ( ) > ) } }.',\n",
       " '{ ( ( [ ] ) )',\n",
       " '{ ( < > ) }.',\n",
       " '{ ( < { < ( ) > } > ) }.',\n",
       " '{ ( { [ ( ) ] } { { [ ] } } { } < > ) } [ < [ ( ) ] ] > ]',\n",
       " '{ < ( < < < [ < [ [ ] ( ( ) ) ] > < > ] > > > ) }',\n",
       " '{ < ( [ ] ) > }.',\n",
       " '{ < < ( ) > > }.',\n",
       " '{ < < > > }.',\n",
       " '{ < < { ( < > ) } > } > >',\n",
       " '{ < > } ( ) [ ].',\n",
       " '{ [ < [ < { < { } > } > ( ( < { [ ] } > { { } } ) { } ) ] > ] } ] > ) ) > >.',\n",
       " '{ [ [ < > ] ] ( ) }.',\n",
       " '{ [ { [ ] } ] } [ [ { } [ < > ] ] }.',\n",
       " '{ [ { { { < > } } } } ] }.',\n",
       " '{ [ { { { } } } ] }.',\n",
       " '{ { ( [ ] ) { ( ) } } }',\n",
       " '{ { [ { < { } > } ( ) ] }',\n",
       " '{ { { } }.',\n",
       " '{ { } ( ( ) ) }.',\n",
       " '{ { } ( ( < > ) ) }.',\n",
       " '{ } < { } < > ( ).'}"
      ]
     },
     "execution_count": 357,
     "metadata": {},
     "output_type": "execute_result"
    }
   ],
   "source": [
    "set(new_ds[\"answer_pred\"])"
   ]
  },
  {
   "cell_type": "code",
   "execution_count": 358,
   "id": "811a4f5a-24ce-4e2c-878f-ad91913afe8a",
   "metadata": {},
   "outputs": [
    {
     "data": {
      "application/vnd.jupyter.widget-view+json": {
       "model_id": "3dc4398fde324b34a5370c943b9f683b",
       "version_major": 2,
       "version_minor": 0
      },
      "text/plain": [
       "Map:   0%|          | 0/250 [00:00<?, ? examples/s]"
      ]
     },
     "metadata": {},
     "output_type": "display_data"
    }
   ],
   "source": [
    "def map_fn(instance):    \n",
    "    return {\n",
    "        \"answer_pred\": instance[\"answer_pred\"].translate(str.maketrans(\"\", \"\", '.\"'))\n",
    "    }\n",
    "\n",
    "new_ds = new_ds.map(map_fn, load_from_cache_file=False)"
   ]
  },
  {
   "cell_type": "code",
   "execution_count": 62,
   "id": "0875204a-8714-418f-a5e3-9411c938611c",
   "metadata": {},
   "outputs": [
    {
     "name": "stdout",
     "output_type": "stream",
     "text": [
      "```json\n",
      "{\n",
      "    \"Step 1 - Simplify the Task\": {\n",
      "        \"Description\": \"Identify the current state of the sequence and simplify it if possible.\",\n",
      "        \"Action\": \"Note the current sequence: ( ) ( (\",\n",
      "        \"Result\": \"Identify the current sequence as ( ) ( (\"\n",
      "    },\n",
      "    \"Step 2 - Break Down the Task\": {\n",
      "        \"Description\": \"Break down the sequence completion task into smaller, more manageable steps.\",\n",
      "        \"Action\": \"Identify the open and closed parentheses in the current sequence.\",\n",
      "        \"Result\": \"Identify open parentheses: 2, closed parentheses: 1\"\n",
      "    },\n",
      "    \"Step 3 - Analyze the Task\": {\n",
      "        \"Description\": \"Determine if the task is analytical and requires tracking and balancing parentheses.\",\n",
      "        \"Action\": \"Check if the sequence is balanced.\",\n",
      "        \"Result\": \"Determine if the sequence is balanced or needs more parentheses to be balanced.\"\n",
      "    },\n",
      "    \"Step 4 - Plan to Complete the Sequence\": {\n",
      "        \"Description\": \"Make a step-by-step plan to complete the sequence, ensuring proper notation and explanation for each parenthesis.\",\n",
      "        \"Action\": \"Plan the steps to balance the sequence.\",\n",
      "        \"Result\": \"Plan the steps to balance the sequence.\"\n",
      "    },\n",
      "    \"Step 5 - Execute the Plan\": {\n",
      "        \"Description\": \"Execute the plan to complete the sequence.\",\n",
      "        \"Action\": \"Add the necessary parentheses to balance the sequence.\",\n",
      "        \"Result\": \"Complete the sequence with proper notation and explanation for each parenthesis. The sequence becomes ( ) ( () )\"\n",
      "    },\n",
      "    \"Step 6 - Verify the Final Sequence\": {\n",
      "        \"Description\": \"Verify if the final sequence is balanced.\",\n",
      "        \"Action\": \"Check if the final sequence has balanced parentheses.\",\n",
      "        \"Result\": \"Verify if the final sequence is balanced.\"\n",
      "    },\n",
      "    \"Is the final sequence balanced\": {\n",
      "        \"Description\": \"Confirm if the final sequence is balanced.\",\n",
      "        \"Action\": \"Check the final sequence for balance.\",\n",
      "        \"Result\": \"Confirm if the final sequence is balanced.\"\n",
      "    }\n",
      "}\n",
      "```\n"
     ]
    }
   ],
   "source": [
    "print(new_ds[1][\"trajectory\"])"
   ]
  },
  {
   "cell_type": "code",
   "execution_count": 362,
   "id": "f008251b-b11b-4064-b125-19d49ba54af1",
   "metadata": {},
   "outputs": [
    {
     "data": {
      "application/vnd.jupyter.widget-view+json": {
       "model_id": "e93f8e8ed52f490c8e1980ea6f4044bf",
       "version_major": 2,
       "version_minor": 0
      },
      "text/plain": [
       "Filter:   0%|          | 0/250 [00:00<?, ? examples/s]"
      ]
     },
     "metadata": {},
     "output_type": "display_data"
    }
   ],
   "source": [
    "blank_ds = new_ds.filter(lambda x: x[\"answer_pred\"] == \"\")\n",
    "none_blank_ds = new_ds.filter(lambda x: x[\"answer_pred\"] != \"\")"
   ]
  },
  {
   "cell_type": "code",
   "execution_count": 364,
   "id": "d4c9b3ac-5867-4f02-a038-f1cbbc094fcc",
   "metadata": {},
   "outputs": [
    {
     "data": {
      "application/vnd.jupyter.widget-view+json": {
       "model_id": "37f0f53b36104314a18d2e990e918662",
       "version_major": 2,
       "version_minor": 0
      },
      "text/plain": [
       "Map:   0%|          | 0/217 [00:00<?, ? examples/s]"
      ]
     },
     "metadata": {},
     "output_type": "display_data"
    },
    {
     "data": {
      "text/plain": [
       "{'',\n",
       " \"'< < > >'\",\n",
       " \"'< [ [ ] ] >'\",\n",
       " \"'< [ ] >'\",\n",
       " '( ( ( ( [ [ < [ { { [ ] } } ] > ] ] ( ) ) ) ) ) ) ) )',\n",
       " '( ( ( ) ) ))',\n",
       " '( ( < < < ( ( ) ) ( [ ] ) > > { [ ] } ) ) > > >',\n",
       " '( ( < > ) )',\n",
       " '( ( < { } > ) ) < { } >',\n",
       " '( ( { } ) )',\n",
       " '( ) ( () )',\n",
       " '( ) ( < < { } > >',\n",
       " '( ) [ ( [ < { { ( { } ) } } > ] ) ]',\n",
       " '( ) { < } >',\n",
       " '( < < > > < > [ ] [ )',\n",
       " '( < > ( [ ( ) ] ) )',\n",
       " '( < [ ( ) ] > )',\n",
       " '( < { } [ ] > )',\n",
       " '( [ ( ) ] )',\n",
       " '( [ < < { } > > ] )',\n",
       " '( [ [ [ ( { ( ( < [ { < > } ] > { { [ ] } } ) ) } ( [ [ < > ] ] ) ) ] ] ] ) ( < > < [ ( ) ] > ( ) > )',\n",
       " '( { ( ) } )',\n",
       " '( { < [ < > ] > } )',\n",
       " '( { < { ( ( { } ) ( ) ) } { } < { } > < > > } { } ( { ( { { } } ) [ ( ) ] } ) ) [ ( [ ] ) ]',\n",
       " '( { [ { } ] } )',\n",
       " '( { } )',\n",
       " '( { } ) < { < { } > } >',\n",
       " '( { } ) { ( [ { ( ) } ] ( [ ] ) ) }',\n",
       " '**',\n",
       " '< ( ( ( [ { } ] ) ) ) >',\n",
       " '< ( () )',\n",
       " '< ( ) ( { { [ ] } } ) >',\n",
       " '< ( ) >',\n",
       " '< ( < > ) >',\n",
       " '< ( [ { ( < > ) } ] ) > { ( [ ] } ) >',\n",
       " '< ( { ( < < > > ) } ) >',\n",
       " '< ( { [ { } ] } [ ] [ ] ) >',\n",
       " '< ( { } ) >',\n",
       " '< () >',\n",
       " '< < ( ( [ ] ) ) > >',\n",
       " '< < ( < > ) > >',\n",
       " '< < ( [ ] ) > > > >',\n",
       " '< < < > > > > >',\n",
       " '< < > ( [ ] ) > >',\n",
       " '< < > >',\n",
       " '< < [ ] >',\n",
       " '< < [ ] > ( < > ) < >',\n",
       " '< [ < > ] > ] >',\n",
       " '< [ [ { } ] ] >',\n",
       " '< [ ] { < ( ) > } [ ] ( { }',\n",
       " '< [ { { [ [ [ < ( < [ ] { [ ( [ ] ) ] [ ] < > } > ) > ] ( [ ] ) ] ] } } > ] } }',\n",
       " '< { ( { } ) < > } >',\n",
       " '< { < [ [ ( { } ) ] ] > } >',\n",
       " '< { [ < > ] > } >',\n",
       " '< { [ ] } >',\n",
       " '< { } [ [ ( ( < { < { [ ] } > } > ) ) ] ] >',\n",
       " '<([[[[[[]]]]]])>',\n",
       " 'The final sequence is balanced',\n",
       " 'The final sequence is properly balanced',\n",
       " 'The final sequence is properly closed and balanced',\n",
       " 'The final sequence is properly closed and nested',\n",
       " 'The sequence is already balanced',\n",
       " 'The sequence is already balanced and correctly closed',\n",
       " 'The sequence is already complete and balanced',\n",
       " 'The sequence is already correctly closed: { ( [ ] ) }',\n",
       " 'The sequence is already properly closed',\n",
       " 'The sequence is already properly closed and does not require any additional brackets',\n",
       " 'The sequence is complete and correct',\n",
       " 'The sequence is correctly balanced',\n",
       " 'The sequence is correctly closed as ( { { { { { < < ( { ( { { < < [ < [ [ ] ] > ] [ ] > [ [ ] ] > ( < [ { < > < [ ] > } ] > ) } } ) } ) > > } } } )',\n",
       " 'True',\n",
       " 'Yes',\n",
       " 'Yes, the final sequence is balanced',\n",
       " 'Yes, the final sequence is properly closed',\n",
       " '[ ( ( { < ( { } ) > } ) ) ]',\n",
       " '[ ( < { [ ( ) ] } > ) ]',\n",
       " '[ ( { } ) ]',\n",
       " '[ () ]',\n",
       " '[ < ( [ ] ) > ] { [ { } ] }',\n",
       " '[ < < { } > < > > ( ) ]',\n",
       " '[ < > [ [ < [ ] > ] ] ]',\n",
       " '[ < > ] [ [ < > ] ]',\n",
       " '[ < > ] [ { < { } > { [ ( [ ( ) ] ) ] } } ]',\n",
       " '[ < > { < [ ] > } ] >',\n",
       " '[ < [ ( [ < > ] { < > } [ [ ] ] ) ] ] > ]',\n",
       " '[ < [ [ ( { { } } ) ] ] > ( ) { ( ) } ]',\n",
       " '[ < [ ] > [] > ]',\n",
       " '[ < [ ] > ] [ { [ ] } ]',\n",
       " '[ < [ ] ] > ]',\n",
       " '[ < [ ] { { } { < ( { } ) > } } > ] ( { } )',\n",
       " '[ < [ { { < > [ ( ) ] ( ( ) ) } } ] > ] { { { ( < > ) } } }',\n",
       " '[ < { [ ] } >',\n",
       " '[ [ < < { } > > ] ]',\n",
       " '[ [ < [ ( ) ] > ] ( ) ]',\n",
       " '[ [ [ [ < { ( ) } ( ) > { ( ) } ] { ( ) } ] ] ] ]',\n",
       " '[ [ { { < ( ) > } } ] ]',\n",
       " '[ ] < { < > } > { } ()',\n",
       " '[ ] [ ( [ [ ( ) ] ] ) ] < < [ ] > > < < > >',\n",
       " '[ ] [ { } ] ( ( ) ))',\n",
       " '[ ] { [ [ < { { { } } } > ] ] < [ { } ] }',\n",
       " '[ { ( < [ [ ] ] > ) } ]',\n",
       " '[ { < ( ) > }',\n",
       " '[ { { ( ) } } ]',\n",
       " '`( ( ( [ { } ] ) ) )`',\n",
       " '`( ( [ < [ ] > { { [ [ ] ] } } ] )`',\n",
       " '`( < ( ) > )`',\n",
       " '`( < ( [ < < [ ] > > ] ) )`',\n",
       " '`( < ( [ ] ) > { } ) >`',\n",
       " '`( < < < > )`',\n",
       " '`( < > )`',\n",
       " '`( [ [ [ { } ] ] { < [ < [ { } ] > ] > } ] )`',\n",
       " '`( [ [ { < { { ( < > ) } } < > > } ] ]`',\n",
       " '`( [ ] )`',\n",
       " '`( [])`',\n",
       " '`( { ( ) { { ( ) ( < < > < > > < ( ) > ) } < ( < < < > > > ) > } }`',\n",
       " '`( { < { { [ ] } < > [ ] } [ [ [ < [ [ ] ] > ] ] ] > } [ ] { { { { [ { } ] } ( < [ [ [ ] ] ] > ) < < ( { ( [ ] ) [ { { } } ] { [ ] } } ) [ [ { [ [ { ( { } ) [ ( ) { } ] { } } ] ] < > } ] ] > > }`',\n",
       " '`( { { } } )`',\n",
       " '`( { } )`',\n",
       " '`( { } < > { < { ( < > ) } > } )`',\n",
       " '`< ( ( ( < > < [ [ ] ] > ) { } ) ) ) >`',\n",
       " '`< ( ( { < > } ) ) >`',\n",
       " '`< ( < > ) > { } < { [ < > ] >`',\n",
       " '`< ( { } ) >`',\n",
       " '`< < < [ ( ) ] > > > >`',\n",
       " '`< < < { < < > > } > < < { < ( < > ) < > [ [ [ < ( ( ) ) > [ ] [ ] ] ] ] < ( ) > ( ) [ ( [ [ ] ] ) ] > } { } { < [ < { ( { } ) } > ] > } { { } } > >`',\n",
       " '`< < [ ( < [ ( { [ ( ) ] [ ( ( { [ ] } ) ) ] } ) ] > ) ] >`',\n",
       " '`< < { ( < ( ) > ) } > >`',\n",
       " '`< < { { { < [ ( < > { ( ) } ) ] > } } } >`',\n",
       " '`< < { } > > >`',\n",
       " '`< > { }`',\n",
       " '`< { ( ( ) ) } >`',\n",
       " '`< { < () } >`',\n",
       " '`< { < > } { () } >`',\n",
       " '`< { > }`',\n",
       " '`< { [ < > ] ( ( ( ( { { } } ) ) ) ) ) ) > }`',\n",
       " '`[ < ( < < > [ ] ( ) > ) > ]`',\n",
       " '`[ < { < [ ( < > ) ( ( [ [ ] ] ) ) ( ( { } ) ) { [ ] } < ( < > ) > ] > } ]`',\n",
       " '`[ < { { } } ] >`',\n",
       " '`[ [ < < { [ ] ( [ [ ( [ [ { [ ] } ] ] ) ( ) ] ] ) ( ) [ ] < [ ( ( ( ) ) ) ] < < < > [ ( ) ] > [ ] > > [ < > ] } > >`',\n",
       " '`[ [ < > ] ]`',\n",
       " '`[ [ < [ ] > ] ] < >`',\n",
       " '`[ [ ] ]`',\n",
       " '`[ ] { ( ( < { ( ( ( { < > ( ) } ) ) [ { } ] { { ( ) } } ) } < > > ) }`',\n",
       " '`[ ] { ( { < > } ) } [ ( ) ] { } [ { { ( < > ) } < > } ]`',\n",
       " '`[ { ( { } ) } < < ( ) { { < [ { [ ( ) ] } ] > } } > >`',\n",
       " '`[ { < ( ) > } ]`',\n",
       " '`[ { [ < [ < { } > ] [ ] > ] } ] >`',\n",
       " '`{ ( < [ < > ] ) > }`',\n",
       " '`{ ( [ [ ] ( ) ] ] }`',\n",
       " '`{ ( { { < ( < ( [ < < > > ] < > ) > ) > } [ ] }`',\n",
       " '`{ ( { { < { < > } > } < { } > < < < [ < [ ] > ] > > > } ) }`',\n",
       " '`{ < ( ) > { < > } ( < > ) < ( ) > [ ] < < < < ( ( ) ) < ( ) > > > > > > > > > > > > { }`',\n",
       " '`{ < ( [ ( ( [ < { ( { } ) } < < > > > ] ) ) ] ) > }`',\n",
       " '`{ < > { { ( { } ) } { { ( ( ) ) } } }`',\n",
       " '`{ < [ ] > ( { [ ] } < ) > }`',\n",
       " '`{ < [ ] > }`',\n",
       " '`{ < { } > { ( ) } > }`',\n",
       " '`{ [ < [ { < ( ) > } ] > } ]`',\n",
       " '`{ [ < { < ( ( ) ) > } > }`',\n",
       " '`{ [ [ ] [ ] ] }`',\n",
       " '`{ {}}`',\n",
       " '`{{ () () }}`',\n",
       " '{ ( ( ) ( { ( < ( ) > ) } }',\n",
       " '{ ( ( [ ] ) )',\n",
       " '{ ( < > ) }',\n",
       " '{ ( < { < ( ) > } > ) }',\n",
       " '{ ( { [ ( ) ] } { { [ ] } } { } < > ) } [ < [ ( ) ] ] > ]',\n",
       " '{ < ( < < < [ < [ [ ] ( ( ) ) ] > < > ] > > > ) }',\n",
       " '{ < ( [ ] ) > }',\n",
       " '{ < < ( ) > > }',\n",
       " '{ < < > > }',\n",
       " '{ < < { ( < > ) } > } > >',\n",
       " '{ < > } ( ) [ ]',\n",
       " '{ [ < [ < { < { } > } > ( ( < { [ ] } > { { } } ) { } ) ] > ] } ] > ) ) > >',\n",
       " '{ [ [ < > ] ] ( ) }',\n",
       " '{ [ { [ ] } ] } [ [ { } [ < > ] ] }',\n",
       " '{ [ { { { < > } } } } ] }',\n",
       " '{ [ { { { } } } ] }',\n",
       " '{ { ( [ ] ) { ( ) } } }',\n",
       " '{ { [ { < { } > } ( ) ] }',\n",
       " '{ { { } }',\n",
       " '{ { } ( ( ) ) }',\n",
       " '{ { } ( ( < > ) ) }',\n",
       " '{ } < { } < > ( )'}"
      ]
     },
     "execution_count": 364,
     "metadata": {},
     "output_type": "execute_result"
    }
   ],
   "source": [
    "def map_fn(ins):\n",
    "    return {\n",
    "        \"answer_pred\": ins[\"answer_pred\"].replace(ins[\"target\"], \"\")\n",
    "    }\n",
    "\n",
    "none_blank_ds = none_blank_ds.map(map_fn)\n",
    "set(new_ds[\"answer_pred\"])"
   ]
  },
  {
   "cell_type": "code",
   "execution_count": 365,
   "id": "6545ea6d-2881-4fce-b8cc-83a0331fd457",
   "metadata": {},
   "outputs": [
    {
     "data": {
      "application/vnd.jupyter.widget-view+json": {
       "model_id": "d63896881c0c4199bfb3d04d40df63ac",
       "version_major": 2,
       "version_minor": 0
      },
      "text/plain": [
       "Saving the dataset (0/1 shards):   0%|          | 0/250 [00:00<?, ? examples/s]"
      ]
     },
     "metadata": {},
     "output_type": "display_data"
    }
   ],
   "source": [
    "start_string, end_string = \"non_self_synthesis/bbh/\", \"/bbh_eval\"\n",
    "cat = str(chk_dir)[str(chk_dir).find(start_string) + len(start_string) + 4:str(chk_dir).find(end_string)]\n",
    "new_ds.save_to_disk(os.path.join(save_par_dir, cat))"
   ]
  },
  {
   "cell_type": "code",
   "execution_count": null,
   "id": "b81c6464-86e2-436f-8ed5-9d68c8bbeb80",
   "metadata": {},
   "outputs": [],
   "source": [
    "for instance in new_ds:\n",
    "    print(instance[\"target\"])\n",
    "    print(instance[\"trajectory\"])\n",
    "    print(\"=\"*50)"
   ]
  },
  {
   "cell_type": "markdown",
   "id": "887ffae8-8423-4dc0-8fbe-4731bb38186c",
   "metadata": {
    "jp-MarkdownHeadingCollapsed": true
   },
   "source": [
    "# formal_fallacies"
   ]
  },
  {
   "cell_type": "code",
   "execution_count": 63,
   "id": "50da91f3-6deb-47c3-bccc-f19203134e9a",
   "metadata": {},
   "outputs": [],
   "source": [
    "chk_dir = here(os.path.join(par_dir, \"bbh-formal_fallacies/bbh_eval\"))"
   ]
  },
  {
   "cell_type": "code",
   "execution_count": 64,
   "id": "a65b8587-c387-430c-8f87-4b7c42c65efa",
   "metadata": {},
   "outputs": [],
   "source": [
    "dataset = Dataset.load_from_disk(chk_dir)"
   ]
  },
  {
   "cell_type": "code",
   "execution_count": 65,
   "id": "6773264b-4bf0-4787-ae71-c0efc0704693",
   "metadata": {},
   "outputs": [
    {
     "data": {
      "text/plain": [
       "{'invalid.', 'invalid.\"', 'valid.', 'valid.\"'}"
      ]
     },
     "execution_count": 65,
     "metadata": {},
     "output_type": "execute_result"
    }
   ],
   "source": [
    "set(dataset[\"answer_pred\"])"
   ]
  },
  {
   "cell_type": "code",
   "execution_count": 66,
   "id": "a2f9e6a4-bd46-4019-8573-0c5ebe245c68",
   "metadata": {},
   "outputs": [
    {
     "data": {
      "application/vnd.jupyter.widget-view+json": {
       "model_id": "322e7010aba94af880faa08c9dc57cd2",
       "version_major": 2,
       "version_minor": 0
      },
      "text/plain": [
       "Map:   0%|          | 0/250 [00:00<?, ? examples/s]"
      ]
     },
     "metadata": {},
     "output_type": "display_data"
    }
   ],
   "source": [
    "def map_fn(instance):    \n",
    "    return {\n",
    "        \"answer_pred\": instance[\"answer_pred\"].translate(str.maketrans(\"\", \"\", '.,()\"')) if instance[\"answer_pred\"] else None\n",
    "    }\n",
    "\n",
    "new_ds = dataset.map(map_fn, load_from_cache_file=False)"
   ]
  },
  {
   "cell_type": "code",
   "execution_count": 67,
   "id": "5c905d17-ae78-4cb1-975c-914bad666a0b",
   "metadata": {},
   "outputs": [
    {
     "data": {
      "text/plain": [
       "{'invalid', 'valid'}"
      ]
     },
     "execution_count": 67,
     "metadata": {},
     "output_type": "execute_result"
    }
   ],
   "source": [
    "set(new_ds[\"answer_pred\"])"
   ]
  },
  {
   "cell_type": "code",
   "execution_count": 68,
   "id": "f69daf40-4760-4774-a30c-3f3b285553bf",
   "metadata": {},
   "outputs": [
    {
     "data": {
      "application/vnd.jupyter.widget-view+json": {
       "model_id": "6476054c407440f1b5cf7f5cee1d0467",
       "version_major": 2,
       "version_minor": 0
      },
      "text/plain": [
       "Saving the dataset (0/1 shards):   0%|          | 0/250 [00:00<?, ? examples/s]"
      ]
     },
     "metadata": {},
     "output_type": "display_data"
    }
   ],
   "source": [
    "start_string, end_string = \"non_self_synthesis/bbh/\", \"/bbh_eval\"\n",
    "cat = str(chk_dir)[str(chk_dir).find(start_string) + len(start_string) + 4:str(chk_dir).find(end_string)]\n",
    "new_ds.save_to_disk(os.path.join(save_par_dir, cat))"
   ]
  },
  {
   "cell_type": "code",
   "execution_count": 69,
   "id": "50ffb33c-716f-440c-a116-c4bda9fafc42",
   "metadata": {},
   "outputs": [
    {
     "data": {
      "application/vnd.jupyter.widget-view+json": {
       "model_id": "d5efa1325c714952bdb7597678b5fcd3",
       "version_major": 2,
       "version_minor": 0
      },
      "text/plain": [
       "Filter:   0%|          | 0/250 [00:00<?, ? examples/s]"
      ]
     },
     "metadata": {},
     "output_type": "display_data"
    },
    {
     "data": {
      "text/plain": [
       "0.724"
      ]
     },
     "execution_count": 69,
     "metadata": {},
     "output_type": "execute_result"
    }
   ],
   "source": [
    "corr = new_ds.filter(lambda x: x[\"target\"] == x[\"answer_pred\"])\n",
    "(corr.num_rows) / new_ds.num_rows"
   ]
  },
  {
   "cell_type": "markdown",
   "id": "a4e488a9-5e7a-4ecd-b74b-ee26d852b43b",
   "metadata": {
    "jp-MarkdownHeadingCollapsed": true
   },
   "source": [
    "# geometric_shapes"
   ]
  },
  {
   "cell_type": "code",
   "execution_count": 70,
   "id": "8a5775a3-0f0a-424e-a737-b086e62f4eac",
   "metadata": {},
   "outputs": [],
   "source": [
    "chk_dir = here(os.path.join(par_dir, \"bbh-geometric_shapes/bbh_eval\"))"
   ]
  },
  {
   "cell_type": "code",
   "execution_count": 71,
   "id": "e18c74b9-fb2e-4fcc-823e-76c55207597b",
   "metadata": {},
   "outputs": [],
   "source": [
    "dataset = Dataset.load_from_disk(chk_dir)"
   ]
  },
  {
   "cell_type": "code",
   "execution_count": 72,
   "id": "bc25565e-8bcb-423f-8d28-174ef3b1d389",
   "metadata": {},
   "outputs": [
    {
     "data": {
      "text/plain": [
       "{'(I) sector.\"',\n",
       " 'A.\"',\n",
       " 'B\"',\n",
       " 'B.',\n",
       " 'B. The shape is a heptagon, as it has 7 unique points connected in a sequence forming a closed shape. Other options were eliminated because they do not match the number of points and connections observed.\"',\n",
       " 'B.\"',\n",
       " 'C\"',\n",
       " 'C.',\n",
       " 'C.\"',\n",
       " 'D\"',\n",
       " 'D.',\n",
       " 'D.\"',\n",
       " 'E\"',\n",
       " 'E.',\n",
       " 'E.\"',\n",
       " 'F\"',\n",
       " 'F.',\n",
       " 'G\"',\n",
       " 'G.',\n",
       " 'G.\"',\n",
       " 'H\"',\n",
       " 'H.',\n",
       " 'I\"',\n",
       " 'I.',\n",
       " 'I.\"',\n",
       " 'J\"',\n",
       " 'J.',\n",
       " 'J.\"',\n",
       " 'K\"',\n",
       " 'K.',\n",
       " 'K.\"'}"
      ]
     },
     "execution_count": 72,
     "metadata": {},
     "output_type": "execute_result"
    }
   ],
   "source": [
    "set(dataset[\"answer_pred\"])"
   ]
  },
  {
   "cell_type": "code",
   "execution_count": 73,
   "id": "b15078a8-d3c9-4670-b994-634351da72bd",
   "metadata": {},
   "outputs": [
    {
     "data": {
      "application/vnd.jupyter.widget-view+json": {
       "model_id": "58c5541c556d4608a8428dd43e307049",
       "version_major": 2,
       "version_minor": 0
      },
      "text/plain": [
       "Map:   0%|          | 0/250 [00:00<?, ? examples/s]"
      ]
     },
     "metadata": {},
     "output_type": "display_data"
    }
   ],
   "source": [
    "def map_fn(instance):    \n",
    "    return {\n",
    "        \"answer_pred\": instance[\"answer_pred\"].translate(str.maketrans(\"\", \"\", '.,()\"')) if instance[\"answer_pred\"] else None\n",
    "    }\n",
    "\n",
    "new_ds = dataset.map(map_fn, load_from_cache_file=False)"
   ]
  },
  {
   "cell_type": "code",
   "execution_count": 74,
   "id": "e20a9ea7-bd1b-474c-8b92-be9bdad0f407",
   "metadata": {},
   "outputs": [
    {
     "data": {
      "text/plain": [
       "{'A',\n",
       " 'B',\n",
       " 'B The shape is a heptagon as it has 7 unique points connected in a sequence forming a closed shape Other options were eliminated because they do not match the number of points and connections observed',\n",
       " 'C',\n",
       " 'D',\n",
       " 'E',\n",
       " 'F',\n",
       " 'G',\n",
       " 'H',\n",
       " 'I',\n",
       " 'I sector',\n",
       " 'J',\n",
       " 'K'}"
      ]
     },
     "execution_count": 74,
     "metadata": {},
     "output_type": "execute_result"
    }
   ],
   "source": [
    "set(new_ds[\"answer_pred\"])"
   ]
  },
  {
   "cell_type": "code",
   "execution_count": 75,
   "id": "c8da6dbb-ca86-4cd4-b03f-8b9a0dc03389",
   "metadata": {},
   "outputs": [
    {
     "data": {
      "application/vnd.jupyter.widget-view+json": {
       "model_id": "ea3eb23b9eb04380bf603a410e4b6145",
       "version_major": 2,
       "version_minor": 0
      },
      "text/plain": [
       "Map:   0%|          | 0/250 [00:00<?, ? examples/s]"
      ]
     },
     "metadata": {},
     "output_type": "display_data"
    }
   ],
   "source": [
    "def map_fn(ins):   \n",
    "    ls = ins[\"answer_pred\"].split()\n",
    "    \n",
    "    return {\n",
    "        \"answer_pred\": ls[0]\n",
    "    }\n",
    "\n",
    "new_ds = new_ds.map(map_fn, load_from_cache_file=False)"
   ]
  },
  {
   "cell_type": "code",
   "execution_count": 76,
   "id": "6a94f9a2-b225-49a1-beed-9734e45ec7af",
   "metadata": {},
   "outputs": [
    {
     "data": {
      "text/plain": [
       "{'A', 'B', 'C', 'D', 'E', 'F', 'G', 'H', 'I', 'J', 'K'}"
      ]
     },
     "execution_count": 76,
     "metadata": {},
     "output_type": "execute_result"
    }
   ],
   "source": [
    "set(new_ds[\"answer_pred\"])"
   ]
  },
  {
   "cell_type": "code",
   "execution_count": 77,
   "id": "2d1a35c7-e67f-4da9-8459-fbc63bb8cd60",
   "metadata": {},
   "outputs": [
    {
     "data": {
      "application/vnd.jupyter.widget-view+json": {
       "model_id": "90995ffcfb2947a49ae2f5cd198bd902",
       "version_major": 2,
       "version_minor": 0
      },
      "text/plain": [
       "Saving the dataset (0/1 shards):   0%|          | 0/250 [00:00<?, ? examples/s]"
      ]
     },
     "metadata": {},
     "output_type": "display_data"
    }
   ],
   "source": [
    "start_string, end_string = \"non_self_synthesis/bbh/\", \"/bbh_eval\"\n",
    "cat = str(chk_dir)[str(chk_dir).find(start_string) + len(start_string) + 4:str(chk_dir).find(end_string)]\n",
    "new_ds.save_to_disk(os.path.join(save_par_dir, cat))"
   ]
  },
  {
   "cell_type": "code",
   "execution_count": 78,
   "id": "5fa31b0a-81c3-4a4b-847a-80b573d97eea",
   "metadata": {},
   "outputs": [
    {
     "data": {
      "application/vnd.jupyter.widget-view+json": {
       "model_id": "70fb4e2ec5304d1ca3bac034043fde8e",
       "version_major": 2,
       "version_minor": 0
      },
      "text/plain": [
       "Filter:   0%|          | 0/250 [00:00<?, ? examples/s]"
      ]
     },
     "metadata": {},
     "output_type": "display_data"
    },
    {
     "data": {
      "text/plain": [
       "0.664"
      ]
     },
     "execution_count": 78,
     "metadata": {},
     "output_type": "execute_result"
    }
   ],
   "source": [
    "corr = new_ds.filter(lambda x: x[\"target\"].translate(str.maketrans(\"\", \"\", '()\"')) == x[\"answer_pred\"])\n",
    "(corr.num_rows) / new_ds.num_rows"
   ]
  },
  {
   "cell_type": "markdown",
   "id": "7eaefe78-ecbb-49ae-bd58-e000c8208c1a",
   "metadata": {
    "jp-MarkdownHeadingCollapsed": true
   },
   "source": [
    "# hyperbaton"
   ]
  },
  {
   "cell_type": "code",
   "execution_count": 79,
   "id": "c97fe7eb-7986-459a-85bf-0e9e367a3722",
   "metadata": {},
   "outputs": [],
   "source": [
    "chk_dir = here(os.path.join(par_dir, \"bbh-hyperbaton/bbh_eval\"))"
   ]
  },
  {
   "cell_type": "code",
   "execution_count": 80,
   "id": "70035db6-c28e-4992-ad04-fc46c35ad8d0",
   "metadata": {},
   "outputs": [],
   "source": [
    "dataset = Dataset.load_from_disk(chk_dir)"
   ]
  },
  {
   "cell_type": "code",
   "execution_count": 81,
   "id": "3c3bbb74-3ad1-461c-9bd2-3cacc2987799",
   "metadata": {},
   "outputs": [
    {
     "data": {
      "text/plain": [
       "{'(A).',\n",
       " '(A). Sentence A follows the correct adjective order rule.\"',\n",
       " 'A\"',\n",
       " 'A.',\n",
       " 'A. Sentence A follows the correct adjective order: new (age), white (color), lead (material), walking (purpose).\"',\n",
       " 'A. Sentence A follows the correct adjective order: size (enormous), shape (rectangular), color (blue), noun (dog).\"',\n",
       " 'A.\"',\n",
       " 'B\"',\n",
       " 'B.',\n",
       " 'B. Option B follows the correct adjective order: opinion (silly), age (old-fashioned), color (tan).\"',\n",
       " 'B. Sentence (B) follows the correct adjective order rules: opinion, size, origin, material, purpose.\"',\n",
       " 'B. Sentence B follows the correct adjective order according to standard linguistic rules.\"',\n",
       " 'B.\"',\n",
       " 'B.**',\n",
       " 'Option (A).\"'}"
      ]
     },
     "execution_count": 81,
     "metadata": {},
     "output_type": "execute_result"
    }
   ],
   "source": [
    "set(dataset[\"answer_pred\"])"
   ]
  },
  {
   "cell_type": "code",
   "execution_count": 82,
   "id": "126ef57d-498d-4b30-9fe2-b55b3166bc54",
   "metadata": {},
   "outputs": [
    {
     "data": {
      "application/vnd.jupyter.widget-view+json": {
       "model_id": "f8679ef5e34248f495b3d9c9580bc41a",
       "version_major": 2,
       "version_minor": 0
      },
      "text/plain": [
       "Map:   0%|          | 0/250 [00:00<?, ? examples/s]"
      ]
     },
     "metadata": {},
     "output_type": "display_data"
    }
   ],
   "source": [
    "def map_fn(instance):    \n",
    "    return {\n",
    "        \"answer_pred\": instance[\"answer_pred\"].translate(str.maketrans(\"\", \"\", '.,()\"')) if instance[\"answer_pred\"] else None\n",
    "    }\n",
    "\n",
    "new_ds = dataset.map(map_fn, load_from_cache_file=False)"
   ]
  },
  {
   "cell_type": "code",
   "execution_count": 83,
   "id": "1a4b6dbb-94f7-41ac-beba-b861305a247f",
   "metadata": {},
   "outputs": [
    {
     "data": {
      "text/plain": [
       "{'A',\n",
       " 'A Sentence A follows the correct adjective order rule',\n",
       " 'A Sentence A follows the correct adjective order: new age white color lead material walking purpose',\n",
       " 'A Sentence A follows the correct adjective order: size enormous shape rectangular color blue noun dog',\n",
       " 'B',\n",
       " 'B Option B follows the correct adjective order: opinion silly age old-fashioned color tan',\n",
       " 'B Sentence B follows the correct adjective order according to standard linguistic rules',\n",
       " 'B Sentence B follows the correct adjective order rules: opinion size origin material purpose',\n",
       " 'B**',\n",
       " 'Option A'}"
      ]
     },
     "execution_count": 83,
     "metadata": {},
     "output_type": "execute_result"
    }
   ],
   "source": [
    "set(new_ds[\"answer_pred\"])"
   ]
  },
  {
   "cell_type": "code",
   "execution_count": 84,
   "id": "1b538a98-7557-4eaf-b3bd-6a5692bd2734",
   "metadata": {},
   "outputs": [
    {
     "data": {
      "application/vnd.jupyter.widget-view+json": {
       "model_id": "8efe9a02f3594d10ad31fa2a44fbd1b9",
       "version_major": 2,
       "version_minor": 0
      },
      "text/plain": [
       "Map:   0%|          | 0/250 [00:00<?, ? examples/s]"
      ]
     },
     "metadata": {},
     "output_type": "display_data"
    },
    {
     "data": {
      "text/plain": [
       "{'A', 'B'}"
      ]
     },
     "execution_count": 84,
     "metadata": {},
     "output_type": "execute_result"
    }
   ],
   "source": [
    "def map_fn(ins):\n",
    "    ls = ins[\"answer_pred\"].split()\n",
    "\n",
    "    if len(ls[0]) == 1:\n",
    "        return {\n",
    "            \"answer_pred\": ls[0]\n",
    "        }\n",
    "    elif ls[0] == \"B**\":\n",
    "        return {\n",
    "            \"answer_pred\": ls[0][0]\n",
    "        }\n",
    "    elif ls[0] == \"Option\":\n",
    "        return {\n",
    "            \"answer_pred\": ls[1]\n",
    "        }\n",
    "\n",
    "new_ds = new_ds.map(map_fn)\n",
    "set(new_ds[\"answer_pred\"])"
   ]
  },
  {
   "cell_type": "code",
   "execution_count": 85,
   "id": "57e61e46-ee2a-4a0d-9605-b092b855f25b",
   "metadata": {},
   "outputs": [
    {
     "data": {
      "application/vnd.jupyter.widget-view+json": {
       "model_id": "ff8bf7958df94a3a8d1697dc626cb73f",
       "version_major": 2,
       "version_minor": 0
      },
      "text/plain": [
       "Saving the dataset (0/1 shards):   0%|          | 0/250 [00:00<?, ? examples/s]"
      ]
     },
     "metadata": {},
     "output_type": "display_data"
    }
   ],
   "source": [
    "start_string, end_string = \"non_self_synthesis/bbh/\", \"/bbh_eval\"\n",
    "cat = str(chk_dir)[str(chk_dir).find(start_string) + len(start_string) + 4:str(chk_dir).find(end_string)]\n",
    "new_ds.save_to_disk(os.path.join(save_par_dir, cat))"
   ]
  },
  {
   "cell_type": "code",
   "execution_count": 86,
   "id": "77943f6b-0ef4-472b-8c75-164566e33273",
   "metadata": {},
   "outputs": [
    {
     "data": {
      "application/vnd.jupyter.widget-view+json": {
       "model_id": "f437127311274cf3bfe92a4c371c0881",
       "version_major": 2,
       "version_minor": 0
      },
      "text/plain": [
       "Filter:   0%|          | 0/250 [00:00<?, ? examples/s]"
      ]
     },
     "metadata": {},
     "output_type": "display_data"
    },
    {
     "data": {
      "text/plain": [
       "0.944"
      ]
     },
     "execution_count": 86,
     "metadata": {},
     "output_type": "execute_result"
    }
   ],
   "source": [
    "corr = new_ds.filter(lambda x: x[\"target\"].translate(str.maketrans(\"\", \"\", '()\"')) == x[\"answer_pred\"])\n",
    "(corr.num_rows) / new_ds.num_rows"
   ]
  },
  {
   "cell_type": "markdown",
   "id": "59fc2a84-f816-4975-b85d-f4a505c99639",
   "metadata": {
    "jp-MarkdownHeadingCollapsed": true
   },
   "source": [
    "# logical_deduction_five_objects"
   ]
  },
  {
   "cell_type": "code",
   "execution_count": 87,
   "id": "92d8f5eb-fa8f-47e8-abfa-dcc9962684eb",
   "metadata": {},
   "outputs": [],
   "source": [
    "chk_dir = here(os.path.join(par_dir, \"bbh-logical_deduction_five_objects/bbh_eval\"))"
   ]
  },
  {
   "cell_type": "code",
   "execution_count": 88,
   "id": "c8eacea9-4afc-4783-907d-74397b343553",
   "metadata": {},
   "outputs": [],
   "source": [
    "dataset = Dataset.load_from_disk(chk_dir)"
   ]
  },
  {
   "cell_type": "code",
   "execution_count": 89,
   "id": "6cfe632f-200c-4cc2-adc4-767b6406854a",
   "metadata": {},
   "outputs": [
    {
     "data": {
      "text/plain": [
       "{'(A) The blue book is the rightmost.\"',\n",
       " '(A) The falcon is the leftmost.',\n",
       " '(A) The sedan is the second-newest.\"',\n",
       " '(A) The tractor is the oldest.',\n",
       " 'A\"',\n",
       " 'A.',\n",
       " 'A.\"',\n",
       " 'B\"',\n",
       " 'B**',\n",
       " 'B.',\n",
       " 'B.\"',\n",
       " 'C\"',\n",
       " 'C.',\n",
       " 'C.\"',\n",
       " 'D\"',\n",
       " 'D.',\n",
       " 'D.\"',\n",
       " 'E\"',\n",
       " 'E.',\n",
       " 'E.\"'}"
      ]
     },
     "execution_count": 89,
     "metadata": {},
     "output_type": "execute_result"
    }
   ],
   "source": [
    "set(dataset[\"answer_pred\"])"
   ]
  },
  {
   "cell_type": "code",
   "execution_count": 90,
   "id": "6ea098a1-449b-416c-801b-6ed0e49a219e",
   "metadata": {},
   "outputs": [
    {
     "data": {
      "application/vnd.jupyter.widget-view+json": {
       "model_id": "3e5db1528d59479cb7b869e6621fa6d3",
       "version_major": 2,
       "version_minor": 0
      },
      "text/plain": [
       "Map:   0%|          | 0/250 [00:00<?, ? examples/s]"
      ]
     },
     "metadata": {},
     "output_type": "display_data"
    }
   ],
   "source": [
    "def map_fn(instance):    \n",
    "    return {\n",
    "        \"answer_pred\": instance[\"answer_pred\"].translate(str.maketrans(\"\", \"\", '.,()\"')) if instance[\"answer_pred\"] else None\n",
    "    }\n",
    "\n",
    "new_ds = dataset.map(map_fn, load_from_cache_file=False)"
   ]
  },
  {
   "cell_type": "code",
   "execution_count": 91,
   "id": "11b1f5dd-937c-4c45-b123-1ceac1875924",
   "metadata": {},
   "outputs": [
    {
     "data": {
      "text/plain": [
       "{'A',\n",
       " 'A The blue book is the rightmost',\n",
       " 'A The falcon is the leftmost',\n",
       " 'A The sedan is the second-newest',\n",
       " 'A The tractor is the oldest',\n",
       " 'B',\n",
       " 'B**',\n",
       " 'C',\n",
       " 'D',\n",
       " 'E'}"
      ]
     },
     "execution_count": 91,
     "metadata": {},
     "output_type": "execute_result"
    }
   ],
   "source": [
    "set(new_ds[\"answer_pred\"])"
   ]
  },
  {
   "cell_type": "code",
   "execution_count": 92,
   "id": "23cd080d-3841-4fb0-b0dd-715dfff80e87",
   "metadata": {},
   "outputs": [
    {
     "data": {
      "application/vnd.jupyter.widget-view+json": {
       "model_id": "2306e48f0d784c7c896a77697499835b",
       "version_major": 2,
       "version_minor": 0
      },
      "text/plain": [
       "Map:   0%|          | 0/250 [00:00<?, ? examples/s]"
      ]
     },
     "metadata": {},
     "output_type": "display_data"
    },
    {
     "data": {
      "text/plain": [
       "{'A', 'B', 'C', 'D', 'E'}"
      ]
     },
     "execution_count": 92,
     "metadata": {},
     "output_type": "execute_result"
    }
   ],
   "source": [
    "def map_fn(ins):\n",
    "    ls = ins[\"answer_pred\"].split()\n",
    "\n",
    "    if len(ls[0]) == 1:\n",
    "        return {\n",
    "            \"answer_pred\": ls[0]\n",
    "        }\n",
    "    elif ls[0] == \"B**\":\n",
    "        return {\n",
    "            \"answer_pred\": ls[0][0]\n",
    "        }\n",
    "\n",
    "new_ds = new_ds.map(map_fn)\n",
    "set(new_ds[\"answer_pred\"])"
   ]
  },
  {
   "cell_type": "code",
   "execution_count": 93,
   "id": "c9aab7a5-15a2-4db5-9c23-3dfa57c64939",
   "metadata": {},
   "outputs": [
    {
     "data": {
      "application/vnd.jupyter.widget-view+json": {
       "model_id": "f0e3111d081949cf94f32c660eb07c10",
       "version_major": 2,
       "version_minor": 0
      },
      "text/plain": [
       "Saving the dataset (0/1 shards):   0%|          | 0/250 [00:00<?, ? examples/s]"
      ]
     },
     "metadata": {},
     "output_type": "display_data"
    }
   ],
   "source": [
    "start_string, end_string = \"non_self_synthesis/bbh/\", \"/bbh_eval\"\n",
    "cat = str(chk_dir)[str(chk_dir).find(start_string) + len(start_string) + 4:str(chk_dir).find(end_string)]\n",
    "new_ds.save_to_disk(os.path.join(save_par_dir, cat))"
   ]
  },
  {
   "cell_type": "code",
   "execution_count": 94,
   "id": "cf1bcc92-9f2e-4776-add6-e27e8e989d9b",
   "metadata": {},
   "outputs": [
    {
     "data": {
      "application/vnd.jupyter.widget-view+json": {
       "model_id": "3869f65c7b8f4c45ad021341aec02f09",
       "version_major": 2,
       "version_minor": 0
      },
      "text/plain": [
       "Filter:   0%|          | 0/250 [00:00<?, ? examples/s]"
      ]
     },
     "metadata": {},
     "output_type": "display_data"
    },
    {
     "data": {
      "text/plain": [
       "0.888"
      ]
     },
     "execution_count": 94,
     "metadata": {},
     "output_type": "execute_result"
    }
   ],
   "source": [
    "corr = new_ds.filter(lambda x: x[\"target\"].translate(str.maketrans(\"\", \"\", '()\"')) == x[\"answer_pred\"])\n",
    "(corr.num_rows) / new_ds.num_rows"
   ]
  },
  {
   "cell_type": "markdown",
   "id": "6fef7c23-849a-4c8c-86ec-60f32a0b2428",
   "metadata": {
    "jp-MarkdownHeadingCollapsed": true
   },
   "source": [
    "# logical_deduction_seven_objects"
   ]
  },
  {
   "cell_type": "code",
   "execution_count": 95,
   "id": "941ecabd-3fbb-4881-8b6f-c450a77d757c",
   "metadata": {},
   "outputs": [],
   "source": [
    "chk_dir = here(os.path.join(par_dir, \"bbh-logical_deduction_seven_objects/bbh_eval\"))"
   ]
  },
  {
   "cell_type": "code",
   "execution_count": 96,
   "id": "fd86965b-b897-4a09-99ae-088fcdb1240e",
   "metadata": {},
   "outputs": [],
   "source": [
    "dataset = Dataset.load_from_disk(chk_dir)"
   ]
  },
  {
   "cell_type": "code",
   "execution_count": 97,
   "id": "e4f4f795-3d32-4c8a-b63c-15d032521a2e",
   "metadata": {},
   "outputs": [
    {
     "data": {
      "text/plain": [
       "{'(A) Ada finished third\"}',\n",
       " '(A) Ana finished fourth.',\n",
       " '(A) The cardinal is the third from the left.',\n",
       " '(A) The oranges are the fourth-most expensive.',\n",
       " '(A) The white book is the fourth from the left.',\n",
       " '(B) The hummingbird is the third from the right.\"',\n",
       " '(D) The blue jay is the fourth from the left.\"',\n",
       " '(E) The crow is the second from the left.',\n",
       " '(G) The truck is the second-oldest.\"',\n",
       " 'A\"',\n",
       " 'A.',\n",
       " 'A.\"',\n",
       " 'B\"',\n",
       " 'B.',\n",
       " 'C\"',\n",
       " 'C.',\n",
       " 'C.\"',\n",
       " 'D\"',\n",
       " 'D.',\n",
       " 'D.\"',\n",
       " 'E\"',\n",
       " 'E.',\n",
       " 'F\"',\n",
       " 'F.',\n",
       " 'G\"',\n",
       " 'G.',\n",
       " 'G.\"'}"
      ]
     },
     "execution_count": 97,
     "metadata": {},
     "output_type": "execute_result"
    }
   ],
   "source": [
    "set(dataset[\"answer_pred\"])"
   ]
  },
  {
   "cell_type": "code",
   "execution_count": 98,
   "id": "955a3f5e-5cea-43f1-a1d5-07f2001ca38a",
   "metadata": {},
   "outputs": [
    {
     "data": {
      "application/vnd.jupyter.widget-view+json": {
       "model_id": "931bd9ab07c240858030c84383af0fa4",
       "version_major": 2,
       "version_minor": 0
      },
      "text/plain": [
       "Map:   0%|          | 0/250 [00:00<?, ? examples/s]"
      ]
     },
     "metadata": {},
     "output_type": "display_data"
    },
    {
     "data": {
      "text/plain": [
       "{'A',\n",
       " 'A Ada finished third}',\n",
       " 'A Ana finished fourth',\n",
       " 'A The cardinal is the third from the left',\n",
       " 'A The oranges are the fourth-most expensive',\n",
       " 'A The white book is the fourth from the left',\n",
       " 'B',\n",
       " 'B The hummingbird is the third from the right',\n",
       " 'C',\n",
       " 'D',\n",
       " 'D The blue jay is the fourth from the left',\n",
       " 'E',\n",
       " 'E The crow is the second from the left',\n",
       " 'F',\n",
       " 'G',\n",
       " 'G The truck is the second-oldest'}"
      ]
     },
     "execution_count": 98,
     "metadata": {},
     "output_type": "execute_result"
    }
   ],
   "source": [
    "def map_fn(instance):    \n",
    "    return {\n",
    "        \"answer_pred\": instance[\"answer_pred\"].translate(str.maketrans(\"\", \"\", '.,()\"')) if instance[\"answer_pred\"] else None\n",
    "    }\n",
    "\n",
    "new_ds = dataset.map(map_fn, load_from_cache_file=False)\n",
    "set(new_ds[\"answer_pred\"])"
   ]
  },
  {
   "cell_type": "code",
   "execution_count": 99,
   "id": "42dceefa-5f09-4ef9-a7d6-1a76135e2e26",
   "metadata": {},
   "outputs": [
    {
     "data": {
      "application/vnd.jupyter.widget-view+json": {
       "model_id": "a481768f61cc4439bb9edb74935402d3",
       "version_major": 2,
       "version_minor": 0
      },
      "text/plain": [
       "Map:   0%|          | 0/250 [00:00<?, ? examples/s]"
      ]
     },
     "metadata": {},
     "output_type": "display_data"
    },
    {
     "data": {
      "text/plain": [
       "{'A', 'B', 'C', 'D', 'E', 'F', 'G'}"
      ]
     },
     "execution_count": 99,
     "metadata": {},
     "output_type": "execute_result"
    }
   ],
   "source": [
    "def map_fn(ins):\n",
    "    ls = ins[\"answer_pred\"].split()\n",
    "\n",
    "    if len(ls[0]) == 1:\n",
    "        return {\n",
    "            \"answer_pred\": ls[0]\n",
    "        }\n",
    "\n",
    "new_ds = new_ds.map(map_fn)\n",
    "set(new_ds[\"answer_pred\"])"
   ]
  },
  {
   "cell_type": "code",
   "execution_count": 100,
   "id": "817c45b7-737a-4078-b220-10dec8673572",
   "metadata": {},
   "outputs": [
    {
     "data": {
      "application/vnd.jupyter.widget-view+json": {
       "model_id": "284aef41b43540baae1f14d2684b0471",
       "version_major": 2,
       "version_minor": 0
      },
      "text/plain": [
       "Saving the dataset (0/1 shards):   0%|          | 0/250 [00:00<?, ? examples/s]"
      ]
     },
     "metadata": {},
     "output_type": "display_data"
    }
   ],
   "source": [
    "start_string, end_string = \"non_self_synthesis/bbh/\", \"/bbh_eval\"\n",
    "cat = str(chk_dir)[str(chk_dir).find(start_string) + len(start_string) + 4:str(chk_dir).find(end_string)]\n",
    "new_ds.save_to_disk(os.path.join(save_par_dir, cat))"
   ]
  },
  {
   "cell_type": "code",
   "execution_count": 101,
   "id": "31ac55a1-cadd-4bbe-bbcc-5c549ccd895a",
   "metadata": {},
   "outputs": [
    {
     "data": {
      "application/vnd.jupyter.widget-view+json": {
       "model_id": "f4f638b04fb74180b5dc66b8eaf899c3",
       "version_major": 2,
       "version_minor": 0
      },
      "text/plain": [
       "Filter:   0%|          | 0/250 [00:00<?, ? examples/s]"
      ]
     },
     "metadata": {},
     "output_type": "display_data"
    },
    {
     "data": {
      "text/plain": [
       "0.788"
      ]
     },
     "execution_count": 101,
     "metadata": {},
     "output_type": "execute_result"
    }
   ],
   "source": [
    "corr = new_ds.filter(lambda x: x[\"target\"].translate(str.maketrans(\"\", \"\", '()\"')) == x[\"answer_pred\"])\n",
    "(corr.num_rows) / new_ds.num_rows"
   ]
  },
  {
   "cell_type": "markdown",
   "id": "1dbb231c-9083-40ff-921e-a196229de3f3",
   "metadata": {
    "jp-MarkdownHeadingCollapsed": true
   },
   "source": [
    "# logical_deduction_three_objects"
   ]
  },
  {
   "cell_type": "code",
   "execution_count": 102,
   "id": "997292c0-b202-456f-ac2e-e612811c85c4",
   "metadata": {},
   "outputs": [],
   "source": [
    "chk_dir = here(os.path.join(par_dir, \"bbh-logical_deduction_three_objects/bbh_eval\"))"
   ]
  },
  {
   "cell_type": "code",
   "execution_count": 103,
   "id": "4e15206b-92e9-4cb9-beca-58323222878d",
   "metadata": {},
   "outputs": [],
   "source": [
    "dataset = Dataset.load_from_disk(chk_dir)"
   ]
  },
  {
   "cell_type": "code",
   "execution_count": 104,
   "id": "9e5aa80f-ed32-45e4-957a-86b4ff6dc784",
   "metadata": {},
   "outputs": [
    {
     "data": {
      "text/plain": [
       "{'(A) Amy finished second.',\n",
       " '(A) Mel finished last.',\n",
       " '(A) The apples are the cheapest.',\n",
       " '(A) The hatchback is the second-newest.',\n",
       " '(A) The hummingbird is the leftmost.',\n",
       " '(A) The pears are the second-most expensive.',\n",
       " 'A\"',\n",
       " 'A.',\n",
       " 'A.\"',\n",
       " 'B\"',\n",
       " 'B.',\n",
       " 'B.\"',\n",
       " 'C\"',\n",
       " 'C.',\n",
       " 'C.\"'}"
      ]
     },
     "execution_count": 104,
     "metadata": {},
     "output_type": "execute_result"
    }
   ],
   "source": [
    "set(dataset[\"answer_pred\"])"
   ]
  },
  {
   "cell_type": "code",
   "execution_count": 105,
   "id": "9deaa30c-78f4-460b-aa3a-470e8b532ba7",
   "metadata": {},
   "outputs": [
    {
     "data": {
      "application/vnd.jupyter.widget-view+json": {
       "model_id": "2a05effd9d3346e1a34c858b6b4207c5",
       "version_major": 2,
       "version_minor": 0
      },
      "text/plain": [
       "Map:   0%|          | 0/250 [00:00<?, ? examples/s]"
      ]
     },
     "metadata": {},
     "output_type": "display_data"
    },
    {
     "data": {
      "text/plain": [
       "{'A',\n",
       " 'A Amy finished second',\n",
       " 'A Mel finished last',\n",
       " 'A The apples are the cheapest',\n",
       " 'A The hatchback is the second-newest',\n",
       " 'A The hummingbird is the leftmost',\n",
       " 'A The pears are the second-most expensive',\n",
       " 'B',\n",
       " 'C'}"
      ]
     },
     "execution_count": 105,
     "metadata": {},
     "output_type": "execute_result"
    }
   ],
   "source": [
    "def map_fn(instance):    \n",
    "    return {\n",
    "        \"answer_pred\": instance[\"answer_pred\"].translate(str.maketrans(\"\", \"\", '.,()\"')) if instance[\"answer_pred\"] else None\n",
    "    }\n",
    "\n",
    "new_ds = dataset.map(map_fn, load_from_cache_file=False)\n",
    "set(new_ds[\"answer_pred\"])"
   ]
  },
  {
   "cell_type": "code",
   "execution_count": 106,
   "id": "9e3024dd-c8cb-4472-8885-f190b6a1877f",
   "metadata": {},
   "outputs": [
    {
     "data": {
      "application/vnd.jupyter.widget-view+json": {
       "model_id": "c521d20dbe65488dbef504caace50bc8",
       "version_major": 2,
       "version_minor": 0
      },
      "text/plain": [
       "Map:   0%|          | 0/250 [00:00<?, ? examples/s]"
      ]
     },
     "metadata": {},
     "output_type": "display_data"
    },
    {
     "data": {
      "text/plain": [
       "{'A', 'B', 'C'}"
      ]
     },
     "execution_count": 106,
     "metadata": {},
     "output_type": "execute_result"
    }
   ],
   "source": [
    "def map_fn(ins):\n",
    "    ls = ins[\"answer_pred\"].split()\n",
    "\n",
    "    if len(ls[0]) == 1:\n",
    "        return {\n",
    "            \"answer_pred\": ls[0]\n",
    "        }\n",
    "\n",
    "new_ds = new_ds.map(map_fn)\n",
    "set(new_ds[\"answer_pred\"])"
   ]
  },
  {
   "cell_type": "code",
   "execution_count": 107,
   "id": "cb43de52-b600-445c-86eb-86968fdac33a",
   "metadata": {},
   "outputs": [
    {
     "data": {
      "application/vnd.jupyter.widget-view+json": {
       "model_id": "144a8274d6f842608bcb38f6d0ba0ceb",
       "version_major": 2,
       "version_minor": 0
      },
      "text/plain": [
       "Saving the dataset (0/1 shards):   0%|          | 0/250 [00:00<?, ? examples/s]"
      ]
     },
     "metadata": {},
     "output_type": "display_data"
    }
   ],
   "source": [
    "start_string, end_string = \"non_self_synthesis/bbh/\", \"/bbh_eval\"\n",
    "cat = str(chk_dir)[str(chk_dir).find(start_string) + len(start_string) + 4:str(chk_dir).find(end_string)]\n",
    "new_ds.save_to_disk(os.path.join(save_par_dir, cat))"
   ]
  },
  {
   "cell_type": "code",
   "execution_count": 108,
   "id": "992a8366-d61d-4ac0-8e3f-54bdbabdab2c",
   "metadata": {},
   "outputs": [
    {
     "data": {
      "application/vnd.jupyter.widget-view+json": {
       "model_id": "68f92835823e459cbdeee1eff007e954",
       "version_major": 2,
       "version_minor": 0
      },
      "text/plain": [
       "Filter:   0%|          | 0/250 [00:00<?, ? examples/s]"
      ]
     },
     "metadata": {},
     "output_type": "display_data"
    },
    {
     "data": {
      "text/plain": [
       "0.984"
      ]
     },
     "execution_count": 108,
     "metadata": {},
     "output_type": "execute_result"
    }
   ],
   "source": [
    "corr = new_ds.filter(lambda x: x[\"target\"].translate(str.maketrans(\"\", \"\", '()\"')) == x[\"answer_pred\"])\n",
    "(corr.num_rows) / new_ds.num_rows"
   ]
  },
  {
   "cell_type": "markdown",
   "id": "b1915237-bce3-4e3b-b051-8d5eb37f9d01",
   "metadata": {
    "jp-MarkdownHeadingCollapsed": true
   },
   "source": [
    "# movie_recommendation"
   ]
  },
  {
   "cell_type": "code",
   "execution_count": 109,
   "id": "d1974cb6-ad5a-4797-b836-5107b4b39e06",
   "metadata": {},
   "outputs": [],
   "source": [
    "chk_dir = here(os.path.join(par_dir, \"bbh-movie_recommendation/bbh_eval\"))"
   ]
  },
  {
   "cell_type": "code",
   "execution_count": 110,
   "id": "c621e330-d571-40ed-8276-5aed2ca64e39",
   "metadata": {},
   "outputs": [],
   "source": [
    "dataset = Dataset.load_from_disk(chk_dir)"
   ]
  },
  {
   "cell_type": "code",
   "execution_count": 111,
   "id": "772615e1-2fba-4dfb-9f90-e1551714abdb",
   "metadata": {},
   "outputs": [
    {
     "data": {
      "text/plain": [
       "{'A\"',\n",
       " 'A.',\n",
       " 'A.\"',\n",
       " 'B\"',\n",
       " 'B.',\n",
       " 'B. Up is the most similar to the given movies due to its adventure and fantasy genres, complex plot, epic scale, and intricate world-building.\"',\n",
       " 'B.\"',\n",
       " 'C and D.',\n",
       " 'C\"',\n",
       " 'C.',\n",
       " 'D\"',\n",
       " 'D.',\n",
       " 'D. The Usual Suspects is the most similar to the given movies due to its complex narrative, unpredictable plot twists, strong character development, and dark and gritty atmosphere.\"',\n",
       " 'D.\"',\n",
       " 'E.',\n",
       " 'None of the options are similar to the given movies.',\n",
       " 'None of the options closely match the criteria of historical/dramatic content, emotional resonance, and epic narrative found in the given movies.',\n",
       " 'None of the options match the criteria of the given movies in terms of genre, themes, narrative techniques, cinematic elements, director style, character development, or storyline complexity.',\n",
       " 'that none of the options (A, B, C, D) closely match the criteria extracted from the given movies. Therefore, there is no suitable match among the provided options.'}"
      ]
     },
     "execution_count": 111,
     "metadata": {},
     "output_type": "execute_result"
    }
   ],
   "source": [
    "set(dataset[\"answer_pred\"])"
   ]
  },
  {
   "cell_type": "code",
   "execution_count": 115,
   "id": "a09a7372-c6cc-4b27-8e5d-f02bd646f95a",
   "metadata": {},
   "outputs": [
    {
     "data": {
      "application/vnd.jupyter.widget-view+json": {
       "model_id": "bfecdf343f4641b882958ec4e55257bf",
       "version_major": 2,
       "version_minor": 0
      },
      "text/plain": [
       "Map:   0%|          | 0/250 [00:00<?, ? examples/s]"
      ]
     },
     "metadata": {},
     "output_type": "display_data"
    }
   ],
   "source": [
    "def map_fn(instance):    \n",
    "    return {\n",
    "        \"answer_pred\": instance[\"answer_pred\"].translate(str.maketrans(\"\", \"\", '.,()\"')) if instance[\"answer_pred\"] else None\n",
    "    }\n",
    "\n",
    "new_ds = dataset.map(map_fn, load_from_cache_file=False)"
   ]
  },
  {
   "cell_type": "code",
   "execution_count": 116,
   "id": "b8cddf57-5603-40d4-a8bb-b9db3d7f7104",
   "metadata": {},
   "outputs": [
    {
     "data": {
      "text/plain": [
       "{'A',\n",
       " 'B',\n",
       " 'B Up is the most similar to the given movies due to its adventure and fantasy genres complex plot epic scale and intricate world-building',\n",
       " 'C',\n",
       " 'C and D',\n",
       " 'D',\n",
       " 'D The Usual Suspects is the most similar to the given movies due to its complex narrative unpredictable plot twists strong character development and dark and gritty atmosphere',\n",
       " 'E',\n",
       " 'None of the options are similar to the given movies',\n",
       " 'None of the options closely match the criteria of historical/dramatic content emotional resonance and epic narrative found in the given movies',\n",
       " 'None of the options match the criteria of the given movies in terms of genre themes narrative techniques cinematic elements director style character development or storyline complexity',\n",
       " 'that none of the options A B C D closely match the criteria extracted from the given movies Therefore there is no suitable match among the provided options'}"
      ]
     },
     "execution_count": 116,
     "metadata": {},
     "output_type": "execute_result"
    }
   ],
   "source": [
    "set(new_ds[\"answer_pred\"])"
   ]
  },
  {
   "cell_type": "code",
   "execution_count": 117,
   "id": "24198ebc-d096-44ce-8102-7022ba27c5e8",
   "metadata": {},
   "outputs": [
    {
     "data": {
      "application/vnd.jupyter.widget-view+json": {
       "model_id": "d4a365cec86748d39519537114af3779",
       "version_major": 2,
       "version_minor": 0
      },
      "text/plain": [
       "Map:   0%|          | 0/250 [00:00<?, ? examples/s]"
      ]
     },
     "metadata": {},
     "output_type": "display_data"
    },
    {
     "data": {
      "text/plain": [
       "{'A',\n",
       " 'B',\n",
       " 'C',\n",
       " 'C and D',\n",
       " 'D',\n",
       " 'E',\n",
       " 'None of the options are similar to the given movies',\n",
       " 'None of the options closely match the criteria of historical/dramatic content emotional resonance and epic narrative found in the given movies',\n",
       " 'None of the options match the criteria of the given movies in terms of genre themes narrative techniques cinematic elements director style character development or storyline complexity',\n",
       " 'that none of the options A B C D closely match the criteria extracted from the given movies Therefore there is no suitable match among the provided options'}"
      ]
     },
     "execution_count": 117,
     "metadata": {},
     "output_type": "execute_result"
    }
   ],
   "source": [
    "def map_fn(ins):\n",
    "    if ins[\"answer_pred\"] and \"B Up is the most similar to the given\" in ins[\"answer_pred\"]:\n",
    "        return {\n",
    "            \"answer_pred\": \"B\"\n",
    "        }\n",
    "    elif ins[\"answer_pred\"] and \"D The Usual Suspects is the most similar\" in ins[\"answer_pred\"]:\n",
    "        return {\n",
    "            \"answer_pred\": \"D\"\n",
    "        }\n",
    "    return {\n",
    "        \"answer_pred\": ins[\"answer_pred\"]\n",
    "    }\n",
    "\n",
    "new_ds = new_ds.map(map_fn)\n",
    "set(new_ds[\"answer_pred\"])"
   ]
  },
  {
   "cell_type": "code",
   "execution_count": 118,
   "id": "bdd7fd5b-8cff-4fca-acc4-226716a840c3",
   "metadata": {},
   "outputs": [
    {
     "data": {
      "application/vnd.jupyter.widget-view+json": {
       "model_id": "590830ab0ffb40d28726ccc7d377ecaf",
       "version_major": 2,
       "version_minor": 0
      },
      "text/plain": [
       "Saving the dataset (0/1 shards):   0%|          | 0/250 [00:00<?, ? examples/s]"
      ]
     },
     "metadata": {},
     "output_type": "display_data"
    }
   ],
   "source": [
    "start_string, end_string = \"non_self_synthesis/bbh/\", \"/bbh_eval\"\n",
    "cat = str(chk_dir)[str(chk_dir).find(start_string) + len(start_string) + 4:str(chk_dir).find(end_string)]\n",
    "new_ds.save_to_disk(os.path.join(save_par_dir, cat))"
   ]
  },
  {
   "cell_type": "code",
   "execution_count": 119,
   "id": "9ca30b67-e251-4c75-bfc1-85c852d42050",
   "metadata": {},
   "outputs": [
    {
     "data": {
      "application/vnd.jupyter.widget-view+json": {
       "model_id": "99fbd707a351436c82c4ca195f4a1f8a",
       "version_major": 2,
       "version_minor": 0
      },
      "text/plain": [
       "Filter:   0%|          | 0/250 [00:00<?, ? examples/s]"
      ]
     },
     "metadata": {},
     "output_type": "display_data"
    },
    {
     "data": {
      "text/plain": [
       "0.716"
      ]
     },
     "execution_count": 119,
     "metadata": {},
     "output_type": "execute_result"
    }
   ],
   "source": [
    "corr = new_ds.filter(lambda x: x[\"target\"].translate(str.maketrans(\"\", \"\", '()\"')) == x[\"answer_pred\"])\n",
    "(corr.num_rows) / new_ds.num_rows"
   ]
  },
  {
   "cell_type": "markdown",
   "id": "64a3d5b0-4ba3-4989-b506-b7597bb4a044",
   "metadata": {
    "jp-MarkdownHeadingCollapsed": true
   },
   "source": [
    "# penguins_in_a_table"
   ]
  },
  {
   "cell_type": "code",
   "execution_count": 120,
   "id": "57f52b5b-7902-4b5b-ad11-0b5f811a9c72",
   "metadata": {},
   "outputs": [],
   "source": [
    "chk_dir = here(os.path.join(par_dir, \"bbh-penguins_in_a_table/bbh_eval\"))"
   ]
  },
  {
   "cell_type": "code",
   "execution_count": 121,
   "id": "44adbace-ace5-4f21-80da-332aed7b9a95",
   "metadata": {},
   "outputs": [],
   "source": [
    "dataset = Dataset.load_from_disk(chk_dir)"
   ]
  },
  {
   "cell_type": "code",
   "execution_count": 122,
   "id": "b4282681-d060-4001-8e70-24deba130b11",
   "metadata": {},
   "outputs": [
    {
     "data": {
      "text/plain": [
       "{'(A) 1.\"', 'A\"', 'A.', 'A.\"', 'B\"', 'B.', 'C\"', 'C.', 'D\"', 'D.', 'E\"', 'E.'}"
      ]
     },
     "execution_count": 122,
     "metadata": {},
     "output_type": "execute_result"
    }
   ],
   "source": [
    "set(dataset[\"answer_pred\"])"
   ]
  },
  {
   "cell_type": "code",
   "execution_count": 123,
   "id": "e7fa4f24-8807-4281-bad9-72f191f989c1",
   "metadata": {},
   "outputs": [
    {
     "data": {
      "application/vnd.jupyter.widget-view+json": {
       "model_id": "05d2f0b1f7054239a5aa9f811f756915",
       "version_major": 2,
       "version_minor": 0
      },
      "text/plain": [
       "Map:   0%|          | 0/146 [00:00<?, ? examples/s]"
      ]
     },
     "metadata": {},
     "output_type": "display_data"
    }
   ],
   "source": [
    "def map_fn(instance):    \n",
    "    return {\n",
    "        \"answer_pred\": instance[\"answer_pred\"].translate(str.maketrans(\"\", \"\", '.,()\"')) if instance[\"answer_pred\"] else None\n",
    "    }\n",
    "\n",
    "new_ds = dataset.map(map_fn, load_from_cache_file=False)"
   ]
  },
  {
   "cell_type": "code",
   "execution_count": 124,
   "id": "8e62cf66-fb1e-4c9b-876e-b75a76e0362b",
   "metadata": {},
   "outputs": [
    {
     "data": {
      "text/plain": [
       "{'A', 'A 1', 'B', 'C', 'D', 'E'}"
      ]
     },
     "execution_count": 124,
     "metadata": {},
     "output_type": "execute_result"
    }
   ],
   "source": [
    "set(new_ds[\"answer_pred\"])"
   ]
  },
  {
   "cell_type": "code",
   "execution_count": 125,
   "id": "f538bbb0-0797-4c0a-a458-cd439737b1c2",
   "metadata": {},
   "outputs": [
    {
     "data": {
      "application/vnd.jupyter.widget-view+json": {
       "model_id": "fc9dafe35c18470cb00470466a7877f9",
       "version_major": 2,
       "version_minor": 0
      },
      "text/plain": [
       "Map:   0%|          | 0/146 [00:00<?, ? examples/s]"
      ]
     },
     "metadata": {},
     "output_type": "display_data"
    },
    {
     "data": {
      "text/plain": [
       "{'A', 'B', 'C', 'D', 'E'}"
      ]
     },
     "execution_count": 125,
     "metadata": {},
     "output_type": "execute_result"
    }
   ],
   "source": [
    "def map_fn(ins):\n",
    "    return {\n",
    "        \"answer_pred\": ins[\"answer_pred\"].split()[0]\n",
    "    }\n",
    "\n",
    "new_ds = new_ds.map(map_fn)\n",
    "set(new_ds[\"answer_pred\"])"
   ]
  },
  {
   "cell_type": "code",
   "execution_count": 126,
   "id": "ac329c9d-fc7c-4864-bdbe-b85d7a0ba721",
   "metadata": {},
   "outputs": [
    {
     "data": {
      "application/vnd.jupyter.widget-view+json": {
       "model_id": "345667ac8d2d494c9b640b0255cd3714",
       "version_major": 2,
       "version_minor": 0
      },
      "text/plain": [
       "Saving the dataset (0/1 shards):   0%|          | 0/146 [00:00<?, ? examples/s]"
      ]
     },
     "metadata": {},
     "output_type": "display_data"
    }
   ],
   "source": [
    "start_string, end_string = \"non_self_synthesis/bbh/\", \"/bbh_eval\"\n",
    "cat = str(chk_dir)[str(chk_dir).find(start_string) + len(start_string) + 4:str(chk_dir).find(end_string)]\n",
    "new_ds.save_to_disk(os.path.join(save_par_dir, cat))"
   ]
  },
  {
   "cell_type": "code",
   "execution_count": 127,
   "id": "ac13448a-24a5-4b7e-8dae-ed94377f0423",
   "metadata": {},
   "outputs": [
    {
     "data": {
      "application/vnd.jupyter.widget-view+json": {
       "model_id": "e3a4ee9f2a9d457cb9b86bea6204f5bf",
       "version_major": 2,
       "version_minor": 0
      },
      "text/plain": [
       "Filter:   0%|          | 0/146 [00:00<?, ? examples/s]"
      ]
     },
     "metadata": {},
     "output_type": "display_data"
    },
    {
     "data": {
      "text/plain": [
       "0.9794520547945206"
      ]
     },
     "execution_count": 127,
     "metadata": {},
     "output_type": "execute_result"
    }
   ],
   "source": [
    "corr = new_ds.filter(lambda x: x[\"target\"].translate(str.maketrans(\"\", \"\", '()\"')) == x[\"answer_pred\"])\n",
    "(corr.num_rows) / new_ds.num_rows"
   ]
  },
  {
   "cell_type": "markdown",
   "id": "9937f8fa-d824-4cb8-b481-0bd2d77a48ac",
   "metadata": {
    "jp-MarkdownHeadingCollapsed": true
   },
   "source": [
    "# reasoning_about_colored_objects"
   ]
  },
  {
   "cell_type": "code",
   "execution_count": 128,
   "id": "e55f9164-86ac-4fc2-b4c1-29533aed1d13",
   "metadata": {},
   "outputs": [],
   "source": [
    "chk_dir = here(os.path.join(par_dir, \"bbh-reasoning_about_colored_objects/bbh_eval\"))"
   ]
  },
  {
   "cell_type": "code",
   "execution_count": 129,
   "id": "8bcb5714-3da8-45b1-9466-97ed241a1d05",
   "metadata": {},
   "outputs": [],
   "source": [
    "dataset = Dataset.load_from_disk(chk_dir)"
   ]
  },
  {
   "cell_type": "code",
   "execution_count": 130,
   "id": "e54c6db2-efcb-4408-8d48-6b29c1af6526",
   "metadata": {},
   "outputs": [
    {
     "data": {
      "text/plain": [
       "{'(B)\"',\n",
       " '(D) green\"',\n",
       " '(D) green.\"',\n",
       " '(D) three.\"',\n",
       " '(E) blue.',\n",
       " '(E) blue.\"',\n",
       " '(E).\"',\n",
       " '(M)\"',\n",
       " '6\"',\n",
       " 'A\"',\n",
       " 'A.',\n",
       " 'A.\"',\n",
       " 'B\"',\n",
       " 'B.',\n",
       " 'B.\"',\n",
       " 'C\"',\n",
       " 'C.',\n",
       " 'C.\"',\n",
       " 'D\"',\n",
       " 'D.',\n",
       " 'D.\"',\n",
       " 'E\"',\n",
       " 'E.',\n",
       " 'E.\"',\n",
       " 'F\"',\n",
       " 'F.',\n",
       " 'G\"',\n",
       " 'G.',\n",
       " 'G.\"',\n",
       " 'H\"',\n",
       " 'H.',\n",
       " 'H.\"',\n",
       " 'I\"',\n",
       " 'I.',\n",
       " 'I.\"',\n",
       " 'J\"',\n",
       " 'J.',\n",
       " 'J.\"',\n",
       " 'K.',\n",
       " 'K.\"',\n",
       " 'L\"',\n",
       " 'L.',\n",
       " 'L.\"',\n",
       " 'M\"',\n",
       " 'M.',\n",
       " 'M.\"',\n",
       " 'N.',\n",
       " 'O\"',\n",
       " 'O.',\n",
       " 'O.\"',\n",
       " 'P\"',\n",
       " 'P.',\n",
       " 'P.\"',\n",
       " 'Q.',\n",
       " 'Q.\"',\n",
       " 'R\"',\n",
       " 'R.',\n",
       " 'R.\"',\n",
       " 'the option selected in Step 7.\",'}"
      ]
     },
     "execution_count": 130,
     "metadata": {},
     "output_type": "execute_result"
    }
   ],
   "source": [
    "set(dataset[\"answer_pred\"])"
   ]
  },
  {
   "cell_type": "code",
   "execution_count": 131,
   "id": "da9c53df-cffb-4621-9b14-dc4a737976e1",
   "metadata": {},
   "outputs": [
    {
     "data": {
      "application/vnd.jupyter.widget-view+json": {
       "model_id": "ce3d551323b54fbb829ec7584473b568",
       "version_major": 2,
       "version_minor": 0
      },
      "text/plain": [
       "Map:   0%|          | 0/250 [00:00<?, ? examples/s]"
      ]
     },
     "metadata": {},
     "output_type": "display_data"
    },
    {
     "data": {
      "text/plain": [
       "{'6',\n",
       " 'A',\n",
       " 'B',\n",
       " 'C',\n",
       " 'D',\n",
       " 'D green',\n",
       " 'D three',\n",
       " 'E',\n",
       " 'E blue',\n",
       " 'F',\n",
       " 'G',\n",
       " 'H',\n",
       " 'I',\n",
       " 'J',\n",
       " 'K',\n",
       " 'L',\n",
       " 'M',\n",
       " 'N',\n",
       " 'O',\n",
       " 'P',\n",
       " 'Q',\n",
       " 'R',\n",
       " 'the option selected in Step 7'}"
      ]
     },
     "execution_count": 131,
     "metadata": {},
     "output_type": "execute_result"
    }
   ],
   "source": [
    "def map_fn(instance):    \n",
    "    return {\n",
    "        \"answer_pred\": instance[\"answer_pred\"].translate(str.maketrans(\"\", \"\", '.,()\"')) if instance[\"answer_pred\"] else None\n",
    "    }\n",
    "\n",
    "new_ds = dataset.map(map_fn, load_from_cache_file=False)\n",
    "set(new_ds[\"answer_pred\"])"
   ]
  },
  {
   "cell_type": "code",
   "execution_count": 132,
   "id": "2156f24c-f985-442c-8e9d-a896918707c0",
   "metadata": {},
   "outputs": [
    {
     "data": {
      "application/vnd.jupyter.widget-view+json": {
       "model_id": "4baa5336c5924b55811463e2b06019d5",
       "version_major": 2,
       "version_minor": 0
      },
      "text/plain": [
       "Map:   0%|          | 0/250 [00:00<?, ? examples/s]"
      ]
     },
     "metadata": {},
     "output_type": "display_data"
    },
    {
     "data": {
      "text/plain": [
       "{'6',\n",
       " 'A',\n",
       " 'B',\n",
       " 'C',\n",
       " 'D',\n",
       " 'E',\n",
       " 'F',\n",
       " 'G',\n",
       " 'H',\n",
       " 'I',\n",
       " 'J',\n",
       " 'K',\n",
       " 'L',\n",
       " 'M',\n",
       " 'N',\n",
       " 'O',\n",
       " 'P',\n",
       " 'Q',\n",
       " 'R',\n",
       " 'the option selected in Step 7'}"
      ]
     },
     "execution_count": 132,
     "metadata": {},
     "output_type": "execute_result"
    }
   ],
   "source": [
    "def map_fn(instance):\n",
    "    sp = instance[\"answer_pred\"].split()\n",
    "    if len(sp) == 2:\n",
    "        return {\"answer_pred\": sp[0]}\n",
    "    else:\n",
    "        return {\"answer_pred\": instance[\"answer_pred\"]}\n",
    "\n",
    "new_ds = new_ds.map(map_fn, load_from_cache_file=False)\n",
    "set(new_ds[\"answer_pred\"])"
   ]
  },
  {
   "cell_type": "code",
   "execution_count": 134,
   "id": "823c20c7-8e6c-45a5-ba19-d303d0de3e92",
   "metadata": {},
   "outputs": [
    {
     "name": "stdout",
     "output_type": "stream",
     "text": [
      "```json\n",
      "{\n",
      "  \"Step 1 - Identify relevant items\": {\n",
      "    \"Description\": \"List all the puzzles mentioned in the task, regardless of their color.\",\n",
      "    \"Action\": \"Extract puzzles from the item list.\",\n",
      "    \"Result\": \"Three yellow puzzles, three teal puzzles\"\n",
      "  },\n",
      "  \"Step 2 - Identify items to be excluded\": {\n",
      "    \"Description\": \"Identify the color of the items that need to be removed, as mentioned in the task.\",\n",
      "    \"Action\": \"Note down the color magenta.\",\n",
      "    \"Result\": \"Magenta\"\n",
      "  },\n",
      "  \"Step 3 - Filter out irrelevant items\": {\n",
      "    \"Description\": \"Remove the items that are of the color identified in Step 2 from the list of relevant items obtained in Step 1.\",\n",
      "    \"Action\": \"Remove magenta puzzles (if any) from the puzzle list.\",\n",
      "    \"Result\": \"Three yellow puzzles, three teal puzzles (no magenta puzzles to remove)\"\n",
      "  },\n",
      "  \"Step 4 - Categorize remaining items\": {\n",
      "    \"Description\": \"Categorize the remaining puzzles by their color to make counting easier.\",\n",
      "    \"Action\": \"Group puzzles by their colors.\",\n",
      "    \"Result\": {\n",
      "      \"Yellow puzzles\": 3,\n",
      "      \"Teal puzzles\": 3\n",
      "    }\n",
      "  },\n",
      "  \"Step 5 - Count the remaining puzzles\": {\n",
      "    \"Description\": \"Count the total number of puzzles remaining after the exclusion.\",\n",
      "    \"Action\": \"Sum up the puzzles from all color categories.\",\n",
      "    \"Result\": 6\n",
      "  },\n",
      "  \"Step 6 - Answer the main question\": {\n",
      "    \"Description\": \"The main question is 'How many puzzles remain on the floor after removing all the magenta things?'\",\n",
      "    \"Action\": \"Provide the count obtained in Step 5 as the answer.\",\n",
      "    \"Result\": \"\n",
      "  },\n",
      "  \"Step 7 - Match the answer to the options\": {\n",
      "    \"Description\": \"Match the answer obtained in Step 6 to the options provided.\",\n",
      "    \"Action\": \"Identify the correct option based on the puzzle count.\",\n",
      "    \"Result\": \"\n",
      "  }\n",
      "}\n",
      "```\n"
     ]
    },
    {
     "data": {
      "application/vnd.jupyter.widget-view+json": {
       "model_id": "1b3e890a14894f259431cd1abd8b4f48",
       "version_major": 2,
       "version_minor": 0
      },
      "text/plain": [
       "Filter:   0%|          | 0/250 [00:00<?, ? examples/s]"
      ]
     },
     "metadata": {},
     "output_type": "display_data"
    },
    {
     "name": "stdout",
     "output_type": "stream",
     "text": [
      "```json\n",
      "{\n",
      "  \"Step 1: List all items\": {\n",
      "    \"description\": \"Write down all the items seen on the floor.\",\n",
      "    \"action\": \"List items\",\n",
      "    \"items\": [\n",
      "      \"three silver pencils\",\n",
      "      \"one teal pencil\",\n",
      "      \"one turquoise mug\",\n",
      "      \"two yellow pencils\",\n",
      "      \"three teal bracelets\",\n",
      "      \"two silver mugs\",\n",
      "      \"one turquoise jug\",\n",
      "      \"three turquoise pencils\",\n",
      "      \"two turquoise bracelets\"\n",
      "    ]\n",
      "  },\n",
      "  \"Step 2: Identify silver items\": {\n",
      "    \"description\": \"Identify which items are silver.\",\n",
      "    \"action\": \"Mark silver items\",\n",
      "    \"silver_items\": [\n",
      "      \"three silver pencils\",\n",
      "      \"two silver mugs\"\n",
      "    ]\n",
      "  },\n",
      "  \"Step 3: Remove silver items\": {\n",
      "    \"description\": \"Remove all the silver items from the list.\",\n",
      "    \"action\": \"Remove silver items\",\n",
      "    \"remaining_items\": [\n",
      "      \"one teal pencil\",\n",
      "      \"one turquoise mug\",\n",
      "      \"two yellow pencils\",\n",
      "      \"three teal bracelets\",\n",
      "      \"one turquoise jug\",\n",
      "      \"three turquoise pencils\",\n",
      "      \"two turquoise bracelets\"\n",
      "    ]\n",
      "  },\n",
      "  \"Step 4: List remaining items\": {\n",
      "    \"description\": \"List all the items that are left after removing silver items.\",\n",
      "    \"action\": \"List remaining items\",\n",
      "    \"remaining_items\": [\n",
      "      \"one teal pencil\",\n",
      "      \"one turquoise mug\",\n",
      "      \"two yellow pencils\",\n",
      "      \"three teal bracelets\",\n",
      "      \"one turquoise jug\",\n",
      "      \"three turquoise pencils\",\n",
      "      \"two turquoise bracelets\"\n",
      "    ]\n",
      "  },\n",
      "  \"Step 5: Identify mugs\": {\n",
      "    \"description\": \"Identify which of the remaining items are mugs.\",\n",
      "    \"action\": \"Mark mugs\",\n",
      "    \"mugs\": [\n",
      "      \"one turquoise mug\"\n",
      "    ]\n",
      "  },\n",
      "  \"Step 6: Count remaining mugs\": {\n",
      "    \"description\": \"Count the number of mugs that are left.\",\n",
      "    \"action\": \"Count mugs\",\n",
      "    \"mug_count\": 1\n",
      "  },\n",
      "  \"Step 7: Select correct option\": {\n",
      "    \"description\": \"Based on the count of remaining mugs, select the correct option from the given choices.\",\n",
      "    \"action\": \"Select option\",\n",
      "    \"selected_option\": \"B\"\n",
      "  },\n",
      "  \"Final Answer\": {\n",
      "    \"description\": \"\n",
      "    \"action\": \"Provide final answer\",\n",
      "    \"final_answer\": \"\n",
      "  }\n",
      "}\n",
      "```\n"
     ]
    }
   ],
   "source": [
    "print(new_ds.filter(lambda x: x[\"answer_pred\"] == \"6\")[0][\"trajectory\"])\n",
    "print(new_ds.filter(lambda x: x[\"answer_pred\"] == \"the option selected in Step 7\")[0][\"trajectory\"])"
   ]
  },
  {
   "cell_type": "code",
   "execution_count": 137,
   "id": "634f0887-7c0e-4d4c-a22f-84b10e55f36d",
   "metadata": {},
   "outputs": [
    {
     "data": {
      "application/vnd.jupyter.widget-view+json": {
       "model_id": "3462b2c1c5714e1397d8ce9ad0bb2616",
       "version_major": 2,
       "version_minor": 0
      },
      "text/plain": [
       "Map:   0%|          | 0/250 [00:00<?, ? examples/s]"
      ]
     },
     "metadata": {},
     "output_type": "display_data"
    },
    {
     "data": {
      "text/plain": [
       "{'6',\n",
       " 'A',\n",
       " 'B',\n",
       " 'C',\n",
       " 'D',\n",
       " 'E',\n",
       " 'F',\n",
       " 'G',\n",
       " 'H',\n",
       " 'I',\n",
       " 'J',\n",
       " 'K',\n",
       " 'L',\n",
       " 'M',\n",
       " 'N',\n",
       " 'O',\n",
       " 'P',\n",
       " 'Q',\n",
       " 'R'}"
      ]
     },
     "execution_count": 137,
     "metadata": {},
     "output_type": "execute_result"
    }
   ],
   "source": [
    "def map_fn(ins):\n",
    "    if \"the option selected in Step 7\" in ins[\"answer_pred\"]:\n",
    "        return {\n",
    "            \"answer_pred\": \"B\"\n",
    "        }\n",
    "    return {\n",
    "        \"answer_pred\": ins[\"answer_pred\"]\n",
    "    }\n",
    "\n",
    "new_ds = new_ds.map(map_fn)\n",
    "set(new_ds[\"answer_pred\"])"
   ]
  },
  {
   "cell_type": "code",
   "execution_count": 138,
   "id": "271c492c-f7b9-4bae-9276-d3782f1abdb3",
   "metadata": {},
   "outputs": [
    {
     "data": {
      "application/vnd.jupyter.widget-view+json": {
       "model_id": "3dca019ba1c544b58d74684de300d2fc",
       "version_major": 2,
       "version_minor": 0
      },
      "text/plain": [
       "Saving the dataset (0/1 shards):   0%|          | 0/250 [00:00<?, ? examples/s]"
      ]
     },
     "metadata": {},
     "output_type": "display_data"
    }
   ],
   "source": [
    "start_string, end_string = \"non_self_synthesis/bbh/\", \"/bbh_eval\"\n",
    "cat = str(chk_dir)[str(chk_dir).find(start_string) + len(start_string) + 4:str(chk_dir).find(end_string)]\n",
    "new_ds.save_to_disk(os.path.join(save_par_dir, cat))"
   ]
  },
  {
   "cell_type": "code",
   "execution_count": 139,
   "id": "a8ff6956-b339-41b4-becc-2d7f5ee8a57e",
   "metadata": {},
   "outputs": [
    {
     "data": {
      "application/vnd.jupyter.widget-view+json": {
       "model_id": "2a40a4bfccb04c1d87a08df5173ff715",
       "version_major": 2,
       "version_minor": 0
      },
      "text/plain": [
       "Filter:   0%|          | 0/250 [00:00<?, ? examples/s]"
      ]
     },
     "metadata": {},
     "output_type": "display_data"
    },
    {
     "data": {
      "text/plain": [
       "0.968"
      ]
     },
     "execution_count": 139,
     "metadata": {},
     "output_type": "execute_result"
    }
   ],
   "source": [
    "corr = new_ds.filter(lambda x: x[\"target\"].translate(str.maketrans(\"\", \"\", '()\"')) == x[\"answer_pred\"])\n",
    "corr.num_rows / new_ds.num_rows"
   ]
  },
  {
   "cell_type": "markdown",
   "id": "ed6fcc74-c395-43c6-8c09-940bff3b1131",
   "metadata": {
    "jp-MarkdownHeadingCollapsed": true
   },
   "source": [
    "# ruin_names"
   ]
  },
  {
   "cell_type": "code",
   "execution_count": 140,
   "id": "7b52871f-2a9d-4268-89da-6deb12298804",
   "metadata": {},
   "outputs": [],
   "source": [
    "chk_dir = here(os.path.join(par_dir, \"bbh-ruin_names/bbh_eval\"))"
   ]
  },
  {
   "cell_type": "code",
   "execution_count": 141,
   "id": "b72f42b2-e3d4-404d-a45b-21ab4bab322e",
   "metadata": {},
   "outputs": [],
   "source": [
    "dataset = Dataset.load_from_disk(chk_dir)"
   ]
  },
  {
   "cell_type": "code",
   "execution_count": 142,
   "id": "8246fc05-e88f-45b4-981b-b43b96439c26",
   "metadata": {},
   "outputs": [
    {
     "data": {
      "text/plain": [
       "{'(A) the girl with all the grifts.',\n",
       " '(A) toe abyss, as it is the most humorous edit of \\'the abyss\\'.\"',\n",
       " '(B) guns n\\' ropes and (D) guns n\\' hoses.\"',\n",
       " '(C) the why!',\n",
       " 'A and C.',\n",
       " 'A\"',\n",
       " 'A.',\n",
       " 'A.\"',\n",
       " 'B\"',\n",
       " 'B.',\n",
       " 'B.\"',\n",
       " 'C\"',\n",
       " 'C.',\n",
       " 'C.\"',\n",
       " 'C.**',\n",
       " 'D\"',\n",
       " 'D.',\n",
       " 'D. The option \"the shawshark redemption\" is the humorous edit because it plays on the word \"shawshank\" by changing it to \"shawshark,\" which is a humorous and clever wordplay.',\n",
       " 'D.\"',\n",
       " 'I.',\n",
       " None,\n",
       " \"None of the provided options are particularly humorous. A new humorous version could be 'run dmc and chill'.\"}"
      ]
     },
     "execution_count": 142,
     "metadata": {},
     "output_type": "execute_result"
    }
   ],
   "source": [
    "set(dataset[\"answer_pred\"])"
   ]
  },
  {
   "cell_type": "code",
   "execution_count": 149,
   "id": "041d6c47-64f4-4557-90c1-e4643ed58fc1",
   "metadata": {},
   "outputs": [
    {
     "data": {
      "application/vnd.jupyter.widget-view+json": {
       "model_id": "f67260f5c55349a2ac3949ac195c554a",
       "version_major": 2,
       "version_minor": 0
      },
      "text/plain": [
       "Map:   0%|          | 0/250 [00:00<?, ? examples/s]"
      ]
     },
     "metadata": {},
     "output_type": "display_data"
    },
    {
     "data": {
      "text/plain": [
       "{'A',\n",
       " 'A and C',\n",
       " 'A the girl with all the grifts',\n",
       " \"A toe abyss as it is the most humorous edit of 'the abyss'\",\n",
       " 'B',\n",
       " \"B guns n' ropes and D guns n' hoses\",\n",
       " 'C',\n",
       " 'C the why!',\n",
       " 'C**',\n",
       " 'D',\n",
       " 'D The option the shawshark redemption is the humorous edit because it plays on the word shawshank by changing it to shawshark which is a humorous and clever wordplay',\n",
       " 'I',\n",
       " None,\n",
       " \"None of the provided options are particularly humorous A new humorous version could be 'run dmc and chill'\"}"
      ]
     },
     "execution_count": 149,
     "metadata": {},
     "output_type": "execute_result"
    }
   ],
   "source": [
    "def map_fn(instance):    \n",
    "    return {\n",
    "        \"answer_pred\": instance[\"answer_pred\"].translate(str.maketrans(\"\", \"\", '.,()\"')) if instance[\"answer_pred\"] else None\n",
    "    }\n",
    "\n",
    "new_ds = dataset.map(map_fn, load_from_cache_file=False)\n",
    "set(new_ds[\"answer_pred\"])"
   ]
  },
  {
   "cell_type": "code",
   "execution_count": 150,
   "id": "bc251a36-2b61-4b6c-9c19-89c9acf2e03c",
   "metadata": {},
   "outputs": [
    {
     "data": {
      "text/plain": [
       "{'A',\n",
       " 'A and C',\n",
       " 'B',\n",
       " \"B guns n' ropes and D guns n' hoses\",\n",
       " 'C',\n",
       " 'D',\n",
       " 'I',\n",
       " None,\n",
       " \"None of the provided options are particularly humorous A new humorous version could be 'run dmc and chill'\"}"
      ]
     },
     "execution_count": 150,
     "metadata": {},
     "output_type": "execute_result"
    }
   ],
   "source": [
    "def map_fn(ins):\n",
    "    corr_A = [\"A the girl with all the grifts\", \"toe abyss as it is the most humorous\"]\n",
    "    corr_C = [\"the why!\", \"C**\"]\n",
    "    corr_D = [\"D The option the shawshark\"]\n",
    "    \n",
    "\n",
    "    if ins[\"answer_pred\"]:\n",
    "        for a in corr_A:\n",
    "            if a in ins[\"answer_pred\"]:\n",
    "                return {\n",
    "                    \"answer_pred\": \"A\"\n",
    "                }\n",
    "        for c in corr_C:\n",
    "            if c in ins[\"answer_pred\"]:\n",
    "                return {\n",
    "                    \"answer_pred\": \"C\"\n",
    "                }\n",
    "        for d in corr_D:\n",
    "            if d in ins[\"answer_pred\"]:\n",
    "                return {\n",
    "                    \"answer_pred\": \"D\"\n",
    "                }\n",
    "    return {\n",
    "        \"answer_pred\": ins[\"answer_pred\"]\n",
    "    }\n",
    "\n",
    "new_ds = new_ds.map(map_fn)\n",
    "set(new_ds[\"answer_pred\"])"
   ]
  },
  {
   "cell_type": "code",
   "execution_count": 151,
   "id": "73dc04f4-c373-4068-8ce4-0841c0134c5d",
   "metadata": {},
   "outputs": [
    {
     "name": "stdout",
     "output_type": "stream",
     "text": [
      "```json\n",
      "{\n",
      "    \"Step 1 - Identify the Core Name\": {\n",
      "        \"Task\": \"Identify the core name or phrase that needs to be edited to create a humorous effect.\",\n",
      "        \"Output\": \"Core name identified: 'little shop of horrors'.\"\n",
      "    },\n",
      "    \"Step 2 - Break Down the Name\": {\n",
      "        \"Task\": \"Break down the name 'little shop of horrors' into smaller parts to understand potential areas for humorous edits.\",\n",
      "        \"Output\": \"Name broken down into parts: 'little', 'shop', 'of', 'horrors'.\"\n",
      "    },\n",
      "    \"Step 3 - Brainstorm Humorous Edits\": {\n",
      "        \"Task\": \"Make a list of humorous edits for the name 'little shop of horrors' by changing letters or adding elements.\",\n",
      "        \"Output\": \"List of humorous edits generated: 'little shoy of horrors', 'little hop of horrors', 'little wshop of horrors', 'ulittle shop of horrors'.\"\n",
      "    },\n",
      "    \"Step 4 - Creative Name Generation\": {\n",
      "        \"Task\": \"Use creative thinking to generate innovative and humorous edits of 'little shop of horrors'. Consider unconventional letter changes or additions to create amusing options.\",\n",
      "        \"Output\": \"Creative humorous edits generated: 'little shoy of horrors', 'little hop of horrors', 'little wshop of horrors', 'ulittle shop of horrors'.\"\n",
      "    },\n",
      "    \"Step 5 - Analytical Name Editing\": {\n",
      "        \"Task\": \"Determine if the task of creating a humorous edit is analytical, requiring a systematic approach to letter changes or additions.\",\n",
      "        \"Output\": \"Analytical approach determined: Yes, systematic letter changes or additions can create humor.\"\n",
      "    },\n",
      "    \"Step 6 - Potential Humor Challenges\": {\n",
      "        \"Task\": \"Identify the potential challenges in creating a humorous edit that matches the given options.\",\n",
      "        \"Output\": \"Potential humor challenges identified: Ensuring the edit is funny and not just a random change.\"\n",
      "    },\n",
      "    \"Step 7 - Stakeholder Perspective\": {\n",
      "        \"Task\": \"Consider the perspectives of those who might find humor in different types of name edits. What would make each option funny to them?\",\n",
      "        \"Output\": \"Stakeholder perspectives considered: Humor can come from unexpected letter changes or puns.\"\n",
      "    },\n",
      "    \"Step 8 - Evaluate Given Options\": {\n",
      "        \"Task\": \"Evaluate each of the given options (A, B, C, D) to see if they match the criteria for a humorous edit.\",\n",
      "        \"Output\": \"Options evaluated: (A) 'little shoy of horrors' - slight change, not very humorous; (B) 'little hop of horrors' - slight change, not very humorous; (C) 'little wshop of horrors' - slight change, not very humorous; (D) 'ulittle shop of horrors' - slight change, not very humorous.\"\n",
      "    },\n",
      "    \"Step 9 - New Humorous Edit\": {\n",
      "        \"Task\": \"Ignoring the current options, create an entirely new humorous edit of 'little shop of horrors'.\",\n",
      "        \"Output\": \"New humorous edit created: 'little shop of whorror' (combining 'whore' and 'horror' for a humorous effect).\"\n",
      "    },\n",
      "    \"Step 10 - Final Decision\": {\n",
      "        \"Task\": \"Based on the evaluation, determine which of the given options is the most humorous edit of 'little shop of horrors'.\",\n",
      "        \"Output\": \"Final decision made: None of the given options are particularly humorous. A new edit 'little shop of whorror' is more humorous.\"\n",
      "    }\n",
      "}\n",
      "```\n",
      "\n",
      "The final answer is: None of the given options are particularly humorous. A new edit 'little shop of whorror' is more humorous.\n"
     ]
    }
   ],
   "source": [
    "none_ds = new_ds.filter(lambda x: x[\"answer_pred\"] == None)\n",
    "print(none_ds[0][\"trajectory\"])"
   ]
  },
  {
   "cell_type": "code",
   "execution_count": 152,
   "id": "19c52be1-388f-4001-8f25-c04216f8a5c9",
   "metadata": {},
   "outputs": [
    {
     "data": {
      "application/vnd.jupyter.widget-view+json": {
       "model_id": "c2eb775331364161abc4c5cc0a215f3b",
       "version_major": 2,
       "version_minor": 0
      },
      "text/plain": [
       "Map:   0%|          | 0/250 [00:00<?, ? examples/s]"
      ]
     },
     "metadata": {},
     "output_type": "display_data"
    },
    {
     "data": {
      "text/plain": [
       "{'A',\n",
       " 'A and C',\n",
       " 'B',\n",
       " \"B guns n' ropes and D guns n' hoses\",\n",
       " 'C',\n",
       " 'D',\n",
       " 'I',\n",
       " \"None of the given options are particularly humorous. A new edit 'little shop of whorror' is more humorous.\",\n",
       " \"None of the provided options are particularly humorous A new humorous version could be 'run dmc and chill'\"}"
      ]
     },
     "execution_count": 152,
     "metadata": {},
     "output_type": "execute_result"
    }
   ],
   "source": [
    "import re\n",
    "def map_fn(instance):\n",
    "    if instance[\"answer_pred\"] == None:\n",
    "        text = \"The final answer is:\"\n",
    "        pattern = fr\"(?<={text}).*\"\n",
    "    \n",
    "        response = instance[\"trajectory\"]\n",
    "    \n",
    "        try:\n",
    "            answer, trajectory = re.search(pattern, response).group(0).strip(), re.sub(pattern, \"\", response).replace(text, \"\").strip()\n",
    "        except:\n",
    "            answer, trajectory = None, response\n",
    "    \n",
    "        return {\n",
    "            \"trajectory\": trajectory,\n",
    "            \"answer_pred\": answer\n",
    "        }\n",
    "\n",
    "    return {\n",
    "        \"trajectory\": instance[\"trajectory\"],\n",
    "        \"answer_pred\": instance[\"answer_pred\"]\n",
    "    }\n",
    "\n",
    "new_ds = new_ds.map(map_fn)\n",
    "set(new_ds[\"answer_pred\"])"
   ]
  },
  {
   "cell_type": "code",
   "execution_count": 153,
   "id": "99dd79a6-22cb-4fe2-bb18-c7a68bb35898",
   "metadata": {},
   "outputs": [
    {
     "data": {
      "application/vnd.jupyter.widget-view+json": {
       "model_id": "4bdb9b17621d477386255eac64984ee4",
       "version_major": 2,
       "version_minor": 0
      },
      "text/plain": [
       "Saving the dataset (0/1 shards):   0%|          | 0/250 [00:00<?, ? examples/s]"
      ]
     },
     "metadata": {},
     "output_type": "display_data"
    }
   ],
   "source": [
    "start_string, end_string = \"non_self_synthesis/bbh/\", \"/bbh_eval\"\n",
    "cat = str(chk_dir)[str(chk_dir).find(start_string) + len(start_string) + 4:str(chk_dir).find(end_string)]\n",
    "new_ds.save_to_disk(os.path.join(save_par_dir, cat))"
   ]
  },
  {
   "cell_type": "code",
   "execution_count": 154,
   "id": "fd27c209-a594-4843-b808-2260c0c4a13a",
   "metadata": {},
   "outputs": [
    {
     "data": {
      "application/vnd.jupyter.widget-view+json": {
       "model_id": "b2a8ed88746b4097843fb3aca0f25596",
       "version_major": 2,
       "version_minor": 0
      },
      "text/plain": [
       "Filter:   0%|          | 0/250 [00:00<?, ? examples/s]"
      ]
     },
     "metadata": {},
     "output_type": "display_data"
    },
    {
     "data": {
      "text/plain": [
       "0.76"
      ]
     },
     "execution_count": 154,
     "metadata": {},
     "output_type": "execute_result"
    }
   ],
   "source": [
    "corr = new_ds.filter(lambda x: x[\"target\"].translate(str.maketrans(\"\", \"\", '()\"')) == x[\"answer_pred\"])\n",
    "corr.num_rows / new_ds.num_rows"
   ]
  },
  {
   "cell_type": "markdown",
   "id": "f92b0fbd-276d-4f2d-a882-eb30f1142b0b",
   "metadata": {
    "jp-MarkdownHeadingCollapsed": true
   },
   "source": [
    "# salient_translation_error_detection"
   ]
  },
  {
   "cell_type": "code",
   "execution_count": 155,
   "id": "06cb1a67-554a-4685-a866-c2e0c126887a",
   "metadata": {},
   "outputs": [],
   "source": [
    "chk_dir = here(os.path.join(par_dir, \"bbh-salient_translation_error_detection/bbh_eval\"))"
   ]
  },
  {
   "cell_type": "code",
   "execution_count": 156,
   "id": "9e7bbce3-9d87-4002-9c7c-7aecf05d4911",
   "metadata": {},
   "outputs": [],
   "source": [
    "dataset = Dataset.load_from_disk(chk_dir)"
   ]
  },
  {
   "cell_type": "code",
   "execution_count": 157,
   "id": "ee1fc40e-bb0d-4b64-ae70-2b38836f9dba",
   "metadata": {},
   "outputs": [
    {
     "data": {
      "text/plain": [
       "{'(A) Modifiers or Adjectives.',\n",
       " 'A.',\n",
       " 'B\"',\n",
       " 'B.',\n",
       " 'B.\"',\n",
       " 'C\"',\n",
       " 'C.',\n",
       " 'D\"',\n",
       " 'D.',\n",
       " 'D.\"',\n",
       " 'E\"',\n",
       " 'E.',\n",
       " 'F\"',\n",
       " 'F.',\n",
       " 'F.\"'}"
      ]
     },
     "execution_count": 157,
     "metadata": {},
     "output_type": "execute_result"
    }
   ],
   "source": [
    "set(dataset[\"answer_pred\"])"
   ]
  },
  {
   "cell_type": "code",
   "execution_count": 166,
   "id": "4d27472c-77b5-4af4-b635-e8069aed21e6",
   "metadata": {},
   "outputs": [
    {
     "data": {
      "application/vnd.jupyter.widget-view+json": {
       "model_id": "3d7a6f9812fc4a75ac2f0c978bef3c71",
       "version_major": 2,
       "version_minor": 0
      },
      "text/plain": [
       "Map:   0%|          | 0/250 [00:00<?, ? examples/s]"
      ]
     },
     "metadata": {},
     "output_type": "display_data"
    },
    {
     "data": {
      "text/plain": [
       "{'A', 'A Modifiers or Adjectives', 'B', 'C', 'D', 'E', 'F'}"
      ]
     },
     "execution_count": 166,
     "metadata": {},
     "output_type": "execute_result"
    }
   ],
   "source": [
    "def map_fn(instance):    \n",
    "    return {\n",
    "        \"answer_pred\": instance[\"answer_pred\"].translate(str.maketrans(\"\", \"\", '.,()\"')) if instance[\"answer_pred\"] else None\n",
    "    }\n",
    "\n",
    "new_ds = dataset.map(map_fn, load_from_cache_file=False)\n",
    "set(new_ds[\"answer_pred\"])"
   ]
  },
  {
   "cell_type": "code",
   "execution_count": 167,
   "id": "bf83d97e-2542-437e-9284-453ebc524f5f",
   "metadata": {},
   "outputs": [
    {
     "data": {
      "application/vnd.jupyter.widget-view+json": {
       "model_id": "677177b99bc4473fa025543125ec8bc2",
       "version_major": 2,
       "version_minor": 0
      },
      "text/plain": [
       "Map:   0%|          | 0/250 [00:00<?, ? examples/s]"
      ]
     },
     "metadata": {},
     "output_type": "display_data"
    },
    {
     "data": {
      "text/plain": [
       "{'A', 'B', 'C', 'D', 'E', 'F'}"
      ]
     },
     "execution_count": 167,
     "metadata": {},
     "output_type": "execute_result"
    }
   ],
   "source": [
    "def map_fn(ins):\n",
    "    if \"A Modifiers or Adjectives\" == ins[\"answer_pred\"]:\n",
    "        return {\n",
    "            \"answer_pred\": \"A\"\n",
    "        }\n",
    "\n",
    "    return {\"answer_pred\": ins[\"answer_pred\"]}\n",
    "\n",
    "new_ds = new_ds.map(map_fn)\n",
    "set(new_ds[\"answer_pred\"])"
   ]
  },
  {
   "cell_type": "code",
   "execution_count": 168,
   "id": "a2419533-e4d8-45d8-a45f-0dd5a808a1cb",
   "metadata": {},
   "outputs": [
    {
     "data": {
      "application/vnd.jupyter.widget-view+json": {
       "model_id": "b00df7ba5f3a4780a65afba70c84acde",
       "version_major": 2,
       "version_minor": 0
      },
      "text/plain": [
       "Saving the dataset (0/1 shards):   0%|          | 0/250 [00:00<?, ? examples/s]"
      ]
     },
     "metadata": {},
     "output_type": "display_data"
    }
   ],
   "source": [
    "start_string, end_string = \"non_self_synthesis/bbh/\", \"/bbh_eval\"\n",
    "cat = str(chk_dir)[str(chk_dir).find(start_string) + len(start_string) + 4:str(chk_dir).find(end_string)]\n",
    "new_ds.save_to_disk(os.path.join(save_par_dir, cat))"
   ]
  },
  {
   "cell_type": "code",
   "execution_count": 169,
   "id": "4179c10d-55de-4de7-8eea-612bafe56c7f",
   "metadata": {},
   "outputs": [
    {
     "data": {
      "application/vnd.jupyter.widget-view+json": {
       "model_id": "9afa8dab09544c6693951057e69ba99a",
       "version_major": 2,
       "version_minor": 0
      },
      "text/plain": [
       "Filter:   0%|          | 0/250 [00:00<?, ? examples/s]"
      ]
     },
     "metadata": {},
     "output_type": "display_data"
    },
    {
     "data": {
      "text/plain": [
       "0.656"
      ]
     },
     "execution_count": 169,
     "metadata": {},
     "output_type": "execute_result"
    }
   ],
   "source": [
    "corr = new_ds.filter(lambda x: x[\"target\"].translate(str.maketrans(\"\", \"\", '()\"')) == x[\"answer_pred\"])\n",
    "corr.num_rows / new_ds.num_rows"
   ]
  },
  {
   "cell_type": "markdown",
   "id": "00e7b8bc-37b7-4972-847f-347f35e9f190",
   "metadata": {
    "jp-MarkdownHeadingCollapsed": true
   },
   "source": [
    "# snarks"
   ]
  },
  {
   "cell_type": "code",
   "execution_count": 170,
   "id": "7e79285b-b88d-4f08-990c-dbf61c3164e0",
   "metadata": {},
   "outputs": [],
   "source": [
    "chk_dir = here(os.path.join(par_dir, \"bbh-snarks/bbh_eval\"))"
   ]
  },
  {
   "cell_type": "code",
   "execution_count": 171,
   "id": "de7ee14d-2fc2-4519-8d52-8df6bffc24e0",
   "metadata": {},
   "outputs": [],
   "source": [
    "dataset = Dataset.load_from_disk(chk_dir)"
   ]
  },
  {
   "cell_type": "code",
   "execution_count": 172,
   "id": "a6c58192-0d74-46a3-86ce-2b6c48b722a9",
   "metadata": {},
   "outputs": [
    {
     "data": {
      "text/plain": [
       "{'A\"',\n",
       " 'A.',\n",
       " 'A.\"',\n",
       " 'A.\",',\n",
       " 'B\"',\n",
       " 'B.',\n",
       " 'B. Statement B is sarcastic due to its use of exaggeration, irony, and humorous tone, as well as its reference to \\'trolls\\' as an \\'endangered species,\\' which is incongruous and intended to ridicule.\"',\n",
       " 'B.\"',\n",
       " 'Both statements are sarcastic.',\n",
       " 'Neither statement is sarcastic.',\n",
       " 'both statements (A) and (B) are sarcastic.**',\n",
       " 'that the statement \"(A) The NB\" cannot be determined as sarcastic due to insufficient context.'}"
      ]
     },
     "execution_count": 172,
     "metadata": {},
     "output_type": "execute_result"
    }
   ],
   "source": [
    "set(dataset[\"answer_pred\"])"
   ]
  },
  {
   "cell_type": "code",
   "execution_count": 173,
   "id": "2cbe36ea-9aab-4edd-ae6a-6da8ff8e2e85",
   "metadata": {},
   "outputs": [
    {
     "data": {
      "application/vnd.jupyter.widget-view+json": {
       "model_id": "a997ebbe5fdc450ba3d6815f2cad688f",
       "version_major": 2,
       "version_minor": 0
      },
      "text/plain": [
       "Map:   0%|          | 0/178 [00:00<?, ? examples/s]"
      ]
     },
     "metadata": {},
     "output_type": "display_data"
    },
    {
     "data": {
      "text/plain": [
       "{'A',\n",
       " 'B',\n",
       " \"B Statement B is sarcastic due to its use of exaggeration irony and humorous tone as well as its reference to 'trolls' as an 'endangered species' which is incongruous and intended to ridicule\",\n",
       " 'Both statements are sarcastic',\n",
       " 'Neither statement is sarcastic',\n",
       " 'both statements A and B are sarcastic**',\n",
       " 'that the statement A The NB cannot be determined as sarcastic due to insufficient context'}"
      ]
     },
     "execution_count": 173,
     "metadata": {},
     "output_type": "execute_result"
    }
   ],
   "source": [
    "def map_fn(instance):    \n",
    "    return {\n",
    "        \"answer_pred\": instance[\"answer_pred\"].translate(str.maketrans(\"\", \"\", '.,()\"')) if instance[\"answer_pred\"] else None\n",
    "    }\n",
    "\n",
    "new_ds = dataset.map(map_fn, load_from_cache_file=False)\n",
    "set(new_ds[\"answer_pred\"])"
   ]
  },
  {
   "cell_type": "code",
   "execution_count": 174,
   "id": "512b3b51-6754-418f-985a-d3b3d16532d3",
   "metadata": {},
   "outputs": [
    {
     "data": {
      "application/vnd.jupyter.widget-view+json": {
       "model_id": "b558a1a9836f4979b04f3c582cbe911e",
       "version_major": 2,
       "version_minor": 0
      },
      "text/plain": [
       "Map:   0%|          | 0/178 [00:00<?, ? examples/s]"
      ]
     },
     "metadata": {},
     "output_type": "display_data"
    },
    {
     "data": {
      "text/plain": [
       "{'A',\n",
       " 'B',\n",
       " 'Both statements are sarcastic',\n",
       " 'Neither statement is sarcastic',\n",
       " 'both statements A and B are sarcastic**',\n",
       " 'that the statement A The NB cannot be determined as sarcastic due to insufficient context'}"
      ]
     },
     "execution_count": 174,
     "metadata": {},
     "output_type": "execute_result"
    }
   ],
   "source": [
    "def map_fn(ins):\n",
    "    if \"B Statement B is sarcastic\" in ins[\"answer_pred\"]:\n",
    "        return {\n",
    "            \"answer_pred\": \"B\"\n",
    "        }\n",
    "\n",
    "    return {\n",
    "        \"answer_pred\": ins[\"answer_pred\"]\n",
    "    }\n",
    "\n",
    "new_ds = new_ds.map(map_fn)\n",
    "set(new_ds[\"answer_pred\"])"
   ]
  },
  {
   "cell_type": "code",
   "execution_count": 175,
   "id": "51556398-9585-411d-b926-08d25946ca92",
   "metadata": {},
   "outputs": [
    {
     "data": {
      "application/vnd.jupyter.widget-view+json": {
       "model_id": "7dde40a3d01c4b1fb96f5e07e3987344",
       "version_major": 2,
       "version_minor": 0
      },
      "text/plain": [
       "Saving the dataset (0/1 shards):   0%|          | 0/178 [00:00<?, ? examples/s]"
      ]
     },
     "metadata": {},
     "output_type": "display_data"
    }
   ],
   "source": [
    "start_string, end_string = \"non_self_synthesis/bbh/\", \"/bbh_eval\"\n",
    "cat = str(chk_dir)[str(chk_dir).find(start_string) + len(start_string) + 4:str(chk_dir).find(end_string)]\n",
    "new_ds.save_to_disk(os.path.join(save_par_dir, cat))"
   ]
  },
  {
   "cell_type": "code",
   "execution_count": 176,
   "id": "04356af0-adc6-4ba8-8540-21ea6915fc59",
   "metadata": {},
   "outputs": [
    {
     "data": {
      "application/vnd.jupyter.widget-view+json": {
       "model_id": "b3287c0df1ab4d1d97df06532d442e64",
       "version_major": 2,
       "version_minor": 0
      },
      "text/plain": [
       "Filter:   0%|          | 0/178 [00:00<?, ? examples/s]"
      ]
     },
     "metadata": {},
     "output_type": "display_data"
    },
    {
     "data": {
      "text/plain": [
       "0.8595505617977528"
      ]
     },
     "execution_count": 176,
     "metadata": {},
     "output_type": "execute_result"
    }
   ],
   "source": [
    "corr = new_ds.filter(lambda x: x[\"target\"].translate(str.maketrans(\"\", \"\", '()\"')) == x[\"answer_pred\"])\n",
    "corr.num_rows / new_ds.num_rows"
   ]
  },
  {
   "cell_type": "markdown",
   "id": "51614624-d1a7-43db-9c5e-a19c642352f1",
   "metadata": {
    "jp-MarkdownHeadingCollapsed": true
   },
   "source": [
    "# sports_understanding"
   ]
  },
  {
   "cell_type": "code",
   "execution_count": 177,
   "id": "1f313ffb-c077-44da-a40f-ca27cb34e601",
   "metadata": {},
   "outputs": [],
   "source": [
    "chk_dir = here(os.path.join(par_dir, \"bbh-sports_understanding/bbh_eval\"))"
   ]
  },
  {
   "cell_type": "code",
   "execution_count": 178,
   "id": "28e42721-9008-4899-b361-64cc358c31bc",
   "metadata": {},
   "outputs": [],
   "source": [
    "dataset = Dataset.load_from_disk(chk_dir)"
   ]
  },
  {
   "cell_type": "code",
   "execution_count": 179,
   "id": "45a4e18d-fed5-4fa1-b1ec-1a43f18d4ebb",
   "metadata": {},
   "outputs": [
    {
     "data": {
      "text/plain": [
       "{'\"The sentence is not plausible.\"',\n",
       " '\"The sentence is plausible if interpreted as Nerlens Noel being outside his house but within his home\\'s premises.\"',\n",
       " '\"The sentence is plausible.\"',\n",
       " 'False\"',\n",
       " 'False.',\n",
       " 'False.\"',\n",
       " 'No.',\n",
       " None,\n",
       " 'Plausible.',\n",
       " 'True.',\n",
       " 'True.\"',\n",
       " 'Yes.',\n",
       " '[answer].\"',\n",
       " 'not plausible.\"',\n",
       " 'that the sentence \"Marouane Fellaini scored in extra time\" is plausible based on the structured analysis and available data.',\n",
       " 'that the sentence is plausible with a correction: \\'Michael Conforto committed a three second violation.\\'\"'}"
      ]
     },
     "execution_count": 179,
     "metadata": {},
     "output_type": "execute_result"
    }
   ],
   "source": [
    "set(dataset[\"answer_pred\"])"
   ]
  },
  {
   "cell_type": "code",
   "execution_count": 180,
   "id": "826c199b-a24d-44ad-98d5-bf17791dc5a0",
   "metadata": {},
   "outputs": [
    {
     "data": {
      "application/vnd.jupyter.widget-view+json": {
       "model_id": "0c5ef4122690467f9a4329c4eb3e4bb1",
       "version_major": 2,
       "version_minor": 0
      },
      "text/plain": [
       "Map:   0%|          | 0/250 [00:00<?, ? examples/s]"
      ]
     },
     "metadata": {},
     "output_type": "display_data"
    }
   ],
   "source": [
    "def map_fn(instance):    \n",
    "    return {\n",
    "        \"answer_pred\": instance[\"answer_pred\"].translate(str.maketrans(\"\", \"\", '.,()\"')) if instance[\"answer_pred\"] else None\n",
    "    }\n",
    "\n",
    "new_ds = dataset.map(map_fn, load_from_cache_file=False)"
   ]
  },
  {
   "cell_type": "code",
   "execution_count": 181,
   "id": "ab35bf9f-2679-4a63-a2f7-22aed24db11c",
   "metadata": {},
   "outputs": [
    {
     "data": {
      "text/plain": [
       "{'False',\n",
       " 'No',\n",
       " None,\n",
       " 'Plausible',\n",
       " 'The sentence is not plausible',\n",
       " 'The sentence is plausible',\n",
       " \"The sentence is plausible if interpreted as Nerlens Noel being outside his house but within his home's premises\",\n",
       " 'True',\n",
       " 'Yes',\n",
       " '[answer]',\n",
       " 'not plausible',\n",
       " 'that the sentence Marouane Fellaini scored in extra time is plausible based on the structured analysis and available data',\n",
       " \"that the sentence is plausible with a correction: 'Michael Conforto committed a three second violation'\"}"
      ]
     },
     "execution_count": 181,
     "metadata": {},
     "output_type": "execute_result"
    }
   ],
   "source": [
    "set(new_ds[\"answer_pred\"])"
   ]
  },
  {
   "cell_type": "code",
   "execution_count": 182,
   "id": "22a4f79a-d5c2-4e93-9a88-93e18d4be135",
   "metadata": {},
   "outputs": [
    {
     "data": {
      "application/vnd.jupyter.widget-view+json": {
       "model_id": "3c90476d1a424785afc8ec602722ca72",
       "version_major": 2,
       "version_minor": 0
      },
      "text/plain": [
       "Filter:   0%|          | 0/250 [00:00<?, ? examples/s]"
      ]
     },
     "metadata": {},
     "output_type": "display_data"
    },
    {
     "data": {
      "text/plain": [
       "Dataset({\n",
       "    features: ['input', 'target', 'reasoning_formats', 'selected_modules', 'adapted_modules', 'reasoning_structure', 'reasoning', 'trajectory', 'answer_pred'],\n",
       "    num_rows: 163\n",
       "})"
      ]
     },
     "execution_count": 182,
     "metadata": {},
     "output_type": "execute_result"
    }
   ],
   "source": [
    "none_ds = new_ds.filter(lambda x: x[\"answer_pred\"] == None)\n",
    "none_ds"
   ]
  },
  {
   "cell_type": "code",
   "execution_count": 183,
   "id": "2a11938d-0331-4be4-bcac-1213c80c1c6d",
   "metadata": {},
   "outputs": [
    {
     "name": "stdout",
     "output_type": "stream",
     "text": [
      "```json\n",
      "{\n",
      "    \"Step 1: Identify Key Assumptions\": {\n",
      "        \"Description\": \"What are the key assumptions underlying the plausibility of the sentence?\",\n",
      "        \"Action\": \"List the assumptions that need to be true for the sentence to be plausible.\",\n",
      "        \"Value\": [\n",
      "            \"Travis Konecny is a known figure in a context where 'doing a maradona' is relevant.\",\n",
      "            \"The term 'maradona' refers to a specific action or move that can be performed on a defender.\",\n",
      "            \"The context is likely related to sports, specifically soccer or hockey.\"\n",
      "        ]\n",
      "    },\n",
      "    \"Step 2: Explore Alternative Interpretations\": {\n",
      "        \"Description\": \"What are the alternative interpretations or contexts for the sentence?\",\n",
      "        \"Action\": \"Identify different ways the sentence could be interpreted based on context.\",\n",
      "        \"Value\": [\n",
      "            \"The sentence could be interpreted in the context of soccer, where 'maradona' might refer to a specific dribbling move.\",\n",
      "            \"The sentence could be interpreted in the context of hockey, where 'maradona' might refer to a deceptive move to evade a defender.\"\n",
      "        ]\n",
      "    },\n",
      "    \"Step 3: Critical Thinking Analysis\": {\n",
      "        \"Description\": \"Analyze the sentence from different linguistic and contextual perspectives, question assumptions about its meaning, and evaluate the available information. Focus on logical reasoning and identifying potential ambiguities or misunderstandings.\",\n",
      "        \"Action\": \"Perform a critical analysis of the sentence considering linguistic and contextual factors.\",\n",
      "        \"Value\": \"The term 'maradona' is likely a reference to Diego Maradona, a famous soccer player known for his dribbling skills. However, Travis Konecny is a hockey player, so the context might be a hockey move named after Maradona's famous soccer move.\"\n",
      "    },\n",
      "    \"Step 4: Identify Core Issue\": {\n",
      "        \"Description\": \"What is the core issue or question that needs to be addressed to determine the plausibility of the sentence?\",\n",
      "        \"Action\": \"Determine the main question or issue that needs to be resolved.\",\n",
      "        \"Value\": \"Is 'doing a maradona' a recognized term in hockey, and is it plausible for Travis Konecny to perform such a move?\"\n",
      "    },\n",
      "    \"Step 5: Gather Relevant Data\": {\n",
      "        \"Description\": \"Are there any relevant data or information, such as definitions, cultural references, or sports terminology, that can provide insights into the plausibility of the sentence? If yes, what sources are available, and how can they be analyzed?\",\n",
      "        \"Action\": \"Identify and gather relevant data and information sources.\",\n",
      "        \"Value\": \"Research shows that 'doing a maradona' is not a commonly recognized term in hockey, but it could be a colloquial reference to a deceptive move inspired by Maradona's soccer skills.\"\n",
      "    },\n",
      "    \"Step 6: Evaluate Human Behavior Context\": {\n",
      "        \"Description\": \"Is the plausibility of the sentence related to human behavior, such as a specific action or gesture in sports?\",\n",
      "        \"Action\": \"Assess if the sentence involves specific human behaviors or actions.\",\n",
      "        \"Value\": \"Yes, the sentence involves a specific action or move performed by Travis Konecny on a defender.\"\n",
      "    },\n",
      "    \"Step 7: Determine Analytical Approach\": {\n",
      "        \"Description\": \"Is the problem an analytical one that requires linguistic analysis, semantic modeling, or contextual evaluation techniques?\",\n",
      "        \"Action\": \"Decide on the appropriate analytical techniques to apply.\",\n",
      "        \"Value\": \"The problem requires contextual evaluation and linguistic analysis to understand the term 'maradona' in the context of hockey.\"\n",
      "    },\n",
      "    \"Step 8: Synthesize Findings\": {\n",
      "        \"Description\": \"Combine the insights from the previous steps to form a coherent understanding of the sentence's plausibility.\",\n",
      "        \"Action\": \"Integrate the information gathered and analyzed to form a conclusion.\",\n",
      "        \"Value\": \"While 'doing a maradona' is not a standard term in hockey, it is plausible that it refers to a deceptive move inspired by Maradona's soccer skills, and Travis Konecny could have performed such a move.\"\n",
      "    },\n",
      "    \"Step 9: Conclude Plausibility\": {\n",
      "        \"Description\": \"Based on the synthesized findings, determine the plausibility of the sentence.\",\n",
      "        \"Action\": \"Make a final determination on the plausibility of the sentence.\",\n",
      "        \"Value\": \"The sentence is plausible, as it could refer to a deceptive move performed by Travis Konecny on a defender, inspired by Maradona's soccer skills.\"\n",
      "    }\n",
      "}\n",
      "```\n",
      "\n",
      "The final answer is: The sentence is plausible.\n"
     ]
    }
   ],
   "source": [
    "index = 0\n",
    "print(none_ds[0][\"trajectory\"])"
   ]
  },
  {
   "cell_type": "code",
   "execution_count": 184,
   "id": "0298976d-ec6f-4c4b-93d1-64a0f8c9167c",
   "metadata": {},
   "outputs": [
    {
     "data": {
      "application/vnd.jupyter.widget-view+json": {
       "model_id": "ca77ef77a5e64556b252323bfd90554d",
       "version_major": 2,
       "version_minor": 0
      },
      "text/plain": [
       "Map:   0%|          | 0/250 [00:00<?, ? examples/s]"
      ]
     },
     "metadata": {},
     "output_type": "display_data"
    }
   ],
   "source": [
    "import re\n",
    "def map_fn(instance):\n",
    "    if instance[\"answer_pred\"] == None:\n",
    "        text = \"The final answer is:\"\n",
    "        pattern = fr\"(?<={text}).*\"\n",
    "    \n",
    "        response = instance[\"trajectory\"]\n",
    "    \n",
    "        try:\n",
    "            answer, trajectory = re.search(pattern, response).group(0).strip(), re.sub(pattern, \"\", response).replace(text, \"\").strip()\n",
    "        except:\n",
    "            answer, trajectory = None, response\n",
    "    \n",
    "        return {\n",
    "            \"trajectory\": trajectory,\n",
    "            \"answer_pred\": answer\n",
    "        }\n",
    "\n",
    "    return {\n",
    "        \"trajectory\": instance[\"trajectory\"],\n",
    "        \"answer_pred\": instance[\"answer_pred\"]\n",
    "    }\n",
    "\n",
    "new_ds = new_ds.map(map_fn)"
   ]
  },
  {
   "cell_type": "code",
   "execution_count": 185,
   "id": "76e459d0-914c-4a26-8145-2ada6c4147b4",
   "metadata": {},
   "outputs": [
    {
     "data": {
      "application/vnd.jupyter.widget-view+json": {
       "model_id": "f7be932f7834426589a59e0cf9ed2547",
       "version_major": 2,
       "version_minor": 0
      },
      "text/plain": [
       "Filter:   0%|          | 0/250 [00:00<?, ? examples/s]"
      ]
     },
     "metadata": {},
     "output_type": "display_data"
    },
    {
     "data": {
      "text/plain": [
       "Dataset({\n",
       "    features: ['input', 'target', 'reasoning_formats', 'selected_modules', 'adapted_modules', 'reasoning_structure', 'reasoning', 'trajectory', 'answer_pred'],\n",
       "    num_rows: 0\n",
       "})"
      ]
     },
     "execution_count": 185,
     "metadata": {},
     "output_type": "execute_result"
    }
   ],
   "source": [
    "new_ds.filter(lambda x: x[\"answer_pred\"] == None)"
   ]
  },
  {
   "cell_type": "code",
   "execution_count": 186,
   "id": "9e104726-530e-4dd3-9515-b317ba5147bf",
   "metadata": {},
   "outputs": [
    {
     "data": {
      "application/vnd.jupyter.widget-view+json": {
       "model_id": "c49f5ef05843492cbbe1cb0ce97add85",
       "version_major": 2,
       "version_minor": 0
      },
      "text/plain": [
       "Map:   0%|          | 0/250 [00:00<?, ? examples/s]"
      ]
     },
     "metadata": {},
     "output_type": "display_data"
    }
   ],
   "source": [
    "def map_fn(instance):    \n",
    "    return {\n",
    "        \"answer_pred\": instance[\"answer_pred\"].translate(str.maketrans(\"\", \"\", '.,()\"')) if instance[\"answer_pred\"] else None\n",
    "    }\n",
    "\n",
    "new_ds = new_ds.map(map_fn, load_from_cache_file=False)"
   ]
  },
  {
   "cell_type": "code",
   "execution_count": 187,
   "id": "5cd997da-3f95-4a81-b1e9-196cb3dfd783",
   "metadata": {},
   "outputs": [
    {
     "data": {
      "text/plain": [
       "{'False',\n",
       " 'No',\n",
       " 'Plausible',\n",
       " 'The plausibility of the sentence James Karinchak crossed the blue line remains uncertain without specific context or evidence',\n",
       " 'The plausibility of the sentence is uncertain without concrete data',\n",
       " 'The plausibility of the statement Malcolm Brogdon drove into the restricted area in the Eastern Conference Finals can be determined by following the outlined steps to verify the relevant data and context',\n",
       " \"The sentence 'Patrice Bergeron took a backhand shot' is plausible\",\n",
       " 'The sentence Allen Robinson gained five yards is plausible',\n",
       " 'The sentence Andres Iniesta performed a give and go is plausible',\n",
       " 'The sentence Angel Di Maria scored in extra time is plausible if verified by match records',\n",
       " 'The sentence Anthony Davis beat the buzzer is plausible',\n",
       " \"The sentence Bastian Schweinsteiger scored in added time is plausible based on the historical context of his career the definition of 'added time' in soccer and the likelihood of him scoring in such situations as evidenced by match records player statistics and official reports\",\n",
       " 'The sentence Blake Snell hit a single is plausible in the context of a National League game where pitchers are required to bat',\n",
       " 'The sentence Bryce Harper fumbled the ball is not plausible',\n",
       " 'The sentence Carlos Tevez skated backwards is implausible',\n",
       " 'The sentence Clint Capela got into the endzone is not plausible',\n",
       " 'The sentence Corbin Burnes earned an indirect kick is not plausible',\n",
       " 'The sentence David Silva took a throw in is plausible',\n",
       " 'The sentence Dejounte Murray took a side-step three is plausible',\n",
       " 'The sentence Deshaun Watson was flagged on the play is plausible if supported by official game reports and expert commentary',\n",
       " 'The sentence Didier Drogba got into the endzone is not plausible without additional context',\n",
       " 'The sentence Drew Brees was flagged on the play is plausible',\n",
       " 'The sentence Edinson Cavani caught the screen pass is not plausible without additional context as it mixes terminology from different sports',\n",
       " 'The sentence Elias Lindholm beat the buzzer is plausible',\n",
       " 'The sentence Elias Lindholm took the snap is not plausible',\n",
       " 'The sentence Fernando Tatis Jr earned a red card is not plausible',\n",
       " 'The sentence Fred VanVleet passed the puck is not plausible',\n",
       " 'The sentence Gerard Pique scored a corner kick is not plausible',\n",
       " 'The sentence Gerrit Cole set the hard screen is not plausible',\n",
       " 'The sentence Gleyber Torres got a base hit is plausible',\n",
       " 'The sentence Jakub Vrana hit a walkoff homer is not plausible',\n",
       " 'The sentence Jakub Vrana skated backwards is plausible',\n",
       " 'The sentence James Karinchak worked a full count is plausible',\n",
       " 'The sentence Javier Mascherano took a left footed shot is plausible',\n",
       " 'The sentence John Carlson scored in the third period is plausible if the key assumptions are validated through the analysis of relevant data sources and expertise',\n",
       " 'The sentence Jonas Valanciunas beat the buzzer is plausible',\n",
       " 'The sentence Josh Allen caught the screen pass is plausible',\n",
       " 'The sentence Josh Allen hit the screen pass is plausible',\n",
       " 'The sentence Juan Soto did a double stepover is not plausible',\n",
       " 'The sentence Julian Edelman fumbled the ball is plausible',\n",
       " 'The sentence Kawhi Leonard took a turnaround jumper is plausible',\n",
       " 'The sentence Kyle Tucker stepped on first base is plausible',\n",
       " 'The sentence LaMelo Ball launched the half court shot in the Western Conference Finals is plausible if supported by the gathered data and analysis',\n",
       " 'The sentence Luis Robert was out at second is plausible',\n",
       " 'The sentence Luke Voit was out at first is plausible',\n",
       " 'The sentence Malcolm Brogdon banked the shot in is plausible',\n",
       " 'The sentence Marcell Ozuna hit into a double play is plausible',\n",
       " 'The sentence Mario Gomez scored a reverse layup is implausible',\n",
       " 'The sentence Mark Stone spent time in the penalty box in the Stanley Cup is plausible if the gathered data and analysis confirm that Mark Stone has indeed been in the penalty box during a Stanley Cup game',\n",
       " 'The sentence Marvin Jones lost control of the puck is plausible',\n",
       " 'The sentence Max Scherzer was safe at first is plausible',\n",
       " 'The sentence Michael Thomas took the snap is not plausible',\n",
       " 'The sentence Mikal Bridges scored a windmill dunk is plausible',\n",
       " 'The sentence Mike Trout hit a walkoff homer is plausible',\n",
       " 'The sentence Mike Williams fumbled the ball in the Superbowl is not plausible',\n",
       " 'The sentence Mitchell Marner nutmegged the defender is plausible',\n",
       " 'The sentence Mitchell Robinson airballed the shot is plausible',\n",
       " 'The sentence Mookie Betts took a side-step three is not plausible',\n",
       " 'The sentence Nazem Kadri was out at home is not plausible',\n",
       " \"The sentence Paulinho earned an indirect kick in the FA Cup is plausible if all the assumptions and considerations align with the available data and football rules However without specific data on Paulinho's participation in the FA Cup and the exact context of the indirect kick the plausibility remains uncertain\",\n",
       " 'The sentence Pedro struck out the side is plausible',\n",
       " 'The sentence Pepe converted the first down is plausible',\n",
       " 'The sentence Philip Rivers launched a hail mary is plausible',\n",
       " 'The sentence Pierre-Luc Dubois skated backwards is plausible',\n",
       " 'The sentence Ramires scored a header goal is plausible',\n",
       " 'The sentence Ryan Fitzpatrick scored a touchdown is plausible but not a common occurrence',\n",
       " \"The sentence Sergio Aguero maradona'd the defender is plausible\",\n",
       " 'The sentence Stephan El Shaarawy shot with the left foot is plausible',\n",
       " 'The sentence Stephen Curry scored a reverse layup is plausible',\n",
       " 'The sentence Sterling Shepard hit a walkoff homer is not plausible',\n",
       " 'The sentence Steven Stamkos hit the slant pass is not plausible',\n",
       " 'The sentence Teuvo Teravainen shot the puck is plausible',\n",
       " 'The sentence Tom Brady converted the first down is plausible',\n",
       " 'The sentence Tristan Jarry dunked the ball is not plausible',\n",
       " 'The sentence Tuukka Rask hit a double is not plausible',\n",
       " 'The sentence Tyreek Hill caught the screen pass is plausible',\n",
       " 'The sentence Yaya Toure scored a freekick is plausible based on his career statistics and technical abilities',\n",
       " 'The sentence is implausible',\n",
       " 'The sentence is not plausible',\n",
       " \"The sentence is not plausible without additional context as Jerry Jeudy is not typically associated with the term 'powerplay' in his sport\",\n",
       " 'The sentence is plausible',\n",
       " 'The sentence is plausible but highly unlikely',\n",
       " \"The sentence is plausible if 'in the Stanley Cup' is interpreted as referring to the championship series rather than the physical trophy\",\n",
       " \"The sentence is plausible if 'the screen' refers to a sports term or a technological device but the exact meaning is unclear without additional context\",\n",
       " \"The sentence is plausible if Jesus Luzardo is involved in a sport like hockey where 'slashing' is a recognized penalty However if Jesus Luzardo is known to be a baseball player the sentence is not plausible as 'slashing' is not a term used in baseball\",\n",
       " \"The sentence is plausible if interpreted as Nerlens Noel being outside his house but within his home's premises\",\n",
       " 'The sentence is plausible if interpreted in the context of baseball terminology',\n",
       " 'The sentence is plausible if interpreted metaphorically within the context of sports',\n",
       " 'The sentence is plausible under certain conditions but additional context is needed for a definitive determination',\n",
       " 'The statement Collin Sexton hit the buzzer beater is plausible',\n",
       " 'The statement David Pastrnak skated backwards is plausible',\n",
       " 'The statement Drew Brees went for it on fourth down is plausible based on the analysis of his historical decisions the game context and strategic implications',\n",
       " 'The statement Nick Foles lost control of the puck is not plausible',\n",
       " 'The statement Nicklas Backstrom earned a trip to the penalty box is plausible',\n",
       " \"The statement Ryan Nugent-Hopkins killed the powerplay is not sufficiently supported by the available data and alternative explanations It is more plausible that the powerplay failure was due to a combination of factors rather than solely Ryan Nugent-Hopkins' performance\",\n",
       " 'The statement Stefon Diggs hit the slant pass is plausible',\n",
       " 'The statement is not plausible',\n",
       " 'The statement is plausible if there is documented evidence of Jonathan Marchessault scoring a power play goal in a Stanley Cup game Further verification through official records and statistics is required to confirm this',\n",
       " 'True',\n",
       " 'Yes',\n",
       " 'Yes the sentence is plausible',\n",
       " '[answer]',\n",
       " 'not plausible',\n",
       " 'that the sentence Marouane Fellaini scored in extra time is plausible based on the structured analysis and available data',\n",
       " \"that the sentence is plausible with a correction: 'Michael Conforto committed a three second violation'\"}"
      ]
     },
     "execution_count": 187,
     "metadata": {},
     "output_type": "execute_result"
    }
   ],
   "source": [
    "set(new_ds[\"answer_pred\"])"
   ]
  },
  {
   "cell_type": "code",
   "execution_count": 188,
   "id": "fc785acd-26cf-403a-84de-5e5e738c1228",
   "metadata": {},
   "outputs": [
    {
     "data": {
      "application/vnd.jupyter.widget-view+json": {
       "model_id": "1c7b02d19f5749c98603d215083b7489",
       "version_major": 2,
       "version_minor": 0
      },
      "text/plain": [
       "Map:   0%|          | 0/250 [00:00<?, ? examples/s]"
      ]
     },
     "metadata": {},
     "output_type": "display_data"
    }
   ],
   "source": [
    "plausible_yes = [\n",
    "    'Plausible',\n",
    "    \"The sentence 'Patrice Bergeron took a backhand shot' is plausible\",\n",
    "    'The sentence Allen Robinson gained five yards is plausible',\n",
    "    'The sentence Andres Iniesta performed a give and go is plausible',\n",
    "    'The sentence Angel Di Maria scored in extra time is plausible if verified by match records',\n",
    "    'The sentence Anthony Davis beat the buzzer is plausible',\n",
    "    \"The sentence Bastian Schweinsteiger scored in added time is plausible based on the historical context of his career the definition of 'added time' in soccer and the likelihood of him scoring in such situations as evidenced by match records player statistics and official reports\",\n",
    "    'The sentence Blake Snell hit a single is plausible in the context of a National League game where pitchers are required to bat',\n",
    "    'The sentence David Silva took a throw in is plausible',\n",
    "    'The sentence Dejounte Murray took a side-step three is plausible',\n",
    "    'The sentence Deshaun Watson was flagged on the play is plausible if supported by official game reports and expert commentary',\n",
    "    'The sentence Drew Brees was flagged on the play is plausible',\n",
    "    'The sentence Elias Lindholm beat the buzzer is plausible',\n",
    "    'The sentence Gleyber Torres got a base hit is plausible',\n",
    "    'The sentence Jakub Vrana skated backwards is plausible',\n",
    "    'The sentence James Karinchak worked a full count is plausible',\n",
    "    'The sentence Javier Mascherano took a left footed shot is plausible',\n",
    "    'The sentence John Carlson scored in the third period is plausible if the key assumptions are validated through the analysis of relevant data sources and expertise',\n",
    "    'The sentence Jonas Valanciunas beat the buzzer is plausible',\n",
    "    'The sentence Josh Allen caught the screen pass is plausible',\n",
    "    'The sentence Josh Allen hit the screen pass is plausible',\n",
    "    'The sentence Julian Edelman fumbled the ball is plausible',\n",
    "    'The sentence Kawhi Leonard took a turnaround jumper is plausible',\n",
    "    'The sentence Kyle Tucker stepped on first base is plausible',\n",
    "    'The sentence LaMelo Ball launched the half court shot in the Western Conference Finals is plausible if supported by the gathered data and analysis',\n",
    "    'The sentence Luis Robert was out at second is plausible',\n",
    "    'The sentence Luke Voit was out at first is plausible',\n",
    "    'The sentence Malcolm Brogdon banked the shot in is plausible',\n",
    "    'The sentence Marcell Ozuna hit into a double play is plausible',\n",
    "    'The sentence Mark Stone spent time in the penalty box in the Stanley Cup is plausible if the gathered data and analysis confirm that Mark Stone has indeed been in the penalty box during a Stanley Cup game',\n",
    "    'The sentence Marvin Jones lost control of the puck is plausible',\n",
    "    'The sentence Max Scherzer was safe at first is plausible',\n",
    "    'The sentence Mikal Bridges scored a windmill dunk is plausible',\n",
    "    'The sentence Mike Trout hit a walkoff homer is plausible',\n",
    "    'The sentence Mitchell Marner nutmegged the defender is plausible',\n",
    "    'The sentence Mitchell Robinson airballed the shot is plausible',\n",
    "    'The sentence Pedro struck out the side is plausible',\n",
    "    'The sentence Pepe converted the first down is plausible',\n",
    "    'The sentence Philip Rivers launched a hail mary is plausible',\n",
    "    'The sentence Pierre-Luc Dubois skated backwards is plausible',\n",
    "    'The sentence Ramires scored a header goal is plausible',\n",
    "    'The sentence Ryan Fitzpatrick scored a touchdown is plausible but not a common occurrence',\n",
    "    \"The sentence Sergio Aguero maradona'd the defender is plausible\",\n",
    "    'The sentence Stephan El Shaarawy shot with the left foot is plausible',\n",
    "    'The sentence Stephen Curry scored a reverse layup is plausible',\n",
    "    'The sentence Teuvo Teravainen shot the puck is plausible',\n",
    "    'The sentence Tom Brady converted the first down is plausible',\n",
    "    'The sentence Tyreek Hill caught the screen pass is plausible',\n",
    "    'The sentence Yaya Toure scored a freekick is plausible based on his career statistics and technical abilities',\n",
    "    'The statement Collin Sexton hit the buzzer beater is plausible',\n",
    "    'The statement David Pastrnak skated backwards is plausible',\n",
    "    'The statement Drew Brees went for it on fourth down is plausible based on the analysis of his historical decisions the game context and strategic implications',\n",
    "    'The statement Nicklas Backstrom earned a trip to the penalty box is plausible',\n",
    "    'The statement Stefon Diggs hit the slant pass is plausible',\n",
    "    'The statement is plausible if there is documented evidence of Jonathan Marchessault scoring a power play goal in a Stanley Cup game Further verification through official records and statistics is required to confirm this',\n",
    "    'True',\n",
    "    'Yes',\n",
    "    'Yes the sentence is plausible',\n",
    "    'that the sentence Marouane Fellaini scored in extra time is plausible based on the structured analysis and available data',\n",
    "    \"that the sentence is plausible with a correction: 'Michael Conforto committed a three second violation'\"\n",
    "]\n",
    "\n",
    "implausible_no = [\n",
    "    'False',\n",
    "    'No',\n",
    "    'The sentence Bryce Harper fumbled the ball is not plausible',\n",
    "    'The sentence Carlos Tevez skated backwards is implausible',\n",
    "    'The sentence Clint Capela got into the endzone is not plausible',\n",
    "    'The sentence Corbin Burnes earned an indirect kick is not plausible',\n",
    "    'The sentence Didier Drogba got into the endzone is not plausible without additional context',\n",
    "    'The sentence Edinson Cavani caught the screen pass is not plausible without additional context as it mixes terminology from different sports',\n",
    "    'The sentence Elias Lindholm took the snap is not plausible',\n",
    "    'The sentence Fernando Tatis Jr earned a red card is not plausible',\n",
    "    'The sentence Fred VanVleet passed the puck is not plausible',\n",
    "    'The sentence Gerard Pique scored a corner kick is not plausible',\n",
    "    'The sentence Gerrit Cole set the hard screen is not plausible',\n",
    "    'The sentence Jakub Vrana hit a walkoff homer is not plausible',\n",
    "    'The sentence Juan Soto did a double stepover is not plausible',\n",
    "    'The sentence Mario Gomez scored a reverse layup is implausible',\n",
    "    'The sentence Michael Thomas took the snap is not plausible',\n",
    "    'The sentence Mike Williams fumbled the ball in the Superbowl is not plausible',\n",
    "    'The sentence Mookie Betts took a side-step three is not plausible',\n",
    "    'The sentence Nazem Kadri was out at home is not plausible',\n",
    "    'The sentence Sterling Shepard hit a walkoff homer is not plausible',\n",
    "    'The sentence Steven Stamkos hit the slant pass is not plausible',\n",
    "    'The sentence Tristan Jarry dunked the ball is not plausible',\n",
    "    'The sentence Tuukka Rask hit a double is not plausible',\n",
    "    'The sentence is implausible',\n",
    "    'The sentence is not plausible',\n",
    "    \"The sentence is not plausible without additional context as Jerry Jeudy is not typically associated with the term 'powerplay' in his sport\",\n",
    "    'The statement Nick Foles lost control of the puck is not plausible',\n",
    "    'The statement Ryan Nugent-Hopkins killed the powerplay is not sufficiently supported by the available data and alternative explanations It is more plausible that the powerplay failure was due to a combination of factors rather than solely Ryan Nugent-Hopkins performance',\n",
    "    'The statement is not plausible',\n",
    "    'not plausible'\n",
    "]\n",
    "\n",
    "indeterminate = [\n",
    "    'The plausibility of the sentence James Karinchak crossed the blue line remains uncertain without specific context or evidence',\n",
    "    'The plausibility of the sentence is uncertain without concrete data',\n",
    "    'The plausibility of the statement Malcolm Brogdon drove into the restricted area in the Eastern Conference Finals can be determined by following the outlined steps to verify the relevant data and context',\n",
    "    'The sentence John Carlson scored in the third period is plausible if the key assumptions are validated through the analysis of relevant data sources and expertise',\n",
    "    'The sentence LaMelo Ball launched the half court shot in the Western Conference Finals is plausible if supported by the gathered data and analysis',\n",
    "    'The sentence Mark Stone spent time in the penalty box in the Stanley Cup is plausible if the gathered data and analysis confirm that Mark Stone has indeed been in the penalty box during a Stanley Cup game',\n",
    "    'The sentence is plausible but highly unlikely',\n",
    "    \"The sentence is plausible if 'in the Stanley Cup' is interpreted as referring to the championship series rather than the physical trophy\",\n",
    "    \"The sentence is plausible if 'the screen' refers to a sports term or a technological device but the exact meaning is unclear without additional context\",\n",
    "    \"The sentence is plausible if Jesus Luzardo is involved in a sport like hockey where 'slashing' is a recognized penalty However if Jesus Luzardo is known to be a baseball player the sentence is not plausible as 'slashing' is not a term used in baseball\",\n",
    "    \"The sentence is plausible if interpreted as Nerlens Noel being outside his house but within his home's premises\",\n",
    "    'The sentence is plausible if interpreted in the context of baseball terminology',\n",
    "    'The sentence is plausible if interpreted metaphorically within the context of sports',\n",
    "    'The sentence is plausible under certain conditions but additional context is needed for a definitive determination',\n",
    "    'The statement is plausible if there is documented evidence of Jonathan Marchessault scoring a power play goal in a Stanley Cup game Further verification through official records and statistics is required to confirm this',\n",
    "    '[answer]'\n",
    "]\n",
    "\n",
    "def map_fn(ins):\n",
    "    for yes in plausible_yes:\n",
    "        if yes == ins[\"answer_pred\"]:\n",
    "            return {\n",
    "                \"answer_pred\": \"yes\"\n",
    "            }\n",
    "\n",
    "    for no in implausible_no:\n",
    "        if no == ins[\"answer_pred\"]:\n",
    "            return {\n",
    "                \"answer_pred\": \"no\"\n",
    "            }\n",
    "    return {\n",
    "        \"answer_pred\": ins[\"answer_pred\"]\n",
    "    }\n",
    "\n",
    "new_ds = new_ds.map(map_fn)"
   ]
  },
  {
   "cell_type": "code",
   "execution_count": 189,
   "id": "94d51ac3-635f-4b67-9fca-62e04de6fe41",
   "metadata": {},
   "outputs": [
    {
     "data": {
      "text/plain": [
       "{'The plausibility of the sentence James Karinchak crossed the blue line remains uncertain without specific context or evidence',\n",
       " 'The plausibility of the sentence is uncertain without concrete data',\n",
       " 'The plausibility of the statement Malcolm Brogdon drove into the restricted area in the Eastern Conference Finals can be determined by following the outlined steps to verify the relevant data and context',\n",
       " \"The sentence Paulinho earned an indirect kick in the FA Cup is plausible if all the assumptions and considerations align with the available data and football rules However without specific data on Paulinho's participation in the FA Cup and the exact context of the indirect kick the plausibility remains uncertain\",\n",
       " 'The sentence is plausible',\n",
       " 'The sentence is plausible but highly unlikely',\n",
       " \"The sentence is plausible if 'in the Stanley Cup' is interpreted as referring to the championship series rather than the physical trophy\",\n",
       " \"The sentence is plausible if 'the screen' refers to a sports term or a technological device but the exact meaning is unclear without additional context\",\n",
       " \"The sentence is plausible if Jesus Luzardo is involved in a sport like hockey where 'slashing' is a recognized penalty However if Jesus Luzardo is known to be a baseball player the sentence is not plausible as 'slashing' is not a term used in baseball\",\n",
       " \"The sentence is plausible if interpreted as Nerlens Noel being outside his house but within his home's premises\",\n",
       " 'The sentence is plausible if interpreted in the context of baseball terminology',\n",
       " 'The sentence is plausible if interpreted metaphorically within the context of sports',\n",
       " 'The sentence is plausible under certain conditions but additional context is needed for a definitive determination',\n",
       " \"The statement Ryan Nugent-Hopkins killed the powerplay is not sufficiently supported by the available data and alternative explanations It is more plausible that the powerplay failure was due to a combination of factors rather than solely Ryan Nugent-Hopkins' performance\",\n",
       " '[answer]',\n",
       " 'no',\n",
       " 'yes'}"
      ]
     },
     "execution_count": 189,
     "metadata": {},
     "output_type": "execute_result"
    }
   ],
   "source": [
    "set(new_ds[\"answer_pred\"])"
   ]
  },
  {
   "cell_type": "code",
   "execution_count": 190,
   "id": "f50e1036-98fc-4269-ae31-b2090efa09c6",
   "metadata": {},
   "outputs": [
    {
     "data": {
      "application/vnd.jupyter.widget-view+json": {
       "model_id": "62535a3b8db44adb98880b304ed9a222",
       "version_major": 2,
       "version_minor": 0
      },
      "text/plain": [
       "Saving the dataset (0/1 shards):   0%|          | 0/250 [00:00<?, ? examples/s]"
      ]
     },
     "metadata": {},
     "output_type": "display_data"
    }
   ],
   "source": [
    "start_string, end_string = \"non_self_synthesis/bbh/\", \"/bbh_eval\"\n",
    "cat = str(chk_dir)[str(chk_dir).find(start_string) + len(start_string) + 4:str(chk_dir).find(end_string)]\n",
    "new_ds.save_to_disk(os.path.join(save_par_dir, cat))"
   ]
  },
  {
   "cell_type": "code",
   "execution_count": 191,
   "id": "66e680b2-b837-4173-ab20-c81d9d3f529e",
   "metadata": {},
   "outputs": [
    {
     "data": {
      "application/vnd.jupyter.widget-view+json": {
       "model_id": "7a26e6d26d3b40c1b16a6025b5f7fb6e",
       "version_major": 2,
       "version_minor": 0
      },
      "text/plain": [
       "Filter:   0%|          | 0/250 [00:00<?, ? examples/s]"
      ]
     },
     "metadata": {},
     "output_type": "display_data"
    },
    {
     "data": {
      "text/plain": [
       "0.688"
      ]
     },
     "execution_count": 191,
     "metadata": {},
     "output_type": "execute_result"
    }
   ],
   "source": [
    "corr = new_ds.filter(lambda x: x[\"target\"] == x[\"answer_pred\"])\n",
    "corr.num_rows / new_ds.num_rows"
   ]
  },
  {
   "cell_type": "markdown",
   "id": "af53b711-b627-43a7-91be-c9f975253230",
   "metadata": {
    "jp-MarkdownHeadingCollapsed": true
   },
   "source": [
    "# temporal_sequences"
   ]
  },
  {
   "cell_type": "code",
   "execution_count": 192,
   "id": "4ff26847-c272-43bb-abed-981f71ecaa2e",
   "metadata": {},
   "outputs": [],
   "source": [
    "chk_dir = here(os.path.join(par_dir, \"bbh-temporal_sequences/bbh_eval\"))"
   ]
  },
  {
   "cell_type": "code",
   "execution_count": 193,
   "id": "0736540f-c3cd-48d4-9368-3e986bb7c9f7",
   "metadata": {},
   "outputs": [],
   "source": [
    "dataset = Dataset.load_from_disk(chk_dir)"
   ]
  },
  {
   "cell_type": "code",
   "execution_count": 194,
   "id": "6f42588e-4736-4f9a-a6f3-7e1b1ee610a1",
   "metadata": {},
   "outputs": [
    {
     "data": {
      "text/plain": [
       "{'(A) 11am to 1pm.',\n",
       " '(A) 12pm to 2pm.',\n",
       " '(A) 3pm to 6pm.',\n",
       " '(A) 5am to 6am.\"',\n",
       " '(A) 6am to 7am\"',\n",
       " '(A) 7am to 8am.',\n",
       " '(A) 9am to 4pm.',\n",
       " '(C) 9am to 11am.',\n",
       " '(D) 7am to 9am.',\n",
       " '(D) 8am to 10am.',\n",
       " '(D).\"',\n",
       " 'A or B.',\n",
       " 'A\"',\n",
       " 'A.',\n",
       " 'A.\"',\n",
       " 'B\"',\n",
       " 'B\"}',\n",
       " 'B.',\n",
       " 'B.\"',\n",
       " 'C\"',\n",
       " 'C.',\n",
       " 'C.\"',\n",
       " 'D\"',\n",
       " 'D.',\n",
       " 'D.\"'}"
      ]
     },
     "execution_count": 194,
     "metadata": {},
     "output_type": "execute_result"
    }
   ],
   "source": [
    "set(dataset[\"answer_pred\"])"
   ]
  },
  {
   "cell_type": "code",
   "execution_count": 199,
   "id": "6f0e3bf1-6d3d-49a7-9ac9-b4e434a1ff95",
   "metadata": {},
   "outputs": [
    {
     "data": {
      "application/vnd.jupyter.widget-view+json": {
       "model_id": "b8f163a399294c36a2ea9aa842c680fb",
       "version_major": 2,
       "version_minor": 0
      },
      "text/plain": [
       "Map:   0%|          | 0/250 [00:00<?, ? examples/s]"
      ]
     },
     "metadata": {},
     "output_type": "display_data"
    },
    {
     "data": {
      "text/plain": [
       "{'A',\n",
       " 'A 11am to 1pm',\n",
       " 'A 12pm to 2pm',\n",
       " 'A 3pm to 6pm',\n",
       " 'A 5am to 6am',\n",
       " 'A 6am to 7am',\n",
       " 'A 7am to 8am',\n",
       " 'A 9am to 4pm',\n",
       " 'A or B',\n",
       " 'B',\n",
       " 'C',\n",
       " 'C 9am to 11am',\n",
       " 'D',\n",
       " 'D 7am to 9am',\n",
       " 'D 8am to 10am'}"
      ]
     },
     "execution_count": 199,
     "metadata": {},
     "output_type": "execute_result"
    }
   ],
   "source": [
    "def map_fn(instance):    \n",
    "    return {\n",
    "        \"answer_pred\": instance[\"answer_pred\"].translate(str.maketrans(\"\", \"\", '.,()}\"')) if instance[\"answer_pred\"] else None\n",
    "    }\n",
    "\n",
    "new_ds = dataset.map(map_fn, load_from_cache_file=False)\n",
    "set(new_ds[\"answer_pred\"])"
   ]
  },
  {
   "cell_type": "code",
   "execution_count": 200,
   "id": "e8b3a01c-9742-4e8f-84a5-acc7931bf3cb",
   "metadata": {
    "scrolled": true
   },
   "outputs": [
    {
     "data": {
      "application/vnd.jupyter.widget-view+json": {
       "model_id": "d5dba72a59f84ecea61acee5150bc12d",
       "version_major": 2,
       "version_minor": 0
      },
      "text/plain": [
       "Map:   0%|          | 0/250 [00:00<?, ? examples/s]"
      ]
     },
     "metadata": {},
     "output_type": "display_data"
    },
    {
     "data": {
      "text/plain": [
       "{'A', 'A or B', 'B', 'C', 'D'}"
      ]
     },
     "execution_count": 200,
     "metadata": {},
     "output_type": "execute_result"
    }
   ],
   "source": [
    "def map_fn(ins):\n",
    "    sp = ins[\"answer_pred\"].split()\n",
    "    if len(sp) == 4:\n",
    "        return {\n",
    "            \"answer_pred\": sp[0]\n",
    "        }\n",
    "    return {\n",
    "        \"answer_pred\": ins[\"answer_pred\"]\n",
    "    }\n",
    "\n",
    "new_ds = new_ds.map(map_fn)\n",
    "set(new_ds[\"answer_pred\"])"
   ]
  },
  {
   "cell_type": "code",
   "execution_count": 201,
   "id": "1a32c840-605b-411c-bf24-97dbe633004f",
   "metadata": {},
   "outputs": [
    {
     "data": {
      "application/vnd.jupyter.widget-view+json": {
       "model_id": "0bb014225a574f95a8d9b39eb2f799bb",
       "version_major": 2,
       "version_minor": 0
      },
      "text/plain": [
       "Saving the dataset (0/1 shards):   0%|          | 0/250 [00:00<?, ? examples/s]"
      ]
     },
     "metadata": {},
     "output_type": "display_data"
    }
   ],
   "source": [
    "start_string, end_string = \"non_self_synthesis/bbh/\", \"/bbh_eval\"\n",
    "cat = str(chk_dir)[str(chk_dir).find(start_string) + len(start_string) + 4:str(chk_dir).find(end_string)]\n",
    "new_ds.save_to_disk(os.path.join(save_par_dir, cat))"
   ]
  },
  {
   "cell_type": "code",
   "execution_count": 202,
   "id": "09500846-591e-400d-8e00-7a413f80b304",
   "metadata": {},
   "outputs": [
    {
     "data": {
      "application/vnd.jupyter.widget-view+json": {
       "model_id": "d0b900193bfa4b17ad572993ba45e275",
       "version_major": 2,
       "version_minor": 0
      },
      "text/plain": [
       "Filter:   0%|          | 0/250 [00:00<?, ? examples/s]"
      ]
     },
     "metadata": {},
     "output_type": "display_data"
    },
    {
     "data": {
      "text/plain": [
       "0.992"
      ]
     },
     "execution_count": 202,
     "metadata": {},
     "output_type": "execute_result"
    }
   ],
   "source": [
    "corr = new_ds.filter(lambda x: x[\"target\"].translate(str.maketrans(\"\", \"\", '()\"')) == x[\"answer_pred\"])\n",
    "(corr.num_rows) / new_ds.num_rows"
   ]
  },
  {
   "cell_type": "markdown",
   "id": "46999e93-5777-438d-82fc-23e1320a4ee5",
   "metadata": {
    "jp-MarkdownHeadingCollapsed": true
   },
   "source": [
    "# tracking_shuffled_objects_five_objects"
   ]
  },
  {
   "cell_type": "code",
   "execution_count": 204,
   "id": "1f430e83-d257-42b1-80d6-86c00ff391f3",
   "metadata": {},
   "outputs": [
    {
     "data": {
      "text/plain": [
       "PosixPath('/home/ubuntu/jupyter/struct-vs-unstruct/struct_vs_unstruct/data/mistral_large_2407/original/non_self_synthesis/bbh/bbh-tracking_shuffled_objects_five_objects/bbh_eval')"
      ]
     },
     "execution_count": 204,
     "metadata": {},
     "output_type": "execute_result"
    }
   ],
   "source": [
    "chk_dir = here(os.path.join(par_dir, \"bbh-tracking_shuffled_objects_five_objects/bbh_eval\"))\n",
    "chk_dir"
   ]
  },
  {
   "cell_type": "code",
   "execution_count": 205,
   "id": "6e48f967-b3c6-4578-be6c-3c5f5978e890",
   "metadata": {},
   "outputs": [],
   "source": [
    "dataset = Dataset.load_from_disk(chk_dir)"
   ]
  },
  {
   "cell_type": "code",
   "execution_count": 206,
   "id": "3eaa6a24-46e7-4ea6-99e5-141257dff314",
   "metadata": {},
   "outputs": [
    {
     "data": {
      "text/plain": [
       "{'(A) The Great Gatsby.',\n",
       " '(A) Ulysses.',\n",
       " '(A) brown present.',\n",
       " '(C) blue present.',\n",
       " '(C) pink ball.',\n",
       " '(D) Patrick.',\n",
       " 'A.',\n",
       " 'B\"',\n",
       " 'B.',\n",
       " 'C.',\n",
       " 'D.',\n",
       " 'E.'}"
      ]
     },
     "execution_count": 206,
     "metadata": {},
     "output_type": "execute_result"
    }
   ],
   "source": [
    "set(dataset[\"answer_pred\"])"
   ]
  },
  {
   "cell_type": "code",
   "execution_count": 207,
   "id": "ee35345c-acaa-4b80-9a62-4f2d9e8e13bb",
   "metadata": {},
   "outputs": [
    {
     "data": {
      "application/vnd.jupyter.widget-view+json": {
       "model_id": "23b962385f514ce988831ccc68a4b04e",
       "version_major": 2,
       "version_minor": 0
      },
      "text/plain": [
       "Map:   0%|          | 0/250 [00:00<?, ? examples/s]"
      ]
     },
     "metadata": {},
     "output_type": "display_data"
    },
    {
     "data": {
      "text/plain": [
       "{'A',\n",
       " 'A The Great Gatsby',\n",
       " 'A Ulysses',\n",
       " 'A brown present',\n",
       " 'B',\n",
       " 'C',\n",
       " 'C blue present',\n",
       " 'C pink ball',\n",
       " 'D',\n",
       " 'D Patrick',\n",
       " 'E'}"
      ]
     },
     "execution_count": 207,
     "metadata": {},
     "output_type": "execute_result"
    }
   ],
   "source": [
    "def map_fn(instance):    \n",
    "    return {\n",
    "        \"answer_pred\": instance[\"answer_pred\"].translate(str.maketrans(\"\", \"\", '.,()\"')) if instance[\"answer_pred\"] else None\n",
    "    }\n",
    "\n",
    "new_ds = dataset.map(map_fn, load_from_cache_file=False)\n",
    "set(new_ds[\"answer_pred\"])"
   ]
  },
  {
   "cell_type": "code",
   "execution_count": 208,
   "id": "cd9525e8-a803-4563-b7e2-257a7abd5b3f",
   "metadata": {},
   "outputs": [
    {
     "data": {
      "application/vnd.jupyter.widget-view+json": {
       "model_id": "03ccf74bc2394220aeb0634c1e8e8432",
       "version_major": 2,
       "version_minor": 0
      },
      "text/plain": [
       "Map:   0%|          | 0/250 [00:00<?, ? examples/s]"
      ]
     },
     "metadata": {},
     "output_type": "display_data"
    },
    {
     "data": {
      "text/plain": [
       "{'A', 'B', 'C', 'D', 'E'}"
      ]
     },
     "execution_count": 208,
     "metadata": {},
     "output_type": "execute_result"
    }
   ],
   "source": [
    "def map_fn(ins):    \n",
    "    sp = ins[\"answer_pred\"].split()\n",
    "    return {\n",
    "        \"answer_pred\": sp[0]\n",
    "    }\n",
    "\n",
    "new_ds = new_ds.map(map_fn, load_from_cache_file=False)\n",
    "set(new_ds[\"answer_pred\"])"
   ]
  },
  {
   "cell_type": "code",
   "execution_count": 209,
   "id": "0816914b-7391-4088-a844-c1cc8ce4ecf1",
   "metadata": {},
   "outputs": [
    {
     "data": {
      "application/vnd.jupyter.widget-view+json": {
       "model_id": "e4f49bd72dbc49c38b8fbdbc68daa5a2",
       "version_major": 2,
       "version_minor": 0
      },
      "text/plain": [
       "Saving the dataset (0/1 shards):   0%|          | 0/250 [00:00<?, ? examples/s]"
      ]
     },
     "metadata": {},
     "output_type": "display_data"
    }
   ],
   "source": [
    "start_string, end_string = \"non_self_synthesis/bbh/\", \"/bbh_eval\"\n",
    "cat = str(chk_dir)[str(chk_dir).find(start_string) + len(start_string) + 4:str(chk_dir).find(end_string)]\n",
    "new_ds.save_to_disk(os.path.join(save_par_dir, cat))"
   ]
  },
  {
   "cell_type": "code",
   "execution_count": 210,
   "id": "597c8af1-8fe8-47a9-8f2b-178a6f02d47f",
   "metadata": {},
   "outputs": [
    {
     "data": {
      "application/vnd.jupyter.widget-view+json": {
       "model_id": "3c6699ff596345269a781a7c6412a291",
       "version_major": 2,
       "version_minor": 0
      },
      "text/plain": [
       "Filter:   0%|          | 0/250 [00:00<?, ? examples/s]"
      ]
     },
     "metadata": {},
     "output_type": "display_data"
    },
    {
     "data": {
      "text/plain": [
       "0.976"
      ]
     },
     "execution_count": 210,
     "metadata": {},
     "output_type": "execute_result"
    }
   ],
   "source": [
    "corr = new_ds.filter(lambda x: x[\"target\"].translate(str.maketrans(\"\", \"\", '()\"')) == x[\"answer_pred\"])\n",
    "(corr.num_rows) / new_ds.num_rows"
   ]
  },
  {
   "cell_type": "markdown",
   "id": "cb4d96cc-2a17-42f2-be48-0c078e1ad4c6",
   "metadata": {
    "jp-MarkdownHeadingCollapsed": true
   },
   "source": [
    "# tracking_shuffled_objects_seven_objects"
   ]
  },
  {
   "cell_type": "code",
   "execution_count": 211,
   "id": "85ad5a89-1fea-43b1-aa46-6fb31c71bb0c",
   "metadata": {},
   "outputs": [],
   "source": [
    "chk_dir = here(os.path.join(par_dir, \"bbh-tracking_shuffled_objects_seven_objects/bbh_eval\"))"
   ]
  },
  {
   "cell_type": "code",
   "execution_count": 212,
   "id": "c76badad-20e0-4edf-87c1-a8cc07f8dd42",
   "metadata": {},
   "outputs": [],
   "source": [
    "dataset = Dataset.load_from_disk(chk_dir)"
   ]
  },
  {
   "cell_type": "code",
   "execution_count": 213,
   "id": "ba44c1a5-469b-46e4-a0e6-982650f725e2",
   "metadata": {},
   "outputs": [
    {
     "data": {
      "text/plain": [
       "{'(A) Patrick.', 'A.', 'B.', 'C.', 'D.', 'E.', 'F.', 'G.'}"
      ]
     },
     "execution_count": 213,
     "metadata": {},
     "output_type": "execute_result"
    }
   ],
   "source": [
    "set(dataset[\"answer_pred\"])"
   ]
  },
  {
   "cell_type": "code",
   "execution_count": 214,
   "id": "f8d40d34-457a-4e9b-8090-ececac236f03",
   "metadata": {},
   "outputs": [
    {
     "data": {
      "application/vnd.jupyter.widget-view+json": {
       "model_id": "84ae4e334cd142e38e181f0cfd22292a",
       "version_major": 2,
       "version_minor": 0
      },
      "text/plain": [
       "Map:   0%|          | 0/250 [00:00<?, ? examples/s]"
      ]
     },
     "metadata": {},
     "output_type": "display_data"
    }
   ],
   "source": [
    "def map_fn(instance):    \n",
    "    return {\n",
    "        \"answer_pred\": instance[\"answer_pred\"].translate(str.maketrans(\"\", \"\", '.,()\"')) if instance[\"answer_pred\"] else None\n",
    "    }\n",
    "\n",
    "new_ds = dataset.map(map_fn, load_from_cache_file=False)"
   ]
  },
  {
   "cell_type": "code",
   "execution_count": 215,
   "id": "da59656d-c659-4b13-ac37-b46d014e5a4b",
   "metadata": {},
   "outputs": [
    {
     "data": {
      "text/plain": [
       "{'A', 'A Patrick', 'B', 'C', 'D', 'E', 'F', 'G'}"
      ]
     },
     "execution_count": 215,
     "metadata": {},
     "output_type": "execute_result"
    }
   ],
   "source": [
    "set(new_ds[\"answer_pred\"])"
   ]
  },
  {
   "cell_type": "code",
   "execution_count": 216,
   "id": "8f3ccab0-aea1-4b1f-89e6-0d96898547c1",
   "metadata": {},
   "outputs": [
    {
     "data": {
      "application/vnd.jupyter.widget-view+json": {
       "model_id": "a3bda7ef8c044f75bdfadf4b3112b0f8",
       "version_major": 2,
       "version_minor": 0
      },
      "text/plain": [
       "Map:   0%|          | 0/250 [00:00<?, ? examples/s]"
      ]
     },
     "metadata": {},
     "output_type": "display_data"
    },
    {
     "data": {
      "text/plain": [
       "{'A', 'B', 'C', 'D', 'E', 'F', 'G'}"
      ]
     },
     "execution_count": 216,
     "metadata": {},
     "output_type": "execute_result"
    }
   ],
   "source": [
    "def map_fn(ins):    \n",
    "    sp = ins[\"answer_pred\"].split()\n",
    "    return {\n",
    "        \"answer_pred\": sp[0]\n",
    "    }\n",
    "\n",
    "new_ds = new_ds.map(map_fn, load_from_cache_file=False)\n",
    "set(new_ds[\"answer_pred\"])"
   ]
  },
  {
   "cell_type": "code",
   "execution_count": 217,
   "id": "cfd5fbcd-138a-4b09-85b4-c63a2840fdcc",
   "metadata": {},
   "outputs": [
    {
     "data": {
      "application/vnd.jupyter.widget-view+json": {
       "model_id": "fd16be14396843fcb93d3cc111887e6e",
       "version_major": 2,
       "version_minor": 0
      },
      "text/plain": [
       "Saving the dataset (0/1 shards):   0%|          | 0/250 [00:00<?, ? examples/s]"
      ]
     },
     "metadata": {},
     "output_type": "display_data"
    }
   ],
   "source": [
    "start_string, end_string = \"non_self_synthesis/bbh/\", \"/bbh_eval\"\n",
    "cat = str(chk_dir)[str(chk_dir).find(start_string) + len(start_string) + 4:str(chk_dir).find(end_string)]\n",
    "new_ds.save_to_disk(os.path.join(save_par_dir, cat))"
   ]
  },
  {
   "cell_type": "code",
   "execution_count": 218,
   "id": "b2a5700e-3b85-403b-9072-57dc4cb9656b",
   "metadata": {},
   "outputs": [
    {
     "data": {
      "application/vnd.jupyter.widget-view+json": {
       "model_id": "db75397d238e404bb1cfcdb8cd4944b1",
       "version_major": 2,
       "version_minor": 0
      },
      "text/plain": [
       "Filter:   0%|          | 0/250 [00:00<?, ? examples/s]"
      ]
     },
     "metadata": {},
     "output_type": "display_data"
    },
    {
     "data": {
      "text/plain": [
       "0.968"
      ]
     },
     "execution_count": 218,
     "metadata": {},
     "output_type": "execute_result"
    }
   ],
   "source": [
    "corr = new_ds.filter(lambda x: x[\"target\"].translate(str.maketrans(\"\", \"\", '()\"')) == x[\"answer_pred\"])\n",
    "(corr.num_rows) / new_ds.num_rows"
   ]
  },
  {
   "cell_type": "markdown",
   "id": "26c7380f-757f-4efe-a499-d5fcb8db1605",
   "metadata": {
    "jp-MarkdownHeadingCollapsed": true
   },
   "source": [
    "# tracking_shuffled_objects_three_objects"
   ]
  },
  {
   "cell_type": "code",
   "execution_count": 219,
   "id": "5e8b3d70-00c0-40bf-8930-2ff52cebbb86",
   "metadata": {},
   "outputs": [],
   "source": [
    "chk_dir = here(os.path.join(par_dir, \"bbh-tracking_shuffled_objects_three_objects/bbh_eval\"))"
   ]
  },
  {
   "cell_type": "code",
   "execution_count": 220,
   "id": "b7c037d5-2c4e-4c06-9d5d-e53014c787cd",
   "metadata": {},
   "outputs": [],
   "source": [
    "dataset = Dataset.load_from_disk(chk_dir)"
   ]
  },
  {
   "cell_type": "code",
   "execution_count": 221,
   "id": "2848ce35-ae10-413d-968e-e2b25260aeba",
   "metadata": {},
   "outputs": [
    {
     "data": {
      "text/plain": [
       "{'(A) The Fellowship of the Ring.',\n",
       " '(A) The Great Gatsby.',\n",
       " 'A\"',\n",
       " 'A.',\n",
       " 'B\"',\n",
       " 'B.',\n",
       " 'C.'}"
      ]
     },
     "execution_count": 221,
     "metadata": {},
     "output_type": "execute_result"
    }
   ],
   "source": [
    "set(dataset[\"answer_pred\"])"
   ]
  },
  {
   "cell_type": "code",
   "execution_count": 222,
   "id": "4a9a977f-d0e1-4f15-ab88-45ceafeb4259",
   "metadata": {},
   "outputs": [
    {
     "data": {
      "application/vnd.jupyter.widget-view+json": {
       "model_id": "e89e8b7d445d4086a31eed128048e68b",
       "version_major": 2,
       "version_minor": 0
      },
      "text/plain": [
       "Map:   0%|          | 0/250 [00:00<?, ? examples/s]"
      ]
     },
     "metadata": {},
     "output_type": "display_data"
    },
    {
     "data": {
      "text/plain": [
       "{'A', 'A The Fellowship of the Ring', 'A The Great Gatsby', 'B', 'C'}"
      ]
     },
     "execution_count": 222,
     "metadata": {},
     "output_type": "execute_result"
    }
   ],
   "source": [
    "def map_fn(instance):    \n",
    "    return {\n",
    "        \"answer_pred\": instance[\"answer_pred\"].translate(str.maketrans(\"\", \"\", '.,()\"')) if instance[\"answer_pred\"] else None\n",
    "    }\n",
    "\n",
    "new_ds = dataset.map(map_fn, load_from_cache_file=False)\n",
    "set(new_ds[\"answer_pred\"])"
   ]
  },
  {
   "cell_type": "code",
   "execution_count": 223,
   "id": "30278cd0-b599-4bd3-9cfb-8978f15b3bd4",
   "metadata": {},
   "outputs": [
    {
     "data": {
      "application/vnd.jupyter.widget-view+json": {
       "model_id": "18d36704092c43e7864e3e4d733b6c0d",
       "version_major": 2,
       "version_minor": 0
      },
      "text/plain": [
       "Map:   0%|          | 0/250 [00:00<?, ? examples/s]"
      ]
     },
     "metadata": {},
     "output_type": "display_data"
    },
    {
     "data": {
      "text/plain": [
       "{'A', 'B', 'C'}"
      ]
     },
     "execution_count": 223,
     "metadata": {},
     "output_type": "execute_result"
    }
   ],
   "source": [
    "def map_fn(ins):    \n",
    "    sp = ins[\"answer_pred\"].split()\n",
    "    return {\n",
    "        \"answer_pred\": sp[0]\n",
    "    }\n",
    "\n",
    "new_ds = new_ds.map(map_fn, load_from_cache_file=False)\n",
    "set(new_ds[\"answer_pred\"])"
   ]
  },
  {
   "cell_type": "code",
   "execution_count": 224,
   "id": "adf5debc-b7bf-4e17-b4f5-66dc51998f42",
   "metadata": {},
   "outputs": [
    {
     "data": {
      "application/vnd.jupyter.widget-view+json": {
       "model_id": "ff92e60f6fcb4f22acca8f332c3cb760",
       "version_major": 2,
       "version_minor": 0
      },
      "text/plain": [
       "Saving the dataset (0/1 shards):   0%|          | 0/250 [00:00<?, ? examples/s]"
      ]
     },
     "metadata": {},
     "output_type": "display_data"
    }
   ],
   "source": [
    "start_string, end_string = \"non_self_synthesis/bbh/\", \"/bbh_eval\"\n",
    "cat = str(chk_dir)[str(chk_dir).find(start_string) + len(start_string) + 4:str(chk_dir).find(end_string)]\n",
    "new_ds.save_to_disk(os.path.join(save_par_dir, cat))"
   ]
  },
  {
   "cell_type": "code",
   "execution_count": 225,
   "id": "56a0469d-5887-4f65-a900-49e2caab7508",
   "metadata": {},
   "outputs": [
    {
     "data": {
      "application/vnd.jupyter.widget-view+json": {
       "model_id": "53109905cf1b4d85a3bd8ea48a1f4d19",
       "version_major": 2,
       "version_minor": 0
      },
      "text/plain": [
       "Filter:   0%|          | 0/250 [00:00<?, ? examples/s]"
      ]
     },
     "metadata": {},
     "output_type": "display_data"
    },
    {
     "data": {
      "text/plain": [
       "0.964"
      ]
     },
     "execution_count": 225,
     "metadata": {},
     "output_type": "execute_result"
    }
   ],
   "source": [
    "corr = new_ds.filter(lambda x: x[\"target\"].translate(str.maketrans(\"\", \"\", '()\"')) == x[\"answer_pred\"])\n",
    "(corr.num_rows) / new_ds.num_rows"
   ]
  },
  {
   "cell_type": "markdown",
   "id": "080e9689-0a35-46be-944d-2f768b223465",
   "metadata": {
    "jp-MarkdownHeadingCollapsed": true
   },
   "source": [
    "# web_of_lies"
   ]
  },
  {
   "cell_type": "code",
   "execution_count": 226,
   "id": "d0515e07-2539-4edc-a510-4802dd4f6b53",
   "metadata": {},
   "outputs": [],
   "source": [
    "chk_dir = here(os.path.join(par_dir, \"bbh-web_of_lies/bbh_eval\"))"
   ]
  },
  {
   "cell_type": "code",
   "execution_count": 227,
   "id": "b4496e01-3aeb-4b9f-af54-883988fac6ac",
   "metadata": {},
   "outputs": [],
   "source": [
    "dataset = Dataset.load_from_disk(chk_dir)"
   ]
  },
  {
   "cell_type": "code",
   "execution_count": 228,
   "id": "b423b1e8-babb-4821-a45e-da57918d936e",
   "metadata": {},
   "outputs": [
    {
     "data": {
      "text/plain": [
       "{'Alejandro tells the truth.',\n",
       " 'Alexis tells the truth.',\n",
       " 'Amberly tells the truth.',\n",
       " 'Andree tells the truth.',\n",
       " 'Bernita is telling the truth.',\n",
       " 'Christie does not tell the truth.',\n",
       " 'Christie is telling the truth.',\n",
       " 'Christie tells the truth.',\n",
       " 'Conception tells the truth.',\n",
       " 'Crista tells the truth.',\n",
       " 'Dallas tells the truth.',\n",
       " 'Delbert tells the truth.',\n",
       " 'Delfina tells the truth.',\n",
       " 'Elanor tells the truth.',\n",
       " 'False.',\n",
       " 'False.\"',\n",
       " 'Inga is a liar.',\n",
       " 'Inga tells the truth.',\n",
       " 'Jamey tells the truth.',\n",
       " 'Jaymie tells the truth.',\n",
       " 'Jim tells the truth.',\n",
       " 'Ka tells the truth.',\n",
       " 'Kandi is a liar.',\n",
       " 'Leda tells the truth.',\n",
       " 'Maybelle tells the truth.',\n",
       " 'Michael tells the truth.',\n",
       " 'Millicent tells the truth.',\n",
       " 'No, Ryan does not tell the truth.',\n",
       " 'No.',\n",
       " None,\n",
       " 'Osvaldo tells the truth.',\n",
       " 'Phoebe tells the truth.',\n",
       " 'Sal does not tell the truth.',\n",
       " 'Shaunda tells the truth.',\n",
       " 'Shenna tells the truth.',\n",
       " 'Sherrie tells the truth.',\n",
       " 'Sima does not tell the truth.',\n",
       " 'Sima tells the truth.',\n",
       " 'Tamika does not tell the truth.',\n",
       " 'True\"',\n",
       " 'True.',\n",
       " 'True.\"',\n",
       " 'Vina tells the truth.',\n",
       " 'Willian tells the truth.',\n",
       " 'Yes, Phoebe is telling the truth.',\n",
       " 'Yes.'}"
      ]
     },
     "execution_count": 228,
     "metadata": {},
     "output_type": "execute_result"
    }
   ],
   "source": [
    "set(dataset[\"answer_pred\"])"
   ]
  },
  {
   "cell_type": "code",
   "execution_count": 240,
   "id": "85d38cc7-4bbe-4324-9c2e-026c370bbf21",
   "metadata": {},
   "outputs": [
    {
     "data": {
      "application/vnd.jupyter.widget-view+json": {
       "model_id": "706fd6799c2744ac82165da0a1515aee",
       "version_major": 2,
       "version_minor": 0
      },
      "text/plain": [
       "Map:   0%|          | 0/250 [00:00<?, ? examples/s]"
      ]
     },
     "metadata": {},
     "output_type": "display_data"
    }
   ],
   "source": [
    "def map_fn(instance):    \n",
    "    return {\n",
    "        \"answer_pred\": instance[\"answer_pred\"].translate(str.maketrans(\"\", \"\", '.,()\"')) if instance[\"answer_pred\"] else None\n",
    "    }\n",
    "\n",
    "new_ds = dataset.map(map_fn, load_from_cache_file=False)"
   ]
  },
  {
   "cell_type": "code",
   "execution_count": 241,
   "id": "f440d335-c145-4731-ac32-15bbc2dd0cd7",
   "metadata": {},
   "outputs": [
    {
     "data": {
      "text/plain": [
       "Dataset({\n",
       "    features: ['input', 'target', 'reasoning_formats', 'selected_modules', 'adapted_modules', 'reasoning_structure', 'reasoning', 'trajectory', 'answer_pred'],\n",
       "    num_rows: 70\n",
       "})"
      ]
     },
     "execution_count": 241,
     "metadata": {},
     "output_type": "execute_result"
    }
   ],
   "source": [
    "none_ds = new_ds.filter(lambda x: x[\"answer_pred\"] == None)\n",
    "none_ds"
   ]
  },
  {
   "cell_type": "code",
   "execution_count": 242,
   "id": "3959a89e-3e55-4fcb-ae91-32540a492c8f",
   "metadata": {},
   "outputs": [
    {
     "data": {
      "text/plain": [
       "{'Alejandro is telling the truth.',\n",
       " 'Alejandro tells the truth',\n",
       " 'Alejandro tells the truth if Inga is lying.',\n",
       " 'Alejandro tells the truth.',\n",
       " 'Alexis tells the truth',\n",
       " 'Alexis tells the truth.',\n",
       " 'Amberly does not tell the truth.',\n",
       " 'Amberly tells the truth',\n",
       " 'Amberly tells the truth.',\n",
       " 'Andree tells the truth',\n",
       " 'Andree tells the truth.',\n",
       " 'Audrie tells the truth.',\n",
       " \"Audrie's truthfulness depends on Willian's truthfulness. If Willian is truthful, then Audrie is truthful. If Willian is lying, then Audrie is lying.\",\n",
       " 'Bernita does not tell the truth.',\n",
       " 'Bernita is telling the truth',\n",
       " 'Christie does not tell the truth',\n",
       " 'Christie does not tell the truth.',\n",
       " 'Christie is telling the truth',\n",
       " 'Christie tells the truth',\n",
       " 'Christie tells the truth.',\n",
       " 'Conception tells the truth',\n",
       " 'Conception tells the truth.',\n",
       " 'Crista tells the truth',\n",
       " 'Dallas tells the truth',\n",
       " 'Dallas tells the truth.',\n",
       " 'Delbert does not tell the truth.',\n",
       " 'Delbert tells the truth',\n",
       " 'Delfina tells the truth',\n",
       " 'Delfina tells the truth.',\n",
       " 'Elanor tells the truth',\n",
       " 'Elanor tells the truth.',\n",
       " 'False',\n",
       " 'Fidel tells the truth.',\n",
       " 'Fletcher does not tell the truth.',\n",
       " 'Fletcher tells the truth.',\n",
       " 'Gwenn does not tell the truth.',\n",
       " 'Gwenn tells the truth.',\n",
       " 'Helene tells the truth if and only if Alexis tells the truth.',\n",
       " 'Helene tells the truth.',\n",
       " 'Inga does not tell the truth.',\n",
       " 'Inga is a liar',\n",
       " 'Inga tells the truth',\n",
       " 'Jamey does not tell the truth.',\n",
       " 'Jamey tells the truth',\n",
       " 'Jaymie tells the truth',\n",
       " 'Jerry tells the truth.',\n",
       " 'Jim tells the truth',\n",
       " 'Ka does not necessarily tell the truth.',\n",
       " 'Ka does not tell the truth.',\n",
       " 'Ka is telling the truth.',\n",
       " 'Ka tells the truth',\n",
       " 'Kandi does not tell the truth.',\n",
       " 'Kandi is a liar',\n",
       " 'Leda does not tell the truth.',\n",
       " 'Leda tells the truth',\n",
       " 'Leda tells the truth.',\n",
       " 'Lorine tells the truth.',\n",
       " 'Maybelle tells the truth',\n",
       " 'Michael tells the truth',\n",
       " 'Michael tells the truth.',\n",
       " 'Michaela does not tell the truth.',\n",
       " 'Michaela tells the truth.',\n",
       " 'Millicent tells the truth',\n",
       " 'Millicent tells the truth.',\n",
       " 'Millie tells the truth.',\n",
       " 'No',\n",
       " 'No Ryan does not tell the truth',\n",
       " 'No, Amberly does not tell the truth.',\n",
       " 'No, Teressa does not tell the truth.',\n",
       " 'Osvaldo tells the truth',\n",
       " 'Phoebe tells the truth',\n",
       " 'Rashida tells the truth.',\n",
       " 'Raymond does not tell the truth.',\n",
       " 'Sal does not tell the truth',\n",
       " 'Sal tells the truth.',\n",
       " 'Shalonda does not tell the truth.',\n",
       " 'Shalonda tells the truth.',\n",
       " 'Shaunda does not tell the truth.',\n",
       " 'Shaunda tells the truth',\n",
       " 'Shaunda tells the truth.',\n",
       " 'Shenna tells the truth',\n",
       " 'Shenna tells the truth.',\n",
       " 'Sherrie tells the truth',\n",
       " 'Sherrie tells the truth.',\n",
       " 'Sima does not tell the truth',\n",
       " 'Sima tells the truth',\n",
       " 'Tamika does not tell the truth',\n",
       " 'Teressa tells the truth.',\n",
       " 'True',\n",
       " 'Vina tells the truth',\n",
       " 'Vina tells the truth if the entire chain of statements is consistent and true.',\n",
       " 'Vina tells the truth.',\n",
       " 'Willian tells the truth',\n",
       " 'Yes',\n",
       " 'Yes Phoebe is telling the truth'}"
      ]
     },
     "execution_count": 242,
     "metadata": {},
     "output_type": "execute_result"
    }
   ],
   "source": [
    "import re\n",
    "def map_fn(instance):\n",
    "    if instance[\"answer_pred\"] == None:\n",
    "        text = \"The final answer is:\"\n",
    "        pattern = fr\"(?<={text}).*\"\n",
    "    \n",
    "        response = instance[\"trajectory\"]\n",
    "    \n",
    "        try:\n",
    "            answer, trajectory = re.search(pattern, response).group(0).strip(), re.sub(pattern, \"\", response).replace(text, \"\").strip()\n",
    "        except:\n",
    "            answer, trajectory = None, response\n",
    "    \n",
    "        return {\n",
    "            \"trajectory\": trajectory,\n",
    "            \"answer_pred\": answer\n",
    "        }\n",
    "\n",
    "    return {\n",
    "        \"trajectory\": instance[\"trajectory\"],\n",
    "        \"answer_pred\": instance[\"answer_pred\"]\n",
    "    }\n",
    "\n",
    "new_ds = new_ds.map(map_fn)\n",
    "set(new_ds[\"answer_pred\"])"
   ]
  },
  {
   "cell_type": "code",
   "execution_count": 243,
   "id": "f02fcdc1-e8bf-4a9b-b908-0ed4addc27f3",
   "metadata": {},
   "outputs": [
    {
     "data": {
      "text/plain": [
       "Dataset({\n",
       "    features: ['input', 'target', 'reasoning_formats', 'selected_modules', 'adapted_modules', 'reasoning_structure', 'reasoning', 'trajectory', 'answer_pred'],\n",
       "    num_rows: 0\n",
       "})"
      ]
     },
     "execution_count": 243,
     "metadata": {},
     "output_type": "execute_result"
    }
   ],
   "source": [
    "none_ds = new_ds.filter(lambda x: x[\"answer_pred\"] == None)\n",
    "none_ds"
   ]
  },
  {
   "cell_type": "code",
   "execution_count": 244,
   "id": "88884cde-e2ff-47b8-b872-48b02e2acadf",
   "metadata": {},
   "outputs": [
    {
     "data": {
      "application/vnd.jupyter.widget-view+json": {
       "model_id": "9dc82b4bb6e04dd7bc7779751b7694b4",
       "version_major": 2,
       "version_minor": 0
      },
      "text/plain": [
       "Map:   0%|          | 0/250 [00:00<?, ? examples/s]"
      ]
     },
     "metadata": {},
     "output_type": "display_data"
    },
    {
     "data": {
      "text/plain": [
       "{'Alejandro is telling the truth',\n",
       " 'Alejandro tells the truth',\n",
       " 'Alejandro tells the truth if Inga is lying',\n",
       " 'Alexis tells the truth',\n",
       " 'Amberly does not tell the truth',\n",
       " 'Amberly tells the truth',\n",
       " 'Andree tells the truth',\n",
       " 'Audrie tells the truth',\n",
       " \"Audrie's truthfulness depends on Willian's truthfulness If Willian is truthful then Audrie is truthful If Willian is lying then Audrie is lying\",\n",
       " 'Bernita does not tell the truth',\n",
       " 'Bernita is telling the truth',\n",
       " 'Christie does not tell the truth',\n",
       " 'Christie is telling the truth',\n",
       " 'Christie tells the truth',\n",
       " 'Conception tells the truth',\n",
       " 'Crista tells the truth',\n",
       " 'Dallas tells the truth',\n",
       " 'Delbert does not tell the truth',\n",
       " 'Delbert tells the truth',\n",
       " 'Delfina tells the truth',\n",
       " 'Elanor tells the truth',\n",
       " 'False',\n",
       " 'Fidel tells the truth',\n",
       " 'Fletcher does not tell the truth',\n",
       " 'Fletcher tells the truth',\n",
       " 'Gwenn does not tell the truth',\n",
       " 'Gwenn tells the truth',\n",
       " 'Helene tells the truth',\n",
       " 'Helene tells the truth if and only if Alexis tells the truth',\n",
       " 'Inga does not tell the truth',\n",
       " 'Inga is a liar',\n",
       " 'Inga tells the truth',\n",
       " 'Jamey does not tell the truth',\n",
       " 'Jamey tells the truth',\n",
       " 'Jaymie tells the truth',\n",
       " 'Jerry tells the truth',\n",
       " 'Jim tells the truth',\n",
       " 'Ka does not necessarily tell the truth',\n",
       " 'Ka does not tell the truth',\n",
       " 'Ka is telling the truth',\n",
       " 'Ka tells the truth',\n",
       " 'Kandi does not tell the truth',\n",
       " 'Kandi is a liar',\n",
       " 'Leda does not tell the truth',\n",
       " 'Leda tells the truth',\n",
       " 'Lorine tells the truth',\n",
       " 'Maybelle tells the truth',\n",
       " 'Michael tells the truth',\n",
       " 'Michaela does not tell the truth',\n",
       " 'Michaela tells the truth',\n",
       " 'Millicent tells the truth',\n",
       " 'Millie tells the truth',\n",
       " 'No',\n",
       " 'No Amberly does not tell the truth',\n",
       " 'No Ryan does not tell the truth',\n",
       " 'No Teressa does not tell the truth',\n",
       " 'Osvaldo tells the truth',\n",
       " 'Phoebe tells the truth',\n",
       " 'Rashida tells the truth',\n",
       " 'Raymond does not tell the truth',\n",
       " 'Sal does not tell the truth',\n",
       " 'Sal tells the truth',\n",
       " 'Shalonda does not tell the truth',\n",
       " 'Shalonda tells the truth',\n",
       " 'Shaunda does not tell the truth',\n",
       " 'Shaunda tells the truth',\n",
       " 'Shenna tells the truth',\n",
       " 'Sherrie tells the truth',\n",
       " 'Sima does not tell the truth',\n",
       " 'Sima tells the truth',\n",
       " 'Tamika does not tell the truth',\n",
       " 'Teressa tells the truth',\n",
       " 'True',\n",
       " 'Vina tells the truth',\n",
       " 'Vina tells the truth if the entire chain of statements is consistent and true',\n",
       " 'Willian tells the truth',\n",
       " 'Yes',\n",
       " 'Yes Phoebe is telling the truth'}"
      ]
     },
     "execution_count": 244,
     "metadata": {},
     "output_type": "execute_result"
    }
   ],
   "source": [
    "def map_fn(instance):    \n",
    "    return {\n",
    "        \"answer_pred\": instance[\"answer_pred\"].translate(str.maketrans(\"\", \"\", '.,()\"')) if instance[\"answer_pred\"] else None\n",
    "    }\n",
    "\n",
    "new_ds = new_ds.map(map_fn, load_from_cache_file=False)\n",
    "set(new_ds[\"answer_pred\"])"
   ]
  },
  {
   "cell_type": "code",
   "execution_count": 245,
   "id": "1c1679ba-9686-4b4a-b877-658fb04d5bed",
   "metadata": {},
   "outputs": [
    {
     "data": {
      "application/vnd.jupyter.widget-view+json": {
       "model_id": "007f341ffd38431f9262462c48716dc8",
       "version_major": 2,
       "version_minor": 0
      },
      "text/plain": [
       "Map:   0%|          | 0/250 [00:00<?, ? examples/s]"
      ]
     },
     "metadata": {},
     "output_type": "display_data"
    },
    {
     "data": {
      "text/plain": [
       "{'Alejandro tells the truth if Inga is lying',\n",
       " \"Audrie's truthfulness depends on Willian's truthfulness If Willian is truthful then Audrie is truthful If Willian is lying then Audrie is lying\",\n",
       " 'Helene tells the truth if and only if Alexis tells the truth',\n",
       " 'Ka does not necessarily tell the truth',\n",
       " 'No',\n",
       " 'Vina tells the truth if the entire chain of statements is consistent and true',\n",
       " 'Yes'}"
      ]
     },
     "execution_count": 245,
     "metadata": {},
     "output_type": "execute_result"
    }
   ],
   "source": [
    "yes_ls = [\n",
    "    'Alejandro is telling the truth',\n",
    "    'Alejandro tells the truth',\n",
    "    'Alexis tells the truth',\n",
    "    'Amberly tells the truth',\n",
    "    'Andree tells the truth',\n",
    "    'Audrie tells the truth',\n",
    "    'Bernita is telling the truth',\n",
    "    'Christie is telling the truth',\n",
    "    'Christie tells the truth',\n",
    "    'Conception tells the truth',\n",
    "    'Crista tells the truth',\n",
    "    'Dallas tells the truth',\n",
    "    'Delbert tells the truth',\n",
    "    'Delfina tells the truth',\n",
    "    'Elanor tells the truth',\n",
    "    'Fidel tells the truth',\n",
    "    'Fletcher tells the truth',\n",
    "    'Gwenn tells the truth',\n",
    "    'Helene tells the truth',\n",
    "    'Inga tells the truth',\n",
    "    'Jamey tells the truth',\n",
    "    'Jaymie tells the truth',\n",
    "    'Jerry tells the truth',\n",
    "    'Jim tells the truth',\n",
    "    'Ka is telling the truth',\n",
    "    'Ka tells the truth',\n",
    "    'Leda tells the truth',\n",
    "    'Lorine tells the truth',\n",
    "    'Maybelle tells the truth',\n",
    "    'Michael tells the truth',\n",
    "    'Michaela tells the truth',\n",
    "    'Millicent tells the truth',\n",
    "    'Millie tells the truth',\n",
    "    'Osvaldo tells the truth',\n",
    "    'Phoebe tells the truth',\n",
    "    'Rashida tells the truth',\n",
    "    'Sal tells the truth',\n",
    "    'Shalonda tells the truth',\n",
    "    'Shaunda tells the truth',\n",
    "    'Shenna tells the truth',\n",
    "    'Sherrie tells the truth',\n",
    "    'Sima tells the truth',\n",
    "    'Teressa tells the truth',\n",
    "    'True',\n",
    "    'Vina tells the truth',\n",
    "    'Willian tells the truth',\n",
    "    'Yes',\n",
    "    'Yes Phoebe is telling the truth'\n",
    "]\n",
    "\n",
    "no_ls = [\n",
    "    'Amberly does not tell the truth',\n",
    "    'Bernita does not tell the truth',\n",
    "    'Christie does not tell the truth',\n",
    "    'Delbert does not tell the truth',\n",
    "    'False',\n",
    "    'Fletcher does not tell the truth',\n",
    "    'Gwenn does not tell the truth',\n",
    "    'Inga does not tell the truth',\n",
    "    'Inga is a liar',\n",
    "    'Jamey does not tell the truth',\n",
    "    'Ka does not tell the truth',\n",
    "    'Kandi does not tell the truth',\n",
    "    'Kandi is a liar',\n",
    "    'Leda does not tell the truth',\n",
    "    'Michaela does not tell the truth',\n",
    "    'No',\n",
    "    'No Amberly does not tell the truth',\n",
    "    'No Ryan does not tell the truth',\n",
    "    'No Teressa does not tell the truth',\n",
    "    'Raymond does not tell the truth',\n",
    "    'Sal does not tell the truth',\n",
    "    'Shalonda does not tell the truth',\n",
    "    'Shaunda does not tell the truth',\n",
    "    'Sima does not tell the truth',\n",
    "    'Tamika does not tell the truth'\n",
    "]\n",
    "\n",
    "indeterminate_ls = [\n",
    "    'Alejandro tells the truth if Inga is lying',\n",
    "    \"Audrie's truthfulness depends on Willian's truthfulness If Willian is truthful then Audrie is truthful If Willian is lying then Audrie is lying\",\n",
    "    'Helene tells the truth if and only if Alexis tells the truth',\n",
    "    'Ka does not necessarily tell the truth',\n",
    "    'Vina tells the truth if the entire chain of statements is consistent and true'\n",
    "]\n",
    "\n",
    "\n",
    "def map_fn(ins):\n",
    "    for yes in yes_ls:\n",
    "        if yes == ins[\"answer_pred\"]:\n",
    "            return {\n",
    "                \"answer_pred\": \"Yes\"\n",
    "            }\n",
    "\n",
    "    for no in no_ls:\n",
    "        if no == ins[\"answer_pred\"]:\n",
    "            return {\n",
    "                \"answer_pred\": \"No\"\n",
    "            }\n",
    "    return {\n",
    "        \"answer_pred\": ins[\"answer_pred\"]\n",
    "    }\n",
    "\n",
    "new_ds = new_ds.map(map_fn)\n",
    "set(new_ds[\"answer_pred\"])"
   ]
  },
  {
   "cell_type": "code",
   "execution_count": 246,
   "id": "19300114-21e5-45e7-8d6f-07f68455c3ef",
   "metadata": {},
   "outputs": [
    {
     "data": {
      "application/vnd.jupyter.widget-view+json": {
       "model_id": "3ba31e3fa47d4c4eb6737e02f9c6cd9f",
       "version_major": 2,
       "version_minor": 0
      },
      "text/plain": [
       "Saving the dataset (0/1 shards):   0%|          | 0/250 [00:00<?, ? examples/s]"
      ]
     },
     "metadata": {},
     "output_type": "display_data"
    }
   ],
   "source": [
    "start_string, end_string = \"non_self_synthesis/bbh/\", \"/bbh_eval\"\n",
    "cat = str(chk_dir)[str(chk_dir).find(start_string) + len(start_string) + 4:str(chk_dir).find(end_string)]\n",
    "new_ds.save_to_disk(os.path.join(save_par_dir, cat))"
   ]
  },
  {
   "cell_type": "code",
   "execution_count": 247,
   "id": "5e141fe7-20bb-4997-ac1d-beb2f13c2b83",
   "metadata": {},
   "outputs": [
    {
     "data": {
      "application/vnd.jupyter.widget-view+json": {
       "model_id": "cc1834ed5d0746c1aa7075b3f0174ab1",
       "version_major": 2,
       "version_minor": 0
      },
      "text/plain": [
       "Filter:   0%|          | 0/250 [00:00<?, ? examples/s]"
      ]
     },
     "metadata": {},
     "output_type": "display_data"
    },
    {
     "data": {
      "text/plain": [
       "0.864"
      ]
     },
     "execution_count": 247,
     "metadata": {},
     "output_type": "execute_result"
    }
   ],
   "source": [
    "corr = new_ds.filter(lambda x: x[\"target\"] == x[\"answer_pred\"])\n",
    "corr.num_rows / new_ds.num_rows"
   ]
  },
  {
   "cell_type": "markdown",
   "id": "1eda62f9-f223-4c31-8dca-9bc3c9869fa1",
   "metadata": {
    "jp-MarkdownHeadingCollapsed": true
   },
   "source": [
    "# word_sorting"
   ]
  },
  {
   "cell_type": "code",
   "execution_count": 248,
   "id": "f19600b8-10d1-4ab4-b337-960bc092c454",
   "metadata": {},
   "outputs": [],
   "source": [
    "chk_dir = here(os.path.join(par_dir, \"bbh-word_sorting/bbh_eval\"))"
   ]
  },
  {
   "cell_type": "code",
   "execution_count": 249,
   "id": "0602cf7b-e30b-4d1c-9cb2-f4cedcfc2155",
   "metadata": {},
   "outputs": [],
   "source": [
    "dataset = Dataset.load_from_disk(chk_dir)"
   ]
  },
  {
   "cell_type": "code",
   "execution_count": 250,
   "id": "0b50e8b9-5058-4c4c-bf95-645d22909893",
   "metadata": {},
   "outputs": [
    {
     "data": {
      "application/vnd.jupyter.widget-view+json": {
       "model_id": "6a83e9080c11490cb59a6627454e3672",
       "version_major": 2,
       "version_minor": 0
      },
      "text/plain": [
       "Map:   0%|          | 0/250 [00:00<?, ? examples/s]"
      ]
     },
     "metadata": {},
     "output_type": "display_data"
    }
   ],
   "source": [
    "def map_fn(instance):    \n",
    "    return {\n",
    "        \"answer_pred\": instance[\"answer_pred\"].translate(str.maketrans(\"\", \"\", '.[]\"')) if instance[\"answer_pred\"] else None\n",
    "    }\n",
    "\n",
    "new_ds = dataset.map(map_fn)"
   ]
  },
  {
   "cell_type": "code",
   "execution_count": 251,
   "id": "55b444b7-ae2e-47e6-b164-d3c31e320a79",
   "metadata": {},
   "outputs": [
    {
     "data": {
      "application/vnd.jupyter.widget-view+json": {
       "model_id": "c72e9c733ea5498bb2679555fecf9443",
       "version_major": 2,
       "version_minor": 0
      },
      "text/plain": [
       "Filter:   0%|          | 0/250 [00:00<?, ? examples/s]"
      ]
     },
     "metadata": {},
     "output_type": "display_data"
    },
    {
     "data": {
      "text/plain": [
       "Dataset({\n",
       "    features: ['input', 'target', 'reasoning_formats', 'selected_modules', 'adapted_modules', 'reasoning_structure', 'reasoning', 'trajectory', 'answer_pred'],\n",
       "    num_rows: 159\n",
       "})"
      ]
     },
     "execution_count": 251,
     "metadata": {},
     "output_type": "execute_result"
    }
   ],
   "source": [
    "none_ds = new_ds.filter(lambda x: x[\"answer_pred\"]==None)\n",
    "none_ds"
   ]
  },
  {
   "cell_type": "code",
   "execution_count": 252,
   "id": "7d565ed8-8cb6-49b8-bee1-2ae1d9d79911",
   "metadata": {},
   "outputs": [
    {
     "data": {
      "application/vnd.jupyter.widget-view+json": {
       "model_id": "3732c076a18241668f759c451ad31084",
       "version_major": 2,
       "version_minor": 0
      },
      "text/plain": [
       "Map:   0%|          | 0/250 [00:00<?, ? examples/s]"
      ]
     },
     "metadata": {},
     "output_type": "display_data"
    }
   ],
   "source": [
    "import re\n",
    "def map_fn(instance):\n",
    "    if instance[\"answer_pred\"] == None:\n",
    "        text = \"The final answer is:\"\n",
    "        pattern = fr\"(?<={text}).*\"\n",
    "    \n",
    "        response = instance[\"trajectory\"]\n",
    "    \n",
    "        try:\n",
    "            answer, trajectory = re.search(pattern, response).group(0).strip(), re.sub(pattern, \"\", response).replace(text, \"\").strip()\n",
    "        except:\n",
    "            answer, trajectory = None, response\n",
    "    \n",
    "        return {\n",
    "            \"trajectory\": trajectory,\n",
    "            \"answer_pred\": answer\n",
    "        }\n",
    "\n",
    "    return {\n",
    "        \"trajectory\": instance[\"trajectory\"],\n",
    "        \"answer_pred\": instance[\"answer_pred\"]\n",
    "    }\n",
    "\n",
    "new_ds = new_ds.map(map_fn)"
   ]
  },
  {
   "cell_type": "code",
   "execution_count": 253,
   "id": "330a5810-9ad7-4865-bd22-a9595d534045",
   "metadata": {},
   "outputs": [
    {
     "data": {
      "application/vnd.jupyter.widget-view+json": {
       "model_id": "9f1092b6a9814b99b3ac460f9db17b8c",
       "version_major": 2,
       "version_minor": 0
      },
      "text/plain": [
       "Filter:   0%|          | 0/250 [00:00<?, ? examples/s]"
      ]
     },
     "metadata": {},
     "output_type": "display_data"
    },
    {
     "data": {
      "text/plain": [
       "Dataset({\n",
       "    features: ['input', 'target', 'reasoning_formats', 'selected_modules', 'adapted_modules', 'reasoning_structure', 'reasoning', 'trajectory', 'answer_pred'],\n",
       "    num_rows: 0\n",
       "})"
      ]
     },
     "execution_count": 253,
     "metadata": {},
     "output_type": "execute_result"
    }
   ],
   "source": [
    "none_ds = new_ds.filter(lambda x: x[\"answer_pred\"]==None)\n",
    "none_ds"
   ]
  },
  {
   "cell_type": "code",
   "execution_count": 254,
   "id": "bf928ad1-1eb3-44fa-a9d6-eaac72c9bbcd",
   "metadata": {},
   "outputs": [
    {
     "data": {
      "text/plain": [
       "'agile blackguard butt clapeyron cognoscenti flamboyant geophysical lift lightfooted manumitted mathieu meager purposive reconnaissance sawbelly scribe seaworthy wiseacre woodcut yves'"
      ]
     },
     "execution_count": 254,
     "metadata": {},
     "output_type": "execute_result"
    }
   ],
   "source": [
    "new_ds[\"target\"][0]"
   ]
  },
  {
   "cell_type": "code",
   "execution_count": 261,
   "id": "d959ee87-1594-4d3c-adb3-5b5114b853c1",
   "metadata": {},
   "outputs": [
    {
     "name": "stdout",
     "output_type": "stream",
     "text": [
      "```json\n",
      "{\n",
      "    \"Step 1: Understand the Task\": {\n",
      "        \"Description\": \"Identify the task as sorting a list of words alphabetically.\",\n",
      "        \"Action\": \"Read and comprehend the task requirements.\"\n",
      "    },\n",
      "    \"Step 2: Simplify the Sorting Task\": {\n",
      "        \"Description\": \"Determine if there are any simplifications that can be made to the sorting process.\",\n",
      "        \"Action\": \"Check for any patterns or groupings that can simplify the task.\"\n",
      "    },\n",
      "    \"Step 3: Break Down the List into Smaller Groups\": {\n",
      "        \"Description\": \"Divide the list into smaller, manageable groups for easier sorting.\",\n",
      "        \"Action\": \"Split the list into smaller sublists.\"\n",
      "    },\n",
      "    \"Step 4: Identify Specific Techniques or Tools\": {\n",
      "        \"Description\": \"Determine if any specific techniques or tools are required for alphabetical sorting.\",\n",
      "        \"Action\": \"Identify and list any necessary techniques or tools.\"\n",
      "    },\n",
      "    \"Step 5: Sort Each Group Alphabetically\": {\n",
      "        \"Description\": \"Sort each smaller group of words alphabetically.\",\n",
      "        \"Action\": \"Apply alphabetical sorting to each sublist.\"\n",
      "    },\n",
      "    \"Step 6: Merge Sorted Groups\": {\n",
      "        \"Description\": \"Combine the sorted smaller groups back into a single sorted list.\",\n",
      "        \"Action\": \"Merge the sorted sublists into one final sorted list.\"\n",
      "    },\n",
      "    \"Step 7: Verify the Final Sorted List\": {\n",
      "        \"Description\": \"Check the final sorted list to ensure it is correctly sorted alphabetically.\",\n",
      "        \"Action\": \"Review the final list to confirm accuracy.\"\n",
      "    },\n",
      "    \"Step 8: Document the Process\": {\n",
      "        \"Description\": \"Document each step of the sorting process with clear notation and explanation.\",\n",
      "        \"Action\": \"Write down the steps and results for future reference.\"\n",
      "    },\n",
      "    \"Is the final list sorted alphabetically\": {\n",
      "        \"Description\": \"Confirm that the final list is sorted alphabetically.\",\n",
      "        \"Action\": \"Check the final list against the original list to ensure correct sorting.\"\n",
      "    }\n",
      "}\n",
      "```\n",
      "\n",
      "### Filled JSON for the Reasoning Structure\n",
      "\n",
      "```json\n",
      "{\n",
      "    \"Step 1: Understand the Task\": {\n",
      "        \"Description\": \"Identify the task as sorting a list of words alphabetically.\",\n",
      "        \"Action\": \"Read and comprehend the task requirements.\"\n",
      "    },\n",
      "    \"Step 2: Simplify the Sorting Task\": {\n",
      "        \"Description\": \"Determine if there are any simplifications that can be made to the sorting process.\",\n",
      "        \"Action\": \"Check for any patterns or groupings that can simplify the task.\"\n",
      "    },\n",
      "    \"Step 3: Break Down the List into Smaller Groups\": {\n",
      "        \"Description\": \"Divide the list into smaller, manageable groups for easier sorting.\",\n",
      "        \"Action\": \"Split the list into smaller sublists.\"\n",
      "    },\n",
      "    \"Step 4: Identify Specific Techniques or Tools\": {\n",
      "        \"Description\": \"Determine if any specific techniques or tools are required for alphabetical sorting.\",\n",
      "        \"Action\": \"Identify and list any necessary techniques or tools.\"\n",
      "    },\n",
      "    \"Step 5: Sort Each Group Alphabetically\": {\n",
      "        \"Description\": \"Sort each smaller group of words alphabetically.\",\n",
      "        \"Action\": \"Apply alphabetical sorting to each sublist.\"\n",
      "    },\n",
      "    \"Step 6: Merge Sorted Groups\": {\n",
      "        \"Description\": \"Combine the sorted smaller groups back into a single sorted list.\",\n",
      "        \"Action\": \"Merge the sorted sublists into one final sorted list.\"\n",
      "    },\n",
      "    \"Step 7: Verify the Final Sorted List\": {\n",
      "        \"Description\": \"Check the final sorted list to ensure it is correctly sorted alphabetically.\",\n",
      "        \"Action\": \"Review the final list to confirm accuracy.\"\n",
      "    },\n",
      "    \"Step 8: Document the Process\": {\n",
      "        \"Description\": \"Document each step of the sorting process with clear notation and explanation.\",\n",
      "        \"Action\": \"Write down the steps and results for future reference.\"\n",
      "    },\n",
      "    \"Is the final list sorted alphabetically\": {\n",
      "        \"Description\": \"Confirm that the final list is sorted alphabetically.\",\n",
      "        \"Action\": \"Check the final list against the original list to ensure correct sorting.\"\n",
      "    }\n",
      "}\n",
      "```\n",
      "\n",
      "### Final Answer\n",
      "\n",
      "\n",
      "```\n",
      "battery, bushland, capacitive, contingent, crossbill, enigma, jane, lipton, meager, ricochet, wallet, wacke, wysiwyg\n",
      "```\n"
     ]
    }
   ],
   "source": [
    "print(new_ds[\"trajectory\"][3])"
   ]
  },
  {
   "cell_type": "code",
   "execution_count": 262,
   "id": "8a1dbd64-3f2f-43da-83dc-c963a4e3353a",
   "metadata": {},
   "outputs": [
    {
     "data": {
      "application/vnd.jupyter.widget-view+json": {
       "model_id": "032c1dada0b44f4a9c40694b515806ea",
       "version_major": 2,
       "version_minor": 0
      },
      "text/plain": [
       "Filter:   0%|          | 0/250 [00:00<?, ? examples/s]"
      ]
     },
     "metadata": {},
     "output_type": "display_data"
    },
    {
     "data": {
      "text/plain": [
       "Dataset({\n",
       "    features: ['input', 'target', 'reasoning_formats', 'selected_modules', 'adapted_modules', 'reasoning_structure', 'reasoning', 'trajectory', 'answer_pred'],\n",
       "    num_rows: 44\n",
       "})"
      ]
     },
     "execution_count": 262,
     "metadata": {},
     "output_type": "execute_result"
    }
   ],
   "source": [
    "blank_ds = new_ds.filter(lambda x: x[\"answer_pred\"] == \"\")\n",
    "blank_ds"
   ]
  },
  {
   "cell_type": "code",
   "execution_count": 267,
   "id": "35323fc9-53e0-466a-a393-d21e45a506ad",
   "metadata": {},
   "outputs": [
    {
     "name": "stdout",
     "output_type": "stream",
     "text": [
      "```json\n",
      "{\n",
      "    \"Step 1: List of Words\": {\n",
      "        \"description\": \"Identify the list of words to be sorted.\",\n",
      "        \"words\": [\n",
      "            \"sideboard\",\n",
      "            \"procrustean\",\n",
      "            \"seepage\",\n",
      "            \"buxton\",\n",
      "            \"olympic\",\n",
      "            \"tty\",\n",
      "            \"typescript\",\n",
      "            \"marque\",\n",
      "            \"callus\",\n",
      "            \"unitary\",\n",
      "            \"cameron\",\n",
      "            \"contribute\",\n",
      "            \"precise\",\n",
      "            \"verify\",\n",
      "            \"shelf\",\n",
      "            \"extensible\",\n",
      "            \"methanol\"\n",
      "        ]\n",
      "    },\n",
      "    \"Step 2: Generate List of Sorting Methods\": {\n",
      "        \"description\": \"Generate a list of sorting methods that can be applied.\",\n",
      "        \"sorting_methods\": [\n",
      "            \"Bubble Sort\",\n",
      "            \"Quick Sort\",\n",
      "            \"Merge Sort\",\n",
      "            \"Insertion Sort\",\n",
      "            \"Selection Sort\"\n",
      "        ]\n",
      "    },\n",
      "    \"Step 3: Simplify the Sorting Process\": {\n",
      "        \"description\": \"Simplify the sorting process by choosing an effective sorting method.\",\n",
      "        \"chosen_method\": \"Merge Sort\"\n",
      "    },\n",
      "    \"Step 4: Break Down the List into Smaller Groups\": {\n",
      "        \"description\": \"Break down the list of words into smaller groups to facilitate sorting.\",\n",
      "        \"groups\": [\n",
      "            [\"sideboard\", \"procrustean\", \"seepage\", \"buxton\"],\n",
      "            [\"olympic\", \"tty\", \"typescript\", \"marque\"],\n",
      "            [\"callus\", \"unitary\", \"cameron\", \"contribute\"],\n",
      "            [\"precise\", \"verify\", \"shelf\", \"extensible\", \"methanol\"]\n",
      "        ]\n",
      "    },\n",
      "    \"Step 5: Apply Sorting Algorithm\": {\n",
      "        \"description\": \"Apply the chosen sorting algorithm to each group.\",\n",
      "        \"sorted_groups\": [\n",
      "            {\n",
      "                \"group\": [\"sideboard\", \"procrustean\", \"seepage\", \"buxton\"],\n",
      "                \"sorted\": [\"buxton\", \"procrustean\", \"seepage\", \"sideboard\"]\n",
      "            },\n",
      "            {\n",
      "                \"group\": [\"olympic\", \"tty\", \"typescript\", \"marque\"],\n",
      "                \"sorted\": [\"marque\", \"olympic\", \"tty\", \"typescript\"]\n",
      "            },\n",
      "            {\n",
      "                \"group\": [\"callus\", \"unitary\", \"cameron\", \"contribute\"],\n",
      "                \"sorted\": [\"callus\", \"cameron\", \"contribute\", \"unitary\"]\n",
      "            },\n",
      "            {\n",
      "                \"group\": [\"precise\", \"verify\", \"shelf\", \"extensible\", \"methanol\"],\n",
      "                \"sorted\": [\"extensible\", \"methanol\", \"precise\", \"shelf\", \"verify\"]\n",
      "            }\n",
      "        ]\n",
      "    },\n",
      "    \"Step 6: Merge Sorted Groups\": {\n",
      "        \"description\": \"Merge the sorted groups into a single sorted list.\",\n",
      "        \"final_sorted_list\": [\n",
      "            \"buxton\",\n",
      "            \"procrustean\",\n",
      "            \"seepage\",\n",
      "            \"sideboard\",\n",
      "            \"marque\",\n",
      "            \"olympic\",\n",
      "            \"tty\",\n",
      "            \"typescript\",\n",
      "            \"callus\",\n",
      "            \"cameron\",\n",
      "            \"contribute\",\n",
      "            \"unitary\",\n",
      "            \"extensible\",\n",
      "            \"methanol\",\n",
      "            \"precise\",\n",
      "            \"shelf\",\n",
      "            \"verify\"\n",
      "        ]\n",
      "    },\n",
      "    \"Step 7: Verify the Sorted List\": {\n",
      "        \"description\": \"Verify that the final sorted list is in alphabetical order.\",\n",
      "        \"is_sorted\": true\n",
      "    }\n",
      "}\n",
      "```\n",
      "\n",
      "\n",
      "```json\n",
      "[\n",
      "    \"buxton\",\n",
      "    \"procrustean\",\n",
      "    \"seepage\",\n",
      "    \"sideboard\",\n",
      "    \"marque\",\n",
      "    \"olympic\",\n",
      "    \"tty\",\n",
      "    \"typescript\",\n",
      "    \"callus\",\n",
      "    \"cameron\",\n",
      "    \"contribute\",\n",
      "    \"unitary\",\n",
      "    \"extensible\",\n",
      "    \"methanol\",\n",
      "    \"precise\",\n",
      "    \"shelf\",\n",
      "    \"verify\"\n",
      "]\n",
      "```\n"
     ]
    }
   ],
   "source": [
    "print(blank_ds[4][\"trajectory\"])"
   ]
  },
  {
   "cell_type": "code",
   "execution_count": 287,
   "id": "eb9a27e3-f93a-42cf-a946-279fb1bf2bf0",
   "metadata": {},
   "outputs": [
    {
     "data": {
      "application/vnd.jupyter.widget-view+json": {
       "model_id": "d200180292b44b6881eaf7cfd25ed4be",
       "version_major": 2,
       "version_minor": 0
      },
      "text/plain": [
       "Map:   0%|          | 0/250 [00:00<?, ? examples/s]"
      ]
     },
     "metadata": {},
     "output_type": "display_data"
    }
   ],
   "source": [
    "import re\n",
    "def map_fn(ins):\n",
    "    if ins[\"answer_pred\"] == \"\":\n",
    "        match_string = r\"\"\"```(.*?)\n",
    "(.*?)\n",
    "```\"\"\"\n",
    "        matches = re.findall(match_string, ins[\"trajectory\"], re.DOTALL)\n",
    "\n",
    "        if matches:\n",
    "            if \"Step\" not in matches[-1][1]:\n",
    "                wsl = matches[-1][1].translate(str.maketrans(\"\", \"\", '\\n.[]\"'))\n",
    "                wsl_spl = wsl.split(\",\") if len(wsl.split(\",\")) > 0 else wsl.split(\" \")\n",
    "\n",
    "                wsl_str = \" \".join([word.strip() for word in wsl_spl])\n",
    "                return {\n",
    "                    \"answer_pred\": (wsl_str.replace(\"Sorted List:\", \"\").replace(\"{\", \"\").replace(\"}\", \"\").strip())\n",
    "                }\n",
    "                \n",
    "\n",
    "    return {\n",
    "        \"answer_pred\": ins[\"answer_pred\"]\n",
    "    }\n",
    "\n",
    "new_ds = new_ds.map(map_fn)"
   ]
  },
  {
   "cell_type": "code",
   "execution_count": 288,
   "id": "1105e66f-316c-4c34-a641-99f221e01b3c",
   "metadata": {},
   "outputs": [
    {
     "data": {
      "application/vnd.jupyter.widget-view+json": {
       "model_id": "3d8c2739826242db88e72188399e5b4f",
       "version_major": 2,
       "version_minor": 0
      },
      "text/plain": [
       "Filter:   0%|          | 0/250 [00:00<?, ? examples/s]"
      ]
     },
     "metadata": {},
     "output_type": "display_data"
    },
    {
     "data": {
      "text/plain": [
       "Dataset({\n",
       "    features: ['input', 'target', 'reasoning_formats', 'selected_modules', 'adapted_modules', 'reasoning_structure', 'reasoning', 'trajectory', 'answer_pred'],\n",
       "    num_rows: 23\n",
       "})"
      ]
     },
     "execution_count": 288,
     "metadata": {},
     "output_type": "execute_result"
    }
   ],
   "source": [
    "blank_ds = new_ds.filter(lambda x: x[\"answer_pred\"] == \"\")\n",
    "blank_ds"
   ]
  },
  {
   "cell_type": "code",
   "execution_count": 290,
   "id": "2cf24153-8b54-4225-b0ba-f508ea7d123c",
   "metadata": {},
   "outputs": [
    {
     "data": {
      "application/vnd.jupyter.widget-view+json": {
       "model_id": "478637ef50594b6bb3d298f8ea51abd5",
       "version_major": 2,
       "version_minor": 0
      },
      "text/plain": [
       "Filter:   0%|          | 0/250 [00:00<?, ? examples/s]"
      ]
     },
     "metadata": {},
     "output_type": "display_data"
    },
    {
     "data": {
      "text/plain": [
       "Dataset({\n",
       "    features: ['input', 'target', 'reasoning_formats', 'selected_modules', 'adapted_modules', 'reasoning_structure', 'reasoning', 'trajectory', 'answer_pred'],\n",
       "    num_rows: 227\n",
       "})"
      ]
     },
     "execution_count": 290,
     "metadata": {},
     "output_type": "execute_result"
    }
   ],
   "source": [
    "non_blank_ds = new_ds.filter(lambda x: x[\"answer_pred\"] != \"\")\n",
    "non_blank_ds"
   ]
  },
  {
   "cell_type": "code",
   "execution_count": 289,
   "id": "3dba8d9d-ca97-4746-ac8a-17eb996bf5e8",
   "metadata": {},
   "outputs": [
    {
     "data": {
      "application/vnd.jupyter.widget-view+json": {
       "model_id": "83ba5d2006cb4ba08cb247642a04fb71",
       "version_major": 2,
       "version_minor": 0
      },
      "text/plain": [
       "Creating CSV from Arrow format:   0%|          | 0/1 [00:00<?, ?ba/s]"
      ]
     },
     "metadata": {},
     "output_type": "display_data"
    },
    {
     "data": {
      "text/plain": [
       "270067"
      ]
     },
     "execution_count": 289,
     "metadata": {},
     "output_type": "execute_result"
    }
   ],
   "source": [
    "blank_ds.to_csv(\"./bbh_word_sorting_blank.csv\")"
   ]
  },
  {
   "cell_type": "code",
   "execution_count": 292,
   "id": "3504ca93-ce1d-4d9d-9738-6705342281ee",
   "metadata": {},
   "outputs": [
    {
     "data": {
      "text/plain": [
       "Dataset({\n",
       "    features: ['input', 'target', 'reasoning_formats', 'selected_modules', 'adapted_modules', 'reasoning_structure', 'reasoning', 'trajectory', 'answer_pred', 'id', 'answer_pred_ann', 'annotator', 'annotation_id', 'created_at', 'updated_at', 'lead_time'],\n",
       "    num_rows: 23\n",
       "})"
      ]
     },
     "execution_count": 292,
     "metadata": {},
     "output_type": "execute_result"
    }
   ],
   "source": [
    "import json\n",
    "file_name = \"./project-4-at-2024-11-07-09-08-1040c6e0.json\"\n",
    "with open(file_name, \"r\") as f:\n",
    "    blank_ds_ann = Dataset.from_list(json.load(f))\n",
    "\n",
    "blank_ds_ann"
   ]
  },
  {
   "cell_type": "code",
   "execution_count": 294,
   "id": "ec54f7d7-4042-45a3-9e03-2ad9e2f92c92",
   "metadata": {},
   "outputs": [
    {
     "data": {
      "application/vnd.jupyter.widget-view+json": {
       "model_id": "e164b30068a04c04bbaa05db7f8eb2c8",
       "version_major": 2,
       "version_minor": 0
      },
      "text/plain": [
       "Map:   0%|          | 0/23 [00:00<?, ? examples/s]"
      ]
     },
     "metadata": {},
     "output_type": "display_data"
    }
   ],
   "source": [
    "def map_fn(ins):\n",
    "    return {\n",
    "        \"answer_pred\": ins[\"answer_pred_ann\"]\n",
    "    }\n",
    "\n",
    "blank_ds = blank_ds_ann.map(map_fn, remove_columns=['id', 'answer_pred_ann', 'annotator', 'annotation_id', 'created_at', 'updated_at', 'lead_time'])"
   ]
  },
  {
   "cell_type": "code",
   "execution_count": 296,
   "id": "01076530-ca00-4056-af7f-c5c5daeb9086",
   "metadata": {},
   "outputs": [
    {
     "data": {
      "text/plain": [
       "'allot chauncey clergymen coddington coachmen companion embark fatten gazpacho granular hobble muslim murk niggle pvc pristine singlet threefold too yeats'"
      ]
     },
     "execution_count": 296,
     "metadata": {},
     "output_type": "execute_result"
    }
   ],
   "source": [
    "blank_ds[5][\"answer_pred\"]"
   ]
  },
  {
   "cell_type": "code",
   "execution_count": 298,
   "id": "7e3aa717-ac8c-483a-b90e-ae459795a05d",
   "metadata": {},
   "outputs": [
    {
     "data": {
      "text/plain": [
       "Dataset({\n",
       "    features: ['input', 'target', 'reasoning_formats', 'selected_modules', 'adapted_modules', 'reasoning_structure', 'reasoning', 'trajectory', 'answer_pred'],\n",
       "    num_rows: 250\n",
       "})"
      ]
     },
     "execution_count": 298,
     "metadata": {},
     "output_type": "execute_result"
    }
   ],
   "source": [
    "from datasets import concatenate_datasets\n",
    "\n",
    "new_ds = concatenate_datasets([non_blank_ds, blank_ds])\n",
    "new_ds"
   ]
  },
  {
   "cell_type": "code",
   "execution_count": 315,
   "id": "5ce0fe75-f007-468b-b577-6296a64706ff",
   "metadata": {},
   "outputs": [
    {
     "data": {
      "application/vnd.jupyter.widget-view+json": {
       "model_id": "3bdc5a3a89e5429ba46ba02e2437e7f0",
       "version_major": 2,
       "version_minor": 0
      },
      "text/plain": [
       "Map:   0%|          | 0/250 [00:00<?, ? examples/s]"
      ]
     },
     "metadata": {},
     "output_type": "display_data"
    }
   ],
   "source": [
    "def map_fn(ins):\n",
    "    return {\n",
    "        \"answer_pred\": ins[\"answer_pred\"].replace(\",\", \"\").replace(\".\", \"\").replace(\"[\", \"\").replace(\"]\", \"\")\n",
    "    }\n",
    "\n",
    "new_ds = new_ds.map(map_fn)"
   ]
  },
  {
   "cell_type": "code",
   "execution_count": 321,
   "id": "070392e1-4ca6-4794-854e-43b9fad65ab8",
   "metadata": {},
   "outputs": [
    {
     "data": {
      "application/vnd.jupyter.widget-view+json": {
       "model_id": "e5c10c248454444eb1da9fb32bea6580",
       "version_major": 2,
       "version_minor": 0
      },
      "text/plain": [
       "Saving the dataset (0/1 shards):   0%|          | 0/250 [00:00<?, ? examples/s]"
      ]
     },
     "metadata": {},
     "output_type": "display_data"
    }
   ],
   "source": [
    "start_string, end_string = \"non_self_synthesis/bbh/\", \"/bbh_eval\"\n",
    "cat = str(chk_dir)[str(chk_dir).find(start_string) + len(start_string) + 4:str(chk_dir).find(end_string)]\n",
    "new_ds.save_to_disk(os.path.join(save_par_dir, cat))"
   ]
  },
  {
   "cell_type": "code",
   "execution_count": 316,
   "id": "9322fe15-97e4-4874-b2b3-3276bec9bcc8",
   "metadata": {},
   "outputs": [
    {
     "data": {
      "application/vnd.jupyter.widget-view+json": {
       "model_id": "2b3d06999d9d4fd1b06263a174ba063c",
       "version_major": 2,
       "version_minor": 0
      },
      "text/plain": [
       "Filter:   0%|          | 0/250 [00:00<?, ? examples/s]"
      ]
     },
     "metadata": {},
     "output_type": "display_data"
    },
    {
     "data": {
      "text/plain": [
       "0.728"
      ]
     },
     "execution_count": 316,
     "metadata": {},
     "output_type": "execute_result"
    }
   ],
   "source": [
    "corr = new_ds.filter(lambda x: x[\"target\"].lower() == x[\"answer_pred\"].lower())\n",
    "corr.num_rows / new_ds.num_rows"
   ]
  },
  {
   "cell_type": "code",
   "execution_count": 317,
   "id": "f3bb4297-87c7-4eff-b2f8-204b78377a68",
   "metadata": {},
   "outputs": [
    {
     "data": {
      "application/vnd.jupyter.widget-view+json": {
       "model_id": "35c4e7e3966e4cdc8a989693cce6fce2",
       "version_major": 2,
       "version_minor": 0
      },
      "text/plain": [
       "Filter:   0%|          | 0/250 [00:00<?, ? examples/s]"
      ]
     },
     "metadata": {},
     "output_type": "display_data"
    },
    {
     "data": {
      "text/plain": [
       "Dataset({\n",
       "    features: ['input', 'target', 'reasoning_formats', 'selected_modules', 'adapted_modules', 'reasoning_structure', 'reasoning', 'trajectory', 'answer_pred'],\n",
       "    num_rows: 68\n",
       "})"
      ]
     },
     "execution_count": 317,
     "metadata": {},
     "output_type": "execute_result"
    }
   ],
   "source": [
    "wro = new_ds.filter(lambda x: x[\"target\"].lower() != x[\"answer_pred\"].lower())\n",
    "wro"
   ]
  },
  {
   "cell_type": "code",
   "execution_count": 320,
   "id": "2878a31d-9270-4990-9a90-aad6cac20f0e",
   "metadata": {},
   "outputs": [
    {
     "name": "stdout",
     "output_type": "stream",
     "text": [
      "allotted fate figural gorky grapple hydroxyl knives neapolitan nerve plainfield rampage saxon scottish scrumptious seventeen sidereal siena stooge thermal yakima\n",
      "allotted fate figural gorky grapple hydroxyl knives neapolitan nerve plainfield rampage saxon scottish scrumptious siena sidereal seventeen stooge thermal yakima\n"
     ]
    }
   ],
   "source": [
    "index = 15\n",
    "print(wro[index][\"target\"])\n",
    "print(wro[index][\"answer_pred\"])"
   ]
  },
  {
   "cell_type": "markdown",
   "id": "f4d3ed3a-991a-4e55-9c18-b5e0464c799c",
   "metadata": {
    "jp-MarkdownHeadingCollapsed": true
   },
   "source": [
    "# multistep_arithmetic_two"
   ]
  },
  {
   "cell_type": "code",
   "execution_count": 3,
   "id": "deef90b6-1ce8-461b-a5d2-81740edfbc83",
   "metadata": {},
   "outputs": [],
   "source": [
    "chk_dir = here(os.path.join(par_dir, \"bbh-multistep_arithmetic_two/bbh_eval\"))"
   ]
  },
  {
   "cell_type": "code",
   "execution_count": 4,
   "id": "20d3cfd8-597d-4960-af11-1bc0b15e5af6",
   "metadata": {},
   "outputs": [],
   "source": [
    "dataset = Dataset.load_from_disk(chk_dir)"
   ]
  },
  {
   "cell_type": "code",
   "execution_count": 6,
   "id": "7ceabbfa-0cdd-4e5a-b7ae-249d87d9ba6c",
   "metadata": {
    "scrolled": true
   },
   "outputs": [
    {
     "data": {
      "application/vnd.jupyter.widget-view+json": {
       "model_id": "4317c4c7f6f64585b92b5ff3df79ff53",
       "version_major": 2,
       "version_minor": 0
      },
      "text/plain": [
       "Map:   0%|          | 0/250 [00:00<?, ? examples/s]"
      ]
     },
     "metadata": {},
     "output_type": "display_data"
    },
    {
     "data": {
      "text/plain": [
       "{'-1',\n",
       " '-10',\n",
       " '-1008',\n",
       " '-11',\n",
       " '-110',\n",
       " '-113',\n",
       " '-114',\n",
       " '-11520',\n",
       " '-13',\n",
       " '-1300',\n",
       " '-1343',\n",
       " '-14',\n",
       " '-144',\n",
       " '-147',\n",
       " '-15',\n",
       " '-151',\n",
       " '-16',\n",
       " '-160',\n",
       " '-168',\n",
       " '-169',\n",
       " '-17',\n",
       " '-170',\n",
       " '-18',\n",
       " '-19',\n",
       " '-192',\n",
       " '-196',\n",
       " '-1960',\n",
       " '-1968',\n",
       " '-2',\n",
       " '-20',\n",
       " '-21',\n",
       " '-2146',\n",
       " '-217',\n",
       " '-22',\n",
       " '-224',\n",
       " '-23',\n",
       " '-24',\n",
       " '-25',\n",
       " '-26',\n",
       " '-262',\n",
       " '-264',\n",
       " '-3',\n",
       " '-30',\n",
       " '-3136',\n",
       " '-316',\n",
       " '-32',\n",
       " '-320',\n",
       " '-3225',\n",
       " '-33',\n",
       " '-330',\n",
       " '-340',\n",
       " '-3400',\n",
       " '-35',\n",
       " '-37',\n",
       " '-38',\n",
       " '-3850',\n",
       " '-39',\n",
       " '-391',\n",
       " '-4',\n",
       " '-43',\n",
       " '-45',\n",
       " '-46',\n",
       " '-47',\n",
       " '-48',\n",
       " '-5',\n",
       " '-50',\n",
       " '-51',\n",
       " '-52',\n",
       " '-5453',\n",
       " '-55',\n",
       " '-554',\n",
       " '-57',\n",
       " '-6',\n",
       " '-60',\n",
       " '-61',\n",
       " '-658',\n",
       " '-7',\n",
       " '-76',\n",
       " '-8',\n",
       " '-80',\n",
       " '-80080',\n",
       " '-81',\n",
       " '-83',\n",
       " '-8304',\n",
       " '-84',\n",
       " '-9',\n",
       " '-90',\n",
       " '-92',\n",
       " '-97',\n",
       " '-99',\n",
       " '0',\n",
       " '107',\n",
       " '11',\n",
       " '11050',\n",
       " '1168',\n",
       " '12',\n",
       " '120',\n",
       " '123',\n",
       " '137',\n",
       " '14',\n",
       " '15',\n",
       " '151',\n",
       " '16',\n",
       " '1608',\n",
       " '17',\n",
       " '176',\n",
       " '18',\n",
       " '181',\n",
       " '198',\n",
       " '1980',\n",
       " '2',\n",
       " '20',\n",
       " '21',\n",
       " '211',\n",
       " '216',\n",
       " '220',\n",
       " '23',\n",
       " '237',\n",
       " '24',\n",
       " '242',\n",
       " '25',\n",
       " '250752',\n",
       " '26',\n",
       " '2652',\n",
       " '27',\n",
       " '3',\n",
       " '30',\n",
       " '31',\n",
       " '312',\n",
       " '32',\n",
       " '329',\n",
       " '33',\n",
       " '330',\n",
       " '34',\n",
       " '342',\n",
       " '3420',\n",
       " '346',\n",
       " '35',\n",
       " '36',\n",
       " '360',\n",
       " '365',\n",
       " '37',\n",
       " '38',\n",
       " '38556',\n",
       " '4',\n",
       " '40',\n",
       " '41',\n",
       " '416',\n",
       " '42',\n",
       " '44',\n",
       " '45',\n",
       " '464',\n",
       " '474',\n",
       " '48',\n",
       " '5',\n",
       " '52',\n",
       " '522',\n",
       " '54',\n",
       " '55',\n",
       " '57',\n",
       " '58',\n",
       " '59',\n",
       " '60',\n",
       " '624',\n",
       " '63',\n",
       " '630',\n",
       " '65',\n",
       " '7',\n",
       " '70',\n",
       " '702',\n",
       " '7056',\n",
       " '71',\n",
       " '72',\n",
       " '76',\n",
       " '78',\n",
       " '8',\n",
       " '80',\n",
       " '82',\n",
       " '83',\n",
       " '84',\n",
       " '8632',\n",
       " '867',\n",
       " '88',\n",
       " '89',\n",
       " '94',\n",
       " '976',\n",
       " 'correct'}"
      ]
     },
     "execution_count": 6,
     "metadata": {},
     "output_type": "execute_result"
    }
   ],
   "source": [
    "def map_fn(instance):    \n",
    "    return {\n",
    "        \"answer_pred\": instance[\"answer_pred\"].translate(str.maketrans(\"\", \"\", '.[]`\"')) if instance[\"answer_pred\"] else None\n",
    "    }\n",
    "\n",
    "new_ds = dataset.map(map_fn)\n",
    "set(new_ds[\"answer_pred\"])"
   ]
  },
  {
   "cell_type": "code",
   "execution_count": 325,
   "id": "bda52d3d-275b-4cd5-9064-7af5556e0c7b",
   "metadata": {},
   "outputs": [
    {
     "data": {
      "application/vnd.jupyter.widget-view+json": {
       "model_id": "a7c5fbb3fe4d4602bb5396f2278c4d32",
       "version_major": 2,
       "version_minor": 0
      },
      "text/plain": [
       "Filter:   0%|          | 0/250 [00:00<?, ? examples/s]"
      ]
     },
     "metadata": {},
     "output_type": "display_data"
    },
    {
     "data": {
      "text/plain": [
       "Dataset({\n",
       "    features: ['input', 'target', 'reasoning_formats', 'selected_modules', 'adapted_modules', 'reasoning_structure', 'reasoning', 'trajectory', 'answer_pred'],\n",
       "    num_rows: 1\n",
       "})"
      ]
     },
     "execution_count": 325,
     "metadata": {},
     "output_type": "execute_result"
    }
   ],
   "source": [
    "non_num_ds = new_ds.filter(lambda x: x[\"answer_pred\"] == \"correct\")\n",
    "non_num_ds"
   ]
  },
  {
   "cell_type": "code",
   "execution_count": 327,
   "id": "790ee42a-3202-4b16-90bc-19a47e7fac26",
   "metadata": {},
   "outputs": [
    {
     "name": "stdout",
     "output_type": "stream",
     "text": [
      "```json\n",
      "{\n",
      "    \"Step 1: Simplify the innermost parentheses\": {\n",
      "        \"Expression\": \"((5 - 7 - 8 - 6) * (-2 * -8 * -9 + 4))\",\n",
      "        \"Focus\": \"Simplify (5 - 7 - 8 - 6)\",\n",
      "        \"Result\": \"-16\"\n",
      "    },\n",
      "    \"Step 2: Simplify the next set of parentheses\": {\n",
      "        \"Expression\": \"(-2 * -8 * -9 + 4)\",\n",
      "        \"Focus\": \"Simplify (-2 * -8 * -9 + 4)\",\n",
      "        \"Result\": \"-140\"\n",
      "    },\n",
      "    \"Step 3: Multiply the simplified values\": {\n",
      "        \"Expression\": \"-16 * -140\",\n",
      "        \"Focus\": \"Multiply the two simplified values\",\n",
      "        \"Result\": \"2240\"\n",
      "    },\n",
      "    \"Step 4: Verify the order of operations (PEMDAS/BODMAS)\": {\n",
      "        \"Expression\": \"((5 - 7 - 8 - 6) * (-2 * -8 * -9 + 4))\",\n",
      "        \"Focus\": \"Ensure the order of operations is followed correctly\",\n",
      "        \"Result\": \"Order of operations is correct\"\n",
      "    },\n",
      "    \"Step 5: Final calculation\": {\n",
      "        \"Expression\": \"2240\",\n",
      "        \"Focus\": \"Perform the final calculation\",\n",
      "        \"Result\": \"2240\"\n",
      "    },\n",
      "    \"Is the final answer correct\": {\n",
      "        \"Focus\": \"Verify the final answer by re-evaluating the original expression\",\n",
      "        \"Result\": \"\n",
      "    }\n",
      "}\n",
      "```\n"
     ]
    }
   ],
   "source": [
    "print(non_num_ds[0][\"trajectory\"])"
   ]
  },
  {
   "cell_type": "code",
   "execution_count": 7,
   "id": "9b8a661b-d943-45b3-baae-085928896d04",
   "metadata": {},
   "outputs": [
    {
     "data": {
      "application/vnd.jupyter.widget-view+json": {
       "model_id": "5bba1e4d978d4ea69dd1a080345e800b",
       "version_major": 2,
       "version_minor": 0
      },
      "text/plain": [
       "Map:   0%|          | 0/250 [00:00<?, ? examples/s]"
      ]
     },
     "metadata": {},
     "output_type": "display_data"
    }
   ],
   "source": [
    "def map_fn(ins):\n",
    "    if ins[\"answer_pred\"] == \"correct\":\n",
    "        return {\n",
    "            \"answer_pred\": \"2240\"\n",
    "        }\n",
    "\n",
    "    return {\n",
    "        \"answer_pred\": ins[\"answer_pred\"]\n",
    "    }\n",
    "    \n",
    "\n",
    "new_ds = new_ds.map(map_fn)"
   ]
  },
  {
   "cell_type": "code",
   "execution_count": 8,
   "id": "3587f8fe-81a8-4e86-9857-adc3929fdef0",
   "metadata": {},
   "outputs": [
    {
     "data": {
      "application/vnd.jupyter.widget-view+json": {
       "model_id": "d8ce91d3517740adbcb0b731ebfbb54a",
       "version_major": 2,
       "version_minor": 0
      },
      "text/plain": [
       "Filter:   0%|          | 0/250 [00:00<?, ? examples/s]"
      ]
     },
     "metadata": {},
     "output_type": "display_data"
    },
    {
     "data": {
      "text/plain": [
       "0.848"
      ]
     },
     "execution_count": 8,
     "metadata": {},
     "output_type": "execute_result"
    }
   ],
   "source": [
    "corr = new_ds.filter(lambda x: x[\"target\"] == x[\"answer_pred\"])\n",
    "corr.num_rows / new_ds.num_rows"
   ]
  },
  {
   "cell_type": "code",
   "execution_count": 9,
   "id": "9fbd67b3-0132-45fa-b501-1bce5c4eeef9",
   "metadata": {},
   "outputs": [
    {
     "data": {
      "application/vnd.jupyter.widget-view+json": {
       "model_id": "2e7e25e806fd40529f0e274cb8219ad6",
       "version_major": 2,
       "version_minor": 0
      },
      "text/plain": [
       "Saving the dataset (0/1 shards):   0%|          | 0/250 [00:00<?, ? examples/s]"
      ]
     },
     "metadata": {},
     "output_type": "display_data"
    }
   ],
   "source": [
    "start_string, end_string = \"non_self_synthesis/bbh/\", \"/bbh_eval\"\n",
    "cat = str(chk_dir)[str(chk_dir).find(start_string) + len(start_string) + 4:str(chk_dir).find(end_string)]\n",
    "new_ds.save_to_disk(os.path.join(save_par_dir, cat))"
   ]
  },
  {
   "cell_type": "code",
   "execution_count": 11,
   "id": "bdcbfe1c-fde6-4896-b62e-655feb60970a",
   "metadata": {},
   "outputs": [
    {
     "data": {
      "application/vnd.jupyter.widget-view+json": {
       "model_id": "c1d7e58391ee4628bdadae37a7ba5ff0",
       "version_major": 2,
       "version_minor": 0
      },
      "text/plain": [
       "Uploading the dataset shards:   0%|          | 0/1 [00:00<?, ?it/s]"
      ]
     },
     "metadata": {},
     "output_type": "display_data"
    },
    {
     "data": {
      "application/vnd.jupyter.widget-view+json": {
       "model_id": "ae811b63b5804c569f65c2926bc64ea3",
       "version_major": 2,
       "version_minor": 0
      },
      "text/plain": [
       "Creating parquet from Arrow format:   0%|          | 0/1 [00:00<?, ?ba/s]"
      ]
     },
     "metadata": {},
     "output_type": "display_data"
    },
    {
     "data": {
      "application/vnd.jupyter.widget-view+json": {
       "model_id": "354b29faa3e04873b448eb0d9a2cee28",
       "version_major": 2,
       "version_minor": 0
      },
      "text/plain": [
       "README.md:   0%|          | 0.00/17.4k [00:00<?, ?B/s]"
      ]
     },
     "metadata": {},
     "output_type": "display_data"
    },
    {
     "data": {
      "text/plain": [
       "CommitInfo(commit_url='https://huggingface.co/datasets/sachithgunasekara/self-discover-mistral-original-bbh-eval/commit/a5766e422e3ebdcb788d4548d15de742b2faeb45', commit_message='Upload dataset', commit_description='', oid='a5766e422e3ebdcb788d4548d15de742b2faeb45', pr_url=None, pr_revision=None, pr_num=None)"
      ]
     },
     "execution_count": 11,
     "metadata": {},
     "output_type": "execute_result"
    }
   ],
   "source": [
    "new_ds.push_to_hub(\"sachithgunasekara/self-discover-mistral-original-bbh-eval\", cat)"
   ]
  },
  {
   "cell_type": "markdown",
   "id": "057c8d98-d8ae-4ff8-93a4-6ad53b9858c0",
   "metadata": {
    "jp-MarkdownHeadingCollapsed": true
   },
   "source": [
    "# navigate"
   ]
  },
  {
   "cell_type": "code",
   "execution_count": 331,
   "id": "8ad4d223-4247-4f4d-aff5-6a71f59780db",
   "metadata": {},
   "outputs": [],
   "source": [
    "chk_dir = here(os.path.join(par_dir, \"bbh-navigate/bbh_eval\"))"
   ]
  },
  {
   "cell_type": "code",
   "execution_count": 332,
   "id": "0649d73e-b374-4453-9379-d39d3ddb10ee",
   "metadata": {},
   "outputs": [],
   "source": [
    "dataset = Dataset.load_from_disk(chk_dir)"
   ]
  },
  {
   "cell_type": "code",
   "execution_count": 333,
   "id": "652ee422-f4c9-4109-96bf-97eceeca2a5f",
   "metadata": {},
   "outputs": [
    {
     "data": {
      "text/plain": [
       "{'No\"', 'No.', 'No.\"', 'Yes\"', 'Yes.'}"
      ]
     },
     "execution_count": 333,
     "metadata": {},
     "output_type": "execute_result"
    }
   ],
   "source": [
    "set(dataset[\"answer_pred\"])"
   ]
  },
  {
   "cell_type": "code",
   "execution_count": 334,
   "id": "09feb30c-8509-4ee1-ada8-44061390cad4",
   "metadata": {},
   "outputs": [
    {
     "data": {
      "application/vnd.jupyter.widget-view+json": {
       "model_id": "ae8283ab330f4df7aafbf0c89087c97d",
       "version_major": 2,
       "version_minor": 0
      },
      "text/plain": [
       "Map:   0%|          | 0/250 [00:00<?, ? examples/s]"
      ]
     },
     "metadata": {},
     "output_type": "display_data"
    }
   ],
   "source": [
    "def map_fn(instance):    \n",
    "    return {\n",
    "        \"answer_pred\": instance[\"answer_pred\"].translate(str.maketrans(\"\", \"\", '.[]\"')) if instance[\"answer_pred\"] else None\n",
    "    }\n",
    "\n",
    "new_ds = dataset.map(map_fn)"
   ]
  },
  {
   "cell_type": "code",
   "execution_count": 335,
   "id": "61b95f31-bc19-420d-9d93-7ef5d4010f25",
   "metadata": {},
   "outputs": [
    {
     "data": {
      "text/plain": [
       "{'No', 'Yes'}"
      ]
     },
     "execution_count": 335,
     "metadata": {},
     "output_type": "execute_result"
    }
   ],
   "source": [
    "set(new_ds[\"answer_pred\"])"
   ]
  },
  {
   "cell_type": "code",
   "execution_count": 336,
   "id": "2940870d-4362-4e95-96dd-0432a09cf389",
   "metadata": {},
   "outputs": [
    {
     "data": {
      "application/vnd.jupyter.widget-view+json": {
       "model_id": "c5776b1916ac4edda11bfd7252a0cb63",
       "version_major": 2,
       "version_minor": 0
      },
      "text/plain": [
       "Filter:   0%|          | 0/250 [00:00<?, ? examples/s]"
      ]
     },
     "metadata": {},
     "output_type": "display_data"
    },
    {
     "data": {
      "text/plain": [
       "0.936"
      ]
     },
     "execution_count": 336,
     "metadata": {},
     "output_type": "execute_result"
    }
   ],
   "source": [
    "corr = new_ds.filter(lambda x: x[\"target\"] == x[\"answer_pred\"])\n",
    "corr.num_rows / new_ds.num_rows"
   ]
  },
  {
   "cell_type": "code",
   "execution_count": 337,
   "id": "5f4281aa-c8c8-4c59-9146-35962e16c2b9",
   "metadata": {},
   "outputs": [
    {
     "data": {
      "application/vnd.jupyter.widget-view+json": {
       "model_id": "4f5702e0e0dd49f1b80d9849eafd3ce1",
       "version_major": 2,
       "version_minor": 0
      },
      "text/plain": [
       "Saving the dataset (0/1 shards):   0%|          | 0/250 [00:00<?, ? examples/s]"
      ]
     },
     "metadata": {},
     "output_type": "display_data"
    }
   ],
   "source": [
    "start_string, end_string = \"non_self_synthesis/bbh/\", \"/bbh_eval\"\n",
    "cat = str(chk_dir)[str(chk_dir).find(start_string) + len(start_string) + 4:str(chk_dir).find(end_string)]\n",
    "new_ds.save_to_disk(os.path.join(save_par_dir, cat))"
   ]
  },
  {
   "cell_type": "markdown",
   "id": "43d8d9c7-392c-4a4d-a705-427e8f54fb6d",
   "metadata": {
    "jp-MarkdownHeadingCollapsed": true
   },
   "source": [
    "# object_counting"
   ]
  },
  {
   "cell_type": "code",
   "execution_count": 338,
   "id": "9dd967f3-8ff3-4b2d-8c78-2251a39c4e8e",
   "metadata": {},
   "outputs": [],
   "source": [
    "chk_dir = here(os.path.join(par_dir, \"bbh-object_counting/bbh_eval\"))"
   ]
  },
  {
   "cell_type": "code",
   "execution_count": 339,
   "id": "9d7f380b-92b1-4622-b33e-a2ef3db1b6d5",
   "metadata": {},
   "outputs": [],
   "source": [
    "dataset = Dataset.load_from_disk(chk_dir)"
   ]
  },
  {
   "cell_type": "code",
   "execution_count": 340,
   "id": "e2d71572-f273-4cc6-943e-151f84b4dd3b",
   "metadata": {},
   "outputs": [
    {
     "data": {
      "text/plain": [
       "{'10.',\n",
       " '10.\"',\n",
       " '11\"',\n",
       " '11.',\n",
       " '11.\"',\n",
       " '12\"',\n",
       " '12.',\n",
       " '12.\"',\n",
       " '13\"',\n",
       " '13.',\n",
       " '14\"',\n",
       " '14.',\n",
       " '14.\"',\n",
       " '15\"',\n",
       " '15.',\n",
       " '15.\"',\n",
       " '16\"',\n",
       " '16.',\n",
       " '17\"',\n",
       " '17.',\n",
       " '17.\"',\n",
       " '18\"',\n",
       " '18.',\n",
       " '2\"',\n",
       " '2.',\n",
       " '2.\"',\n",
       " '3\"',\n",
       " '3.',\n",
       " '3.\"',\n",
       " '4\"',\n",
       " '4.',\n",
       " '4.\"',\n",
       " '5\"',\n",
       " '5.',\n",
       " '5.\"',\n",
       " '6\"',\n",
       " '6.',\n",
       " '6.\"',\n",
       " '7\"',\n",
       " '7.',\n",
       " '7.\"',\n",
       " '8\"',\n",
       " '8.',\n",
       " '8.\"',\n",
       " '9\"',\n",
       " '9.',\n",
       " '9.\"'}"
      ]
     },
     "execution_count": 340,
     "metadata": {},
     "output_type": "execute_result"
    }
   ],
   "source": [
    "set(dataset[\"answer_pred\"])"
   ]
  },
  {
   "cell_type": "code",
   "execution_count": 341,
   "id": "43bf39a0-78ed-4f86-ab37-19c50fc2ebee",
   "metadata": {},
   "outputs": [
    {
     "data": {
      "application/vnd.jupyter.widget-view+json": {
       "model_id": "a1de76642f50480ca023528be3a97e2a",
       "version_major": 2,
       "version_minor": 0
      },
      "text/plain": [
       "Map:   0%|          | 0/250 [00:00<?, ? examples/s]"
      ]
     },
     "metadata": {},
     "output_type": "display_data"
    }
   ],
   "source": [
    "def map_fn(instance):    \n",
    "    return {\n",
    "        \"answer_pred\": instance[\"answer_pred\"].translate(str.maketrans(\"\", \"\", '.[]\"')) if instance[\"answer_pred\"] else None\n",
    "    }\n",
    "\n",
    "new_ds = dataset.map(map_fn)"
   ]
  },
  {
   "cell_type": "code",
   "execution_count": 342,
   "id": "b39491e3-d9d9-4bb8-a2c9-c6c4f6c177b7",
   "metadata": {},
   "outputs": [
    {
     "data": {
      "text/plain": [
       "{'10',\n",
       " '11',\n",
       " '12',\n",
       " '13',\n",
       " '14',\n",
       " '15',\n",
       " '16',\n",
       " '17',\n",
       " '18',\n",
       " '2',\n",
       " '3',\n",
       " '4',\n",
       " '5',\n",
       " '6',\n",
       " '7',\n",
       " '8',\n",
       " '9'}"
      ]
     },
     "execution_count": 342,
     "metadata": {},
     "output_type": "execute_result"
    }
   ],
   "source": [
    "set(new_ds[\"answer_pred\"])"
   ]
  },
  {
   "cell_type": "code",
   "execution_count": 343,
   "id": "c8a77d25-07fc-440b-b200-ab3d66f89c17",
   "metadata": {},
   "outputs": [
    {
     "data": {
      "application/vnd.jupyter.widget-view+json": {
       "model_id": "4c8ba6309227477895e575d9e8edff6c",
       "version_major": 2,
       "version_minor": 0
      },
      "text/plain": [
       "Filter:   0%|          | 0/250 [00:00<?, ? examples/s]"
      ]
     },
     "metadata": {},
     "output_type": "display_data"
    },
    {
     "data": {
      "text/plain": [
       "0.848"
      ]
     },
     "execution_count": 343,
     "metadata": {},
     "output_type": "execute_result"
    }
   ],
   "source": [
    "corr = new_ds.filter(lambda x: x[\"target\"] == x[\"answer_pred\"])\n",
    "corr.num_rows / new_ds.num_rows"
   ]
  },
  {
   "cell_type": "code",
   "execution_count": 344,
   "id": "40888b67-21c7-4547-9d40-05b9f3fbc312",
   "metadata": {},
   "outputs": [
    {
     "data": {
      "application/vnd.jupyter.widget-view+json": {
       "model_id": "81ef617898354f7eb214ad9c69b85111",
       "version_major": 2,
       "version_minor": 0
      },
      "text/plain": [
       "Saving the dataset (0/1 shards):   0%|          | 0/250 [00:00<?, ? examples/s]"
      ]
     },
     "metadata": {},
     "output_type": "display_data"
    }
   ],
   "source": [
    "start_string, end_string = \"non_self_synthesis/bbh/\", \"/bbh_eval\"\n",
    "cat = str(chk_dir)[str(chk_dir).find(start_string) + len(start_string) + 4:str(chk_dir).find(end_string)]\n",
    "new_ds.save_to_disk(os.path.join(save_par_dir, cat))"
   ]
  }
 ],
 "metadata": {
  "kernelspec": {
   "display_name": "Python 3 (ipykernel)",
   "language": "python",
   "name": "python3"
  },
  "language_info": {
   "codemirror_mode": {
    "name": "ipython",
    "version": 3
   },
   "file_extension": ".py",
   "mimetype": "text/x-python",
   "name": "python",
   "nbconvert_exporter": "python",
   "pygments_lexer": "ipython3",
   "version": "3.8.10"
  }
 },
 "nbformat": 4,
 "nbformat_minor": 5
}
