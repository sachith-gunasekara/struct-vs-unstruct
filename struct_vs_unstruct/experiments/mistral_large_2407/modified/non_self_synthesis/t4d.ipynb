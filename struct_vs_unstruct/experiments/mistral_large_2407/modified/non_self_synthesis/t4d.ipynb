{
 "cells": [
  {
   "cell_type": "code",
   "execution_count": 1,
   "id": "7df59f26-335c-4bb2-8c07-0f0dd2a26d0c",
   "metadata": {},
   "outputs": [],
   "source": [
    "from datasets import Dataset\n",
    "from pyprojroot import here"
   ]
  },
  {
   "cell_type": "code",
   "execution_count": 2,
   "id": "cd2d1728-f1f0-46b8-a8db-078e463ae9a5",
   "metadata": {},
   "outputs": [],
   "source": [
    "path = here(\"struct_vs_unstruct/data/mistral_large_2407/modified/non_self_synthesis/t4d/t4d-/t4d_eval\")"
   ]
  },
  {
   "cell_type": "code",
   "execution_count": 5,
   "id": "e6413b42-12f2-48d0-b8f2-842487a560c5",
   "metadata": {},
   "outputs": [
    {
     "data": {
      "text/plain": [
       "Dataset({\n",
       "    features: ['story', 'question', 'answer', 'characters', 'distracting_characters', 'reasoning_formats', 'selected_modules', 'adapted_modules', 'reasoning_plan', 'reasoning', 'trajectory', 'answer_pred'],\n",
       "    num_rows: 564\n",
       "})"
      ]
     },
     "execution_count": 5,
     "metadata": {},
     "output_type": "execute_result"
    }
   ],
   "source": [
    "ds = Dataset.load_from_disk(path)\n",
    "ds"
   ]
  },
  {
   "cell_type": "code",
   "execution_count": 6,
   "id": "3a4413d1-b6e2-4bc9-9ec5-b323357cb1fa",
   "metadata": {},
   "outputs": [
    {
     "data": {
      "text/plain": [
       "{'A. Abigail and B. Jack.',\n",
       " 'A. Abigail**',\n",
       " 'A. Abigail.',\n",
       " 'A. Aiden.',\n",
       " 'A. Alexander.',\n",
       " 'A. Amelia.',\n",
       " 'A. Aria.',\n",
       " 'A. Ava.',\n",
       " 'A. Avery.',\n",
       " 'A. Benjamin.',\n",
       " 'A. Carter.',\n",
       " 'A. Charlotte.',\n",
       " 'A. Chloe.',\n",
       " 'A. Elizabeth.',\n",
       " 'A. Ella**',\n",
       " 'A. Ella.',\n",
       " 'A. Emily.',\n",
       " 'A. Emma.',\n",
       " 'A. Ethan.',\n",
       " 'A. Ethan.**',\n",
       " 'A. Evelyn.',\n",
       " 'A. Hannah.',\n",
       " 'A. Hunter.',\n",
       " 'A. Isabella.',\n",
       " 'A. Isla.',\n",
       " 'A. Jack.',\n",
       " 'A. Jackson.',\n",
       " 'A. Jacob**.',\n",
       " 'A. Jacob.',\n",
       " 'A. Jacob.**',\n",
       " 'A. James.',\n",
       " 'A. Jayden and C. Charlotte.',\n",
       " 'A. Jayden.',\n",
       " 'A. Liam.',\n",
       " 'A. Lily.',\n",
       " 'A. Logan.',\n",
       " 'A. Lucas.',\n",
       " 'A. Mason.',\n",
       " 'A. Mia.',\n",
       " 'A. Mila.',\n",
       " 'A. Nathan.',\n",
       " 'A. Noah.',\n",
       " 'A. Oliver.',\n",
       " 'A. Olivia and C. Sophia.',\n",
       " 'A. Olivia.',\n",
       " 'A. Owen**',\n",
       " 'A. Owen.',\n",
       " 'A. Sophia.',\n",
       " 'A. William**.',\n",
       " 'A. William.',\n",
       " 'B. Abigail.',\n",
       " 'B. Aiden.',\n",
       " 'B. Alexander.',\n",
       " 'B. Alexander.**',\n",
       " 'B. Amelia**.',\n",
       " 'B. Amelia.',\n",
       " 'B. Aria.',\n",
       " 'B. Ava.',\n",
       " 'B. Avery**.',\n",
       " 'B. Avery.',\n",
       " 'B. Avery.**',\n",
       " 'B. Benjamin.',\n",
       " 'B. Carter.',\n",
       " 'B. Charlotte.',\n",
       " 'B. Chloe**.',\n",
       " 'B. Chloe.',\n",
       " 'B. Elizabeth**.',\n",
       " 'B. Elizabeth.',\n",
       " 'B. Ella.',\n",
       " 'B. Emily.',\n",
       " 'B. Emma.',\n",
       " 'B. Emma.**',\n",
       " 'B. Ethan.',\n",
       " 'B. Evelyn.',\n",
       " 'B. Hannah.',\n",
       " 'B. Hunter.',\n",
       " 'B. Isabella.',\n",
       " 'B. Isla.',\n",
       " 'B. Jack.',\n",
       " 'B. Jackson.',\n",
       " 'B. Jacob.',\n",
       " 'B. James.',\n",
       " 'B. Jayden.',\n",
       " 'B. Liam.',\n",
       " 'B. Lily.',\n",
       " 'B. Logan.',\n",
       " 'B. Lucas**.',\n",
       " 'B. Lucas.',\n",
       " 'B. Lucas.**',\n",
       " 'B. Mason.',\n",
       " 'B. Mia.',\n",
       " 'B. Mila.',\n",
       " 'B. Nathan**.',\n",
       " 'B. Nathan.',\n",
       " 'B. Noah.',\n",
       " 'B. Oliver.',\n",
       " 'B. Oliver.**',\n",
       " 'B. Olivia.',\n",
       " 'B. Owen.',\n",
       " 'B. Sophia**.',\n",
       " 'B. Sophia.',\n",
       " 'B. William.',\n",
       " 'C. Abigail.',\n",
       " 'C. Aiden.',\n",
       " 'C. Alexander.',\n",
       " 'C. Amelia.',\n",
       " 'C. Ava.',\n",
       " 'C. Avery.',\n",
       " 'C. Avery.**',\n",
       " 'C. Carter.',\n",
       " 'C. Chloe.',\n",
       " 'C. Elizabeth.',\n",
       " 'C. Ella.',\n",
       " 'C. Emma.',\n",
       " 'C. Ethan.',\n",
       " 'C. Evelyn.',\n",
       " 'C. Hannah.',\n",
       " 'C. Hunter.',\n",
       " 'C. Isla.',\n",
       " 'C. Jack.',\n",
       " 'C. Jacob.',\n",
       " 'C. James.',\n",
       " 'C. Liam.',\n",
       " 'C. Lily.',\n",
       " 'C. Lily.**',\n",
       " 'C. Logan**.',\n",
       " 'C. Logan.',\n",
       " 'C. Lucas.',\n",
       " 'C. Lucas.**',\n",
       " 'C. Mason.',\n",
       " 'C. Mason.**',\n",
       " 'C. Mia.',\n",
       " 'C. Mila.',\n",
       " 'C. Nathan.',\n",
       " 'C. Noah.',\n",
       " 'C. None of the above.',\n",
       " 'C. Oliver.',\n",
       " 'C. Olivia.',\n",
       " 'C. Owen.',\n",
       " 'C. Owen.**',\n",
       " 'C. Sophia.',\n",
       " 'C. William.',\n",
       " 'D. None of the above (since both Oliver and Aiden would benefit, not just one of them).',\n",
       " 'D. None of the above.',\n",
       " None}"
      ]
     },
     "execution_count": 6,
     "metadata": {},
     "output_type": "execute_result"
    }
   ],
   "source": [
    "set(ds[\"answer_pred\"])"
   ]
  },
  {
   "cell_type": "code",
   "execution_count": 7,
   "id": "3604e703-8269-4d95-9a9c-c4b920e2ad26",
   "metadata": {},
   "outputs": [
    {
     "data": {
      "application/vnd.jupyter.widget-view+json": {
       "model_id": "bc1641a9360b41489f17be2e5f7146de",
       "version_major": 2,
       "version_minor": 0
      },
      "text/plain": [
       "Map:   0%|          | 0/564 [00:00<?, ? examples/s]"
      ]
     },
     "metadata": {},
     "output_type": "display_data"
    },
    {
     "data": {
      "text/plain": [
       "{'A Abigail',\n",
       " 'A Abigail and B Jack',\n",
       " 'A Aiden',\n",
       " 'A Alexander',\n",
       " 'A Amelia',\n",
       " 'A Aria',\n",
       " 'A Ava',\n",
       " 'A Avery',\n",
       " 'A Benjamin',\n",
       " 'A Carter',\n",
       " 'A Charlotte',\n",
       " 'A Chloe',\n",
       " 'A Elizabeth',\n",
       " 'A Ella',\n",
       " 'A Emily',\n",
       " 'A Emma',\n",
       " 'A Ethan',\n",
       " 'A Evelyn',\n",
       " 'A Hannah',\n",
       " 'A Hunter',\n",
       " 'A Isabella',\n",
       " 'A Isla',\n",
       " 'A Jack',\n",
       " 'A Jackson',\n",
       " 'A Jacob',\n",
       " 'A James',\n",
       " 'A Jayden',\n",
       " 'A Jayden and C Charlotte',\n",
       " 'A Liam',\n",
       " 'A Lily',\n",
       " 'A Logan',\n",
       " 'A Lucas',\n",
       " 'A Mason',\n",
       " 'A Mia',\n",
       " 'A Mila',\n",
       " 'A Nathan',\n",
       " 'A Noah',\n",
       " 'A Oliver',\n",
       " 'A Olivia',\n",
       " 'A Olivia and C Sophia',\n",
       " 'A Owen',\n",
       " 'A Sophia',\n",
       " 'A William',\n",
       " 'B Abigail',\n",
       " 'B Aiden',\n",
       " 'B Alexander',\n",
       " 'B Amelia',\n",
       " 'B Aria',\n",
       " 'B Ava',\n",
       " 'B Avery',\n",
       " 'B Benjamin',\n",
       " 'B Carter',\n",
       " 'B Charlotte',\n",
       " 'B Chloe',\n",
       " 'B Elizabeth',\n",
       " 'B Ella',\n",
       " 'B Emily',\n",
       " 'B Emma',\n",
       " 'B Ethan',\n",
       " 'B Evelyn',\n",
       " 'B Hannah',\n",
       " 'B Hunter',\n",
       " 'B Isabella',\n",
       " 'B Isla',\n",
       " 'B Jack',\n",
       " 'B Jackson',\n",
       " 'B Jacob',\n",
       " 'B James',\n",
       " 'B Jayden',\n",
       " 'B Liam',\n",
       " 'B Lily',\n",
       " 'B Logan',\n",
       " 'B Lucas',\n",
       " 'B Mason',\n",
       " 'B Mia',\n",
       " 'B Mila',\n",
       " 'B Nathan',\n",
       " 'B Noah',\n",
       " 'B Oliver',\n",
       " 'B Olivia',\n",
       " 'B Owen',\n",
       " 'B Sophia',\n",
       " 'B William',\n",
       " 'C Abigail',\n",
       " 'C Aiden',\n",
       " 'C Alexander',\n",
       " 'C Amelia',\n",
       " 'C Ava',\n",
       " 'C Avery',\n",
       " 'C Carter',\n",
       " 'C Chloe',\n",
       " 'C Elizabeth',\n",
       " 'C Ella',\n",
       " 'C Emma',\n",
       " 'C Ethan',\n",
       " 'C Evelyn',\n",
       " 'C Hannah',\n",
       " 'C Hunter',\n",
       " 'C Isla',\n",
       " 'C Jack',\n",
       " 'C Jacob',\n",
       " 'C James',\n",
       " 'C Liam',\n",
       " 'C Lily',\n",
       " 'C Logan',\n",
       " 'C Lucas',\n",
       " 'C Mason',\n",
       " 'C Mia',\n",
       " 'C Mila',\n",
       " 'C Nathan',\n",
       " 'C Noah',\n",
       " 'C None of the above',\n",
       " 'C Oliver',\n",
       " 'C Olivia',\n",
       " 'C Owen',\n",
       " 'C Sophia',\n",
       " 'C William',\n",
       " 'D None of the above',\n",
       " 'D None of the above (since both Oliver and Aiden would benefit not just one of them)',\n",
       " None}"
      ]
     },
     "execution_count": 7,
     "metadata": {},
     "output_type": "execute_result"
    }
   ],
   "source": [
    "def map_fn(instance):    \n",
    "    return {\n",
    "        \"answer_pred\": instance[\"answer_pred\"].translate(str.maketrans(\"\", \"\", '.,*\"')) if instance[\"answer_pred\"] else None\n",
    "    }\n",
    "\n",
    "new_ds = ds.map(map_fn, load_from_cache_file=False)\n",
    "set(new_ds[\"answer_pred\"])"
   ]
  },
  {
   "cell_type": "code",
   "execution_count": 8,
   "id": "36a4490c-5b60-4f0c-8148-b751a733542e",
   "metadata": {},
   "outputs": [
    {
     "data": {
      "application/vnd.jupyter.widget-view+json": {
       "model_id": "3ff86ca4439b4966ad869b9f18337381",
       "version_major": 2,
       "version_minor": 0
      },
      "text/plain": [
       "Filter:   0%|          | 0/564 [00:00<?, ? examples/s]"
      ]
     },
     "metadata": {},
     "output_type": "display_data"
    },
    {
     "data": {
      "text/plain": [
       "Dataset({\n",
       "    features: ['story', 'question', 'answer', 'characters', 'distracting_characters', 'reasoning_formats', 'selected_modules', 'adapted_modules', 'reasoning_plan', 'reasoning', 'trajectory', 'answer_pred'],\n",
       "    num_rows: 3\n",
       "})"
      ]
     },
     "execution_count": 8,
     "metadata": {},
     "output_type": "execute_result"
    }
   ],
   "source": [
    "none_ota = new_ds.filter(lambda x: x[\"answer_pred\"] == \"C None of the above\")\n",
    "none_ota"
   ]
  },
  {
   "cell_type": "code",
   "execution_count": 15,
   "id": "150e4b7a-63f5-40a9-afa9-50dfc2d93e1f",
   "metadata": {},
   "outputs": [
    {
     "name": "stdout",
     "output_type": "stream",
     "text": [
      "Who among the individuals would benefit from receiving helpful information?\n",
      "A. James\n",
      "B. Lucas\n",
      "C. None of the above\n"
     ]
    }
   ],
   "source": [
    "print(none_ota[\"question\"][2])"
   ]
  },
  {
   "cell_type": "code",
   "execution_count": 17,
   "id": "6e9a3857-04f8-400d-ac59-38ee1a5d1b7d",
   "metadata": {},
   "outputs": [
    {
     "data": {
      "application/vnd.jupyter.widget-view+json": {
       "model_id": "f40091345ad14e87abab1300fac5f485",
       "version_major": 2,
       "version_minor": 0
      },
      "text/plain": [
       "Filter:   0%|          | 0/564 [00:00<?, ? examples/s]"
      ]
     },
     "metadata": {},
     "output_type": "display_data"
    },
    {
     "data": {
      "text/plain": [
       "Dataset({\n",
       "    features: ['story', 'question', 'answer', 'characters', 'distracting_characters', 'reasoning_formats', 'selected_modules', 'adapted_modules', 'reasoning_plan', 'reasoning', 'trajectory', 'answer_pred'],\n",
       "    num_rows: 1\n",
       "})"
      ]
     },
     "execution_count": 17,
     "metadata": {},
     "output_type": "execute_result"
    }
   ],
   "source": [
    "none_ds = new_ds.filter(lambda x: x[\"answer_pred\"] == None)\n",
    "none_ds"
   ]
  },
  {
   "cell_type": "code",
   "execution_count": 21,
   "id": "bb37ad4e-d36c-436b-8ebc-38e3e267a37b",
   "metadata": {},
   "outputs": [
    {
     "name": "stdout",
     "output_type": "stream",
     "text": [
      "To determine who would benefit from receiving helpful information, let's follow the reasoning plan step-by-step:\n",
      "\n",
      "1. **Identify the Main Question:**\n",
      "   - Who among the individuals would benefit from receiving helpful information?\n",
      "\n",
      "2. **List Key Actions and Events:**\n",
      "   - Emma entered the dining room.\n",
      "   - Abigail entered the dining room.\n",
      "   - The lettuce is in the bathtub.\n",
      "   - Emma exited the dining room.\n",
      "   - Emma likes the apple.\n",
      "   - Emma entered the living room.\n",
      "   - Abigail moved the lettuce to the bucket.\n",
      "   - Emma loves the belt.\n",
      "   - James entered the living room.\n",
      "   - Emma and Abigail plan to use the lettuce soon.\n",
      "\n",
      "3. **Identify Individuals Involved:**\n",
      "   - Emma\n",
      "   - Abigail\n",
      "   - James\n",
      "\n",
      "4. **Analyze Each Individual's Actions and Preferences:**\n",
      "   - **Emma:**\n",
      "     - Entered the dining room.\n",
      "     - Exited the dining room.\n",
      "     - Entered the living room.\n",
      "     - Likes the apple.\n",
      "     - Loves the belt.\n",
      "     - Plans to use the lettuce soon.\n",
      "   - **Abigail:**\n",
      "     - Entered the dining room.\n",
      "     - Moved the lettuce to the bucket.\n",
      "     - Plans to use the lettuce soon.\n",
      "   - **James:**\n",
      "     - Entered the living room.\n",
      "\n",
      "5. **Determine Information Needs Based on Actions and Context:**\n",
      "   - **Emma:**\n",
      "     - Emma's actions and preferences indicate she is involved with the lettuce and has specific likes (apple, belt).\n",
      "   - **Abigail:**\n",
      "     - Abigail's actions show she is actively handling the lettuce and is involved in its relocation.\n",
      "   - **James:**\n",
      "     - James's actions are limited to entering the living room, with no direct involvement with the lettuce or other items.\n",
      "\n",
      "6. **Evaluate Who Would Benefit from Helpful Information:**\n",
      "   - Consider the context of the lettuce and the plans to use it soon.\n",
      "   - Determine if Emma or Abigail would benefit from knowing the current location of the lettuce or any other relevant information.\n",
      "   - Evaluate if James needs any information based on his limited involvement.\n",
      "\n",
      "7. **Apply Criteria to Determine the Most Appropriate Recipient:**\n",
      "   - Focus on the individuals who are actively involved with the lettuce and have plans to use it.\n",
      "   - Consider if any specific interpersonal dynamics or logistical considerations influence who would benefit most.\n",
      "\n",
      "8. **Conclude Based on Analysis:**\n",
      "   - Based on the analysis of actions, preferences, and involvement, Abigail is actively handling the lettuce and has moved it to the bucket. Emma, who plans to use the lettuce soon, would benefit from knowing the current location of the lettuce.\n",
      "\n",
      "Therefore, the final answer is B. Emma.\n"
     ]
    }
   ],
   "source": [
    "print(none_ds[0][\"trajectory\"])"
   ]
  },
  {
   "cell_type": "code",
   "execution_count": 22,
   "id": "fef319ad-7249-4345-8b50-62c13f12682e",
   "metadata": {},
   "outputs": [
    {
     "data": {
      "application/vnd.jupyter.widget-view+json": {
       "model_id": "6f956dd434db40d098b159c67fdc8681",
       "version_major": 2,
       "version_minor": 0
      },
      "text/plain": [
       "Map:   0%|          | 0/564 [00:00<?, ? examples/s]"
      ]
     },
     "metadata": {},
     "output_type": "display_data"
    },
    {
     "data": {
      "text/plain": [
       "{'A Abigail',\n",
       " 'A Abigail and B Jack',\n",
       " 'A Aiden',\n",
       " 'A Alexander',\n",
       " 'A Amelia',\n",
       " 'A Aria',\n",
       " 'A Ava',\n",
       " 'A Avery',\n",
       " 'A Benjamin',\n",
       " 'A Carter',\n",
       " 'A Charlotte',\n",
       " 'A Chloe',\n",
       " 'A Elizabeth',\n",
       " 'A Ella',\n",
       " 'A Emily',\n",
       " 'A Emma',\n",
       " 'A Ethan',\n",
       " 'A Evelyn',\n",
       " 'A Hannah',\n",
       " 'A Hunter',\n",
       " 'A Isabella',\n",
       " 'A Isla',\n",
       " 'A Jack',\n",
       " 'A Jackson',\n",
       " 'A Jacob',\n",
       " 'A James',\n",
       " 'A Jayden',\n",
       " 'A Jayden and C Charlotte',\n",
       " 'A Liam',\n",
       " 'A Lily',\n",
       " 'A Logan',\n",
       " 'A Lucas',\n",
       " 'A Mason',\n",
       " 'A Mia',\n",
       " 'A Mila',\n",
       " 'A Nathan',\n",
       " 'A Noah',\n",
       " 'A Oliver',\n",
       " 'A Olivia',\n",
       " 'A Olivia and C Sophia',\n",
       " 'A Owen',\n",
       " 'A Sophia',\n",
       " 'A William',\n",
       " 'B Abigail',\n",
       " 'B Aiden',\n",
       " 'B Alexander',\n",
       " 'B Amelia',\n",
       " 'B Aria',\n",
       " 'B Ava',\n",
       " 'B Avery',\n",
       " 'B Benjamin',\n",
       " 'B Carter',\n",
       " 'B Charlotte',\n",
       " 'B Chloe',\n",
       " 'B Elizabeth',\n",
       " 'B Ella',\n",
       " 'B Emily',\n",
       " 'B Emma',\n",
       " 'B Ethan',\n",
       " 'B Evelyn',\n",
       " 'B Hannah',\n",
       " 'B Hunter',\n",
       " 'B Isabella',\n",
       " 'B Isla',\n",
       " 'B Jack',\n",
       " 'B Jackson',\n",
       " 'B Jacob',\n",
       " 'B James',\n",
       " 'B Jayden',\n",
       " 'B Liam',\n",
       " 'B Lily',\n",
       " 'B Logan',\n",
       " 'B Lucas',\n",
       " 'B Mason',\n",
       " 'B Mia',\n",
       " 'B Mila',\n",
       " 'B Nathan',\n",
       " 'B Noah',\n",
       " 'B Oliver',\n",
       " 'B Olivia',\n",
       " 'B Owen',\n",
       " 'B Sophia',\n",
       " 'B William',\n",
       " 'C Abigail',\n",
       " 'C Aiden',\n",
       " 'C Alexander',\n",
       " 'C Amelia',\n",
       " 'C Ava',\n",
       " 'C Avery',\n",
       " 'C Carter',\n",
       " 'C Chloe',\n",
       " 'C Elizabeth',\n",
       " 'C Ella',\n",
       " 'C Emma',\n",
       " 'C Ethan',\n",
       " 'C Evelyn',\n",
       " 'C Hannah',\n",
       " 'C Hunter',\n",
       " 'C Isla',\n",
       " 'C Jack',\n",
       " 'C Jacob',\n",
       " 'C James',\n",
       " 'C Liam',\n",
       " 'C Lily',\n",
       " 'C Logan',\n",
       " 'C Lucas',\n",
       " 'C Mason',\n",
       " 'C Mia',\n",
       " 'C Mila',\n",
       " 'C Nathan',\n",
       " 'C Noah',\n",
       " 'C None of the above',\n",
       " 'C Oliver',\n",
       " 'C Olivia',\n",
       " 'C Owen',\n",
       " 'C Sophia',\n",
       " 'C William',\n",
       " 'D None of the above',\n",
       " 'D None of the above (since both Oliver and Aiden would benefit not just one of them)'}"
      ]
     },
     "execution_count": 22,
     "metadata": {},
     "output_type": "execute_result"
    }
   ],
   "source": [
    "def map_fn(ins):\n",
    "    if ins[\"answer_pred\"] == None:\n",
    "        return {\n",
    "            \"answer_pred\": \"B Emma\"\n",
    "        }\n",
    "\n",
    "    return {\n",
    "        \"answer_pred\": ins[\"answer_pred\"]\n",
    "    }\n",
    "\n",
    "new_ds = new_ds.map(map_fn)\n",
    "set(new_ds[\"answer_pred\"])"
   ]
  },
  {
   "cell_type": "code",
   "execution_count": 23,
   "id": "4a8dce7d-cc7b-4bad-8251-a902c3fb3d43",
   "metadata": {},
   "outputs": [
    {
     "data": {
      "application/vnd.jupyter.widget-view+json": {
       "model_id": "72ac1174f7d2489888c51ef0a080849d",
       "version_major": 2,
       "version_minor": 0
      },
      "text/plain": [
       "Map:   0%|          | 0/564 [00:00<?, ? examples/s]"
      ]
     },
     "metadata": {},
     "output_type": "display_data"
    },
    {
     "data": {
      "text/plain": [
       "{'A Abigail',\n",
       " 'A Abigail and B Jack',\n",
       " 'A Aiden',\n",
       " 'A Alexander',\n",
       " 'A Amelia',\n",
       " 'A Aria',\n",
       " 'A Ava',\n",
       " 'A Avery',\n",
       " 'A Benjamin',\n",
       " 'A Carter',\n",
       " 'A Charlotte',\n",
       " 'A Chloe',\n",
       " 'A Elizabeth',\n",
       " 'A Ella',\n",
       " 'A Emily',\n",
       " 'A Emma',\n",
       " 'A Ethan',\n",
       " 'A Evelyn',\n",
       " 'A Hannah',\n",
       " 'A Hunter',\n",
       " 'A Isabella',\n",
       " 'A Isla',\n",
       " 'A Jack',\n",
       " 'A Jackson',\n",
       " 'A Jacob',\n",
       " 'A James',\n",
       " 'A Jayden',\n",
       " 'A Jayden and C Charlotte',\n",
       " 'A Liam',\n",
       " 'A Lily',\n",
       " 'A Logan',\n",
       " 'A Lucas',\n",
       " 'A Mason',\n",
       " 'A Mia',\n",
       " 'A Mila',\n",
       " 'A Nathan',\n",
       " 'A Noah',\n",
       " 'A Oliver',\n",
       " 'A Olivia',\n",
       " 'A Olivia and C Sophia',\n",
       " 'A Owen',\n",
       " 'A Sophia',\n",
       " 'A William',\n",
       " 'B Abigail',\n",
       " 'B Aiden',\n",
       " 'B Alexander',\n",
       " 'B Amelia',\n",
       " 'B Aria',\n",
       " 'B Ava',\n",
       " 'B Avery',\n",
       " 'B Benjamin',\n",
       " 'B Carter',\n",
       " 'B Charlotte',\n",
       " 'B Chloe',\n",
       " 'B Elizabeth',\n",
       " 'B Ella',\n",
       " 'B Emily',\n",
       " 'B Emma',\n",
       " 'B Ethan',\n",
       " 'B Evelyn',\n",
       " 'B Hannah',\n",
       " 'B Hunter',\n",
       " 'B Isabella',\n",
       " 'B Isla',\n",
       " 'B Jack',\n",
       " 'B Jackson',\n",
       " 'B Jacob',\n",
       " 'B James',\n",
       " 'B Jayden',\n",
       " 'B Liam',\n",
       " 'B Lily',\n",
       " 'B Logan',\n",
       " 'B Lucas',\n",
       " 'B Mason',\n",
       " 'B Mia',\n",
       " 'B Mila',\n",
       " 'B Nathan',\n",
       " 'B Noah',\n",
       " 'B Oliver',\n",
       " 'B Olivia',\n",
       " 'B Owen',\n",
       " 'B Sophia',\n",
       " 'B William',\n",
       " 'C Abigail',\n",
       " 'C Aiden',\n",
       " 'C Alexander',\n",
       " 'C Amelia',\n",
       " 'C Ava',\n",
       " 'C Avery',\n",
       " 'C Carter',\n",
       " 'C Chloe',\n",
       " 'C Elizabeth',\n",
       " 'C Ella',\n",
       " 'C Emma',\n",
       " 'C Ethan',\n",
       " 'C Evelyn',\n",
       " 'C Hannah',\n",
       " 'C Hunter',\n",
       " 'C Isla',\n",
       " 'C Jack',\n",
       " 'C Jacob',\n",
       " 'C James',\n",
       " 'C Liam',\n",
       " 'C Lily',\n",
       " 'C Logan',\n",
       " 'C Lucas',\n",
       " 'C Mason',\n",
       " 'C Mia',\n",
       " 'C Mila',\n",
       " 'C Nathan',\n",
       " 'C Noah',\n",
       " 'C None of the above',\n",
       " 'C Oliver',\n",
       " 'C Olivia',\n",
       " 'C Owen',\n",
       " 'C Sophia',\n",
       " 'C William',\n",
       " 'D None of the above'}"
      ]
     },
     "execution_count": 23,
     "metadata": {},
     "output_type": "execute_result"
    }
   ],
   "source": [
    "def map_fn(ins):\n",
    "    if \"D None of the above (since both Oliver\" in ins[\"answer_pred\"]:\n",
    "        return {\n",
    "            \"answer_pred\": \"D None of the above\"\n",
    "        }\n",
    "\n",
    "    return {\n",
    "        \"answer_pred\": ins[\"answer_pred\"]\n",
    "    }\n",
    "\n",
    "new_ds = new_ds.map(map_fn)\n",
    "set(new_ds[\"answer_pred\"])"
   ]
  },
  {
   "cell_type": "code",
   "execution_count": 25,
   "id": "a6bdd323-c17f-4c6b-823c-e16ace19e9d0",
   "metadata": {},
   "outputs": [
    {
     "data": {
      "application/vnd.jupyter.widget-view+json": {
       "model_id": "4ef944b76ee44b858baa4c947ec680bf",
       "version_major": 2,
       "version_minor": 0
      },
      "text/plain": [
       "Filter:   0%|          | 0/564 [00:00<?, ? examples/s]"
      ]
     },
     "metadata": {},
     "output_type": "display_data"
    },
    {
     "data": {
      "text/plain": [
       "0.8209219858156028"
      ]
     },
     "execution_count": 25,
     "metadata": {},
     "output_type": "execute_result"
    }
   ],
   "source": [
    "corr_ds = new_ds.filter(lambda x: x[\"answer_pred\"][2:] == x[\"answer\"].translate(str.maketrans(\"\", \"\", '()')))\n",
    "corr_ds.num_rows / new_ds.num_rows"
   ]
  },
  {
   "cell_type": "code",
   "execution_count": 26,
   "id": "4473a57c-eda9-4e33-982e-c0cf301b0781",
   "metadata": {},
   "outputs": [
    {
     "data": {
      "application/vnd.jupyter.widget-view+json": {
       "model_id": "e2404c6d9c814fdd8ba255adf4671433",
       "version_major": 2,
       "version_minor": 0
      },
      "text/plain": [
       "Uploading the dataset shards:   0%|          | 0/1 [00:00<?, ?it/s]"
      ]
     },
     "metadata": {},
     "output_type": "display_data"
    },
    {
     "data": {
      "application/vnd.jupyter.widget-view+json": {
       "model_id": "586bd7270056450da49cfc55908d1534",
       "version_major": 2,
       "version_minor": 0
      },
      "text/plain": [
       "Creating parquet from Arrow format:   0%|          | 0/1 [00:00<?, ?ba/s]"
      ]
     },
     "metadata": {},
     "output_type": "display_data"
    },
    {
     "data": {
      "text/plain": [
       "CommitInfo(commit_url='https://huggingface.co/datasets/sachithgunasekara/self-discover-mistral-modified-t4d-eval/commit/6daa9ac5334e6fe3444ebfc1954f65abb3903b60', commit_message='Upload dataset', commit_description='', oid='6daa9ac5334e6fe3444ebfc1954f65abb3903b60', pr_url=None, pr_revision=None, pr_num=None)"
      ]
     },
     "execution_count": 26,
     "metadata": {},
     "output_type": "execute_result"
    }
   ],
   "source": [
    "new_ds.push_to_hub(\"sachithgunasekara/self-discover-mistral-modified-t4d-eval\")"
   ]
  }
 ],
 "metadata": {
  "kernelspec": {
   "display_name": "Python 3 (ipykernel)",
   "language": "python",
   "name": "python3"
  },
  "language_info": {
   "codemirror_mode": {
    "name": "ipython",
    "version": 3
   },
   "file_extension": ".py",
   "mimetype": "text/x-python",
   "name": "python",
   "nbconvert_exporter": "python",
   "pygments_lexer": "ipython3",
   "version": "3.8.10"
  }
 },
 "nbformat": 4,
 "nbformat_minor": 5
}
