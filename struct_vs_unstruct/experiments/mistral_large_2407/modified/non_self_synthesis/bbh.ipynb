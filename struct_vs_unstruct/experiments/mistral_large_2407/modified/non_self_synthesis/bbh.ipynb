{
 "cells": [
  {
   "cell_type": "code",
   "execution_count": 1,
   "id": "a4202b42-fcb2-4057-ba20-4b900b985a78",
   "metadata": {},
   "outputs": [],
   "source": [
    "from datasets import Dataset\n",
    "from pyprojroot import here\n",
    "import os"
   ]
  },
  {
   "cell_type": "code",
   "execution_count": 2,
   "id": "5a87172d-a31f-4bf9-8eac-cfb89b9f6f04",
   "metadata": {},
   "outputs": [
    {
     "name": "stdout",
     "output_type": "stream",
     "text": [
      "/home/ubuntu/jupyter/struct-vs-unstruct/struct_vs_unstruct/data/mistral_large_2407/modified/non_self_synthesis/bbh\n",
      "/home/ubuntu/jupyter/struct-vs-unstruct/struct_vs_unstruct/data/mistral_large_2407/modified/non_self_synthesis/bbh/refined\n"
     ]
    }
   ],
   "source": [
    "par_dir = here(\"struct_vs_unstruct/data/mistral_large_2407/modified/non_self_synthesis/bbh/\")\n",
    "save_par_dir = here(os.path.join(par_dir, \"refined\"))\n",
    "print(par_dir)\n",
    "print(save_par_dir)"
   ]
  },
  {
   "cell_type": "markdown",
   "id": "ad382360-c910-4008-9e29-ed54d2af6a60",
   "metadata": {
    "jp-MarkdownHeadingCollapsed": true
   },
   "source": [
    "# boolean_expressions"
   ]
  },
  {
   "cell_type": "code",
   "execution_count": 3,
   "id": "8e97125a-4717-448e-bb9c-e60b55801a29",
   "metadata": {},
   "outputs": [
    {
     "data": {
      "text/plain": [
       "PosixPath('/home/ubuntu/jupyter/struct-vs-unstruct/struct_vs_unstruct/data/mistral_large_2407/modified/non_self_synthesis/bbh/bbh-boolean_expressions/bbh_eval')"
      ]
     },
     "execution_count": 3,
     "metadata": {},
     "output_type": "execute_result"
    }
   ],
   "source": [
    "chk_dir = here(os.path.join(par_dir, \"bbh-boolean_expressions/bbh_eval\"))\n",
    "chk_dir"
   ]
  },
  {
   "cell_type": "code",
   "execution_count": 4,
   "id": "40d8dd0a-6202-4900-9a23-f015a60d4ea8",
   "metadata": {},
   "outputs": [],
   "source": [
    "dataset = Dataset.load_from_disk(chk_dir)"
   ]
  },
  {
   "cell_type": "code",
   "execution_count": 5,
   "id": "2855ae0f-99fd-4bbd-9c64-98fcb2d08074",
   "metadata": {},
   "outputs": [
    {
     "data": {
      "text/plain": [
       "{'False**.', 'False.', None, 'True.', '`False`.', '`True`.'}"
      ]
     },
     "execution_count": 5,
     "metadata": {},
     "output_type": "execute_result"
    }
   ],
   "source": [
    "set(dataset[\"answer_pred\"])"
   ]
  },
  {
   "cell_type": "code",
   "execution_count": 10,
   "id": "f9d94507-acf2-45a7-96fa-31e16fc96d62",
   "metadata": {},
   "outputs": [
    {
     "name": "stdout",
     "output_type": "stream",
     "text": [
      "To evaluate the logical expression `( True ) and not True or True`, we follow these steps:\n",
      "\n",
      "1. **Evaluate `not True`**:\n",
      "   - `not True` evaluates to `False`.\n",
      "\n",
      "2. **Substitute the result back into the expression**:\n",
      "   - The expression becomes `( True ) and False or True`.\n",
      "\n",
      "3. **Evaluate `( True ) and False`**:\n",
      "   - `( True ) and False` evaluates to `False`.\n",
      "\n",
      "4. **Substitute the result back into the expression**:\n",
      "   - The expression becomes `False or True`.\n",
      "\n",
      "5. **Evaluate `False or True`**:\n",
      "   - `False or True` evaluates to `True`.\n",
      "\n",
      "Therefore, the final answer is `True`.\n"
     ]
    }
   ],
   "source": [
    "none_ds = dataset.filter(lambda x: x[\"answer_pred\"] == None)\n",
    "print(none_ds[2][\"trajectory\"])"
   ]
  },
  {
   "cell_type": "code",
   "execution_count": 11,
   "id": "7e7a8dde-90cc-4b24-b746-cc19651959fa",
   "metadata": {},
   "outputs": [
    {
     "data": {
      "application/vnd.jupyter.widget-view+json": {
       "model_id": "0a404b308430456b87323c0bb39e8d1d",
       "version_major": 2,
       "version_minor": 0
      },
      "text/plain": [
       "Map:   0%|          | 0/250 [00:00<?, ? examples/s]"
      ]
     },
     "metadata": {},
     "output_type": "display_data"
    }
   ],
   "source": [
    "def map_fn(ins):\n",
    "    if ins[\"answer_pred\"] == None:\n",
    "        return {\n",
    "            \"answer_pred\": \"True\"\n",
    "        }\n",
    "\n",
    "    return {\n",
    "        \"answer_pred\": ins[\"answer_pred\"]\n",
    "    }\n",
    "\n",
    "new_ds = dataset.map(map_fn)"
   ]
  },
  {
   "cell_type": "code",
   "execution_count": 12,
   "id": "88f60d5b-30f8-4fa0-b307-bed3b745d4ff",
   "metadata": {},
   "outputs": [
    {
     "data": {
      "application/vnd.jupyter.widget-view+json": {
       "model_id": "bfb804d8b50d481faa26909ef0bd1609",
       "version_major": 2,
       "version_minor": 0
      },
      "text/plain": [
       "Map:   0%|          | 0/250 [00:00<?, ? examples/s]"
      ]
     },
     "metadata": {},
     "output_type": "display_data"
    },
    {
     "data": {
      "text/plain": [
       "{'False', 'True'}"
      ]
     },
     "execution_count": 12,
     "metadata": {},
     "output_type": "execute_result"
    }
   ],
   "source": [
    "def map_fn(instance):    \n",
    "    return {\n",
    "        \"answer_pred\": instance[\"answer_pred\"].translate(str.maketrans(\"\", \"\", '.,*`\"'))\n",
    "    }\n",
    "\n",
    "new_ds = new_ds.map(map_fn, load_from_cache_file=False)\n",
    "set(new_ds[\"answer_pred\"])"
   ]
  },
  {
   "cell_type": "code",
   "execution_count": 13,
   "id": "71698ea6-7042-4127-8f95-a0eb5477ac7b",
   "metadata": {},
   "outputs": [
    {
     "data": {
      "application/vnd.jupyter.widget-view+json": {
       "model_id": "610c38da00204370a94019755fbfae92",
       "version_major": 2,
       "version_minor": 0
      },
      "text/plain": [
       "Saving the dataset (0/1 shards):   0%|          | 0/250 [00:00<?, ? examples/s]"
      ]
     },
     "metadata": {},
     "output_type": "display_data"
    }
   ],
   "source": [
    "new_ds.save_to_disk(os.path.join(save_par_dir, \"boolean_expressions\"))"
   ]
  },
  {
   "cell_type": "code",
   "execution_count": 14,
   "id": "c02dc813-116d-4514-aa52-6021f14700b7",
   "metadata": {},
   "outputs": [
    {
     "data": {
      "text/plain": [
       "('Accuracy', 0.972)"
      ]
     },
     "execution_count": 14,
     "metadata": {},
     "output_type": "execute_result"
    }
   ],
   "source": [
    "total = 0\n",
    "for instance in new_ds:\n",
    "    if instance[\"answer_pred\"] == instance[\"target\"]:\n",
    "        total += 1\n",
    "\n",
    "\"Accuracy\", total / new_ds.num_rows"
   ]
  },
  {
   "cell_type": "markdown",
   "id": "f896b20a-b9ca-4770-8d0b-b37c9a472974",
   "metadata": {
    "jp-MarkdownHeadingCollapsed": true
   },
   "source": [
    "# causal_judgement"
   ]
  },
  {
   "cell_type": "code",
   "execution_count": 15,
   "id": "60f0dec8-135d-4ec6-b413-321e122d6151",
   "metadata": {},
   "outputs": [],
   "source": [
    "chk_dir = here(os.path.join(par_dir, \"bbh-causal_judgement/bbh_eval\"))"
   ]
  },
  {
   "cell_type": "code",
   "execution_count": 16,
   "id": "82137aca-da0f-4847-b1f2-4f6fdf0cd8bf",
   "metadata": {},
   "outputs": [],
   "source": [
    "dataset = Dataset.load_from_disk(chk_dir)"
   ]
  },
  {
   "cell_type": "code",
   "execution_count": 17,
   "id": "4bfd0f92-5704-4319-8f03-e00261008556",
   "metadata": {},
   "outputs": [
    {
     "data": {
      "text/plain": [
       "{'No**.', 'No.', 'Yes.'}"
      ]
     },
     "execution_count": 17,
     "metadata": {},
     "output_type": "execute_result"
    }
   ],
   "source": [
    "set(dataset[\"answer_pred\"])"
   ]
  },
  {
   "cell_type": "code",
   "execution_count": 18,
   "id": "49f660c3-20bf-460d-b16d-5554e01c96d4",
   "metadata": {},
   "outputs": [
    {
     "data": {
      "application/vnd.jupyter.widget-view+json": {
       "model_id": "530c6a2af5f4404d901b6c91a0057798",
       "version_major": 2,
       "version_minor": 0
      },
      "text/plain": [
       "Map:   0%|          | 0/187 [00:00<?, ? examples/s]"
      ]
     },
     "metadata": {},
     "output_type": "display_data"
    },
    {
     "data": {
      "text/plain": [
       "{'No', 'Yes'}"
      ]
     },
     "execution_count": 18,
     "metadata": {},
     "output_type": "execute_result"
    }
   ],
   "source": [
    "def map_fn(instance):    \n",
    "    return {\n",
    "        \"answer_pred\": instance[\"answer_pred\"].translate(str.maketrans(\"\", \"\", '.*\"')) if instance[\"answer_pred\"] else None\n",
    "    }\n",
    "\n",
    "new_ds = dataset.map(map_fn, load_from_cache_file=False)\n",
    "set(new_ds[\"answer_pred\"])"
   ]
  },
  {
   "cell_type": "code",
   "execution_count": 19,
   "id": "46a37879-f0fa-4be7-867f-268848ac8af4",
   "metadata": {},
   "outputs": [
    {
     "data": {
      "application/vnd.jupyter.widget-view+json": {
       "model_id": "f4d54ef34ed94823a7807ed30a3e7101",
       "version_major": 2,
       "version_minor": 0
      },
      "text/plain": [
       "Filter:   0%|          | 0/187 [00:00<?, ? examples/s]"
      ]
     },
     "metadata": {},
     "output_type": "display_data"
    },
    {
     "data": {
      "text/plain": [
       "0.7165775401069518"
      ]
     },
     "execution_count": 19,
     "metadata": {},
     "output_type": "execute_result"
    }
   ],
   "source": [
    "corr = new_ds.filter(lambda x: x[\"target\"] == x[\"answer_pred\"])\n",
    "corr.num_rows / new_ds.num_rows"
   ]
  },
  {
   "cell_type": "code",
   "execution_count": 20,
   "id": "43dae966-2a98-49e9-ae04-5f6e20a6e891",
   "metadata": {},
   "outputs": [
    {
     "data": {
      "application/vnd.jupyter.widget-view+json": {
       "model_id": "f32f2244a071494ba4898788e01d6d5a",
       "version_major": 2,
       "version_minor": 0
      },
      "text/plain": [
       "Saving the dataset (0/1 shards):   0%|          | 0/187 [00:00<?, ? examples/s]"
      ]
     },
     "metadata": {},
     "output_type": "display_data"
    }
   ],
   "source": [
    "new_ds.save_to_disk(os.path.join(save_par_dir, \"causal_judgement\"))"
   ]
  },
  {
   "cell_type": "markdown",
   "id": "56710f05-faca-4518-b318-54739646e5d7",
   "metadata": {
    "jp-MarkdownHeadingCollapsed": true
   },
   "source": [
    "# date_understanding"
   ]
  },
  {
   "cell_type": "code",
   "execution_count": 21,
   "id": "71df491e-6a9a-424b-a3ad-6418d59e6d13",
   "metadata": {},
   "outputs": [],
   "source": [
    "chk_dir = here(os.path.join(par_dir, \"bbh-date_understanding/bbh_eval\"))"
   ]
  },
  {
   "cell_type": "code",
   "execution_count": 22,
   "id": "021c7135-b8b8-4d77-a787-0c37e9df3217",
   "metadata": {},
   "outputs": [],
   "source": [
    "dataset = Dataset.load_from_disk(chk_dir)"
   ]
  },
  {
   "cell_type": "code",
   "execution_count": 23,
   "id": "6ab4ee2a-1ae6-41be-8e71-9e40d4d9ab57",
   "metadata": {},
   "outputs": [
    {
     "data": {
      "text/plain": [
       "{'(A) 01/02/1930.',\n",
       " '(A) 01/09/2015.',\n",
       " '(A) 01/31/2012.',\n",
       " '(A) 02/28/2015.',\n",
       " '(A) 08/09/1909.',\n",
       " '(A) 11/29/2002, assuming a typographical error in the year.',\n",
       " '(A) 12/22/1929.',\n",
       " '(B) 01/02/1961.',\n",
       " '(C) 01/02/2008.',\n",
       " '(C) 06/18/2016.',\n",
       " '(C) 11/21/2002.',\n",
       " '(D) 01/28/2017.',\n",
       " '(D) 02/16/2010.',\n",
       " '(D) 06/17/2019.',\n",
       " '(D) 08/31/2003.',\n",
       " '(D) 09/09/2021.',\n",
       " '(E) 07/01/1972.',\n",
       " '(E) 07/18/2002.',\n",
       " '(F) 04/09/1969.',\n",
       " '(F) 10/22/2002.',\n",
       " '(F) 11/29/2014.',\n",
       " '(F) 11/30/2019.',\n",
       " '(F).',\n",
       " '11/22/2001.',\n",
       " '11/23/2001.',\n",
       " '12/24/2014.',\n",
       " 'A.',\n",
       " 'B.',\n",
       " 'C.',\n",
       " 'D.',\n",
       " 'E.',\n",
       " 'F.',\n",
       " 'None of the above.',\n",
       " 'None of the given options match the calculated date.',\n",
       " 'not listed among the given options.',\n",
       " 'not listed among the options provided.',\n",
       " 'not listed among the options.',\n",
       " 'not listed among the provided options.',\n",
       " 'not listed in the given options.',\n",
       " 'not listed in the options provided.',\n",
       " 'not listed in the provided options.'}"
      ]
     },
     "execution_count": 23,
     "metadata": {},
     "output_type": "execute_result"
    }
   ],
   "source": [
    "set(dataset[\"answer_pred\"])"
   ]
  },
  {
   "cell_type": "code",
   "execution_count": 24,
   "id": "bf1e8c96-39e6-449f-827d-4b3d8c93355b",
   "metadata": {},
   "outputs": [
    {
     "data": {
      "application/vnd.jupyter.widget-view+json": {
       "model_id": "1bded416fe984fe08329c2f5c795fb33",
       "version_major": 2,
       "version_minor": 0
      },
      "text/plain": [
       "Map:   0%|          | 0/250 [00:00<?, ? examples/s]"
      ]
     },
     "metadata": {},
     "output_type": "display_data"
    },
    {
     "data": {
      "text/plain": [
       "{'11/22/2001',\n",
       " '11/23/2001',\n",
       " '12/24/2014',\n",
       " 'A',\n",
       " 'A 01/02/1930',\n",
       " 'A 01/09/2015',\n",
       " 'A 01/31/2012',\n",
       " 'A 02/28/2015',\n",
       " 'A 08/09/1909',\n",
       " 'A 11/29/2002 assuming a typographical error in the year',\n",
       " 'A 12/22/1929',\n",
       " 'B',\n",
       " 'B 01/02/1961',\n",
       " 'C',\n",
       " 'C 01/02/2008',\n",
       " 'C 06/18/2016',\n",
       " 'C 11/21/2002',\n",
       " 'D',\n",
       " 'D 01/28/2017',\n",
       " 'D 02/16/2010',\n",
       " 'D 06/17/2019',\n",
       " 'D 08/31/2003',\n",
       " 'D 09/09/2021',\n",
       " 'E',\n",
       " 'E 07/01/1972',\n",
       " 'E 07/18/2002',\n",
       " 'F',\n",
       " 'F 04/09/1969',\n",
       " 'F 10/22/2002',\n",
       " 'F 11/29/2014',\n",
       " 'F 11/30/2019',\n",
       " 'None of the above',\n",
       " 'None of the given options match the calculated date',\n",
       " 'not listed among the given options',\n",
       " 'not listed among the options',\n",
       " 'not listed among the options provided',\n",
       " 'not listed among the provided options',\n",
       " 'not listed in the given options',\n",
       " 'not listed in the options provided',\n",
       " 'not listed in the provided options'}"
      ]
     },
     "execution_count": 24,
     "metadata": {},
     "output_type": "execute_result"
    }
   ],
   "source": [
    "def map_fn(instance):\n",
    "    return {\n",
    "        \"answer_pred\": instance[\"answer_pred\"].translate(str.maketrans(\"\", \"\", '.,()\"')) if instance[\"answer_pred\"] else None\n",
    "    }\n",
    "\n",
    "new_ds = dataset.map(map_fn, load_from_cache_file=False)\n",
    "set(new_ds[\"answer_pred\"])"
   ]
  },
  {
   "cell_type": "code",
   "execution_count": 27,
   "id": "5513e2f2-ebfa-4ef2-b872-e446e4d26c7e",
   "metadata": {},
   "outputs": [
    {
     "data": {
      "application/vnd.jupyter.widget-view+json": {
       "model_id": "9d7e1c48c3a24e4db0065cbec2265f8e",
       "version_major": 2,
       "version_minor": 0
      },
      "text/plain": [
       "Map:   0%|          | 0/250 [00:00<?, ? examples/s]"
      ]
     },
     "metadata": {},
     "output_type": "display_data"
    },
    {
     "data": {
      "text/plain": [
       "{'11/22/2001',\n",
       " '11/23/2001',\n",
       " '12/24/2014',\n",
       " 'A',\n",
       " 'B',\n",
       " 'C',\n",
       " 'D',\n",
       " 'E',\n",
       " 'F',\n",
       " 'None of the above',\n",
       " 'None of the given options match the calculated date',\n",
       " 'not listed among the given options',\n",
       " 'not listed among the options',\n",
       " 'not listed among the options provided',\n",
       " 'not listed among the provided options',\n",
       " 'not listed in the given options',\n",
       " 'not listed in the options provided',\n",
       " 'not listed in the provided options'}"
      ]
     },
     "execution_count": 27,
     "metadata": {},
     "output_type": "execute_result"
    }
   ],
   "source": [
    "def map_fn(ins):\n",
    "    ls = ins[\"answer_pred\"].split()\n",
    "\n",
    "    if len(ls) == 2:\n",
    "        return {\n",
    "            \"answer_pred\": ls[0]\n",
    "        }\n",
    "\n",
    "    if ins[\"answer_pred\"] == \"A 11/29/2002 assuming a typographical error in the year\":\n",
    "        return {\n",
    "            \"answer_pred\": \"A\"\n",
    "        }\n",
    "\n",
    "    return {\n",
    "        \"answer_pred\": ins[\"answer_pred\"]\n",
    "    }\n",
    "\n",
    "new_ds = new_ds.map(map_fn)\n",
    "set(new_ds[\"answer_pred\"])"
   ]
  },
  {
   "cell_type": "code",
   "execution_count": 28,
   "id": "9bfa1f7e-4500-42d3-9610-86bb058610c9",
   "metadata": {},
   "outputs": [
    {
     "data": {
      "application/vnd.jupyter.widget-view+json": {
       "model_id": "f2d28b580d6b4681a71d2be251c27e57",
       "version_major": 2,
       "version_minor": 0
      },
      "text/plain": [
       "Filter:   0%|          | 0/250 [00:00<?, ? examples/s]"
      ]
     },
     "metadata": {},
     "output_type": "display_data"
    },
    {
     "data": {
      "text/plain": [
       "Dataset({\n",
       "    features: ['input', 'target', 'reasoning_formats', 'selected_modules', 'adapted_modules', 'reasoning_plan', 'reasoning', 'trajectory', 'answer_pred'],\n",
       "    num_rows: 3\n",
       "})"
      ]
     },
     "execution_count": 28,
     "metadata": {},
     "output_type": "execute_result"
    }
   ],
   "source": [
    "not_choice_ds = new_ds.filter(lambda x: len(x[\"answer_pred\"]) == 10)\n",
    "not_choice_ds"
   ]
  },
  {
   "cell_type": "code",
   "execution_count": 29,
   "id": "cb9ddc68-62eb-4bc3-88dd-ceb99b3ed52a",
   "metadata": {},
   "outputs": [
    {
     "name": "stdout",
     "output_type": "stream",
     "text": [
      "2015 is coming in 36 hours. What is the date one week ago from today in MM/DD/YYYY?\n",
      "Options:\n",
      "(A) 12/22/2040\n",
      "(B) 12/23/2014\n",
      "(C) 12/22/2014\n",
      "(D) 01/05/2015\n",
      "(E) 12/22/2086\n",
      "(F) 02/06/2015\n",
      "-----\n",
      "12/24/2014\n",
      "++++++++++++++++++++++++++++++++++++++++++++++++++++++++++++++++++++++++++++++++\n",
      "In the US, Thanksgiving is on the fourth Thursday of November. Today is the US Thanksgiving of 2001. What is the date today in MM/DD/YYYY?\n",
      "Options:\n",
      "(A) 01/16/2003\n",
      "(B) 11/21/2002\n",
      "(C) 09/04/2002\n",
      "(D) 11/22/2002\n",
      "(E) 08/24/2002\n",
      "(F) 11/23/2002\n",
      "-----\n",
      "11/22/2001\n",
      "++++++++++++++++++++++++++++++++++++++++++++++++++++++++++++++++++++++++++++++++\n",
      "In the US, Thanksgiving is on the fourth Thursday of November. Today is the US Thanksgiving of 2001. What is the date tomorrow in MM/DD/YYYY?\n",
      "Options:\n",
      "(A) 11/09/2002\n",
      "(B) 12/07/2002\n",
      "(C) 11/23/2002\n",
      "(D) 06/23/2002\n",
      "(E) 10/15/2002\n",
      "(F) 08/29/2002\n",
      "-----\n",
      "11/23/2001\n",
      "++++++++++++++++++++++++++++++++++++++++++++++++++++++++++++++++++++++++++++++++\n"
     ]
    }
   ],
   "source": [
    "for x in not_choice_ds:\n",
    "    print(x[\"input\"])\n",
    "    print(\"-\"*5)\n",
    "    print(x[\"answer_pred\"])\n",
    "    print(\"+\"*80)"
   ]
  },
  {
   "cell_type": "code",
   "execution_count": 30,
   "id": "b3165a2f-ef46-42d2-8c22-f67922757d90",
   "metadata": {},
   "outputs": [
    {
     "data": {
      "application/vnd.jupyter.widget-view+json": {
       "model_id": "b2c1b6064f0946d9a016180c015904fa",
       "version_major": 2,
       "version_minor": 0
      },
      "text/plain": [
       "Saving the dataset (0/1 shards):   0%|          | 0/250 [00:00<?, ? examples/s]"
      ]
     },
     "metadata": {},
     "output_type": "display_data"
    }
   ],
   "source": [
    "start_string, end_string = \"non_self_synthesis/bbh/\", \"/bbh_eval\"\n",
    "cat = str(chk_dir)[str(chk_dir).find(start_string) + len(start_string) + 4:str(chk_dir).find(end_string)]\n",
    "new_ds.save_to_disk(os.path.join(save_par_dir, cat))"
   ]
  },
  {
   "cell_type": "code",
   "execution_count": 31,
   "id": "710a4930-1b3b-4713-ba53-a90851d9cd80",
   "metadata": {},
   "outputs": [
    {
     "data": {
      "text/plain": [
       "('Accuracy', 0.8)"
      ]
     },
     "execution_count": 31,
     "metadata": {},
     "output_type": "execute_result"
    }
   ],
   "source": [
    "total = 0\n",
    "\n",
    "for instance in new_ds:\n",
    "    if instance[\"answer_pred\"] == instance[\"target\"].translate(str.maketrans(\"\", \"\", '()\"')):\n",
    "        total += 1\n",
    "\n",
    "\"Accuracy\", total / new_ds.num_rows"
   ]
  },
  {
   "cell_type": "markdown",
   "id": "42902384-b596-4280-9966-8fa9e0e11ae6",
   "metadata": {
    "jp-MarkdownHeadingCollapsed": true
   },
   "source": [
    "# disambiguation_qa"
   ]
  },
  {
   "cell_type": "code",
   "execution_count": 32,
   "id": "3b529475-dada-4c81-9a3e-909b3eb864fc",
   "metadata": {},
   "outputs": [],
   "source": [
    "chk_dir = here(os.path.join(par_dir, \"bbh-disambiguation_qa/bbh_eval\"))"
   ]
  },
  {
   "cell_type": "code",
   "execution_count": 33,
   "id": "f940e07e-333e-4f07-9438-d2a158fa225b",
   "metadata": {},
   "outputs": [],
   "source": [
    "dataset = Dataset.load_from_disk(chk_dir)"
   ]
  },
  {
   "cell_type": "code",
   "execution_count": 34,
   "id": "21133bee-e7ac-4fa4-9c26-bf7a9d011447",
   "metadata": {},
   "outputs": [
    {
     "data": {
      "text/plain": [
       "{'(A) Alex could not meet.',\n",
       " '(A) Alex could not meet.**',\n",
       " '(A) Alex sent the letter.',\n",
       " \"(A) It is Sam's office.\",\n",
       " \"(A) It was the educator's grading policy.\",\n",
       " \"(A) It was the pathologist's microscope.\",\n",
       " \"(A) It will be the producers' office.\",\n",
       " '(A) The carpenter had been working on the house.',\n",
       " '(A) The cook likes to teach.',\n",
       " '(A) The developer focuses on code.',\n",
       " '(A) The developer understood the problem.',\n",
       " '(A) The developer uses big words.',\n",
       " '(A) The homeowner had purchased.',\n",
       " '(A) The investigator was too late.',\n",
       " '(A) The janitor would have to mop.',\n",
       " '(A) The lawyer needed to understand.',\n",
       " '(A) The mechanic was in a good mood.',\n",
       " '(A) The nurse was busy.',\n",
       " \"(A) The office was the director's office.\",\n",
       " '(A) The paralegal was fired.',\n",
       " '(A) The patient had a history.',\n",
       " '(A) The patient had a skin condition.',\n",
       " \"(A) The secretary didn't reply yet.\",\n",
       " '(A) The secretary understood the problem.',\n",
       " '(A) The sheriff upholds the peace.',\n",
       " '(A) The surgeon needed more time.',\n",
       " '(A) The technician completed the repair.',\n",
       " '(A) The worker was repairing.',\n",
       " \"(A) They were my cousin's boss.\",\n",
       " \"(A) They were my parent's secretary.\",\n",
       " \"(A) They were the writer's friends.\",\n",
       " '(A).',\n",
       " '(B) Asked the cook.',\n",
       " '(B) Gave the carpenter a blueprint.',\n",
       " '(B) Gave the designer a prototype.',\n",
       " '(B) Helped the analyst book a flight.',\n",
       " \"(B) It is the chef's culinary training.\",\n",
       " \"(B) It was the chef's culinary training.\",\n",
       " \"(B) It was the customer's car.\",\n",
       " \"(B) It will be Sam's office.\",\n",
       " '(B) Sold the writer some garbage.',\n",
       " '(B) The CEO asked.',\n",
       " '(B) The accountant could help.',\n",
       " '(B) The accountant needed a car.**',\n",
       " \"(B) The blueprints were the architect's.\",\n",
       " '(B) The cashier is arrogant.',\n",
       " '(B) The client should make payments.',\n",
       " '(B) The customer could pay.',\n",
       " '(B) The designer liked the design.',\n",
       " '(B) The laborer smelled awful.',\n",
       " '(B) The nurse needed more time.',\n",
       " \"(B) The office was Sam's office.\",\n",
       " '(B) The patient needed more rest.',\n",
       " '(B) The patient should floss.',\n",
       " '(B) The salesperson would send the prices.',\n",
       " '(B) The secretary asked for a tool.',\n",
       " '(B) The secretary made a mistake.',\n",
       " '(B) The writer uses big words.',\n",
       " '(B) The writer wrote a good book.',\n",
       " \"(B) They will discuss the chef's favorite dishes.\",\n",
       " '(B) Told the editor the story.',\n",
       " '(B) Told the salesperson a fake story.',\n",
       " '(B) We could not meet.',\n",
       " '(C) Ambiguous.',\n",
       " 'A.',\n",
       " 'B.',\n",
       " 'C.',\n",
       " None}"
      ]
     },
     "execution_count": 34,
     "metadata": {},
     "output_type": "execute_result"
    }
   ],
   "source": [
    "set(dataset[\"answer_pred\"])"
   ]
  },
  {
   "cell_type": "code",
   "execution_count": 35,
   "id": "71ac8e8b-1d12-43d8-a23e-afd10f410619",
   "metadata": {},
   "outputs": [
    {
     "data": {
      "application/vnd.jupyter.widget-view+json": {
       "model_id": "4ccc94e81b3f4eb598160693b125a533",
       "version_major": 2,
       "version_minor": 0
      },
      "text/plain": [
       "Map:   0%|          | 0/250 [00:00<?, ? examples/s]"
      ]
     },
     "metadata": {},
     "output_type": "display_data"
    },
    {
     "data": {
      "text/plain": [
       "{'A',\n",
       " 'A Alex could not meet',\n",
       " 'A Alex sent the letter',\n",
       " \"A It is Sam's office\",\n",
       " \"A It was the educator's grading policy\",\n",
       " \"A It was the pathologist's microscope\",\n",
       " \"A It will be the producers' office\",\n",
       " 'A The carpenter had been working on the house',\n",
       " 'A The cook likes to teach',\n",
       " 'A The developer focuses on code',\n",
       " 'A The developer understood the problem',\n",
       " 'A The developer uses big words',\n",
       " 'A The homeowner had purchased',\n",
       " 'A The investigator was too late',\n",
       " 'A The janitor would have to mop',\n",
       " 'A The lawyer needed to understand',\n",
       " 'A The mechanic was in a good mood',\n",
       " 'A The nurse was busy',\n",
       " \"A The office was the director's office\",\n",
       " 'A The paralegal was fired',\n",
       " 'A The patient had a history',\n",
       " 'A The patient had a skin condition',\n",
       " \"A The secretary didn't reply yet\",\n",
       " 'A The secretary understood the problem',\n",
       " 'A The sheriff upholds the peace',\n",
       " 'A The surgeon needed more time',\n",
       " 'A The technician completed the repair',\n",
       " 'A The worker was repairing',\n",
       " \"A They were my cousin's boss\",\n",
       " \"A They were my parent's secretary\",\n",
       " \"A They were the writer's friends\",\n",
       " 'B',\n",
       " 'B Asked the cook',\n",
       " 'B Gave the carpenter a blueprint',\n",
       " 'B Gave the designer a prototype',\n",
       " 'B Helped the analyst book a flight',\n",
       " \"B It is the chef's culinary training\",\n",
       " \"B It was the chef's culinary training\",\n",
       " \"B It was the customer's car\",\n",
       " \"B It will be Sam's office\",\n",
       " 'B Sold the writer some garbage',\n",
       " 'B The CEO asked',\n",
       " 'B The accountant could help',\n",
       " 'B The accountant needed a car',\n",
       " \"B The blueprints were the architect's\",\n",
       " 'B The cashier is arrogant',\n",
       " 'B The client should make payments',\n",
       " 'B The customer could pay',\n",
       " 'B The designer liked the design',\n",
       " 'B The laborer smelled awful',\n",
       " 'B The nurse needed more time',\n",
       " \"B The office was Sam's office\",\n",
       " 'B The patient needed more rest',\n",
       " 'B The patient should floss',\n",
       " 'B The salesperson would send the prices',\n",
       " 'B The secretary asked for a tool',\n",
       " 'B The secretary made a mistake',\n",
       " 'B The writer uses big words',\n",
       " 'B The writer wrote a good book',\n",
       " \"B They will discuss the chef's favorite dishes\",\n",
       " 'B Told the editor the story',\n",
       " 'B Told the salesperson a fake story',\n",
       " 'B We could not meet',\n",
       " 'C',\n",
       " 'C Ambiguous',\n",
       " None}"
      ]
     },
     "execution_count": 35,
     "metadata": {},
     "output_type": "execute_result"
    }
   ],
   "source": [
    "def map_fn(instance):    \n",
    "    return {\n",
    "        \"answer_pred\": instance[\"answer_pred\"].translate(str.maketrans(\"\", \"\", '.,()*\"')) if instance[\"answer_pred\"] else None\n",
    "    }\n",
    "\n",
    "new_ds = dataset.map(map_fn, load_from_cache_file=False)\n",
    "set(new_ds[\"answer_pred\"])"
   ]
  },
  {
   "cell_type": "code",
   "execution_count": 36,
   "id": "3724e230-574d-407c-8b07-cded9deb91ed",
   "metadata": {},
   "outputs": [
    {
     "data": {
      "application/vnd.jupyter.widget-view+json": {
       "model_id": "15272a094af645c7b4c679bf144d0c2a",
       "version_major": 2,
       "version_minor": 0
      },
      "text/plain": [
       "Filter:   0%|          | 0/250 [00:00<?, ? examples/s]"
      ]
     },
     "metadata": {},
     "output_type": "display_data"
    },
    {
     "data": {
      "text/plain": [
       "Dataset({\n",
       "    features: ['input', 'target', 'reasoning_formats', 'selected_modules', 'adapted_modules', 'reasoning_plan', 'reasoning', 'trajectory', 'answer_pred'],\n",
       "    num_rows: 1\n",
       "})"
      ]
     },
     "execution_count": 36,
     "metadata": {},
     "output_type": "execute_result"
    }
   ],
   "source": [
    "none_ds = new_ds.filter(lambda x: x[\"answer_pred\"] == None)\n",
    "none_ds"
   ]
  },
  {
   "cell_type": "code",
   "execution_count": 37,
   "id": "5bd51154-dfb3-41da-a868-e456d9a7c624",
   "metadata": {},
   "outputs": [
    {
     "name": "stdout",
     "output_type": "stream",
     "text": [
      "To determine the antecedent of the pronoun \"her\" in the sentence \"The pathologist obtained tissue samples from the victim to look at under her microscope,\" we follow the reasoning plan step-by-step:\n",
      "\n",
      "1. **Identify the Pronoun**:\n",
      "   - The pronoun in question is \"her.\"\n",
      "\n",
      "2. **List Potential Antecedents**:\n",
      "   - The potential antecedents are \"pathologist\" and \"victim.\"\n",
      "\n",
      "3. **Analyze Sentence Structure**:\n",
      "   - The sentence structure is: \"The pathologist obtained tissue samples from the victim to look at under her microscope.\"\n",
      "   - The phrase \"under her microscope\" suggests possession or use of the microscope.\n",
      "\n",
      "4. **Consider Grammatical Rules**:\n",
      "   - Typically, the pronoun \"her\" refers to the nearest preceding noun that makes sense in the context.\n",
      "   - However, context and common sense also play a role.\n",
      "\n",
      "5. **Evaluate Contextual Clues**:\n",
      "   - A pathologist is more likely to use a microscope to examine tissue samples than a victim.\n",
      "   - The action of \"looking at tissue samples\" is typically performed by the pathologist.\n",
      "\n",
      "6. **Check for Ambiguity**:\n",
      "   - Determine if the sentence could be interpreted in more than one way.\n",
      "   - If the sentence is ambiguous, note why it is ambiguous.\n",
      "\n",
      "7. **Conclude Based on Analysis**:\n",
      "   - Based on the analysis, the most likely antecedent of the pronoun \"her\" is the pathologist, as it is more logical for the pathologist to be using the microscope to examine tissue samples.\n",
      "\n",
      "Therefore, the final answer is (A) It was the pathologist's microscope.\n"
     ]
    }
   ],
   "source": [
    "print(none_ds[0][\"trajectory\"])"
   ]
  },
  {
   "cell_type": "code",
   "execution_count": 38,
   "id": "7e77469e-5af5-40cb-891a-7fe9cc940dc7",
   "metadata": {},
   "outputs": [
    {
     "data": {
      "application/vnd.jupyter.widget-view+json": {
       "model_id": "2ce3eac2ccb84a2d988a63c8c61e8fe5",
       "version_major": 2,
       "version_minor": 0
      },
      "text/plain": [
       "Map:   0%|          | 0/250 [00:00<?, ? examples/s]"
      ]
     },
     "metadata": {},
     "output_type": "display_data"
    },
    {
     "data": {
      "text/plain": [
       "{'A', 'B', 'C'}"
      ]
     },
     "execution_count": 38,
     "metadata": {},
     "output_type": "execute_result"
    }
   ],
   "source": [
    "def map_fn(ins):\n",
    "    if not ins[\"answer_pred\"]:\n",
    "        return {\n",
    "            \"answer_pred\": \"A\"\n",
    "        }\n",
    "\n",
    "    return {\n",
    "        \"answer_pred\": ins[\"answer_pred\"].split()[0]\n",
    "    }\n",
    "\n",
    "new_ds = new_ds.map(map_fn)\n",
    "set(new_ds[\"answer_pred\"])"
   ]
  },
  {
   "cell_type": "code",
   "execution_count": 39,
   "id": "d4ac2278-e11d-4377-b8c2-1e79d9ac7c10",
   "metadata": {},
   "outputs": [
    {
     "data": {
      "application/vnd.jupyter.widget-view+json": {
       "model_id": "0fd892feacd04835a53e31a218650cea",
       "version_major": 2,
       "version_minor": 0
      },
      "text/plain": [
       "Saving the dataset (0/1 shards):   0%|          | 0/250 [00:00<?, ? examples/s]"
      ]
     },
     "metadata": {},
     "output_type": "display_data"
    }
   ],
   "source": [
    "start_string, end_string = \"non_self_synthesis/bbh/\", \"/bbh_eval\"\n",
    "cat = str(chk_dir)[str(chk_dir).find(start_string) + len(start_string) + 4:str(chk_dir).find(end_string)]\n",
    "new_ds.save_to_disk(os.path.join(save_par_dir, cat))"
   ]
  },
  {
   "cell_type": "code",
   "execution_count": 40,
   "id": "2d42fa2e-575f-4a51-9d69-7994d6508b2b",
   "metadata": {},
   "outputs": [
    {
     "data": {
      "text/plain": [
       "('Accuracy', 0.728)"
      ]
     },
     "execution_count": 40,
     "metadata": {},
     "output_type": "execute_result"
    }
   ],
   "source": [
    "total = 0\n",
    "\n",
    "for instance in new_ds:\n",
    "    if instance[\"answer_pred\"] == instance[\"target\"].translate(str.maketrans(\"\", \"\", '()\"')):\n",
    "        total += 1\n",
    "\n",
    "\"Accuracy\", total / new_ds.num_rows"
   ]
  },
  {
   "cell_type": "markdown",
   "id": "cf9db11f-2eca-4d16-8507-7bd9ed72282a",
   "metadata": {},
   "source": [
    "# dyck_languages"
   ]
  },
  {
   "cell_type": "code",
   "execution_count": 326,
   "id": "658d2bab-9a0b-4026-860d-065c45489f82",
   "metadata": {},
   "outputs": [],
   "source": [
    "chk_dir = here(os.path.join(par_dir, \"bbh-dyck_languages/bbh_eval\"))"
   ]
  },
  {
   "cell_type": "code",
   "execution_count": 327,
   "id": "4d1bee9a-1738-4772-8848-846a0d0a0e15",
   "metadata": {},
   "outputs": [],
   "source": [
    "dataset = Dataset.load_from_disk(chk_dir)"
   ]
  },
  {
   "cell_type": "code",
   "execution_count": 328,
   "id": "83b0c8a1-bda9-418b-a47a-6e436bd7e166",
   "metadata": {},
   "outputs": [
    {
     "data": {
      "text/plain": [
       "Dataset({\n",
       "    features: ['input', 'target', 'reasoning_formats', 'selected_modules', 'adapted_modules', 'reasoning_plan', 'reasoning', 'trajectory', 'answer_pred'],\n",
       "    num_rows: 23\n",
       "})"
      ]
     },
     "execution_count": 328,
     "metadata": {},
     "output_type": "execute_result"
    }
   ],
   "source": [
    "none_ds = dataset.filter(lambda x: x[\"answer_pred\"] == None)\n",
    "none_ds"
   ]
  },
  {
   "cell_type": "code",
   "execution_count": 329,
   "id": "ce39708e-de95-4714-bb53-39a022278ddd",
   "metadata": {},
   "outputs": [
    {
     "data": {
      "text/plain": [
       "Dataset({\n",
       "    features: ['input', 'target', 'reasoning_formats', 'selected_modules', 'adapted_modules', 'reasoning_plan', 'reasoning', 'trajectory', 'answer_pred'],\n",
       "    num_rows: 6\n",
       "})"
      ]
     },
     "execution_count": 329,
     "metadata": {},
     "output_type": "execute_result"
    }
   ],
   "source": [
    "import re\n",
    "def map_fn(instance):\n",
    "    if instance[\"answer_pred\"] == None:\n",
    "        text = \"The final answer is:\"\n",
    "        pattern = fr\"(?<={text}).*\"\n",
    "    \n",
    "        response = instance[\"trajectory\"]\n",
    "    \n",
    "        try:\n",
    "            answer, trajectory = re.search(pattern, response).group(0).strip(), re.sub(pattern, \"\", response).replace(text, \"\").strip()\n",
    "        except:\n",
    "            answer, trajectory = None, response\n",
    "    \n",
    "        return {\n",
    "            \"trajectory\": trajectory,\n",
    "            \"answer_pred\": answer\n",
    "        }\n",
    "\n",
    "    return {\n",
    "        \"trajectory\": instance[\"trajectory\"],\n",
    "        \"answer_pred\": instance[\"answer_pred\"]\n",
    "    }\n",
    "\n",
    "new_ds = dataset.map(map_fn)\n",
    "none_ds = new_ds.filter(lambda x: x[\"answer_pred\"] == None)\n",
    "none_ds"
   ]
  },
  {
   "cell_type": "code",
   "execution_count": 52,
   "id": "0caf036c-3fa9-4e6a-b538-d2a7e7b8592a",
   "metadata": {},
   "outputs": [
    {
     "name": "stdout",
     "output_type": "stream",
     "text": [
      "To complete the sequence with properly closed parentheses, we will follow the step-by-step reasoning plan provided.\n",
      "\n",
      "### Step-by-Step Reasoning\n",
      "\n",
      "1. **Identify and List All Opening Brackets:**\n",
      "   - Scan through the input sequence and list all the opening brackets in the order they appear.\n",
      "   - Opening brackets in the sequence: `(`, `[`, `[`, `{`, `<`, `{`, `{`, `<`, `<`, `<`, `<`, `{`, `(`, `<`, `(`, `(`, `[`, `(`, `[`, `{`, `<`, `(`, `{`, `<`, `<`, `>`, `[`, `<`, `(`, `)`.\n",
      "\n",
      "2. **Identify and List All Closing Brackets:**\n",
      "   - Scan through the input sequence and list all the closing brackets in the order they appear.\n",
      "   - Closing brackets in the sequence: `>`, `}`, `}`, `>`, `>`, `>`, `}`, `)`, `)`, `]`, `)`, `]`, `>`, `}`, `}`, `]`, `>`, `>`, `)`, `>`, `]`, `]`.\n",
      "\n",
      "3. **Match Opening and Closing Brackets:**\n",
      "   - For each type of bracket, match the opening brackets with their corresponding closing brackets.\n",
      "   - Ensure that each opening bracket has a corresponding closing bracket.\n",
      "\n",
      "4. **Check for Unmatched Opening Brackets:**\n",
      "   - Identify any opening brackets that do not have a corresponding closing bracket.\n",
      "   - List these unmatched opening brackets.\n",
      "\n",
      "5. **Add Missing Closing Brackets:**\n",
      "   - For each unmatched opening bracket, add the corresponding closing bracket at the end of the sequence.\n",
      "   - Ensure that the closing brackets are added in the reverse order of their opening counterparts to maintain the correct nesting.\n",
      "\n",
      "6. **Verify the Balanced Sequence:**\n",
      "   - After adding the missing closing brackets, scan through the sequence again to ensure that all brackets are properly matched and nested.\n",
      "   - Check that each type of bracket is balanced (i.e., the number of opening brackets equals the number of closing brackets for each type).\n",
      "\n",
      "7. **Finalize the Sequence:**\n",
      "   - If all brackets are properly matched and nested, the sequence is complete.\n",
      "   - If there are still unmatched brackets, repeat steps 4 to 6 until the sequence is balanced.\n",
      "\n",
      "### Detailed Steps for the AI Agent\n",
      "\n",
      "1. **Scan and List Opening Brackets:**\n",
      "   - Initialize an empty list for opening brackets.\n",
      "   - Traverse the input sequence and add each opening bracket to the list in the order they appear.\n",
      "\n",
      "2. **Scan and List Closing Brackets:**\n",
      "   - Initialize an empty list for closing brackets.\n",
      "   - Traverse the input sequence and add each closing bracket to the list in the order they appear.\n",
      "\n",
      "3. **Match Brackets:**\n",
      "   - Initialize a stack data structure.\n",
      "   - Traverse the input sequence:\n",
      "     - If an opening bracket is encountered, push it onto the stack.\n",
      "     - If a closing bracket is encountered, check if it matches the top of the stack. If it does, pop the stack. If it does not, note the mismatch.\n",
      "\n",
      "4. **Identify Unmatched Opening Brackets:**\n",
      "   - After traversing the sequence, any remaining brackets in the stack are unmatched opening brackets.\n",
      "\n",
      "5. **Add Missing Closing Brackets:**\n",
      "   - Pop each unmatched opening bracket from the stack and add its corresponding closing bracket to the end of the sequence.\n",
      "\n",
      "6. **Verify Balance:**\n",
      "   - Traverse the modified sequence again using a stack to ensure all brackets are properly matched and nested.\n",
      "\n",
      "7. **Finalize:**\n",
      "   - If the stack is empty after the second traversal, the sequence is balanced.\n",
      "   - If not, repeat the process until the sequence is balanced.\n",
      "\n",
      "### Applying the Plan to the Input Sequence\n",
      "\n",
      "1. **Identify and List All Opening Brackets:**\n",
      "   - Opening brackets: `(`, `[`, `[`, `{`, `<`, `{`, `{`, `<`, `<`, `<`, `<`, `{`, `(`, `<`, `(`, `(`, `[`, `(`, `[`, `{`, `<`, `(`, `{`, `<`, `<`, `>`, `[`, `<`, `(`, `)`.\n",
      "\n",
      "2. **Identify and List All Closing Brackets:**\n",
      "   - Closing brackets: `>`, `}`, `}`, `>`, `>`, `>`, `}`, `)`, `)`, `]`, `)`, `]`, `>`, `}`, `}`, `]`, `>`, `>`, `)`, `>`, `]`, `]`.\n",
      "\n",
      "3. **Match Opening and Closing Brackets:**\n",
      "   - Use a stack to match opening and closing brackets.\n",
      "   - Push opening brackets onto the stack and pop them when a matching closing bracket is encountered.\n",
      "\n",
      "4. **Check for Unmatched Opening Brackets:**\n",
      "   - After traversing the sequence, the stack contains unmatched opening brackets: `(`, `[`, `[`, `{`, `<`, `{`, `{`, `<`, `<`, `<`, `<`, `{`, `(`, `<`, `(`, `(`, `[`, `(`, `[`, `{`, `<`, `(`, `{`, `<`, `<`, `>`, `[`, `<`, `(`, `)`.\n",
      "\n",
      "5. **Add Missing Closing Brackets:**\n",
      "   - Pop each unmatched opening bracket from the stack and add its corresponding closing bracket to the end of the sequence.\n",
      "   - The sequence with added closing brackets: `( [ [ { < > { } { } < < < < { } > > ( < ( ( ) ) [ ( [ ] ) ] > ) > > { } } [ < < > > ] < ( ) > ] ] ) ) ) ) ) ) ) ) ) ) ) ) ) ) ) ) ) ) ) ) ) ) ) ) ) ) ) ) ) ) ) ) ) ) ) ) ) ) ) ) ) ) ) ) ) ) ) ) ) ) ) ) ) ) ) ) ) ) ) ) ) ) ) ) ) ) ) ) ) ) ) ) ) ) ) ) ) ) ) ) ) ) ) ) ) ) ) ) ) ) ) ) ) ) ) ) ) ) ) ) ) ) ) ) ) ) ) ) ) ) ) ) ) ) ) ) ) ) ) ) ) ) ) ) ) ) ) ) ) ) ) ) ) ) ) ) ) ) ) ) ) ) ) ) ) ) ) ) ) ) ) ) ) ) ) ) ) ) ) ) ) ) ) ) ) ) ) ) ) ) ) ) ) ) ) ) ) ) ) ) ) ) ) ) ) ) ) ) ) ) ) ) ) ) ) ) ) ) ) )\n"
     ]
    }
   ],
   "source": [
    "print(none_ds[5][\"trajectory\"])"
   ]
  },
  {
   "cell_type": "code",
   "execution_count": 53,
   "id": "eec39703-846b-4e04-88a1-d5cdb2d6eaff",
   "metadata": {},
   "outputs": [
    {
     "data": {
      "text/plain": [
       "{'',\n",
       " '\"( < [ < ( [ ( ) ] < > < ( { } ) > ) < [ ] > > ] ( ) < [ < > ] > )\".',\n",
       " '( ( ( [ { } ] ) ) )',\n",
       " '( ( ( [ { } ] ) ))',\n",
       " '( ).',\n",
       " '( [ [ [ ( { ( ( < [ { < > } ] > { { [ ] } } ) ) } ( [ [ < > ] ] ) ) ] ] ] ) ( < > < [ ( ) ] > (',\n",
       " None,\n",
       " 'The sequence is already balanced.',\n",
       " '[ < [ ( ( ) < ( ) > ( { { } } [ [ [ < ( [ ] ) ( ) > ] ] ] { { { { { } } } { { } { < [ [ ] ] > } } { } } } ) ) ] > ]',\n",
       " '\\\\[ [ [ < < { } > ] ] > > \\\\]',\n",
       " '`( ( ( ) ) )`.',\n",
       " '`( ( ) ) [ { ( < > ) } ]`.',\n",
       " '`( ( < < < ( ( [ { [ ] } ) ) > > ) )`.',\n",
       " '`( ( < > ) )`.',\n",
       " '`( ( < [ { { } } ] > { } ) ( < > ) [ ( < > ) ] < >`.',\n",
       " '`( ( < { [ { } ] } > ) ) < { } >`.',\n",
       " '`( ( [ < [ ] > { { [ [ ] ] } } ] ) )`.',\n",
       " '`( ( [ [ ] ] ) )`.',\n",
       " '`( ( { ( ( { } ) ) ( ( [ ] ) ) } ) )`.',\n",
       " '`( ( { < ( { } ) > } ) ) ) }`.',\n",
       " '`( ( { < > ( ) [ { < ( < > < ( ( ) ( [ { } ] ) ) > { { } { ( ) } } ) [ ] > } ] { { } } }`',\n",
       " '`( ( { } ) )`.',\n",
       " '`( ) ( ()`.',\n",
       " '`( ) ( < < { } ) > >`.',\n",
       " '`( ) [ ( [ < { { ( { } ) } } ] ] >`.',\n",
       " '`( ) { < > }`.',\n",
       " '`( < ( ) >`.',\n",
       " '`( < ( [ < < [ ] > > ] )`.',\n",
       " '`( < ( [ ] ) > { } )`.',\n",
       " '`( < < < ( < < > > ) > > >`.',\n",
       " '`( < < < > )`.',\n",
       " '`( < < > ( [ < { { } } ( ) > ] ) [ ( ) ] [ ] [ { } ] >`.',\n",
       " '`( < < > > < > [ ] [ ) ]`.',\n",
       " '`( < < > > [ [ [ { { < { } ( { } ) > } } < { { { } } } < > > ] ] ( )`.',\n",
       " '`( < > ( [ ( ) ] ) ) > < )`.',\n",
       " '`( < > )`.',\n",
       " '`( < [ ( ) ] > )`.',\n",
       " '`( < [ < ( ) > [ { [ { ( ) } ] } ] ] > [ { } ] ( < { < [ { } ] > } > ) ) ( ( < ( ) > [ ] [ < { ( ) } > ] [ { } ] [ ] )`.',\n",
       " '`( < { ( ) { } } ( < > ) > ) >`.',\n",
       " '`( < { < { } > { { ( [ ( { } ) ( ( [ ( [ ( { [ { } ] } ) ] ) ] ) ) [ < [ [ [ [ [ < > ] [ { [ [ { ( ( < [ ] > ) [ ( [ ] ) ] < { [ ] } > ) } ] ] } ] { < ( < > ) > } ] ] ] ] > ] ] ) } } } >`.',\n",
       " '`( < { } [ ] > )`.',\n",
       " '`( [ ( ) ] )`.',\n",
       " '`( [ ( { } ) { < ( ( [ ] ) ) > ) } ]`.',\n",
       " '`( [ < < > [ [ < > ] ] > ] ( < < < ( [ [ ] ] ) [ ( ( [ { { } } ] ) ) ] > > ))`.',\n",
       " '`( [ < < { } > > ] )`.',\n",
       " '`( [ [ [ { } ] ] { < [ < [ { } ] > ] > } ] )`.',\n",
       " '`( [ ] )`.',\n",
       " '`( [ { < ( [ ] < > ) > } ] )`.',\n",
       " '`( { ( ( { } ) ) } ( ) ) < { ( ) }`.',\n",
       " '`( { ( ) } )`.',\n",
       " '`( { < [ < > ] > } > ] > )`.',\n",
       " '`( { < { ( ) } > } { ( { [ ] } ) } )`.',\n",
       " '`( { < { { [ ] } < > [ ] } [ [ [ < [ [ ] ] > ] ] ] > } [ ] { { { { [ { } ] } ( < [ [ [ ] ] ] > ) < < ( { ( [ ] ) [ { { } } ] { [ ] } } ) [ [ { [ [ { ( { } ) [ ( ) { } ] { } } ] ] < > } ] ] > > } )`.',\n",
       " '`( { [ [ { } ] ] } )`.',\n",
       " '`( { [ { } ] } )`.',\n",
       " '`( { { { { { < < ( { ( { { < < [ < [ [ ] ] > ] [ ] > [ [ ] ] > ( < [ { < > < [ ] > } ] > ) } } ) } ) > > } } } )`.',\n",
       " '`( { { } } )`.',\n",
       " '`( { } ) < { < { } > > } >`.',\n",
       " '`( { } )`.',\n",
       " '`( { } < > { < { ( < > ) } >`.',\n",
       " '`( {} )`.',\n",
       " '`()`.',\n",
       " '`< ( ( ( < > < [ [ ] ] > ) { } ) ) >`.',\n",
       " '`< ( ( ) )`.',\n",
       " '`< ( ( [ ( [ ] ) ] ) ) >`.',\n",
       " '`< ( ( { < > } ) > )`.',\n",
       " '`< ( ) ( )`.',\n",
       " '`< ( ) ( { { [ ] } } } ) >`.',\n",
       " '`< ( ) < > > { < > } { ( ) ( < ( ) > ) } < < { [ ] } > >`.',\n",
       " '`< ( < > ) > { } < { [ < > ] } >`.',\n",
       " '`< ( < > >`.',\n",
       " '`< ( < { [ { } < ( { ( < < < { [ ( [ ( [ { { < [ { } < ( ) > ] > } } ] ) ] ) ] } > < > > ( ( < { } > ) ) > ) } ) > ] } > ) } ) > ) > ) > > > } ] ) > ) } > )`.',\n",
       " '`< ( [ [ [ [ ( ) ] ] { } ] ] ) ] >`.',\n",
       " '`< ( [ { ( < > ) } ] ) > { ( [ ] ) }`.',\n",
       " '`< ( { ( < < > > ) } ) >`.',\n",
       " '`< ( { [ { } ] } [ ] [ ] ) ]`.',\n",
       " '`< ( { } ) >`.',\n",
       " '`< ()`.',\n",
       " '`< < ( ( [ ] ) ) > >`.',\n",
       " '`< < ( < > > ) >`.',\n",
       " '`< < ( [ ] ) > < > >`.',\n",
       " '`< < < > >`.',\n",
       " '`< < < [ ( ) ] > > >`.',\n",
       " '`< < > ( [ ] ) >`.',\n",
       " '`< < > >`.',\n",
       " '`< < [ ( ) ] > > >`.',\n",
       " '`< < [ ( < [ ( { [ ( ) ] [ ( ( { [ ] } ) ) ] } ) ] > ) ] > >`.',\n",
       " '`< < [ ] > ( < > ) < >`.',\n",
       " '`< < { ( < ( ) > ) } > >`.',\n",
       " '`< < { { { < [ ( < > { ( ) } ) ] > } } } > > >`.',\n",
       " '`< < { } > >`.',\n",
       " '`< > < { { { [ ( ) ] } } } > ( { [ { ( [ ] { } ) } ] >`.',\n",
       " '`< > { }`.',\n",
       " '`< [ ( [ ( ) [ < [ < > ] < > [ ] > ] < < ( ) ( ) > < { } > > [ < > ] ]`.',\n",
       " '`< [ ( { { ( ( ) ) } } ) [ ( [ { } ] ) ] < { { < < < > [ < [ < ( [ ( { ( ( < < < < > > > { ( { { < ( ) > ( ) } } ) } > { } ) ) } ) ] ) > ] > ] > < { } > > } ( ) < { ( ) } > } > ] [ < ( ) > ]`',\n",
       " '`< [ < > ] >`',\n",
       " '`< [ [ { } ] ] >`.',\n",
       " '`< [ ] >`.',\n",
       " '`< [ ] { < ( ) > } [ ] ( { } ) > } )`.',\n",
       " '`< [ { ( ( < ( ( ) ) > ) ) } ] >`.',\n",
       " '`< [ { { < ( ) > { < { } > ( < ( ) > { < [ ( { { ( < [ ] > ) } } { ( ( [ [ { } [ ] ] ] ) ) } ) ] > } ) } } > ] } }`.',\n",
       " '`< [ { { [ [ [ < ( < [ ] { [ ( [ ] ) ] [ ] < > } > ) > ] ( [ ] ) ] ] } } ] ) ] } > ) > ] ) ] } }`.',\n",
       " '`< { ( ( ) ) } >`.',\n",
       " '`< { ( { } ) < > }`.',\n",
       " '`< { < ( ) ) > } >`.',\n",
       " '`< { < [ [ ( { } ) ] ] > } > ] ]`.',\n",
       " '`< { < { [ < { ( [ ] ) } > { ( { } ) } ( ) ] } > } [ < < > > ] { } [ ] < { } > } ] ) > >`.',\n",
       " '`< { [ < > ] ( ( ( ( { { } } ) ) ) ) } )`.',\n",
       " '`< { [ < > ] } >`.',\n",
       " '`< { [ ] } >`.',\n",
       " '`< { } >`.',\n",
       " '`< { } [ [ ( ( < { < { [ ] } > } > ) ) ] ] >`.',\n",
       " '`<[[]]>`.',\n",
       " '`>}`.',\n",
       " '`[ ( ) < ] >`.',\n",
       " '`[ ( ) { [ ] } [ ] [ ] { < { ( ( { } ) ) { [ { } ] } } > [ ] } ]`.',\n",
       " '`[ ( < { [ ( ) ] } > ] )`.',\n",
       " '`[ ( [ ( [ < ( ) > [ < { } { [ ] } [ ] [ ] > { ( < { < > } > ) } ] ] ) ] ) ]`.',\n",
       " '`[ ( [ ] ) ]`.',\n",
       " '`[ ( { } ) ) ]`.',\n",
       " '`[ < ( < < > > ) > ]`.',\n",
       " '`[ < ( [ ] ) > ] { [ { } } ]`.',\n",
       " '`[ < < { } > < > > ( ) ]`',\n",
       " '`[ < > [ [ < [ ] > ] ] ]`.',\n",
       " '`[ < > ] [ [ < > ] ]`.',\n",
       " '`[ < > ] [ { < { } > { [ ( [ ( ) ] ) ] } } ]`.',\n",
       " '`[ < > { < [ ] > } > ]`.',\n",
       " '`[ < > { { { } } { } } ] < { } [ { [ ] } ] > } ] ]`.',\n",
       " '`[ < [ ( [ < > ] { < > } [ [ ] ] ) ] ]`.',\n",
       " '`[ < [ [ ( ) ( ( { < { < { { } } > } > } ) ) ] ] > ( ) { ( ) }`.',\n",
       " '`[ < [ ] ( ) ( ( { { } } ) ) < { < > } > [ ] > ] < ( ) > ( ( ( ) ) ) ( < > )`.',\n",
       " '`[ < [ ] > [ ] ]`.',\n",
       " '`[ < [ ] > ] [ { [ ] } ]`.',\n",
       " '`[ < [ ] ] > ]`.',\n",
       " '`[ < [ ] { { } { < ( { } ) > } } > ] ( { } ) ]`.',\n",
       " '`[ < [ { ( < ( ( [ < < { } > < < [ ( { < < > > } ) ] > > > ] { } ) ) > ) } ] [ < < { } > ( < < ( ) < ( [ ] ) > > ( ( ) ) > ) > ] > ] < < { } > > ]`.',\n",
       " '`[ < [ { { < > [ ( ) ] ( ( ) ) } } ] > ] { { { ( < > ) } } }`.',\n",
       " '`[ < { < [ ( < > ) ( ( [ [ ] ] ) ) ( ( { } ) ) { [ ] } < ( < > ) > ] > } > ]`.',\n",
       " '`[ < { [ ] } ] >`.',\n",
       " '`[ < { { } } ] >`.',\n",
       " '`[ [ ( { { ( { } ) } < < ( [ [ { } < [ { < [ { ( ) ( [ { } ] ) } ] < > > } ] ( < { ( [ ] ) } > ) > ] ( [ < ( ) > ] ) ] ) > > } ] ]`.',\n",
       " '`[ [ < < { [ ] ( [ [ ( [ [ { [ ] } ] ] ) ( ) ] ] ) ( ) [ ] < [ ( ( ( ) ) ) ] < < < > [ ( ) ] > [ ] > > [ < > ] } > >`.',\n",
       " '`[ [ < > ] ]`.',\n",
       " '`[ [ < [ ( [ < [ ] > ] ) ] > ] ( { } ] ]`.',\n",
       " '`[ [ < [ ] > ] ] < >`.',\n",
       " '`[ [ [ [ < { ( ) } ( ) > { ( ) } ] { ( ) } ] ] ]`.',\n",
       " '`[ [ ] ]`.',\n",
       " '`[ [ { { < ( ) > } } ] ] }`.',\n",
       " '`[ ] ( [ [ { < { { ( < > [ ] ) } } < > > } ] ] { } )`.',\n",
       " '`[ ] < { < > } > { ( > } )`.',\n",
       " '`[ ] < { < { [ ( ) ] } > } >`.',\n",
       " '`[ ] [ ( [ [ ( ) ] ] ) < < [ ] > > < < > >`.',\n",
       " '`[ ] [ { } ] ( ( ) )`.',\n",
       " '`[ ] { ( ( < { ( ( ( { < > ( ) } ) ) [ { } ] { { ( ) } } ) } < > > ) }`.',\n",
       " '`[ ] { ( { < > } ) } [ ( ) ] { } [ { { ( < > ) } < ] >`.',\n",
       " '`[ ] { [ [ < { { { } } } > ] ] < [ { } ] } >`.',\n",
       " '`[ { ( < [ [ ] ] > ) ] } ) >`.',\n",
       " '`[ { ( { [ < ( < [ ( ) ] > ) > ] } ) } ] [ ] [ ( { ( ) } ) ] < { ( ( ( ( ( < > ) ) ) ) ) [ < [ ( < > ) ] > [ [ ] ( ( { } { [ { < [ ] > } ] } < { } > < [ < > ] > [ ] ) ) ] ] } > { [ { ( )`',\n",
       " '`[ { ( { } ) } < < ( ) { { < [ { [ ( ) ] } ] > } } > > ]`.',\n",
       " '`[ { < ( ) > } ]`.',\n",
       " '`[ { [ < [ < > > ] > ] ] [ ] > } ] } ]`.',\n",
       " '`[ { [ { ( < < < < > { } > { [ { } ] } > > ) } ] [ ] } ] [ < { { } } [ [ ( ( ) ) ] ] > ] [ ( ( [ ] ) ) ] ]`.',\n",
       " '`[ { { ( ) } } ]`.',\n",
       " '`[ { { } } ] ( < { < [ ( ( ) ) ] > } > ]`.',\n",
       " '`{ ( ( ) ( { ( < ( ) > ) } ) }`.',\n",
       " '`{ ( ( [ ] ) ) }`.',\n",
       " '`{ ( < > ) }`',\n",
       " '`{ ( < [ < > ] ) }`.',\n",
       " '`{ ( < { < ( ) > } > } ) >`.',\n",
       " '`{ ( [ [ ] ( ) ] ) }`.',\n",
       " '`{ ( [ ] ) }`.',\n",
       " '`{ ( [ { ( < [ { ( ) { } } ] > ) < > } ] ) } > ]`.',\n",
       " '`{ ( { [ ( ) ] } { { [ ] } } { } < > ) } [ < [ ( ) ] ] >`.',\n",
       " '`{ ( { { < { < > } > } < { } > < < < [ < [ ] > ] > > > ] } > > >`.',\n",
       " '`{ ( { { { < ( < ( [ < < > > ] < > ) > ) > } [ ] } } } }`.',\n",
       " '`{ (()) }`.',\n",
       " '`{ < ( < < < [ < [ [ ] ( ( ) ) ] > < > ] > > > ) > }`.',\n",
       " '`{ < ( [ ( ( [ < { ( { } ) } < < > > > ] ) ) ] ) > } ) )`.',\n",
       " '`{ < ( [ ] ) > }`.',\n",
       " '`{ < < () > > }`.',\n",
       " '`{ < < > ( [ [ { ( ( [ ] < > ) ) } ] { [ [ ] { } { [ { < > } ] } ( { { { { } } } } ) ] } ] ) }`.',\n",
       " '`{ < < > > }`.',\n",
       " '`{ < < { ( < > ) } > > }`.',\n",
       " '`{ < > { { ( { } ) } { { ( ( ) ) } } } }`.',\n",
       " '`{ < > } ( ) [ ] { }`.',\n",
       " '`{ < > } [ ( { ( { [ < > ] } ) ( ) } ) ] { [ < > ] } [ [ ( [ ] ) ] ]`.',\n",
       " '`{ < [ ] > ( { [ ] } < > } ) } >`.',\n",
       " '`{ < [ ] > }`.',\n",
       " '`{ < { ( { [ ] } ) } > { } ( [ { { { ( [ < > ] ) } } } ] ) { { ( { } ) } } }`.',\n",
       " '`{ < { { [ ] } } { < [ { { < > } } [ ( ) ( ) ] [ [ [ [ ( { < ( < ( [ ] ) > ) > } ) ] ] ] ] ] ( ) ( [ ] { } ) > } > [ { ( ( ) ) } ]`.',\n",
       " '`{ < { } > { ( ) } > }`.',\n",
       " '`{ [ < [ < { < { } > } > ( ( < { [ ] } > { { } } ) { } ) ] > ]`.',\n",
       " '`{ [ < [ ] > ] } { ( ) [ < > ] [ [ [ ] ] } ]`.',\n",
       " '`{ [ < [ { < ( ) > } ] > ] }`.',\n",
       " '`{ [ < { < ( ( ) ) > } > }`.',\n",
       " '`{ [ [ < ( < { } > ) > ] ] [ [ ] ] >`.',\n",
       " '`{ [ [ < > ] ( ) ] ] }`.',\n",
       " '`{ [ [ [ [ ( ) ] ] ] ] }`.',\n",
       " '`{ [ [ ] [ ] ] ] }`.',\n",
       " '`{ [ { [ ] } ] } [ [ { { } } [ < > ] ]`.',\n",
       " '`{ [ { { { < > } } } ] }`.',\n",
       " '`{ [ { { { } } } } } ]`.',\n",
       " '`{ { ( [ ] ) { ( ) } } }`.',\n",
       " '`{ { ( { [ [ { < [ ] > } ] ] } ) [ ( < { < > } > ) ] ] ) } }`.',\n",
       " '`{ { [ ( [ { ( { ( [ ( [ ] ) { ( < < [ ] > [ [ ] ] > ) } ] ) [ ] } ) } ] ) ] } { < [ ] > } ( )`.',\n",
       " '`{ { [ < > ] } < [ ( [ { } ] ) ] > < [ < > { } ] < ( [ ] ) > < } >>`.',\n",
       " '`{ { [ [ ] { { < > [ ( ) ( [ ] ) [ ] { < > } ] } } [ { [ ] } ] { ( ) } ] } }`.',\n",
       " '`{ { [ { < { } > } ( ) ] } } ] > )`.',\n",
       " '`{ { [ { [ { } ] } ] ( [ { } ] ) } } ] } )`.',\n",
       " '`{ { { } } } }`.',\n",
       " '`{ { } ( ( ) ) }`.',\n",
       " '`{ { } ( ( < > ) ) }`.',\n",
       " '`{ {}}`.',\n",
       " '`{ } ( ( [ ] ) < [ ( [ [ ] ] [ { } ] { } [ < { [ ] } > ] ( ) ) ]`.',\n",
       " '`{ } < { } < > ( ) > }`.',\n",
       " 'the balanced sequence:',\n",
       " 'the balanced sequence: `( < ( ) ( < [ ] > ( ) < [ [ { } { < > } < > ] ] > ) [ ] > [ ( < { [ ] } [ ] ( { [ < > ] < < > > ( ( < { } > ) ) } ) [ [ [ < < < ( ( ) ) > > > ] < < { [ ] } > > ( [ < > ] ) ] ] > ) ] < >`',\n",
       " 'the completed sequence with properly closed parentheses.',\n",
       " 'the input sequence is already balanced.',\n",
       " 'the input sequence itself, as it is already properly closed:',\n",
       " 'the input sequence itself: `( { } ) { ( [ { ( ) } ] ( [ ] ) )`.',\n",
       " 'the input sequence itself: `{ ( ( ) ) { < > { ( [ [ { } ] [ ( ) ] ] ) } [ { { { ( < [ ] > ) } { < > } } } ]`.',\n",
       " 'the properly closed sequence: `{ < [ < ( < [ ] > ) < > < { } > { < > { } { { < [ < < { } [ { } ] < > > > ] < > > } < [ [ ] ] > } } > ] [ ( ) ] > } [ { ( < ( ( ( [ { } ] ) ) ) > ) } ] [ < ( ) ( ( { ( ) [ { { ( { } ) } } ] } ) ) >`',\n",
       " 'the sequence is already balanced and complete.',\n",
       " 'the sequence is already balanced and properly closed.',\n",
       " 'the sequence is already balanced.',\n",
       " 'the sequence is already complete and balanced.'}"
      ]
     },
     "execution_count": 53,
     "metadata": {},
     "output_type": "execute_result"
    }
   ],
   "source": [
    "set(new_ds[\"answer_pred\"])"
   ]
  },
  {
   "cell_type": "code",
   "execution_count": 60,
   "id": "21f2f9c0-7ab3-49d6-bab2-71d63b68db0f",
   "metadata": {},
   "outputs": [
    {
     "name": "stdout",
     "output_type": "stream",
     "text": [
      "Complete the rest of the sequence, making sure that the parentheses are closed properly. Input: { < [ ] > ( { [ ] } <\n",
      "+++++++++++++++++++++++++\n",
      "> ) }\n",
      "+++++++++++++++++++++++++\n",
      "1. **Identify Open Parentheses:**\n",
      "   - Input: `{ < [ ] > ( { [ ] } <`\n",
      "   - Open parentheses: `{`, `<`, `[`, `(`, `{`, `[`, `<`\n",
      "\n",
      "2. **Identify Closed Parentheses:**\n",
      "   - Input: `{ < [ ] > ( { [ ] } <`\n",
      "   - Closed parentheses: `]`, `>`, `}`, `]`\n",
      "\n",
      "3. **Match Open and Closed Parentheses:**\n",
      "   - Match `[` with `]`\n",
      "   - Match `{` with `}`\n",
      "   - Match `<` with `>`\n",
      "\n",
      "4. **Determine Unmatched Open Parentheses:**\n",
      "   - Unmatched open parentheses: `{`, `<`, `(`, `{`, `<`\n",
      "\n",
      "5. **Close Unmatched Parentheses:**\n",
      "   - Add `>`, `}`, `)`, `}`, `>` at the end of the sequence.\n",
      "\n",
      "6. **Verify the Sequence:**\n",
      "   - Final sequence: `{ < [ ] > ( { [ ] } < > } ) } >`\n",
      "   - Ensure all parentheses are properly matched and closed.\n"
     ]
    }
   ],
   "source": [
    "index = 2\n",
    "print(new_ds[index][\"input\"])\n",
    "print(\"+\"*25)\n",
    "print(new_ds[index][\"target\"])\n",
    "print(\"+\"*25)\n",
    "print(new_ds[index][\"trajectory\"])"
   ]
  },
  {
   "cell_type": "code",
   "execution_count": null,
   "id": "b9717ee5-23f8-47cc-b085-dcd1382cba55",
   "metadata": {},
   "outputs": [],
   "source": [
    "def map_fn(ins):\n",
    "    if ins[\"answer_pred\"] and \"sequence\" in ins[\"answer_pred\"]:\n",
    "        print(ins[\"reasoning_plan\"])\n",
    "        print(\"+\"*80)\n",
    "        print(ins[\"trajectory\"])\n",
    "        print(\"+\"*80)\n",
    "\n",
    "new_ds.map(map_fn)"
   ]
  },
  {
   "cell_type": "code",
   "execution_count": 358,
   "id": "811a4f5a-24ce-4e2c-878f-ad91913afe8a",
   "metadata": {},
   "outputs": [
    {
     "data": {
      "application/vnd.jupyter.widget-view+json": {
       "model_id": "3dc4398fde324b34a5370c943b9f683b",
       "version_major": 2,
       "version_minor": 0
      },
      "text/plain": [
       "Map:   0%|          | 0/250 [00:00<?, ? examples/s]"
      ]
     },
     "metadata": {},
     "output_type": "display_data"
    }
   ],
   "source": [
    "def map_fn(instance):    \n",
    "    return {\n",
    "        \"answer_pred\": instance[\"answer_pred\"].translate(str.maketrans(\"\", \"\", '.\"'))\n",
    "    }\n",
    "\n",
    "new_ds = new_ds.map(map_fn, load_from_cache_file=False)"
   ]
  },
  {
   "cell_type": "code",
   "execution_count": 62,
   "id": "0875204a-8714-418f-a5e3-9411c938611c",
   "metadata": {},
   "outputs": [
    {
     "name": "stdout",
     "output_type": "stream",
     "text": [
      "```json\n",
      "{\n",
      "    \"Step 1 - Simplify the Task\": {\n",
      "        \"Description\": \"Identify the current state of the sequence and simplify it if possible.\",\n",
      "        \"Action\": \"Note the current sequence: ( ) ( (\",\n",
      "        \"Result\": \"Identify the current sequence as ( ) ( (\"\n",
      "    },\n",
      "    \"Step 2 - Break Down the Task\": {\n",
      "        \"Description\": \"Break down the sequence completion task into smaller, more manageable steps.\",\n",
      "        \"Action\": \"Identify the open and closed parentheses in the current sequence.\",\n",
      "        \"Result\": \"Identify open parentheses: 2, closed parentheses: 1\"\n",
      "    },\n",
      "    \"Step 3 - Analyze the Task\": {\n",
      "        \"Description\": \"Determine if the task is analytical and requires tracking and balancing parentheses.\",\n",
      "        \"Action\": \"Check if the sequence is balanced.\",\n",
      "        \"Result\": \"Determine if the sequence is balanced or needs more parentheses to be balanced.\"\n",
      "    },\n",
      "    \"Step 4 - Plan to Complete the Sequence\": {\n",
      "        \"Description\": \"Make a step-by-step plan to complete the sequence, ensuring proper notation and explanation for each parenthesis.\",\n",
      "        \"Action\": \"Plan the steps to balance the sequence.\",\n",
      "        \"Result\": \"Plan the steps to balance the sequence.\"\n",
      "    },\n",
      "    \"Step 5 - Execute the Plan\": {\n",
      "        \"Description\": \"Execute the plan to complete the sequence.\",\n",
      "        \"Action\": \"Add the necessary parentheses to balance the sequence.\",\n",
      "        \"Result\": \"Complete the sequence with proper notation and explanation for each parenthesis. The sequence becomes ( ) ( () )\"\n",
      "    },\n",
      "    \"Step 6 - Verify the Final Sequence\": {\n",
      "        \"Description\": \"Verify if the final sequence is balanced.\",\n",
      "        \"Action\": \"Check if the final sequence has balanced parentheses.\",\n",
      "        \"Result\": \"Verify if the final sequence is balanced.\"\n",
      "    },\n",
      "    \"Is the final sequence balanced\": {\n",
      "        \"Description\": \"Confirm if the final sequence is balanced.\",\n",
      "        \"Action\": \"Check the final sequence for balance.\",\n",
      "        \"Result\": \"Confirm if the final sequence is balanced.\"\n",
      "    }\n",
      "}\n",
      "```\n"
     ]
    }
   ],
   "source": [
    "print(new_ds[1][\"trajectory\"])"
   ]
  },
  {
   "cell_type": "code",
   "execution_count": 362,
   "id": "f008251b-b11b-4064-b125-19d49ba54af1",
   "metadata": {},
   "outputs": [
    {
     "data": {
      "application/vnd.jupyter.widget-view+json": {
       "model_id": "e93f8e8ed52f490c8e1980ea6f4044bf",
       "version_major": 2,
       "version_minor": 0
      },
      "text/plain": [
       "Filter:   0%|          | 0/250 [00:00<?, ? examples/s]"
      ]
     },
     "metadata": {},
     "output_type": "display_data"
    }
   ],
   "source": [
    "blank_ds = new_ds.filter(lambda x: x[\"answer_pred\"] == \"\")\n",
    "none_blank_ds = new_ds.filter(lambda x: x[\"answer_pred\"] != \"\")"
   ]
  },
  {
   "cell_type": "code",
   "execution_count": 364,
   "id": "d4c9b3ac-5867-4f02-a038-f1cbbc094fcc",
   "metadata": {},
   "outputs": [
    {
     "data": {
      "application/vnd.jupyter.widget-view+json": {
       "model_id": "37f0f53b36104314a18d2e990e918662",
       "version_major": 2,
       "version_minor": 0
      },
      "text/plain": [
       "Map:   0%|          | 0/217 [00:00<?, ? examples/s]"
      ]
     },
     "metadata": {},
     "output_type": "display_data"
    },
    {
     "data": {
      "text/plain": [
       "{'',\n",
       " \"'< < > >'\",\n",
       " \"'< [ [ ] ] >'\",\n",
       " \"'< [ ] >'\",\n",
       " '( ( ( ( [ [ < [ { { [ ] } } ] > ] ] ( ) ) ) ) ) ) ) )',\n",
       " '( ( ( ) ) ))',\n",
       " '( ( < < < ( ( ) ) ( [ ] ) > > { [ ] } ) ) > > >',\n",
       " '( ( < > ) )',\n",
       " '( ( < { } > ) ) < { } >',\n",
       " '( ( { } ) )',\n",
       " '( ) ( () )',\n",
       " '( ) ( < < { } > >',\n",
       " '( ) [ ( [ < { { ( { } ) } } > ] ) ]',\n",
       " '( ) { < } >',\n",
       " '( < < > > < > [ ] [ )',\n",
       " '( < > ( [ ( ) ] ) )',\n",
       " '( < [ ( ) ] > )',\n",
       " '( < { } [ ] > )',\n",
       " '( [ ( ) ] )',\n",
       " '( [ < < { } > > ] )',\n",
       " '( [ [ [ ( { ( ( < [ { < > } ] > { { [ ] } } ) ) } ( [ [ < > ] ] ) ) ] ] ] ) ( < > < [ ( ) ] > ( ) > )',\n",
       " '( { ( ) } )',\n",
       " '( { < [ < > ] > } )',\n",
       " '( { < { ( ( { } ) ( ) ) } { } < { } > < > > } { } ( { ( { { } } ) [ ( ) ] } ) ) [ ( [ ] ) ]',\n",
       " '( { [ { } ] } )',\n",
       " '( { } )',\n",
       " '( { } ) < { < { } > } >',\n",
       " '( { } ) { ( [ { ( ) } ] ( [ ] ) ) }',\n",
       " '**',\n",
       " '< ( ( ( [ { } ] ) ) ) >',\n",
       " '< ( () )',\n",
       " '< ( ) ( { { [ ] } } ) >',\n",
       " '< ( ) >',\n",
       " '< ( < > ) >',\n",
       " '< ( [ { ( < > ) } ] ) > { ( [ ] } ) >',\n",
       " '< ( { ( < < > > ) } ) >',\n",
       " '< ( { [ { } ] } [ ] [ ] ) >',\n",
       " '< ( { } ) >',\n",
       " '< () >',\n",
       " '< < ( ( [ ] ) ) > >',\n",
       " '< < ( < > ) > >',\n",
       " '< < ( [ ] ) > > > >',\n",
       " '< < < > > > > >',\n",
       " '< < > ( [ ] ) > >',\n",
       " '< < > >',\n",
       " '< < [ ] >',\n",
       " '< < [ ] > ( < > ) < >',\n",
       " '< [ < > ] > ] >',\n",
       " '< [ [ { } ] ] >',\n",
       " '< [ ] { < ( ) > } [ ] ( { }',\n",
       " '< [ { { [ [ [ < ( < [ ] { [ ( [ ] ) ] [ ] < > } > ) > ] ( [ ] ) ] ] } } > ] } }',\n",
       " '< { ( { } ) < > } >',\n",
       " '< { < [ [ ( { } ) ] ] > } >',\n",
       " '< { [ < > ] > } >',\n",
       " '< { [ ] } >',\n",
       " '< { } [ [ ( ( < { < { [ ] } > } > ) ) ] ] >',\n",
       " '<([[[[[[]]]]]])>',\n",
       " 'The final sequence is balanced',\n",
       " 'The final sequence is properly balanced',\n",
       " 'The final sequence is properly closed and balanced',\n",
       " 'The final sequence is properly closed and nested',\n",
       " 'The sequence is already balanced',\n",
       " 'The sequence is already balanced and correctly closed',\n",
       " 'The sequence is already complete and balanced',\n",
       " 'The sequence is already correctly closed: { ( [ ] ) }',\n",
       " 'The sequence is already properly closed',\n",
       " 'The sequence is already properly closed and does not require any additional brackets',\n",
       " 'The sequence is complete and correct',\n",
       " 'The sequence is correctly balanced',\n",
       " 'The sequence is correctly closed as ( { { { { { < < ( { ( { { < < [ < [ [ ] ] > ] [ ] > [ [ ] ] > ( < [ { < > < [ ] > } ] > ) } } ) } ) > > } } } )',\n",
       " 'True',\n",
       " 'Yes',\n",
       " 'Yes, the final sequence is balanced',\n",
       " 'Yes, the final sequence is properly closed',\n",
       " '[ ( ( { < ( { } ) > } ) ) ]',\n",
       " '[ ( < { [ ( ) ] } > ) ]',\n",
       " '[ ( { } ) ]',\n",
       " '[ () ]',\n",
       " '[ < ( [ ] ) > ] { [ { } ] }',\n",
       " '[ < < { } > < > > ( ) ]',\n",
       " '[ < > [ [ < [ ] > ] ] ]',\n",
       " '[ < > ] [ [ < > ] ]',\n",
       " '[ < > ] [ { < { } > { [ ( [ ( ) ] ) ] } } ]',\n",
       " '[ < > { < [ ] > } ] >',\n",
       " '[ < [ ( [ < > ] { < > } [ [ ] ] ) ] ] > ]',\n",
       " '[ < [ [ ( { { } } ) ] ] > ( ) { ( ) } ]',\n",
       " '[ < [ ] > [] > ]',\n",
       " '[ < [ ] > ] [ { [ ] } ]',\n",
       " '[ < [ ] ] > ]',\n",
       " '[ < [ ] { { } { < ( { } ) > } } > ] ( { } )',\n",
       " '[ < [ { { < > [ ( ) ] ( ( ) ) } } ] > ] { { { ( < > ) } } }',\n",
       " '[ < { [ ] } >',\n",
       " '[ [ < < { } > > ] ]',\n",
       " '[ [ < [ ( ) ] > ] ( ) ]',\n",
       " '[ [ [ [ < { ( ) } ( ) > { ( ) } ] { ( ) } ] ] ] ]',\n",
       " '[ [ { { < ( ) > } } ] ]',\n",
       " '[ ] < { < > } > { } ()',\n",
       " '[ ] [ ( [ [ ( ) ] ] ) ] < < [ ] > > < < > >',\n",
       " '[ ] [ { } ] ( ( ) ))',\n",
       " '[ ] { [ [ < { { { } } } > ] ] < [ { } ] }',\n",
       " '[ { ( < [ [ ] ] > ) } ]',\n",
       " '[ { < ( ) > }',\n",
       " '[ { { ( ) } } ]',\n",
       " '`( ( ( [ { } ] ) ) )`',\n",
       " '`( ( [ < [ ] > { { [ [ ] ] } } ] )`',\n",
       " '`( < ( ) > )`',\n",
       " '`( < ( [ < < [ ] > > ] ) )`',\n",
       " '`( < ( [ ] ) > { } ) >`',\n",
       " '`( < < < > )`',\n",
       " '`( < > )`',\n",
       " '`( [ [ [ { } ] ] { < [ < [ { } ] > ] > } ] )`',\n",
       " '`( [ [ { < { { ( < > ) } } < > > } ] ]`',\n",
       " '`( [ ] )`',\n",
       " '`( [])`',\n",
       " '`( { ( ) { { ( ) ( < < > < > > < ( ) > ) } < ( < < < > > > ) > } }`',\n",
       " '`( { < { { [ ] } < > [ ] } [ [ [ < [ [ ] ] > ] ] ] > } [ ] { { { { [ { } ] } ( < [ [ [ ] ] ] > ) < < ( { ( [ ] ) [ { { } } ] { [ ] } } ) [ [ { [ [ { ( { } ) [ ( ) { } ] { } } ] ] < > } ] ] > > }`',\n",
       " '`( { { } } )`',\n",
       " '`( { } )`',\n",
       " '`( { } < > { < { ( < > ) } > } )`',\n",
       " '`< ( ( ( < > < [ [ ] ] > ) { } ) ) ) >`',\n",
       " '`< ( ( { < > } ) ) >`',\n",
       " '`< ( < > ) > { } < { [ < > ] >`',\n",
       " '`< ( { } ) >`',\n",
       " '`< < < [ ( ) ] > > > >`',\n",
       " '`< < < { < < > > } > < < { < ( < > ) < > [ [ [ < ( ( ) ) > [ ] [ ] ] ] ] < ( ) > ( ) [ ( [ [ ] ] ) ] > } { } { < [ < { ( { } ) } > ] > } { { } } > >`',\n",
       " '`< < [ ( < [ ( { [ ( ) ] [ ( ( { [ ] } ) ) ] } ) ] > ) ] >`',\n",
       " '`< < { ( < ( ) > ) } > >`',\n",
       " '`< < { { { < [ ( < > { ( ) } ) ] > } } } >`',\n",
       " '`< < { } > > >`',\n",
       " '`< > { }`',\n",
       " '`< { ( ( ) ) } >`',\n",
       " '`< { < () } >`',\n",
       " '`< { < > } { () } >`',\n",
       " '`< { > }`',\n",
       " '`< { [ < > ] ( ( ( ( { { } } ) ) ) ) ) ) > }`',\n",
       " '`[ < ( < < > [ ] ( ) > ) > ]`',\n",
       " '`[ < { < [ ( < > ) ( ( [ [ ] ] ) ) ( ( { } ) ) { [ ] } < ( < > ) > ] > } ]`',\n",
       " '`[ < { { } } ] >`',\n",
       " '`[ [ < < { [ ] ( [ [ ( [ [ { [ ] } ] ] ) ( ) ] ] ) ( ) [ ] < [ ( ( ( ) ) ) ] < < < > [ ( ) ] > [ ] > > [ < > ] } > >`',\n",
       " '`[ [ < > ] ]`',\n",
       " '`[ [ < [ ] > ] ] < >`',\n",
       " '`[ [ ] ]`',\n",
       " '`[ ] { ( ( < { ( ( ( { < > ( ) } ) ) [ { } ] { { ( ) } } ) } < > > ) }`',\n",
       " '`[ ] { ( { < > } ) } [ ( ) ] { } [ { { ( < > ) } < > } ]`',\n",
       " '`[ { ( { } ) } < < ( ) { { < [ { [ ( ) ] } ] > } } > >`',\n",
       " '`[ { < ( ) > } ]`',\n",
       " '`[ { [ < [ < { } > ] [ ] > ] } ] >`',\n",
       " '`{ ( < [ < > ] ) > }`',\n",
       " '`{ ( [ [ ] ( ) ] ] }`',\n",
       " '`{ ( { { < ( < ( [ < < > > ] < > ) > ) > } [ ] }`',\n",
       " '`{ ( { { < { < > } > } < { } > < < < [ < [ ] > ] > > > } ) }`',\n",
       " '`{ < ( ) > { < > } ( < > ) < ( ) > [ ] < < < < ( ( ) ) < ( ) > > > > > > > > > > > > { }`',\n",
       " '`{ < ( [ ( ( [ < { ( { } ) } < < > > > ] ) ) ] ) > }`',\n",
       " '`{ < > { { ( { } ) } { { ( ( ) ) } } }`',\n",
       " '`{ < [ ] > ( { [ ] } < ) > }`',\n",
       " '`{ < [ ] > }`',\n",
       " '`{ < { } > { ( ) } > }`',\n",
       " '`{ [ < [ { < ( ) > } ] > } ]`',\n",
       " '`{ [ < { < ( ( ) ) > } > }`',\n",
       " '`{ [ [ ] [ ] ] }`',\n",
       " '`{ {}}`',\n",
       " '`{{ () () }}`',\n",
       " '{ ( ( ) ( { ( < ( ) > ) } }',\n",
       " '{ ( ( [ ] ) )',\n",
       " '{ ( < > ) }',\n",
       " '{ ( < { < ( ) > } > ) }',\n",
       " '{ ( { [ ( ) ] } { { [ ] } } { } < > ) } [ < [ ( ) ] ] > ]',\n",
       " '{ < ( < < < [ < [ [ ] ( ( ) ) ] > < > ] > > > ) }',\n",
       " '{ < ( [ ] ) > }',\n",
       " '{ < < ( ) > > }',\n",
       " '{ < < > > }',\n",
       " '{ < < { ( < > ) } > } > >',\n",
       " '{ < > } ( ) [ ]',\n",
       " '{ [ < [ < { < { } > } > ( ( < { [ ] } > { { } } ) { } ) ] > ] } ] > ) ) > >',\n",
       " '{ [ [ < > ] ] ( ) }',\n",
       " '{ [ { [ ] } ] } [ [ { } [ < > ] ] }',\n",
       " '{ [ { { { < > } } } } ] }',\n",
       " '{ [ { { { } } } ] }',\n",
       " '{ { ( [ ] ) { ( ) } } }',\n",
       " '{ { [ { < { } > } ( ) ] }',\n",
       " '{ { { } }',\n",
       " '{ { } ( ( ) ) }',\n",
       " '{ { } ( ( < > ) ) }',\n",
       " '{ } < { } < > ( )'}"
      ]
     },
     "execution_count": 364,
     "metadata": {},
     "output_type": "execute_result"
    }
   ],
   "source": [
    "def map_fn(ins):\n",
    "    return {\n",
    "        \"answer_pred\": ins[\"answer_pred\"].replace(ins[\"target\"], \"\")\n",
    "    }\n",
    "\n",
    "none_blank_ds = none_blank_ds.map(map_fn)\n",
    "set(new_ds[\"answer_pred\"])"
   ]
  },
  {
   "cell_type": "code",
   "execution_count": 330,
   "id": "6545ea6d-2881-4fce-b8cc-83a0331fd457",
   "metadata": {},
   "outputs": [
    {
     "data": {
      "application/vnd.jupyter.widget-view+json": {
       "model_id": "a4b95b17ea3c4b98b6fdd0b49454bfc5",
       "version_major": 2,
       "version_minor": 0
      },
      "text/plain": [
       "Saving the dataset (0/1 shards):   0%|          | 0/250 [00:00<?, ? examples/s]"
      ]
     },
     "metadata": {},
     "output_type": "display_data"
    }
   ],
   "source": [
    "start_string, end_string = \"non_self_synthesis/bbh/\", \"/bbh_eval\"\n",
    "cat = str(chk_dir)[str(chk_dir).find(start_string) + len(start_string) + 4:str(chk_dir).find(end_string)]\n",
    "new_ds.save_to_disk(os.path.join(save_par_dir, cat))"
   ]
  },
  {
   "cell_type": "code",
   "execution_count": null,
   "id": "b81c6464-86e2-436f-8ed5-9d68c8bbeb80",
   "metadata": {},
   "outputs": [],
   "source": [
    "for instance in new_ds:\n",
    "    print(instance[\"target\"])\n",
    "    print(instance[\"trajectory\"])\n",
    "    print(\"=\"*50)"
   ]
  },
  {
   "cell_type": "markdown",
   "id": "887ffae8-8423-4dc0-8fbe-4731bb38186c",
   "metadata": {
    "jp-MarkdownHeadingCollapsed": true
   },
   "source": [
    "# formal_fallacies"
   ]
  },
  {
   "cell_type": "code",
   "execution_count": 67,
   "id": "50da91f3-6deb-47c3-bccc-f19203134e9a",
   "metadata": {},
   "outputs": [],
   "source": [
    "chk_dir = here(os.path.join(par_dir, \"bbh-formal_fallacies/bbh_eval\"))"
   ]
  },
  {
   "cell_type": "code",
   "execution_count": 68,
   "id": "a65b8587-c387-430c-8f87-4b7c42c65efa",
   "metadata": {},
   "outputs": [],
   "source": [
    "dataset = Dataset.load_from_disk(chk_dir)"
   ]
  },
  {
   "cell_type": "code",
   "execution_count": 69,
   "id": "6773264b-4bf0-4787-ae71-c0efc0704693",
   "metadata": {},
   "outputs": [
    {
     "data": {
      "text/plain": [
       "{'invalid**.', 'invalid.', 'valid**.', 'valid.'}"
      ]
     },
     "execution_count": 69,
     "metadata": {},
     "output_type": "execute_result"
    }
   ],
   "source": [
    "set(dataset[\"answer_pred\"])"
   ]
  },
  {
   "cell_type": "code",
   "execution_count": 72,
   "id": "a2f9e6a4-bd46-4019-8573-0c5ebe245c68",
   "metadata": {},
   "outputs": [
    {
     "data": {
      "application/vnd.jupyter.widget-view+json": {
       "model_id": "12ca22d0add54eb3bf135aa2e428f18b",
       "version_major": 2,
       "version_minor": 0
      },
      "text/plain": [
       "Map:   0%|          | 0/250 [00:00<?, ? examples/s]"
      ]
     },
     "metadata": {},
     "output_type": "display_data"
    },
    {
     "data": {
      "text/plain": [
       "{'invalid', 'valid'}"
      ]
     },
     "execution_count": 72,
     "metadata": {},
     "output_type": "execute_result"
    }
   ],
   "source": [
    "def map_fn(instance):    \n",
    "    return {\n",
    "        \"answer_pred\": instance[\"answer_pred\"].translate(str.maketrans(\"\", \"\", '.,()\"*')) if instance[\"answer_pred\"] else None\n",
    "    }\n",
    "\n",
    "new_ds = dataset.map(map_fn, load_from_cache_file=False)\n",
    "set(new_ds[\"answer_pred\"])"
   ]
  },
  {
   "cell_type": "code",
   "execution_count": 73,
   "id": "f69daf40-4760-4774-a30c-3f3b285553bf",
   "metadata": {},
   "outputs": [
    {
     "data": {
      "application/vnd.jupyter.widget-view+json": {
       "model_id": "1cd8e2b7cf5f4658bf9d0ab463d271d9",
       "version_major": 2,
       "version_minor": 0
      },
      "text/plain": [
       "Saving the dataset (0/1 shards):   0%|          | 0/250 [00:00<?, ? examples/s]"
      ]
     },
     "metadata": {},
     "output_type": "display_data"
    }
   ],
   "source": [
    "start_string, end_string = \"non_self_synthesis/bbh/\", \"/bbh_eval\"\n",
    "cat = str(chk_dir)[str(chk_dir).find(start_string) + len(start_string) + 4:str(chk_dir).find(end_string)]\n",
    "new_ds.save_to_disk(os.path.join(save_par_dir, cat))"
   ]
  },
  {
   "cell_type": "code",
   "execution_count": 74,
   "id": "50ffb33c-716f-440c-a116-c4bda9fafc42",
   "metadata": {},
   "outputs": [
    {
     "data": {
      "application/vnd.jupyter.widget-view+json": {
       "model_id": "8592a2c9d3644295becbd62e248acb13",
       "version_major": 2,
       "version_minor": 0
      },
      "text/plain": [
       "Filter:   0%|          | 0/250 [00:00<?, ? examples/s]"
      ]
     },
     "metadata": {},
     "output_type": "display_data"
    },
    {
     "data": {
      "text/plain": [
       "0.824"
      ]
     },
     "execution_count": 74,
     "metadata": {},
     "output_type": "execute_result"
    }
   ],
   "source": [
    "corr = new_ds.filter(lambda x: x[\"target\"] == x[\"answer_pred\"])\n",
    "(corr.num_rows) / new_ds.num_rows"
   ]
  },
  {
   "cell_type": "markdown",
   "id": "a4e488a9-5e7a-4ecd-b74b-ee26d852b43b",
   "metadata": {
    "jp-MarkdownHeadingCollapsed": true
   },
   "source": [
    "# geometric_shapes"
   ]
  },
  {
   "cell_type": "code",
   "execution_count": 75,
   "id": "8a5775a3-0f0a-424e-a737-b086e62f4eac",
   "metadata": {},
   "outputs": [],
   "source": [
    "chk_dir = here(os.path.join(par_dir, \"bbh-geometric_shapes/bbh_eval\"))"
   ]
  },
  {
   "cell_type": "code",
   "execution_count": 76,
   "id": "e18c74b9-fb2e-4fcc-823e-76c55207597b",
   "metadata": {},
   "outputs": [],
   "source": [
    "dataset = Dataset.load_from_disk(chk_dir)"
   ]
  },
  {
   "cell_type": "code",
   "execution_count": 77,
   "id": "bc25565e-8bcb-423f-8d28-174ef3b1d389",
   "metadata": {},
   "outputs": [
    {
     "data": {
      "text/plain": [
       "{'(A) circle.',\n",
       " '(B) heptagon.',\n",
       " '(C) hexagon.',\n",
       " '(D) kite.',\n",
       " '(G) pentagon.',\n",
       " '(I) sector.',\n",
       " '(J) triangle.',\n",
       " '(K) ellipse.',\n",
       " '(K) trapezoid.',\n",
       " 'A.',\n",
       " 'B.',\n",
       " 'C.',\n",
       " 'D.',\n",
       " 'E.',\n",
       " 'F.',\n",
       " 'G.',\n",
       " 'H.',\n",
       " 'I.',\n",
       " 'J.',\n",
       " 'K.'}"
      ]
     },
     "execution_count": 77,
     "metadata": {},
     "output_type": "execute_result"
    }
   ],
   "source": [
    "set(dataset[\"answer_pred\"])"
   ]
  },
  {
   "cell_type": "code",
   "execution_count": 78,
   "id": "b15078a8-d3c9-4670-b994-634351da72bd",
   "metadata": {},
   "outputs": [
    {
     "data": {
      "application/vnd.jupyter.widget-view+json": {
       "model_id": "791d4b01cd42453aa05d507d67027d87",
       "version_major": 2,
       "version_minor": 0
      },
      "text/plain": [
       "Map:   0%|          | 0/250 [00:00<?, ? examples/s]"
      ]
     },
     "metadata": {},
     "output_type": "display_data"
    },
    {
     "data": {
      "text/plain": [
       "{'A',\n",
       " 'A circle',\n",
       " 'B',\n",
       " 'B heptagon',\n",
       " 'C',\n",
       " 'C hexagon',\n",
       " 'D',\n",
       " 'D kite',\n",
       " 'E',\n",
       " 'F',\n",
       " 'G',\n",
       " 'G pentagon',\n",
       " 'H',\n",
       " 'I',\n",
       " 'I sector',\n",
       " 'J',\n",
       " 'J triangle',\n",
       " 'K',\n",
       " 'K ellipse',\n",
       " 'K trapezoid'}"
      ]
     },
     "execution_count": 78,
     "metadata": {},
     "output_type": "execute_result"
    }
   ],
   "source": [
    "def map_fn(instance):    \n",
    "    return {\n",
    "        \"answer_pred\": instance[\"answer_pred\"].translate(str.maketrans(\"\", \"\", '.,()\"')) if instance[\"answer_pred\"] else None\n",
    "    }\n",
    "\n",
    "new_ds = dataset.map(map_fn, load_from_cache_file=False)\n",
    "set(new_ds[\"answer_pred\"])"
   ]
  },
  {
   "cell_type": "code",
   "execution_count": 79,
   "id": "c8da6dbb-ca86-4cd4-b03f-8b9a0dc03389",
   "metadata": {},
   "outputs": [
    {
     "data": {
      "application/vnd.jupyter.widget-view+json": {
       "model_id": "fb01768980174a599ac9e02f99bf8dd9",
       "version_major": 2,
       "version_minor": 0
      },
      "text/plain": [
       "Map:   0%|          | 0/250 [00:00<?, ? examples/s]"
      ]
     },
     "metadata": {},
     "output_type": "display_data"
    },
    {
     "data": {
      "text/plain": [
       "{'A', 'B', 'C', 'D', 'E', 'F', 'G', 'H', 'I', 'J', 'K'}"
      ]
     },
     "execution_count": 79,
     "metadata": {},
     "output_type": "execute_result"
    }
   ],
   "source": [
    "def map_fn(ins):   \n",
    "    ls = ins[\"answer_pred\"].split()\n",
    "    \n",
    "    return {\n",
    "        \"answer_pred\": ls[0]\n",
    "    }\n",
    "\n",
    "new_ds = new_ds.map(map_fn, load_from_cache_file=False)\n",
    "set(new_ds[\"answer_pred\"])"
   ]
  },
  {
   "cell_type": "code",
   "execution_count": 80,
   "id": "2d1a35c7-e67f-4da9-8459-fbc63bb8cd60",
   "metadata": {},
   "outputs": [
    {
     "data": {
      "application/vnd.jupyter.widget-view+json": {
       "model_id": "294d0374d8a34440af3a375d9d957765",
       "version_major": 2,
       "version_minor": 0
      },
      "text/plain": [
       "Saving the dataset (0/1 shards):   0%|          | 0/250 [00:00<?, ? examples/s]"
      ]
     },
     "metadata": {},
     "output_type": "display_data"
    }
   ],
   "source": [
    "start_string, end_string = \"non_self_synthesis/bbh/\", \"/bbh_eval\"\n",
    "cat = str(chk_dir)[str(chk_dir).find(start_string) + len(start_string) + 4:str(chk_dir).find(end_string)]\n",
    "new_ds.save_to_disk(os.path.join(save_par_dir, cat))"
   ]
  },
  {
   "cell_type": "code",
   "execution_count": 81,
   "id": "5fa31b0a-81c3-4a4b-847a-80b573d97eea",
   "metadata": {},
   "outputs": [
    {
     "data": {
      "application/vnd.jupyter.widget-view+json": {
       "model_id": "8aed4f4f94c74c6c9d44f52c9f4d5187",
       "version_major": 2,
       "version_minor": 0
      },
      "text/plain": [
       "Filter:   0%|          | 0/250 [00:00<?, ? examples/s]"
      ]
     },
     "metadata": {},
     "output_type": "display_data"
    },
    {
     "data": {
      "text/plain": [
       "0.712"
      ]
     },
     "execution_count": 81,
     "metadata": {},
     "output_type": "execute_result"
    }
   ],
   "source": [
    "corr = new_ds.filter(lambda x: x[\"target\"].translate(str.maketrans(\"\", \"\", '()\"')) == x[\"answer_pred\"])\n",
    "(corr.num_rows) / new_ds.num_rows"
   ]
  },
  {
   "cell_type": "markdown",
   "id": "7eaefe78-ecbb-49ae-bd58-e000c8208c1a",
   "metadata": {
    "jp-MarkdownHeadingCollapsed": true
   },
   "source": [
    "# hyperbaton"
   ]
  },
  {
   "cell_type": "code",
   "execution_count": 82,
   "id": "c97fe7eb-7986-459a-85bf-0e9e367a3722",
   "metadata": {},
   "outputs": [],
   "source": [
    "chk_dir = here(os.path.join(par_dir, \"bbh-hyperbaton/bbh_eval\"))"
   ]
  },
  {
   "cell_type": "code",
   "execution_count": 83,
   "id": "70035db6-c28e-4992-ad04-fc46c35ad8d0",
   "metadata": {},
   "outputs": [],
   "source": [
    "dataset = Dataset.load_from_disk(chk_dir)"
   ]
  },
  {
   "cell_type": "code",
   "execution_count": 84,
   "id": "3c3bbb74-3ad1-461c-9bd2-3cacc2987799",
   "metadata": {},
   "outputs": [
    {
     "data": {
      "text/plain": [
       "{'(A).', 'A.', 'A.**', 'B.', 'B.**', None}"
      ]
     },
     "execution_count": 84,
     "metadata": {},
     "output_type": "execute_result"
    }
   ],
   "source": [
    "set(dataset[\"answer_pred\"])"
   ]
  },
  {
   "cell_type": "code",
   "execution_count": 85,
   "id": "126ef57d-498d-4b30-9fe2-b55b3166bc54",
   "metadata": {},
   "outputs": [
    {
     "data": {
      "application/vnd.jupyter.widget-view+json": {
       "model_id": "cecd3118f1424a2ab8292117e24b328b",
       "version_major": 2,
       "version_minor": 0
      },
      "text/plain": [
       "Map:   0%|          | 0/250 [00:00<?, ? examples/s]"
      ]
     },
     "metadata": {},
     "output_type": "display_data"
    },
    {
     "data": {
      "text/plain": [
       "{'A', 'B', None}"
      ]
     },
     "execution_count": 85,
     "metadata": {},
     "output_type": "execute_result"
    }
   ],
   "source": [
    "def map_fn(instance):    \n",
    "    return {\n",
    "        \"answer_pred\": instance[\"answer_pred\"].translate(str.maketrans(\"\", \"\", '.,()*\"')) if instance[\"answer_pred\"] else None\n",
    "    }\n",
    "\n",
    "new_ds = dataset.map(map_fn, load_from_cache_file=False)\n",
    "set(new_ds[\"answer_pred\"])"
   ]
  },
  {
   "cell_type": "code",
   "execution_count": 86,
   "id": "1a4b6dbb-94f7-41ac-beba-b861305a247f",
   "metadata": {},
   "outputs": [
    {
     "data": {
      "application/vnd.jupyter.widget-view+json": {
       "model_id": "87c02164cb4547b39d09ebc741bf0794",
       "version_major": 2,
       "version_minor": 0
      },
      "text/plain": [
       "Filter:   0%|          | 0/250 [00:00<?, ? examples/s]"
      ]
     },
     "metadata": {},
     "output_type": "display_data"
    },
    {
     "data": {
      "text/plain": [
       "Dataset({\n",
       "    features: ['input', 'target', 'reasoning_formats', 'selected_modules', 'adapted_modules', 'reasoning_plan', 'reasoning', 'trajectory', 'answer_pred'],\n",
       "    num_rows: 2\n",
       "})"
      ]
     },
     "execution_count": 86,
     "metadata": {},
     "output_type": "execute_result"
    }
   ],
   "source": [
    "none_ds = new_ds.filter(lambda x: x[\"answer_pred\"] == None)\n",
    "none_ds"
   ]
  },
  {
   "cell_type": "code",
   "execution_count": 88,
   "id": "cac90f77-8295-4b62-a796-810fbb8eecde",
   "metadata": {},
   "outputs": [
    {
     "name": "stdout",
     "output_type": "stream",
     "text": [
      "To determine the correct adjective order, we need to follow the standard rules for adjective order in English: opinion, size, age, shape, color, origin, material, purpose, noun.\n",
      "\n",
      "Let's break down the adjectives in each option and categorize them:\n",
      "\n",
      "- enormous (size)\n",
      "- circular (shape)\n",
      "- Pakistani (origin)\n",
      "- snorkeling (purpose)\n",
      "- gold (material)\n",
      "- yellow (color)\n",
      "\n",
      "Now, let's apply the standard adjective order rules to each option:\n",
      "\n",
      "Option (A): enormous circular Pakistani snorkeling gold yellow baby\n",
      "- size, shape, origin, purpose, material, color\n",
      "\n",
      "Option (B): enormous circular yellow Pakistani gold snorkeling baby\n",
      "- size, shape, color, origin, material, purpose\n",
      "\n",
      "Comparing the arranged adjectives in each option with the standard adjective order, we can see that Option (A) follows the standard order more closely.\n",
      "\n",
      "Therefore, the final answer is (A).\n"
     ]
    }
   ],
   "source": [
    "print(none_ds[1][\"trajectory\"])"
   ]
  },
  {
   "cell_type": "code",
   "execution_count": 89,
   "id": "67de5ac0-3d71-4a57-a907-cd1f180c718c",
   "metadata": {},
   "outputs": [
    {
     "data": {
      "application/vnd.jupyter.widget-view+json": {
       "model_id": "cae652e1a9d5474789092657d8ebb9a0",
       "version_major": 2,
       "version_minor": 0
      },
      "text/plain": [
       "Map:   0%|          | 0/250 [00:00<?, ? examples/s]"
      ]
     },
     "metadata": {},
     "output_type": "display_data"
    },
    {
     "data": {
      "text/plain": [
       "{'A', 'B'}"
      ]
     },
     "execution_count": 89,
     "metadata": {},
     "output_type": "execute_result"
    }
   ],
   "source": [
    "def map_fn(ins):\n",
    "    if not ins[\"answer_pred\"]:\n",
    "        return {\n",
    "            \"answer_pred\": \"A\"\n",
    "        }\n",
    "\n",
    "    return {\n",
    "        \"answer_pred\": ins[\"answer_pred\"]\n",
    "    }\n",
    "\n",
    "new_ds = new_ds.map(map_fn)\n",
    "set(new_ds[\"answer_pred\"])"
   ]
  },
  {
   "cell_type": "code",
   "execution_count": 90,
   "id": "57e61e46-ee2a-4a0d-9605-b092b855f25b",
   "metadata": {},
   "outputs": [
    {
     "data": {
      "application/vnd.jupyter.widget-view+json": {
       "model_id": "6e69fc9c15b646ada4155562dda4388a",
       "version_major": 2,
       "version_minor": 0
      },
      "text/plain": [
       "Saving the dataset (0/1 shards):   0%|          | 0/250 [00:00<?, ? examples/s]"
      ]
     },
     "metadata": {},
     "output_type": "display_data"
    }
   ],
   "source": [
    "start_string, end_string = \"non_self_synthesis/bbh/\", \"/bbh_eval\"\n",
    "cat = str(chk_dir)[str(chk_dir).find(start_string) + len(start_string) + 4:str(chk_dir).find(end_string)]\n",
    "new_ds.save_to_disk(os.path.join(save_par_dir, cat))"
   ]
  },
  {
   "cell_type": "code",
   "execution_count": 91,
   "id": "77943f6b-0ef4-472b-8c75-164566e33273",
   "metadata": {},
   "outputs": [
    {
     "data": {
      "application/vnd.jupyter.widget-view+json": {
       "model_id": "0713e4c4fc9e477abfba216b67b7fc6b",
       "version_major": 2,
       "version_minor": 0
      },
      "text/plain": [
       "Filter:   0%|          | 0/250 [00:00<?, ? examples/s]"
      ]
     },
     "metadata": {},
     "output_type": "display_data"
    },
    {
     "data": {
      "text/plain": [
       "0.98"
      ]
     },
     "execution_count": 91,
     "metadata": {},
     "output_type": "execute_result"
    }
   ],
   "source": [
    "corr = new_ds.filter(lambda x: x[\"target\"].translate(str.maketrans(\"\", \"\", '()\"')) == x[\"answer_pred\"])\n",
    "(corr.num_rows) / new_ds.num_rows"
   ]
  },
  {
   "cell_type": "markdown",
   "id": "59fc2a84-f816-4975-b85d-f4a505c99639",
   "metadata": {
    "jp-MarkdownHeadingCollapsed": true
   },
   "source": [
    "# logical_deduction_five_objects"
   ]
  },
  {
   "cell_type": "code",
   "execution_count": 92,
   "id": "92d8f5eb-fa8f-47e8-abfa-dcc9962684eb",
   "metadata": {},
   "outputs": [],
   "source": [
    "chk_dir = here(os.path.join(par_dir, \"bbh-logical_deduction_five_objects/bbh_eval\"))"
   ]
  },
  {
   "cell_type": "code",
   "execution_count": 93,
   "id": "c8eacea9-4afc-4783-907d-74397b343553",
   "metadata": {},
   "outputs": [],
   "source": [
    "dataset = Dataset.load_from_disk(chk_dir)"
   ]
  },
  {
   "cell_type": "code",
   "execution_count": 94,
   "id": "6cfe632f-200c-4cc2-adc4-767b6406854a",
   "metadata": {},
   "outputs": [
    {
     "data": {
      "text/plain": [
       "{'(A) Amy finished first.',\n",
       " '(A) Amy finished third.',\n",
       " '(A) Eve finished third.',\n",
       " '(A) Joe finished second.',\n",
       " '(A) Mel finished first.',\n",
       " '(A) Rob finished first.',\n",
       " '(A) Rob finished last.',\n",
       " '(A) The apples are the second-cheapest.',\n",
       " '(A) The black book is the leftmost.',\n",
       " '(A) The black book is the second from the left.',\n",
       " '(A) The blue book is the leftmost.',\n",
       " '(A) The brown book is the third from the left.',\n",
       " '(A) The bus is the oldest.',\n",
       " '(A) The crow is the second from the left.',\n",
       " '(A) The falcon is the leftmost.',\n",
       " '(A) The gray book is the second from the left.',\n",
       " '(A) The gray book is the third from the left.',\n",
       " '(A) The green book is the rightmost.',\n",
       " '(A) The loquats are the cheapest.',\n",
       " '(A) The mangoes are the cheapest.',\n",
       " '(A) The oranges are the cheapest.',\n",
       " '(A) The owl is the leftmost.',\n",
       " '(A) The owl is the second from the left.',\n",
       " '(A) The owl is the second from the right.',\n",
       " '(A) The sedan is the second-newest.',\n",
       " '(A) The tractor is the oldest.',\n",
       " '(A) The tractor is the second-newest.',\n",
       " '(A) The truck is the third-newest.',\n",
       " '(A) The watermelons are the cheapest.',\n",
       " '(A) The watermelons are the most expensive.',\n",
       " '(A) The yellow book is the rightmost.',\n",
       " '(B) Dan finished third.',\n",
       " '(B) Eli finished third.',\n",
       " '(B) The bus is the third-newest.',\n",
       " '(B) The crow is the rightmost.',\n",
       " '(B) The orange book is the third from the left.',\n",
       " '(B) The purple book is the third from the left.',\n",
       " '(B) The red book is the rightmost.',\n",
       " '(B) The yellow book is the leftmost.',\n",
       " '(C) Dan finished first.',\n",
       " '(C) Eli finished last.',\n",
       " '(C) Eve finished third.',\n",
       " '(C) Joe finished second.',\n",
       " '(C) Rob finished third.',\n",
       " '(C) The blue jay is the third from the left.',\n",
       " '(C) The brown book is the second from the left.',\n",
       " '(C) The gray book is the second from the left.',\n",
       " '(C) The gray book is the second from the right.',\n",
       " '(C) The motorcycle is the oldest.',\n",
       " '(C) The peaches are the cheapest.',\n",
       " '(D) Eli finished second-to-last.',\n",
       " '(D) Joe finished first.',\n",
       " '(D) Mya finished third.',\n",
       " '(D) Rob finished third.',\n",
       " '(D) The blue jay is the leftmost.',\n",
       " '(D) The bus is the second-newest.',\n",
       " '(D) The convertible is the oldest.',\n",
       " '(D) The convertible is the second-oldest.',\n",
       " '(D) The hatchback is the second-oldest.',\n",
       " '(D) The hawk is the third from the left.',\n",
       " '(D) The orange book is the third from the left.',\n",
       " '(D) The oranges are the third-most expensive.',\n",
       " '(D) The sedan is the newest.',\n",
       " '(D) The station wagon is the oldest.',\n",
       " '(D) The yellow book is the second from the left.',\n",
       " '(D).',\n",
       " '(E) Eve finished third.',\n",
       " '(E) Joe finished second.',\n",
       " '(E) Mel finished third.',\n",
       " '(E) Rob finished first.',\n",
       " '(E) Rob finished second.',\n",
       " '(E) The hatchback is the third-newest.',\n",
       " '(E) The motorcycle is the second-newest.',\n",
       " '(E) The orange book is the leftmost.',\n",
       " '(E) The orange book is the third from the left.',\n",
       " '(E) The robin is the second from the right.',\n",
       " '(E) The yellow book is the third from the left.',\n",
       " 'A.',\n",
       " 'B.',\n",
       " 'C.',\n",
       " 'D.',\n",
       " 'E.'}"
      ]
     },
     "execution_count": 94,
     "metadata": {},
     "output_type": "execute_result"
    }
   ],
   "source": [
    "set(dataset[\"answer_pred\"])"
   ]
  },
  {
   "cell_type": "code",
   "execution_count": 95,
   "id": "6ea098a1-449b-416c-801b-6ed0e49a219e",
   "metadata": {},
   "outputs": [
    {
     "data": {
      "application/vnd.jupyter.widget-view+json": {
       "model_id": "373ea89b443348d094ebb90576b58ebc",
       "version_major": 2,
       "version_minor": 0
      },
      "text/plain": [
       "Map:   0%|          | 0/250 [00:00<?, ? examples/s]"
      ]
     },
     "metadata": {},
     "output_type": "display_data"
    },
    {
     "data": {
      "text/plain": [
       "{'A',\n",
       " 'A Amy finished first',\n",
       " 'A Amy finished third',\n",
       " 'A Eve finished third',\n",
       " 'A Joe finished second',\n",
       " 'A Mel finished first',\n",
       " 'A Rob finished first',\n",
       " 'A Rob finished last',\n",
       " 'A The apples are the second-cheapest',\n",
       " 'A The black book is the leftmost',\n",
       " 'A The black book is the second from the left',\n",
       " 'A The blue book is the leftmost',\n",
       " 'A The brown book is the third from the left',\n",
       " 'A The bus is the oldest',\n",
       " 'A The crow is the second from the left',\n",
       " 'A The falcon is the leftmost',\n",
       " 'A The gray book is the second from the left',\n",
       " 'A The gray book is the third from the left',\n",
       " 'A The green book is the rightmost',\n",
       " 'A The loquats are the cheapest',\n",
       " 'A The mangoes are the cheapest',\n",
       " 'A The oranges are the cheapest',\n",
       " 'A The owl is the leftmost',\n",
       " 'A The owl is the second from the left',\n",
       " 'A The owl is the second from the right',\n",
       " 'A The sedan is the second-newest',\n",
       " 'A The tractor is the oldest',\n",
       " 'A The tractor is the second-newest',\n",
       " 'A The truck is the third-newest',\n",
       " 'A The watermelons are the cheapest',\n",
       " 'A The watermelons are the most expensive',\n",
       " 'A The yellow book is the rightmost',\n",
       " 'B',\n",
       " 'B Dan finished third',\n",
       " 'B Eli finished third',\n",
       " 'B The bus is the third-newest',\n",
       " 'B The crow is the rightmost',\n",
       " 'B The orange book is the third from the left',\n",
       " 'B The purple book is the third from the left',\n",
       " 'B The red book is the rightmost',\n",
       " 'B The yellow book is the leftmost',\n",
       " 'C',\n",
       " 'C Dan finished first',\n",
       " 'C Eli finished last',\n",
       " 'C Eve finished third',\n",
       " 'C Joe finished second',\n",
       " 'C Rob finished third',\n",
       " 'C The blue jay is the third from the left',\n",
       " 'C The brown book is the second from the left',\n",
       " 'C The gray book is the second from the left',\n",
       " 'C The gray book is the second from the right',\n",
       " 'C The motorcycle is the oldest',\n",
       " 'C The peaches are the cheapest',\n",
       " 'D',\n",
       " 'D Eli finished second-to-last',\n",
       " 'D Joe finished first',\n",
       " 'D Mya finished third',\n",
       " 'D Rob finished third',\n",
       " 'D The blue jay is the leftmost',\n",
       " 'D The bus is the second-newest',\n",
       " 'D The convertible is the oldest',\n",
       " 'D The convertible is the second-oldest',\n",
       " 'D The hatchback is the second-oldest',\n",
       " 'D The hawk is the third from the left',\n",
       " 'D The orange book is the third from the left',\n",
       " 'D The oranges are the third-most expensive',\n",
       " 'D The sedan is the newest',\n",
       " 'D The station wagon is the oldest',\n",
       " 'D The yellow book is the second from the left',\n",
       " 'E',\n",
       " 'E Eve finished third',\n",
       " 'E Joe finished second',\n",
       " 'E Mel finished third',\n",
       " 'E Rob finished first',\n",
       " 'E Rob finished second',\n",
       " 'E The hatchback is the third-newest',\n",
       " 'E The motorcycle is the second-newest',\n",
       " 'E The orange book is the leftmost',\n",
       " 'E The orange book is the third from the left',\n",
       " 'E The robin is the second from the right',\n",
       " 'E The yellow book is the third from the left'}"
      ]
     },
     "execution_count": 95,
     "metadata": {},
     "output_type": "execute_result"
    }
   ],
   "source": [
    "def map_fn(instance):    \n",
    "    return {\n",
    "        \"answer_pred\": instance[\"answer_pred\"].translate(str.maketrans(\"\", \"\", '.,()\"')) if instance[\"answer_pred\"] else None\n",
    "    }\n",
    "\n",
    "new_ds = dataset.map(map_fn, load_from_cache_file=False)\n",
    "set(new_ds[\"answer_pred\"])"
   ]
  },
  {
   "cell_type": "code",
   "execution_count": 96,
   "id": "23cd080d-3841-4fb0-b0dd-715dfff80e87",
   "metadata": {},
   "outputs": [
    {
     "data": {
      "application/vnd.jupyter.widget-view+json": {
       "model_id": "c1828c6e7e37422d85cd971902d0daf2",
       "version_major": 2,
       "version_minor": 0
      },
      "text/plain": [
       "Map:   0%|          | 0/250 [00:00<?, ? examples/s]"
      ]
     },
     "metadata": {},
     "output_type": "display_data"
    },
    {
     "data": {
      "text/plain": [
       "{'A', 'B', 'C', 'D', 'E'}"
      ]
     },
     "execution_count": 96,
     "metadata": {},
     "output_type": "execute_result"
    }
   ],
   "source": [
    "def map_fn(ins):\n",
    "    return {\n",
    "        \"answer_pred\": ins[\"answer_pred\"].split()[0]\n",
    "    }\n",
    "\n",
    "new_ds = new_ds.map(map_fn)\n",
    "set(new_ds[\"answer_pred\"])"
   ]
  },
  {
   "cell_type": "code",
   "execution_count": 97,
   "id": "c9aab7a5-15a2-4db5-9c23-3dfa57c64939",
   "metadata": {},
   "outputs": [
    {
     "data": {
      "application/vnd.jupyter.widget-view+json": {
       "model_id": "b606ac2b8dbc40e1a08db013eba56e47",
       "version_major": 2,
       "version_minor": 0
      },
      "text/plain": [
       "Saving the dataset (0/1 shards):   0%|          | 0/250 [00:00<?, ? examples/s]"
      ]
     },
     "metadata": {},
     "output_type": "display_data"
    }
   ],
   "source": [
    "start_string, end_string = \"non_self_synthesis/bbh/\", \"/bbh_eval\"\n",
    "cat = str(chk_dir)[str(chk_dir).find(start_string) + len(start_string) + 4:str(chk_dir).find(end_string)]\n",
    "new_ds.save_to_disk(os.path.join(save_par_dir, cat))"
   ]
  },
  {
   "cell_type": "code",
   "execution_count": 98,
   "id": "cf1bcc92-9f2e-4776-add6-e27e8e989d9b",
   "metadata": {},
   "outputs": [
    {
     "data": {
      "application/vnd.jupyter.widget-view+json": {
       "model_id": "02df6cb06df845a5b20d9b9beb54c164",
       "version_major": 2,
       "version_minor": 0
      },
      "text/plain": [
       "Filter:   0%|          | 0/250 [00:00<?, ? examples/s]"
      ]
     },
     "metadata": {},
     "output_type": "display_data"
    },
    {
     "data": {
      "text/plain": [
       "0.94"
      ]
     },
     "execution_count": 98,
     "metadata": {},
     "output_type": "execute_result"
    }
   ],
   "source": [
    "corr = new_ds.filter(lambda x: x[\"target\"].translate(str.maketrans(\"\", \"\", '()\"')) == x[\"answer_pred\"])\n",
    "(corr.num_rows) / new_ds.num_rows"
   ]
  },
  {
   "cell_type": "markdown",
   "id": "6fef7c23-849a-4c8c-86ec-60f32a0b2428",
   "metadata": {
    "jp-MarkdownHeadingCollapsed": true
   },
   "source": [
    "# logical_deduction_seven_objects"
   ]
  },
  {
   "cell_type": "code",
   "execution_count": 99,
   "id": "941ecabd-3fbb-4881-8b6f-c450a77d757c",
   "metadata": {},
   "outputs": [],
   "source": [
    "chk_dir = here(os.path.join(par_dir, \"bbh-logical_deduction_seven_objects/bbh_eval\"))"
   ]
  },
  {
   "cell_type": "code",
   "execution_count": 100,
   "id": "fd86965b-b897-4a09-99ae-088fcdb1240e",
   "metadata": {},
   "outputs": [],
   "source": [
    "dataset = Dataset.load_from_disk(chk_dir)"
   ]
  },
  {
   "cell_type": "code",
   "execution_count": 101,
   "id": "e4f4f795-3d32-4c8a-b63c-15d032521a2e",
   "metadata": {},
   "outputs": [
    {
     "data": {
      "text/plain": [
       "{'(A) Ana finished fourth.',\n",
       " '(A) Eve finished third-to-last.',\n",
       " '(A) Eve finished third.',\n",
       " '(A) Joe finished first.',\n",
       " '(A) Joe finished fourth.',\n",
       " '(A) Joe finished last.',\n",
       " '(A) Joe finished second-to-last.',\n",
       " '(A) The apples are the most expensive.',\n",
       " '(A) The black book is the third from the left.',\n",
       " '(A) The blue jay is the fourth from the left.',\n",
       " '(A) The bus is the newest.',\n",
       " '(A) The cardinal is the third from the left.',\n",
       " '(A) The falcon is the third from the left.',\n",
       " '(A) The hatchback is the second-oldest.',\n",
       " '(A) The hummingbird is the second from the right.',\n",
       " '(A) The limousine is the fourth-newest.',\n",
       " '(A) The limousine is the second-oldest.',\n",
       " '(A) The limousine is the third-oldest.',\n",
       " '(A) The motorcycle is the oldest.',\n",
       " '(A) The owl is the third from the left.',\n",
       " '(A) The purple book is the third from the left.',\n",
       " '(A) The raven is the second from the left.',\n",
       " '(A) The robin is the fourth from the left.',\n",
       " '(A) The sedan is the fourth-newest.',\n",
       " '(A) The station wagon is the fourth-newest.',\n",
       " '(A) The white book is the fourth from the left.',\n",
       " '(B) Ada finished fourth.',\n",
       " '(B) The hummingbird is the fourth from the left.',\n",
       " '(B) The hummingbird is the third from the left.',\n",
       " '(B) The orange book is the leftmost.',\n",
       " '(B) The yellow book is the second from the right.',\n",
       " '(C) Ana finished first.',\n",
       " '(C) Dan finished fourth.',\n",
       " '(C) Eli finished third-to-last.',\n",
       " '(C) Eve finished fourth.',\n",
       " '(C) The brown book is the third from the right.',\n",
       " '(C) The kiwis are the third-cheapest.',\n",
       " '(C) The minivan is the oldest.',\n",
       " '(C) The owl is the third from the right.',\n",
       " '(C) The robin is the second from the left.',\n",
       " '(C) The yellow book is the second from the left.',\n",
       " '(D) Amy finished third.',\n",
       " '(D) Dan finished fourth.',\n",
       " '(D) Mel finished first.',\n",
       " '(D) Rob finished second.',\n",
       " '(D) The blue book is the second from the right.',\n",
       " '(D) The cantaloupes are the third-cheapest.',\n",
       " '(D) The falcon is the rightmost.',\n",
       " '(D) The falcon is the third from the left.',\n",
       " '(D) The falcon is the third from the right.',\n",
       " '(D) The orange book is the second from the right.',\n",
       " '(D) The owl is the second from the left.',\n",
       " '(D) The pears are the most expensive.',\n",
       " '(D) The station wagon is the fourth-newest.',\n",
       " '(D) The station wagon is the newest.',\n",
       " '(D) The truck is the third-newest.',\n",
       " '(E) Mel finished last.',\n",
       " '(E) Mya finished fourth.',\n",
       " '(E) Mya finished last.',\n",
       " '(E) Rob finished second.',\n",
       " '(E) The owl is the leftmost.',\n",
       " '(E) The purple book is the rightmost.',\n",
       " '(E) The robin is the third from the left.',\n",
       " '(E) The station wagon is the newest.',\n",
       " '(E).',\n",
       " '(F) Eve finished first.',\n",
       " '(F) Rob finished third.',\n",
       " '(F) The brown book is the third from the right.',\n",
       " '(F) The cardinal is the second from the right.',\n",
       " '(F) The tractor is the second-oldest.',\n",
       " '(F) The truck is the oldest.',\n",
       " '(G) Ana finished last.',\n",
       " '(G) The convertible is the third-oldest.',\n",
       " '(G) The hummingbird is the third from the right.',\n",
       " '(G) The purple book is the rightmost.',\n",
       " '(G) The purple book is the third from the left.',\n",
       " '(G) The yellow book is the second from the left.',\n",
       " '(G) The yellow book is the second from the right.',\n",
       " 'A.',\n",
       " 'B.',\n",
       " 'C.',\n",
       " 'D.',\n",
       " 'E.',\n",
       " 'F.',\n",
       " 'G.'}"
      ]
     },
     "execution_count": 101,
     "metadata": {},
     "output_type": "execute_result"
    }
   ],
   "source": [
    "set(dataset[\"answer_pred\"])"
   ]
  },
  {
   "cell_type": "code",
   "execution_count": 102,
   "id": "955a3f5e-5cea-43f1-a1d5-07f2001ca38a",
   "metadata": {},
   "outputs": [
    {
     "data": {
      "application/vnd.jupyter.widget-view+json": {
       "model_id": "49ef55f9823f4d6398318c21d5f6b477",
       "version_major": 2,
       "version_minor": 0
      },
      "text/plain": [
       "Map:   0%|          | 0/250 [00:00<?, ? examples/s]"
      ]
     },
     "metadata": {},
     "output_type": "display_data"
    },
    {
     "data": {
      "text/plain": [
       "{'A',\n",
       " 'A Ana finished fourth',\n",
       " 'A Eve finished third',\n",
       " 'A Eve finished third-to-last',\n",
       " 'A Joe finished first',\n",
       " 'A Joe finished fourth',\n",
       " 'A Joe finished last',\n",
       " 'A Joe finished second-to-last',\n",
       " 'A The apples are the most expensive',\n",
       " 'A The black book is the third from the left',\n",
       " 'A The blue jay is the fourth from the left',\n",
       " 'A The bus is the newest',\n",
       " 'A The cardinal is the third from the left',\n",
       " 'A The falcon is the third from the left',\n",
       " 'A The hatchback is the second-oldest',\n",
       " 'A The hummingbird is the second from the right',\n",
       " 'A The limousine is the fourth-newest',\n",
       " 'A The limousine is the second-oldest',\n",
       " 'A The limousine is the third-oldest',\n",
       " 'A The motorcycle is the oldest',\n",
       " 'A The owl is the third from the left',\n",
       " 'A The purple book is the third from the left',\n",
       " 'A The raven is the second from the left',\n",
       " 'A The robin is the fourth from the left',\n",
       " 'A The sedan is the fourth-newest',\n",
       " 'A The station wagon is the fourth-newest',\n",
       " 'A The white book is the fourth from the left',\n",
       " 'B',\n",
       " 'B Ada finished fourth',\n",
       " 'B The hummingbird is the fourth from the left',\n",
       " 'B The hummingbird is the third from the left',\n",
       " 'B The orange book is the leftmost',\n",
       " 'B The yellow book is the second from the right',\n",
       " 'C',\n",
       " 'C Ana finished first',\n",
       " 'C Dan finished fourth',\n",
       " 'C Eli finished third-to-last',\n",
       " 'C Eve finished fourth',\n",
       " 'C The brown book is the third from the right',\n",
       " 'C The kiwis are the third-cheapest',\n",
       " 'C The minivan is the oldest',\n",
       " 'C The owl is the third from the right',\n",
       " 'C The robin is the second from the left',\n",
       " 'C The yellow book is the second from the left',\n",
       " 'D',\n",
       " 'D Amy finished third',\n",
       " 'D Dan finished fourth',\n",
       " 'D Mel finished first',\n",
       " 'D Rob finished second',\n",
       " 'D The blue book is the second from the right',\n",
       " 'D The cantaloupes are the third-cheapest',\n",
       " 'D The falcon is the rightmost',\n",
       " 'D The falcon is the third from the left',\n",
       " 'D The falcon is the third from the right',\n",
       " 'D The orange book is the second from the right',\n",
       " 'D The owl is the second from the left',\n",
       " 'D The pears are the most expensive',\n",
       " 'D The station wagon is the fourth-newest',\n",
       " 'D The station wagon is the newest',\n",
       " 'D The truck is the third-newest',\n",
       " 'E',\n",
       " 'E Mel finished last',\n",
       " 'E Mya finished fourth',\n",
       " 'E Mya finished last',\n",
       " 'E Rob finished second',\n",
       " 'E The owl is the leftmost',\n",
       " 'E The purple book is the rightmost',\n",
       " 'E The robin is the third from the left',\n",
       " 'E The station wagon is the newest',\n",
       " 'F',\n",
       " 'F Eve finished first',\n",
       " 'F Rob finished third',\n",
       " 'F The brown book is the third from the right',\n",
       " 'F The cardinal is the second from the right',\n",
       " 'F The tractor is the second-oldest',\n",
       " 'F The truck is the oldest',\n",
       " 'G',\n",
       " 'G Ana finished last',\n",
       " 'G The convertible is the third-oldest',\n",
       " 'G The hummingbird is the third from the right',\n",
       " 'G The purple book is the rightmost',\n",
       " 'G The purple book is the third from the left',\n",
       " 'G The yellow book is the second from the left',\n",
       " 'G The yellow book is the second from the right'}"
      ]
     },
     "execution_count": 102,
     "metadata": {},
     "output_type": "execute_result"
    }
   ],
   "source": [
    "def map_fn(instance):    \n",
    "    return {\n",
    "        \"answer_pred\": instance[\"answer_pred\"].translate(str.maketrans(\"\", \"\", '.,()\"')) if instance[\"answer_pred\"] else None\n",
    "    }\n",
    "\n",
    "new_ds = dataset.map(map_fn, load_from_cache_file=False)\n",
    "set(new_ds[\"answer_pred\"])"
   ]
  },
  {
   "cell_type": "code",
   "execution_count": 103,
   "id": "42dceefa-5f09-4ef9-a7d6-1a76135e2e26",
   "metadata": {},
   "outputs": [
    {
     "data": {
      "application/vnd.jupyter.widget-view+json": {
       "model_id": "066bcf330c0844578dae5d90fcbffe2b",
       "version_major": 2,
       "version_minor": 0
      },
      "text/plain": [
       "Map:   0%|          | 0/250 [00:00<?, ? examples/s]"
      ]
     },
     "metadata": {},
     "output_type": "display_data"
    },
    {
     "data": {
      "text/plain": [
       "{'A', 'B', 'C', 'D', 'E', 'F', 'G'}"
      ]
     },
     "execution_count": 103,
     "metadata": {},
     "output_type": "execute_result"
    }
   ],
   "source": [
    "def map_fn(ins):\n",
    "    return {\n",
    "        \"answer_pred\": ins[\"answer_pred\"].split()[0]\n",
    "    }\n",
    "\n",
    "new_ds = new_ds.map(map_fn)\n",
    "set(new_ds[\"answer_pred\"])"
   ]
  },
  {
   "cell_type": "code",
   "execution_count": 104,
   "id": "817c45b7-737a-4078-b220-10dec8673572",
   "metadata": {},
   "outputs": [
    {
     "data": {
      "application/vnd.jupyter.widget-view+json": {
       "model_id": "75f0d17976cc4ae0bb70f53c0881cec7",
       "version_major": 2,
       "version_minor": 0
      },
      "text/plain": [
       "Saving the dataset (0/1 shards):   0%|          | 0/250 [00:00<?, ? examples/s]"
      ]
     },
     "metadata": {},
     "output_type": "display_data"
    }
   ],
   "source": [
    "start_string, end_string = \"non_self_synthesis/bbh/\", \"/bbh_eval\"\n",
    "cat = str(chk_dir)[str(chk_dir).find(start_string) + len(start_string) + 4:str(chk_dir).find(end_string)]\n",
    "new_ds.save_to_disk(os.path.join(save_par_dir, cat))"
   ]
  },
  {
   "cell_type": "code",
   "execution_count": 105,
   "id": "31ac55a1-cadd-4bbe-bbcc-5c549ccd895a",
   "metadata": {},
   "outputs": [
    {
     "data": {
      "application/vnd.jupyter.widget-view+json": {
       "model_id": "f79a4c79026f4db6b1c2b19f93531dab",
       "version_major": 2,
       "version_minor": 0
      },
      "text/plain": [
       "Filter:   0%|          | 0/250 [00:00<?, ? examples/s]"
      ]
     },
     "metadata": {},
     "output_type": "display_data"
    },
    {
     "data": {
      "text/plain": [
       "0.896"
      ]
     },
     "execution_count": 105,
     "metadata": {},
     "output_type": "execute_result"
    }
   ],
   "source": [
    "corr = new_ds.filter(lambda x: x[\"target\"].translate(str.maketrans(\"\", \"\", '()\"')) == x[\"answer_pred\"])\n",
    "(corr.num_rows) / new_ds.num_rows"
   ]
  },
  {
   "cell_type": "markdown",
   "id": "1dbb231c-9083-40ff-921e-a196229de3f3",
   "metadata": {
    "jp-MarkdownHeadingCollapsed": true
   },
   "source": [
    "# logical_deduction_three_objects"
   ]
  },
  {
   "cell_type": "code",
   "execution_count": 106,
   "id": "997292c0-b202-456f-ac2e-e612811c85c4",
   "metadata": {},
   "outputs": [],
   "source": [
    "chk_dir = here(os.path.join(par_dir, \"bbh-logical_deduction_three_objects/bbh_eval\"))"
   ]
  },
  {
   "cell_type": "code",
   "execution_count": 107,
   "id": "4e15206b-92e9-4cb9-beca-58323222878d",
   "metadata": {},
   "outputs": [],
   "source": [
    "dataset = Dataset.load_from_disk(chk_dir)"
   ]
  },
  {
   "cell_type": "code",
   "execution_count": 108,
   "id": "9e5aa80f-ed32-45e4-957a-86b4ff6dc784",
   "metadata": {},
   "outputs": [
    {
     "data": {
      "text/plain": [
       "{'(A) Amy finished first.',\n",
       " '(A) Amy finished last.**',\n",
       " '(A) Amy finished second.',\n",
       " '(A) Ana finished last.',\n",
       " '(A) Ana finished second.',\n",
       " '(A) Eli finished first.',\n",
       " '(A) Eli finished last.',\n",
       " '(A) Eve finished first.',\n",
       " '(A) Eve finished second.',\n",
       " '(A) Joe finished first.',\n",
       " '(A) The apples are the cheapest.',\n",
       " '(A) The black book is the leftmost.',\n",
       " '(A) The blue book is the rightmost.',\n",
       " '(A) The blue jay is the second from the left.',\n",
       " '(A) The convertible is the newest.',\n",
       " '(A) The crow is the leftmost.',\n",
       " '(A) The falcon is the leftmost.',\n",
       " '(A) The gray book is the leftmost.',\n",
       " '(A) The green book is the leftmost.',\n",
       " '(A) The hatchback is the second-newest.',\n",
       " '(A) The hawk is the second from the left.',\n",
       " '(A) The hummingbird is the leftmost.',\n",
       " '(A) The limousine is the second-newest.',\n",
       " '(A) The loquats are the most expensive.',\n",
       " '(A) The motorcycle is the oldest.',\n",
       " '(A) The orange book is the leftmost.',\n",
       " '(A) The owl is the second from the left.',\n",
       " '(A) The peaches are the most expensive.',\n",
       " '(A) The pears are the second-most expensive.',\n",
       " '(A) The purple book is the rightmost.',\n",
       " '(A) The red book is the leftmost.',\n",
       " '(A) The red book is the second from the left.',\n",
       " '(A) The robin is the rightmost.',\n",
       " '(A) The sedan is the oldest.',\n",
       " '(A) The sedan is the second-newest.',\n",
       " '(A) The station wagon is the newest.',\n",
       " '(A) The station wagon is the second-newest.',\n",
       " '(A) The truck is the newest.',\n",
       " '(A) The yellow book is the leftmost.',\n",
       " '(A) The yellow book is the rightmost.',\n",
       " '(A).',\n",
       " '(B) Ada finished first.',\n",
       " '(B) Amy finished first.',\n",
       " '(B) Mya finished last.',\n",
       " '(B) Rob finished first.',\n",
       " '(B) Rob finished second.',\n",
       " '(B) The blue jay is the rightmost.',\n",
       " '(B) The falcon is the rightmost.',\n",
       " '(B) The hawk is the second from the left.',\n",
       " '(B) The orange book is the leftmost.',\n",
       " '(B) The peaches are the most expensive.',\n",
       " '(C) Ada finished first.',\n",
       " '(C) Amy finished first.',\n",
       " '(C) Amy finished second.',\n",
       " '(C) Eve finished first.',\n",
       " '(C) Joe finished last.',\n",
       " '(C) Mel finished second.',\n",
       " '(C) Mya finished last.',\n",
       " '(C) The blue book is the leftmost.',\n",
       " '(C) The brown book is the second from the left.',\n",
       " '(C) The bus is the oldest.',\n",
       " '(C) The bus is the second-newest.',\n",
       " '(C) The cardinal is the rightmost.',\n",
       " '(C) The convertible is the newest.',\n",
       " '(C) The hatchback is the oldest.',\n",
       " '(C) The mangoes are the second-most expensive.',\n",
       " '(C) The orange book is the rightmost.',\n",
       " '(C) The orange book is the second from the left.',\n",
       " '(C) The pears are the most expensive.',\n",
       " '(C) The quail is the leftmost.',\n",
       " '(C) The red book is the leftmost.',\n",
       " '(C) The red book is the second from the left.',\n",
       " '(C) The tractor is the newest.',\n",
       " '(C) The truck is the newest.',\n",
       " '(C) The yellow book is the second from the left.',\n",
       " 'A.',\n",
       " 'B.',\n",
       " 'C.'}"
      ]
     },
     "execution_count": 108,
     "metadata": {},
     "output_type": "execute_result"
    }
   ],
   "source": [
    "set(dataset[\"answer_pred\"])"
   ]
  },
  {
   "cell_type": "code",
   "execution_count": 109,
   "id": "9deaa30c-78f4-460b-aa3a-470e8b532ba7",
   "metadata": {},
   "outputs": [
    {
     "data": {
      "application/vnd.jupyter.widget-view+json": {
       "model_id": "b6ef344b010d470b97444c83a2b0ca58",
       "version_major": 2,
       "version_minor": 0
      },
      "text/plain": [
       "Map:   0%|          | 0/250 [00:00<?, ? examples/s]"
      ]
     },
     "metadata": {},
     "output_type": "display_data"
    },
    {
     "data": {
      "text/plain": [
       "{'A',\n",
       " 'A Amy finished first',\n",
       " 'A Amy finished last**',\n",
       " 'A Amy finished second',\n",
       " 'A Ana finished last',\n",
       " 'A Ana finished second',\n",
       " 'A Eli finished first',\n",
       " 'A Eli finished last',\n",
       " 'A Eve finished first',\n",
       " 'A Eve finished second',\n",
       " 'A Joe finished first',\n",
       " 'A The apples are the cheapest',\n",
       " 'A The black book is the leftmost',\n",
       " 'A The blue book is the rightmost',\n",
       " 'A The blue jay is the second from the left',\n",
       " 'A The convertible is the newest',\n",
       " 'A The crow is the leftmost',\n",
       " 'A The falcon is the leftmost',\n",
       " 'A The gray book is the leftmost',\n",
       " 'A The green book is the leftmost',\n",
       " 'A The hatchback is the second-newest',\n",
       " 'A The hawk is the second from the left',\n",
       " 'A The hummingbird is the leftmost',\n",
       " 'A The limousine is the second-newest',\n",
       " 'A The loquats are the most expensive',\n",
       " 'A The motorcycle is the oldest',\n",
       " 'A The orange book is the leftmost',\n",
       " 'A The owl is the second from the left',\n",
       " 'A The peaches are the most expensive',\n",
       " 'A The pears are the second-most expensive',\n",
       " 'A The purple book is the rightmost',\n",
       " 'A The red book is the leftmost',\n",
       " 'A The red book is the second from the left',\n",
       " 'A The robin is the rightmost',\n",
       " 'A The sedan is the oldest',\n",
       " 'A The sedan is the second-newest',\n",
       " 'A The station wagon is the newest',\n",
       " 'A The station wagon is the second-newest',\n",
       " 'A The truck is the newest',\n",
       " 'A The yellow book is the leftmost',\n",
       " 'A The yellow book is the rightmost',\n",
       " 'B',\n",
       " 'B Ada finished first',\n",
       " 'B Amy finished first',\n",
       " 'B Mya finished last',\n",
       " 'B Rob finished first',\n",
       " 'B Rob finished second',\n",
       " 'B The blue jay is the rightmost',\n",
       " 'B The falcon is the rightmost',\n",
       " 'B The hawk is the second from the left',\n",
       " 'B The orange book is the leftmost',\n",
       " 'B The peaches are the most expensive',\n",
       " 'C',\n",
       " 'C Ada finished first',\n",
       " 'C Amy finished first',\n",
       " 'C Amy finished second',\n",
       " 'C Eve finished first',\n",
       " 'C Joe finished last',\n",
       " 'C Mel finished second',\n",
       " 'C Mya finished last',\n",
       " 'C The blue book is the leftmost',\n",
       " 'C The brown book is the second from the left',\n",
       " 'C The bus is the oldest',\n",
       " 'C The bus is the second-newest',\n",
       " 'C The cardinal is the rightmost',\n",
       " 'C The convertible is the newest',\n",
       " 'C The hatchback is the oldest',\n",
       " 'C The mangoes are the second-most expensive',\n",
       " 'C The orange book is the rightmost',\n",
       " 'C The orange book is the second from the left',\n",
       " 'C The pears are the most expensive',\n",
       " 'C The quail is the leftmost',\n",
       " 'C The red book is the leftmost',\n",
       " 'C The red book is the second from the left',\n",
       " 'C The tractor is the newest',\n",
       " 'C The truck is the newest',\n",
       " 'C The yellow book is the second from the left'}"
      ]
     },
     "execution_count": 109,
     "metadata": {},
     "output_type": "execute_result"
    }
   ],
   "source": [
    "def map_fn(instance):    \n",
    "    return {\n",
    "        \"answer_pred\": instance[\"answer_pred\"].translate(str.maketrans(\"\", \"\", '.,()\"')) if instance[\"answer_pred\"] else None\n",
    "    }\n",
    "\n",
    "new_ds = dataset.map(map_fn, load_from_cache_file=False)\n",
    "set(new_ds[\"answer_pred\"])"
   ]
  },
  {
   "cell_type": "code",
   "execution_count": 110,
   "id": "9e3024dd-c8cb-4472-8885-f190b6a1877f",
   "metadata": {},
   "outputs": [
    {
     "data": {
      "application/vnd.jupyter.widget-view+json": {
       "model_id": "7a97fff1191e4c99bd18ad5a77bf21de",
       "version_major": 2,
       "version_minor": 0
      },
      "text/plain": [
       "Map:   0%|          | 0/250 [00:00<?, ? examples/s]"
      ]
     },
     "metadata": {},
     "output_type": "display_data"
    },
    {
     "data": {
      "text/plain": [
       "{'A', 'B', 'C'}"
      ]
     },
     "execution_count": 110,
     "metadata": {},
     "output_type": "execute_result"
    }
   ],
   "source": [
    "def map_fn(ins):\n",
    "    return {\n",
    "        \"answer_pred\": ins[\"answer_pred\"].split()[0]\n",
    "    }\n",
    "\n",
    "new_ds = new_ds.map(map_fn)\n",
    "set(new_ds[\"answer_pred\"])"
   ]
  },
  {
   "cell_type": "code",
   "execution_count": 111,
   "id": "cb43de52-b600-445c-86eb-86968fdac33a",
   "metadata": {},
   "outputs": [
    {
     "data": {
      "application/vnd.jupyter.widget-view+json": {
       "model_id": "f34b5bd0422347dd9b2fb18ef9f79a72",
       "version_major": 2,
       "version_minor": 0
      },
      "text/plain": [
       "Saving the dataset (0/1 shards):   0%|          | 0/250 [00:00<?, ? examples/s]"
      ]
     },
     "metadata": {},
     "output_type": "display_data"
    }
   ],
   "source": [
    "start_string, end_string = \"non_self_synthesis/bbh/\", \"/bbh_eval\"\n",
    "cat = str(chk_dir)[str(chk_dir).find(start_string) + len(start_string) + 4:str(chk_dir).find(end_string)]\n",
    "new_ds.save_to_disk(os.path.join(save_par_dir, cat))"
   ]
  },
  {
   "cell_type": "code",
   "execution_count": 112,
   "id": "992a8366-d61d-4ac0-8e3f-54bdbabdab2c",
   "metadata": {},
   "outputs": [
    {
     "data": {
      "application/vnd.jupyter.widget-view+json": {
       "model_id": "fdc5844af64a4c728c4e097572ac9af5",
       "version_major": 2,
       "version_minor": 0
      },
      "text/plain": [
       "Filter:   0%|          | 0/250 [00:00<?, ? examples/s]"
      ]
     },
     "metadata": {},
     "output_type": "display_data"
    },
    {
     "data": {
      "text/plain": [
       "0.996"
      ]
     },
     "execution_count": 112,
     "metadata": {},
     "output_type": "execute_result"
    }
   ],
   "source": [
    "corr = new_ds.filter(lambda x: x[\"target\"].translate(str.maketrans(\"\", \"\", '()\"')) == x[\"answer_pred\"])\n",
    "(corr.num_rows) / new_ds.num_rows"
   ]
  },
  {
   "cell_type": "markdown",
   "id": "b1915237-bce3-4e3b-b051-8d5eb37f9d01",
   "metadata": {
    "jp-MarkdownHeadingCollapsed": true
   },
   "source": [
    "# movie_recommendation"
   ]
  },
  {
   "cell_type": "code",
   "execution_count": 113,
   "id": "d1974cb6-ad5a-4797-b836-5107b4b39e06",
   "metadata": {},
   "outputs": [],
   "source": [
    "chk_dir = here(os.path.join(par_dir, \"bbh-movie_recommendation/bbh_eval\"))"
   ]
  },
  {
   "cell_type": "code",
   "execution_count": 114,
   "id": "c621e330-d571-40ed-8276-5aed2ca64e39",
   "metadata": {},
   "outputs": [],
   "source": [
    "dataset = Dataset.load_from_disk(chk_dir)"
   ]
  },
  {
   "cell_type": "code",
   "execution_count": 115,
   "id": "772615e1-2fba-4dfb-9f90-e1551714abdb",
   "metadata": {},
   "outputs": [
    {
     "data": {
      "text/plain": [
       "{'(B) The House.',\n",
       " 'A.',\n",
       " 'B.',\n",
       " 'C.',\n",
       " 'D.',\n",
       " 'E.',\n",
       " 'None of the options are similar to the given movies.',\n",
       " 'None of the options are similar.',\n",
       " 'None of the options.',\n",
       " 'None.',\n",
       " 'that none of the options are a perfect match.',\n",
       " 'that none of the options provided are similar to the given movies based on the identified criteria.'}"
      ]
     },
     "execution_count": 115,
     "metadata": {},
     "output_type": "execute_result"
    }
   ],
   "source": [
    "set(dataset[\"answer_pred\"])"
   ]
  },
  {
   "cell_type": "code",
   "execution_count": 116,
   "id": "a09a7372-c6cc-4b27-8e5d-f02bd646f95a",
   "metadata": {},
   "outputs": [
    {
     "data": {
      "application/vnd.jupyter.widget-view+json": {
       "model_id": "b19dff1234ed4a3ea179b2afb6f4f038",
       "version_major": 2,
       "version_minor": 0
      },
      "text/plain": [
       "Map:   0%|          | 0/250 [00:00<?, ? examples/s]"
      ]
     },
     "metadata": {},
     "output_type": "display_data"
    },
    {
     "data": {
      "text/plain": [
       "{'A',\n",
       " 'B',\n",
       " 'B The House',\n",
       " 'C',\n",
       " 'D',\n",
       " 'E',\n",
       " 'None',\n",
       " 'None of the options',\n",
       " 'None of the options are similar',\n",
       " 'None of the options are similar to the given movies',\n",
       " 'that none of the options are a perfect match',\n",
       " 'that none of the options provided are similar to the given movies based on the identified criteria'}"
      ]
     },
     "execution_count": 116,
     "metadata": {},
     "output_type": "execute_result"
    }
   ],
   "source": [
    "def map_fn(instance):    \n",
    "    return {\n",
    "        \"answer_pred\": instance[\"answer_pred\"].translate(str.maketrans(\"\", \"\", '.,()\"')) if instance[\"answer_pred\"] else None\n",
    "    }\n",
    "\n",
    "new_ds = dataset.map(map_fn, load_from_cache_file=False)\n",
    "set(new_ds[\"answer_pred\"])"
   ]
  },
  {
   "cell_type": "code",
   "execution_count": 118,
   "id": "24198ebc-d096-44ce-8102-7022ba27c5e8",
   "metadata": {},
   "outputs": [
    {
     "data": {
      "application/vnd.jupyter.widget-view+json": {
       "model_id": "14523f25fe5544d89648c6903a0c5c72",
       "version_major": 2,
       "version_minor": 0
      },
      "text/plain": [
       "Map:   0%|          | 0/250 [00:00<?, ? examples/s]"
      ]
     },
     "metadata": {},
     "output_type": "display_data"
    },
    {
     "data": {
      "text/plain": [
       "{'A',\n",
       " 'B',\n",
       " 'C',\n",
       " 'D',\n",
       " 'E',\n",
       " 'None',\n",
       " 'None of the options',\n",
       " 'None of the options are similar',\n",
       " 'None of the options are similar to the given movies',\n",
       " 'that none of the options are a perfect match',\n",
       " 'that none of the options provided are similar to the given movies based on the identified criteria'}"
      ]
     },
     "execution_count": 118,
     "metadata": {},
     "output_type": "execute_result"
    }
   ],
   "source": [
    "def map_fn(ins):\n",
    "    ls = ins[\"answer_pred\"].split()\n",
    "    if ls[0] in [\"A\", \"B\", \"C\", \"D\", \"E\"]:\n",
    "        return {\n",
    "            \"answer_pred\": ls[0]\n",
    "        }\n",
    "\n",
    "    return {\n",
    "        \"answer_pred\": ins[\"answer_pred\"]\n",
    "    }\n",
    "\n",
    "new_ds = new_ds.map(map_fn)\n",
    "set(new_ds[\"answer_pred\"])"
   ]
  },
  {
   "cell_type": "code",
   "execution_count": 119,
   "id": "bdd7fd5b-8cff-4fca-acc4-226716a840c3",
   "metadata": {},
   "outputs": [
    {
     "data": {
      "application/vnd.jupyter.widget-view+json": {
       "model_id": "f152713bd3a7478cb7db2e3e2370011c",
       "version_major": 2,
       "version_minor": 0
      },
      "text/plain": [
       "Saving the dataset (0/1 shards):   0%|          | 0/250 [00:00<?, ? examples/s]"
      ]
     },
     "metadata": {},
     "output_type": "display_data"
    }
   ],
   "source": [
    "start_string, end_string = \"non_self_synthesis/bbh/\", \"/bbh_eval\"\n",
    "cat = str(chk_dir)[str(chk_dir).find(start_string) + len(start_string) + 4:str(chk_dir).find(end_string)]\n",
    "new_ds.save_to_disk(os.path.join(save_par_dir, cat))"
   ]
  },
  {
   "cell_type": "code",
   "execution_count": 120,
   "id": "9ca30b67-e251-4c75-bfc1-85c852d42050",
   "metadata": {},
   "outputs": [
    {
     "data": {
      "application/vnd.jupyter.widget-view+json": {
       "model_id": "17ae70ff2d1243509a6a429beacbbbd0",
       "version_major": 2,
       "version_minor": 0
      },
      "text/plain": [
       "Filter:   0%|          | 0/250 [00:00<?, ? examples/s]"
      ]
     },
     "metadata": {},
     "output_type": "display_data"
    },
    {
     "data": {
      "text/plain": [
       "0.688"
      ]
     },
     "execution_count": 120,
     "metadata": {},
     "output_type": "execute_result"
    }
   ],
   "source": [
    "corr = new_ds.filter(lambda x: x[\"target\"].translate(str.maketrans(\"\", \"\", '()\"')) == x[\"answer_pred\"])\n",
    "(corr.num_rows) / new_ds.num_rows"
   ]
  },
  {
   "cell_type": "markdown",
   "id": "64a3d5b0-4ba3-4989-b506-b7597bb4a044",
   "metadata": {
    "jp-MarkdownHeadingCollapsed": true
   },
   "source": [
    "# penguins_in_a_table"
   ]
  },
  {
   "cell_type": "code",
   "execution_count": 121,
   "id": "57f52b5b-7902-4b5b-ad11-0b5f811a9c72",
   "metadata": {},
   "outputs": [],
   "source": [
    "chk_dir = here(os.path.join(par_dir, \"bbh-penguins_in_a_table/bbh_eval\"))"
   ]
  },
  {
   "cell_type": "code",
   "execution_count": 122,
   "id": "44adbace-ace5-4f21-80da-332aed7b9a95",
   "metadata": {},
   "outputs": [],
   "source": [
    "dataset = Dataset.load_from_disk(chk_dir)"
   ]
  },
  {
   "cell_type": "code",
   "execution_count": 123,
   "id": "b4282681-d060-4001-8e70-24deba130b11",
   "metadata": {},
   "outputs": [
    {
     "data": {
      "text/plain": [
       "{'(A) Louis.',\n",
       " '(A).',\n",
       " '(C) Vincent.',\n",
       " '(D) Gwen.',\n",
       " '(E) James.',\n",
       " 'A.',\n",
       " 'B.',\n",
       " 'C.',\n",
       " 'D.',\n",
       " 'E.'}"
      ]
     },
     "execution_count": 123,
     "metadata": {},
     "output_type": "execute_result"
    }
   ],
   "source": [
    "set(dataset[\"answer_pred\"])"
   ]
  },
  {
   "cell_type": "code",
   "execution_count": 124,
   "id": "e7fa4f24-8807-4281-bad9-72f191f989c1",
   "metadata": {},
   "outputs": [
    {
     "data": {
      "application/vnd.jupyter.widget-view+json": {
       "model_id": "a8ddd6a3b9ad4aa78c72d900b4502b65",
       "version_major": 2,
       "version_minor": 0
      },
      "text/plain": [
       "Map:   0%|          | 0/146 [00:00<?, ? examples/s]"
      ]
     },
     "metadata": {},
     "output_type": "display_data"
    },
    {
     "data": {
      "text/plain": [
       "{'A', 'A Louis', 'B', 'C', 'C Vincent', 'D', 'D Gwen', 'E', 'E James'}"
      ]
     },
     "execution_count": 124,
     "metadata": {},
     "output_type": "execute_result"
    }
   ],
   "source": [
    "def map_fn(instance):    \n",
    "    return {\n",
    "        \"answer_pred\": instance[\"answer_pred\"].translate(str.maketrans(\"\", \"\", '.,()\"')) if instance[\"answer_pred\"] else None\n",
    "    }\n",
    "\n",
    "new_ds = dataset.map(map_fn, load_from_cache_file=False)\n",
    "set(new_ds[\"answer_pred\"])"
   ]
  },
  {
   "cell_type": "code",
   "execution_count": 125,
   "id": "f538bbb0-0797-4c0a-a458-cd439737b1c2",
   "metadata": {},
   "outputs": [
    {
     "data": {
      "application/vnd.jupyter.widget-view+json": {
       "model_id": "e4fb6a89adcc466180078bfbc51d965d",
       "version_major": 2,
       "version_minor": 0
      },
      "text/plain": [
       "Map:   0%|          | 0/146 [00:00<?, ? examples/s]"
      ]
     },
     "metadata": {},
     "output_type": "display_data"
    },
    {
     "data": {
      "text/plain": [
       "{'A', 'B', 'C', 'D', 'E'}"
      ]
     },
     "execution_count": 125,
     "metadata": {},
     "output_type": "execute_result"
    }
   ],
   "source": [
    "def map_fn(ins):\n",
    "    return {\n",
    "        \"answer_pred\": ins[\"answer_pred\"].split()[0]\n",
    "    }\n",
    "\n",
    "new_ds = new_ds.map(map_fn)\n",
    "set(new_ds[\"answer_pred\"])"
   ]
  },
  {
   "cell_type": "code",
   "execution_count": 126,
   "id": "ac329c9d-fc7c-4864-bdbe-b85d7a0ba721",
   "metadata": {},
   "outputs": [
    {
     "data": {
      "application/vnd.jupyter.widget-view+json": {
       "model_id": "af643c69d2624115bb5778db71a1dd95",
       "version_major": 2,
       "version_minor": 0
      },
      "text/plain": [
       "Saving the dataset (0/1 shards):   0%|          | 0/146 [00:00<?, ? examples/s]"
      ]
     },
     "metadata": {},
     "output_type": "display_data"
    }
   ],
   "source": [
    "start_string, end_string = \"non_self_synthesis/bbh/\", \"/bbh_eval\"\n",
    "cat = str(chk_dir)[str(chk_dir).find(start_string) + len(start_string) + 4:str(chk_dir).find(end_string)]\n",
    "new_ds.save_to_disk(os.path.join(save_par_dir, cat))"
   ]
  },
  {
   "cell_type": "code",
   "execution_count": 127,
   "id": "ac13448a-24a5-4b7e-8dae-ed94377f0423",
   "metadata": {},
   "outputs": [
    {
     "data": {
      "application/vnd.jupyter.widget-view+json": {
       "model_id": "024c5593fd1b45f18952477dae026929",
       "version_major": 2,
       "version_minor": 0
      },
      "text/plain": [
       "Filter:   0%|          | 0/146 [00:00<?, ? examples/s]"
      ]
     },
     "metadata": {},
     "output_type": "display_data"
    },
    {
     "data": {
      "text/plain": [
       "0.9794520547945206"
      ]
     },
     "execution_count": 127,
     "metadata": {},
     "output_type": "execute_result"
    }
   ],
   "source": [
    "corr = new_ds.filter(lambda x: x[\"target\"].translate(str.maketrans(\"\", \"\", '()\"')) == x[\"answer_pred\"])\n",
    "(corr.num_rows) / new_ds.num_rows"
   ]
  },
  {
   "cell_type": "markdown",
   "id": "9937f8fa-d824-4cb8-b481-0bd2d77a48ac",
   "metadata": {
    "jp-MarkdownHeadingCollapsed": true
   },
   "source": [
    "# reasoning_about_colored_objects"
   ]
  },
  {
   "cell_type": "code",
   "execution_count": 128,
   "id": "e55f9164-86ac-4fc2-b4c1-29533aed1d13",
   "metadata": {},
   "outputs": [],
   "source": [
    "chk_dir = here(os.path.join(par_dir, \"bbh-reasoning_about_colored_objects/bbh_eval\"))"
   ]
  },
  {
   "cell_type": "code",
   "execution_count": 129,
   "id": "8bcb5714-3da8-45b1-9466-97ed241a1d05",
   "metadata": {},
   "outputs": [],
   "source": [
    "dataset = Dataset.load_from_disk(chk_dir)"
   ]
  },
  {
   "cell_type": "code",
   "execution_count": 130,
   "id": "e54c6db2-efcb-4408-8d48-6b29c1af6526",
   "metadata": {},
   "outputs": [
    {
     "data": {
      "text/plain": [
       "{'(A) red.',\n",
       " '(A) yes.',\n",
       " '(A) zero.',\n",
       " '(A).',\n",
       " '(B) no.',\n",
       " '(C) two.',\n",
       " '(D).',\n",
       " '(F) five.',\n",
       " '(G) six.',\n",
       " '(I) mauve.',\n",
       " '(I).',\n",
       " '(J) teal.',\n",
       " '(K) ten.',\n",
       " '(L) burgundy.',\n",
       " '(M) silver.',\n",
       " '(O) black.',\n",
       " '(Q) purple.',\n",
       " '(Q).',\n",
       " '(R) pink.',\n",
       " '(R).',\n",
       " 'A.',\n",
       " 'B.',\n",
       " 'C.',\n",
       " 'D.',\n",
       " 'E.',\n",
       " 'F.',\n",
       " 'G.',\n",
       " 'H.',\n",
       " 'I.',\n",
       " 'J.',\n",
       " 'K.',\n",
       " 'L.',\n",
       " 'M.',\n",
       " 'N.',\n",
       " 'O.',\n",
       " 'P.',\n",
       " 'Q.',\n",
       " 'R.'}"
      ]
     },
     "execution_count": 130,
     "metadata": {},
     "output_type": "execute_result"
    }
   ],
   "source": [
    "set(dataset[\"answer_pred\"])"
   ]
  },
  {
   "cell_type": "code",
   "execution_count": 131,
   "id": "da9c53df-cffb-4621-9b14-dc4a737976e1",
   "metadata": {},
   "outputs": [
    {
     "data": {
      "application/vnd.jupyter.widget-view+json": {
       "model_id": "9fdf8fd1e6ff43d286a83f93f53f6c49",
       "version_major": 2,
       "version_minor": 0
      },
      "text/plain": [
       "Map:   0%|          | 0/250 [00:00<?, ? examples/s]"
      ]
     },
     "metadata": {},
     "output_type": "display_data"
    },
    {
     "data": {
      "text/plain": [
       "{'A',\n",
       " 'A red',\n",
       " 'A yes',\n",
       " 'A zero',\n",
       " 'B',\n",
       " 'B no',\n",
       " 'C',\n",
       " 'C two',\n",
       " 'D',\n",
       " 'E',\n",
       " 'F',\n",
       " 'F five',\n",
       " 'G',\n",
       " 'G six',\n",
       " 'H',\n",
       " 'I',\n",
       " 'I mauve',\n",
       " 'J',\n",
       " 'J teal',\n",
       " 'K',\n",
       " 'K ten',\n",
       " 'L',\n",
       " 'L burgundy',\n",
       " 'M',\n",
       " 'M silver',\n",
       " 'N',\n",
       " 'O',\n",
       " 'O black',\n",
       " 'P',\n",
       " 'Q',\n",
       " 'Q purple',\n",
       " 'R',\n",
       " 'R pink'}"
      ]
     },
     "execution_count": 131,
     "metadata": {},
     "output_type": "execute_result"
    }
   ],
   "source": [
    "def map_fn(instance):    \n",
    "    return {\n",
    "        \"answer_pred\": instance[\"answer_pred\"].translate(str.maketrans(\"\", \"\", '.,()\"')) if instance[\"answer_pred\"] else None\n",
    "    }\n",
    "\n",
    "new_ds = dataset.map(map_fn, load_from_cache_file=False)\n",
    "set(new_ds[\"answer_pred\"])"
   ]
  },
  {
   "cell_type": "code",
   "execution_count": 132,
   "id": "2156f24c-f985-442c-8e9d-a896918707c0",
   "metadata": {},
   "outputs": [
    {
     "data": {
      "application/vnd.jupyter.widget-view+json": {
       "model_id": "e98223bad16643d8b4d07f1be589080c",
       "version_major": 2,
       "version_minor": 0
      },
      "text/plain": [
       "Map:   0%|          | 0/250 [00:00<?, ? examples/s]"
      ]
     },
     "metadata": {},
     "output_type": "display_data"
    },
    {
     "data": {
      "text/plain": [
       "{'A',\n",
       " 'B',\n",
       " 'C',\n",
       " 'D',\n",
       " 'E',\n",
       " 'F',\n",
       " 'G',\n",
       " 'H',\n",
       " 'I',\n",
       " 'J',\n",
       " 'K',\n",
       " 'L',\n",
       " 'M',\n",
       " 'N',\n",
       " 'O',\n",
       " 'P',\n",
       " 'Q',\n",
       " 'R'}"
      ]
     },
     "execution_count": 132,
     "metadata": {},
     "output_type": "execute_result"
    }
   ],
   "source": [
    "def map_fn(ins):\n",
    "    return {\n",
    "        \"answer_pred\": ins[\"answer_pred\"].split()[0]\n",
    "    }\n",
    "\n",
    "new_ds = new_ds.map(map_fn)\n",
    "set(new_ds[\"answer_pred\"])"
   ]
  },
  {
   "cell_type": "code",
   "execution_count": 133,
   "id": "271c492c-f7b9-4bae-9276-d3782f1abdb3",
   "metadata": {},
   "outputs": [
    {
     "data": {
      "application/vnd.jupyter.widget-view+json": {
       "model_id": "4843059d441e4699bc83e3aa348f881c",
       "version_major": 2,
       "version_minor": 0
      },
      "text/plain": [
       "Saving the dataset (0/1 shards):   0%|          | 0/250 [00:00<?, ? examples/s]"
      ]
     },
     "metadata": {},
     "output_type": "display_data"
    }
   ],
   "source": [
    "start_string, end_string = \"non_self_synthesis/bbh/\", \"/bbh_eval\"\n",
    "cat = str(chk_dir)[str(chk_dir).find(start_string) + len(start_string) + 4:str(chk_dir).find(end_string)]\n",
    "new_ds.save_to_disk(os.path.join(save_par_dir, cat))"
   ]
  },
  {
   "cell_type": "code",
   "execution_count": 134,
   "id": "a8ff6956-b339-41b4-becc-2d7f5ee8a57e",
   "metadata": {},
   "outputs": [
    {
     "data": {
      "application/vnd.jupyter.widget-view+json": {
       "model_id": "9d9161acf9f74ab48e550ae9b132b641",
       "version_major": 2,
       "version_minor": 0
      },
      "text/plain": [
       "Filter:   0%|          | 0/250 [00:00<?, ? examples/s]"
      ]
     },
     "metadata": {},
     "output_type": "display_data"
    },
    {
     "data": {
      "text/plain": [
       "0.972"
      ]
     },
     "execution_count": 134,
     "metadata": {},
     "output_type": "execute_result"
    }
   ],
   "source": [
    "corr = new_ds.filter(lambda x: x[\"target\"].translate(str.maketrans(\"\", \"\", '()\"')) == x[\"answer_pred\"])\n",
    "corr.num_rows / new_ds.num_rows"
   ]
  },
  {
   "cell_type": "markdown",
   "id": "ed6fcc74-c395-43c6-8c09-940bff3b1131",
   "metadata": {
    "jp-MarkdownHeadingCollapsed": true
   },
   "source": [
    "# ruin_names"
   ]
  },
  {
   "cell_type": "code",
   "execution_count": 135,
   "id": "7b52871f-2a9d-4268-89da-6deb12298804",
   "metadata": {},
   "outputs": [],
   "source": [
    "chk_dir = here(os.path.join(par_dir, \"bbh-ruin_names/bbh_eval\"))"
   ]
  },
  {
   "cell_type": "code",
   "execution_count": 136,
   "id": "b72f42b2-e3d4-404d-a45b-21ab4bab322e",
   "metadata": {},
   "outputs": [],
   "source": [
    "dataset = Dataset.load_from_disk(chk_dir)"
   ]
  },
  {
   "cell_type": "code",
   "execution_count": 137,
   "id": "8246fc05-e88f-45b4-981b-b43b96439c26",
   "metadata": {},
   "outputs": [
    {
     "data": {
      "text/plain": [
       "{'(A) the colt and (C) the cut.', '(A).', 'A.', 'B.', 'C.', 'D.', 'E.'}"
      ]
     },
     "execution_count": 137,
     "metadata": {},
     "output_type": "execute_result"
    }
   ],
   "source": [
    "set(dataset[\"answer_pred\"])"
   ]
  },
  {
   "cell_type": "code",
   "execution_count": 138,
   "id": "041d6c47-64f4-4557-90c1-e4643ed58fc1",
   "metadata": {},
   "outputs": [
    {
     "data": {
      "application/vnd.jupyter.widget-view+json": {
       "model_id": "fb171272652643e89bb2c683e70d5bb3",
       "version_major": 2,
       "version_minor": 0
      },
      "text/plain": [
       "Map:   0%|          | 0/250 [00:00<?, ? examples/s]"
      ]
     },
     "metadata": {},
     "output_type": "display_data"
    },
    {
     "data": {
      "text/plain": [
       "{'A', 'A the colt and C the cut', 'B', 'C', 'D', 'E'}"
      ]
     },
     "execution_count": 138,
     "metadata": {},
     "output_type": "execute_result"
    }
   ],
   "source": [
    "def map_fn(instance):    \n",
    "    return {\n",
    "        \"answer_pred\": instance[\"answer_pred\"].translate(str.maketrans(\"\", \"\", '.,()\"')) if instance[\"answer_pred\"] else None\n",
    "    }\n",
    "\n",
    "new_ds = dataset.map(map_fn, load_from_cache_file=False)\n",
    "set(new_ds[\"answer_pred\"])"
   ]
  },
  {
   "cell_type": "code",
   "execution_count": 139,
   "id": "99dd79a6-22cb-4fe2-bb18-c7a68bb35898",
   "metadata": {},
   "outputs": [
    {
     "data": {
      "application/vnd.jupyter.widget-view+json": {
       "model_id": "e31a306935dc4d77a90ba80556dfd8a0",
       "version_major": 2,
       "version_minor": 0
      },
      "text/plain": [
       "Saving the dataset (0/1 shards):   0%|          | 0/250 [00:00<?, ? examples/s]"
      ]
     },
     "metadata": {},
     "output_type": "display_data"
    }
   ],
   "source": [
    "start_string, end_string = \"non_self_synthesis/bbh/\", \"/bbh_eval\"\n",
    "cat = str(chk_dir)[str(chk_dir).find(start_string) + len(start_string) + 4:str(chk_dir).find(end_string)]\n",
    "new_ds.save_to_disk(os.path.join(save_par_dir, cat))"
   ]
  },
  {
   "cell_type": "code",
   "execution_count": 140,
   "id": "fd27c209-a594-4843-b808-2260c0c4a13a",
   "metadata": {},
   "outputs": [
    {
     "data": {
      "application/vnd.jupyter.widget-view+json": {
       "model_id": "bfc45efb3f7c4d9793826b315431c543",
       "version_major": 2,
       "version_minor": 0
      },
      "text/plain": [
       "Filter:   0%|          | 0/250 [00:00<?, ? examples/s]"
      ]
     },
     "metadata": {},
     "output_type": "display_data"
    },
    {
     "data": {
      "text/plain": [
       "0.74"
      ]
     },
     "execution_count": 140,
     "metadata": {},
     "output_type": "execute_result"
    }
   ],
   "source": [
    "corr = new_ds.filter(lambda x: x[\"target\"].translate(str.maketrans(\"\", \"\", '()\"')) == x[\"answer_pred\"])\n",
    "corr.num_rows / new_ds.num_rows"
   ]
  },
  {
   "cell_type": "markdown",
   "id": "f92b0fbd-276d-4f2d-a882-eb30f1142b0b",
   "metadata": {
    "jp-MarkdownHeadingCollapsed": true
   },
   "source": [
    "# salient_translation_error_detection"
   ]
  },
  {
   "cell_type": "code",
   "execution_count": 141,
   "id": "06cb1a67-554a-4685-a866-c2e0c126887a",
   "metadata": {},
   "outputs": [],
   "source": [
    "chk_dir = here(os.path.join(par_dir, \"bbh-salient_translation_error_detection/bbh_eval\"))"
   ]
  },
  {
   "cell_type": "code",
   "execution_count": 142,
   "id": "9e7bbce3-9d87-4002-9c7c-7aecf05d4911",
   "metadata": {},
   "outputs": [],
   "source": [
    "dataset = Dataset.load_from_disk(chk_dir)"
   ]
  },
  {
   "cell_type": "code",
   "execution_count": 143,
   "id": "ee1fc40e-bb0d-4b64-ae70-2b38836f9dba",
   "metadata": {},
   "outputs": [
    {
     "data": {
      "text/plain": [
       "{'(A) Modifiers or Adjectives.',\n",
       " '(B) Numerical Values.',\n",
       " '(C) Negation or Antonyms.',\n",
       " '(D) Named Entities.',\n",
       " '(E) Dropped Content.',\n",
       " '(F) Facts.',\n",
       " 'A.',\n",
       " 'B.',\n",
       " 'C.',\n",
       " 'D.',\n",
       " 'E.',\n",
       " 'F.'}"
      ]
     },
     "execution_count": 143,
     "metadata": {},
     "output_type": "execute_result"
    }
   ],
   "source": [
    "set(dataset[\"answer_pred\"])"
   ]
  },
  {
   "cell_type": "code",
   "execution_count": 144,
   "id": "4d27472c-77b5-4af4-b635-e8069aed21e6",
   "metadata": {},
   "outputs": [
    {
     "data": {
      "application/vnd.jupyter.widget-view+json": {
       "model_id": "77db0a5d047c47e58104147321eba587",
       "version_major": 2,
       "version_minor": 0
      },
      "text/plain": [
       "Map:   0%|          | 0/250 [00:00<?, ? examples/s]"
      ]
     },
     "metadata": {},
     "output_type": "display_data"
    },
    {
     "data": {
      "text/plain": [
       "{'A',\n",
       " 'A Modifiers or Adjectives',\n",
       " 'B',\n",
       " 'B Numerical Values',\n",
       " 'C',\n",
       " 'C Negation or Antonyms',\n",
       " 'D',\n",
       " 'D Named Entities',\n",
       " 'E',\n",
       " 'E Dropped Content',\n",
       " 'F',\n",
       " 'F Facts'}"
      ]
     },
     "execution_count": 144,
     "metadata": {},
     "output_type": "execute_result"
    }
   ],
   "source": [
    "def map_fn(instance):    \n",
    "    return {\n",
    "        \"answer_pred\": instance[\"answer_pred\"].translate(str.maketrans(\"\", \"\", '.,()\"')) if instance[\"answer_pred\"] else None\n",
    "    }\n",
    "\n",
    "new_ds = dataset.map(map_fn, load_from_cache_file=False)\n",
    "set(new_ds[\"answer_pred\"])"
   ]
  },
  {
   "cell_type": "code",
   "execution_count": 147,
   "id": "bf83d97e-2542-437e-9284-453ebc524f5f",
   "metadata": {},
   "outputs": [
    {
     "data": {
      "application/vnd.jupyter.widget-view+json": {
       "model_id": "c835e82515264b538da76adc5a926219",
       "version_major": 2,
       "version_minor": 0
      },
      "text/plain": [
       "Map:   0%|          | 0/250 [00:00<?, ? examples/s]"
      ]
     },
     "metadata": {},
     "output_type": "display_data"
    },
    {
     "data": {
      "text/plain": [
       "{'A', 'B', 'C', 'D', 'E', 'F'}"
      ]
     },
     "execution_count": 147,
     "metadata": {},
     "output_type": "execute_result"
    }
   ],
   "source": [
    "def map_fn(ins):\n",
    "    return {\n",
    "        \"answer_pred\": ins[\"answer_pred\"].split()[0]\n",
    "    }\n",
    "\n",
    "new_ds = new_ds.map(map_fn)\n",
    "set(new_ds[\"answer_pred\"])"
   ]
  },
  {
   "cell_type": "code",
   "execution_count": 148,
   "id": "a2419533-e4d8-45d8-a45f-0dd5a808a1cb",
   "metadata": {},
   "outputs": [
    {
     "data": {
      "application/vnd.jupyter.widget-view+json": {
       "model_id": "04613667cfc54d609cf101bfce2ad853",
       "version_major": 2,
       "version_minor": 0
      },
      "text/plain": [
       "Saving the dataset (0/1 shards):   0%|          | 0/250 [00:00<?, ? examples/s]"
      ]
     },
     "metadata": {},
     "output_type": "display_data"
    }
   ],
   "source": [
    "start_string, end_string = \"non_self_synthesis/bbh/\", \"/bbh_eval\"\n",
    "cat = str(chk_dir)[str(chk_dir).find(start_string) + len(start_string) + 4:str(chk_dir).find(end_string)]\n",
    "new_ds.save_to_disk(os.path.join(save_par_dir, cat))"
   ]
  },
  {
   "cell_type": "code",
   "execution_count": 149,
   "id": "4179c10d-55de-4de7-8eea-612bafe56c7f",
   "metadata": {},
   "outputs": [
    {
     "data": {
      "application/vnd.jupyter.widget-view+json": {
       "model_id": "e2c77a6dc9c44186bf44f8d161e0e499",
       "version_major": 2,
       "version_minor": 0
      },
      "text/plain": [
       "Filter:   0%|          | 0/250 [00:00<?, ? examples/s]"
      ]
     },
     "metadata": {},
     "output_type": "display_data"
    },
    {
     "data": {
      "text/plain": [
       "0.68"
      ]
     },
     "execution_count": 149,
     "metadata": {},
     "output_type": "execute_result"
    }
   ],
   "source": [
    "corr = new_ds.filter(lambda x: x[\"target\"].translate(str.maketrans(\"\", \"\", '()\"')) == x[\"answer_pred\"])\n",
    "corr.num_rows / new_ds.num_rows"
   ]
  },
  {
   "cell_type": "markdown",
   "id": "00e7b8bc-37b7-4972-847f-347f35e9f190",
   "metadata": {
    "jp-MarkdownHeadingCollapsed": true
   },
   "source": [
    "# snarks"
   ]
  },
  {
   "cell_type": "code",
   "execution_count": 179,
   "id": "7e79285b-b88d-4f08-990c-dbf61c3164e0",
   "metadata": {},
   "outputs": [],
   "source": [
    "chk_dir = here(os.path.join(par_dir, \"bbh-snarks/bbh_eval\"))"
   ]
  },
  {
   "cell_type": "code",
   "execution_count": 180,
   "id": "de7ee14d-2fc2-4519-8d52-8df6bffc24e0",
   "metadata": {},
   "outputs": [],
   "source": [
    "dataset = Dataset.load_from_disk(chk_dir)"
   ]
  },
  {
   "cell_type": "code",
   "execution_count": 181,
   "id": "a6c58192-0d74-46a3-86ce-2b6c48b722a9",
   "metadata": {},
   "outputs": [
    {
     "data": {
      "text/plain": [
       "{'A or B.', 'A.', 'B**.', 'B.', 'B.**', 'both (A) and (B).', 'not sarcastic.'}"
      ]
     },
     "execution_count": 181,
     "metadata": {},
     "output_type": "execute_result"
    }
   ],
   "source": [
    "set(dataset[\"answer_pred\"])"
   ]
  },
  {
   "cell_type": "code",
   "execution_count": 182,
   "id": "2cbe36ea-9aab-4edd-ae6a-6da8ff8e2e85",
   "metadata": {},
   "outputs": [
    {
     "data": {
      "application/vnd.jupyter.widget-view+json": {
       "model_id": "458853ae7b3b4a4bbf370e5f227f2be8",
       "version_major": 2,
       "version_minor": 0
      },
      "text/plain": [
       "Map:   0%|          | 0/178 [00:00<?, ? examples/s]"
      ]
     },
     "metadata": {},
     "output_type": "display_data"
    },
    {
     "data": {
      "text/plain": [
       "{'A', 'A or B', 'B', 'both A and B', 'not sarcastic'}"
      ]
     },
     "execution_count": 182,
     "metadata": {},
     "output_type": "execute_result"
    }
   ],
   "source": [
    "def map_fn(instance):    \n",
    "    return {\n",
    "        \"answer_pred\": instance[\"answer_pred\"].translate(str.maketrans(\"\", \"\", '.,()*\"')) if instance[\"answer_pred\"] else None\n",
    "    }\n",
    "\n",
    "new_ds = dataset.map(map_fn, load_from_cache_file=False)\n",
    "set(new_ds[\"answer_pred\"])"
   ]
  },
  {
   "cell_type": "code",
   "execution_count": 174,
   "id": "512b3b51-6754-418f-985a-d3b3d16532d3",
   "metadata": {},
   "outputs": [
    {
     "data": {
      "application/vnd.jupyter.widget-view+json": {
       "model_id": "b558a1a9836f4979b04f3c582cbe911e",
       "version_major": 2,
       "version_minor": 0
      },
      "text/plain": [
       "Map:   0%|          | 0/178 [00:00<?, ? examples/s]"
      ]
     },
     "metadata": {},
     "output_type": "display_data"
    },
    {
     "data": {
      "text/plain": [
       "{'A',\n",
       " 'B',\n",
       " 'Both statements are sarcastic',\n",
       " 'Neither statement is sarcastic',\n",
       " 'both statements A and B are sarcastic**',\n",
       " 'that the statement A The NB cannot be determined as sarcastic due to insufficient context'}"
      ]
     },
     "execution_count": 174,
     "metadata": {},
     "output_type": "execute_result"
    }
   ],
   "source": [
    "def map_fn(ins):\n",
    "    if \"B Statement B is sarcastic\" in ins[\"answer_pred\"]:\n",
    "        return {\n",
    "            \"answer_pred\": \"B\"\n",
    "        }\n",
    "\n",
    "    return {\n",
    "        \"answer_pred\": ins[\"answer_pred\"]\n",
    "    }\n",
    "\n",
    "new_ds = new_ds.map(map_fn)\n",
    "set(new_ds[\"answer_pred\"])"
   ]
  },
  {
   "cell_type": "code",
   "execution_count": 186,
   "id": "51556398-9585-411d-b926-08d25946ca92",
   "metadata": {},
   "outputs": [
    {
     "data": {
      "application/vnd.jupyter.widget-view+json": {
       "model_id": "6f793ff9a9c54a3cbb7ee751cd974b5a",
       "version_major": 2,
       "version_minor": 0
      },
      "text/plain": [
       "Saving the dataset (0/1 shards):   0%|          | 0/178 [00:00<?, ? examples/s]"
      ]
     },
     "metadata": {},
     "output_type": "display_data"
    }
   ],
   "source": [
    "start_string, end_string = \"non_self_synthesis/bbh/\", \"/bbh_eval\"\n",
    "cat = str(chk_dir)[str(chk_dir).find(start_string) + len(start_string) + 4:str(chk_dir).find(end_string)]\n",
    "new_ds.save_to_disk(os.path.join(save_par_dir, cat))"
   ]
  },
  {
   "cell_type": "code",
   "execution_count": 187,
   "id": "04356af0-adc6-4ba8-8540-21ea6915fc59",
   "metadata": {},
   "outputs": [
    {
     "data": {
      "application/vnd.jupyter.widget-view+json": {
       "model_id": "1f182e02c45344a3a5bda762d30da67c",
       "version_major": 2,
       "version_minor": 0
      },
      "text/plain": [
       "Filter:   0%|          | 0/178 [00:00<?, ? examples/s]"
      ]
     },
     "metadata": {},
     "output_type": "display_data"
    },
    {
     "data": {
      "text/plain": [
       "0.8707865168539326"
      ]
     },
     "execution_count": 187,
     "metadata": {},
     "output_type": "execute_result"
    }
   ],
   "source": [
    "corr = new_ds.filter(lambda x: x[\"target\"].translate(str.maketrans(\"\", \"\", '()\"')) == x[\"answer_pred\"])\n",
    "corr.num_rows / new_ds.num_rows"
   ]
  },
  {
   "cell_type": "markdown",
   "id": "51614624-d1a7-43db-9c5e-a19c642352f1",
   "metadata": {
    "jp-MarkdownHeadingCollapsed": true
   },
   "source": [
    "# sports_understanding"
   ]
  },
  {
   "cell_type": "code",
   "execution_count": 188,
   "id": "1f313ffb-c077-44da-a40f-ca27cb34e601",
   "metadata": {},
   "outputs": [],
   "source": [
    "chk_dir = here(os.path.join(par_dir, \"bbh-sports_understanding/bbh_eval\"))"
   ]
  },
  {
   "cell_type": "code",
   "execution_count": 189,
   "id": "28e42721-9008-4899-b361-64cc358c31bc",
   "metadata": {},
   "outputs": [],
   "source": [
    "dataset = Dataset.load_from_disk(chk_dir)"
   ]
  },
  {
   "cell_type": "code",
   "execution_count": 190,
   "id": "45a4e18d-fed5-4fa1-b1ec-1a43f18d4ebb",
   "metadata": {},
   "outputs": [
    {
     "data": {
      "text/plain": [
       "{'False.',\n",
       " 'Implausible.',\n",
       " None,\n",
       " 'True.',\n",
       " 'implausible.',\n",
       " 'not True or False. A: False',\n",
       " 'not plausible.'}"
      ]
     },
     "execution_count": 190,
     "metadata": {},
     "output_type": "execute_result"
    }
   ],
   "source": [
    "set(dataset[\"answer_pred\"])"
   ]
  },
  {
   "cell_type": "code",
   "execution_count": 192,
   "id": "826c199b-a24d-44ad-98d5-bf17791dc5a0",
   "metadata": {},
   "outputs": [
    {
     "data": {
      "application/vnd.jupyter.widget-view+json": {
       "model_id": "b00d10bb33cb418f845e943c6e7e0543",
       "version_major": 2,
       "version_minor": 0
      },
      "text/plain": [
       "Map:   0%|          | 0/250 [00:00<?, ? examples/s]"
      ]
     },
     "metadata": {},
     "output_type": "display_data"
    },
    {
     "data": {
      "text/plain": [
       "{'False',\n",
       " 'Implausible',\n",
       " None,\n",
       " 'True',\n",
       " 'implausible',\n",
       " 'not True or False A False',\n",
       " 'not plausible'}"
      ]
     },
     "execution_count": 192,
     "metadata": {},
     "output_type": "execute_result"
    }
   ],
   "source": [
    "def map_fn(instance):    \n",
    "    return {\n",
    "        \"answer_pred\": instance[\"answer_pred\"].translate(str.maketrans(\"\", \"\", '.,:()\"')) if instance[\"answer_pred\"] else None\n",
    "    }\n",
    "\n",
    "new_ds = dataset.map(map_fn, load_from_cache_file=False)\n",
    "set(new_ds[\"answer_pred\"])"
   ]
  },
  {
   "cell_type": "code",
   "execution_count": 181,
   "id": "ab35bf9f-2679-4a63-a2f7-22aed24db11c",
   "metadata": {},
   "outputs": [
    {
     "data": {
      "text/plain": [
       "{'False',\n",
       " 'No',\n",
       " None,\n",
       " 'Plausible',\n",
       " 'The sentence is not plausible',\n",
       " 'The sentence is plausible',\n",
       " \"The sentence is plausible if interpreted as Nerlens Noel being outside his house but within his home's premises\",\n",
       " 'True',\n",
       " 'Yes',\n",
       " '[answer]',\n",
       " 'not plausible',\n",
       " 'that the sentence Marouane Fellaini scored in extra time is plausible based on the structured analysis and available data',\n",
       " \"that the sentence is plausible with a correction: 'Michael Conforto committed a three second violation'\"}"
      ]
     },
     "execution_count": 181,
     "metadata": {},
     "output_type": "execute_result"
    }
   ],
   "source": [
    "none_ds = "
   ]
  },
  {
   "cell_type": "code",
   "execution_count": 193,
   "id": "22a4f79a-d5c2-4e93-9a88-93e18d4be135",
   "metadata": {},
   "outputs": [
    {
     "data": {
      "application/vnd.jupyter.widget-view+json": {
       "model_id": "7cd9f027c5964418aa8be26aa80b6661",
       "version_major": 2,
       "version_minor": 0
      },
      "text/plain": [
       "Filter:   0%|          | 0/250 [00:00<?, ? examples/s]"
      ]
     },
     "metadata": {},
     "output_type": "display_data"
    },
    {
     "data": {
      "text/plain": [
       "Dataset({\n",
       "    features: ['input', 'target', 'reasoning_formats', 'selected_modules', 'adapted_modules', 'reasoning_plan', 'reasoning', 'trajectory', 'answer_pred'],\n",
       "    num_rows: 26\n",
       "})"
      ]
     },
     "execution_count": 193,
     "metadata": {},
     "output_type": "execute_result"
    }
   ],
   "source": [
    "none_ds = new_ds.filter(lambda x: x[\"answer_pred\"] == None)\n",
    "none_ds"
   ]
  },
  {
   "cell_type": "code",
   "execution_count": 196,
   "id": "2a11938d-0331-4be4-bcac-1213c80c1c6d",
   "metadata": {},
   "outputs": [
    {
     "name": "stdout",
     "output_type": "stream",
     "text": [
      "To determine the plausibility of the statement \"Mikal Bridges scored a windmill dunk,\" we will follow the reasoning plan step-by-step:\n",
      "\n",
      "1. **Identify Key Assumptions**\n",
      "   - Mikal Bridges has the physical capabilities to perform a windmill dunk.\n",
      "   - Mikal Bridges' playing style includes high-flying dunks.\n",
      "   - There is evidence of Mikal Bridges performing similar dunks in the past.\n",
      "\n",
      "2. **Gather Relevant Data**\n",
      "   - Mikal Bridges is known for his athleticism and defensive prowess.\n",
      "   - He has a vertical leap that is above average for NBA players.\n",
      "   - Highlight reels show Mikal Bridges performing various types of dunks, including some that require significant athleticism.\n",
      "\n",
      "3. **Analyze Data**\n",
      "   - Mikal Bridges' physical attributes and athleticism suggest he has the capability to perform a windmill dunk.\n",
      "   - His playing style includes a variety of dunks, indicating he is comfortable with high-flying maneuvers.\n",
      "\n",
      "4. **Evaluate from Different Perspectives**\n",
      "   - Physical capabilities: Mikal Bridges has the necessary strength, agility, and vertical leap to perform a windmill dunk.\n",
      "   - Playing style: Performing a windmill dunk is consistent with his known playing style, which includes athletic dunks.\n",
      "   - Historical performance: While specific evidence of a windmill dunk may not be readily available, his history of performing other athletic dunks supports the plausibility.\n",
      "\n",
      "5. **Question Assumptions**\n",
      "   - The assumptions about his physical capabilities and playing style are supported by available data.\n",
      "   - There is no evidence to contradict these assumptions.\n",
      "\n",
      "6. **Consult Expertise**\n",
      "   - Experts in basketball and athletics would likely agree that Mikal Bridges has the physical attributes and playing style to perform a windmill dunk.\n",
      "\n",
      "7. **Behavioral Analysis**\n",
      "   - Mikal Bridges' behavior on the court, including his athletic dunks, aligns with the capability to perform a windmill dunk.\n",
      "\n",
      "8. **Document Findings**\n",
      "   - Data sources: NBA statistics, highlight reels, expert analysis.\n",
      "   - Analysis: Mikal Bridges has the physical capabilities and playing style to perform a windmill dunk.\n",
      "   - Conclusions: The statement is plausible based on the available evidence.\n",
      "\n",
      "9. **Synthesize Information**\n",
      "   - Combining the findings from all steps, it is clear that Mikal Bridges has the necessary attributes to perform a windmill dunk.\n",
      "\n",
      "10. **Final Assessment**\n",
      "    - Based on the synthesized information, the statement \"Mikal Bridges scored a windmill dunk\" is plausible.\n",
      "\n",
      "The final answer is: The statement is plausible.\n"
     ]
    }
   ],
   "source": [
    "index = 0\n",
    "print(none_ds[0][\"trajectory\"])"
   ]
  },
  {
   "cell_type": "code",
   "execution_count": 194,
   "id": "0298976d-ec6f-4c4b-93d1-64a0f8c9167c",
   "metadata": {},
   "outputs": [
    {
     "data": {
      "application/vnd.jupyter.widget-view+json": {
       "model_id": "4c659f751eba4bc5a450291a3777f068",
       "version_major": 2,
       "version_minor": 0
      },
      "text/plain": [
       "Map:   0%|          | 0/250 [00:00<?, ? examples/s]"
      ]
     },
     "metadata": {},
     "output_type": "display_data"
    },
    {
     "data": {
      "text/plain": [
       "{'False',\n",
       " 'Implausible',\n",
       " 'Plausible.',\n",
       " 'The plausibility of the sentence \"Juan Soto did a double stepover\" is uncertain without further evidence.',\n",
       " 'The plausibility of the sentence cannot be determined with the information provided.',\n",
       " 'The plausibility of the statement \"Deshaun Watson was flagged on the play\" is uncertain without specific data.',\n",
       " 'The plausibility of the statement \"Jonas Valanciunas beat the buzzer\" depends on the analysis of relevant data and critical thinking as outlined above.',\n",
       " 'The sentence \"Dani Alves took the snap\" is not plausible in a sports context.',\n",
       " 'The sentence \"Kendrick Nunn took a charge\" is plausible.',\n",
       " 'The sentence \"Kyle Tucker took a left footed shot\" is plausible, assuming Kyle Tucker is a soccer player and considering the general possibility of players using their non-dominant foot.',\n",
       " 'The sentence \"Toni Kroos performed a give and go\" is plausible.',\n",
       " 'The sentence is not plausible.',\n",
       " 'The sentence is plausible but not definitively true without additional context or information.',\n",
       " 'The sentence is plausible if Brandon Lowe is a soccer player, but not if he is a baseball player.',\n",
       " 'The sentence is plausible if Elias Lindholm is a hockey player and the context is a hockey game.',\n",
       " 'The sentence is plausible in a sports context.',\n",
       " 'The sentence is plausible.',\n",
       " 'The statement \"Luis Robert was out at second\" is plausible.',\n",
       " 'The statement is plausible if supported by relevant evidence.',\n",
       " 'The statement is plausible.',\n",
       " 'True',\n",
       " 'implausible',\n",
       " 'not True or False A False',\n",
       " 'not plausible'}"
      ]
     },
     "execution_count": 194,
     "metadata": {},
     "output_type": "execute_result"
    }
   ],
   "source": [
    "import re\n",
    "def map_fn(instance):\n",
    "    if instance[\"answer_pred\"] == None:\n",
    "        text = \"The final answer is:\"\n",
    "        pattern = fr\"(?<={text}).*\"\n",
    "    \n",
    "        response = instance[\"trajectory\"]\n",
    "    \n",
    "        try:\n",
    "            answer, trajectory = re.search(pattern, response).group(0).strip(), re.sub(pattern, \"\", response).replace(text, \"\").strip()\n",
    "        except:\n",
    "            answer, trajectory = None, response\n",
    "    \n",
    "        return {\n",
    "            \"trajectory\": trajectory,\n",
    "            \"answer_pred\": answer\n",
    "        }\n",
    "\n",
    "    return {\n",
    "        \"trajectory\": instance[\"trajectory\"],\n",
    "        \"answer_pred\": instance[\"answer_pred\"]\n",
    "    }\n",
    "\n",
    "new_ds = new_ds.map(map_fn)\n",
    "set(new_ds[\"answer_pred\"])"
   ]
  },
  {
   "cell_type": "code",
   "execution_count": 195,
   "id": "76e459d0-914c-4a26-8145-2ada6c4147b4",
   "metadata": {},
   "outputs": [
    {
     "data": {
      "application/vnd.jupyter.widget-view+json": {
       "model_id": "905d4d1e04d344248addb4259b9fad6d",
       "version_major": 2,
       "version_minor": 0
      },
      "text/plain": [
       "Filter:   0%|          | 0/250 [00:00<?, ? examples/s]"
      ]
     },
     "metadata": {},
     "output_type": "display_data"
    },
    {
     "data": {
      "text/plain": [
       "Dataset({\n",
       "    features: ['input', 'target', 'reasoning_formats', 'selected_modules', 'adapted_modules', 'reasoning_plan', 'reasoning', 'trajectory', 'answer_pred'],\n",
       "    num_rows: 0\n",
       "})"
      ]
     },
     "execution_count": 195,
     "metadata": {},
     "output_type": "execute_result"
    }
   ],
   "source": [
    "new_ds.filter(lambda x: x[\"answer_pred\"] == None)"
   ]
  },
  {
   "cell_type": "code",
   "execution_count": 197,
   "id": "9e104726-530e-4dd3-9515-b317ba5147bf",
   "metadata": {},
   "outputs": [
    {
     "data": {
      "application/vnd.jupyter.widget-view+json": {
       "model_id": "604d9c35d92b449da1fa2a37b39fa280",
       "version_major": 2,
       "version_minor": 0
      },
      "text/plain": [
       "Map:   0%|          | 0/250 [00:00<?, ? examples/s]"
      ]
     },
     "metadata": {},
     "output_type": "display_data"
    },
    {
     "data": {
      "text/plain": [
       "{'False',\n",
       " 'Implausible',\n",
       " 'Plausible',\n",
       " 'The plausibility of the sentence Juan Soto did a double stepover is uncertain without further evidence',\n",
       " 'The plausibility of the sentence cannot be determined with the information provided',\n",
       " 'The plausibility of the statement Deshaun Watson was flagged on the play is uncertain without specific data',\n",
       " 'The plausibility of the statement Jonas Valanciunas beat the buzzer depends on the analysis of relevant data and critical thinking as outlined above',\n",
       " 'The sentence Dani Alves took the snap is not plausible in a sports context',\n",
       " 'The sentence Kendrick Nunn took a charge is plausible',\n",
       " 'The sentence Kyle Tucker took a left footed shot is plausible assuming Kyle Tucker is a soccer player and considering the general possibility of players using their non-dominant foot',\n",
       " 'The sentence Toni Kroos performed a give and go is plausible',\n",
       " 'The sentence is not plausible',\n",
       " 'The sentence is plausible',\n",
       " 'The sentence is plausible but not definitively true without additional context or information',\n",
       " 'The sentence is plausible if Brandon Lowe is a soccer player but not if he is a baseball player',\n",
       " 'The sentence is plausible if Elias Lindholm is a hockey player and the context is a hockey game',\n",
       " 'The sentence is plausible in a sports context',\n",
       " 'The statement Luis Robert was out at second is plausible',\n",
       " 'The statement is plausible',\n",
       " 'The statement is plausible if supported by relevant evidence',\n",
       " 'True',\n",
       " 'implausible',\n",
       " 'not True or False A False',\n",
       " 'not plausible'}"
      ]
     },
     "execution_count": 197,
     "metadata": {},
     "output_type": "execute_result"
    }
   ],
   "source": [
    "def map_fn(instance):    \n",
    "    return {\n",
    "        \"answer_pred\": instance[\"answer_pred\"].translate(str.maketrans(\"\", \"\", '.,()\"')) if instance[\"answer_pred\"] else None\n",
    "    }\n",
    "\n",
    "new_ds = new_ds.map(map_fn, load_from_cache_file=False)\n",
    "set(new_ds[\"answer_pred\"])"
   ]
  },
  {
   "cell_type": "code",
   "execution_count": 187,
   "id": "5cd997da-3f95-4a81-b1e9-196cb3dfd783",
   "metadata": {},
   "outputs": [
    {
     "data": {
      "text/plain": [
       "{'False',\n",
       " 'No',\n",
       " 'Plausible',\n",
       " 'The plausibility of the sentence James Karinchak crossed the blue line remains uncertain without specific context or evidence',\n",
       " 'The plausibility of the sentence is uncertain without concrete data',\n",
       " 'The plausibility of the statement Malcolm Brogdon drove into the restricted area in the Eastern Conference Finals can be determined by following the outlined steps to verify the relevant data and context',\n",
       " \"The sentence 'Patrice Bergeron took a backhand shot' is plausible\",\n",
       " 'The sentence Allen Robinson gained five yards is plausible',\n",
       " 'The sentence Andres Iniesta performed a give and go is plausible',\n",
       " 'The sentence Angel Di Maria scored in extra time is plausible if verified by match records',\n",
       " 'The sentence Anthony Davis beat the buzzer is plausible',\n",
       " \"The sentence Bastian Schweinsteiger scored in added time is plausible based on the historical context of his career the definition of 'added time' in soccer and the likelihood of him scoring in such situations as evidenced by match records player statistics and official reports\",\n",
       " 'The sentence Blake Snell hit a single is plausible in the context of a National League game where pitchers are required to bat',\n",
       " 'The sentence Bryce Harper fumbled the ball is not plausible',\n",
       " 'The sentence Carlos Tevez skated backwards is implausible',\n",
       " 'The sentence Clint Capela got into the endzone is not plausible',\n",
       " 'The sentence Corbin Burnes earned an indirect kick is not plausible',\n",
       " 'The sentence David Silva took a throw in is plausible',\n",
       " 'The sentence Dejounte Murray took a side-step three is plausible',\n",
       " 'The sentence Deshaun Watson was flagged on the play is plausible if supported by official game reports and expert commentary',\n",
       " 'The sentence Didier Drogba got into the endzone is not plausible without additional context',\n",
       " 'The sentence Drew Brees was flagged on the play is plausible',\n",
       " 'The sentence Edinson Cavani caught the screen pass is not plausible without additional context as it mixes terminology from different sports',\n",
       " 'The sentence Elias Lindholm beat the buzzer is plausible',\n",
       " 'The sentence Elias Lindholm took the snap is not plausible',\n",
       " 'The sentence Fernando Tatis Jr earned a red card is not plausible',\n",
       " 'The sentence Fred VanVleet passed the puck is not plausible',\n",
       " 'The sentence Gerard Pique scored a corner kick is not plausible',\n",
       " 'The sentence Gerrit Cole set the hard screen is not plausible',\n",
       " 'The sentence Gleyber Torres got a base hit is plausible',\n",
       " 'The sentence Jakub Vrana hit a walkoff homer is not plausible',\n",
       " 'The sentence Jakub Vrana skated backwards is plausible',\n",
       " 'The sentence James Karinchak worked a full count is plausible',\n",
       " 'The sentence Javier Mascherano took a left footed shot is plausible',\n",
       " 'The sentence John Carlson scored in the third period is plausible if the key assumptions are validated through the analysis of relevant data sources and expertise',\n",
       " 'The sentence Jonas Valanciunas beat the buzzer is plausible',\n",
       " 'The sentence Josh Allen caught the screen pass is plausible',\n",
       " 'The sentence Josh Allen hit the screen pass is plausible',\n",
       " 'The sentence Juan Soto did a double stepover is not plausible',\n",
       " 'The sentence Julian Edelman fumbled the ball is plausible',\n",
       " 'The sentence Kawhi Leonard took a turnaround jumper is plausible',\n",
       " 'The sentence Kyle Tucker stepped on first base is plausible',\n",
       " 'The sentence LaMelo Ball launched the half court shot in the Western Conference Finals is plausible if supported by the gathered data and analysis',\n",
       " 'The sentence Luis Robert was out at second is plausible',\n",
       " 'The sentence Luke Voit was out at first is plausible',\n",
       " 'The sentence Malcolm Brogdon banked the shot in is plausible',\n",
       " 'The sentence Marcell Ozuna hit into a double play is plausible',\n",
       " 'The sentence Mario Gomez scored a reverse layup is implausible',\n",
       " 'The sentence Mark Stone spent time in the penalty box in the Stanley Cup is plausible if the gathered data and analysis confirm that Mark Stone has indeed been in the penalty box during a Stanley Cup game',\n",
       " 'The sentence Marvin Jones lost control of the puck is plausible',\n",
       " 'The sentence Max Scherzer was safe at first is plausible',\n",
       " 'The sentence Michael Thomas took the snap is not plausible',\n",
       " 'The sentence Mikal Bridges scored a windmill dunk is plausible',\n",
       " 'The sentence Mike Trout hit a walkoff homer is plausible',\n",
       " 'The sentence Mike Williams fumbled the ball in the Superbowl is not plausible',\n",
       " 'The sentence Mitchell Marner nutmegged the defender is plausible',\n",
       " 'The sentence Mitchell Robinson airballed the shot is plausible',\n",
       " 'The sentence Mookie Betts took a side-step three is not plausible',\n",
       " 'The sentence Nazem Kadri was out at home is not plausible',\n",
       " \"The sentence Paulinho earned an indirect kick in the FA Cup is plausible if all the assumptions and considerations align with the available data and football rules However without specific data on Paulinho's participation in the FA Cup and the exact context of the indirect kick the plausibility remains uncertain\",\n",
       " 'The sentence Pedro struck out the side is plausible',\n",
       " 'The sentence Pepe converted the first down is plausible',\n",
       " 'The sentence Philip Rivers launched a hail mary is plausible',\n",
       " 'The sentence Pierre-Luc Dubois skated backwards is plausible',\n",
       " 'The sentence Ramires scored a header goal is plausible',\n",
       " 'The sentence Ryan Fitzpatrick scored a touchdown is plausible but not a common occurrence',\n",
       " \"The sentence Sergio Aguero maradona'd the defender is plausible\",\n",
       " 'The sentence Stephan El Shaarawy shot with the left foot is plausible',\n",
       " 'The sentence Stephen Curry scored a reverse layup is plausible',\n",
       " 'The sentence Sterling Shepard hit a walkoff homer is not plausible',\n",
       " 'The sentence Steven Stamkos hit the slant pass is not plausible',\n",
       " 'The sentence Teuvo Teravainen shot the puck is plausible',\n",
       " 'The sentence Tom Brady converted the first down is plausible',\n",
       " 'The sentence Tristan Jarry dunked the ball is not plausible',\n",
       " 'The sentence Tuukka Rask hit a double is not plausible',\n",
       " 'The sentence Tyreek Hill caught the screen pass is plausible',\n",
       " 'The sentence Yaya Toure scored a freekick is plausible based on his career statistics and technical abilities',\n",
       " 'The sentence is implausible',\n",
       " 'The sentence is not plausible',\n",
       " \"The sentence is not plausible without additional context as Jerry Jeudy is not typically associated with the term 'powerplay' in his sport\",\n",
       " 'The sentence is plausible',\n",
       " 'The sentence is plausible but highly unlikely',\n",
       " \"The sentence is plausible if 'in the Stanley Cup' is interpreted as referring to the championship series rather than the physical trophy\",\n",
       " \"The sentence is plausible if 'the screen' refers to a sports term or a technological device but the exact meaning is unclear without additional context\",\n",
       " \"The sentence is plausible if Jesus Luzardo is involved in a sport like hockey where 'slashing' is a recognized penalty However if Jesus Luzardo is known to be a baseball player the sentence is not plausible as 'slashing' is not a term used in baseball\",\n",
       " \"The sentence is plausible if interpreted as Nerlens Noel being outside his house but within his home's premises\",\n",
       " 'The sentence is plausible if interpreted in the context of baseball terminology',\n",
       " 'The sentence is plausible if interpreted metaphorically within the context of sports',\n",
       " 'The sentence is plausible under certain conditions but additional context is needed for a definitive determination',\n",
       " 'The statement Collin Sexton hit the buzzer beater is plausible',\n",
       " 'The statement David Pastrnak skated backwards is plausible',\n",
       " 'The statement Drew Brees went for it on fourth down is plausible based on the analysis of his historical decisions the game context and strategic implications',\n",
       " 'The statement Nick Foles lost control of the puck is not plausible',\n",
       " 'The statement Nicklas Backstrom earned a trip to the penalty box is plausible',\n",
       " \"The statement Ryan Nugent-Hopkins killed the powerplay is not sufficiently supported by the available data and alternative explanations It is more plausible that the powerplay failure was due to a combination of factors rather than solely Ryan Nugent-Hopkins' performance\",\n",
       " 'The statement Stefon Diggs hit the slant pass is plausible',\n",
       " 'The statement is not plausible',\n",
       " 'The statement is plausible if there is documented evidence of Jonathan Marchessault scoring a power play goal in a Stanley Cup game Further verification through official records and statistics is required to confirm this',\n",
       " 'True',\n",
       " 'Yes',\n",
       " 'Yes the sentence is plausible',\n",
       " '[answer]',\n",
       " 'not plausible',\n",
       " 'that the sentence Marouane Fellaini scored in extra time is plausible based on the structured analysis and available data',\n",
       " \"that the sentence is plausible with a correction: 'Michael Conforto committed a three second violation'\"}"
      ]
     },
     "execution_count": 187,
     "metadata": {},
     "output_type": "execute_result"
    }
   ],
   "source": []
  },
  {
   "cell_type": "code",
   "execution_count": 198,
   "id": "fc785acd-26cf-403a-84de-5e5e738c1228",
   "metadata": {},
   "outputs": [
    {
     "data": {
      "application/vnd.jupyter.widget-view+json": {
       "model_id": "49f51c69b4d04324a7e396130e728dea",
       "version_major": 2,
       "version_minor": 0
      },
      "text/plain": [
       "Map:   0%|          | 0/250 [00:00<?, ? examples/s]"
      ]
     },
     "metadata": {},
     "output_type": "display_data"
    },
    {
     "data": {
      "text/plain": [
       "{'The plausibility of the sentence Juan Soto did a double stepover is uncertain without further evidence',\n",
       " 'The plausibility of the sentence cannot be determined with the information provided',\n",
       " 'The plausibility of the statement Deshaun Watson was flagged on the play is uncertain without specific data',\n",
       " 'The plausibility of the statement Jonas Valanciunas beat the buzzer depends on the analysis of relevant data and critical thinking as outlined above',\n",
       " 'no',\n",
       " 'not True or False A False',\n",
       " 'yes'}"
      ]
     },
     "execution_count": 198,
     "metadata": {},
     "output_type": "execute_result"
    }
   ],
   "source": [
    "# Plausible (Yes)\n",
    "plausible_yes = [\n",
    "    'Plausible',\n",
    "    'The sentence Kendrick Nunn took a charge is plausible',\n",
    "    'The sentence Kyle Tucker took a left footed shot is plausible assuming Kyle Tucker is a soccer player and considering the general possibility of players using their non-dominant foot',\n",
    "    'The sentence Toni Kroos performed a give and go is plausible',\n",
    "    'The sentence is plausible',\n",
    "    'The sentence is plausible but not definitively true without additional context or information',\n",
    "    'The sentence is plausible if Brandon Lowe is a soccer player but not if he is a baseball player',\n",
    "    'The sentence is plausible if Elias Lindholm is a hockey player and the context is a hockey game',\n",
    "    'The sentence is plausible in a sports context',\n",
    "    'The statement Luis Robert was out at second is plausible',\n",
    "    'The statement is plausible',\n",
    "    'The statement is plausible if supported by relevant evidence',\n",
    "    'True'\n",
    "]\n",
    "\n",
    "# Implausible (No)\n",
    "implausible_no = [\n",
    "    'False',\n",
    "    'Implausible',\n",
    "    'The sentence Dani Alves took the snap is not plausible in a sports context',\n",
    "    'The sentence is not plausible',\n",
    "    'implausible',\n",
    "    'not plausible'\n",
    "]\n",
    "\n",
    "# Indeterminate\n",
    "indeterminate = [\n",
    "    'The plausibility of the sentence Juan Soto did a double stepover is uncertain without further evidence',\n",
    "    'The plausibility of the sentence cannot be determined with the information provided',\n",
    "    'The plausibility of the statement Deshaun Watson was flagged on the play is uncertain without specific data',\n",
    "    'The plausibility of the statement Jonas Valanciunas beat the buzzer depends on the analysis of relevant data and critical thinking as outlined above',\n",
    "    'The plausibility of the sentence is plausible if Brandon Lowe is a soccer player but not if he is a baseball player',\n",
    "    'The plausibility of the sentence is plausible if Elias Lindholm is a hockey player and the context is a hockey game',\n",
    "    'The plausibility of the sentence is plausible if supported by relevant evidence',\n",
    "    'not True or False A False'\n",
    "]\n",
    "\n",
    "\n",
    "def map_fn(ins):\n",
    "    for yes in plausible_yes:\n",
    "        if yes == ins[\"answer_pred\"]:\n",
    "            return {\n",
    "                \"answer_pred\": \"yes\"\n",
    "            }\n",
    "\n",
    "    for no in implausible_no:\n",
    "        if no == ins[\"answer_pred\"]:\n",
    "            return {\n",
    "                \"answer_pred\": \"no\"\n",
    "            }\n",
    "    return {\n",
    "        \"answer_pred\": ins[\"answer_pred\"]\n",
    "    }\n",
    "\n",
    "new_ds = new_ds.map(map_fn)\n",
    "set(new_ds[\"answer_pred\"])"
   ]
  },
  {
   "cell_type": "code",
   "execution_count": 189,
   "id": "94d51ac3-635f-4b67-9fca-62e04de6fe41",
   "metadata": {},
   "outputs": [
    {
     "data": {
      "text/plain": [
       "{'The plausibility of the sentence James Karinchak crossed the blue line remains uncertain without specific context or evidence',\n",
       " 'The plausibility of the sentence is uncertain without concrete data',\n",
       " 'The plausibility of the statement Malcolm Brogdon drove into the restricted area in the Eastern Conference Finals can be determined by following the outlined steps to verify the relevant data and context',\n",
       " \"The sentence Paulinho earned an indirect kick in the FA Cup is plausible if all the assumptions and considerations align with the available data and football rules However without specific data on Paulinho's participation in the FA Cup and the exact context of the indirect kick the plausibility remains uncertain\",\n",
       " 'The sentence is plausible',\n",
       " 'The sentence is plausible but highly unlikely',\n",
       " \"The sentence is plausible if 'in the Stanley Cup' is interpreted as referring to the championship series rather than the physical trophy\",\n",
       " \"The sentence is plausible if 'the screen' refers to a sports term or a technological device but the exact meaning is unclear without additional context\",\n",
       " \"The sentence is plausible if Jesus Luzardo is involved in a sport like hockey where 'slashing' is a recognized penalty However if Jesus Luzardo is known to be a baseball player the sentence is not plausible as 'slashing' is not a term used in baseball\",\n",
       " \"The sentence is plausible if interpreted as Nerlens Noel being outside his house but within his home's premises\",\n",
       " 'The sentence is plausible if interpreted in the context of baseball terminology',\n",
       " 'The sentence is plausible if interpreted metaphorically within the context of sports',\n",
       " 'The sentence is plausible under certain conditions but additional context is needed for a definitive determination',\n",
       " \"The statement Ryan Nugent-Hopkins killed the powerplay is not sufficiently supported by the available data and alternative explanations It is more plausible that the powerplay failure was due to a combination of factors rather than solely Ryan Nugent-Hopkins' performance\",\n",
       " '[answer]',\n",
       " 'no',\n",
       " 'yes'}"
      ]
     },
     "execution_count": 189,
     "metadata": {},
     "output_type": "execute_result"
    }
   ],
   "source": []
  },
  {
   "cell_type": "code",
   "execution_count": 199,
   "id": "f50e1036-98fc-4269-ae31-b2090efa09c6",
   "metadata": {},
   "outputs": [
    {
     "data": {
      "application/vnd.jupyter.widget-view+json": {
       "model_id": "7cc7af0b58754118ac9841b9d90f7b3e",
       "version_major": 2,
       "version_minor": 0
      },
      "text/plain": [
       "Saving the dataset (0/1 shards):   0%|          | 0/250 [00:00<?, ? examples/s]"
      ]
     },
     "metadata": {},
     "output_type": "display_data"
    }
   ],
   "source": [
    "start_string, end_string = \"non_self_synthesis/bbh/\", \"/bbh_eval\"\n",
    "cat = str(chk_dir)[str(chk_dir).find(start_string) + len(start_string) + 4:str(chk_dir).find(end_string)]\n",
    "new_ds.save_to_disk(os.path.join(save_par_dir, cat))"
   ]
  },
  {
   "cell_type": "code",
   "execution_count": 200,
   "id": "66e680b2-b837-4173-ab20-c81d9d3f529e",
   "metadata": {},
   "outputs": [
    {
     "data": {
      "application/vnd.jupyter.widget-view+json": {
       "model_id": "bde76ccce47b4fda9ea7a44899c3c543",
       "version_major": 2,
       "version_minor": 0
      },
      "text/plain": [
       "Filter:   0%|          | 0/250 [00:00<?, ? examples/s]"
      ]
     },
     "metadata": {},
     "output_type": "display_data"
    },
    {
     "data": {
      "text/plain": [
       "0.784"
      ]
     },
     "execution_count": 200,
     "metadata": {},
     "output_type": "execute_result"
    }
   ],
   "source": [
    "corr = new_ds.filter(lambda x: x[\"target\"] == x[\"answer_pred\"])\n",
    "corr.num_rows / new_ds.num_rows"
   ]
  },
  {
   "cell_type": "markdown",
   "id": "af53b711-b627-43a7-91be-c9f975253230",
   "metadata": {
    "jp-MarkdownHeadingCollapsed": true
   },
   "source": [
    "# temporal_sequences"
   ]
  },
  {
   "cell_type": "code",
   "execution_count": 201,
   "id": "4ff26847-c272-43bb-abed-981f71ecaa2e",
   "metadata": {},
   "outputs": [],
   "source": [
    "chk_dir = here(os.path.join(par_dir, \"bbh-temporal_sequences/bbh_eval\"))"
   ]
  },
  {
   "cell_type": "code",
   "execution_count": 202,
   "id": "0736540f-c3cd-48d4-9368-3e986bb7c9f7",
   "metadata": {},
   "outputs": [],
   "source": [
    "dataset = Dataset.load_from_disk(chk_dir)"
   ]
  },
  {
   "cell_type": "code",
   "execution_count": 203,
   "id": "6f42588e-4736-4f9a-a6f3-7e1b1ee610a1",
   "metadata": {},
   "outputs": [
    {
     "data": {
      "text/plain": [
       "{'(A) 10am to 12pm.',\n",
       " '(A) 11am to 1pm.',\n",
       " '(A) 12pm to 1pm.',\n",
       " '(A) 12pm to 2pm.',\n",
       " '(A) 1pm to 2pm and (B) 5pm to 6pm.',\n",
       " '(A) 2pm to 7pm.',\n",
       " '(A) 3pm to 4pm.',\n",
       " '(A) 3pm to 6pm.',\n",
       " '(A) 5am to 6am.',\n",
       " '(A) 5am to 7am.',\n",
       " '(A) 5pm to 9pm.',\n",
       " '(A) 6am to 10am.',\n",
       " '(A) 6am to 11am.',\n",
       " '(A) 6am to 7am.',\n",
       " '(A) 6pm to 7pm.',\n",
       " '(A) 7am to 8am.',\n",
       " '(A) 8am to 10am.',\n",
       " '(A) 8am to 9am.',\n",
       " '(A) 8pm to 9pm.',\n",
       " '(A) 9am to 11am.',\n",
       " '(A) 9am to 2pm.',\n",
       " '(A) 9am to 4pm.',\n",
       " '(A) 9am to 5pm.',\n",
       " '(A).',\n",
       " '(B) 11am to 12pm.',\n",
       " '(B) 2pm to 9pm.',\n",
       " '(B) 4pm to 5pm and (C) 2pm to 4pm.',\n",
       " '(B) 5am to 11am.',\n",
       " '(B) 5pm to 8pm.',\n",
       " '(B) 7am to 9am.',\n",
       " '(C) 10am to 12pm.',\n",
       " '(C) 1pm to 2pm.',\n",
       " '(C) 3pm to 4pm.',\n",
       " '(C) 4pm to 5pm.',\n",
       " '(C) 5am to 7am.',\n",
       " '(C) 6am to 7am.',\n",
       " '(C) 6am to 8am.',\n",
       " '(C) 7am to 10am.',\n",
       " '(C) 7am to 11am.',\n",
       " '(C) 8am to 10am.',\n",
       " '(C) 9am to 10am.',\n",
       " '(C) 9am to 11am.',\n",
       " '(D) 11am to 2pm.',\n",
       " '(D) 12pm to 4pm.',\n",
       " '(D) 1pm to 3pm.',\n",
       " '(D) 1pm to 6pm.',\n",
       " '(D) 2pm to 3pm.',\n",
       " '(D) 2pm to 4pm.',\n",
       " '(D) 3pm to 6pm.',\n",
       " '(D) 4pm to 7pm.',\n",
       " '(D) 5am to 11am.',\n",
       " '(D) 5am to 6am.',\n",
       " '(D) 5pm to 6pm.',\n",
       " '(D) 6am to 2pm.',\n",
       " '(D) 6am to 7am.',\n",
       " '(D) 6am to 8am.',\n",
       " '(D) 7am to 11am.',\n",
       " '(D) 7am to 9am.',\n",
       " '(D) 7pm to 9pm.',\n",
       " '(D) 8am to 10am.',\n",
       " '(D) 8am to 9am.',\n",
       " '(D) 8pm to 10pm.',\n",
       " '(D).',\n",
       " 'A and D.',\n",
       " 'A or D.',\n",
       " 'A.',\n",
       " 'B.',\n",
       " 'C.',\n",
       " 'D.'}"
      ]
     },
     "execution_count": 203,
     "metadata": {},
     "output_type": "execute_result"
    }
   ],
   "source": [
    "set(dataset[\"answer_pred\"])"
   ]
  },
  {
   "cell_type": "code",
   "execution_count": 204,
   "id": "6f0e3bf1-6d3d-49a7-9ac9-b4e434a1ff95",
   "metadata": {},
   "outputs": [
    {
     "data": {
      "application/vnd.jupyter.widget-view+json": {
       "model_id": "f540536a9ad945fa97429082aa8ca079",
       "version_major": 2,
       "version_minor": 0
      },
      "text/plain": [
       "Map:   0%|          | 0/250 [00:00<?, ? examples/s]"
      ]
     },
     "metadata": {},
     "output_type": "display_data"
    },
    {
     "data": {
      "text/plain": [
       "{'A',\n",
       " 'A 10am to 12pm',\n",
       " 'A 11am to 1pm',\n",
       " 'A 12pm to 1pm',\n",
       " 'A 12pm to 2pm',\n",
       " 'A 1pm to 2pm and B 5pm to 6pm',\n",
       " 'A 2pm to 7pm',\n",
       " 'A 3pm to 4pm',\n",
       " 'A 3pm to 6pm',\n",
       " 'A 5am to 6am',\n",
       " 'A 5am to 7am',\n",
       " 'A 5pm to 9pm',\n",
       " 'A 6am to 10am',\n",
       " 'A 6am to 11am',\n",
       " 'A 6am to 7am',\n",
       " 'A 6pm to 7pm',\n",
       " 'A 7am to 8am',\n",
       " 'A 8am to 10am',\n",
       " 'A 8am to 9am',\n",
       " 'A 8pm to 9pm',\n",
       " 'A 9am to 11am',\n",
       " 'A 9am to 2pm',\n",
       " 'A 9am to 4pm',\n",
       " 'A 9am to 5pm',\n",
       " 'A and D',\n",
       " 'A or D',\n",
       " 'B',\n",
       " 'B 11am to 12pm',\n",
       " 'B 2pm to 9pm',\n",
       " 'B 4pm to 5pm and C 2pm to 4pm',\n",
       " 'B 5am to 11am',\n",
       " 'B 5pm to 8pm',\n",
       " 'B 7am to 9am',\n",
       " 'C',\n",
       " 'C 10am to 12pm',\n",
       " 'C 1pm to 2pm',\n",
       " 'C 3pm to 4pm',\n",
       " 'C 4pm to 5pm',\n",
       " 'C 5am to 7am',\n",
       " 'C 6am to 7am',\n",
       " 'C 6am to 8am',\n",
       " 'C 7am to 10am',\n",
       " 'C 7am to 11am',\n",
       " 'C 8am to 10am',\n",
       " 'C 9am to 10am',\n",
       " 'C 9am to 11am',\n",
       " 'D',\n",
       " 'D 11am to 2pm',\n",
       " 'D 12pm to 4pm',\n",
       " 'D 1pm to 3pm',\n",
       " 'D 1pm to 6pm',\n",
       " 'D 2pm to 3pm',\n",
       " 'D 2pm to 4pm',\n",
       " 'D 3pm to 6pm',\n",
       " 'D 4pm to 7pm',\n",
       " 'D 5am to 11am',\n",
       " 'D 5am to 6am',\n",
       " 'D 5pm to 6pm',\n",
       " 'D 6am to 2pm',\n",
       " 'D 6am to 7am',\n",
       " 'D 6am to 8am',\n",
       " 'D 7am to 11am',\n",
       " 'D 7am to 9am',\n",
       " 'D 7pm to 9pm',\n",
       " 'D 8am to 10am',\n",
       " 'D 8am to 9am',\n",
       " 'D 8pm to 10pm'}"
      ]
     },
     "execution_count": 204,
     "metadata": {},
     "output_type": "execute_result"
    }
   ],
   "source": [
    "def map_fn(instance):    \n",
    "    return {\n",
    "        \"answer_pred\": instance[\"answer_pred\"].translate(str.maketrans(\"\", \"\", '.,()}\"')) if instance[\"answer_pred\"] else None\n",
    "    }\n",
    "\n",
    "new_ds = dataset.map(map_fn, load_from_cache_file=False)\n",
    "set(new_ds[\"answer_pred\"])"
   ]
  },
  {
   "cell_type": "code",
   "execution_count": 205,
   "id": "e8b3a01c-9742-4e8f-84a5-acc7931bf3cb",
   "metadata": {
    "scrolled": true
   },
   "outputs": [
    {
     "data": {
      "application/vnd.jupyter.widget-view+json": {
       "model_id": "2c35233a25e644239b2f62aedaf2e6d4",
       "version_major": 2,
       "version_minor": 0
      },
      "text/plain": [
       "Map:   0%|          | 0/250 [00:00<?, ? examples/s]"
      ]
     },
     "metadata": {},
     "output_type": "display_data"
    },
    {
     "data": {
      "text/plain": [
       "{'A',\n",
       " 'A 1pm to 2pm and B 5pm to 6pm',\n",
       " 'A and D',\n",
       " 'A or D',\n",
       " 'B',\n",
       " 'B 4pm to 5pm and C 2pm to 4pm',\n",
       " 'C',\n",
       " 'D'}"
      ]
     },
     "execution_count": 205,
     "metadata": {},
     "output_type": "execute_result"
    }
   ],
   "source": [
    "def map_fn(ins):\n",
    "    sp = ins[\"answer_pred\"].split()\n",
    "    if len(sp) == 4 or len(sp) == 1:\n",
    "        return {\n",
    "            \"answer_pred\": sp[0]\n",
    "        }\n",
    "    return {\n",
    "        \"answer_pred\": ins[\"answer_pred\"]\n",
    "    }\n",
    "\n",
    "new_ds = new_ds.map(map_fn)\n",
    "set(new_ds[\"answer_pred\"])"
   ]
  },
  {
   "cell_type": "code",
   "execution_count": 206,
   "id": "1a32c840-605b-411c-bf24-97dbe633004f",
   "metadata": {},
   "outputs": [
    {
     "data": {
      "application/vnd.jupyter.widget-view+json": {
       "model_id": "e80bc596c079472080263713c6570020",
       "version_major": 2,
       "version_minor": 0
      },
      "text/plain": [
       "Saving the dataset (0/1 shards):   0%|          | 0/250 [00:00<?, ? examples/s]"
      ]
     },
     "metadata": {},
     "output_type": "display_data"
    }
   ],
   "source": [
    "start_string, end_string = \"non_self_synthesis/bbh/\", \"/bbh_eval\"\n",
    "cat = str(chk_dir)[str(chk_dir).find(start_string) + len(start_string) + 4:str(chk_dir).find(end_string)]\n",
    "new_ds.save_to_disk(os.path.join(save_par_dir, cat))"
   ]
  },
  {
   "cell_type": "code",
   "execution_count": 207,
   "id": "09500846-591e-400d-8e00-7a413f80b304",
   "metadata": {},
   "outputs": [
    {
     "data": {
      "application/vnd.jupyter.widget-view+json": {
       "model_id": "077911d7ea4c4f898b3dc40a6e8aa5e1",
       "version_major": 2,
       "version_minor": 0
      },
      "text/plain": [
       "Filter:   0%|          | 0/250 [00:00<?, ? examples/s]"
      ]
     },
     "metadata": {},
     "output_type": "display_data"
    },
    {
     "data": {
      "text/plain": [
       "0.972"
      ]
     },
     "execution_count": 207,
     "metadata": {},
     "output_type": "execute_result"
    }
   ],
   "source": [
    "corr = new_ds.filter(lambda x: x[\"target\"].translate(str.maketrans(\"\", \"\", '()\"')) == x[\"answer_pred\"])\n",
    "(corr.num_rows) / new_ds.num_rows"
   ]
  },
  {
   "cell_type": "markdown",
   "id": "46999e93-5777-438d-82fc-23e1320a4ee5",
   "metadata": {
    "jp-MarkdownHeadingCollapsed": true
   },
   "source": [
    "# tracking_shuffled_objects_five_objects"
   ]
  },
  {
   "cell_type": "code",
   "execution_count": 208,
   "id": "1f430e83-d257-42b1-80d6-86c00ff391f3",
   "metadata": {},
   "outputs": [
    {
     "data": {
      "text/plain": [
       "PosixPath('/home/ubuntu/jupyter/struct-vs-unstruct/struct_vs_unstruct/data/mistral_large_2407/modified/non_self_synthesis/bbh/bbh-tracking_shuffled_objects_five_objects/bbh_eval')"
      ]
     },
     "execution_count": 208,
     "metadata": {},
     "output_type": "execute_result"
    }
   ],
   "source": [
    "chk_dir = here(os.path.join(par_dir, \"bbh-tracking_shuffled_objects_five_objects/bbh_eval\"))\n",
    "chk_dir"
   ]
  },
  {
   "cell_type": "code",
   "execution_count": 209,
   "id": "6e48f967-b3c6-4578-be6c-3c5f5978e890",
   "metadata": {},
   "outputs": [],
   "source": [
    "dataset = Dataset.load_from_disk(chk_dir)"
   ]
  },
  {
   "cell_type": "code",
   "execution_count": 210,
   "id": "3eaa6a24-46e7-4ea6-99e5-141257dff314",
   "metadata": {},
   "outputs": [
    {
     "data": {
      "text/plain": [
       "{'(A) Catch-22.',\n",
       " '(A) Helga.',\n",
       " '(A) Izzi.',\n",
       " '(A) Jamie.',\n",
       " '(A) Moby Dick.',\n",
       " '(A) The Great Gatsby.',\n",
       " '(A) Ulysses.',\n",
       " '(A) benchwarmer.',\n",
       " '(A) black ball.',\n",
       " '(A) brown ball.',\n",
       " '(A) brown present.',\n",
       " '(A) fullback.',\n",
       " '(A) green ball.',\n",
       " '(A) green present.',\n",
       " '(A) orange ball.',\n",
       " '(A) red ball.',\n",
       " '(A) red present.',\n",
       " '(A) right winger.',\n",
       " '(B) Catch-22.',\n",
       " '(B) Izzi.',\n",
       " '(B) Jamie.',\n",
       " '(B) Karl.',\n",
       " '(B) Moby Dick.',\n",
       " '(B) Patrick.',\n",
       " '(B) Sam.',\n",
       " '(B) Ulysses.',\n",
       " '(B) black ball.',\n",
       " '(B) brown present.',\n",
       " '(B) center midfielder.',\n",
       " '(B) orange ball.',\n",
       " '(B) red present.',\n",
       " '(B) right winger.',\n",
       " '(B) striker.',\n",
       " '(B) white present.',\n",
       " '(C) Catch-22.',\n",
       " '(C) Frankenstein.',\n",
       " '(C) Helga.',\n",
       " '(C) Hound of the Baskervilles.',\n",
       " '(C) Lola.',\n",
       " '(C) Melissa.',\n",
       " '(C) Patrick.',\n",
       " '(C) benchwarmer.',\n",
       " '(C) blue present.',\n",
       " '(C) fullback.',\n",
       " '(C) green ball.',\n",
       " '(C) green present.',\n",
       " '(C) red ball.',\n",
       " '(C) right winger.',\n",
       " '(C) striker.',\n",
       " '(D)',\n",
       " '(D) Frankenstein.',\n",
       " '(D) Helga.',\n",
       " '(D) Hound of the Baskervilles.',\n",
       " '(D) Jamie.',\n",
       " '(D) Karl.',\n",
       " '(D) Ophelia.',\n",
       " '(D) Patrick.',\n",
       " '(D) The Fellowship of the Ring',\n",
       " '(D) Ulysses.',\n",
       " '(D) benchwarmer.',\n",
       " '(D) brown ball.',\n",
       " '(D) center midfielder.',\n",
       " '(D) goalkeeper.',\n",
       " '(D) green ball.',\n",
       " '(D) left midfielder.',\n",
       " '(D) orange ball.',\n",
       " '(D) purple present.',\n",
       " '(D) red present.',\n",
       " '(D) white ball.',\n",
       " '(D) white present.',\n",
       " '(D) yellow ball.',\n",
       " '(D).',\n",
       " '(E) Frankenstein.',\n",
       " '(E) Izzi.',\n",
       " '(E) Jamie.',\n",
       " '(E) Melissa.',\n",
       " '(E) Ophelia.',\n",
       " '(E) Rodrigo.',\n",
       " '(E) The Fellowship of the Ring.',\n",
       " '(E) The Odyssey.',\n",
       " '(E) The Pearl.',\n",
       " '(E) black ball.',\n",
       " '(E) blue ball.',\n",
       " '(E) center midfielder.',\n",
       " '(E) cheerleader.',\n",
       " '(E) goalkeeper.',\n",
       " '(E) left midfielder.',\n",
       " '(E) left winger.',\n",
       " '(E) orange ball.',\n",
       " '(E) purple ball.',\n",
       " '(E) white present.',\n",
       " '(E) yellow ball.',\n",
       " 'A.',\n",
       " 'B.',\n",
       " 'C.',\n",
       " 'D.',\n",
       " 'E.'}"
      ]
     },
     "execution_count": 210,
     "metadata": {},
     "output_type": "execute_result"
    }
   ],
   "source": [
    "set(dataset[\"answer_pred\"])"
   ]
  },
  {
   "cell_type": "code",
   "execution_count": 211,
   "id": "ee35345c-acaa-4b80-9a62-4f2d9e8e13bb",
   "metadata": {},
   "outputs": [
    {
     "data": {
      "application/vnd.jupyter.widget-view+json": {
       "model_id": "3ca58a0485fb432e82bfd5322df1ae5e",
       "version_major": 2,
       "version_minor": 0
      },
      "text/plain": [
       "Map:   0%|          | 0/250 [00:00<?, ? examples/s]"
      ]
     },
     "metadata": {},
     "output_type": "display_data"
    },
    {
     "data": {
      "text/plain": [
       "{'A',\n",
       " 'A Catch-22',\n",
       " 'A Helga',\n",
       " 'A Izzi',\n",
       " 'A Jamie',\n",
       " 'A Moby Dick',\n",
       " 'A The Great Gatsby',\n",
       " 'A Ulysses',\n",
       " 'A benchwarmer',\n",
       " 'A black ball',\n",
       " 'A brown ball',\n",
       " 'A brown present',\n",
       " 'A fullback',\n",
       " 'A green ball',\n",
       " 'A green present',\n",
       " 'A orange ball',\n",
       " 'A red ball',\n",
       " 'A red present',\n",
       " 'A right winger',\n",
       " 'B',\n",
       " 'B Catch-22',\n",
       " 'B Izzi',\n",
       " 'B Jamie',\n",
       " 'B Karl',\n",
       " 'B Moby Dick',\n",
       " 'B Patrick',\n",
       " 'B Sam',\n",
       " 'B Ulysses',\n",
       " 'B black ball',\n",
       " 'B brown present',\n",
       " 'B center midfielder',\n",
       " 'B orange ball',\n",
       " 'B red present',\n",
       " 'B right winger',\n",
       " 'B striker',\n",
       " 'B white present',\n",
       " 'C',\n",
       " 'C Catch-22',\n",
       " 'C Frankenstein',\n",
       " 'C Helga',\n",
       " 'C Hound of the Baskervilles',\n",
       " 'C Lola',\n",
       " 'C Melissa',\n",
       " 'C Patrick',\n",
       " 'C benchwarmer',\n",
       " 'C blue present',\n",
       " 'C fullback',\n",
       " 'C green ball',\n",
       " 'C green present',\n",
       " 'C red ball',\n",
       " 'C right winger',\n",
       " 'C striker',\n",
       " 'D',\n",
       " 'D Frankenstein',\n",
       " 'D Helga',\n",
       " 'D Hound of the Baskervilles',\n",
       " 'D Jamie',\n",
       " 'D Karl',\n",
       " 'D Ophelia',\n",
       " 'D Patrick',\n",
       " 'D The Fellowship of the Ring',\n",
       " 'D Ulysses',\n",
       " 'D benchwarmer',\n",
       " 'D brown ball',\n",
       " 'D center midfielder',\n",
       " 'D goalkeeper',\n",
       " 'D green ball',\n",
       " 'D left midfielder',\n",
       " 'D orange ball',\n",
       " 'D purple present',\n",
       " 'D red present',\n",
       " 'D white ball',\n",
       " 'D white present',\n",
       " 'D yellow ball',\n",
       " 'E',\n",
       " 'E Frankenstein',\n",
       " 'E Izzi',\n",
       " 'E Jamie',\n",
       " 'E Melissa',\n",
       " 'E Ophelia',\n",
       " 'E Rodrigo',\n",
       " 'E The Fellowship of the Ring',\n",
       " 'E The Odyssey',\n",
       " 'E The Pearl',\n",
       " 'E black ball',\n",
       " 'E blue ball',\n",
       " 'E center midfielder',\n",
       " 'E cheerleader',\n",
       " 'E goalkeeper',\n",
       " 'E left midfielder',\n",
       " 'E left winger',\n",
       " 'E orange ball',\n",
       " 'E purple ball',\n",
       " 'E white present',\n",
       " 'E yellow ball'}"
      ]
     },
     "execution_count": 211,
     "metadata": {},
     "output_type": "execute_result"
    }
   ],
   "source": [
    "def map_fn(instance):    \n",
    "    return {\n",
    "        \"answer_pred\": instance[\"answer_pred\"].translate(str.maketrans(\"\", \"\", '.,()\"')) if instance[\"answer_pred\"] else None\n",
    "    }\n",
    "\n",
    "new_ds = dataset.map(map_fn, load_from_cache_file=False)\n",
    "set(new_ds[\"answer_pred\"])"
   ]
  },
  {
   "cell_type": "code",
   "execution_count": 212,
   "id": "cd9525e8-a803-4563-b7e2-257a7abd5b3f",
   "metadata": {},
   "outputs": [
    {
     "data": {
      "application/vnd.jupyter.widget-view+json": {
       "model_id": "3eb18a93129d4c909c844a8efd56f9da",
       "version_major": 2,
       "version_minor": 0
      },
      "text/plain": [
       "Map:   0%|          | 0/250 [00:00<?, ? examples/s]"
      ]
     },
     "metadata": {},
     "output_type": "display_data"
    },
    {
     "data": {
      "text/plain": [
       "{'A', 'B', 'C', 'D', 'E'}"
      ]
     },
     "execution_count": 212,
     "metadata": {},
     "output_type": "execute_result"
    }
   ],
   "source": [
    "def map_fn(ins):    \n",
    "    sp = ins[\"answer_pred\"].split()\n",
    "    return {\n",
    "        \"answer_pred\": sp[0]\n",
    "    }\n",
    "\n",
    "new_ds = new_ds.map(map_fn, load_from_cache_file=False)\n",
    "set(new_ds[\"answer_pred\"])"
   ]
  },
  {
   "cell_type": "code",
   "execution_count": 213,
   "id": "0816914b-7391-4088-a844-c1cc8ce4ecf1",
   "metadata": {},
   "outputs": [
    {
     "data": {
      "application/vnd.jupyter.widget-view+json": {
       "model_id": "aed3323dae6240108b197520c2159ab5",
       "version_major": 2,
       "version_minor": 0
      },
      "text/plain": [
       "Saving the dataset (0/1 shards):   0%|          | 0/250 [00:00<?, ? examples/s]"
      ]
     },
     "metadata": {},
     "output_type": "display_data"
    }
   ],
   "source": [
    "start_string, end_string = \"non_self_synthesis/bbh/\", \"/bbh_eval\"\n",
    "cat = str(chk_dir)[str(chk_dir).find(start_string) + len(start_string) + 4:str(chk_dir).find(end_string)]\n",
    "new_ds.save_to_disk(os.path.join(save_par_dir, cat))"
   ]
  },
  {
   "cell_type": "code",
   "execution_count": 214,
   "id": "597c8af1-8fe8-47a9-8f2b-178a6f02d47f",
   "metadata": {},
   "outputs": [
    {
     "data": {
      "application/vnd.jupyter.widget-view+json": {
       "model_id": "2960e8fc6a3c40c087f96b32304106bc",
       "version_major": 2,
       "version_minor": 0
      },
      "text/plain": [
       "Filter:   0%|          | 0/250 [00:00<?, ? examples/s]"
      ]
     },
     "metadata": {},
     "output_type": "display_data"
    },
    {
     "data": {
      "text/plain": [
       "0.984"
      ]
     },
     "execution_count": 214,
     "metadata": {},
     "output_type": "execute_result"
    }
   ],
   "source": [
    "corr = new_ds.filter(lambda x: x[\"target\"].translate(str.maketrans(\"\", \"\", '()\"')) == x[\"answer_pred\"])\n",
    "(corr.num_rows) / new_ds.num_rows"
   ]
  },
  {
   "cell_type": "markdown",
   "id": "cb4d96cc-2a17-42f2-be48-0c078e1ad4c6",
   "metadata": {
    "jp-MarkdownHeadingCollapsed": true
   },
   "source": [
    "# tracking_shuffled_objects_seven_objects"
   ]
  },
  {
   "cell_type": "code",
   "execution_count": 215,
   "id": "85ad5a89-1fea-43b1-aa46-6fb31c71bb0c",
   "metadata": {},
   "outputs": [],
   "source": [
    "chk_dir = here(os.path.join(par_dir, \"bbh-tracking_shuffled_objects_seven_objects/bbh_eval\"))"
   ]
  },
  {
   "cell_type": "code",
   "execution_count": 216,
   "id": "c76badad-20e0-4edf-87c1-a8cc07f8dd42",
   "metadata": {},
   "outputs": [],
   "source": [
    "dataset = Dataset.load_from_disk(chk_dir)"
   ]
  },
  {
   "cell_type": "code",
   "execution_count": 217,
   "id": "ba44c1a5-469b-46e4-a0e6-982650f725e2",
   "metadata": {},
   "outputs": [
    {
     "data": {
      "text/plain": [
       "{'(A) Catch-22.',\n",
       " '(A) Frankenstein.',\n",
       " '(A) Lola.',\n",
       " '(A) Lolita.',\n",
       " '(A) Patrick.',\n",
       " '(A) Sam.',\n",
       " '(A) The Fellowship of the Ring.',\n",
       " '(A) The Pearl.',\n",
       " '(A) black ball.',\n",
       " '(A) blue present.',\n",
       " '(A) goalkeeper.',\n",
       " '(A) green ball.',\n",
       " '(A) green present.',\n",
       " '(A) left winger.',\n",
       " '(A) orange ball.',\n",
       " '(A) purple ball.',\n",
       " '(A) purple present.',\n",
       " '(A) red present.',\n",
       " '(A) striker.',\n",
       " '(A).',\n",
       " '(B) Izzi.',\n",
       " '(B) Lola.',\n",
       " '(B) The Odyssey.',\n",
       " '(B) blue ball.',\n",
       " '(B) goalkeeper.',\n",
       " '(B) right winger.',\n",
       " '(C) Jamie.',\n",
       " '(C) Lola.',\n",
       " '(C) Lolita.',\n",
       " '(C) Ophelia.',\n",
       " '(C) Patrick.',\n",
       " '(C) Ulysses.',\n",
       " '(C) blue ball.',\n",
       " '(C) brown ball.',\n",
       " '(C) brown present.',\n",
       " '(C) green ball.',\n",
       " '(C) purple ball.',\n",
       " '(C) red ball.',\n",
       " '(C) right midfielder.',\n",
       " '(C).',\n",
       " '(D) Izzi.',\n",
       " '(D) Lola.',\n",
       " '(D) Melissa.',\n",
       " '(D) Moby Dick.',\n",
       " '(D) Patrick.',\n",
       " '(D) Rodrigo.',\n",
       " '(D) Ulysses.',\n",
       " '(D) blue ball.',\n",
       " '(D) brown present.',\n",
       " '(D) green ball.',\n",
       " '(D) left midfielder.',\n",
       " '(D) pink ball.',\n",
       " '(D) purple ball.',\n",
       " '(D) purple present.',\n",
       " '(D) red ball.',\n",
       " '(D) red.',\n",
       " '(D) right midfielder.',\n",
       " '(D) white ball.',\n",
       " '(E) Hound of the Baskervilles.',\n",
       " '(E) Melissa.',\n",
       " '(E) Patrick.',\n",
       " '(E) Ulysses.',\n",
       " '(E) black ball.',\n",
       " '(E) blue ball.',\n",
       " '(E) brown present.',\n",
       " '(E) center midfielder.',\n",
       " '(E) green present.',\n",
       " '(E) red ball.',\n",
       " '(E) white present.',\n",
       " '(E) yellow ball.',\n",
       " '(E) yellow present.',\n",
       " '(F) Frankenstein.',\n",
       " '(F) Helga.',\n",
       " '(F) Karl.',\n",
       " '(F) Lola.',\n",
       " '(F) Patrick.',\n",
       " '(F) The Odyssey.',\n",
       " '(F) benchwarmer.',\n",
       " '(F) black ball.',\n",
       " '(F) left winger.',\n",
       " '(F) right midfielder.',\n",
       " '(F) yellow ball.',\n",
       " '(F) yellow present.',\n",
       " '(G) Izzi.',\n",
       " '(G) Karl.',\n",
       " '(G) Melissa.',\n",
       " '(G) Patrick.',\n",
       " '(G) The Fellowship of the Ring.',\n",
       " '(G) blue present.',\n",
       " '(G) left midfielder.',\n",
       " '(G) orange ball.',\n",
       " '(G) purple present.',\n",
       " '(G) white ball.',\n",
       " '(G) yellow ball.',\n",
       " '(G) yellow present.',\n",
       " 'A.',\n",
       " 'B.',\n",
       " 'C.',\n",
       " 'D.',\n",
       " 'E.',\n",
       " 'F.',\n",
       " 'G.'}"
      ]
     },
     "execution_count": 217,
     "metadata": {},
     "output_type": "execute_result"
    }
   ],
   "source": [
    "set(dataset[\"answer_pred\"])"
   ]
  },
  {
   "cell_type": "code",
   "execution_count": 218,
   "id": "f8d40d34-457a-4e9b-8090-ececac236f03",
   "metadata": {},
   "outputs": [
    {
     "data": {
      "application/vnd.jupyter.widget-view+json": {
       "model_id": "3b4072f3524d43b3a1baf537a128732e",
       "version_major": 2,
       "version_minor": 0
      },
      "text/plain": [
       "Map:   0%|          | 0/250 [00:00<?, ? examples/s]"
      ]
     },
     "metadata": {},
     "output_type": "display_data"
    }
   ],
   "source": [
    "def map_fn(instance):    \n",
    "    return {\n",
    "        \"answer_pred\": instance[\"answer_pred\"].translate(str.maketrans(\"\", \"\", '.,()\"')) if instance[\"answer_pred\"] else None\n",
    "    }\n",
    "\n",
    "new_ds = dataset.map(map_fn, load_from_cache_file=False)"
   ]
  },
  {
   "cell_type": "code",
   "execution_count": 219,
   "id": "da59656d-c659-4b13-ac37-b46d014e5a4b",
   "metadata": {},
   "outputs": [
    {
     "data": {
      "text/plain": [
       "{'A',\n",
       " 'A Catch-22',\n",
       " 'A Frankenstein',\n",
       " 'A Lola',\n",
       " 'A Lolita',\n",
       " 'A Patrick',\n",
       " 'A Sam',\n",
       " 'A The Fellowship of the Ring',\n",
       " 'A The Pearl',\n",
       " 'A black ball',\n",
       " 'A blue present',\n",
       " 'A goalkeeper',\n",
       " 'A green ball',\n",
       " 'A green present',\n",
       " 'A left winger',\n",
       " 'A orange ball',\n",
       " 'A purple ball',\n",
       " 'A purple present',\n",
       " 'A red present',\n",
       " 'A striker',\n",
       " 'B',\n",
       " 'B Izzi',\n",
       " 'B Lola',\n",
       " 'B The Odyssey',\n",
       " 'B blue ball',\n",
       " 'B goalkeeper',\n",
       " 'B right winger',\n",
       " 'C',\n",
       " 'C Jamie',\n",
       " 'C Lola',\n",
       " 'C Lolita',\n",
       " 'C Ophelia',\n",
       " 'C Patrick',\n",
       " 'C Ulysses',\n",
       " 'C blue ball',\n",
       " 'C brown ball',\n",
       " 'C brown present',\n",
       " 'C green ball',\n",
       " 'C purple ball',\n",
       " 'C red ball',\n",
       " 'C right midfielder',\n",
       " 'D',\n",
       " 'D Izzi',\n",
       " 'D Lola',\n",
       " 'D Melissa',\n",
       " 'D Moby Dick',\n",
       " 'D Patrick',\n",
       " 'D Rodrigo',\n",
       " 'D Ulysses',\n",
       " 'D blue ball',\n",
       " 'D brown present',\n",
       " 'D green ball',\n",
       " 'D left midfielder',\n",
       " 'D pink ball',\n",
       " 'D purple ball',\n",
       " 'D purple present',\n",
       " 'D red',\n",
       " 'D red ball',\n",
       " 'D right midfielder',\n",
       " 'D white ball',\n",
       " 'E',\n",
       " 'E Hound of the Baskervilles',\n",
       " 'E Melissa',\n",
       " 'E Patrick',\n",
       " 'E Ulysses',\n",
       " 'E black ball',\n",
       " 'E blue ball',\n",
       " 'E brown present',\n",
       " 'E center midfielder',\n",
       " 'E green present',\n",
       " 'E red ball',\n",
       " 'E white present',\n",
       " 'E yellow ball',\n",
       " 'E yellow present',\n",
       " 'F',\n",
       " 'F Frankenstein',\n",
       " 'F Helga',\n",
       " 'F Karl',\n",
       " 'F Lola',\n",
       " 'F Patrick',\n",
       " 'F The Odyssey',\n",
       " 'F benchwarmer',\n",
       " 'F black ball',\n",
       " 'F left winger',\n",
       " 'F right midfielder',\n",
       " 'F yellow ball',\n",
       " 'F yellow present',\n",
       " 'G',\n",
       " 'G Izzi',\n",
       " 'G Karl',\n",
       " 'G Melissa',\n",
       " 'G Patrick',\n",
       " 'G The Fellowship of the Ring',\n",
       " 'G blue present',\n",
       " 'G left midfielder',\n",
       " 'G orange ball',\n",
       " 'G purple present',\n",
       " 'G white ball',\n",
       " 'G yellow ball',\n",
       " 'G yellow present'}"
      ]
     },
     "execution_count": 219,
     "metadata": {},
     "output_type": "execute_result"
    }
   ],
   "source": [
    "set(new_ds[\"answer_pred\"])"
   ]
  },
  {
   "cell_type": "code",
   "execution_count": 220,
   "id": "8f3ccab0-aea1-4b1f-89e6-0d96898547c1",
   "metadata": {},
   "outputs": [
    {
     "data": {
      "application/vnd.jupyter.widget-view+json": {
       "model_id": "c16e9251e3914e35b77f46f2c1c089b0",
       "version_major": 2,
       "version_minor": 0
      },
      "text/plain": [
       "Map:   0%|          | 0/250 [00:00<?, ? examples/s]"
      ]
     },
     "metadata": {},
     "output_type": "display_data"
    },
    {
     "data": {
      "text/plain": [
       "{'A', 'B', 'C', 'D', 'E', 'F', 'G'}"
      ]
     },
     "execution_count": 220,
     "metadata": {},
     "output_type": "execute_result"
    }
   ],
   "source": [
    "def map_fn(ins):    \n",
    "    sp = ins[\"answer_pred\"].split()\n",
    "    return {\n",
    "        \"answer_pred\": sp[0]\n",
    "    }\n",
    "\n",
    "new_ds = new_ds.map(map_fn, load_from_cache_file=False)\n",
    "set(new_ds[\"answer_pred\"])"
   ]
  },
  {
   "cell_type": "code",
   "execution_count": 221,
   "id": "cfd5fbcd-138a-4b09-85b4-c63a2840fdcc",
   "metadata": {},
   "outputs": [
    {
     "data": {
      "application/vnd.jupyter.widget-view+json": {
       "model_id": "340fe36f7e4a4f738af3d976f02987d6",
       "version_major": 2,
       "version_minor": 0
      },
      "text/plain": [
       "Saving the dataset (0/1 shards):   0%|          | 0/250 [00:00<?, ? examples/s]"
      ]
     },
     "metadata": {},
     "output_type": "display_data"
    }
   ],
   "source": [
    "start_string, end_string = \"non_self_synthesis/bbh/\", \"/bbh_eval\"\n",
    "cat = str(chk_dir)[str(chk_dir).find(start_string) + len(start_string) + 4:str(chk_dir).find(end_string)]\n",
    "new_ds.save_to_disk(os.path.join(save_par_dir, cat))"
   ]
  },
  {
   "cell_type": "code",
   "execution_count": 222,
   "id": "b2a5700e-3b85-403b-9072-57dc4cb9656b",
   "metadata": {},
   "outputs": [
    {
     "data": {
      "application/vnd.jupyter.widget-view+json": {
       "model_id": "e69488fb60d04adf9710832dbc1d59a1",
       "version_major": 2,
       "version_minor": 0
      },
      "text/plain": [
       "Filter:   0%|          | 0/250 [00:00<?, ? examples/s]"
      ]
     },
     "metadata": {},
     "output_type": "display_data"
    },
    {
     "data": {
      "text/plain": [
       "0.944"
      ]
     },
     "execution_count": 222,
     "metadata": {},
     "output_type": "execute_result"
    }
   ],
   "source": [
    "corr = new_ds.filter(lambda x: x[\"target\"].translate(str.maketrans(\"\", \"\", '()\"')) == x[\"answer_pred\"])\n",
    "(corr.num_rows) / new_ds.num_rows"
   ]
  },
  {
   "cell_type": "markdown",
   "id": "26c7380f-757f-4efe-a499-d5fcb8db1605",
   "metadata": {
    "jp-MarkdownHeadingCollapsed": true
   },
   "source": [
    "# tracking_shuffled_objects_three_objects"
   ]
  },
  {
   "cell_type": "code",
   "execution_count": 223,
   "id": "5e8b3d70-00c0-40bf-8930-2ff52cebbb86",
   "metadata": {},
   "outputs": [],
   "source": [
    "chk_dir = here(os.path.join(par_dir, \"bbh-tracking_shuffled_objects_three_objects/bbh_eval\"))"
   ]
  },
  {
   "cell_type": "code",
   "execution_count": 224,
   "id": "b7c037d5-2c4e-4c06-9d5d-e53014c787cd",
   "metadata": {},
   "outputs": [],
   "source": [
    "dataset = Dataset.load_from_disk(chk_dir)"
   ]
  },
  {
   "cell_type": "code",
   "execution_count": 225,
   "id": "2848ce35-ae10-413d-968e-e2b25260aeba",
   "metadata": {},
   "outputs": [
    {
     "data": {
      "text/plain": [
       "{'(A) Catch-22.',\n",
       " '(A) Frankenstein.',\n",
       " '(A) Helga.',\n",
       " '(A) Hound of the Baskervilles.',\n",
       " '(A) Izzi.',\n",
       " '(A) Lola.',\n",
       " '(A) Lolita.',\n",
       " '(A) Melissa.',\n",
       " '(A) Ophelia.',\n",
       " '(A) Patrick.',\n",
       " '(A) Rodrigo.',\n",
       " '(A) Sam.',\n",
       " '(A) The Fellowship of the Ring.',\n",
       " '(A) The Great Gatsby.',\n",
       " '(A) Ulysses.',\n",
       " '(A) black ball.',\n",
       " '(A) blue present.',\n",
       " '(A) brown ball.',\n",
       " '(A) cheerleader.',\n",
       " '(A) goalkeeper.',\n",
       " '(A) green ball.',\n",
       " '(A) orange ball.',\n",
       " '(A) pink ball.',\n",
       " '(A) red ball.',\n",
       " '(A) red present.',\n",
       " '(A) right midfielder.',\n",
       " '(A) right winger.',\n",
       " '(A) striker.',\n",
       " '(A) white present.',\n",
       " '(A) yellow ball.',\n",
       " '(A) yellow present.',\n",
       " '(B) Frankenstein.',\n",
       " '(B) Helga.',\n",
       " '(B) Izzi.',\n",
       " '(B) Jamie.',\n",
       " '(B) Karl.',\n",
       " '(B) Moby Dick.',\n",
       " '(B) Patrick.',\n",
       " '(B) Rodrigo.',\n",
       " '(B) The Odyssey.',\n",
       " '(B) benchwarmer.',\n",
       " '(B) black ball.',\n",
       " '(B) blue present.',\n",
       " '(B) center midfielder.',\n",
       " '(B) left midfielder.',\n",
       " '(B) orange ball.',\n",
       " '(B) pink ball.',\n",
       " '(B) purple ball.',\n",
       " '(B) purple present',\n",
       " '(B) purple present.',\n",
       " '(B) red present.',\n",
       " '(B) right winger.',\n",
       " '(B) white present.',\n",
       " '(C) Frankenstein.',\n",
       " '(C) Hound of the Baskervilles.',\n",
       " '(C) Izzi.',\n",
       " '(C) Jamie.',\n",
       " '(C) Karl.',\n",
       " '(C) Lola.',\n",
       " '(C) Melissa.',\n",
       " '(C) Ophelia.',\n",
       " '(C) Patrick.',\n",
       " '(C) Sam.',\n",
       " '(C) The Fellowship of the Ring.',\n",
       " '(C) The Odyssey.',\n",
       " '(C) The Pearl.',\n",
       " '(C) Ulysses.',\n",
       " '(C) blue ball.',\n",
       " '(C) blue present.',\n",
       " '(C) brown present.',\n",
       " '(C) fullback.',\n",
       " '(C) goalkeeper.',\n",
       " '(C) green present.',\n",
       " '(C) orange ball.',\n",
       " '(C) pink ball.',\n",
       " '(C) purple ball.',\n",
       " '(C) purple present.',\n",
       " '(C) red ball.',\n",
       " '(C) red present.',\n",
       " '(C) right midfielder.',\n",
       " '(C) right winger.',\n",
       " '(C) white ball.',\n",
       " '(C) white present.',\n",
       " '(C) yellow present.',\n",
       " 'A.',\n",
       " 'B.',\n",
       " 'C.'}"
      ]
     },
     "execution_count": 225,
     "metadata": {},
     "output_type": "execute_result"
    }
   ],
   "source": [
    "set(dataset[\"answer_pred\"])"
   ]
  },
  {
   "cell_type": "code",
   "execution_count": 226,
   "id": "4a9a977f-d0e1-4f15-ab88-45ceafeb4259",
   "metadata": {},
   "outputs": [
    {
     "data": {
      "application/vnd.jupyter.widget-view+json": {
       "model_id": "747051f8ce9d4a8392609a47290abc67",
       "version_major": 2,
       "version_minor": 0
      },
      "text/plain": [
       "Map:   0%|          | 0/250 [00:00<?, ? examples/s]"
      ]
     },
     "metadata": {},
     "output_type": "display_data"
    },
    {
     "data": {
      "text/plain": [
       "{'A',\n",
       " 'A Catch-22',\n",
       " 'A Frankenstein',\n",
       " 'A Helga',\n",
       " 'A Hound of the Baskervilles',\n",
       " 'A Izzi',\n",
       " 'A Lola',\n",
       " 'A Lolita',\n",
       " 'A Melissa',\n",
       " 'A Ophelia',\n",
       " 'A Patrick',\n",
       " 'A Rodrigo',\n",
       " 'A Sam',\n",
       " 'A The Fellowship of the Ring',\n",
       " 'A The Great Gatsby',\n",
       " 'A Ulysses',\n",
       " 'A black ball',\n",
       " 'A blue present',\n",
       " 'A brown ball',\n",
       " 'A cheerleader',\n",
       " 'A goalkeeper',\n",
       " 'A green ball',\n",
       " 'A orange ball',\n",
       " 'A pink ball',\n",
       " 'A red ball',\n",
       " 'A red present',\n",
       " 'A right midfielder',\n",
       " 'A right winger',\n",
       " 'A striker',\n",
       " 'A white present',\n",
       " 'A yellow ball',\n",
       " 'A yellow present',\n",
       " 'B',\n",
       " 'B Frankenstein',\n",
       " 'B Helga',\n",
       " 'B Izzi',\n",
       " 'B Jamie',\n",
       " 'B Karl',\n",
       " 'B Moby Dick',\n",
       " 'B Patrick',\n",
       " 'B Rodrigo',\n",
       " 'B The Odyssey',\n",
       " 'B benchwarmer',\n",
       " 'B black ball',\n",
       " 'B blue present',\n",
       " 'B center midfielder',\n",
       " 'B left midfielder',\n",
       " 'B orange ball',\n",
       " 'B pink ball',\n",
       " 'B purple ball',\n",
       " 'B purple present',\n",
       " 'B red present',\n",
       " 'B right winger',\n",
       " 'B white present',\n",
       " 'C',\n",
       " 'C Frankenstein',\n",
       " 'C Hound of the Baskervilles',\n",
       " 'C Izzi',\n",
       " 'C Jamie',\n",
       " 'C Karl',\n",
       " 'C Lola',\n",
       " 'C Melissa',\n",
       " 'C Ophelia',\n",
       " 'C Patrick',\n",
       " 'C Sam',\n",
       " 'C The Fellowship of the Ring',\n",
       " 'C The Odyssey',\n",
       " 'C The Pearl',\n",
       " 'C Ulysses',\n",
       " 'C blue ball',\n",
       " 'C blue present',\n",
       " 'C brown present',\n",
       " 'C fullback',\n",
       " 'C goalkeeper',\n",
       " 'C green present',\n",
       " 'C orange ball',\n",
       " 'C pink ball',\n",
       " 'C purple ball',\n",
       " 'C purple present',\n",
       " 'C red ball',\n",
       " 'C red present',\n",
       " 'C right midfielder',\n",
       " 'C right winger',\n",
       " 'C white ball',\n",
       " 'C white present',\n",
       " 'C yellow present'}"
      ]
     },
     "execution_count": 226,
     "metadata": {},
     "output_type": "execute_result"
    }
   ],
   "source": [
    "def map_fn(instance):    \n",
    "    return {\n",
    "        \"answer_pred\": instance[\"answer_pred\"].translate(str.maketrans(\"\", \"\", '.,()\"')) if instance[\"answer_pred\"] else None\n",
    "    }\n",
    "\n",
    "new_ds = dataset.map(map_fn, load_from_cache_file=False)\n",
    "set(new_ds[\"answer_pred\"])"
   ]
  },
  {
   "cell_type": "code",
   "execution_count": 227,
   "id": "30278cd0-b599-4bd3-9cfb-8978f15b3bd4",
   "metadata": {},
   "outputs": [
    {
     "data": {
      "application/vnd.jupyter.widget-view+json": {
       "model_id": "f44139e1e3794ae5bf3220166b2c2f6e",
       "version_major": 2,
       "version_minor": 0
      },
      "text/plain": [
       "Map:   0%|          | 0/250 [00:00<?, ? examples/s]"
      ]
     },
     "metadata": {},
     "output_type": "display_data"
    },
    {
     "data": {
      "text/plain": [
       "{'A', 'B', 'C'}"
      ]
     },
     "execution_count": 227,
     "metadata": {},
     "output_type": "execute_result"
    }
   ],
   "source": [
    "def map_fn(ins):    \n",
    "    sp = ins[\"answer_pred\"].split()\n",
    "    return {\n",
    "        \"answer_pred\": sp[0]\n",
    "    }\n",
    "\n",
    "new_ds = new_ds.map(map_fn, load_from_cache_file=False)\n",
    "set(new_ds[\"answer_pred\"])"
   ]
  },
  {
   "cell_type": "code",
   "execution_count": 228,
   "id": "adf5debc-b7bf-4e17-b4f5-66dc51998f42",
   "metadata": {},
   "outputs": [
    {
     "data": {
      "application/vnd.jupyter.widget-view+json": {
       "model_id": "8178ebe4d8954301bbad14d85b473e8b",
       "version_major": 2,
       "version_minor": 0
      },
      "text/plain": [
       "Saving the dataset (0/1 shards):   0%|          | 0/250 [00:00<?, ? examples/s]"
      ]
     },
     "metadata": {},
     "output_type": "display_data"
    }
   ],
   "source": [
    "start_string, end_string = \"non_self_synthesis/bbh/\", \"/bbh_eval\"\n",
    "cat = str(chk_dir)[str(chk_dir).find(start_string) + len(start_string) + 4:str(chk_dir).find(end_string)]\n",
    "new_ds.save_to_disk(os.path.join(save_par_dir, cat))"
   ]
  },
  {
   "cell_type": "code",
   "execution_count": 229,
   "id": "56a0469d-5887-4f65-a900-49e2caab7508",
   "metadata": {},
   "outputs": [
    {
     "data": {
      "application/vnd.jupyter.widget-view+json": {
       "model_id": "102a08279ffc4a59954d7d091e3cc539",
       "version_major": 2,
       "version_minor": 0
      },
      "text/plain": [
       "Filter:   0%|          | 0/250 [00:00<?, ? examples/s]"
      ]
     },
     "metadata": {},
     "output_type": "display_data"
    },
    {
     "data": {
      "text/plain": [
       "0.992"
      ]
     },
     "execution_count": 229,
     "metadata": {},
     "output_type": "execute_result"
    }
   ],
   "source": [
    "corr = new_ds.filter(lambda x: x[\"target\"].translate(str.maketrans(\"\", \"\", '()\"')) == x[\"answer_pred\"])\n",
    "(corr.num_rows) / new_ds.num_rows"
   ]
  },
  {
   "cell_type": "markdown",
   "id": "080e9689-0a35-46be-944d-2f768b223465",
   "metadata": {
    "jp-MarkdownHeadingCollapsed": true
   },
   "source": [
    "# web_of_lies"
   ]
  },
  {
   "cell_type": "code",
   "execution_count": 230,
   "id": "d0515e07-2539-4edc-a510-4802dd4f6b53",
   "metadata": {},
   "outputs": [],
   "source": [
    "chk_dir = here(os.path.join(par_dir, \"bbh-web_of_lies/bbh_eval\"))"
   ]
  },
  {
   "cell_type": "code",
   "execution_count": 231,
   "id": "b4496e01-3aeb-4b9f-af54-883988fac6ac",
   "metadata": {},
   "outputs": [],
   "source": [
    "dataset = Dataset.load_from_disk(chk_dir)"
   ]
  },
  {
   "cell_type": "code",
   "execution_count": 232,
   "id": "b423b1e8-babb-4821-a45e-da57918d936e",
   "metadata": {},
   "outputs": [
    {
     "data": {
      "text/plain": [
       "{'False.', None, 'True.', 'Yes.'}"
      ]
     },
     "execution_count": 232,
     "metadata": {},
     "output_type": "execute_result"
    }
   ],
   "source": [
    "set(dataset[\"answer_pred\"])"
   ]
  },
  {
   "cell_type": "code",
   "execution_count": 233,
   "id": "85d38cc7-4bbe-4324-9c2e-026c370bbf21",
   "metadata": {},
   "outputs": [
    {
     "data": {
      "application/vnd.jupyter.widget-view+json": {
       "model_id": "2fdebe9285894c789a14938594e6d77f",
       "version_major": 2,
       "version_minor": 0
      },
      "text/plain": [
       "Map:   0%|          | 0/250 [00:00<?, ? examples/s]"
      ]
     },
     "metadata": {},
     "output_type": "display_data"
    },
    {
     "data": {
      "text/plain": [
       "{'False', None, 'True', 'Yes'}"
      ]
     },
     "execution_count": 233,
     "metadata": {},
     "output_type": "execute_result"
    }
   ],
   "source": [
    "def map_fn(instance):    \n",
    "    return {\n",
    "        \"answer_pred\": instance[\"answer_pred\"].translate(str.maketrans(\"\", \"\", '.,()\"')) if instance[\"answer_pred\"] else None\n",
    "    }\n",
    "\n",
    "new_ds = dataset.map(map_fn, load_from_cache_file=False)\n",
    "set(new_ds[\"answer_pred\"])"
   ]
  },
  {
   "cell_type": "code",
   "execution_count": 234,
   "id": "f440d335-c145-4731-ac32-15bbc2dd0cd7",
   "metadata": {},
   "outputs": [
    {
     "data": {
      "application/vnd.jupyter.widget-view+json": {
       "model_id": "4957484c8ea94e8292850a7797f15152",
       "version_major": 2,
       "version_minor": 0
      },
      "text/plain": [
       "Filter:   0%|          | 0/250 [00:00<?, ? examples/s]"
      ]
     },
     "metadata": {},
     "output_type": "display_data"
    },
    {
     "data": {
      "text/plain": [
       "Dataset({\n",
       "    features: ['input', 'target', 'reasoning_formats', 'selected_modules', 'adapted_modules', 'reasoning_plan', 'reasoning', 'trajectory', 'answer_pred'],\n",
       "    num_rows: 11\n",
       "})"
      ]
     },
     "execution_count": 234,
     "metadata": {},
     "output_type": "execute_result"
    }
   ],
   "source": [
    "none_ds = new_ds.filter(lambda x: x[\"answer_pred\"] == None)\n",
    "none_ds"
   ]
  },
  {
   "cell_type": "code",
   "execution_count": 238,
   "id": "3959a89e-3e55-4fcb-ae91-32540a492c8f",
   "metadata": {},
   "outputs": [
    {
     "data": {
      "application/vnd.jupyter.widget-view+json": {
       "model_id": "189097d0d1d348d4964524478ca292c6",
       "version_major": 2,
       "version_minor": 0
      },
      "text/plain": [
       "Map:   0%|          | 0/250 [00:00<?, ? examples/s]"
      ]
     },
     "metadata": {},
     "output_type": "display_data"
    },
    {
     "data": {
      "text/plain": [
       "{'Amberly tells the truth if Conception lies.',\n",
       " 'Crista tells the truth.',\n",
       " 'False',\n",
       " 'It cannot be determined if Gwenn tells the truth.',\n",
       " 'It cannot be determined whether Elanor tells the truth based on the given information.',\n",
       " 'It cannot be determined whether Jaymie tells the truth or lies.',\n",
       " 'It cannot be determined with the given information.',\n",
       " 'Kandi does not tell the truth.',\n",
       " 'Millicent tells the truth.',\n",
       " 'Sima tells the truth.',\n",
       " 'The problem is not solvable with the given information.',\n",
       " 'True',\n",
       " 'We cannot determine if Fletcher tells the truth.',\n",
       " 'Yes'}"
      ]
     },
     "execution_count": 238,
     "metadata": {},
     "output_type": "execute_result"
    }
   ],
   "source": [
    "import re\n",
    "def map_fn(instance):\n",
    "    if instance[\"answer_pred\"] == None:\n",
    "        text = \"the final answer is:\"\n",
    "        pattern = fr\"(?<={text}).*\"\n",
    "    \n",
    "        response = instance[\"trajectory\"]\n",
    "    \n",
    "        try:\n",
    "            answer, trajectory = re.search(pattern, response).group(0).strip(), re.sub(pattern, \"\", response).replace(text, \"\").strip()\n",
    "        except:\n",
    "            answer, trajectory = None, response\n",
    "    \n",
    "        return {\n",
    "            \"trajectory\": trajectory,\n",
    "            \"answer_pred\": answer\n",
    "        }\n",
    "\n",
    "    return {\n",
    "        \"trajectory\": instance[\"trajectory\"],\n",
    "        \"answer_pred\": instance[\"answer_pred\"]\n",
    "    }\n",
    "\n",
    "new_ds = new_ds.map(map_fn)\n",
    "set(new_ds[\"answer_pred\"])"
   ]
  },
  {
   "cell_type": "code",
   "execution_count": 239,
   "id": "f02fcdc1-e8bf-4a9b-b908-0ed4addc27f3",
   "metadata": {},
   "outputs": [
    {
     "data": {
      "application/vnd.jupyter.widget-view+json": {
       "model_id": "13c45dee969b48d599705ce9ef814e20",
       "version_major": 2,
       "version_minor": 0
      },
      "text/plain": [
       "Filter:   0%|          | 0/250 [00:00<?, ? examples/s]"
      ]
     },
     "metadata": {},
     "output_type": "display_data"
    },
    {
     "data": {
      "text/plain": [
       "Dataset({\n",
       "    features: ['input', 'target', 'reasoning_formats', 'selected_modules', 'adapted_modules', 'reasoning_plan', 'reasoning', 'trajectory', 'answer_pred'],\n",
       "    num_rows: 0\n",
       "})"
      ]
     },
     "execution_count": 239,
     "metadata": {},
     "output_type": "execute_result"
    }
   ],
   "source": [
    "none_ds = new_ds.filter(lambda x: x[\"answer_pred\"] == None)\n",
    "none_ds"
   ]
  },
  {
   "cell_type": "code",
   "execution_count": 240,
   "id": "88884cde-e2ff-47b8-b872-48b02e2acadf",
   "metadata": {},
   "outputs": [
    {
     "data": {
      "application/vnd.jupyter.widget-view+json": {
       "model_id": "0a85f00443f34c388362c926dd17d1e2",
       "version_major": 2,
       "version_minor": 0
      },
      "text/plain": [
       "Map:   0%|          | 0/250 [00:00<?, ? examples/s]"
      ]
     },
     "metadata": {},
     "output_type": "display_data"
    },
    {
     "data": {
      "text/plain": [
       "{'Amberly tells the truth if Conception lies',\n",
       " 'Crista tells the truth',\n",
       " 'False',\n",
       " 'It cannot be determined if Gwenn tells the truth',\n",
       " 'It cannot be determined whether Elanor tells the truth based on the given information',\n",
       " 'It cannot be determined whether Jaymie tells the truth or lies',\n",
       " 'It cannot be determined with the given information',\n",
       " 'Kandi does not tell the truth',\n",
       " 'Millicent tells the truth',\n",
       " 'Sima tells the truth',\n",
       " 'The problem is not solvable with the given information',\n",
       " 'True',\n",
       " 'We cannot determine if Fletcher tells the truth',\n",
       " 'Yes'}"
      ]
     },
     "execution_count": 240,
     "metadata": {},
     "output_type": "execute_result"
    }
   ],
   "source": [
    "def map_fn(instance):    \n",
    "    return {\n",
    "        \"answer_pred\": instance[\"answer_pred\"].translate(str.maketrans(\"\", \"\", '.,()\"')) if instance[\"answer_pred\"] else None\n",
    "    }\n",
    "\n",
    "new_ds = new_ds.map(map_fn, load_from_cache_file=False)\n",
    "set(new_ds[\"answer_pred\"])"
   ]
  },
  {
   "cell_type": "code",
   "execution_count": 242,
   "id": "1c1679ba-9686-4b4a-b877-658fb04d5bed",
   "metadata": {},
   "outputs": [
    {
     "data": {
      "application/vnd.jupyter.widget-view+json": {
       "model_id": "6de3cb6fef004c60a85e936f10f38975",
       "version_major": 2,
       "version_minor": 0
      },
      "text/plain": [
       "Map:   0%|          | 0/250 [00:00<?, ? examples/s]"
      ]
     },
     "metadata": {},
     "output_type": "display_data"
    },
    {
     "data": {
      "text/plain": [
       "{'Amberly tells the truth if Conception lies',\n",
       " 'It cannot be determined if Gwenn tells the truth',\n",
       " 'It cannot be determined whether Elanor tells the truth based on the given information',\n",
       " 'It cannot be determined whether Jaymie tells the truth or lies',\n",
       " 'It cannot be determined with the given information',\n",
       " 'No',\n",
       " 'The problem is not solvable with the given information',\n",
       " 'We cannot determine if Fletcher tells the truth',\n",
       " 'Yes'}"
      ]
     },
     "execution_count": 242,
     "metadata": {},
     "output_type": "execute_result"
    }
   ],
   "source": [
    "# Yes list\n",
    "yes_ls = [\n",
    "    'Crista tells the truth',\n",
    "    'Millicent tells the truth',\n",
    "    'Sima tells the truth',\n",
    "    'True',\n",
    "    'Yes'\n",
    "]\n",
    "\n",
    "# No list\n",
    "no_ls = [\n",
    "    'False',\n",
    "    'Kandi does not tell the truth'\n",
    "]\n",
    "\n",
    "# Indeterminate list\n",
    "indeterminate_ls = [\n",
    "    'Amberly tells the truth if Conception lies',\n",
    "    'It cannot be determined if Gwenn tells the truth',\n",
    "    'It cannot be determined whether Elanor tells the truth based on the given information',\n",
    "    'It cannot be determined whether Jaymie tells the truth or lies',\n",
    "    'It cannot be determined with the given information',\n",
    "    'The problem is not solvable with the given information',\n",
    "    'We cannot determine if Fletcher tells the truth'\n",
    "]\n",
    "\n",
    "def map_fn(ins):\n",
    "    for yes in yes_ls:\n",
    "        if yes == ins[\"answer_pred\"]:\n",
    "            return {\n",
    "                \"answer_pred\": \"Yes\"\n",
    "            }\n",
    "\n",
    "    for no in no_ls:\n",
    "        if no == ins[\"answer_pred\"]:\n",
    "            return {\n",
    "                \"answer_pred\": \"No\"\n",
    "            }\n",
    "    return {\n",
    "        \"answer_pred\": ins[\"answer_pred\"]\n",
    "    }\n",
    "\n",
    "new_ds = new_ds.map(map_fn)\n",
    "set(new_ds[\"answer_pred\"])"
   ]
  },
  {
   "cell_type": "code",
   "execution_count": 243,
   "id": "19300114-21e5-45e7-8d6f-07f68455c3ef",
   "metadata": {},
   "outputs": [
    {
     "data": {
      "application/vnd.jupyter.widget-view+json": {
       "model_id": "93c996ad96f743729b1600d47092763f",
       "version_major": 2,
       "version_minor": 0
      },
      "text/plain": [
       "Saving the dataset (0/1 shards):   0%|          | 0/250 [00:00<?, ? examples/s]"
      ]
     },
     "metadata": {},
     "output_type": "display_data"
    }
   ],
   "source": [
    "start_string, end_string = \"non_self_synthesis/bbh/\", \"/bbh_eval\"\n",
    "cat = str(chk_dir)[str(chk_dir).find(start_string) + len(start_string) + 4:str(chk_dir).find(end_string)]\n",
    "new_ds.save_to_disk(os.path.join(save_par_dir, cat))"
   ]
  },
  {
   "cell_type": "code",
   "execution_count": 244,
   "id": "5e141fe7-20bb-4997-ac1d-beb2f13c2b83",
   "metadata": {},
   "outputs": [
    {
     "data": {
      "application/vnd.jupyter.widget-view+json": {
       "model_id": "032928228401414091fe968d38f34119",
       "version_major": 2,
       "version_minor": 0
      },
      "text/plain": [
       "Filter:   0%|          | 0/250 [00:00<?, ? examples/s]"
      ]
     },
     "metadata": {},
     "output_type": "display_data"
    },
    {
     "data": {
      "text/plain": [
       "0.892"
      ]
     },
     "execution_count": 244,
     "metadata": {},
     "output_type": "execute_result"
    }
   ],
   "source": [
    "corr = new_ds.filter(lambda x: x[\"target\"] == x[\"answer_pred\"])\n",
    "corr.num_rows / new_ds.num_rows"
   ]
  },
  {
   "cell_type": "markdown",
   "id": "1eda62f9-f223-4c31-8dca-9bc3c9869fa1",
   "metadata": {},
   "source": [
    "# word_sorting"
   ]
  },
  {
   "cell_type": "code",
   "execution_count": 288,
   "id": "f19600b8-10d1-4ab4-b337-960bc092c454",
   "metadata": {},
   "outputs": [],
   "source": [
    "chk_dir = here(os.path.join(par_dir, \"bbh-word_sorting/bbh_eval\"))"
   ]
  },
  {
   "cell_type": "code",
   "execution_count": 289,
   "id": "0602cf7b-e30b-4d1c-9cb2-f4cedcfc2155",
   "metadata": {},
   "outputs": [],
   "source": [
    "dataset = Dataset.load_from_disk(chk_dir)"
   ]
  },
  {
   "cell_type": "code",
   "execution_count": 290,
   "id": "0b50e8b9-5058-4c4c-bf95-645d22909893",
   "metadata": {},
   "outputs": [],
   "source": [
    "def map_fn(instance):    \n",
    "    return {\n",
    "        \"answer_pred\": instance[\"answer_pred\"].translate(str.maketrans(\"\", \"\", '.[]`\"')) if instance[\"answer_pred\"] else None\n",
    "    }\n",
    "\n",
    "new_ds = dataset.map(map_fn)"
   ]
  },
  {
   "cell_type": "code",
   "execution_count": 291,
   "id": "55b444b7-ae2e-47e6-b164-d3c31e320a79",
   "metadata": {},
   "outputs": [
    {
     "data": {
      "text/plain": [
       "Dataset({\n",
       "    features: ['input', 'target', 'reasoning_formats', 'selected_modules', 'adapted_modules', 'reasoning_plan', 'reasoning', 'trajectory', 'answer_pred'],\n",
       "    num_rows: 86\n",
       "})"
      ]
     },
     "execution_count": 291,
     "metadata": {},
     "output_type": "execute_result"
    }
   ],
   "source": [
    "none_ds = new_ds.filter(lambda x: x[\"answer_pred\"]==None)\n",
    "none_ds"
   ]
  },
  {
   "cell_type": "code",
   "execution_count": 292,
   "id": "7d565ed8-8cb6-49b8-bee1-2ae1d9d79911",
   "metadata": {},
   "outputs": [],
   "source": [
    "import re\n",
    "def map_fn(instance):\n",
    "    if instance[\"answer_pred\"] == None:\n",
    "        text = \"The final answer is:\"\n",
    "        pattern = fr\"(?<={text}).*\"\n",
    "    \n",
    "        response = instance[\"trajectory\"]\n",
    "    \n",
    "        try:\n",
    "            answer, trajectory = re.search(pattern, response).group(0).strip(), re.sub(pattern, \"\", response).replace(text, \"\").strip()\n",
    "        except:\n",
    "            answer, trajectory = None, response\n",
    "    \n",
    "        return {\n",
    "            \"trajectory\": trajectory,\n",
    "            \"answer_pred\": answer\n",
    "        }\n",
    "\n",
    "    return {\n",
    "        \"trajectory\": instance[\"trajectory\"],\n",
    "        \"answer_pred\": instance[\"answer_pred\"]\n",
    "    }\n",
    "\n",
    "new_ds = new_ds.map(map_fn)"
   ]
  },
  {
   "cell_type": "code",
   "execution_count": 294,
   "id": "bf928ad1-1eb3-44fa-a9d6-eaac72c9bbcd",
   "metadata": {},
   "outputs": [
    {
     "data": {
      "text/plain": [
       "'agile blackguard butt clapeyron cognoscenti flamboyant geophysical lift lightfooted manumitted mathieu meager purposive reconnaissance sawbelly scribe seaworthy wiseacre woodcut yves'"
      ]
     },
     "execution_count": 294,
     "metadata": {},
     "output_type": "execute_result"
    }
   ],
   "source": [
    "new_ds[\"target\"][0]"
   ]
  },
  {
   "cell_type": "code",
   "execution_count": 295,
   "id": "d959ee87-1594-4d3c-adb3-5b5114b853c1",
   "metadata": {},
   "outputs": [
    {
     "name": "stdout",
     "output_type": "stream",
     "text": [
      "### Step-by-Step Reasoning Plan\n",
      "\n",
      "1. **Understand the Task**:\n",
      "   - The task is to sort a list of words alphabetically.\n",
      "   - The list of words is: crossbill, bushland, capacitive, meager, ricochet, battery, enigma, wysiwyg, wallet, lipton, jane, wacke, contingent.\n",
      "\n",
      "2. **Simplify the Sorting Task**:\n",
      "   - Break down the list into smaller, manageable groups to make sorting easier.\n",
      "   - For simplicity, divide the list into groups of 3-4 words each.\n",
      "\n",
      "3. **Break Down the List**:\n",
      "   - Divide the list into smaller groups:\n",
      "     - Group 1: crossbill, bushland, capacitive\n",
      "     - Group 2: meager, ricochet, battery\n",
      "     - Group 3: enigma, wysiwyg, wallet\n",
      "     - Group 4: lipton, jane, wacke\n",
      "     - Group 5: contingent\n",
      "\n",
      "4. **Sort Each Group Alphabetically**:\n",
      "   - Sort Group 1: crossbill, bushland, capacitive\n",
      "     - Sorted Group 1: bushland, capacitive, crossbill\n",
      "   - Sort Group 2: meager, ricochet, battery\n",
      "     - Sorted Group 2: battery, meager, ricochet\n",
      "   - Sort Group 3: enigma, wysiwyg, wallet\n",
      "     - Sorted Group 3: enigma, wallet, wysiwyg\n",
      "   - Sort Group 4: lipton, jane, wacke\n",
      "     - Sorted Group 4: jane, lipton, wacke\n",
      "   - Sort Group 5: contingent\n",
      "     - Sorted Group 5: contingent\n",
      "\n",
      "5. **Merge Sorted Groups**:\n",
      "   - Merge the sorted groups back into a single list.\n",
      "   - Compare and merge the groups in a way that maintains alphabetical order.\n",
      "\n",
      "6. **Final Sorting**:\n",
      "   - After merging, ensure the final list is in alphabetical order by comparing adjacent words and swapping if necessary.\n",
      "   - Merged list: bushland, capacitive, crossbill, battery, meager, ricochet, enigma, wallet, wysiwyg, jane, lipton, wacke, contingent\n",
      "   - Final sorted list: battery, bushland, capacitive, contingent, crossbill, enigma, jane, lipton, meager, ricochet, wallet, wacke, wysiwyg\n",
      "\n",
      "7. **Verify the Result**:\n",
      "   - Double-check the final sorted list to ensure it is in correct alphabetical order.\n",
      "\n",
      "### Final Answer\n"
     ]
    }
   ],
   "source": [
    "print(new_ds[\"trajectory\"][3])"
   ]
  },
  {
   "cell_type": "code",
   "execution_count": 296,
   "id": "8a1dbd64-3f2f-43da-83dc-c963a4e3353a",
   "metadata": {},
   "outputs": [
    {
     "data": {
      "application/vnd.jupyter.widget-view+json": {
       "model_id": "3a3488f409ec420e90be9b4e846a5a07",
       "version_major": 2,
       "version_minor": 0
      },
      "text/plain": [
       "Filter:   0%|          | 0/250 [00:00<?, ? examples/s]"
      ]
     },
     "metadata": {},
     "output_type": "display_data"
    },
    {
     "data": {
      "text/plain": [
       "Dataset({\n",
       "    features: ['input', 'target', 'reasoning_formats', 'selected_modules', 'adapted_modules', 'reasoning_plan', 'reasoning', 'trajectory', 'answer_pred'],\n",
       "    num_rows: 36\n",
       "})"
      ]
     },
     "execution_count": 296,
     "metadata": {},
     "output_type": "execute_result"
    }
   ],
   "source": [
    "blank_ds = new_ds.filter(lambda x: x[\"answer_pred\"] == \"\")\n",
    "blank_ds"
   ]
  },
  {
   "cell_type": "code",
   "execution_count": 297,
   "id": "35323fc9-53e0-466a-a393-d21e45a506ad",
   "metadata": {},
   "outputs": [
    {
     "name": "stdout",
     "output_type": "stream",
     "text": [
      "### Step-by-Step Reasoning Plan\n",
      "\n",
      "1. **Identify the Core Task**:\n",
      "   - The core task is to sort the given list of words alphabetically.\n",
      "\n",
      "2. **Simplify the Sorting Task**:\n",
      "   - Break down the list of words into smaller, manageable groups to make the sorting process easier.\n",
      "\n",
      "3. **Break Down the List**:\n",
      "   - Divide the list into smaller groups. For example:\n",
      "     - Group 1: sociolinguistic, nigeria, odysseus\n",
      "     - Group 2: demystify, proton, voltaire\n",
      "     - Group 3: penny, contaminate, bighorn\n",
      "     - Group 4: stirrup\n",
      "\n",
      "4. **Sort Each Group Alphabetically**:\n",
      "   - Sort Group 1:\n",
      "     - Compare and arrange: nigeria, odysseus, sociolinguistic\n",
      "   - Sort Group 2:\n",
      "     - Compare and arrange: demystify, proton, voltaire\n",
      "   - Sort Group 3:\n",
      "     - Compare and arrange: bighorn, contaminate, penny\n",
      "   - Sort Group 4:\n",
      "     - Since there is only one word, it remains as is: stirrup\n",
      "\n",
      "5. **Merge Sorted Groups**:\n",
      "   - Merge the sorted groups back into a single list while maintaining the alphabetical order:\n",
      "     - Compare and merge the first words of each group, then the second words, and so on.\n",
      "     - Merged list: bighorn, contaminate, demystify, nigeria, odysseus, penny, proton, sociolinguistic, stirrup, voltaire\n",
      "\n",
      "6. **Verify the Final List**:\n",
      "   - Double-check the final merged list to ensure it is in correct alphabetical order.\n",
      "\n",
      "### Final List\n",
      "- bighorn\n",
      "- contaminate\n",
      "- demystify\n",
      "- nigeria\n",
      "- odysseus\n",
      "- penny\n",
      "- proton\n",
      "- sociolinguistic\n",
      "- stirrup\n",
      "- voltaire\n",
      "\n",
      "\n",
      "- bighorn\n",
      "- contaminate\n",
      "- demystify\n",
      "- nigeria\n",
      "- odysseus\n",
      "- penny\n",
      "- proton\n",
      "- sociolinguistic\n",
      "- stirrup\n",
      "- voltaire\n"
     ]
    }
   ],
   "source": [
    "print(blank_ds[4][\"trajectory\"])"
   ]
  },
  {
   "cell_type": "code",
   "execution_count": 298,
   "id": "2cf24153-8b54-4225-b0ba-f508ea7d123c",
   "metadata": {},
   "outputs": [
    {
     "data": {
      "application/vnd.jupyter.widget-view+json": {
       "model_id": "bd2635db639b44fe91f6752542011b5b",
       "version_major": 2,
       "version_minor": 0
      },
      "text/plain": [
       "Filter:   0%|          | 0/250 [00:00<?, ? examples/s]"
      ]
     },
     "metadata": {},
     "output_type": "display_data"
    },
    {
     "data": {
      "text/plain": [
       "Dataset({\n",
       "    features: ['input', 'target', 'reasoning_formats', 'selected_modules', 'adapted_modules', 'reasoning_plan', 'reasoning', 'trajectory', 'answer_pred'],\n",
       "    num_rows: 214\n",
       "})"
      ]
     },
     "execution_count": 298,
     "metadata": {},
     "output_type": "execute_result"
    }
   ],
   "source": [
    "non_blank_ds = new_ds.filter(lambda x: x[\"answer_pred\"] != \"\")\n",
    "non_blank_ds"
   ]
  },
  {
   "cell_type": "code",
   "execution_count": 299,
   "id": "3dba8d9d-ca97-4746-ac8a-17eb996bf5e8",
   "metadata": {},
   "outputs": [
    {
     "data": {
      "application/vnd.jupyter.widget-view+json": {
       "model_id": "fed9d25be7cd4648b5ef29ecbc74350f",
       "version_major": 2,
       "version_minor": 0
      },
      "text/plain": [
       "Creating CSV from Arrow format:   0%|          | 0/1 [00:00<?, ?ba/s]"
      ]
     },
     "metadata": {},
     "output_type": "display_data"
    },
    {
     "data": {
      "text/plain": [
       "332293"
      ]
     },
     "execution_count": 299,
     "metadata": {},
     "output_type": "execute_result"
    }
   ],
   "source": [
    "blank_ds.to_csv(\"./bbh_word_sorting_blank.csv\")"
   ]
  },
  {
   "cell_type": "code",
   "execution_count": 300,
   "id": "3504ca93-ce1d-4d9d-9738-6705342281ee",
   "metadata": {},
   "outputs": [
    {
     "data": {
      "text/plain": [
       "Dataset({\n",
       "    features: ['input', 'target', 'reasoning_formats', 'selected_modules', 'adapted_modules', 'reasoning_plan', 'reasoning', 'trajectory', 'answer_pred', 'id', 'answer_pred_ann', 'annotator', 'annotation_id', 'created_at', 'updated_at', 'lead_time'],\n",
       "    num_rows: 36\n",
       "})"
      ]
     },
     "execution_count": 300,
     "metadata": {},
     "output_type": "execute_result"
    }
   ],
   "source": [
    "import json\n",
    "file_name = \"./project-6-at-2024-11-12-14-05-becaaf3a.json\"\n",
    "with open(file_name, \"r\") as f:\n",
    "    blank_ds_ann = Dataset.from_list(json.load(f))\n",
    "\n",
    "blank_ds_ann"
   ]
  },
  {
   "cell_type": "code",
   "execution_count": 301,
   "id": "ec54f7d7-4042-45a3-9e03-2ad9e2f92c92",
   "metadata": {},
   "outputs": [
    {
     "data": {
      "application/vnd.jupyter.widget-view+json": {
       "model_id": "d7a6726d4261465c89d4952f83886518",
       "version_major": 2,
       "version_minor": 0
      },
      "text/plain": [
       "Map:   0%|          | 0/36 [00:00<?, ? examples/s]"
      ]
     },
     "metadata": {},
     "output_type": "display_data"
    }
   ],
   "source": [
    "def map_fn(ins):\n",
    "    return {\n",
    "        \"answer_pred\": ins[\"answer_pred_ann\"]\n",
    "    }\n",
    "\n",
    "blank_ds = blank_ds_ann.map(map_fn, remove_columns=['id', 'answer_pred_ann', 'annotator', 'annotation_id', 'created_at', 'updated_at', 'lead_time'])"
   ]
  },
  {
   "cell_type": "code",
   "execution_count": 302,
   "id": "01076530-ca00-4056-af7f-c5c5daeb9086",
   "metadata": {},
   "outputs": [
    {
     "data": {
      "text/plain": [
       "'caliber capricious eft faulkner fragile gastrointestinal headboard irishman kingsley lobby nary ouzo peaceable phillip phylum residue stamp sulfanilamide upholster'"
      ]
     },
     "execution_count": 302,
     "metadata": {},
     "output_type": "execute_result"
    }
   ],
   "source": [
    "blank_ds[5][\"answer_pred\"]"
   ]
  },
  {
   "cell_type": "code",
   "execution_count": 303,
   "id": "7e3aa717-ac8c-483a-b90e-ae459795a05d",
   "metadata": {},
   "outputs": [
    {
     "data": {
      "text/plain": [
       "Dataset({\n",
       "    features: ['input', 'target', 'reasoning_formats', 'selected_modules', 'adapted_modules', 'reasoning_plan', 'reasoning', 'trajectory', 'answer_pred'],\n",
       "    num_rows: 250\n",
       "})"
      ]
     },
     "execution_count": 303,
     "metadata": {},
     "output_type": "execute_result"
    }
   ],
   "source": [
    "from datasets import concatenate_datasets\n",
    "\n",
    "new_ds = concatenate_datasets([non_blank_ds, blank_ds])\n",
    "new_ds"
   ]
  },
  {
   "cell_type": "code",
   "execution_count": 305,
   "id": "578b7cd2-cc3b-4887-aff3-f419956ce090",
   "metadata": {},
   "outputs": [
    {
     "data": {
      "application/vnd.jupyter.widget-view+json": {
       "model_id": "cbc42e5620c84bde80d4343f62163720",
       "version_major": 2,
       "version_minor": 0
      },
      "text/plain": [
       "Filter:   0%|          | 0/250 [00:00<?, ? examples/s]"
      ]
     },
     "metadata": {},
     "output_type": "display_data"
    },
    {
     "data": {
      "text/plain": [
       "Dataset({\n",
       "    features: ['input', 'target', 'reasoning_formats', 'selected_modules', 'adapted_modules', 'reasoning_plan', 'reasoning', 'trajectory', 'answer_pred'],\n",
       "    num_rows: 1\n",
       "})"
      ]
     },
     "execution_count": 305,
     "metadata": {},
     "output_type": "execute_result"
    }
   ],
   "source": [
    "none_ds = new_ds.filter(lambda x: x[\"answer_pred\"]==None)\n",
    "none_ds"
   ]
  },
  {
   "cell_type": "code",
   "execution_count": 306,
   "id": "709e1f8f-956b-4fc9-8004-5798dea83931",
   "metadata": {},
   "outputs": [
    {
     "name": "stdout",
     "output_type": "stream",
     "text": [
      "Let's follow the reasoning plan step-by-step to sort the words alphabetically:\n",
      "\n",
      "1. **Initial List**: condescend, rampant, percolate, coltish, date, rochester, placid, significant.\n",
      "\n",
      "2. **First Pass**:\n",
      "   - condescend vs. rampant: no swap\n",
      "   - rampant vs. percolate: swap (percolate, rampant)\n",
      "   - rampant vs. coltish: swap (coltish, rampant)\n",
      "   - rampant vs. date: swap (date, rampant)\n",
      "   - rampant vs. rochester: no swap\n",
      "   - rochester vs. placid: swap (placid, rochester)\n",
      "   - rochester vs. significant: no swap\n",
      "\n",
      "   **List after First Pass**: condescend, percolate, coltish, date, rampant, placid, rochester, significant.\n",
      "\n",
      "3. **Second Pass**:\n",
      "   - condescend vs. percolate: no swap\n",
      "   - percolate vs. coltish: swap (coltish, percolate)\n",
      "   - percolate vs. date: swap (date, percolate)\n",
      "   - percolate vs. rampant: no swap\n",
      "   - rampant vs. placid: no swap\n",
      "   - placid vs. rochester: no swap\n",
      "   - rochester vs. significant: no swap\n",
      "\n",
      "   **List after Second Pass**: condescend, coltish, date, percolate, rampant, placid, rochester, significant.\n",
      "\n",
      "4. **Third Pass**:\n",
      "   - condescend vs. coltish: swap (coltish, condescend)\n",
      "   - condescend vs. date: swap (date, condescend)\n",
      "   - condescend vs. percolate: no swap\n",
      "   - percolate vs. rampant: no swap\n",
      "   - rampant vs. placid: no swap\n",
      "   - placid vs. rochester: no swap\n",
      "   - rochester vs. significant: no swap\n",
      "\n",
      "   **List after Third Pass**: coltish, date, condescend, percolate, rampant, placid, rochester, significant.\n",
      "\n",
      "5. **Fourth Pass**:\n",
      "   - coltish vs. date: no swap\n",
      "   - date vs. condescend: no swap\n",
      "   - condescend vs. percolate: no swap\n",
      "   - percolate vs. rampant: no swap\n",
      "   - rampant vs. placid: no swap\n",
      "   - placid vs. rochester: no swap\n",
      "   - rochester vs. significant: no swap\n",
      "\n",
      "   **List after Fourth Pass**: coltish, date, condescend, percolate, rampant, placid, rochester, significant.\n",
      "\n",
      "Since no more swaps are needed, the list is now sorted alphabetically.\n",
      "\n",
      "**The final answer is**: coltish, date, condescend, percolate, placid, rampant, rochester, significant.\n"
     ]
    }
   ],
   "source": [
    "print(none_ds[0][\"trajectory\"])"
   ]
  },
  {
   "cell_type": "code",
   "execution_count": 307,
   "id": "1d38b260-f3bc-41f2-9f84-beb022e57ec6",
   "metadata": {},
   "outputs": [
    {
     "data": {
      "application/vnd.jupyter.widget-view+json": {
       "model_id": "38f5ce753d8f4c6fab560db3f160a3f5",
       "version_major": 2,
       "version_minor": 0
      },
      "text/plain": [
       "Map:   0%|          | 0/250 [00:00<?, ? examples/s]"
      ]
     },
     "metadata": {},
     "output_type": "display_data"
    },
    {
     "data": {
      "application/vnd.jupyter.widget-view+json": {
       "model_id": "3946d37bfcbc4c6e83953ed760e1a981",
       "version_major": 2,
       "version_minor": 0
      },
      "text/plain": [
       "Filter:   0%|          | 0/250 [00:00<?, ? examples/s]"
      ]
     },
     "metadata": {},
     "output_type": "display_data"
    },
    {
     "data": {
      "text/plain": [
       "Dataset({\n",
       "    features: ['input', 'target', 'reasoning_formats', 'selected_modules', 'adapted_modules', 'reasoning_plan', 'reasoning', 'trajectory', 'answer_pred'],\n",
       "    num_rows: 0\n",
       "})"
      ]
     },
     "execution_count": 307,
     "metadata": {},
     "output_type": "execute_result"
    }
   ],
   "source": [
    "def map_fn(ins):\n",
    "    if ins[\"answer_pred\"] == None:\n",
    "        return {\n",
    "            \"answer_pred\": \"coltish date condescend percolate placid rampant rochester significant\"\n",
    "        }\n",
    "\n",
    "    return {\n",
    "        \"answer_pred\": ins[\"answer_pred\"]\n",
    "    }\n",
    "\n",
    "new_ds = new_ds.map(map_fn)\n",
    "none_ds = new_ds.filter(lambda x: x[\"answer_pred\"]==None)\n",
    "none_ds"
   ]
  },
  {
   "cell_type": "code",
   "execution_count": 312,
   "id": "82385bcb-d6a7-4fad-8c3f-7ec9be231997",
   "metadata": {},
   "outputs": [
    {
     "data": {
      "application/vnd.jupyter.widget-view+json": {
       "model_id": "586350cf705042978a801dde4a349e94",
       "version_major": 2,
       "version_minor": 0
      },
      "text/plain": [
       "Map:   0%|          | 0/250 [00:00<?, ? examples/s]"
      ]
     },
     "metadata": {},
     "output_type": "display_data"
    }
   ],
   "source": [
    "def map_fn(ins):\n",
    "    return {\n",
    "        \"answer_pred\": ins[\"answer_pred\"].replace(\",\", \"\")\n",
    "    }\n",
    "\n",
    "new_ds = new_ds.map(map_fn)"
   ]
  },
  {
   "cell_type": "code",
   "execution_count": 325,
   "id": "070392e1-4ca6-4794-854e-43b9fad65ab8",
   "metadata": {},
   "outputs": [
    {
     "data": {
      "application/vnd.jupyter.widget-view+json": {
       "model_id": "7bbb3792243949ff9b81eed0498c37eb",
       "version_major": 2,
       "version_minor": 0
      },
      "text/plain": [
       "Saving the dataset (0/1 shards):   0%|          | 0/250 [00:00<?, ? examples/s]"
      ]
     },
     "metadata": {},
     "output_type": "display_data"
    }
   ],
   "source": [
    "start_string, end_string = \"non_self_synthesis/bbh/\", \"/bbh_eval\"\n",
    "cat = str(chk_dir)[str(chk_dir).find(start_string) + len(start_string) + 4:str(chk_dir).find(end_string)]\n",
    "new_ds.save_to_disk(os.path.join(save_par_dir, cat))"
   ]
  },
  {
   "cell_type": "code",
   "execution_count": 313,
   "id": "9322fe15-97e4-4874-b2b3-3276bec9bcc8",
   "metadata": {},
   "outputs": [
    {
     "data": {
      "application/vnd.jupyter.widget-view+json": {
       "model_id": "896cf9b85bfe4c72a48a181a23af2792",
       "version_major": 2,
       "version_minor": 0
      },
      "text/plain": [
       "Filter:   0%|          | 0/250 [00:00<?, ? examples/s]"
      ]
     },
     "metadata": {},
     "output_type": "display_data"
    },
    {
     "data": {
      "text/plain": [
       "0.636"
      ]
     },
     "execution_count": 313,
     "metadata": {},
     "output_type": "execute_result"
    }
   ],
   "source": [
    "corr = new_ds.filter(lambda x: x[\"target\"].lower() == x[\"answer_pred\"].lower())\n",
    "corr.num_rows / new_ds.num_rows"
   ]
  },
  {
   "cell_type": "code",
   "execution_count": 314,
   "id": "f3bb4297-87c7-4eff-b2f8-204b78377a68",
   "metadata": {},
   "outputs": [
    {
     "data": {
      "application/vnd.jupyter.widget-view+json": {
       "model_id": "5ced185da5dd4a55aea374b0f05e040e",
       "version_major": 2,
       "version_minor": 0
      },
      "text/plain": [
       "Filter:   0%|          | 0/250 [00:00<?, ? examples/s]"
      ]
     },
     "metadata": {},
     "output_type": "display_data"
    },
    {
     "data": {
      "text/plain": [
       "Dataset({\n",
       "    features: ['input', 'target', 'reasoning_formats', 'selected_modules', 'adapted_modules', 'reasoning_plan', 'reasoning', 'trajectory', 'answer_pred'],\n",
       "    num_rows: 91\n",
       "})"
      ]
     },
     "execution_count": 314,
     "metadata": {},
     "output_type": "execute_result"
    }
   ],
   "source": [
    "wro = new_ds.filter(lambda x: x[\"target\"].lower() != x[\"answer_pred\"].lower())\n",
    "wro"
   ]
  },
  {
   "cell_type": "code",
   "execution_count": 324,
   "id": "2878a31d-9270-4990-9a90-aad6cac20f0e",
   "metadata": {},
   "outputs": [
    {
     "name": "stdout",
     "output_type": "stream",
     "text": [
      "affable almost antic apache astute dandelion deadlock delphic execution fortunate horntail leverage levitate libertarian sanction scathe semitic storehouse sweeney unbeknownst\n",
      "++++++++++++++++++++++++++++++++++++++++++++++++++++++++++++++++++++++++++++++++\n",
      "almost antic apache astute affable deadlock delphic dandelion execution fortunate horntail levitate leverage libertarian sanction scathe semitic storehouse sweeney unbeknownst\n"
     ]
    }
   ],
   "source": [
    "index = 51\n",
    "\n",
    "print(wro[index][\"target\"])\n",
    "print(\"+\"*80)\n",
    "print(wro[index][\"answer_pred\"])"
   ]
  },
  {
   "cell_type": "markdown",
   "id": "f4d3ed3a-991a-4e55-9c18-b5e0464c799c",
   "metadata": {
    "jp-MarkdownHeadingCollapsed": true
   },
   "source": [
    "# multistep_arithmetic_two"
   ]
  },
  {
   "cell_type": "code",
   "execution_count": 150,
   "id": "deef90b6-1ce8-461b-a5d2-81740edfbc83",
   "metadata": {},
   "outputs": [],
   "source": [
    "chk_dir = here(os.path.join(par_dir, \"bbh-multistep_arithmetic_two/bbh_eval\"))"
   ]
  },
  {
   "cell_type": "code",
   "execution_count": 151,
   "id": "20d3cfd8-597d-4960-af11-1bc0b15e5af6",
   "metadata": {},
   "outputs": [],
   "source": [
    "dataset = Dataset.load_from_disk(chk_dir)"
   ]
  },
  {
   "cell_type": "code",
   "execution_count": 155,
   "id": "7ceabbfa-0cdd-4e5a-b7ae-249d87d9ba6c",
   "metadata": {},
   "outputs": [
    {
     "data": {
      "application/vnd.jupyter.widget-view+json": {
       "model_id": "f00f4653704f4f1e9a935f99bfbc21a1",
       "version_major": 2,
       "version_minor": 0
      },
      "text/plain": [
       "Map:   0%|          | 0/250 [00:00<?, ? examples/s]"
      ]
     },
     "metadata": {},
     "output_type": "display_data"
    },
    {
     "data": {
      "text/plain": [
       "{' 108 ',\n",
       " '-1',\n",
       " '-10',\n",
       " '-11',\n",
       " '-110',\n",
       " '-113',\n",
       " '-114',\n",
       " '-11520',\n",
       " '-13',\n",
       " '-1300',\n",
       " '-1343',\n",
       " '-147',\n",
       " '-15',\n",
       " '-151',\n",
       " '-168',\n",
       " '-169',\n",
       " '-17',\n",
       " '-170',\n",
       " '-18',\n",
       " '-19',\n",
       " '-192',\n",
       " '-196',\n",
       " '-1960',\n",
       " '-20',\n",
       " '-21',\n",
       " '-2146',\n",
       " '-22',\n",
       " '-224',\n",
       " '-23',\n",
       " '-235',\n",
       " '-24',\n",
       " '-240',\n",
       " '-2448',\n",
       " '-25',\n",
       " '-26',\n",
       " '-262',\n",
       " '-264',\n",
       " '-3',\n",
       " '-30',\n",
       " '-3136',\n",
       " '-316',\n",
       " '-32',\n",
       " '-320',\n",
       " '-33',\n",
       " '-330',\n",
       " '-340',\n",
       " '-3400',\n",
       " '-343',\n",
       " '-35',\n",
       " '-37',\n",
       " '-38',\n",
       " '-3850',\n",
       " '-39',\n",
       " '-391',\n",
       " '-39960',\n",
       " '-4',\n",
       " '-43',\n",
       " '-46',\n",
       " '-48',\n",
       " '-5',\n",
       " '-50',\n",
       " '-51',\n",
       " '-52',\n",
       " '-5453',\n",
       " '-55',\n",
       " '-554',\n",
       " '-57',\n",
       " '-6',\n",
       " '-60',\n",
       " '-61',\n",
       " '-658',\n",
       " '-7',\n",
       " '-71',\n",
       " '-76',\n",
       " '-8',\n",
       " '-80',\n",
       " '-81',\n",
       " '-83',\n",
       " '-8304',\n",
       " '-84',\n",
       " '-8840',\n",
       " '-89',\n",
       " '-9',\n",
       " '-92',\n",
       " '-97',\n",
       " '-99',\n",
       " '0',\n",
       " '10',\n",
       " '101',\n",
       " '105',\n",
       " '107',\n",
       " '11',\n",
       " '11050',\n",
       " '1168',\n",
       " '12',\n",
       " '120',\n",
       " '128',\n",
       " '14',\n",
       " '140',\n",
       " '15',\n",
       " '150',\n",
       " '1608',\n",
       " '17',\n",
       " '18',\n",
       " '181',\n",
       " '198',\n",
       " '1980',\n",
       " '2',\n",
       " '20',\n",
       " '21',\n",
       " '211',\n",
       " '216',\n",
       " '220',\n",
       " '2240',\n",
       " '24',\n",
       " '25',\n",
       " '250992',\n",
       " '26',\n",
       " '2652',\n",
       " '27',\n",
       " '3',\n",
       " '30',\n",
       " '3078',\n",
       " '31',\n",
       " '312',\n",
       " '32',\n",
       " '3255',\n",
       " '33',\n",
       " '330',\n",
       " '336',\n",
       " '34',\n",
       " '343',\n",
       " '346',\n",
       " '35',\n",
       " '36',\n",
       " '360',\n",
       " '365',\n",
       " '37',\n",
       " '38',\n",
       " '38556',\n",
       " '4',\n",
       " '40',\n",
       " '41',\n",
       " '416',\n",
       " '42',\n",
       " '44',\n",
       " '443',\n",
       " '45',\n",
       " '464',\n",
       " '474',\n",
       " '48',\n",
       " '49',\n",
       " '5',\n",
       " '52',\n",
       " '522',\n",
       " '53',\n",
       " '54',\n",
       " '57',\n",
       " '58',\n",
       " '59',\n",
       " '60',\n",
       " '63',\n",
       " '630',\n",
       " '65',\n",
       " '70',\n",
       " '702',\n",
       " '7056',\n",
       " '71',\n",
       " '72',\n",
       " '76',\n",
       " '78',\n",
       " '8',\n",
       " '83',\n",
       " '867',\n",
       " '88',\n",
       " '89',\n",
       " '94',\n",
       " '976',\n",
       " None}"
      ]
     },
     "execution_count": 155,
     "metadata": {},
     "output_type": "execute_result"
    }
   ],
   "source": [
    "def map_fn(instance):    \n",
    "    return {\n",
    "        \"answer_pred\": instance[\"answer_pred\"].translate(str.maketrans(\"\", \"\", '.[]*\\()\"`')) if instance[\"answer_pred\"] else None\n",
    "    }\n",
    "\n",
    "new_ds = dataset.map(map_fn)\n",
    "set(new_ds[\"answer_pred\"])"
   ]
  },
  {
   "cell_type": "code",
   "execution_count": 157,
   "id": "bda52d3d-275b-4cd5-9064-7af5556e0c7b",
   "metadata": {},
   "outputs": [
    {
     "data": {
      "application/vnd.jupyter.widget-view+json": {
       "model_id": "180f65e488ad4719ba9490f893e3bd87",
       "version_major": 2,
       "version_minor": 0
      },
      "text/plain": [
       "Filter:   0%|          | 0/250 [00:00<?, ? examples/s]"
      ]
     },
     "metadata": {},
     "output_type": "display_data"
    },
    {
     "data": {
      "text/plain": [
       "Dataset({\n",
       "    features: ['input', 'target', 'reasoning_formats', 'selected_modules', 'adapted_modules', 'reasoning_plan', 'reasoning', 'trajectory', 'answer_pred'],\n",
       "    num_rows: 2\n",
       "})"
      ]
     },
     "execution_count": 157,
     "metadata": {},
     "output_type": "execute_result"
    }
   ],
   "source": [
    "none_ds = new_ds.filter(lambda x: x[\"answer_pred\"] == None)\n",
    "none_ds"
   ]
  },
  {
   "cell_type": "code",
   "execution_count": 160,
   "id": "790ee42a-3202-4b16-90bc-19a47e7fac26",
   "metadata": {},
   "outputs": [
    {
     "name": "stdout",
     "output_type": "stream",
     "text": [
      "Let's follow the reasoning plan step-by-step to solve the given arithmetic expression:\n",
      "\n",
      "### Step 1: Simplify the Expression within the Parentheses\n",
      "\n",
      "First, we simplify the expression inside the first set of parentheses:\n",
      "\\[ (-9 + -7 + -1 - -1) \\]\n",
      "\n",
      "- Combine like terms:\n",
      "  \\[ -9 + -7 + -1 - -1 = -9 - 7 - 1 + 1 \\]\n",
      "\n",
      "- Simplify `-1 - -1` to `0`:\n",
      "  \\[ -9 - 7 - 1 + 1 = -9 - 7 + 0 \\]\n",
      "\n",
      "- Combine the remaining terms:\n",
      "  \\[ -9 - 7 = -16 \\]\n",
      "\n",
      "So, the first part simplifies to:\n",
      "\\[ -16 \\]\n",
      "\n",
      "Next, we simplify the expression inside the second set of parentheses:\n",
      "\\[ (3 - -7 - -1 * 0) \\]\n",
      "\n",
      "- Simplify `-1 * 0` to `0`:\n",
      "  \\[ 3 - -7 - 0 = 3 - -7 \\]\n",
      "\n",
      "- Simplify `- -7` to `7`:\n",
      "  \\[ 3 + 7 \\]\n",
      "\n",
      "- Combine the terms:\n",
      "  \\[ 3 + 7 = 10 \\]\n",
      "\n",
      "So, the second part simplifies to:\n",
      "\\[ 10 \\]\n",
      "\n",
      "### Step 2: Break Down the Expression\n",
      "\n",
      "Now the expression is simplified to:\n",
      "\\[ (-16) * (10) \\]\n",
      "\n",
      "### Step 3: Apply Order of Operations\n",
      "\n",
      "Perform the multiplication:\n",
      "\\[ -16 * 10 = -160 \\]\n",
      "\n",
      "### Step 4: Create a Step-by-Step Plan\n",
      "\n",
      "- Step 1: Simplify `(-9 + -7 + -1 - -1)` to `-16`.\n",
      "- Step 2: Simplify `(3 - -7 - -1 * 0)` to `10`.\n",
      "- Step 3: Multiply `-16` by `10` to get `-160`.\n",
      "\n",
      "### Conclusion\n",
      "\n",
      "The final answer is:\n",
      "\\[ -160 \\]\n",
      "Let's follow the reasoning plan step-by-step to solve the expression:\n",
      "\n",
      "### Step 1: Simplify the Innermost Parentheses\n",
      "\n",
      "First, we need to simplify the expression inside the parentheses:\n",
      "\n",
      "\\[ ((-6 + -9 - -6 + -1) + (-8 * 5 * -6 + 7)) \\]\n",
      "\n",
      "### Step 2: Solve the First Part\n",
      "\n",
      "Simplify the first part:\n",
      "\n",
      "\\[ (-6 + -9 - -6 + -1) \\]\n",
      "\n",
      "Break it down into smaller steps:\n",
      "\n",
      "1. \\(-6 + -9 = -15\\)\n",
      "2. \\(-15 - -6 = -15 + 6 = -9\\)\n",
      "3. \\(-9 + -1 = -10\\)\n",
      "\n",
      "So, the first part simplifies to:\n",
      "\n",
      "\\[ -10 \\]\n",
      "\n",
      "### Step 3: Solve the Second Part\n",
      "\n",
      "Simplify the second part:\n",
      "\n",
      "\\[ (-8 * 5 * -6 + 7) \\]\n",
      "\n",
      "Break it down into smaller steps:\n",
      "\n",
      "1. \\(-8 * 5 = -40\\)\n",
      "2. \\(-40 * -6 = 240\\)\n",
      "3. \\(240 + 7 = 247\\)\n",
      "\n",
      "So, the second part simplifies to:\n",
      "\n",
      "\\[ 247 \\]\n",
      "\n",
      "### Step 4: Combine the Results\n",
      "\n",
      "Now, combine the results from the first and second parts:\n",
      "\n",
      "\\[ -10 + 247 \\]\n",
      "\n",
      "### Step 5: Final Calculation\n",
      "\n",
      "Perform the final addition:\n",
      "\n",
      "\\[ -10 + 247 = 237 \\]\n",
      "\n",
      "### Conclusion\n",
      "\n",
      "The final answer is:\n",
      "\n",
      "\\[ 237 \\]\n"
     ]
    }
   ],
   "source": [
    "print(none_ds[0][\"trajectory\"])\n",
    "print(none_ds[1][\"trajectory\"])"
   ]
  },
  {
   "cell_type": "code",
   "execution_count": 162,
   "id": "e7797713-1462-45ae-a637-26fabb81f3ed",
   "metadata": {},
   "outputs": [
    {
     "data": {
      "application/vnd.jupyter.widget-view+json": {
       "model_id": "8f4ba59621c5480b8bb1805af2c68968",
       "version_major": 2,
       "version_minor": 0
      },
      "text/plain": [
       "Map:   0%|          | 0/250 [00:00<?, ? examples/s]"
      ]
     },
     "metadata": {},
     "output_type": "display_data"
    }
   ],
   "source": [
    "def map_fn(ins):\n",
    "    if \"- Step 1: Simplify `(-9 + -7 + -1 - -1)` to `-16`.\" in ins[\"trajectory\"]:\n",
    "        return {\n",
    "            \"answer_pred\": \"-160\"\n",
    "        }\n",
    "\n",
    "    if \"\\[ (-8 * 5 * -6 + 7) \\]\" in ins[\"trajectory\"]:\n",
    "        return {\n",
    "            \"answer_pred\": \"237\"\n",
    "        }\n",
    "\n",
    "    return {\n",
    "        \"answer_pred\": ins[\"answer_pred\"]\n",
    "    }\n",
    "\n",
    "new_ds = new_ds.map(map_fn)"
   ]
  },
  {
   "cell_type": "code",
   "execution_count": 163,
   "id": "3587f8fe-81a8-4e86-9857-adc3929fdef0",
   "metadata": {},
   "outputs": [
    {
     "data": {
      "application/vnd.jupyter.widget-view+json": {
       "model_id": "efe41545cbf74c2a83e1e5f03c4f8707",
       "version_major": 2,
       "version_minor": 0
      },
      "text/plain": [
       "Filter:   0%|          | 0/250 [00:00<?, ? examples/s]"
      ]
     },
     "metadata": {},
     "output_type": "display_data"
    },
    {
     "data": {
      "text/plain": [
       "0.92"
      ]
     },
     "execution_count": 163,
     "metadata": {},
     "output_type": "execute_result"
    }
   ],
   "source": [
    "corr = new_ds.filter(lambda x: x[\"target\"] == x[\"answer_pred\"])\n",
    "corr.num_rows / new_ds.num_rows"
   ]
  },
  {
   "cell_type": "code",
   "execution_count": 164,
   "id": "9fbd67b3-0132-45fa-b501-1bce5c4eeef9",
   "metadata": {},
   "outputs": [
    {
     "data": {
      "application/vnd.jupyter.widget-view+json": {
       "model_id": "29db6f532ee24ed5ac3979a10b28c9ad",
       "version_major": 2,
       "version_minor": 0
      },
      "text/plain": [
       "Saving the dataset (0/1 shards):   0%|          | 0/250 [00:00<?, ? examples/s]"
      ]
     },
     "metadata": {},
     "output_type": "display_data"
    }
   ],
   "source": [
    "start_string, end_string = \"non_self_synthesis/bbh/\", \"/bbh_eval\"\n",
    "cat = str(chk_dir)[str(chk_dir).find(start_string) + len(start_string) + 4:str(chk_dir).find(end_string)]\n",
    "new_ds.save_to_disk(os.path.join(save_par_dir, cat))"
   ]
  },
  {
   "cell_type": "markdown",
   "id": "057c8d98-d8ae-4ff8-93a4-6ad53b9858c0",
   "metadata": {
    "jp-MarkdownHeadingCollapsed": true
   },
   "source": [
    "# navigate"
   ]
  },
  {
   "cell_type": "code",
   "execution_count": 165,
   "id": "8ad4d223-4247-4f4d-aff5-6a71f59780db",
   "metadata": {},
   "outputs": [],
   "source": [
    "chk_dir = here(os.path.join(par_dir, \"bbh-navigate/bbh_eval\"))"
   ]
  },
  {
   "cell_type": "code",
   "execution_count": 166,
   "id": "0649d73e-b374-4453-9379-d39d3ddb10ee",
   "metadata": {},
   "outputs": [],
   "source": [
    "dataset = Dataset.load_from_disk(chk_dir)"
   ]
  },
  {
   "cell_type": "code",
   "execution_count": 167,
   "id": "652ee422-f4c9-4109-96bf-97eceeca2a5f",
   "metadata": {},
   "outputs": [
    {
     "data": {
      "text/plain": [
       "{'No.', 'Yes.', 'Yes.**'}"
      ]
     },
     "execution_count": 167,
     "metadata": {},
     "output_type": "execute_result"
    }
   ],
   "source": [
    "set(dataset[\"answer_pred\"])"
   ]
  },
  {
   "cell_type": "code",
   "execution_count": 170,
   "id": "09feb30c-8509-4ee1-ada8-44061390cad4",
   "metadata": {},
   "outputs": [
    {
     "data": {
      "application/vnd.jupyter.widget-view+json": {
       "model_id": "d771e53d6e65436a81d781b674473e1f",
       "version_major": 2,
       "version_minor": 0
      },
      "text/plain": [
       "Map:   0%|          | 0/250 [00:00<?, ? examples/s]"
      ]
     },
     "metadata": {},
     "output_type": "display_data"
    },
    {
     "data": {
      "text/plain": [
       "{'No', 'Yes'}"
      ]
     },
     "execution_count": 170,
     "metadata": {},
     "output_type": "execute_result"
    }
   ],
   "source": [
    "def map_fn(instance):    \n",
    "    return {\n",
    "        \"answer_pred\": instance[\"answer_pred\"].translate(str.maketrans(\"\", \"\", '.[]*\"')) if instance[\"answer_pred\"] else None\n",
    "    }\n",
    "\n",
    "new_ds = dataset.map(map_fn)\n",
    "set(new_ds[\"answer_pred\"])"
   ]
  },
  {
   "cell_type": "code",
   "execution_count": 171,
   "id": "2940870d-4362-4e95-96dd-0432a09cf389",
   "metadata": {},
   "outputs": [
    {
     "data": {
      "application/vnd.jupyter.widget-view+json": {
       "model_id": "25c764086cba4a469d7afee954d02f83",
       "version_major": 2,
       "version_minor": 0
      },
      "text/plain": [
       "Filter:   0%|          | 0/250 [00:00<?, ? examples/s]"
      ]
     },
     "metadata": {},
     "output_type": "display_data"
    },
    {
     "data": {
      "text/plain": [
       "0.968"
      ]
     },
     "execution_count": 171,
     "metadata": {},
     "output_type": "execute_result"
    }
   ],
   "source": [
    "corr = new_ds.filter(lambda x: x[\"target\"] == x[\"answer_pred\"])\n",
    "corr.num_rows / new_ds.num_rows"
   ]
  },
  {
   "cell_type": "code",
   "execution_count": 172,
   "id": "5f4281aa-c8c8-4c59-9146-35962e16c2b9",
   "metadata": {},
   "outputs": [
    {
     "data": {
      "application/vnd.jupyter.widget-view+json": {
       "model_id": "568b060be2a547fa86fbd6848dc05720",
       "version_major": 2,
       "version_minor": 0
      },
      "text/plain": [
       "Saving the dataset (0/1 shards):   0%|          | 0/250 [00:00<?, ? examples/s]"
      ]
     },
     "metadata": {},
     "output_type": "display_data"
    }
   ],
   "source": [
    "start_string, end_string = \"non_self_synthesis/bbh/\", \"/bbh_eval\"\n",
    "cat = str(chk_dir)[str(chk_dir).find(start_string) + len(start_string) + 4:str(chk_dir).find(end_string)]\n",
    "new_ds.save_to_disk(os.path.join(save_par_dir, cat))"
   ]
  },
  {
   "cell_type": "markdown",
   "id": "43d8d9c7-392c-4a4d-a705-427e8f54fb6d",
   "metadata": {
    "jp-MarkdownHeadingCollapsed": true
   },
   "source": [
    "# object_counting"
   ]
  },
  {
   "cell_type": "code",
   "execution_count": 173,
   "id": "9dd967f3-8ff3-4b2d-8c78-2251a39c4e8e",
   "metadata": {},
   "outputs": [],
   "source": [
    "chk_dir = here(os.path.join(par_dir, \"bbh-object_counting/bbh_eval\"))"
   ]
  },
  {
   "cell_type": "code",
   "execution_count": 174,
   "id": "9d7f380b-92b1-4622-b33e-a2ef3db1b6d5",
   "metadata": {},
   "outputs": [],
   "source": [
    "dataset = Dataset.load_from_disk(chk_dir)"
   ]
  },
  {
   "cell_type": "code",
   "execution_count": 175,
   "id": "e2d71572-f273-4cc6-943e-151f84b4dd3b",
   "metadata": {},
   "outputs": [
    {
     "data": {
      "text/plain": [
       "{'10.',\n",
       " '11.',\n",
       " '12.',\n",
       " '13.',\n",
       " '14.',\n",
       " '15.',\n",
       " '16.',\n",
       " '17.',\n",
       " '18.',\n",
       " '2.',\n",
       " '3.',\n",
       " '4.',\n",
       " '5.',\n",
       " '6.',\n",
       " '7.',\n",
       " '8.',\n",
       " '9.'}"
      ]
     },
     "execution_count": 175,
     "metadata": {},
     "output_type": "execute_result"
    }
   ],
   "source": [
    "set(dataset[\"answer_pred\"])"
   ]
  },
  {
   "cell_type": "code",
   "execution_count": 176,
   "id": "43bf39a0-78ed-4f86-ab37-19c50fc2ebee",
   "metadata": {},
   "outputs": [
    {
     "data": {
      "application/vnd.jupyter.widget-view+json": {
       "model_id": "c27826e153a447e68d6f301af59d2e16",
       "version_major": 2,
       "version_minor": 0
      },
      "text/plain": [
       "Map:   0%|          | 0/250 [00:00<?, ? examples/s]"
      ]
     },
     "metadata": {},
     "output_type": "display_data"
    },
    {
     "data": {
      "text/plain": [
       "{'10',\n",
       " '11',\n",
       " '12',\n",
       " '13',\n",
       " '14',\n",
       " '15',\n",
       " '16',\n",
       " '17',\n",
       " '18',\n",
       " '2',\n",
       " '3',\n",
       " '4',\n",
       " '5',\n",
       " '6',\n",
       " '7',\n",
       " '8',\n",
       " '9'}"
      ]
     },
     "execution_count": 176,
     "metadata": {},
     "output_type": "execute_result"
    }
   ],
   "source": [
    "def map_fn(instance):    \n",
    "    return {\n",
    "        \"answer_pred\": instance[\"answer_pred\"].translate(str.maketrans(\"\", \"\", '.[]\"')) if instance[\"answer_pred\"] else None\n",
    "    }\n",
    "\n",
    "new_ds = dataset.map(map_fn)\n",
    "set(new_ds[\"answer_pred\"])"
   ]
  },
  {
   "cell_type": "code",
   "execution_count": 177,
   "id": "c8a77d25-07fc-440b-b200-ab3d66f89c17",
   "metadata": {},
   "outputs": [
    {
     "data": {
      "application/vnd.jupyter.widget-view+json": {
       "model_id": "c7c8fc3225964b5f8e9f8295174a646b",
       "version_major": 2,
       "version_minor": 0
      },
      "text/plain": [
       "Filter:   0%|          | 0/250 [00:00<?, ? examples/s]"
      ]
     },
     "metadata": {},
     "output_type": "display_data"
    },
    {
     "data": {
      "text/plain": [
       "0.976"
      ]
     },
     "execution_count": 177,
     "metadata": {},
     "output_type": "execute_result"
    }
   ],
   "source": [
    "corr = new_ds.filter(lambda x: x[\"target\"] == x[\"answer_pred\"])\n",
    "corr.num_rows / new_ds.num_rows"
   ]
  },
  {
   "cell_type": "code",
   "execution_count": 178,
   "id": "40888b67-21c7-4547-9d40-05b9f3fbc312",
   "metadata": {},
   "outputs": [
    {
     "data": {
      "application/vnd.jupyter.widget-view+json": {
       "model_id": "e85f3fa9655544bd8e282a7e7da6945d",
       "version_major": 2,
       "version_minor": 0
      },
      "text/plain": [
       "Saving the dataset (0/1 shards):   0%|          | 0/250 [00:00<?, ? examples/s]"
      ]
     },
     "metadata": {},
     "output_type": "display_data"
    }
   ],
   "source": [
    "start_string, end_string = \"non_self_synthesis/bbh/\", \"/bbh_eval\"\n",
    "cat = str(chk_dir)[str(chk_dir).find(start_string) + len(start_string) + 4:str(chk_dir).find(end_string)]\n",
    "new_ds.save_to_disk(os.path.join(save_par_dir, cat))"
   ]
  }
 ],
 "metadata": {
  "kernelspec": {
   "display_name": "Python 3 (ipykernel)",
   "language": "python",
   "name": "python3"
  },
  "language_info": {
   "codemirror_mode": {
    "name": "ipython",
    "version": 3
   },
   "file_extension": ".py",
   "mimetype": "text/x-python",
   "name": "python",
   "nbconvert_exporter": "python",
   "pygments_lexer": "ipython3",
   "version": "3.8.10"
  }
 },
 "nbformat": 4,
 "nbformat_minor": 5
}
