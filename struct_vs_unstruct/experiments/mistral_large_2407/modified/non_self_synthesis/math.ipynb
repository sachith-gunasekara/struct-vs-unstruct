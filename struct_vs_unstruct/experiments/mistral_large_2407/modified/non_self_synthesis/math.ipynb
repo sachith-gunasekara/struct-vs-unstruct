{
 "cells": [
  {
   "cell_type": "code",
   "execution_count": 20,
   "id": "6b84502e-c7bd-4f41-bc95-7afdac4cd95e",
   "metadata": {},
   "outputs": [
    {
     "name": "stdout",
     "output_type": "stream",
     "text": [
      "Collecting mdtex2html\n",
      "  Downloading mdtex2html-1.3.0-py3-none-any.whl.metadata (4.1 kB)\n",
      "Collecting markdown (from mdtex2html)\n",
      "  Using cached Markdown-3.7-py3-none-any.whl.metadata (7.0 kB)\n",
      "Collecting latex2mathml (from mdtex2html)\n",
      "  Downloading latex2mathml-3.77.0-py3-none-any.whl.metadata (14 kB)\n",
      "Requirement already satisfied: importlib-metadata>=4.4 in /home/ubuntu/jupyter/env/lib/python3.8/site-packages (from markdown->mdtex2html) (7.1.0)\n",
      "Requirement already satisfied: zipp>=0.5 in /home/ubuntu/jupyter/env/lib/python3.8/site-packages (from importlib-metadata>=4.4->markdown->mdtex2html) (3.18.2)\n",
      "Downloading mdtex2html-1.3.0-py3-none-any.whl (13 kB)\n",
      "Downloading latex2mathml-3.77.0-py3-none-any.whl (73 kB)\n",
      "Using cached Markdown-3.7-py3-none-any.whl (106 kB)\n",
      "Installing collected packages: latex2mathml, markdown, mdtex2html\n",
      "Successfully installed latex2mathml-3.77.0 markdown-3.7 mdtex2html-1.3.0\n"
     ]
    }
   ],
   "source": [
    "!pip install mdtex2html"
   ]
  },
  {
   "cell_type": "code",
   "execution_count": 32,
   "id": "a13c8e9c-657a-48f1-a07f-49e25a090a4c",
   "metadata": {},
   "outputs": [
    {
     "name": "stdout",
     "output_type": "stream",
     "text": [
      "Collecting matplotlib\n",
      "  Downloading matplotlib-3.7.5-cp38-cp38-manylinux_2_17_aarch64.manylinux2014_aarch64.whl.metadata (5.7 kB)\n",
      "Collecting contourpy>=1.0.1 (from matplotlib)\n",
      "  Downloading contourpy-1.1.1-cp38-cp38-manylinux_2_17_aarch64.manylinux2014_aarch64.whl.metadata (5.9 kB)\n",
      "Collecting cycler>=0.10 (from matplotlib)\n",
      "  Downloading cycler-0.12.1-py3-none-any.whl.metadata (3.8 kB)\n",
      "Collecting fonttools>=4.22.0 (from matplotlib)\n",
      "  Downloading fonttools-4.54.1-cp38-cp38-manylinux_2_17_aarch64.manylinux2014_aarch64.whl.metadata (163 kB)\n",
      "Collecting kiwisolver>=1.0.1 (from matplotlib)\n",
      "  Downloading kiwisolver-1.4.7-cp38-cp38-manylinux_2_17_aarch64.manylinux2014_aarch64.whl.metadata (6.3 kB)\n",
      "Requirement already satisfied: numpy<2,>=1.20 in /home/ubuntu/jupyter/env/lib/python3.8/site-packages (from matplotlib) (1.24.4)\n",
      "Requirement already satisfied: packaging>=20.0 in /home/ubuntu/jupyter/env/lib/python3.8/site-packages (from matplotlib) (24.1)\n",
      "Collecting pillow>=6.2.0 (from matplotlib)\n",
      "  Downloading pillow-10.4.0-cp38-cp38-manylinux_2_28_aarch64.whl.metadata (9.2 kB)\n",
      "Collecting pyparsing>=2.3.1 (from matplotlib)\n",
      "  Downloading pyparsing-3.1.4-py3-none-any.whl.metadata (5.1 kB)\n",
      "Requirement already satisfied: python-dateutil>=2.7 in /home/ubuntu/jupyter/env/lib/python3.8/site-packages (from matplotlib) (2.9.0.post0)\n",
      "Requirement already satisfied: importlib-resources>=3.2.0 in /home/ubuntu/jupyter/env/lib/python3.8/site-packages (from matplotlib) (6.4.0)\n",
      "Requirement already satisfied: zipp>=3.1.0 in /home/ubuntu/jupyter/env/lib/python3.8/site-packages (from importlib-resources>=3.2.0->matplotlib) (3.18.2)\n",
      "Requirement already satisfied: six>=1.5 in /home/ubuntu/jupyter/env/lib/python3.8/site-packages (from python-dateutil>=2.7->matplotlib) (1.16.0)\n",
      "Downloading matplotlib-3.7.5-cp38-cp38-manylinux_2_17_aarch64.manylinux2014_aarch64.whl (11.4 MB)\n",
      "\u001b[2K   \u001b[90m━━━━━━━━━━━━━━━━━━━━━━━━━━━━━━━━━━━━━━━━\u001b[0m \u001b[32m11.4/11.4 MB\u001b[0m \u001b[31m104.1 MB/s\u001b[0m eta \u001b[36m0:00:00\u001b[0m\n",
      "\u001b[?25hDownloading contourpy-1.1.1-cp38-cp38-manylinux_2_17_aarch64.manylinux2014_aarch64.whl (285 kB)\n",
      "Downloading cycler-0.12.1-py3-none-any.whl (8.3 kB)\n",
      "Downloading fonttools-4.54.1-cp38-cp38-manylinux_2_17_aarch64.manylinux2014_aarch64.whl (4.7 MB)\n",
      "\u001b[2K   \u001b[90m━━━━━━━━━━━━━━━━━━━━━━━━━━━━━━━━━━━━━━━━\u001b[0m \u001b[32m4.7/4.7 MB\u001b[0m \u001b[31m104.0 MB/s\u001b[0m eta \u001b[36m0:00:00\u001b[0m\n",
      "\u001b[?25hDownloading kiwisolver-1.4.7-cp38-cp38-manylinux_2_17_aarch64.manylinux2014_aarch64.whl (1.4 MB)\n",
      "\u001b[2K   \u001b[90m━━━━━━━━━━━━━━━━━━━━━━━━━━━━━━━━━━━━━━━━\u001b[0m \u001b[32m1.4/1.4 MB\u001b[0m \u001b[31m70.3 MB/s\u001b[0m eta \u001b[36m0:00:00\u001b[0m\n",
      "\u001b[?25hDownloading pillow-10.4.0-cp38-cp38-manylinux_2_28_aarch64.whl (4.4 MB)\n",
      "\u001b[2K   \u001b[90m━━━━━━━━━━━━━━━━━━━━━━━━━━━━━━━━━━━━━━━━\u001b[0m \u001b[32m4.4/4.4 MB\u001b[0m \u001b[31m101.9 MB/s\u001b[0m eta \u001b[36m0:00:00\u001b[0m\n",
      "\u001b[?25hDownloading pyparsing-3.1.4-py3-none-any.whl (104 kB)\n",
      "Installing collected packages: pyparsing, pillow, kiwisolver, fonttools, cycler, contourpy, matplotlib\n",
      "Successfully installed contourpy-1.1.1 cycler-0.12.1 fonttools-4.54.1 kiwisolver-1.4.7 matplotlib-3.7.5 pillow-10.4.0 pyparsing-3.1.4\n"
     ]
    }
   ],
   "source": [
    "!pip install matplotlib"
   ]
  },
  {
   "cell_type": "code",
   "execution_count": 38,
   "id": "fbe06836-f48c-4df1-b481-46b68b4b8f60",
   "metadata": {},
   "outputs": [
    {
     "name": "stdout",
     "output_type": "stream",
     "text": [
      "Requirement already satisfied: markdown in /home/ubuntu/jupyter/env/lib/python3.8/site-packages (3.7)\n",
      "Requirement already satisfied: importlib-metadata>=4.4 in /home/ubuntu/jupyter/env/lib/python3.8/site-packages (from markdown) (7.1.0)\n",
      "Requirement already satisfied: zipp>=0.5 in /home/ubuntu/jupyter/env/lib/python3.8/site-packages (from importlib-metadata>=4.4->markdown) (3.18.2)\n"
     ]
    }
   ],
   "source": [
    "!pip install markdown"
   ]
  },
  {
   "cell_type": "code",
   "execution_count": 2,
   "id": "9616ba44-f44a-44c7-b97a-d888ecb7c0f1",
   "metadata": {},
   "outputs": [],
   "source": [
    "import json\n",
    "from pyprojroot import here\n",
    "from datasets import Dataset\n",
    "import mdtex2html\n",
    "import matplotlib.pyplot as plt\n",
    "from markdown import markdown"
   ]
  },
  {
   "cell_type": "code",
   "execution_count": 2,
   "id": "38569b9c-d685-443c-a15d-13ede2792e9c",
   "metadata": {},
   "outputs": [],
   "source": [
    "par_dir = here(\"struct_vs_unstruct/data/mistral_large_2407/original/non_self_synthesis/math/math-/math_eval\")"
   ]
  },
  {
   "cell_type": "code",
   "execution_count": 3,
   "id": "49136db5-74c6-4d7b-a2e5-ed12ce1e2ef2",
   "metadata": {},
   "outputs": [
    {
     "data": {
      "text/plain": [
       "Dataset({\n",
       "    features: ['problem', 'level', 'type', 'solution', 'reasoning_formats', 'selected_modules', 'adapted_modules', 'reasoning_structure', 'reasoning', 'trajectory', 'answer_pred'],\n",
       "    num_rows: 200\n",
       "})"
      ]
     },
     "execution_count": 3,
     "metadata": {},
     "output_type": "execute_result"
    }
   ],
   "source": [
    "ds = Dataset.load_from_disk(par_dir)\n",
    "ds"
   ]
  },
  {
   "cell_type": "code",
   "execution_count": 4,
   "id": "766016f9-00c4-4400-98b1-3585eaae5196",
   "metadata": {},
   "outputs": [
    {
     "data": {
      "application/vnd.jupyter.widget-view+json": {
       "model_id": "32864b71d333486280fe9cd3abf39cf8",
       "version_major": 2,
       "version_minor": 0
      },
      "text/plain": [
       "Filter:   0%|          | 0/200 [00:00<?, ? examples/s]"
      ]
     },
     "metadata": {},
     "output_type": "display_data"
    },
    {
     "data": {
      "text/plain": [
       "Dataset({\n",
       "    features: ['problem', 'level', 'type', 'solution', 'reasoning_formats', 'selected_modules', 'adapted_modules', 'reasoning_structure', 'reasoning', 'trajectory', 'answer_pred'],\n",
       "    num_rows: 2\n",
       "})"
      ]
     },
     "execution_count": 4,
     "metadata": {},
     "output_type": "execute_result"
    }
   ],
   "source": [
    "none_ds = ds.filter(lambda x: x[\"answer_pred\"] == None)\n",
    "none_ds"
   ]
  },
  {
   "cell_type": "code",
   "execution_count": 5,
   "id": "916be634-c822-4bc5-a984-e46dfb961456",
   "metadata": {},
   "outputs": [
    {
     "data": {
      "application/vnd.jupyter.widget-view+json": {
       "model_id": "0adb0d3a94d54b68b8459244736e4f69",
       "version_major": 2,
       "version_minor": 0
      },
      "text/plain": [
       "Map:   0%|          | 0/200 [00:00<?, ? examples/s]"
      ]
     },
     "metadata": {},
     "output_type": "display_data"
    }
   ],
   "source": [
    "import re\n",
    "def map_fn(instance):\n",
    "    if instance[\"answer_pred\"] == None:\n",
    "        text = \"The final answer is:\"\n",
    "        pattern = fr\"(?<={text}).*\"\n",
    "    \n",
    "        response = instance[\"trajectory\"]\n",
    "    \n",
    "        try:\n",
    "            answer, trajectory = re.search(pattern, response).group(0).strip(), re.sub(pattern, \"\", response).replace(text, \"\").strip()\n",
    "        except:\n",
    "            answer, trajectory = None, response\n",
    "    \n",
    "        return {\n",
    "            \"trajectory\": trajectory,\n",
    "            \"answer_pred\": answer\n",
    "        }\n",
    "\n",
    "    return {\n",
    "        \"trajectory\": instance[\"trajectory\"],\n",
    "        \"answer_pred\": instance[\"answer_pred\"]\n",
    "    }\n",
    "\n",
    "new_ds = ds.map(map_fn)"
   ]
  },
  {
   "cell_type": "code",
   "execution_count": 6,
   "id": "b90d6e56-f916-4ffd-bf07-a6292625fad2",
   "metadata": {},
   "outputs": [
    {
     "data": {
      "application/vnd.jupyter.widget-view+json": {
       "model_id": "018c11f81f924507a7adf9b2c006f018",
       "version_major": 2,
       "version_minor": 0
      },
      "text/plain": [
       "Filter:   0%|          | 0/200 [00:00<?, ? examples/s]"
      ]
     },
     "metadata": {},
     "output_type": "display_data"
    },
    {
     "data": {
      "text/plain": [
       "Dataset({\n",
       "    features: ['problem', 'level', 'type', 'solution', 'reasoning_formats', 'selected_modules', 'adapted_modules', 'reasoning_structure', 'reasoning', 'trajectory', 'answer_pred'],\n",
       "    num_rows: 0\n",
       "})"
      ]
     },
     "execution_count": 6,
     "metadata": {},
     "output_type": "execute_result"
    }
   ],
   "source": [
    "none_ds = new_ds.filter(lambda x: x[\"answer_pred\"] == None)\n",
    "none_ds"
   ]
  },
  {
   "cell_type": "code",
   "execution_count": 69,
   "id": "61995a85-d0b0-4492-8a9b-03f5e3ca8c8b",
   "metadata": {},
   "outputs": [
    {
     "name": "stdout",
     "output_type": "stream",
     "text": [
      "The solutions of the equation $z^4+4z^3i-6z^2-4zi-i=0$ are the vertices of a convex polygon in the complex plane.  The area of this polygon can be expressed in the form $p^{a/b},$ where $a,$ $b,$ $p$ are positive integers, $p$ is prime, and $a$ and $b$ are relatively prime.  Find $a + b + p.$\n",
      "++++++++++++++++++++++++++++++++++++++++++++++++++++++++++++++++++++++++++++++++\n",
      "Here is the filled JSON for the given reasoning structure:\n",
      "\n",
      "```\n",
      "{\n",
      "  \"Problem Explanation\": {\n",
      "    \"Identify the equation\": \"$z^4+4z^3i-6z^2-4zi-i=0$\",\n",
      "    \"Explain the objective\": \"Find the area of the convex polygon formed by the solutions of the equation\"\n",
      "  },\n",
      "  \"Step 1: Factor the given equation\": {\n",
      "    \"Method\": \"Use algebraic manipulations to factor the equation\",\n",
      "    \"Expected outcome\": \"Factored form of the equation\",\n",
      "    \"Outcome\": \"$z^4+4z^3i-6z^2-4zi-i = (z^2 + 2zi - i)(z^2 + 2zi + 1) = (z^2 + 2zi + 1)^2 - 2i(z^2 + 2zi + 1) + i^2$\"\n",
      "  },\n",
      "  \"Step 2: Identify the roots of the equation\": {\n",
      "    \"Method\": \"Determine the roots of the equation using the factored form\",\n",
      "    \"Expected outcome\": \"Roots of the equation\",\n",
      "    \"Outcome\": \"$z = i, -i, -i + 1, -i - 1$\"\n",
      "  },\n",
      "  \"Step 3: Plot the roots in the complex plane\": {\n",
      "    \"Method\": \"Visualize the roots as points in the complex plane\",\n",
      "    \"Expected outcome\": \"Plot of the roots\",\n",
      "    \"Outcome\": \"The roots form a square with vertices at $i, -i, -i + 1, -i - 1$\"\n",
      "  },\n",
      "  \"Step 4: Determine the shape of the polygon\": {\n",
      "    \"Method\": \"Use the plotted points to determine the shape of the convex polygon\",\n",
      "    \"Expected outcome\": \"Shape of the polygon\",\n",
      "    \"Outcome\": \"The polygon is a square\"\n",
      "  },\n",
      "  \"Step 5: Calculate the area of the polygon\": {\n",
      "    \"Method\": \"Use geometric formulas to calculate the area of the polygon\",\n",
      "    \"Expected outcome\": \"Area of the polygon\",\n",
      "    \"Outcome\": \"The area of the square is $2^2 = 4$\"\n",
      "  },\n",
      "  \"Step 6: Express the area in the required form\": {\n",
      "    \"Method\": \"Express the area in the form $p^{a/b}$\",\n",
      "    \"Expected outcome\": \"Area in the required form\",\n",
      "    \"Outcome\": \"$4 = 2^{2/1}$\"\n",
      "  },\n",
      "  \"Step 7: Calculate the final answer\": {\n",
      "    \"Method\": \"Calculate the sum $a + b + p$\",\n",
      "    \"Expected outcome\": \"Final answer\",\n",
      "    \"Outcome\": \"$2 + 1 + 2 = 5$\"\n",
      "  },\n",
      "  \"Is the final answer correct?\": {\n",
      "    \"Method\": \"Verify the final answer\",\n",
      "    \"Expected outcome\": \"Confirmation of the final answer\",\n",
      "    \"Outcome\": \"Yes, the final answer is correct\"\n",
      "  }\n",
      "}\n",
      "```\n"
     ]
    }
   ],
   "source": [
    "index = 178\n",
    "print(new_ds[index][\"problem\"])\n",
    "print(\"+\" * 80)\n",
    "print(new_ds[index][\"trajectory\"])"
   ]
  },
  {
   "cell_type": "code",
   "execution_count": 7,
   "id": "361051d6-96c2-4f45-92d4-03bdc935c4ba",
   "metadata": {},
   "outputs": [
    {
     "data": {
      "application/vnd.jupyter.widget-view+json": {
       "model_id": "5d3aa842526d496090f94f53fc782aac",
       "version_major": 2,
       "version_minor": 0
      },
      "text/plain": [
       "Uploading the dataset shards:   0%|          | 0/1 [00:00<?, ?it/s]"
      ]
     },
     "metadata": {},
     "output_type": "display_data"
    },
    {
     "data": {
      "application/vnd.jupyter.widget-view+json": {
       "model_id": "b87de5bc321a401fa466c430860caf15",
       "version_major": 2,
       "version_minor": 0
      },
      "text/plain": [
       "Creating parquet from Arrow format:   0%|          | 0/1 [00:00<?, ?ba/s]"
      ]
     },
     "metadata": {},
     "output_type": "display_data"
    },
    {
     "data": {
      "text/plain": [
       "CommitInfo(commit_url='https://huggingface.co/datasets/sachithgunasekara/self-discover-mistral-original-MATH-eval/commit/02ef67f3d149b43aac5d09743a23d60732d6cb63', commit_message='Upload dataset', commit_description='', oid='02ef67f3d149b43aac5d09743a23d60732d6cb63', pr_url=None, pr_revision=None, pr_num=None)"
      ]
     },
     "execution_count": 7,
     "metadata": {},
     "output_type": "execute_result"
    }
   ],
   "source": [
    "new_ds.push_to_hub(\"sachithgunasekara/self-discover-mistral-original-MATH-eval\")"
   ]
  },
  {
   "cell_type": "code",
   "execution_count": 13,
   "id": "f5ae9a02-82f2-4ce5-a0ae-abe205d50b29",
   "metadata": {},
   "outputs": [
    {
     "name": "stdout",
     "output_type": "stream",
     "text": [
      "Find all the rational roots of 2x^4 - x^3 - 18x^2 + 14x + 15 = 0.  Enter all the rational roots, separated by commas.\n"
     ]
    }
   ],
   "source": [
    "from pylatexenc.latex2text import LatexNodes2Text\n",
    "\n",
    "print(LatexNodes2Text().latex_to_text(ds[0][\"problem\"]))"
   ]
  },
  {
   "cell_type": "code",
   "execution_count": 24,
   "id": "edc85b8b-bac3-4629-8ecf-3024783701aa",
   "metadata": {},
   "outputs": [
    {
     "data": {
      "text/plain": [
       "'<p>We solve for <math xmlns=\"http://www.w3.org/1998/Math/MathML\" display=\"inline\"><mrow><msup><mi>x</mi><mn>2</mn></msup></mrow></math>: \\\\begin{align<em>}\\n192x^2 -16 &amp;= 0\\\\\\n192x^2 &amp;=16 \\\\\\nx^2 &amp;= \\\\frac{1}{12}.\\n\\\\end{align</em>} Therefore, <math xmlns=\"http://www.w3.org/1998/Math/MathML\" display=\"inline\"><mrow><msup><mi>x</mi><mn>4</mn></msup><mo>&#x0003D;</mo><mfrac><mrow><mn>1</mn></mrow><mrow><mn>144</mn></mrow></mfrac></mrow></math> and <math xmlns=\"http://www.w3.org/1998/Math/MathML\" display=\"inline\"><mrow><mfrac><mrow><mn>1</mn></mrow><mrow><msup><mi>x</mi><mn>4</mn></msup></mrow></mfrac><mo>&#x0003D;</mo><menclose notation=\"box\"><mrow><mn>144</mn></mrow></menclose></mrow></math>.</p>'"
      ]
     },
     "execution_count": 24,
     "metadata": {},
     "output_type": "execute_result"
    }
   ],
   "source": [
    "mdtex2html.convert(ds[1][\"solution\"])"
   ]
  },
  {
   "cell_type": "code",
   "execution_count": 8,
   "id": "30170dec-184b-434e-a40c-18cbddd5b382",
   "metadata": {},
   "outputs": [
    {
     "data": {
      "text/latex": [
       "By the Binomial Theorem,\n",
       "\\begin{align*}\n",
       "(z + i)^4 &= z^4 + 4z^3 i + 6z^2 i^2 + 4zi^3 + 1 \\\\\n",
       "&= z^4 + 4iz^3 - 6z^2 - 4iz + 1.\n",
       "\\end{align*}So, if $z^4 + 4z^3 i - 6z^2 - 4zi - i = 0,$ then\n",
       "\\[(z + i)^4 = z^4 + 4iz^3 - 6z^2 - 4iz + 1 = 1 + i.\\]Let $w = z + i,$ so $w^4 = 1 + i.$  (If we plot the solutions $w$ in the complex plane, we obtain the same area as from the solutions $z$ in the complex plane, because the substitution $w = z + i$ simply translates the polygon.)\n",
       "\n",
       "If $w^4 = 1 + i,$ then\n",
       "\\[(wi)^4 = w^4 i^4 = w^4 = 1 + i.\\]Thus, if $w$ is a solution, then so are $iw,$ $i^2 w = -w,$ and $i^3 w = -iw,$ which form a square in the complex plane.\n",
       "\n",
       "[asy]\n",
       "unitsize(2 cm);\n",
       "\n",
       "pair A, B, C, D;\n",
       "\n",
       "A = 2^(1/8)*dir(45/4);\n",
       "B = 2^(1/8)*dir(45/4 + 90);\n",
       "C = 2^(1/8)*dir(45/4 + 180);\n",
       "D = 2^(1/8)*dir(45/4 + 270);\n",
       "\n",
       "draw(A--B--C--D--cycle);\n",
       "draw((-1.5,0)--(1.5,0));\n",
       "draw((0,-1.5)--(0,1.5));\n",
       "\n",
       "dot(\"$w$\", A, E);\n",
       "dot(\"$iw$\", B, N);\n",
       "dot(\"$-w$\", C, W);\n",
       "dot(\"$-iw$\", D, S);\n",
       "[/asy]\n",
       "\n",
       "From the equation $w^4 = 1 + i,$ $|w^4| = |1 + i|.$  Then $|w|^4 = \\sqrt{2},$ so $|w| = 2^{1/8}.$  Therefore, the side length of the square is\n",
       "\\[|w - iw| = |w||1 - i| = 2^{1/8} \\sqrt{2} = 2^{5/8},\\]so the area of the square is $(2^{5/8})^2 = 2^{5/4}.$  The final answer is $5 + 4 + 2 = \\boxed{11}.$"
      ],
      "text/plain": [
       "<IPython.core.display.Latex object>"
      ]
     },
     "metadata": {},
     "output_type": "display_data"
    }
   ],
   "source": [
    "from IPython.display import display, Latex\n",
    "display(Latex(new_ds[178][\"solution\"]))"
   ]
  },
  {
   "cell_type": "code",
   "execution_count": 28,
   "id": "f73ef4c3-f704-4805-9ecb-b36f2f67be42",
   "metadata": {},
   "outputs": [
    {
     "name": "stdout",
     "output_type": "stream",
     "text": [
      "We solve for x^2: \n",
      "    192x^2 -16    = 0\n",
      "    \n",
      "    192x^2    =16 \n",
      "    \n",
      "    x^2    = 1/12.\n",
      " Therefore, x^4 = 1/144 and 1/x^4 = 144.\n"
     ]
    }
   ],
   "source": [
    "from pylatexenc.latex2text import LatexNodes2Text\n",
    "\n",
    "# Function to convert LaTeX to HTML\n",
    "def latex_to_html(latex_text):\n",
    "    return LatexNodes2Text().latex_to_text(latex_text)\n",
    "\n",
    "html_solution = latex_to_html(ds[1][\"solution\"])\n",
    "print(html_solution)"
   ]
  },
  {
   "cell_type": "code",
   "execution_count": 47,
   "id": "5533a8d2-2e5c-41f9-850f-eff267aed7f5",
   "metadata": {},
   "outputs": [
    {
     "data": {
      "application/vnd.jupyter.widget-view+json": {
       "model_id": "35303ddecab246bbb6d56b7ecb4adcbd",
       "version_major": 2,
       "version_minor": 0
      },
      "text/plain": [
       "Map:   0%|          | 0/200 [00:00<?, ? examples/s]"
      ]
     },
     "metadata": {},
     "output_type": "display_data"
    }
   ],
   "source": [
    "import json\n",
    "\n",
    "def markdown_to_html(instance):\n",
    "    return {\n",
    "        \"problem_html\": markdown(instance[\"problem\"]),\n",
    "        \"solution_html\": markdown(instance[\"solution\"]),\n",
    "        \"trajectory_html\": f\"<pre>{json.dumps(instance['trajectory'], indent=4)}</pre>\"\n",
    "    }\n",
    "\n",
    "ds_html = ds.map(markdown_to_html)"
   ]
  },
  {
   "cell_type": "code",
   "execution_count": 9,
   "id": "1f5174e3-767d-4c53-86d1-e604c119703f",
   "metadata": {},
   "outputs": [
    {
     "data": {
      "application/vnd.jupyter.widget-view+json": {
       "model_id": "096fafe1a8164c94943051341bf625ca",
       "version_major": 2,
       "version_minor": 0
      },
      "text/plain": [
       "Creating CSV from Arrow format:   0%|          | 0/1 [00:00<?, ?ba/s]"
      ]
     },
     "metadata": {},
     "output_type": "display_data"
    },
    {
     "data": {
      "text/plain": [
       "2375938"
      ]
     },
     "execution_count": 9,
     "metadata": {},
     "output_type": "execute_result"
    }
   ],
   "source": [
    "new_ds.to_csv(\"./henrycks_cm_original_evals.csv\")"
   ]
  },
  {
   "cell_type": "markdown",
   "id": "8f989c1f-6f87-4b3a-96c6-ce06f90d0d35",
   "metadata": {},
   "source": [
    "# Modified"
   ]
  },
  {
   "cell_type": "code",
   "execution_count": 3,
   "id": "73d61b4b-6227-4aa5-ab32-42b216b8afbd",
   "metadata": {},
   "outputs": [],
   "source": [
    "par_dir = here(\"struct_vs_unstruct/data/mistral_large_2407/modified/non_self_synthesis/math/math-/math_eval\")"
   ]
  },
  {
   "cell_type": "code",
   "execution_count": 4,
   "id": "4e7fd27d-8e90-4b82-9f7a-2f2fdd4a359f",
   "metadata": {},
   "outputs": [
    {
     "data": {
      "text/plain": [
       "Dataset({\n",
       "    features: ['problem', 'level', 'type', 'solution', 'reasoning_formats', 'selected_modules', 'adapted_modules', 'reasoning_plan', 'reasoning', 'trajectory', 'answer_pred'],\n",
       "    num_rows: 200\n",
       "})"
      ]
     },
     "execution_count": 4,
     "metadata": {},
     "output_type": "execute_result"
    }
   ],
   "source": [
    "ds = Dataset.load_from_disk(par_dir)\n",
    "ds"
   ]
  },
  {
   "cell_type": "code",
   "execution_count": 5,
   "id": "a40a3aec-e8f1-41a7-a293-e4ca02fefe0e",
   "metadata": {},
   "outputs": [
    {
     "data": {
      "application/vnd.jupyter.widget-view+json": {
       "model_id": "9336b0b08f84410a911a1f49e7fc01d1",
       "version_major": 2,
       "version_minor": 0
      },
      "text/plain": [
       "Filter:   0%|          | 0/200 [00:00<?, ? examples/s]"
      ]
     },
     "metadata": {},
     "output_type": "display_data"
    },
    {
     "data": {
      "text/plain": [
       "Dataset({\n",
       "    features: ['problem', 'level', 'type', 'solution', 'reasoning_formats', 'selected_modules', 'adapted_modules', 'reasoning_plan', 'reasoning', 'trajectory', 'answer_pred'],\n",
       "    num_rows: 2\n",
       "})"
      ]
     },
     "execution_count": 5,
     "metadata": {},
     "output_type": "execute_result"
    }
   ],
   "source": [
    "none_ds = ds.filter(lambda x: x[\"answer_pred\"] == None)\n",
    "none_ds"
   ]
  },
  {
   "cell_type": "code",
   "execution_count": 6,
   "id": "f97e265a-ee41-4542-999e-b7d60d459c7d",
   "metadata": {},
   "outputs": [
    {
     "data": {
      "application/vnd.jupyter.widget-view+json": {
       "model_id": "dbfc32decf69410d9aa7532626b7a4b7",
       "version_major": 2,
       "version_minor": 0
      },
      "text/plain": [
       "Map:   0%|          | 0/200 [00:00<?, ? examples/s]"
      ]
     },
     "metadata": {},
     "output_type": "display_data"
    }
   ],
   "source": [
    "import re\n",
    "def map_fn(instance):\n",
    "    if instance[\"answer_pred\"] == None:\n",
    "        text = \"The final answer is:\"\n",
    "        pattern = fr\"(?<={text}).*\"\n",
    "    \n",
    "        response = instance[\"trajectory\"]\n",
    "    \n",
    "        try:\n",
    "            answer, trajectory = re.search(pattern, response).group(0).strip(), re.sub(pattern, \"\", response).replace(text, \"\").strip()\n",
    "        except:\n",
    "            answer, trajectory = None, response\n",
    "    \n",
    "        return {\n",
    "            \"trajectory\": trajectory,\n",
    "            \"answer_pred\": answer\n",
    "        }\n",
    "\n",
    "    return {\n",
    "        \"trajectory\": instance[\"trajectory\"],\n",
    "        \"answer_pred\": instance[\"answer_pred\"]\n",
    "    }\n",
    "\n",
    "new_ds = ds.map(map_fn)"
   ]
  },
  {
   "cell_type": "code",
   "execution_count": 7,
   "id": "1ac72f65-c4ab-4dc6-a91d-0c57fc9ffdde",
   "metadata": {},
   "outputs": [
    {
     "data": {
      "application/vnd.jupyter.widget-view+json": {
       "model_id": "ed9e00e0fbe646a8a3f26694f40b70c2",
       "version_major": 2,
       "version_minor": 0
      },
      "text/plain": [
       "Filter:   0%|          | 0/200 [00:00<?, ? examples/s]"
      ]
     },
     "metadata": {},
     "output_type": "display_data"
    },
    {
     "data": {
      "text/plain": [
       "Dataset({\n",
       "    features: ['problem', 'level', 'type', 'solution', 'reasoning_formats', 'selected_modules', 'adapted_modules', 'reasoning_plan', 'reasoning', 'trajectory', 'answer_pred'],\n",
       "    num_rows: 2\n",
       "})"
      ]
     },
     "execution_count": 7,
     "metadata": {},
     "output_type": "execute_result"
    }
   ],
   "source": [
    "none_ds = new_ds.filter(lambda x: x[\"answer_pred\"] == None)\n",
    "none_ds"
   ]
  },
  {
   "cell_type": "code",
   "execution_count": 10,
   "id": "27e7375e-fe25-4c76-abf2-2286b46148d7",
   "metadata": {},
   "outputs": [
    {
     "name": "stdout",
     "output_type": "stream",
     "text": [
      "### Step-by-Step Reasoning Plan\n",
      "\n",
      "1. **Identify the Core Mathematical Issue**\n",
      "   - The core issue is to evaluate the expression \\((r + s)(s + t)(t + r)\\) using the roots \\(r\\), \\(s\\), and \\(t\\) of the polynomial \\(x^3 + 9x^2 - 9x - 8\\).\n",
      "\n",
      "2. **Understand the Properties of the Roots**\n",
      "   - Recognize that \\(r\\), \\(s\\), and \\(t\\) are the roots of the polynomial \\(x^3 + 9x^2 - 9x - 8\\).\n",
      "   - Use Vieta's formulas to relate the coefficients of the polynomial to the sums and products of the roots.\n",
      "\n",
      "3. **Apply Vieta's Formulas**\n",
      "   - Vieta's formulas for a cubic polynomial \\(ax^3 + bx^2 + cx + d = 0\\) with roots \\(r\\), \\(s\\), and \\(t\\) are:\n",
      "     - \\(r + s + t = -\\frac{b}{a}\\)\n",
      "     - \\(rs + rt + st = \\frac{c}{a}\\)\n",
      "     - \\(rst = -\\frac{d}{a}\\)\n",
      "   - For the polynomial \\(x^3 + 9x^2 - 9x - 8\\), the coefficients are \\(a = 1\\), \\(b = 9\\), \\(c = -9\\), and \\(d = -8\\).\n",
      "\n",
      "4. **Calculate the Sums and Products of the Roots**\n",
      "   - Using Vieta's formulas:\n",
      "     - \\(r + s + t = -9\\)\n",
      "     - \\(rs + rt + st = -9\\)\n",
      "     - \\(rst = 8\\)\n",
      "\n",
      "5. **Simplify the Expression \\((r + s)(s + t)(t + r)\\)**\n",
      "   - Expand the expression \\((r + s)(s + t)(t + r)\\) using the distributive property:\n",
      "     - \\((r + s)(s + t)(t + r) = (r + s)(st + rt + s^2 + st)\\)\n",
      "     - Simplify further using the sums and products obtained from Vieta's formulas.\n",
      "\n",
      "6. **Substitute the Values from Vieta's Formulas**\n",
      "   - Substitute the values of \\(r + s + t\\), \\(rs + rt + st\\), and \\(rst\\) into the expanded expression.\n",
      "   - Simplify the expression step-by-step to find the value of \\((r + s)(s + t)(t + r)\\).\n",
      "\n",
      "7. **Verify the Solution**\n",
      "   - Ensure that the calculations are correct and that the final expression is simplified correctly.\n",
      "   - Check for any algebraic errors or inconsistencies.\n",
      "\n",
      "### Detailed Steps for Simplification\n",
      "\n",
      "1. **Expand the Expression**\n",
      "   - \\((r + s)(s + t)(t + r) = (r + s)(st + rt + s^2 + st)\\)\n",
      "   - Further expand and simplify using the distributive property.\n",
      "\n",
      "2. **Substitute Known Values**\n",
      "   - Use the values \\(r + s + t = -9\\), \\(rs + rt + st = -9\\), and \\(rst = 8\\) to simplify the expanded expression.\n",
      "\n",
      "3. **Simplify the Final Expression**\n",
      "   - Combine like terms and simplify the expression to find the final value of \\((r + s)(s + t)(t + r)\\).\n",
      "\n",
      "### Calculation\n",
      "\n",
      "Given:\n",
      "- \\(r + s + t = -9\\)\n",
      "- \\(rs + rt + st = -9\\)\n",
      "- \\(rst = 8\\)\n",
      "\n",
      "We need to find \\((r + s)(s + t)(t + r)\\).\n",
      "\n",
      "First, let's expand \\((r + s)(s + t)(t + r)\\):\n",
      "\n",
      "\\[\n",
      "(r + s)(s + t)(t + r) = (r + s)(st + rt + s^2 + st)\n",
      "\\]\n",
      "\n",
      "Using the distributive property:\n",
      "\n",
      "\\[\n",
      "= (r + s)(st + rt + s^2 + st) = (r + s)(st + rt + s^2 + st)\n",
      "\\]\n",
      "\n",
      "Now, substitute the known values:\n",
      "\n",
      "\\[\n",
      "= (r + s)(st + rt + s^2 + st) = (r + s)(-9 + s^2)\n",
      "\\]\n",
      "\n",
      "Expanding further:\n",
      "\n",
      "\\[\n",
      "= r(-9 + s^2) + s(-9 + s^2) = -9r + rs^2 - 9s + s^3\n",
      "\\]\n",
      "\n",
      "Now, substitute \\(r + s = -9 - t\\) and \\(rs = \\frac{-9 - st}{t}\\):\n",
      "\n",
      "\\[\n",
      "= (-9 - t)(-9 + s^2) = 81 - 9s^2 - 9t + ts^2\n",
      "\\]\n",
      "\n",
      "Simplify the expression:\n",
      "\n",
      "\\[\n",
      "= 81 - 9s^2 - 9t + ts^2\n",
      "\\]\n",
      "\n",
      "Finally, substitute \\(s^2 = (r + s + t)^2 - 2(rs + rt + st)\\):\n",
      "\n",
      "\\[\n",
      "= 81 - 9((-9)^2 - 2(-9)) - 9t + t((-9)^2 - 2(-9))\n",
      "\\]\n",
      "\n",
      "\\[\n",
      "= 81 - 9(81 - 18) - 9t + t(81 - 18)\n",
      "\\]\n",
      "\n",
      "\\[\n",
      "= 81 - 9 \\cdot 63 - 9t + 63t\n",
      "\\]\n",
      "\n",
      "\\[\n",
      "= 81 - 567 - 9t + 63t\n",
      "\\]\n",
      "\n",
      "\\[\n",
      "= -486 + 54t\n",
      "\\]\n",
      "\n",
      "Since \\(t = -9 - r - s\\), substitute back:\n",
      "\n",
      "\\[\n",
      "= -486 + 54(-9 - r - s)\n",
      "\\]\n",
      "\n",
      "\\[\n",
      "= -486 - 486 - 54r - 54s\n",
      "\\]\n",
      "\n",
      "\\[\n",
      "= -972 - 54(r + s)\n",
      "\\]\n",
      "\n",
      "\\[\n",
      "= -972 - 54(-9)\n",
      "\\]\n",
      "\n",
      "\\[\n",
      "= -972 + 486\n",
      "\\]\n",
      "\n",
      "\\[\n",
      "= -486\n",
      "\\]\n",
      "\n",
      "Thus, the final answer is:\n",
      "\n",
      "\\[\n",
      "\\boxed{-486}\n",
      "\\]\n"
     ]
    }
   ],
   "source": [
    "print(none_ds[0][\"trajectory\"])"
   ]
  },
  {
   "cell_type": "code",
   "execution_count": 12,
   "id": "5466fd67-7333-472d-8ffa-a983c72034c2",
   "metadata": {},
   "outputs": [
    {
     "data": {
      "application/vnd.jupyter.widget-view+json": {
       "model_id": "31f8da8970a94f8a9a164671113890e4",
       "version_major": 2,
       "version_minor": 0
      },
      "text/plain": [
       "Map:   0%|          | 0/200 [00:00<?, ? examples/s]"
      ]
     },
     "metadata": {},
     "output_type": "display_data"
    }
   ],
   "source": [
    "def map_fn(ins):\n",
    "    if \"First, let's expand \\((r + s)(s + t)(t + r)\\):\" in ins[\"trajectory\"]:\n",
    "        return {\n",
    "            \"answer_pred\": \"\\boxed{-486}\"\n",
    "        }\n",
    "\n",
    "    return {\n",
    "        \"answer_pred\": ins[\"answer_pred\"]\n",
    "    }\n",
    "\n",
    "new_ds = new_ds.map(map_fn)"
   ]
  },
  {
   "cell_type": "code",
   "execution_count": 14,
   "id": "3d94a584-29e9-4e4a-8103-8bf638097dbd",
   "metadata": {},
   "outputs": [
    {
     "data": {
      "application/vnd.jupyter.widget-view+json": {
       "model_id": "944354c32e5a485cbcd813a763411a05",
       "version_major": 2,
       "version_minor": 0
      },
      "text/plain": [
       "Filter:   0%|          | 0/200 [00:00<?, ? examples/s]"
      ]
     },
     "metadata": {},
     "output_type": "display_data"
    },
    {
     "data": {
      "text/plain": [
       "Dataset({\n",
       "    features: ['problem', 'level', 'type', 'solution', 'reasoning_formats', 'selected_modules', 'adapted_modules', 'reasoning_plan', 'reasoning', 'trajectory', 'answer_pred'],\n",
       "    num_rows: 1\n",
       "})"
      ]
     },
     "execution_count": 14,
     "metadata": {},
     "output_type": "execute_result"
    }
   ],
   "source": [
    "none_ds = new_ds.filter(lambda x: x[\"answer_pred\"] == None)\n",
    "none_ds"
   ]
  },
  {
   "cell_type": "code",
   "execution_count": 15,
   "id": "1d31cc56-e5de-45e3-9233-49d3f4603b1a",
   "metadata": {},
   "outputs": [
    {
     "data": {
      "application/vnd.jupyter.widget-view+json": {
       "model_id": "9a55525c75fd489db3ca681bf33a8bee",
       "version_major": 2,
       "version_minor": 0
      },
      "text/plain": [
       "Uploading the dataset shards:   0%|          | 0/1 [00:00<?, ?it/s]"
      ]
     },
     "metadata": {},
     "output_type": "display_data"
    },
    {
     "data": {
      "application/vnd.jupyter.widget-view+json": {
       "model_id": "76dfb2f5837b45bea291563e3ae66a2a",
       "version_major": 2,
       "version_minor": 0
      },
      "text/plain": [
       "Creating parquet from Arrow format:   0%|          | 0/1 [00:00<?, ?ba/s]"
      ]
     },
     "metadata": {},
     "output_type": "display_data"
    },
    {
     "data": {
      "text/plain": [
       "CommitInfo(commit_url='https://huggingface.co/datasets/sachithgunasekara/self-discover-mistral-modified-MATH-eval/commit/00ea556a90a37635d332a703f8bdb576e5d418cf', commit_message='Upload dataset', commit_description='', oid='00ea556a90a37635d332a703f8bdb576e5d418cf', pr_url=None, pr_revision=None, pr_num=None)"
      ]
     },
     "execution_count": 15,
     "metadata": {},
     "output_type": "execute_result"
    }
   ],
   "source": [
    "new_ds.push_to_hub(\"sachithgunasekara/self-discover-mistral-modified-MATH-eval\")"
   ]
  },
  {
   "cell_type": "code",
   "execution_count": 16,
   "id": "55d069be-234c-45cf-9030-29e66ddc45a8",
   "metadata": {},
   "outputs": [
    {
     "data": {
      "application/vnd.jupyter.widget-view+json": {
       "model_id": "fe6fa9f2912145d3bb5309e4710acfca",
       "version_major": 2,
       "version_minor": 0
      },
      "text/plain": [
       "Creating CSV from Arrow format:   0%|          | 0/1 [00:00<?, ?ba/s]"
      ]
     },
     "metadata": {},
     "output_type": "display_data"
    },
    {
     "data": {
      "text/plain": [
       "1800573"
      ]
     },
     "execution_count": 16,
     "metadata": {},
     "output_type": "execute_result"
    }
   ],
   "source": [
    "new_ds.to_csv(\"./henrycks_cm_modified_evals.csv\")"
   ]
  },
  {
   "cell_type": "code",
   "execution_count": 10,
   "id": "ff6bb50d-9a32-4dfb-866b-b55aa5fa7da3",
   "metadata": {},
   "outputs": [],
   "source": [
    "file_name = \"./project-5-at-2024-11-07-13-43-b93945eb.json\""
   ]
  },
  {
   "cell_type": "code",
   "execution_count": 11,
   "id": "3da2c258-5929-46ad-a1d0-cf2cc47f2919",
   "metadata": {},
   "outputs": [
    {
     "data": {
      "text/plain": [
       "Dataset({\n",
       "    features: ['problem', 'level', 'type', 'solution', 'reasoning_formats', 'selected_modules', 'adapted_modules', 'reasoning_structure', 'reasoning', 'trajectory', 'answer_pred', 'id', 'correct', 'annotator', 'annotation_id', 'created_at', 'updated_at', 'lead_time'],\n",
       "    num_rows: 200\n",
       "})"
      ]
     },
     "execution_count": 11,
     "metadata": {},
     "output_type": "execute_result"
    }
   ],
   "source": [
    "with open(file_name, \"r\") as f:\n",
    "    ds_ann = Dataset.from_list(json.load(f))\n",
    "\n",
    "ds_ann"
   ]
  },
  {
   "cell_type": "code",
   "execution_count": 12,
   "id": "a8fdf8a8-293a-4f46-ad5e-d076a2bd699b",
   "metadata": {},
   "outputs": [
    {
     "data": {
      "text/plain": [
       "{'problem': 'Find all the rational roots of $2x^4 - x^3 - 18x^2 + 14x + 15 = 0.$  Enter all the rational roots, separated by commas.',\n",
       " 'level': 'Level 3',\n",
       " 'type': 'Intermediate Algebra',\n",
       " 'solution': 'By the Rational Root Theorem, the only possible rational roots are of the form $\\\\frac{a}{b},$ where $a \\\\mid 15$ and $b \\\\mid 2.$  Checking all possibilities, we find that the rational roots are $\\\\boxed{\\\\frac{5}{2},-3}.$',\n",
       " 'reasoning_formats': '\\n- should be the final answer based on calculations formatted in Latex style',\n",
       " 'selected_modules': '1. How could I devise an experiment to help solve that problem?\\n4. How can I simplify the problem so that it is easier to solve?\\n9. How can I break down this problem into smaller, more manageable parts?\\n10. Critical Thinking: This style involves analyzing the problem from different perspectives, questioning assumptions, and evaluating the evidence or information available. It focuses on logical reasoning, evidence-based decision-making, and identifying potential biases or flaws in thinking.\\n29. Is the problem an analytical one that requires data analysis, modeling, or optimization techniques?\\n39. Let’s make a step by step plan and implement it with good notation and explanation.',\n",
       " 'adapted_modules': '1. How can I design an experiment to test potential rational roots for the polynomial $2x^4 - x^3 - 18x^2 + 14x + 15 = 0$?\\n4. How can I simplify the polynomial equation $2x^4 - x^3 - 18x^2 + 14x + 15 = 0$ to make it easier to solve?\\n9. How can I break down the polynomial $2x^4 - x^3 - 18x^2 + 14x + 15 = 0$ into smaller, more manageable factors or components?\\n10. Critical Thinking: Analyze the polynomial from different perspectives, such as using the Rational Root Theorem, questioning assumptions about the roots, and evaluating the information available from the coefficients. Focus on logical reasoning and evidence-based approaches to identify potential rational roots.\\n29. Is the problem of finding rational roots for $2x^4 - x^3 - 18x^2 + 14x + 15 = 0$ one that requires analytical techniques like data analysis, modeling, or optimization?\\n39. Let’s create a step-by-step plan to find the rational roots of $2x^4 - x^3 - 18x^2 + 14x + 15 = 0$, implementing it with clear notation and detailed explanations.',\n",
       " 'reasoning_structure': 'Sure, here is a step-by-step reasoning plan in JSON format for finding the rational roots of the polynomial \\\\(2x^4 - x^3 - 18x^2 + 14x + 15 = 0\\\\):\\n\\n```json\\n{\\n    \"Step 1: Identify the polynomial\": {\\n        \"Description\": \"Write down the polynomial equation: \\\\(2x^4 - x^3 - 18x^2 + 14x + 15 = 0\\\\).\",\\n        \"Action\": \"Record the polynomial.\"\\n    },\\n    \"Step 2: Apply the Rational Root Theorem\": {\\n        \"Description\": \"Use the Rational Root Theorem to determine possible rational roots. The theorem states that any rational root, expressed as \\\\(p/q\\\\) where \\\\(p\\\\) is a factor of the constant term and \\\\(q\\\\) is a factor of the leading coefficient, must be considered.\",\\n        \"Action\": \"List all possible rational roots based on the factors of the constant term (15) and the leading coefficient (2).\"\\n    },\\n    \"Step 3: List possible rational roots\": {\\n        \"Description\": \"Generate a list of all possible rational roots \\\\(p/q\\\\) where \\\\(p\\\\) is a factor of 15 and \\\\(q\\\\) is a factor of 2.\",\\n        \"Action\": \"Create a list of potential rational roots.\"\\n    },\\n    \"Step 4: Test each possible rational root\": {\\n        \"Description\": \"Substitute each possible rational root into the polynomial and check if it results in zero.\",\\n        \"Action\": \"Perform substitution and evaluation for each potential rational root.\"\\n    },\\n    \"Step 5: Simplify the polynomial (if possible)\": {\\n        \"Description\": \"If any rational roots are found, use them to factor the polynomial and simplify it.\",\\n        \"Action\": \"Factor the polynomial using the identified rational roots.\"\\n    },\\n    \"Step 6: Repeat the process\": {\\n        \"Description\": \"Repeat the process of testing possible rational roots on the simplified polynomial until no more rational roots are found.\",\\n        \"Action\": \"Continue testing and factoring until the polynomial is fully simplified or no more rational roots are identified.\"\\n    },\\n    \"Step 7: Analyze the results\": {\\n        \"Description\": \"Review the identified rational roots and ensure they satisfy the original polynomial equation.\",\\n        \"Action\": \"Verify the rational roots by substituting them back into the original polynomial.\"\\n    },\\n    \"Step 8: Conclude the solution\": {\\n        \"Description\": \"List all the rational roots found.\",\\n        \"Action\": \"Record the final list of rational roots.\"\\n    },\\n    \"Is the problem solved\": {\\n        \"Description\": \"Check if all rational roots have been identified and the polynomial has been fully analyzed.\",\\n        \"Action\": \"Confirm the completion of the task.\"\\n    }\\n}\\n```\\n\\nThis plan outlines the steps needed to find the rational roots of the polynomial \\\\(2x^4 - x^3 - 18x^2 + 14x + 15 = 0\\\\) using the Rational Root Theorem and systematic testing. Each step includes a description and an action to guide the solver through the process.',\n",
       " 'reasoning': '```json\\n{\\n    \"Step 1: Identify the polynomial\": {\\n        \"Description\": \"Write down the polynomial equation: \\\\(2x^4 - x^3 - 18x^2 + 14x + 15 = 0\\\\).\",\\n        \"Action\": \"Record the polynomial.\"\\n    },\\n    \"Step 2: Apply the Rational Root Theorem\": {\\n        \"Description\": \"Use the Rational Root Theorem to determine possible rational roots. The theorem states that any rational root, expressed as \\\\(p/q\\\\) where \\\\(p\\\\) is a factor of the constant term and \\\\(q\\\\) is a factor of the leading coefficient, must be considered.\",\\n        \"Action\": \"List all possible rational roots based on the factors of the constant term (15) and the leading coefficient (2).\"\\n    },\\n    \"Step 3: List possible rational roots\": {\\n        \"Description\": \"Generate a list of all possible rational roots \\\\(p/q\\\\) where \\\\(p\\\\) is a factor of 15 and \\\\(q\\\\) is a factor of 2.\",\\n        \"Action\": \"Create a list of potential rational roots.\"\\n    },\\n    \"Step 4: Test each possible rational root\": {\\n        \"Description\": \"Substitute each possible rational root into the polynomial and check if it results in zero.\",\\n        \"Action\": \"Perform substitution and evaluation for each potential rational root.\"\\n    },\\n    \"Step 5: Simplify the polynomial (if possible)\": {\\n        \"Description\": \"If any rational roots are found, use them to factor the polynomial and simplify it.\",\\n        \"Action\": \"Factor the polynomial using the identified rational roots.\"\\n    },\\n    \"Step 6: Repeat the process\": {\\n        \"Description\": \"Repeat the process of testing possible rational roots on the simplified polynomial until no more rational roots are found.\",\\n        \"Action\": \"Continue testing and factoring until the polynomial is fully simplified or no more rational roots are identified.\"\\n    },\\n    \"Step 7: Analyze the results\": {\\n        \"Description\": \"Review the identified rational roots and ensure they satisfy the original polynomial equation.\",\\n        \"Action\": \"Verify the rational roots by substituting them back into the original polynomial.\"\\n    },\\n    \"Step 8: Conclude the solution\": {\\n        \"Description\": \"List all the rational roots found.\",\\n        \"Action\": \"Record the final list of rational roots.\"\\n    },\\n    \"Is the problem solved\": {\\n        \"Description\": \"Check if all rational roots have been identified and the polynomial has been fully analyzed.\",\\n        \"Action\": \"Confirm the completion of the task.\"\\n    }\\n}\\n```\\n\\n### Filled JSON for the Given Task\\n\\n```json\\n{\\n    \"Step 1: Identify the polynomial\": {\\n        \"Description\": \"Write down the polynomial equation: \\\\(2x^4 - x^3 - 18x^2 + 14x + 15 = 0\\\\).\",\\n        \"Action\": \"Record the polynomial.\"\\n    },\\n    \"Step 2: Apply the Rational Root Theorem\": {\\n        \"Description\": \"Use the Rational Root Theorem to determine possible rational roots. The theorem states that any rational root, expressed as \\\\(p/q\\\\) where \\\\(p\\\\) is a factor of the constant term and \\\\(q\\\\) is a factor of the leading coefficient, must be considered.\",\\n        \"Action\": \"List all possible rational roots based on the factors of the constant term (15) and the leading coefficient (2).\"\\n    },\\n    \"Step 3: List possible rational roots\": {\\n        \"Description\": \"Generate a list of all possible rational roots \\\\(p/q\\\\) where \\\\(p\\\\) is a factor of 15 and \\\\(q\\\\) is a factor of 2.\",\\n        \"Action\": \"Create a list of potential rational roots.\"\\n    },\\n    \"Step 4: Test each possible rational root\": {\\n        \"Description\": \"Substitute each possible rational root into the polynomial and check if it results in zero.\",\\n        \"Action\": \"Perform substitution and evaluation for each potential rational root.\"\\n    },\\n    \"Step 5: Simplify the polynomial (if possible)\": {\\n        \"Description\": \"If any rational roots are found, use them to factor the polynomial and simplify it.\",\\n        \"Action\": \"Factor the polynomial using the identified rational roots.\"\\n    },\\n    \"Step 6: Repeat the process\": {\\n        \"Description\": \"Repeat the process of testing possible rational roots on the simplified polynomial until no more rational roots are found.\",\\n        \"Action\": \"Continue testing and factoring until the polynomial is fully simplified or no more rational roots are identified.\"\\n    },\\n    \"Step 7: Analyze the results\": {\\n        \"Description\": \"Review the identified rational roots and ensure they satisfy the original polynomial equation.\",\\n        \"Action\": \"Verify the rational roots by substituting them back into the original polynomial.\"\\n    },\\n    \"Step 8: Conclude the solution\": {\\n        \"Description\": \"List all the rational roots found.\",\\n        \"Action\": \"Record the final list of rational roots.\"\\n    },\\n    \"Is the problem solved\": {\\n        \"Description\": \"Check if all rational roots have been identified and the polynomial has been fully analyzed.\",\\n        \"Action\": \"Confirm the completion of the task.\"\\n    }\\n}\\n```\\n\\n### Final Answer\\n\\nThe final answer is \\\\( \\\\boxed{1, -\\\\frac{3}{2}, -1, \\\\frac{5}{2}} \\\\).',\n",
       " 'trajectory': '```json\\n{\\n    \"Step 1: Identify the polynomial\": {\\n        \"Description\": \"Write down the polynomial equation: \\\\(2x^4 - x^3 - 18x^2 + 14x + 15 = 0\\\\).\",\\n        \"Action\": \"Record the polynomial.\"\\n    },\\n    \"Step 2: Apply the Rational Root Theorem\": {\\n        \"Description\": \"Use the Rational Root Theorem to determine possible rational roots. The theorem states that any rational root, expressed as \\\\(p/q\\\\) where \\\\(p\\\\) is a factor of the constant term and \\\\(q\\\\) is a factor of the leading coefficient, must be considered.\",\\n        \"Action\": \"List all possible rational roots based on the factors of the constant term (15) and the leading coefficient (2).\"\\n    },\\n    \"Step 3: List possible rational roots\": {\\n        \"Description\": \"Generate a list of all possible rational roots \\\\(p/q\\\\) where \\\\(p\\\\) is a factor of 15 and \\\\(q\\\\) is a factor of 2.\",\\n        \"Action\": \"Create a list of potential rational roots.\"\\n    },\\n    \"Step 4: Test each possible rational root\": {\\n        \"Description\": \"Substitute each possible rational root into the polynomial and check if it results in zero.\",\\n        \"Action\": \"Perform substitution and evaluation for each potential rational root.\"\\n    },\\n    \"Step 5: Simplify the polynomial (if possible)\": {\\n        \"Description\": \"If any rational roots are found, use them to factor the polynomial and simplify it.\",\\n        \"Action\": \"Factor the polynomial using the identified rational roots.\"\\n    },\\n    \"Step 6: Repeat the process\": {\\n        \"Description\": \"Repeat the process of testing possible rational roots on the simplified polynomial until no more rational roots are found.\",\\n        \"Action\": \"Continue testing and factoring until the polynomial is fully simplified or no more rational roots are identified.\"\\n    },\\n    \"Step 7: Analyze the results\": {\\n        \"Description\": \"Review the identified rational roots and ensure they satisfy the original polynomial equation.\",\\n        \"Action\": \"Verify the rational roots by substituting them back into the original polynomial.\"\\n    },\\n    \"Step 8: Conclude the solution\": {\\n        \"Description\": \"List all the rational roots found.\",\\n        \"Action\": \"Record the final list of rational roots.\"\\n    },\\n    \"Is the problem solved\": {\\n        \"Description\": \"Check if all rational roots have been identified and the polynomial has been fully analyzed.\",\\n        \"Action\": \"Confirm the completion of the task.\"\\n    }\\n}\\n```\\n\\n### Filled JSON for the Given Task\\n\\n```json\\n{\\n    \"Step 1: Identify the polynomial\": {\\n        \"Description\": \"Write down the polynomial equation: \\\\(2x^4 - x^3 - 18x^2 + 14x + 15 = 0\\\\).\",\\n        \"Action\": \"Record the polynomial.\"\\n    },\\n    \"Step 2: Apply the Rational Root Theorem\": {\\n        \"Description\": \"Use the Rational Root Theorem to determine possible rational roots. The theorem states that any rational root, expressed as \\\\(p/q\\\\) where \\\\(p\\\\) is a factor of the constant term and \\\\(q\\\\) is a factor of the leading coefficient, must be considered.\",\\n        \"Action\": \"List all possible rational roots based on the factors of the constant term (15) and the leading coefficient (2).\"\\n    },\\n    \"Step 3: List possible rational roots\": {\\n        \"Description\": \"Generate a list of all possible rational roots \\\\(p/q\\\\) where \\\\(p\\\\) is a factor of 15 and \\\\(q\\\\) is a factor of 2.\",\\n        \"Action\": \"Create a list of potential rational roots.\"\\n    },\\n    \"Step 4: Test each possible rational root\": {\\n        \"Description\": \"Substitute each possible rational root into the polynomial and check if it results in zero.\",\\n        \"Action\": \"Perform substitution and evaluation for each potential rational root.\"\\n    },\\n    \"Step 5: Simplify the polynomial (if possible)\": {\\n        \"Description\": \"If any rational roots are found, use them to factor the polynomial and simplify it.\",\\n        \"Action\": \"Factor the polynomial using the identified rational roots.\"\\n    },\\n    \"Step 6: Repeat the process\": {\\n        \"Description\": \"Repeat the process of testing possible rational roots on the simplified polynomial until no more rational roots are found.\",\\n        \"Action\": \"Continue testing and factoring until the polynomial is fully simplified or no more rational roots are identified.\"\\n    },\\n    \"Step 7: Analyze the results\": {\\n        \"Description\": \"Review the identified rational roots and ensure they satisfy the original polynomial equation.\",\\n        \"Action\": \"Verify the rational roots by substituting them back into the original polynomial.\"\\n    },\\n    \"Step 8: Conclude the solution\": {\\n        \"Description\": \"List all the rational roots found.\",\\n        \"Action\": \"Record the final list of rational roots.\"\\n    },\\n    \"Is the problem solved\": {\\n        \"Description\": \"Check if all rational roots have been identified and the polynomial has been fully analyzed.\",\\n        \"Action\": \"Confirm the completion of the task.\"\\n    }\\n}\\n```\\n\\n### Final Answer',\n",
       " 'answer_pred': '\\\\( \\\\boxed{1, -\\\\frac{3}{2}, -1, \\\\frac{5}{2}} \\\\).',\n",
       " 'id': 424,\n",
       " 'correct': 'False',\n",
       " 'annotator': 2,\n",
       " 'annotation_id': 463,\n",
       " 'created_at': '2024-11-07T10:17:50.598774Z',\n",
       " 'updated_at': '2024-11-07T10:17:50.598801Z',\n",
       " 'lead_time': 668.449}"
      ]
     },
     "execution_count": 12,
     "metadata": {},
     "output_type": "execute_result"
    }
   ],
   "source": [
    "ds_ann[0]"
   ]
  },
  {
   "cell_type": "code",
   "execution_count": 13,
   "id": "33a716a0-3115-4e8a-a98e-00eb4bc40884",
   "metadata": {},
   "outputs": [
    {
     "data": {
      "application/vnd.jupyter.widget-view+json": {
       "model_id": "4e55b53482fd4f00b8b3c9ee762a20ca",
       "version_major": 2,
       "version_minor": 0
      },
      "text/plain": [
       "Filter:   0%|          | 0/200 [00:00<?, ? examples/s]"
      ]
     },
     "metadata": {},
     "output_type": "display_data"
    },
    {
     "data": {
      "text/plain": [
       "0.675"
      ]
     },
     "execution_count": 13,
     "metadata": {},
     "output_type": "execute_result"
    }
   ],
   "source": [
    "corr = ds_ann.filter(lambda x: x[\"correct\"] == \"True\")\n",
    "corr.num_rows / ds_ann.num_rows"
   ]
  },
  {
   "cell_type": "code",
   "execution_count": 14,
   "id": "ab147bbb-9227-49fd-9663-15c70accf083",
   "metadata": {},
   "outputs": [
    {
     "data": {
      "application/vnd.jupyter.widget-view+json": {
       "model_id": "68b33c316d514ff6bf2d50ec5f2d464e",
       "version_major": 2,
       "version_minor": 0
      },
      "text/plain": [
       "Uploading the dataset shards:   0%|          | 0/1 [00:00<?, ?it/s]"
      ]
     },
     "metadata": {},
     "output_type": "display_data"
    },
    {
     "data": {
      "application/vnd.jupyter.widget-view+json": {
       "model_id": "4b7460f093db4a808e399fd5da269366",
       "version_major": 2,
       "version_minor": 0
      },
      "text/plain": [
       "Creating parquet from Arrow format:   0%|          | 0/1 [00:00<?, ?ba/s]"
      ]
     },
     "metadata": {},
     "output_type": "display_data"
    },
    {
     "data": {
      "text/plain": [
       "CommitInfo(commit_url='https://huggingface.co/datasets/sachithgunasekara/self-discover-mistral-original-MATH-eval-annotated/commit/c905ccc30b40f38095bb7dc273b8b14a4c5876b5', commit_message='Upload dataset', commit_description='', oid='c905ccc30b40f38095bb7dc273b8b14a4c5876b5', pr_url=None, pr_revision=None, pr_num=None)"
      ]
     },
     "execution_count": 14,
     "metadata": {},
     "output_type": "execute_result"
    }
   ],
   "source": [
    "ds_ann.push_to_hub(\"sachithgunasekara/self-discover-mistral-original-MATH-eval-annotated\")"
   ]
  },
  {
   "cell_type": "markdown",
   "id": "e6bbaf28-caff-4aaf-9a42-5bf0ca97bf83",
   "metadata": {},
   "source": [
    "# Modified Evals"
   ]
  },
  {
   "cell_type": "code",
   "execution_count": null,
   "id": "b9650abd-1719-4f8f-8e0f-065e6053b7cb",
   "metadata": {},
   "outputs": [],
   "source": []
  }
 ],
 "metadata": {
  "kernelspec": {
   "display_name": "Python 3 (ipykernel)",
   "language": "python",
   "name": "python3"
  },
  "language_info": {
   "codemirror_mode": {
    "name": "ipython",
    "version": 3
   },
   "file_extension": ".py",
   "mimetype": "text/x-python",
   "name": "python",
   "nbconvert_exporter": "python",
   "pygments_lexer": "ipython3",
   "version": "3.8.10"
  }
 },
 "nbformat": 4,
 "nbformat_minor": 5
}
