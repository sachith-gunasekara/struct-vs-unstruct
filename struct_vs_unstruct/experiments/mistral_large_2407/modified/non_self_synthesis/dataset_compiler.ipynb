{
 "cells": [
  {
   "cell_type": "code",
   "execution_count": 1,
   "id": "0b52d08f-fbaa-4210-b5bb-3bb2a6507d2f",
   "metadata": {},
   "outputs": [],
   "source": [
    "import os\n",
    "\n",
    "from pyprojroot import here\n",
    "from huggingface_hub import login\n",
    "from datasets import Dataset"
   ]
  },
  {
   "cell_type": "code",
   "execution_count": 2,
   "id": "30f3c4a3-c92d-49b3-a087-dad66b07160e",
   "metadata": {},
   "outputs": [],
   "source": [
    "par_dir = here(\"struct_vs_unstruct/data/mistral_large_2407/modified/non_self_synthesis/bbh/\")"
   ]
  },
  {
   "cell_type": "code",
   "execution_count": 4,
   "id": "818f2460-9ef2-4d81-ae19-65196ffc6cb1",
   "metadata": {},
   "outputs": [
    {
     "data": {
      "text/plain": [
       "['bbh-disambiguation_qa',\n",
       " 'bbh-web_of_lies',\n",
       " 'bbh-word_sorting',\n",
       " 'bbh-multistep_arithmetic_two',\n",
       " 'bbh-date_understanding',\n",
       " 'bbh-tracking_shuffled_objects_three_objects',\n",
       " 'bbh-salient_translation_error_detection',\n",
       " 'refined',\n",
       " 'bbh-dyck_languages',\n",
       " 'bbh-causal_judgement',\n",
       " 'bbh-logical_deduction_five_objects',\n",
       " 'bbh-penguins_in_a_table',\n",
       " 'bbh-boolean_expressions',\n",
       " 'bbh-reasoning_about_colored_objects',\n",
       " 'bbh-temporal_sequences',\n",
       " 'bbh-logical_deduction_three_objects',\n",
       " 'bbh-snarks',\n",
       " 'bbh-formal_fallacies',\n",
       " 'bbh-logical_deduction_seven_objects',\n",
       " 'bbh-sports_understanding',\n",
       " 'bbh-navigate',\n",
       " 'bbh-movie_recommendation',\n",
       " 'bbh-hyperbaton',\n",
       " 'bbh-tracking_shuffled_objects_seven_objects',\n",
       " 'bbh-tracking_shuffled_objects_five_objects',\n",
       " 'bbh-geometric_shapes',\n",
       " 'bbh-ruin_names',\n",
       " 'bbh-object_counting']"
      ]
     },
     "execution_count": 4,
     "metadata": {},
     "output_type": "execute_result"
    }
   ],
   "source": [
    "ds_dir = os.listdir(par_dir)\n",
    "ds_dir"
   ]
  },
  {
   "cell_type": "code",
   "execution_count": 80,
   "id": "21724a5f-71c9-4dbd-990c-c20f89d54162",
   "metadata": {},
   "outputs": [],
   "source": [
    "t4d = Dataset.load_from_disk(os.path.join(par_dir, ds_dir, \"t4d_eval\"))"
   ]
  },
  {
   "cell_type": "code",
   "execution_count": 81,
   "id": "45350409-147b-403a-b8de-5c7b855e8ac5",
   "metadata": {},
   "outputs": [
    {
     "name": "stdout",
     "output_type": "stream",
     "text": [
      "Here is a step-by-step reasoning plan to solve the task:\n",
      "\n",
      "**Step 1: Identify the core issue or problem related to sharing information**\n",
      "\n",
      "* Analyze the scenario to determine the central issue related to sharing information.\n",
      "* Ask: What is the key problem or question that needs to be addressed regarding who would benefit from receiving helpful information?\n",
      "\n",
      "**Step 2: Break down the sequence of events into smaller parts**\n",
      "\n",
      "* Divide the scenario into individual events or actions to understand the sequence of events.\n",
      "* Identify the key events: Benjamin entered the bathroom, Jayden entered the bathroom, Benjamin exited the bathroom, Jayden moved the shoes to the basket.\n",
      "* Ask: How do these events relate to who would benefit from receiving helpful information?\n",
      "\n",
      "**Step 3: Identify stakeholders and their information needs**\n",
      "\n",
      "* Determine who are the stakeholders directly affected by the movement and planned use of the shoes.\n",
      "* Identify Benjamin and Jayden as the stakeholders.\n",
      "* Ask: What are their information needs regarding the shoes?\n",
      "\n",
      "**Step 4: Simplify the scenario to focus on key events and interactions**\n",
      "\n",
      "* Filter out irrelevant information and focus on the key events and interactions.\n",
      "* Identify the key interactions: Jayden moved the shoes to the basket, and Benjamin and Jayden plan to use the shoes soon.\n",
      "* Ask: How do these interactions indicate who would benefit from receiving helpful information?\n",
      "\n",
      "**Step 5: Analyze observations and actions for insights**\n",
      "\n",
      "* Examine the observations and actions in the scenario for clues about who would benefit from receiving helpful information.\n",
      "* Ask: Are there any observations or actions that suggest one person needs information more than the other?\n",
      "\n",
      "**Step 6: Determine who would benefit from receiving helpful information**\n",
      "\n",
      "* Based on the analysis, decide who among the individuals would benefit from receiving helpful information.\n",
      "* Choose from the options: A. Jayden, B. Benjamin, C. None of the above.\n",
      "\n",
      "This plan provides a concrete and intuitive step-by-step approach to solve the task. By following this plan, an AI agent can derive a solution to the given task.\n"
     ]
    }
   ],
   "source": [
    "print(t4d[0][\"reasoning_plan\"])"
   ]
  },
  {
   "cell_type": "code",
   "execution_count": 82,
   "id": "f1374fc3-d026-4e4c-99ac-e8b80cc9fd2e",
   "metadata": {},
   "outputs": [
    {
     "name": "stdout",
     "output_type": "stream",
     "text": [
      "Abigail dislikes the sweet potato. Carter entered the front yard. Aiden entered the bathroom. Abigail entered the bathroom. The cabbage is in the box. Abigail exited the bathroom. Aiden moved the cabbage to the treasure chest. Carter exited the front yard. Aiden exited the bathroom. Aiden loves the peach. Abigail entered the bathroom. Abigail and Aiden plan to use the cabbage soon.\n"
     ]
    },
    {
     "data": {
      "text/plain": [
       "Dataset({\n",
       "    features: ['story', 'question', 'answer', 'characters', 'distracting_characters', 'reasoning_formats', 'selected_modules', 'adapted_modules', 'reasoning_plan', 'reasoning', 'trajectory', 'answer_pred'],\n",
       "    num_rows: 564\n",
       "})"
      ]
     },
     "execution_count": 82,
     "metadata": {},
     "output_type": "execute_result"
    }
   ],
   "source": [
    "t4d_sorted = t4d.sort(\"story\")\n",
    "print(t4d_sorted[0][\"story\"])\n",
    "t4d_sorted"
   ]
  },
  {
   "cell_type": "code",
   "execution_count": 83,
   "id": "bf8d5e84-a0b6-4290-917a-77c00c9a6fa5",
   "metadata": {},
   "outputs": [
    {
     "data": {
      "application/vnd.jupyter.widget-view+json": {
       "model_id": "239fc4fddc3d4874bff3e5ff40112fe5",
       "version_major": 2,
       "version_minor": 0
      },
      "text/plain": [
       "Uploading the dataset shards:   0%|          | 0/1 [00:00<?, ?it/s]"
      ]
     },
     "metadata": {},
     "output_type": "display_data"
    },
    {
     "data": {
      "application/vnd.jupyter.widget-view+json": {
       "model_id": "4ab71e4595d74d1989b56a8349e2b31d",
       "version_major": 2,
       "version_minor": 0
      },
      "text/plain": [
       "Creating parquet from Arrow format:   0%|          | 0/1 [00:00<?, ?ba/s]"
      ]
     },
     "metadata": {},
     "output_type": "display_data"
    },
    {
     "data": {
      "application/vnd.jupyter.widget-view+json": {
       "model_id": "4e8fd0e80a8945fab8058918ec7bded9",
       "version_major": 2,
       "version_minor": 0
      },
      "text/plain": [
       "README.md:   0%|          | 0.00/752 [00:00<?, ?B/s]"
      ]
     },
     "metadata": {},
     "output_type": "display_data"
    },
    {
     "data": {
      "text/plain": [
       "CommitInfo(commit_url='https://huggingface.co/datasets/sachithgunasekara/self-discover-modified-t4d-eval/commit/035bb4d89b23d734c082a57c9bf7dbefa90db125', commit_message='Upload dataset', commit_description='', oid='035bb4d89b23d734c082a57c9bf7dbefa90db125', pr_url=None, pr_revision=None, pr_num=None)"
      ]
     },
     "execution_count": 83,
     "metadata": {},
     "output_type": "execute_result"
    }
   ],
   "source": [
    "t4d_sorted.push_to_hub(\"sachithgunasekara/self-discover-modified-t4d-eval\")"
   ]
  },
  {
   "cell_type": "markdown",
   "id": "3254a082-97fa-43c7-9da5-bde59100df1b",
   "metadata": {
    "jp-MarkdownHeadingCollapsed": true
   },
   "source": [
    "## Original"
   ]
  },
  {
   "cell_type": "code",
   "execution_count": 69,
   "id": "f9bbd31e-6281-4e7f-8c64-e481c193e662",
   "metadata": {},
   "outputs": [],
   "source": [
    "par_dir = here(\"struct_vs_unstruct/data/original/non_self_synthesis/t4d/\")"
   ]
  },
  {
   "cell_type": "code",
   "execution_count": 70,
   "id": "db2a9816-0951-45d5-8b95-ed8da422758b",
   "metadata": {},
   "outputs": [
    {
     "data": {
      "text/plain": [
       "'t4d-'"
      ]
     },
     "execution_count": 70,
     "metadata": {},
     "output_type": "execute_result"
    }
   ],
   "source": [
    "ds_dir = os.listdir(par_dir)[0]\n",
    "ds_dir"
   ]
  },
  {
   "cell_type": "code",
   "execution_count": 71,
   "id": "26d65adc-4816-43bb-bc06-a86a88bb3452",
   "metadata": {},
   "outputs": [],
   "source": [
    "t4d = Dataset.load_from_disk(os.path.join(par_dir, ds_dir, \"t4d_eval\"))"
   ]
  },
  {
   "cell_type": "code",
   "execution_count": 72,
   "id": "ebe3151f-bb73-4faf-b90b-4f39bd73e48a",
   "metadata": {},
   "outputs": [
    {
     "name": "stdout",
     "output_type": "stream",
     "text": [
      "Here is a step-by-step reasoning plan in JSON format for the given task:\n",
      "\n",
      "```\n",
      "{\n",
      "    \"Step 1: Identify the core issue or problem related to the shoes\":\n",
      "        \"What is the main concern or challenge regarding the shoes in this scenario?\",\n",
      "    \"Step 2: Determine the key assumptions underlying the actions and plans of Benjamin and Jayden\":\n",
      "        \"What assumptions are Benjamin and Jayden making about the shoes and their planned use?\",\n",
      "    \"Step 3: Identify the underlying causes or factors contributing to the need for helpful information about the shoes\":\n",
      "        \"What factors are driving the need for helpful information about the shoes?\",\n",
      "    \"Step 4: Identify individuals directly affected by the location or planned use of the shoes\":\n",
      "        \"Who are the individuals directly impacted by the shoes and what are their perspectives and needs?\",\n",
      "    \"Step 5: Determine the information or resources needed to ensure effective use of the shoes\":\n",
      "        \"What information or resources are necessary for Benjamin and Jayden to use the shoes as planned?\",\n",
      "    \"Step 6: Analyze the actions and knowledge of Benjamin and Jayden regarding the shoes\":\n",
      "        \"What do Benjamin and Jayden know about the shoes and what actions have they taken?\",\n",
      "    \"Step 7: Evaluate the need for helpful information for each individual\":\n",
      "        \"Does each individual (Benjamin and Jayden) need helpful information about the shoes?\",\n",
      "    \"Step 8: Determine who would benefit from receiving helpful information\":\n",
      "        \"Based on the analysis, who would benefit from receiving helpful information about the shoes?\"\n",
      "}\n",
      "```\n",
      "\n",
      "This reasoning plan provides a step-by-step structure for solvers to follow and arrive at a conclusion. Each step builds on the previous one, allowing solvers to analyze the scenario, identify key factors, and ultimately determine who would benefit from receiving helpful information about the shoes.\n"
     ]
    }
   ],
   "source": [
    "print(t4d[0][\"reasoning_structure\"])"
   ]
  },
  {
   "cell_type": "code",
   "execution_count": 73,
   "id": "2b4bae68-d993-432c-a39d-e4699a3f65b7",
   "metadata": {},
   "outputs": [
    {
     "name": "stdout",
     "output_type": "stream",
     "text": [
      "Here is a step-by-step reasoning plan in JSON format for the given task:\n",
      "\n",
      "```\n",
      "{\n",
      "    \"Step 1: Identify key events in the observation\": {\n",
      "        \"Event 1\": \"Chloe entered the back yard\",\n",
      "        \"Event 2\": \"Amelia entered the back yard\",\n",
      "        \"Event 3\": \"The underclothes is in the suitcase\",\n",
      "        \"Event 4\": \"Chloe exited the back yard\",\n",
      "        \"Event 5\": \"Amelia moved the underclothes to the pantry\",\n",
      "        \"Event 6\": \"Amelia exited the back yard\",\n",
      "        \"Event 7\": \"Carter entered the patio\",\n",
      "        \"Event 8\": \"Carter likes the cap\",\n",
      "        \"Event 9\": \"Carter exited the patio\",\n",
      "        \"Event 10\": \"Amelia dislikes the sweet potato\",\n",
      "        \"Event 11\": \"Chloe entered the patio\",\n",
      "        \"Event 12\": \"Amelia and Chloe plan to use the underclothes soon\"\n",
      "    },\n",
      "    \"Step 2: Simplify the sequence of events to focus on interactions and needs\": {\n",
      "        \"Simplified Event 1\": \"Chloe and Amelia interact in the back yard\",\n",
      "        \"Simplified Event 2\": \"Amelia moves underclothes to pantry\",\n",
      "        \"Simplified Event 3\": \"Carter interacts with cap on patio\",\n",
      "        \"Simplified Event 4\": \"Amelia and Chloe plan to use underclothes\"\n",
      "    },\n",
      "    \"Step 3: Break down observation into smaller parts to identify needs\": {\n",
      "        \"Individual Actions\": {\n",
      "            \"Chloe\": [\"entered back yard\", \"exited back yard\", \"entered patio\"],\n",
      "            \"Amelia\": [\"entered back yard\", \"moved underclothes\", \"exited back yard\", \"dislikes sweet potato\"],\n",
      "            \"Carter\": [\"entered patio\", \"likes cap\", \"exited patio\"]\n",
      "        },\n",
      "        \"Preferences\": {\n",
      "            \"Carter\": [\"likes cap\"],\n",
      "            \"Amelia\": [\"dislikes sweet potato\"]\n",
      "        }\n",
      "    },\n",
      "    \"Step 4: Identify core issue or problem\": {\n",
      "        \"Core Issue\": \"Who among the individuals would benefit from receiving helpful information?\"\n",
      "    },\n",
      "    \"Step 5: Analyze preferences and needs to determine who would benefit from helpful information\": {\n",
      "        \"Analysis\": \"Based on the simplified events, individual actions, and preferences, identify who would benefit from helpful information\"\n",
      "    },\n",
      "    \"Step 6: Determine if problem requires expertise in human behavior or preferences\": {\n",
      "        \"Expertise Required\": \"No\"\n",
      "    },\n",
      "    \"Step 7: Determine if problem is a creative challenge\": {\n",
      "        \"Creative Challenge\": \"No\"\n",
      "    },\n",
      "    \"Step 8: Create a plan to provide helpful information\": {\n",
      "        \"Plan\": \"Based on the analysis, create a plan to provide helpful information to the individual(s) who would benefit from it\"\n",
      "    },\n",
      "    \"Step 9: Identify the correct answer\": {\n",
      "        \"Correct Answer\": \"\"\n",
      "    }\n",
      "}\n",
      "```\n",
      "\n",
      "This plan provides a step-by-step structure for analyzing the observation, identifying key events and preferences, and determining who would benefit from helpful information. The final answer is left blank, as the goal is to generate a plan, not to arrive at a conclusion.\n"
     ]
    }
   ],
   "source": [
    "print(t[0][\"reasoning_structure\"])"
   ]
  },
  {
   "cell_type": "code",
   "execution_count": 74,
   "id": "21ce63e3-a37d-4530-b7d3-a65ec3248b60",
   "metadata": {},
   "outputs": [],
   "source": [
    "t4d_sorted = t4d.sort(\"story\")"
   ]
  },
  {
   "cell_type": "code",
   "execution_count": 76,
   "id": "8c1d0f37-63c8-4579-95b2-648ea7674fa9",
   "metadata": {},
   "outputs": [
    {
     "name": "stdout",
     "output_type": "stream",
     "text": [
      "Abigail dislikes the sweet potato. Carter entered the front yard. Aiden entered the bathroom. Abigail entered the bathroom. The cabbage is in the box. Abigail exited the bathroom. Aiden moved the cabbage to the treasure chest. Carter exited the front yard. Aiden exited the bathroom. Aiden loves the peach. Abigail entered the bathroom. Abigail and Aiden plan to use the cabbage soon.\n"
     ]
    },
    {
     "data": {
      "text/plain": [
       "Dataset({\n",
       "    features: ['story', 'question', 'answer', 'characters', 'distracting_characters', 'reasoning_formats', 'selected_modules', 'adapted_modules', 'reasoning_structure', 'reasoning', 'trajectory', 'answer_pred'],\n",
       "    num_rows: 564\n",
       "})"
      ]
     },
     "execution_count": 76,
     "metadata": {},
     "output_type": "execute_result"
    }
   ],
   "source": [
    "print(t4d_sorted[0][\"story\"])\n",
    "t4d_sorted"
   ]
  },
  {
   "cell_type": "code",
   "execution_count": 77,
   "id": "35e72924-9c17-4af5-b09f-42528d78f3e8",
   "metadata": {},
   "outputs": [
    {
     "data": {
      "application/vnd.jupyter.widget-view+json": {
       "model_id": "ea8a120d3b4b48a9a9de97b36b43812b",
       "version_major": 2,
       "version_minor": 0
      },
      "text/plain": [
       "Uploading the dataset shards:   0%|          | 0/1 [00:00<?, ?it/s]"
      ]
     },
     "metadata": {},
     "output_type": "display_data"
    },
    {
     "data": {
      "application/vnd.jupyter.widget-view+json": {
       "model_id": "8b5b72ef015243dca6d8a0cd3b59845f",
       "version_major": 2,
       "version_minor": 0
      },
      "text/plain": [
       "Creating parquet from Arrow format:   0%|          | 0/1 [00:00<?, ?ba/s]"
      ]
     },
     "metadata": {},
     "output_type": "display_data"
    },
    {
     "data": {
      "application/vnd.jupyter.widget-view+json": {
       "model_id": "20a6d08279bc4bd09aadeb142c377b00",
       "version_major": 2,
       "version_minor": 0
      },
      "text/plain": [
       "README.md:   0%|          | 0.00/742 [00:00<?, ?B/s]"
      ]
     },
     "metadata": {},
     "output_type": "display_data"
    },
    {
     "data": {
      "text/plain": [
       "CommitInfo(commit_url='https://huggingface.co/datasets/sachithgunasekara/self-discover-original-t4d-eval/commit/41219091c2c450afa618763174ebe04bcfee0869', commit_message='Upload dataset', commit_description='', oid='41219091c2c450afa618763174ebe04bcfee0869', pr_url=None, pr_revision=None, pr_num=None)"
      ]
     },
     "execution_count": 77,
     "metadata": {},
     "output_type": "execute_result"
    }
   ],
   "source": [
    "t4d_sorted.push_to_hub(\"sachithgunasekara/self-discover-original-t4d-eval\")"
   ]
  },
  {
   "cell_type": "markdown",
   "id": "d22422ca-eb08-41ec-ae79-19bf3569c115",
   "metadata": {},
   "source": [
    "# BBH"
   ]
  },
  {
   "cell_type": "code",
   "execution_count": 8,
   "id": "00524d77-a6fa-4bfe-9a09-4f4fa2879f82",
   "metadata": {},
   "outputs": [],
   "source": [
    "par_dir = here(\"struct_vs_unstruct/data/mistral_large_2407/modified/non_self_synthesis/bbh/refined\")"
   ]
  },
  {
   "cell_type": "code",
   "execution_count": 9,
   "id": "8f93b2aa-c1b2-4064-8dd9-161730a4bb9e",
   "metadata": {},
   "outputs": [
    {
     "data": {
      "text/plain": [
       "['ruin_names',\n",
       " 'temporal_sequences',\n",
       " 'object_counting',\n",
       " 'salient_translation_error_detection',\n",
       " 'logical_deduction_five_objects',\n",
       " 'web_of_lies',\n",
       " 'tracking_shuffled_objects_three_objects',\n",
       " 'sports_understanding',\n",
       " 'movie_recommendation',\n",
       " 'geometric_shapes',\n",
       " 'disambiguation_qa',\n",
       " 'word_sorting',\n",
       " 'logical_deduction_seven_objects',\n",
       " 'dyck_languages',\n",
       " 'navigate',\n",
       " 'hyperbaton',\n",
       " 'penguins_in_a_table',\n",
       " 'tracking_shuffled_objects_seven_objects',\n",
       " 'snarks',\n",
       " 'causal_judgement',\n",
       " 'formal_fallacies',\n",
       " 'logical_deduction_three_objects',\n",
       " 'tracking_shuffled_objects_five_objects',\n",
       " 'multistep_arithmetic_two',\n",
       " 'boolean_expressions',\n",
       " 'reasoning_about_colored_objects',\n",
       " 'date_understanding']"
      ]
     },
     "execution_count": 9,
     "metadata": {},
     "output_type": "execute_result"
    }
   ],
   "source": [
    "ds_dir = os.listdir(par_dir)\n",
    "ds_dir"
   ]
  },
  {
   "cell_type": "code",
   "execution_count": 10,
   "id": "ab5455ce-510f-4744-af2a-7a4924314270",
   "metadata": {},
   "outputs": [
    {
     "data": {
      "application/vnd.jupyter.widget-view+json": {
       "model_id": "d54e14cf610f49b2af9c4977ce700345",
       "version_major": 2,
       "version_minor": 0
      },
      "text/plain": [
       "Uploading the dataset shards:   0%|          | 0/1 [00:00<?, ?it/s]"
      ]
     },
     "metadata": {},
     "output_type": "display_data"
    },
    {
     "data": {
      "application/vnd.jupyter.widget-view+json": {
       "model_id": "622cf4f2fba14060b0a3d2771ac05182",
       "version_major": 2,
       "version_minor": 0
      },
      "text/plain": [
       "Creating parquet from Arrow format:   0%|          | 0/1 [00:00<?, ?ba/s]"
      ]
     },
     "metadata": {},
     "output_type": "display_data"
    },
    {
     "data": {
      "application/vnd.jupyter.widget-view+json": {
       "model_id": "ff361d0a2ce8421bb6c82335fe08ace2",
       "version_major": 2,
       "version_minor": 0
      },
      "text/plain": [
       "Uploading the dataset shards:   0%|          | 0/1 [00:00<?, ?it/s]"
      ]
     },
     "metadata": {},
     "output_type": "display_data"
    },
    {
     "data": {
      "application/vnd.jupyter.widget-view+json": {
       "model_id": "df863180b0174a47a606785bbb951b4b",
       "version_major": 2,
       "version_minor": 0
      },
      "text/plain": [
       "Creating parquet from Arrow format:   0%|          | 0/1 [00:00<?, ?ba/s]"
      ]
     },
     "metadata": {},
     "output_type": "display_data"
    },
    {
     "data": {
      "application/vnd.jupyter.widget-view+json": {
       "model_id": "166e0131ca174f638874b4c6a121d552",
       "version_major": 2,
       "version_minor": 0
      },
      "text/plain": [
       "README.md:   0%|          | 0.00/665 [00:00<?, ?B/s]"
      ]
     },
     "metadata": {},
     "output_type": "display_data"
    },
    {
     "data": {
      "application/vnd.jupyter.widget-view+json": {
       "model_id": "aa20411a71344775a625ffc4e354a694",
       "version_major": 2,
       "version_minor": 0
      },
      "text/plain": [
       "Uploading the dataset shards:   0%|          | 0/1 [00:00<?, ?it/s]"
      ]
     },
     "metadata": {},
     "output_type": "display_data"
    },
    {
     "data": {
      "application/vnd.jupyter.widget-view+json": {
       "model_id": "77a27508457d4e44a305f833f34d6ade",
       "version_major": 2,
       "version_minor": 0
      },
      "text/plain": [
       "Creating parquet from Arrow format:   0%|          | 0/1 [00:00<?, ?ba/s]"
      ]
     },
     "metadata": {},
     "output_type": "display_data"
    },
    {
     "data": {
      "application/vnd.jupyter.widget-view+json": {
       "model_id": "6f6a6314ae89409a9d23c6c684e36a7a",
       "version_major": 2,
       "version_minor": 0
      },
      "text/plain": [
       "README.md:   0%|          | 0.00/1.29k [00:00<?, ?B/s]"
      ]
     },
     "metadata": {},
     "output_type": "display_data"
    },
    {
     "data": {
      "application/vnd.jupyter.widget-view+json": {
       "model_id": "bc3ba799f6df4928ae61fecb8f2cb0fd",
       "version_major": 2,
       "version_minor": 0
      },
      "text/plain": [
       "Uploading the dataset shards:   0%|          | 0/1 [00:00<?, ?it/s]"
      ]
     },
     "metadata": {},
     "output_type": "display_data"
    },
    {
     "data": {
      "application/vnd.jupyter.widget-view+json": {
       "model_id": "496e545a4d604d668a94abb84d1af1b0",
       "version_major": 2,
       "version_minor": 0
      },
      "text/plain": [
       "Creating parquet from Arrow format:   0%|          | 0/1 [00:00<?, ?ba/s]"
      ]
     },
     "metadata": {},
     "output_type": "display_data"
    },
    {
     "data": {
      "application/vnd.jupyter.widget-view+json": {
       "model_id": "b5137f8ea9184891befee6402c32dd1f",
       "version_major": 2,
       "version_minor": 0
      },
      "text/plain": [
       "README.md:   0%|          | 0.00/1.92k [00:00<?, ?B/s]"
      ]
     },
     "metadata": {},
     "output_type": "display_data"
    },
    {
     "data": {
      "application/vnd.jupyter.widget-view+json": {
       "model_id": "7df431ec1ba34c5582d6f37a65b63d9c",
       "version_major": 2,
       "version_minor": 0
      },
      "text/plain": [
       "Uploading the dataset shards:   0%|          | 0/1 [00:00<?, ?it/s]"
      ]
     },
     "metadata": {},
     "output_type": "display_data"
    },
    {
     "data": {
      "application/vnd.jupyter.widget-view+json": {
       "model_id": "eacf24c5555b435b8679a8d23a575a73",
       "version_major": 2,
       "version_minor": 0
      },
      "text/plain": [
       "Creating parquet from Arrow format:   0%|          | 0/1 [00:00<?, ?ba/s]"
      ]
     },
     "metadata": {},
     "output_type": "display_data"
    },
    {
     "data": {
      "application/vnd.jupyter.widget-view+json": {
       "model_id": "1c023d035fe04e6c809ecfa7d8e3f4b4",
       "version_major": 2,
       "version_minor": 0
      },
      "text/plain": [
       "README.md:   0%|          | 0.00/2.55k [00:00<?, ?B/s]"
      ]
     },
     "metadata": {},
     "output_type": "display_data"
    },
    {
     "data": {
      "application/vnd.jupyter.widget-view+json": {
       "model_id": "24b07e414c86409386102f1b8ba96f85",
       "version_major": 2,
       "version_minor": 0
      },
      "text/plain": [
       "Uploading the dataset shards:   0%|          | 0/1 [00:00<?, ?it/s]"
      ]
     },
     "metadata": {},
     "output_type": "display_data"
    },
    {
     "data": {
      "application/vnd.jupyter.widget-view+json": {
       "model_id": "792815af7b8e457b9221f193d0258ce4",
       "version_major": 2,
       "version_minor": 0
      },
      "text/plain": [
       "Creating parquet from Arrow format:   0%|          | 0/1 [00:00<?, ?ba/s]"
      ]
     },
     "metadata": {},
     "output_type": "display_data"
    },
    {
     "data": {
      "application/vnd.jupyter.widget-view+json": {
       "model_id": "96d14394bdc34574999433a989703685",
       "version_major": 2,
       "version_minor": 0
      },
      "text/plain": [
       "README.md:   0%|          | 0.00/3.17k [00:00<?, ?B/s]"
      ]
     },
     "metadata": {},
     "output_type": "display_data"
    },
    {
     "data": {
      "application/vnd.jupyter.widget-view+json": {
       "model_id": "a80b5632dc6c403a8cd15c9df2f6c70a",
       "version_major": 2,
       "version_minor": 0
      },
      "text/plain": [
       "Uploading the dataset shards:   0%|          | 0/1 [00:00<?, ?it/s]"
      ]
     },
     "metadata": {},
     "output_type": "display_data"
    },
    {
     "data": {
      "application/vnd.jupyter.widget-view+json": {
       "model_id": "8c171c56665645938e6fd74109865d0d",
       "version_major": 2,
       "version_minor": 0
      },
      "text/plain": [
       "Creating parquet from Arrow format:   0%|          | 0/1 [00:00<?, ?ba/s]"
      ]
     },
     "metadata": {},
     "output_type": "display_data"
    },
    {
     "data": {
      "application/vnd.jupyter.widget-view+json": {
       "model_id": "8175ba7618ec4090ba28b1dfadea9afd",
       "version_major": 2,
       "version_minor": 0
      },
      "text/plain": [
       "README.md:   0%|          | 0.00/3.79k [00:00<?, ?B/s]"
      ]
     },
     "metadata": {},
     "output_type": "display_data"
    },
    {
     "data": {
      "application/vnd.jupyter.widget-view+json": {
       "model_id": "5e4c13aa053745678d5a577082e2c87c",
       "version_major": 2,
       "version_minor": 0
      },
      "text/plain": [
       "Uploading the dataset shards:   0%|          | 0/1 [00:00<?, ?it/s]"
      ]
     },
     "metadata": {},
     "output_type": "display_data"
    },
    {
     "data": {
      "application/vnd.jupyter.widget-view+json": {
       "model_id": "6fddd7e47745474898a4277baa2cdb12",
       "version_major": 2,
       "version_minor": 0
      },
      "text/plain": [
       "Creating parquet from Arrow format:   0%|          | 0/1 [00:00<?, ?ba/s]"
      ]
     },
     "metadata": {},
     "output_type": "display_data"
    },
    {
     "data": {
      "application/vnd.jupyter.widget-view+json": {
       "model_id": "2a7797ed27bf4cea9413c0fa49f0cba6",
       "version_major": 2,
       "version_minor": 0
      },
      "text/plain": [
       "README.md:   0%|          | 0.00/4.42k [00:00<?, ?B/s]"
      ]
     },
     "metadata": {},
     "output_type": "display_data"
    },
    {
     "data": {
      "application/vnd.jupyter.widget-view+json": {
       "model_id": "8d69ee0c61ad41ddb757e66b00e45de3",
       "version_major": 2,
       "version_minor": 0
      },
      "text/plain": [
       "Uploading the dataset shards:   0%|          | 0/1 [00:00<?, ?it/s]"
      ]
     },
     "metadata": {},
     "output_type": "display_data"
    },
    {
     "data": {
      "application/vnd.jupyter.widget-view+json": {
       "model_id": "c333fdbd563142cbb5e1f8e9768b0d0f",
       "version_major": 2,
       "version_minor": 0
      },
      "text/plain": [
       "Creating parquet from Arrow format:   0%|          | 0/1 [00:00<?, ?ba/s]"
      ]
     },
     "metadata": {},
     "output_type": "display_data"
    },
    {
     "data": {
      "application/vnd.jupyter.widget-view+json": {
       "model_id": "de821ca9f9094460804d72a534c9fabd",
       "version_major": 2,
       "version_minor": 0
      },
      "text/plain": [
       "README.md:   0%|          | 0.00/5.03k [00:00<?, ?B/s]"
      ]
     },
     "metadata": {},
     "output_type": "display_data"
    },
    {
     "data": {
      "application/vnd.jupyter.widget-view+json": {
       "model_id": "2cd12feae7eb40a68a736e564ca750f2",
       "version_major": 2,
       "version_minor": 0
      },
      "text/plain": [
       "Uploading the dataset shards:   0%|          | 0/1 [00:00<?, ?it/s]"
      ]
     },
     "metadata": {},
     "output_type": "display_data"
    },
    {
     "data": {
      "application/vnd.jupyter.widget-view+json": {
       "model_id": "52959f8210d74f648a9ad8a1f29d4e7e",
       "version_major": 2,
       "version_minor": 0
      },
      "text/plain": [
       "Creating parquet from Arrow format:   0%|          | 0/1 [00:00<?, ?ba/s]"
      ]
     },
     "metadata": {},
     "output_type": "display_data"
    },
    {
     "data": {
      "application/vnd.jupyter.widget-view+json": {
       "model_id": "7d0b381e4059468db64aaa97101d4da5",
       "version_major": 2,
       "version_minor": 0
      },
      "text/plain": [
       "README.md:   0%|          | 0.00/5.69k [00:00<?, ?B/s]"
      ]
     },
     "metadata": {},
     "output_type": "display_data"
    },
    {
     "data": {
      "application/vnd.jupyter.widget-view+json": {
       "model_id": "76c394ec60664f78b156d7d2a6e111ad",
       "version_major": 2,
       "version_minor": 0
      },
      "text/plain": [
       "Uploading the dataset shards:   0%|          | 0/1 [00:00<?, ?it/s]"
      ]
     },
     "metadata": {},
     "output_type": "display_data"
    },
    {
     "data": {
      "application/vnd.jupyter.widget-view+json": {
       "model_id": "f015818be3f44c04be4abe6ecd47a3f7",
       "version_major": 2,
       "version_minor": 0
      },
      "text/plain": [
       "Creating parquet from Arrow format:   0%|          | 0/1 [00:00<?, ?ba/s]"
      ]
     },
     "metadata": {},
     "output_type": "display_data"
    },
    {
     "data": {
      "application/vnd.jupyter.widget-view+json": {
       "model_id": "d8d91a877aea4277910ae32baecc377b",
       "version_major": 2,
       "version_minor": 0
      },
      "text/plain": [
       "README.md:   0%|          | 0.00/6.36k [00:00<?, ?B/s]"
      ]
     },
     "metadata": {},
     "output_type": "display_data"
    },
    {
     "data": {
      "application/vnd.jupyter.widget-view+json": {
       "model_id": "d5ffdf8bc2fe42e2aef9a86db5b4316d",
       "version_major": 2,
       "version_minor": 0
      },
      "text/plain": [
       "Uploading the dataset shards:   0%|          | 0/1 [00:00<?, ?it/s]"
      ]
     },
     "metadata": {},
     "output_type": "display_data"
    },
    {
     "data": {
      "application/vnd.jupyter.widget-view+json": {
       "model_id": "a4349f2fe41944cf8c9d59bf4a0db098",
       "version_major": 2,
       "version_minor": 0
      },
      "text/plain": [
       "Creating parquet from Arrow format:   0%|          | 0/1 [00:00<?, ?ba/s]"
      ]
     },
     "metadata": {},
     "output_type": "display_data"
    },
    {
     "data": {
      "application/vnd.jupyter.widget-view+json": {
       "model_id": "23125780c3584a9988b70e02d35150df",
       "version_major": 2,
       "version_minor": 0
      },
      "text/plain": [
       "README.md:   0%|          | 0.00/7.03k [00:00<?, ?B/s]"
      ]
     },
     "metadata": {},
     "output_type": "display_data"
    },
    {
     "data": {
      "application/vnd.jupyter.widget-view+json": {
       "model_id": "16ee4b48216043658f82139e16c72207",
       "version_major": 2,
       "version_minor": 0
      },
      "text/plain": [
       "Uploading the dataset shards:   0%|          | 0/1 [00:00<?, ?it/s]"
      ]
     },
     "metadata": {},
     "output_type": "display_data"
    },
    {
     "data": {
      "application/vnd.jupyter.widget-view+json": {
       "model_id": "7dc5ca68a2e64ac0918fad8b2dfdd2d7",
       "version_major": 2,
       "version_minor": 0
      },
      "text/plain": [
       "Creating parquet from Arrow format:   0%|          | 0/1 [00:00<?, ?ba/s]"
      ]
     },
     "metadata": {},
     "output_type": "display_data"
    },
    {
     "data": {
      "application/vnd.jupyter.widget-view+json": {
       "model_id": "e2c8a42c10494f7c8051ea17aba90d12",
       "version_major": 2,
       "version_minor": 0
      },
      "text/plain": [
       "README.md:   0%|          | 0.00/7.67k [00:00<?, ?B/s]"
      ]
     },
     "metadata": {},
     "output_type": "display_data"
    },
    {
     "data": {
      "application/vnd.jupyter.widget-view+json": {
       "model_id": "2ce23c8b773a48bda2f88b5519a60f90",
       "version_major": 2,
       "version_minor": 0
      },
      "text/plain": [
       "Uploading the dataset shards:   0%|          | 0/1 [00:00<?, ?it/s]"
      ]
     },
     "metadata": {},
     "output_type": "display_data"
    },
    {
     "data": {
      "application/vnd.jupyter.widget-view+json": {
       "model_id": "0f4d9b632845443ba2adde27d49bc6c9",
       "version_major": 2,
       "version_minor": 0
      },
      "text/plain": [
       "Creating parquet from Arrow format:   0%|          | 0/1 [00:00<?, ?ba/s]"
      ]
     },
     "metadata": {},
     "output_type": "display_data"
    },
    {
     "data": {
      "application/vnd.jupyter.widget-view+json": {
       "model_id": "0c5bfc322e3f410aa05f33a4cb3a074b",
       "version_major": 2,
       "version_minor": 0
      },
      "text/plain": [
       "README.md:   0%|          | 0.00/8.32k [00:00<?, ?B/s]"
      ]
     },
     "metadata": {},
     "output_type": "display_data"
    },
    {
     "data": {
      "application/vnd.jupyter.widget-view+json": {
       "model_id": "d85b6dc6642b4bc4bdd51e9ac3e1360d",
       "version_major": 2,
       "version_minor": 0
      },
      "text/plain": [
       "Uploading the dataset shards:   0%|          | 0/1 [00:00<?, ?it/s]"
      ]
     },
     "metadata": {},
     "output_type": "display_data"
    },
    {
     "data": {
      "application/vnd.jupyter.widget-view+json": {
       "model_id": "6fee13185b464c859579c5bd983abacc",
       "version_major": 2,
       "version_minor": 0
      },
      "text/plain": [
       "Creating parquet from Arrow format:   0%|          | 0/1 [00:00<?, ?ba/s]"
      ]
     },
     "metadata": {},
     "output_type": "display_data"
    },
    {
     "data": {
      "application/vnd.jupyter.widget-view+json": {
       "model_id": "7fc3c4aaed2145149eab4032e37f74a6",
       "version_major": 2,
       "version_minor": 0
      },
      "text/plain": [
       "README.md:   0%|          | 0.00/8.92k [00:00<?, ?B/s]"
      ]
     },
     "metadata": {},
     "output_type": "display_data"
    },
    {
     "data": {
      "application/vnd.jupyter.widget-view+json": {
       "model_id": "f357b75bbd0a4b3a94425236517edb91",
       "version_major": 2,
       "version_minor": 0
      },
      "text/plain": [
       "Uploading the dataset shards:   0%|          | 0/1 [00:00<?, ?it/s]"
      ]
     },
     "metadata": {},
     "output_type": "display_data"
    },
    {
     "data": {
      "application/vnd.jupyter.widget-view+json": {
       "model_id": "2385d5b43bde449bb881354ea83d59a5",
       "version_major": 2,
       "version_minor": 0
      },
      "text/plain": [
       "Creating parquet from Arrow format:   0%|          | 0/1 [00:00<?, ?ba/s]"
      ]
     },
     "metadata": {},
     "output_type": "display_data"
    },
    {
     "data": {
      "application/vnd.jupyter.widget-view+json": {
       "model_id": "58df3d21a07544638694e36beeb2b2ea",
       "version_major": 2,
       "version_minor": 0
      },
      "text/plain": [
       "README.md:   0%|          | 0.00/9.54k [00:00<?, ?B/s]"
      ]
     },
     "metadata": {},
     "output_type": "display_data"
    },
    {
     "data": {
      "application/vnd.jupyter.widget-view+json": {
       "model_id": "cbbbe117bc4d44d2a47b14ce30697460",
       "version_major": 2,
       "version_minor": 0
      },
      "text/plain": [
       "Uploading the dataset shards:   0%|          | 0/1 [00:00<?, ?it/s]"
      ]
     },
     "metadata": {},
     "output_type": "display_data"
    },
    {
     "data": {
      "application/vnd.jupyter.widget-view+json": {
       "model_id": "7ae6b926936243489bb6a3999cd9b27c",
       "version_major": 2,
       "version_minor": 0
      },
      "text/plain": [
       "Creating parquet from Arrow format:   0%|          | 0/1 [00:00<?, ?ba/s]"
      ]
     },
     "metadata": {},
     "output_type": "display_data"
    },
    {
     "data": {
      "application/vnd.jupyter.widget-view+json": {
       "model_id": "cf7c9d6a9cc54fd6be75b8d2b87dde15",
       "version_major": 2,
       "version_minor": 0
      },
      "text/plain": [
       "README.md:   0%|          | 0.00/10.2k [00:00<?, ?B/s]"
      ]
     },
     "metadata": {},
     "output_type": "display_data"
    },
    {
     "data": {
      "application/vnd.jupyter.widget-view+json": {
       "model_id": "8db887fbd15b411f90017ac8c3426e5d",
       "version_major": 2,
       "version_minor": 0
      },
      "text/plain": [
       "Uploading the dataset shards:   0%|          | 0/1 [00:00<?, ?it/s]"
      ]
     },
     "metadata": {},
     "output_type": "display_data"
    },
    {
     "data": {
      "application/vnd.jupyter.widget-view+json": {
       "model_id": "c360e97a6da34fe18cdb698d1e5701c6",
       "version_major": 2,
       "version_minor": 0
      },
      "text/plain": [
       "Creating parquet from Arrow format:   0%|          | 0/1 [00:00<?, ?ba/s]"
      ]
     },
     "metadata": {},
     "output_type": "display_data"
    },
    {
     "data": {
      "application/vnd.jupyter.widget-view+json": {
       "model_id": "50c03493ca9545ceb2c27baab09a7640",
       "version_major": 2,
       "version_minor": 0
      },
      "text/plain": [
       "README.md:   0%|          | 0.00/10.8k [00:00<?, ?B/s]"
      ]
     },
     "metadata": {},
     "output_type": "display_data"
    },
    {
     "data": {
      "application/vnd.jupyter.widget-view+json": {
       "model_id": "abdce7651a2948d9b5429a58da6237a1",
       "version_major": 2,
       "version_minor": 0
      },
      "text/plain": [
       "Uploading the dataset shards:   0%|          | 0/1 [00:00<?, ?it/s]"
      ]
     },
     "metadata": {},
     "output_type": "display_data"
    },
    {
     "data": {
      "application/vnd.jupyter.widget-view+json": {
       "model_id": "c930140bf9f94dea95f0b082ca995659",
       "version_major": 2,
       "version_minor": 0
      },
      "text/plain": [
       "Creating parquet from Arrow format:   0%|          | 0/1 [00:00<?, ?ba/s]"
      ]
     },
     "metadata": {},
     "output_type": "display_data"
    },
    {
     "data": {
      "application/vnd.jupyter.widget-view+json": {
       "model_id": "1068abc13bd54594af4d39220dfcf60f",
       "version_major": 2,
       "version_minor": 0
      },
      "text/plain": [
       "README.md:   0%|          | 0.00/11.5k [00:00<?, ?B/s]"
      ]
     },
     "metadata": {},
     "output_type": "display_data"
    },
    {
     "data": {
      "application/vnd.jupyter.widget-view+json": {
       "model_id": "fbe2c97e027b401eb04f817e9de38882",
       "version_major": 2,
       "version_minor": 0
      },
      "text/plain": [
       "Uploading the dataset shards:   0%|          | 0/1 [00:00<?, ?it/s]"
      ]
     },
     "metadata": {},
     "output_type": "display_data"
    },
    {
     "data": {
      "application/vnd.jupyter.widget-view+json": {
       "model_id": "99306c8a9b19439eab1059e6a2df0280",
       "version_major": 2,
       "version_minor": 0
      },
      "text/plain": [
       "Creating parquet from Arrow format:   0%|          | 0/1 [00:00<?, ?ba/s]"
      ]
     },
     "metadata": {},
     "output_type": "display_data"
    },
    {
     "data": {
      "application/vnd.jupyter.widget-view+json": {
       "model_id": "a285ff5c81594598b24b047d32c90087",
       "version_major": 2,
       "version_minor": 0
      },
      "text/plain": [
       "README.md:   0%|          | 0.00/12.1k [00:00<?, ?B/s]"
      ]
     },
     "metadata": {},
     "output_type": "display_data"
    },
    {
     "data": {
      "application/vnd.jupyter.widget-view+json": {
       "model_id": "53b0d8ccca4f4dfca3156958ba2d96d0",
       "version_major": 2,
       "version_minor": 0
      },
      "text/plain": [
       "Uploading the dataset shards:   0%|          | 0/1 [00:00<?, ?it/s]"
      ]
     },
     "metadata": {},
     "output_type": "display_data"
    },
    {
     "data": {
      "application/vnd.jupyter.widget-view+json": {
       "model_id": "631a56ea4fdd4896a0edca82f687345e",
       "version_major": 2,
       "version_minor": 0
      },
      "text/plain": [
       "Creating parquet from Arrow format:   0%|          | 0/1 [00:00<?, ?ba/s]"
      ]
     },
     "metadata": {},
     "output_type": "display_data"
    },
    {
     "data": {
      "application/vnd.jupyter.widget-view+json": {
       "model_id": "d5acf7bdd37e4dd7b23327aabd0bf408",
       "version_major": 2,
       "version_minor": 0
      },
      "text/plain": [
       "README.md:   0%|          | 0.00/12.7k [00:00<?, ?B/s]"
      ]
     },
     "metadata": {},
     "output_type": "display_data"
    },
    {
     "data": {
      "application/vnd.jupyter.widget-view+json": {
       "model_id": "54a15948fb124adcb4bd4125e3d02f13",
       "version_major": 2,
       "version_minor": 0
      },
      "text/plain": [
       "Uploading the dataset shards:   0%|          | 0/1 [00:00<?, ?it/s]"
      ]
     },
     "metadata": {},
     "output_type": "display_data"
    },
    {
     "data": {
      "application/vnd.jupyter.widget-view+json": {
       "model_id": "260930e828344a7f8438aacba355a803",
       "version_major": 2,
       "version_minor": 0
      },
      "text/plain": [
       "Creating parquet from Arrow format:   0%|          | 0/1 [00:00<?, ?ba/s]"
      ]
     },
     "metadata": {},
     "output_type": "display_data"
    },
    {
     "data": {
      "application/vnd.jupyter.widget-view+json": {
       "model_id": "a609dc750ce24aaeb1e13d37fe68f3e4",
       "version_major": 2,
       "version_minor": 0
      },
      "text/plain": [
       "README.md:   0%|          | 0.00/13.4k [00:00<?, ?B/s]"
      ]
     },
     "metadata": {},
     "output_type": "display_data"
    },
    {
     "data": {
      "application/vnd.jupyter.widget-view+json": {
       "model_id": "c3c51396fe024a63af12168768f64960",
       "version_major": 2,
       "version_minor": 0
      },
      "text/plain": [
       "Uploading the dataset shards:   0%|          | 0/1 [00:00<?, ?it/s]"
      ]
     },
     "metadata": {},
     "output_type": "display_data"
    },
    {
     "data": {
      "application/vnd.jupyter.widget-view+json": {
       "model_id": "43e8904a20634c97b66b42faba84e16c",
       "version_major": 2,
       "version_minor": 0
      },
      "text/plain": [
       "Creating parquet from Arrow format:   0%|          | 0/1 [00:00<?, ?ba/s]"
      ]
     },
     "metadata": {},
     "output_type": "display_data"
    },
    {
     "data": {
      "application/vnd.jupyter.widget-view+json": {
       "model_id": "ba15340fb97c4a06a9033bc9e30ced85",
       "version_major": 2,
       "version_minor": 0
      },
      "text/plain": [
       "README.md:   0%|          | 0.00/14.0k [00:00<?, ?B/s]"
      ]
     },
     "metadata": {},
     "output_type": "display_data"
    },
    {
     "data": {
      "application/vnd.jupyter.widget-view+json": {
       "model_id": "7bec5c5c50134b698fa44b27cc5345c1",
       "version_major": 2,
       "version_minor": 0
      },
      "text/plain": [
       "Uploading the dataset shards:   0%|          | 0/1 [00:00<?, ?it/s]"
      ]
     },
     "metadata": {},
     "output_type": "display_data"
    },
    {
     "data": {
      "application/vnd.jupyter.widget-view+json": {
       "model_id": "8f464c4ec85e429880d916548b3a0f61",
       "version_major": 2,
       "version_minor": 0
      },
      "text/plain": [
       "Creating parquet from Arrow format:   0%|          | 0/1 [00:00<?, ?ba/s]"
      ]
     },
     "metadata": {},
     "output_type": "display_data"
    },
    {
     "data": {
      "application/vnd.jupyter.widget-view+json": {
       "model_id": "619b5497d6404885a6c6c552e832be3a",
       "version_major": 2,
       "version_minor": 0
      },
      "text/plain": [
       "README.md:   0%|          | 0.00/14.7k [00:00<?, ?B/s]"
      ]
     },
     "metadata": {},
     "output_type": "display_data"
    },
    {
     "data": {
      "application/vnd.jupyter.widget-view+json": {
       "model_id": "07faad2bd861409ca036c510e03c63da",
       "version_major": 2,
       "version_minor": 0
      },
      "text/plain": [
       "Uploading the dataset shards:   0%|          | 0/1 [00:00<?, ?it/s]"
      ]
     },
     "metadata": {},
     "output_type": "display_data"
    },
    {
     "data": {
      "application/vnd.jupyter.widget-view+json": {
       "model_id": "61d5ef3289e44aa2a696779cfcbe2ebb",
       "version_major": 2,
       "version_minor": 0
      },
      "text/plain": [
       "Creating parquet from Arrow format:   0%|          | 0/1 [00:00<?, ?ba/s]"
      ]
     },
     "metadata": {},
     "output_type": "display_data"
    },
    {
     "data": {
      "application/vnd.jupyter.widget-view+json": {
       "model_id": "bafc81debb204e92af985691a0499e57",
       "version_major": 2,
       "version_minor": 0
      },
      "text/plain": [
       "README.md:   0%|          | 0.00/15.4k [00:00<?, ?B/s]"
      ]
     },
     "metadata": {},
     "output_type": "display_data"
    },
    {
     "data": {
      "application/vnd.jupyter.widget-view+json": {
       "model_id": "fdca353e798c480fa30ba888d877269c",
       "version_major": 2,
       "version_minor": 0
      },
      "text/plain": [
       "Uploading the dataset shards:   0%|          | 0/1 [00:00<?, ?it/s]"
      ]
     },
     "metadata": {},
     "output_type": "display_data"
    },
    {
     "data": {
      "application/vnd.jupyter.widget-view+json": {
       "model_id": "fcdcdf54058b4745a78d37d94fdf98ab",
       "version_major": 2,
       "version_minor": 0
      },
      "text/plain": [
       "Creating parquet from Arrow format:   0%|          | 0/1 [00:00<?, ?ba/s]"
      ]
     },
     "metadata": {},
     "output_type": "display_data"
    },
    {
     "data": {
      "application/vnd.jupyter.widget-view+json": {
       "model_id": "2d2a8af06482493aa7dd41bb73a46cd8",
       "version_major": 2,
       "version_minor": 0
      },
      "text/plain": [
       "README.md:   0%|          | 0.00/16.1k [00:00<?, ?B/s]"
      ]
     },
     "metadata": {},
     "output_type": "display_data"
    },
    {
     "data": {
      "application/vnd.jupyter.widget-view+json": {
       "model_id": "f93997f5e102439498ad6bef7f16b99d",
       "version_major": 2,
       "version_minor": 0
      },
      "text/plain": [
       "Uploading the dataset shards:   0%|          | 0/1 [00:00<?, ?it/s]"
      ]
     },
     "metadata": {},
     "output_type": "display_data"
    },
    {
     "data": {
      "application/vnd.jupyter.widget-view+json": {
       "model_id": "ad3b3c213e654ec5afd3a7cb38a309ed",
       "version_major": 2,
       "version_minor": 0
      },
      "text/plain": [
       "Creating parquet from Arrow format:   0%|          | 0/1 [00:00<?, ?ba/s]"
      ]
     },
     "metadata": {},
     "output_type": "display_data"
    },
    {
     "data": {
      "application/vnd.jupyter.widget-view+json": {
       "model_id": "7752cd090b45472387fbb2da8a8214c1",
       "version_major": 2,
       "version_minor": 0
      },
      "text/plain": [
       "README.md:   0%|          | 0.00/16.7k [00:00<?, ?B/s]"
      ]
     },
     "metadata": {},
     "output_type": "display_data"
    }
   ],
   "source": [
    "for cat in sorted(os.listdir(par_dir)):\n",
    "    subset = Dataset.load_from_disk(os.path.join(par_dir, cat))\n",
    "    subset.push_to_hub(\"sachithgunasekara/self-discover-mistral-modified-bbh-eval\", cat)"
   ]
  }
 ],
 "metadata": {
  "kernelspec": {
   "display_name": "Python 3 (ipykernel)",
   "language": "python",
   "name": "python3"
  },
  "language_info": {
   "codemirror_mode": {
    "name": "ipython",
    "version": 3
   },
   "file_extension": ".py",
   "mimetype": "text/x-python",
   "name": "python",
   "nbconvert_exporter": "python",
   "pygments_lexer": "ipython3",
   "version": "3.8.10"
  }
 },
 "nbformat": 4,
 "nbformat_minor": 5
}
