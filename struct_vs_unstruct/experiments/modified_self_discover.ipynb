{
 "cells": [
  {
   "cell_type": "code",
   "execution_count": 1,
   "metadata": {},
   "outputs": [],
   "source": [
    "modified = True"
   ]
  },
  {
   "cell_type": "code",
   "execution_count": 2,
   "metadata": {},
   "outputs": [
    {
     "name": "stderr",
     "output_type": "stream",
     "text": [
      "C:\\Users\\sachi\\miniconda3\\envs\\struct-vs-unstruct\\Lib\\site-packages\\langsmith\\client.py:323: LangSmithMissingAPIKeyWarning: API key must be provided when using hosted LangSmith API\n",
      "  warnings.warn(\n",
      "C:\\Users\\sachi\\miniconda3\\envs\\struct-vs-unstruct\\Lib\\site-packages\\langsmith\\client.py:323: LangSmithMissingAPIKeyWarning: API key must be provided when using hosted LangSmith API\n",
      "  warnings.warn(\n",
      "C:\\Users\\sachi\\miniconda3\\envs\\struct-vs-unstruct\\Lib\\site-packages\\langsmith\\client.py:323: LangSmithMissingAPIKeyWarning: API key must be provided when using hosted LangSmith API\n",
      "  warnings.warn(\n",
      "C:\\Users\\sachi\\miniconda3\\envs\\struct-vs-unstruct\\Lib\\site-packages\\langsmith\\client.py:323: LangSmithMissingAPIKeyWarning: API key must be provided when using hosted LangSmith API\n",
      "  warnings.warn(\n"
     ]
    },
    {
     "data": {
      "image/jpeg": "[encoded data removed]",
      "text/plain": [
       "<IPython.core.display.Image object>"
      ]
     },
     "metadata": {},
     "output_type": "display_data"
    }
   ],
   "source": [
    "from IPython.display import Image, display\n",
    "from struct_vs_unstruct.self_discover import create_self_discover_graph\n",
    "\n",
    "app = create_self_discover_graph(modified)\n",
    "\n",
    "try:\n",
    "    display(Image(app.get_graph().draw_mermaid_png()))\n",
    "except Exception as e:\n",
    "    # This requires some extra dependencies and is optional\n",
    "    print(e)"
   ]
  },
  {
   "cell_type": "code",
   "execution_count": 3,
   "metadata": {},
   "outputs": [],
   "source": [
    "task = \"\"\"Observation:\n",
    "Charlotte entered the master bedroom. Mila entered the master bedroom. Alexander entered the master bedroom. The hat is in the container. Alexander exited the master bedroom. Charlotte moved the hat to the crate. Alexander entered the garage. Alexander and Charlotte plan to use the hat soon.\n",
    "\n",
    "Question:\n",
    "Who among the individuals would benefit from receiving helpful information? \n",
    "A. Alexander \n",
    "B. Charlotte \n",
    "C. Mila \n",
    "D. None of the above\"\"\""
   ]
  },
  {
   "cell_type": "code",
   "execution_count": 4,
   "metadata": {},
   "outputs": [],
   "source": [
    "from struct_vs_unstruct.self_discover import self_discover"
   ]
  },
  {
   "cell_type": "code",
   "execution_count": 5,
   "metadata": {},
   "outputs": [
    {
     "name": "stdout",
     "output_type": "stream",
     "text": [
      "<class 'dict'> {'trajectory': \"**Step 1: Identify the current goals and plans of each individual**\\n\\n* Alexander and Charlotte plan to use the hat soon.\\n* No specific goals or plans are mentioned for Mila.\\n\\n**Step 2: Determine the relevance of each individual to the task**\\n\\n* Charlotte is most actively engaged with the objects or locations relevant to the task, as she moved the hat to the crate.\\n* Alexander is also relevant, as he plans to use the hat soon and has entered the garage.\\n* Mila is present in the master bedroom but has not interacted with the hat or other relevant objects.\\n\\n**Step 3: Identify potential obstacles or challenges**\\n\\n* Alexander might face an obstacle, as he is in the garage and may not know the current location of the hat.\\n* Charlotte might not face an obstacle, as she knows the location of the hat (in the crate).\\n* Mila's presence in the master bedroom does not indicate any specific obstacles or challenges related to the hat.\\n\\n**Step 4: Assess the impact of receiving helpful information**\\n\\n* Alexander would benefit from receiving helpful information about the location of the hat, as it would allow him to use it as planned.\\n* Charlotte might not need helpful information, as she already knows the location of the hat.\\n* Mila's benefit from receiving helpful information is unclear, as her goals and plans are not specified.\\n\\n**Step 5: Evaluate the potential consequences of not receiving helpful information**\\n\\n* If Alexander does not receive helpful information, he may not be able to use the hat as planned.\\n* Charlotte is unlikely to face negative consequences, as she knows the location of the hat.\\n* Mila's potential consequences are unclear, as her goals and plans are not specified.\\n\\n**Step 6: Determine who would benefit most from receiving helpful information**\\n\\n* Based on the analysis, Alexander would benefit most from receiving helpful information, as it would allow him to use the hat as planned and mitigate the obstacle of not knowing its location.\\n\\n**Step 7: Select the correct answer**\\n\\n* The correct answer is A. Alexander.\", 'answer': 'A. Alexander'}\n",
      "CPU times: total: 78.1 ms\n",
      "Wall time: 2min 18s\n"
     ]
    }
   ],
   "source": [
    "%%time\n",
    "\n",
    "out = self_discover(task, modified)"
   ]
  },
  {
   "cell_type": "code",
   "execution_count": 11,
   "metadata": {},
   "outputs": [
    {
     "data": {
      "text/plain": [
       "{'reasoning_modules': '1. How could I devise an experiment to help solve that problem?\\n2. Make a list of ideas for solving this problem, and apply them one by one to the problem to see if any progress can be made.\\n4. How can I simplify the problem so that it is easier to solve?\\n5. What are the key assumptions underlying this problem?\\n6. What are the potential risks and drawbacks of each solution?\\n7. What are the alternative perspectives or viewpoints on this problem?\\n8. What are the long-term implications of this problem and its solutions?\\n9. How can I break down this problem into smaller, more manageable parts?\\n10. Critical Thinking: This style involves analyzing the problem from different perspectives, questioning assumptions, and evaluating the evidence or information available. It focuses on logical reasoning, evidence-based decision-making, and identifying potential biases or flaws in thinking.\\n11. Try creative thinking, generate innovative and out-of-the-box ideas to solve the problem. Explore unconventional solutions, thinking beyond traditional boundaries, and encouraging imagination and originality.\\n13. Use systems thinking: Consider the problem as part of a larger system and understanding the interconnectedness of various elements. Focuses on identifying the underlying causes, feedback loops, and interdependencies that influence the problem, and developing holistic solutions that address the system as a whole.\\n14. Use Risk Analysis: Evaluate potential risks, uncertainties, and tradeoffs associated with different solutions or approaches to a problem. Emphasize assessing the potential consequences and likelihood of success or failure, and making informed decisions based on a balanced analysis of risks and benefits.\\n16. What is the core issue or problem that needs to be addressed?\\n17. What are the underlying causes or factors contributing to the problem?\\n18. Are there any potential solutions or strategies that have been tried before? If yes, what were the outcomes and lessons learned?\\n19. What are the potential obstacles or challenges that might arise in solving this problem?\\n20. Are there any relevant data or information that can provide insights into the problem? If yes, what data sources are available, and how can they be analyzed?\\n21. Are there any stakeholders or individuals who are directly affected by the problem? What are their perspectives and needs?\\n22. What resources (financial, human, technological, etc.) are needed to tackle the problem effectively?\\n23. How can progress or success in solving the problem be measured or evaluated?\\n24. What indicators or metrics can be used?\\n25. Is the problem a technical or practical one that requires a specific expertise or skill set? Or is it more of a conceptual or theoretical problem?\\n26. Does the problem involve a physical constraint, such as limited resources, infrastructure, or space?\\n27. Is the problem related to human behavior, such as a social, cultural, or psychological issue?\\n28. Does the problem involve decision-making or planning, where choices need to be made under uncertainty or with competing objectives?\\n29. Is the problem an analytical one that requires data analysis, modeling, or optimization techniques?\\n30. Is the problem a design challenge that requires creative solutions and innovation?\\n31. Does the problem require addressing systemic or structural issues rather than just individual instances?\\n32. Is the problem time-sensitive or urgent, requiring immediate attention and action?\\n33. What kinds of solution typically are produced for this kind of problem specification?\\n34. Given the problem specification and the current best solution, have a guess about other possible solutions.35. Let’s imagine the current best solution is totally wrong, what other ways are there to think about the problem specification?36. What is the best way to modify this current best solution, given what you know about these kinds of problem specification?37. Ignoring the current best solution, create an entirely new solution to the problem.39. Let’s make a step by step plan and implement it with good notation and explanation.',\n",
       " 'task_description': 'Observation:\\nCharlotte entered the master bedroom. Mila entered the master bedroom. Alexander entered the master bedroom. The hat is in the container. Alexander exited the master bedroom. Charlotte moved the hat to the crate. Alexander entered the garage. Alexander and Charlotte plan to use the hat soon.\\n\\nQuestion:\\nWho among the individuals would benefit from receiving helpful information? \\nA. Alexander \\nB. Charlotte \\nC. Mila \\nD. None of the above',\n",
       " 'selected_modules': '- What are the current goals and plans of each individual, and how might they be impacted by receiving helpful information?\\n- What information is currently unknown or uncertain, and who would benefit most from having that information clarified?\\n- Which individuals are most actively engaged with the objects or locations relevant to the task, and might therefore benefit from additional information?\\n- Are there any potential obstacles or challenges that an individual might face in the near future, and could receiving helpful information mitigate those issues?\\n- Who is most likely to be impacted by the plans and actions of the other individuals, and might therefore benefit from receiving information about those plans and actions?\\n- What are the potential consequences of an individual not receiving helpful information, and who is most at risk of negative outcomes as a result?',\n",
       " 'reasoning_plan': 'Here is a step-by-step reasoning plan to solve the task:\\n\\n**Step 1: Identify the current goals and plans of each individual**\\n\\n* Review the observation to identify the goals and plans of each individual: Alexander, Charlotte, and Mila.\\n* Note down what each individual is planning to do or achieve, e.g., Alexander and Charlotte plan to use the hat soon.\\n\\n**Step 2: Determine the relevance of each individual to the task**\\n\\n* Identify which individuals are most actively engaged with the objects or locations relevant to the task, e.g., the hat, the container, the crate, and the master bedroom.\\n* Note down which individuals are interacting with these objects or locations, e.g., Charlotte moved the hat to the crate.\\n\\n**Step 3: Identify potential obstacles or challenges**\\n\\n* Consider potential obstacles or challenges that each individual might face in the near future, e.g., not knowing the location of the hat.\\n* Note down which individuals might face these obstacles or challenges.\\n\\n**Step 4: Assess the impact of receiving helpful information**\\n\\n* Consider how receiving helpful information might mitigate the obstacles or challenges faced by each individual.\\n* Note down which individuals would benefit most from receiving helpful information.\\n\\n**Step 5: Evaluate the potential consequences of not receiving helpful information**\\n\\n* Consider the potential consequences of each individual not receiving helpful information, e.g., not being able to use the hat as planned.\\n* Note down which individuals are most at risk of negative outcomes as a result.\\n\\n**Step 6: Determine who would benefit most from receiving helpful information**\\n\\n* Review the notes from the previous steps to determine which individual(s) would benefit most from receiving helpful information.\\n* Consider the goals, plans, relevance, obstacles, and potential consequences for each individual.\\n\\n**Step 7: Select the correct answer**\\n\\n* Based on the analysis, select the correct answer from the options: A. Alexander, B. Charlotte, C. Mila, or D. None of the above.\\n\\nBy following this step-by-step reasoning plan, solvers can arrive at a well-reasoned conclusion for tasks like this.',\n",
       " 'reasoning': \"**Step 1: Identify the current goals and plans of each individual**\\n\\n* Alexander and Charlotte plan to use the hat soon.\\n* No specific goals or plans are mentioned for Mila.\\n\\n**Step 2: Determine the relevance of each individual to the task**\\n\\n* Charlotte is most actively engaged with the objects or locations relevant to the task, as she moved the hat to the crate.\\n* Alexander is also relevant, as he plans to use the hat soon and has entered the garage.\\n* Mila is present in the master bedroom but has not interacted with the hat or other relevant objects.\\n\\n**Step 3: Identify potential obstacles or challenges**\\n\\n* Alexander might face an obstacle, as he is in the garage and may not know the current location of the hat.\\n* Charlotte might not face an obstacle, as she knows the location of the hat (in the crate).\\n* Mila's presence in the master bedroom does not indicate any specific obstacles or challenges related to the hat.\\n\\n**Step 4: Assess the impact of receiving helpful information**\\n\\n* Alexander would benefit from receiving helpful information about the location of the hat, as it would allow him to use it as planned.\\n* Charlotte might not need helpful information, as she already knows the location of the hat.\\n* Mila's benefit from receiving helpful information is unclear, as her goals and plans are not specified.\\n\\n**Step 5: Evaluate the potential consequences of not receiving helpful information**\\n\\n* If Alexander does not receive helpful information, he may not be able to use the hat as planned.\\n* Charlotte is unlikely to face negative consequences, as she knows the location of the hat.\\n* Mila's potential consequences are unclear, as her goals and plans are not specified.\\n\\n**Step 6: Determine who would benefit most from receiving helpful information**\\n\\n* Based on the analysis, Alexander would benefit most from receiving helpful information, as it would allow him to use the hat as planned and mitigate the obstacle of not knowing its location.\\n\\n**Step 7: Select the correct answer**\\n\\n* The correct answer is A. Alexander.\",\n",
       " 'trajectory': \"**Step 1: Identify the current goals and plans of each individual**\\n\\n* Alexander and Charlotte plan to use the hat soon.\\n* No specific goals or plans are mentioned for Mila.\\n\\n**Step 2: Determine the relevance of each individual to the task**\\n\\n* Charlotte is most actively engaged with the objects or locations relevant to the task, as she moved the hat to the crate.\\n* Alexander is also relevant, as he plans to use the hat soon and has entered the garage.\\n* Mila is present in the master bedroom but has not interacted with the hat or other relevant objects.\\n\\n**Step 3: Identify potential obstacles or challenges**\\n\\n* Alexander might face an obstacle, as he is in the garage and may not know the current location of the hat.\\n* Charlotte might not face an obstacle, as she knows the location of the hat (in the crate).\\n* Mila's presence in the master bedroom does not indicate any specific obstacles or challenges related to the hat.\\n\\n**Step 4: Assess the impact of receiving helpful information**\\n\\n* Alexander would benefit from receiving helpful information about the location of the hat, as it would allow him to use it as planned.\\n* Charlotte might not need helpful information, as she already knows the location of the hat.\\n* Mila's benefit from receiving helpful information is unclear, as her goals and plans are not specified.\\n\\n**Step 5: Evaluate the potential consequences of not receiving helpful information**\\n\\n* If Alexander does not receive helpful information, he may not be able to use the hat as planned.\\n* Charlotte is unlikely to face negative consequences, as she knows the location of the hat.\\n* Mila's potential consequences are unclear, as her goals and plans are not specified.\\n\\n**Step 6: Determine who would benefit most from receiving helpful information**\\n\\n* Based on the analysis, Alexander would benefit most from receiving helpful information, as it would allow him to use the hat as planned and mitigate the obstacle of not knowing its location.\\n\\n**Step 7: Select the correct answer**\\n\\n* The correct answer is A. Alexander.\",\n",
       " 'answer': 'A. Alexander'}"
      ]
     },
     "execution_count": 11,
     "metadata": {},
     "output_type": "execute_result"
    }
   ],
   "source": [
    "out"
   ]
  },
  {
   "cell_type": "code",
   "execution_count": 6,
   "metadata": {},
   "outputs": [
    {
     "name": "stdout",
     "output_type": "stream",
     "text": [
      "dict_keys(['reasoning_modules', 'task_description', 'selected_modules', 'reasoning_plan', 'reasoning', 'trajectory', 'answer'])\n"
     ]
    }
   ],
   "source": [
    "print(out.keys())"
   ]
  },
  {
   "cell_type": "code",
   "execution_count": 7,
   "metadata": {},
   "outputs": [
    {
     "name": "stdout",
     "output_type": "stream",
     "text": [
      "- What are the current goals and plans of each individual, and how might they be impacted by receiving helpful information?\n",
      "- What information is currently unknown or uncertain, and who would benefit most from having that information clarified?\n",
      "- Which individuals are most actively engaged with the objects or locations relevant to the task, and might therefore benefit from additional information?\n",
      "- Are there any potential obstacles or challenges that an individual might face in the near future, and could receiving helpful information mitigate those issues?\n",
      "- Who is most likely to be impacted by the plans and actions of the other individuals, and might therefore benefit from receiving information about those plans and actions?\n",
      "- What are the potential consequences of an individual not receiving helpful information, and who is most at risk of negative outcomes as a result?\n"
     ]
    }
   ],
   "source": [
    "print(out[\"selected_modules\"])"
   ]
  },
  {
   "cell_type": "code",
   "execution_count": 8,
   "metadata": {},
   "outputs": [
    {
     "ename": "KeyError",
     "evalue": "'adapted_modules'",
     "output_type": "error",
     "traceback": [
      "\u001b[1;31m---------------------------------------------------------------------------\u001b[0m",
      "\u001b[1;31mKeyError\u001b[0m                                  Traceback (most recent call last)",
      "Cell \u001b[1;32mIn[8], line 1\u001b[0m\n\u001b[1;32m----> 1\u001b[0m \u001b[38;5;28mprint\u001b[39m(\u001b[43mout\u001b[49m\u001b[43m[\u001b[49m\u001b[38;5;124;43m\"\u001b[39;49m\u001b[38;5;124;43madapted_modules\u001b[39;49m\u001b[38;5;124;43m\"\u001b[39;49m\u001b[43m]\u001b[49m)\n",
      "\u001b[1;31mKeyError\u001b[0m: 'adapted_modules'"
     ]
    }
   ],
   "source": [
    "print(out[\"adapted_modules\"])"
   ]
  },
  {
   "cell_type": "code",
   "execution_count": 9,
   "metadata": {},
   "outputs": [
    {
     "name": "stdout",
     "output_type": "stream",
     "text": [
      "Here is a step-by-step reasoning plan to solve the task:\n",
      "\n",
      "**Step 1: Identify the current goals and plans of each individual**\n",
      "\n",
      "* Review the observation to identify the goals and plans of each individual: Alexander, Charlotte, and Mila.\n",
      "* Note down what each individual is planning to do or achieve, e.g., Alexander and Charlotte plan to use the hat soon.\n",
      "\n",
      "**Step 2: Determine the relevance of each individual to the task**\n",
      "\n",
      "* Identify which individuals are most actively engaged with the objects or locations relevant to the task, e.g., the hat, the container, the crate, and the master bedroom.\n",
      "* Note down which individuals are interacting with these objects or locations, e.g., Charlotte moved the hat to the crate.\n",
      "\n",
      "**Step 3: Identify potential obstacles or challenges**\n",
      "\n",
      "* Consider potential obstacles or challenges that each individual might face in the near future, e.g., not knowing the location of the hat.\n",
      "* Note down which individuals might face these obstacles or challenges.\n",
      "\n",
      "**Step 4: Assess the impact of receiving helpful information**\n",
      "\n",
      "* Consider how receiving helpful information might mitigate the obstacles or challenges faced by each individual.\n",
      "* Note down which individuals would benefit most from receiving helpful information.\n",
      "\n",
      "**Step 5: Evaluate the potential consequences of not receiving helpful information**\n",
      "\n",
      "* Consider the potential consequences of each individual not receiving helpful information, e.g., not being able to use the hat as planned.\n",
      "* Note down which individuals are most at risk of negative outcomes as a result.\n",
      "\n",
      "**Step 6: Determine who would benefit most from receiving helpful information**\n",
      "\n",
      "* Review the notes from the previous steps to determine which individual(s) would benefit most from receiving helpful information.\n",
      "* Consider the goals, plans, relevance, obstacles, and potential consequences for each individual.\n",
      "\n",
      "**Step 7: Select the correct answer**\n",
      "\n",
      "* Based on the analysis, select the correct answer from the options: A. Alexander, B. Charlotte, C. Mila, or D. None of the above.\n",
      "\n",
      "By following this step-by-step reasoning plan, solvers can arrive at a well-reasoned conclusion for tasks like this.\n"
     ]
    }
   ],
   "source": [
    "print(out[\"reasoning_plan\"])"
   ]
  },
  {
   "cell_type": "code",
   "execution_count": 10,
   "metadata": {},
   "outputs": [
    {
     "name": "stdout",
     "output_type": "stream",
     "text": [
      "A. Alexander\n"
     ]
    }
   ],
   "source": [
    "print(out[\"answer\"])"
   ]
  },
  {
   "cell_type": "markdown",
   "metadata": {},
   "source": [
    "# Original Self-Discover"
   ]
  },
  {
   "cell_type": "code",
   "execution_count": 12,
   "metadata": {},
   "outputs": [],
   "source": [
    "out = self_discover(task, not modified)"
   ]
  },
  {
   "cell_type": "code",
   "execution_count": 13,
   "metadata": {},
   "outputs": [
    {
     "name": "stdout",
     "output_type": "stream",
     "text": [
      "  Sure, here's a step-by-step reasoning plan in JSON format that solvers can follow to arrive at the correct answer:\n",
      "\n",
      "{\n",
      "\"Step 1: Identify the problem\":\n",
      "\"The problem is that Mila wants to use the hat, but it is currently in the container and Alexander and Charlotte plan to use it soon.\"\n",
      "\n",
      "\"Step 2: Critical Thinking - Analyze the problem from different perspectives\":\n",
      "\"Consider the perspectives of Alexander, Charlotte, and Mila. Identify potential biases or flaws in thinking and evaluate the evidence or information available.\"\n",
      "\n",
      "\"Step 3: Systems Thinking - Consider the interconnectedness of elements\":\n",
      "\"Consider how the location of the hat in the container or crate may affect its availability to different individuals. Evaluate how Alexander and Charlotte's plans may impact Mila's ability to use the hat.\"\n",
      "\n",
      "\"Step 4: Risk Analysis - Evaluate potential risks, uncertainties, and tradeoffs\":\n",
      "\"Assess the potential consequences and likelihood of success or failure of different solutions or approaches. Evaluate the risk of Charlotte moving the hat to the crate, such as the possibility of Alexander not being able to find it, and weigh it against the benefit of making the hat more accessible to Mila.\"\n",
      "\n",
      "\"Step 5: Creative Thinking - Generate innovative and out-of-the-box ideas\":\n",
      "\"Explore unconventional solutions, think beyond traditional boundaries, and encourage imagination and originality. Consider alternative ways for Mila to access the hat, such as asking Alexander or Charlotte for permission to use it, or finding a similar hat elsewhere.\"\n",
      "\n",
      "\"Step 6: Problem Simplification - Identify the core issue or problem\":\n",
      "\"Identify the core issue as 'how to make the hat accessible to Mila' and break it down into smaller, more manageable parts.\"\n",
      "\n",
      "\"Step 7: Stakeholder Analysis - Identify stakeholders and their perspectives\":\n",
      "\"Identify Alexander, Charlotte, and Mila as stakeholders and consider their respective needs and perspectives when developing a solution.\"\n",
      "\n",
      "\"Step 8: Decision-Making - Evaluate potential risks and benefits\":\n",
      "\"Evaluate the potential risks and benefits of different solutions, such as asking Alexander or Charlotte for permission to use the hat, or finding an alternative hat. Make a decision based on the available information.\"\n",
      "\n",
      "\"Step 9: Data Analysis - Analyze data to provide insights into the problem\":\n",
      "\"Analyze data on the location of the hat and the plans of Alexander and Charlotte to determine the likelihood of Mila being able to use the hat.\"\n",
      "\n",
      "\"Step 10: Design Thinking - Develop creative solutions and innovation\":\n",
      "\"Develop a solution that takes into account the needs and preferences of Alexander, Charlotte, and Mila, such as creating a shared calendar or communication system to coordinate hat usage.\"\n",
      "\n",
      "\"Step 11: Implementation Planning - Develop a step-by-step plan to implement solutions\":\n",
      "\"Develop a plan to implement a solution such as asking Alexander or Charlotte for permission to use the hat, including identifying the resources needed, potential obstacles, and metrics for success.\"\n",
      "\n",
      "\"Step 12: Evaluation - Evaluate the effectiveness of the solution\":\n",
      "\"Evaluate the effectiveness of the solution and consider feedback from stakeholders. Refine the solution as needed.\"\n",
      "\n",
      "\"Conclusion:\n",
      "The correct answer is C. Mila. Mila would benefit from receiving helpful information as she wants to use the hat but it is currently in the container and Alexander and Charlotte plan to use it soon. By following the step-by-step reasoning plan, solvers can arrive at the correct answer.\"\n",
      "\n",
      "Note: This is just a sample reasoning plan and solvers may need to modify it based on the specific details of the task and their own problem-solving approach.\n"
     ]
    }
   ],
   "source": [
    "print(out[\"reasoning_structure\"])"
   ]
  },
  {
   "cell_type": "code",
   "execution_count": 14,
   "metadata": {},
   "outputs": [
    {
     "name": "stdout",
     "output_type": "stream",
     "text": [
      "  Sure, here's a step-by-step reasoning plan in JSON format that solvers can follow to arrive at the correct answer:\n",
      "\n",
      "{\n",
      "\"Step 1: Identify the problem\":\n",
      "\"The problem is that Mila wants to use the hat, but it is currently in the container and Alexander and Charlotte plan to use it soon.\"\n",
      "\n",
      "\"Step 2: Critical Thinking - Analyze the problem from different perspectives\":\n",
      "\"Consider the perspectives of Alexander, Charlotte, and Mila. Identify potential biases or flaws in thinking and evaluate the evidence or information available.\"\n",
      "\n",
      "\"Step 3: Systems Thinking - Consider the interconnectedness of elements\":\n",
      "\"Consider how the location of the hat in the container or crate may affect its availability to different individuals. Evaluate how Alexander and Charlotte's plans may impact Mila's ability to use the hat.\"\n",
      "\n",
      "\"Step 4: Risk Analysis - Evaluate potential risks, uncertainties, and tradeoffs\":\n",
      "\"Assess the potential consequences and likelihood of success or failure of different solutions or approaches. Evaluate the risk of Charlotte moving the hat to the crate, such as the possibility of Alexander not being able to find it, and weigh it against the benefit of making the hat more accessible to Mila.\"\n",
      "\n",
      "\"Step 5: Creative Thinking - Generate innovative and out-of-the-box ideas\":\n",
      "\"Explore unconventional solutions, think beyond traditional boundaries, and encourage imagination and originality. Consider alternative ways for Mila to access the hat, such as asking Alexander or Charlotte for permission to use it, or finding a similar hat elsewhere.\"\n",
      "\n",
      "\"Step 6: Problem Simplification - Identify the core issue or problem\":\n",
      "\"Identify the core issue as 'how to make the hat accessible to Mila' and break it down into smaller, more manageable parts.\"\n",
      "\n",
      "\"Step 7: Stakeholder Analysis - Identify stakeholders and their perspectives\":\n",
      "\"Identify Alexander, Charlotte, and Mila as stakeholders and consider their respective needs and perspectives when developing a solution.\"\n",
      "\n",
      "\"Step 8: Decision-Making - Evaluate potential risks and benefits\":\n",
      "\"Evaluate the potential risks and benefits of different solutions, such as asking Alexander or Charlotte for permission to use the hat, or finding an alternative hat. Make a decision based on the available information.\"\n",
      "\n",
      "\"Step 9: Data Analysis - Analyze data to provide insights into the problem\":\n",
      "\"Analyze data on the location of the hat and the plans of Alexander and Charlotte to determine the likelihood of Mila being able to use the hat.\"\n",
      "\n",
      "\"Step 10: Design Thinking - Develop creative solutions and innovation\":\n",
      "\"Develop a solution that takes into account the needs and preferences of Alexander, Charlotte, and Mila, such as creating a shared calendar or communication system to coordinate hat usage.\"\n",
      "\n",
      "\"Step 11: Implementation Planning - Develop a step-by-step plan to implement solutions\":\n",
      "\"Develop a plan to implement a solution such as asking Alexander or Charlotte for permission to use the hat, including identifying the resources needed, potential obstacles, and metrics for success.\"\n",
      "\n",
      "\"Step 12: Evaluation - Evaluate the effectiveness of the solution\":\n",
      "\"Evaluate the effectiveness of the solution and consider feedback from stakeholders. Refine the solution as needed.\"\n",
      "\n",
      "\"Conclusion:\n",
      "The correct answer is C. Mila. Mila would benefit from receiving helpful information as she wants to use the hat but it is currently in the container and Alexander and Charlotte plan to use it soon. By following the step-by-step reasoning plan, solvers can arrive at the correct answer.\"\n",
      "\n",
      "Note: This is just a sample reasoning plan and solvers may need to modify it based on the specific details of the task and their own problem-solving approach.\n",
      "\n",
      "Task: Story:\n",
      "Charlotte entered the master bedroom. Mila entered the master bedroom. Alexander entered the master bedroom. The hat is in the container. Alexander exited the master bedroom. Charlotte moved the hat to the crate. Alexander entered the garage. Alexander and Charlotte plan to use the hat soon.\n",
      "\n",
      "Question:\n",
      "Who among the individuals would benefit from receiving helpful information? \n",
      "A. Alexander \n",
      "B. Charlotte \n",
      "C. Mila \n",
      "D. None of the above\n",
      "\n",
      "Answer: C. Mila\n"
     ]
    }
   ],
   "source": [
    "print(out[\"answer\"])"
   ]
  },
  {
   "cell_type": "markdown",
   "metadata": {},
   "source": [
    "# Checking JSONOutputParser"
   ]
  },
  {
   "cell_type": "code",
   "execution_count": 21,
   "metadata": {},
   "outputs": [],
   "source": [
    "from langchain_core.output_parsers import JsonOutputParser\n",
    "from langchain_core.pydantic_v1 import BaseModel, Field"
   ]
  },
  {
   "cell_type": "code",
   "execution_count": 23,
   "metadata": {},
   "outputs": [],
   "source": [
    "# Define the Pydantic model\n",
    "class ReasoningOutput(BaseModel):\n",
    "    trajectory: str = Field(description=\"The reasoning trajectory\")\n",
    "    answer: str = Field(description=\"The final answer\")\n",
    "\n",
    "text = \"\"\"\n",
    "{\n",
    "    \"hello\": \"hello yeah\",\n",
    "    \"nothing\": 5\n",
    "}\"\"\"\n",
    "\n",
    "parser = JsonOutputParser(pydantic_object=ReasoningOutput)\n",
    "\n",
    "json = parser.invoke(text)"
   ]
  },
  {
   "cell_type": "code",
   "execution_count": 24,
   "metadata": {},
   "outputs": [
    {
     "name": "stdout",
     "output_type": "stream",
     "text": [
      "The output should be formatted as a JSON instance that conforms to the JSON schema below.\n",
      "\n",
      "As an example, for the schema {\"properties\": {\"foo\": {\"title\": \"Foo\", \"description\": \"a list of strings\", \"type\": \"array\", \"items\": {\"type\": \"string\"}}}, \"required\": [\"foo\"]}\n",
      "the object {\"foo\": [\"bar\", \"baz\"]} is a well-formatted instance of the schema. The object {\"properties\": {\"foo\": [\"bar\", \"baz\"]}} is not well-formatted.\n",
      "\n",
      "Here is the output schema:\n",
      "```\n",
      "{\"properties\": {\"trajectory\": {\"title\": \"Trajectory\", \"description\": \"The reasoning trajectory\", \"type\": \"string\"}, \"answer\": {\"title\": \"Answer\", \"description\": \"The final answer\", \"type\": \"string\"}}, \"required\": [\"trajectory\", \"answer\"]}\n",
      "```\n"
     ]
    }
   ],
   "source": [
    "print(parser.get_format_instructions())"
   ]
  }
 ],
 "metadata": {
  "kernelspec": {
   "display_name": "Python 3 (ipykernel)",
   "language": "python",
   "name": "python3"
  },
  "language_info": {
   "codemirror_mode": {
    "name": "ipython",
    "version": 3
   },
   "file_extension": ".py",
   "mimetype": "text/x-python",
   "name": "python",
   "nbconvert_exporter": "python",
   "pygments_lexer": "ipython3",
   "version": "3.12.5"
  }
 },
 "nbformat": 4,
 "nbformat_minor": 4
}
