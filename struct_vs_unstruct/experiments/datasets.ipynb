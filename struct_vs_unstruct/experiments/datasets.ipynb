{
 "cells": [
  {
   "cell_type": "code",
   "execution_count": 6,
   "id": "42558467-5a4b-4536-b59c-d63dc1651a26",
   "metadata": {},
   "outputs": [],
   "source": [
    "from datasets import load_dataset, get_dataset_config_names"
   ]
  },
  {
   "cell_type": "code",
   "execution_count": 10,
   "id": "24d58b42-bfcf-4c40-8f7a-5f16cc1666a5",
   "metadata": {},
   "outputs": [],
   "source": [
    "d = get_dataset_config_names(\"maveriq/bigbenchhard\")"
   ]
  },
  {
   "cell_type": "code",
   "execution_count": 15,
   "id": "3dec271e-8b58-4f03-a8ab-a6081c5ba063",
   "metadata": {},
   "outputs": [
    {
     "data": {
      "text/plain": [
       "Dataset({\n",
       "    features: ['input', 'target'],\n",
       "    num_rows: 250\n",
       "})"
      ]
     },
     "execution_count": 15,
     "metadata": {},
     "output_type": "execute_result"
    }
   ],
   "source": [
    "load_dataset(\"maveriq/bigbenchhard\", \"boolean_expressions\", split=\"train\")"
   ]
  },
  {
   "cell_type": "code",
   "execution_count": 14,
   "id": "f02c2a1a-8fcc-4f67-92e2-fc184df01dd0",
   "metadata": {},
   "outputs": [
    {
     "data": {
      "text/plain": [
       "DatasetDict({\n",
       "    train: Dataset({\n",
       "        features: ['story', 'question', 'answer', 'characters', 'distracting_characters'],\n",
       "        num_rows: 564\n",
       "    })\n",
       "})"
      ]
     },
     "execution_count": 14,
     "metadata": {},
     "output_type": "execute_result"
    }
   ],
   "source": [
    "dataset"
   ]
  }
 ],
 "metadata": {
  "kernelspec": {
   "display_name": "Python 3 (ipykernel)",
   "language": "python",
   "name": "python3"
  },
  "language_info": {
   "codemirror_mode": {
    "name": "ipython",
    "version": 3
   },
   "file_extension": ".py",
   "mimetype": "text/x-python",
   "name": "python",
   "nbconvert_exporter": "python",
   "pygments_lexer": "ipython3",
   "version": "3.8.10"
  }
 },
 "nbformat": 4,
 "nbformat_minor": 5
}
