{
 "cells": [
  {
   "cell_type": "code",
   "execution_count": 1,
   "id": "560802e0-ad10-4dc1-94e0-8b9a2ce357f2",
   "metadata": {},
   "outputs": [],
   "source": [
    "import pandas as pd\n",
    "from pyprojroot import here"
   ]
  },
  {
   "cell_type": "code",
   "execution_count": 174,
   "id": "b28ab694-75f2-40f8-9338-ec31c0d06e2d",
   "metadata": {},
   "outputs": [],
   "source": [
    "logs = pd.read_csv(here(\"struct_vs_unstruct/logs/non_self_synthesis/evals/bbh/token_usage_log.csv\"))"
   ]
  },
  {
   "cell_type": "code",
   "execution_count": 175,
   "id": "c9b8b794-99cc-48c1-af24-27eefd37adba",
   "metadata": {},
   "outputs": [
    {
     "data": {
      "text/plain": [
       "prompt_tokens        17106636\n",
       "completion_tokens     8961536\n",
       "total_tokens         26068172\n",
       "dtype: int64"
      ]
     },
     "execution_count": 175,
     "metadata": {},
     "output_type": "execute_result"
    }
   ],
   "source": [
    "logs.sum()"
   ]
  },
  {
   "cell_type": "code",
   "execution_count": 2,
   "id": "83b75916-7ccd-4edb-b24c-5a4336c8ec9e",
   "metadata": {},
   "outputs": [],
   "source": [
    "from datasets import Dataset"
   ]
  },
  {
   "cell_type": "code",
   "execution_count": 164,
   "id": "d95747b7-4e26-419f-9a75-93c70106ebc0",
   "metadata": {},
   "outputs": [
    {
     "data": {
      "application/vnd.jupyter.widget-view+json": {
       "model_id": "341a1407a430473985ee42d9411edec7",
       "version_major": 2,
       "version_minor": 0
      },
      "text/plain": [
       "VBox(children=(HTML(value='<center> <img\\nsrc=https://huggingface.co/front/assets/huggingface_logo-noborder.sv…"
      ]
     },
     "metadata": {},
     "output_type": "display_data"
    }
   ],
   "source": [
    "from huggingface_hub import login\n",
    "\n",
    "login()"
   ]
  },
  {
   "cell_type": "code",
   "execution_count": 3,
   "id": "334eacc8-5fcf-466d-92b1-9e1a7969b490",
   "metadata": {},
   "outputs": [],
   "source": [
    "dataset = Dataset.load_from_disk(here(\"struct_vs_unstruct/data/non_self_synthesis/t4d_eval\"))"
   ]
  },
  {
   "cell_type": "code",
   "execution_count": 4,
   "id": "a809368e-6e53-433a-815c-1e69bcef63f6",
   "metadata": {},
   "outputs": [
    {
     "data": {
      "text/plain": [
       "Dataset({\n",
       "    features: ['story', 'question', 'answer', 'characters', 'distracting_characters', 'selected_modules', 'adapted_modules', 'reasoning_plan', 'reasoning', 'trajectory', 'answer_pred'],\n",
       "    num_rows: 564\n",
       "})"
      ]
     },
     "execution_count": 4,
     "metadata": {},
     "output_type": "execute_result"
    }
   ],
   "source": [
    "dataset"
   ]
  },
  {
   "cell_type": "code",
   "execution_count": 11,
   "id": "1819e80e-ceda-48ee-beca-282d01135f5a",
   "metadata": {},
   "outputs": [
    {
     "data": {
      "application/vnd.jupyter.widget-view+json": {
       "model_id": "bf9aaa2d06fd43a8a24ec3238f035ecf",
       "version_major": 2,
       "version_minor": 0
      },
      "text/plain": [
       "Uploading the dataset shards:   0%|          | 0/1 [00:00<?, ?it/s]"
      ]
     },
     "metadata": {},
     "output_type": "display_data"
    },
    {
     "data": {
      "application/vnd.jupyter.widget-view+json": {
       "model_id": "d18eaaa40cc740f98844e900e4b92f55",
       "version_major": 2,
       "version_minor": 0
      },
      "text/plain": [
       "Creating parquet from Arrow format:   0%|          | 0/1 [00:00<?, ?ba/s]"
      ]
     },
     "metadata": {},
     "output_type": "display_data"
    },
    {
     "data": {
      "text/plain": [
       "CommitInfo(commit_url='https://huggingface.co/datasets/sachithgunasekara/self-discover-modified-t4d-eval/commit/f048cfdda4b505cd846096ed5b89af760ef861f9', commit_message='Upload dataset', commit_description='', oid='f048cfdda4b505cd846096ed5b89af760ef861f9', pr_url=None, pr_revision=None, pr_num=None)"
      ]
     },
     "execution_count": 11,
     "metadata": {},
     "output_type": "execute_result"
    }
   ],
   "source": [
    "dataset.push_to_hub(\"sachithgunasekara/self-discover-modified-t4d-eval\")"
   ]
  }
 ],
 "metadata": {
  "kernelspec": {
   "display_name": "Python 3 (ipykernel)",
   "language": "python",
   "name": "python3"
  },
  "language_info": {
   "codemirror_mode": {
    "name": "ipython",
    "version": 3
   },
   "file_extension": ".py",
   "mimetype": "text/x-python",
   "name": "python",
   "nbconvert_exporter": "python",
   "pygments_lexer": "ipython3",
   "version": "3.8.10"
  }
 },
 "nbformat": 4,
 "nbformat_minor": 5
}
