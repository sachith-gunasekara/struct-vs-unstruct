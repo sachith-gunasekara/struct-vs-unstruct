{
 "cells": [
  {
   "cell_type": "code",
   "execution_count": 20,
   "id": "6b84502e-c7bd-4f41-bc95-7afdac4cd95e",
   "metadata": {},
   "outputs": [
    {
     "name": "stdout",
     "output_type": "stream",
     "text": [
      "Collecting mdtex2html\n",
      "  Downloading mdtex2html-1.3.0-py3-none-any.whl.metadata (4.1 kB)\n",
      "Collecting markdown (from mdtex2html)\n",
      "  Using cached Markdown-3.7-py3-none-any.whl.metadata (7.0 kB)\n",
      "Collecting latex2mathml (from mdtex2html)\n",
      "  Downloading latex2mathml-3.77.0-py3-none-any.whl.metadata (14 kB)\n",
      "Requirement already satisfied: importlib-metadata>=4.4 in /home/ubuntu/jupyter/env/lib/python3.8/site-packages (from markdown->mdtex2html) (7.1.0)\n",
      "Requirement already satisfied: zipp>=0.5 in /home/ubuntu/jupyter/env/lib/python3.8/site-packages (from importlib-metadata>=4.4->markdown->mdtex2html) (3.18.2)\n",
      "Downloading mdtex2html-1.3.0-py3-none-any.whl (13 kB)\n",
      "Downloading latex2mathml-3.77.0-py3-none-any.whl (73 kB)\n",
      "Using cached Markdown-3.7-py3-none-any.whl (106 kB)\n",
      "Installing collected packages: latex2mathml, markdown, mdtex2html\n",
      "Successfully installed latex2mathml-3.77.0 markdown-3.7 mdtex2html-1.3.0\n"
     ]
    }
   ],
   "source": [
    "!pip install mdtex2html"
   ]
  },
  {
   "cell_type": "code",
   "execution_count": 32,
   "id": "a13c8e9c-657a-48f1-a07f-49e25a090a4c",
   "metadata": {},
   "outputs": [
    {
     "name": "stdout",
     "output_type": "stream",
     "text": [
      "Collecting matplotlib\n",
      "  Downloading matplotlib-3.7.5-cp38-cp38-manylinux_2_17_aarch64.manylinux2014_aarch64.whl.metadata (5.7 kB)\n",
      "Collecting contourpy>=1.0.1 (from matplotlib)\n",
      "  Downloading contourpy-1.1.1-cp38-cp38-manylinux_2_17_aarch64.manylinux2014_aarch64.whl.metadata (5.9 kB)\n",
      "Collecting cycler>=0.10 (from matplotlib)\n",
      "  Downloading cycler-0.12.1-py3-none-any.whl.metadata (3.8 kB)\n",
      "Collecting fonttools>=4.22.0 (from matplotlib)\n",
      "  Downloading fonttools-4.54.1-cp38-cp38-manylinux_2_17_aarch64.manylinux2014_aarch64.whl.metadata (163 kB)\n",
      "Collecting kiwisolver>=1.0.1 (from matplotlib)\n",
      "  Downloading kiwisolver-1.4.7-cp38-cp38-manylinux_2_17_aarch64.manylinux2014_aarch64.whl.metadata (6.3 kB)\n",
      "Requirement already satisfied: numpy<2,>=1.20 in /home/ubuntu/jupyter/env/lib/python3.8/site-packages (from matplotlib) (1.24.4)\n",
      "Requirement already satisfied: packaging>=20.0 in /home/ubuntu/jupyter/env/lib/python3.8/site-packages (from matplotlib) (24.1)\n",
      "Collecting pillow>=6.2.0 (from matplotlib)\n",
      "  Downloading pillow-10.4.0-cp38-cp38-manylinux_2_28_aarch64.whl.metadata (9.2 kB)\n",
      "Collecting pyparsing>=2.3.1 (from matplotlib)\n",
      "  Downloading pyparsing-3.1.4-py3-none-any.whl.metadata (5.1 kB)\n",
      "Requirement already satisfied: python-dateutil>=2.7 in /home/ubuntu/jupyter/env/lib/python3.8/site-packages (from matplotlib) (2.9.0.post0)\n",
      "Requirement already satisfied: importlib-resources>=3.2.0 in /home/ubuntu/jupyter/env/lib/python3.8/site-packages (from matplotlib) (6.4.0)\n",
      "Requirement already satisfied: zipp>=3.1.0 in /home/ubuntu/jupyter/env/lib/python3.8/site-packages (from importlib-resources>=3.2.0->matplotlib) (3.18.2)\n",
      "Requirement already satisfied: six>=1.5 in /home/ubuntu/jupyter/env/lib/python3.8/site-packages (from python-dateutil>=2.7->matplotlib) (1.16.0)\n",
      "Downloading matplotlib-3.7.5-cp38-cp38-manylinux_2_17_aarch64.manylinux2014_aarch64.whl (11.4 MB)\n",
      "\u001b[2K   \u001b[90m━━━━━━━━━━━━━━━━━━━━━━━━━━━━━━━━━━━━━━━━\u001b[0m \u001b[32m11.4/11.4 MB\u001b[0m \u001b[31m104.1 MB/s\u001b[0m eta \u001b[36m0:00:00\u001b[0m\n",
      "\u001b[?25hDownloading contourpy-1.1.1-cp38-cp38-manylinux_2_17_aarch64.manylinux2014_aarch64.whl (285 kB)\n",
      "Downloading cycler-0.12.1-py3-none-any.whl (8.3 kB)\n",
      "Downloading fonttools-4.54.1-cp38-cp38-manylinux_2_17_aarch64.manylinux2014_aarch64.whl (4.7 MB)\n",
      "\u001b[2K   \u001b[90m━━━━━━━━━━━━━━━━━━━━━━━━━━━━━━━━━━━━━━━━\u001b[0m \u001b[32m4.7/4.7 MB\u001b[0m \u001b[31m104.0 MB/s\u001b[0m eta \u001b[36m0:00:00\u001b[0m\n",
      "\u001b[?25hDownloading kiwisolver-1.4.7-cp38-cp38-manylinux_2_17_aarch64.manylinux2014_aarch64.whl (1.4 MB)\n",
      "\u001b[2K   \u001b[90m━━━━━━━━━━━━━━━━━━━━━━━━━━━━━━━━━━━━━━━━\u001b[0m \u001b[32m1.4/1.4 MB\u001b[0m \u001b[31m70.3 MB/s\u001b[0m eta \u001b[36m0:00:00\u001b[0m\n",
      "\u001b[?25hDownloading pillow-10.4.0-cp38-cp38-manylinux_2_28_aarch64.whl (4.4 MB)\n",
      "\u001b[2K   \u001b[90m━━━━━━━━━━━━━━━━━━━━━━━━━━━━━━━━━━━━━━━━\u001b[0m \u001b[32m4.4/4.4 MB\u001b[0m \u001b[31m101.9 MB/s\u001b[0m eta \u001b[36m0:00:00\u001b[0m\n",
      "\u001b[?25hDownloading pyparsing-3.1.4-py3-none-any.whl (104 kB)\n",
      "Installing collected packages: pyparsing, pillow, kiwisolver, fonttools, cycler, contourpy, matplotlib\n",
      "Successfully installed contourpy-1.1.1 cycler-0.12.1 fonttools-4.54.1 kiwisolver-1.4.7 matplotlib-3.7.5 pillow-10.4.0 pyparsing-3.1.4\n"
     ]
    }
   ],
   "source": [
    "!pip install matplotlib"
   ]
  },
  {
   "cell_type": "code",
   "execution_count": 38,
   "id": "fbe06836-f48c-4df1-b481-46b68b4b8f60",
   "metadata": {},
   "outputs": [
    {
     "name": "stdout",
     "output_type": "stream",
     "text": [
      "Requirement already satisfied: markdown in /home/ubuntu/jupyter/env/lib/python3.8/site-packages (3.7)\n",
      "Requirement already satisfied: importlib-metadata>=4.4 in /home/ubuntu/jupyter/env/lib/python3.8/site-packages (from markdown) (7.1.0)\n",
      "Requirement already satisfied: zipp>=0.5 in /home/ubuntu/jupyter/env/lib/python3.8/site-packages (from importlib-metadata>=4.4->markdown) (3.18.2)\n"
     ]
    }
   ],
   "source": [
    "!pip install markdown"
   ]
  },
  {
   "cell_type": "code",
   "execution_count": 2,
   "id": "9616ba44-f44a-44c7-b97a-d888ecb7c0f1",
   "metadata": {},
   "outputs": [],
   "source": [
    "import json\n",
    "from pyprojroot import here\n",
    "from datasets import Dataset\n",
    "import mdtex2html\n",
    "import matplotlib.pyplot as plt\n",
    "from markdown import markdown"
   ]
  },
  {
   "cell_type": "markdown",
   "id": "8f989c1f-6f87-4b3a-96c6-ce06f90d0d35",
   "metadata": {},
   "source": [
    "# Modified"
   ]
  },
  {
   "cell_type": "code",
   "execution_count": 3,
   "id": "73d61b4b-6227-4aa5-ab32-42b216b8afbd",
   "metadata": {},
   "outputs": [],
   "source": [
    "par_dir = here(\"struct_vs_unstruct/data/mistral_large_2407/modified/non_self_synthesis/math/math-/math_eval\")"
   ]
  },
  {
   "cell_type": "code",
   "execution_count": 4,
   "id": "4e7fd27d-8e90-4b82-9f7a-2f2fdd4a359f",
   "metadata": {},
   "outputs": [
    {
     "data": {
      "text/plain": [
       "Dataset({\n",
       "    features: ['problem', 'level', 'type', 'solution', 'reasoning_formats', 'selected_modules', 'adapted_modules', 'reasoning_plan', 'reasoning', 'trajectory', 'answer_pred'],\n",
       "    num_rows: 200\n",
       "})"
      ]
     },
     "execution_count": 4,
     "metadata": {},
     "output_type": "execute_result"
    }
   ],
   "source": [
    "ds = Dataset.load_from_disk(par_dir)\n",
    "ds"
   ]
  },
  {
   "cell_type": "code",
   "execution_count": 5,
   "id": "a40a3aec-e8f1-41a7-a293-e4ca02fefe0e",
   "metadata": {},
   "outputs": [
    {
     "data": {
      "application/vnd.jupyter.widget-view+json": {
       "model_id": "9336b0b08f84410a911a1f49e7fc01d1",
       "version_major": 2,
       "version_minor": 0
      },
      "text/plain": [
       "Filter:   0%|          | 0/200 [00:00<?, ? examples/s]"
      ]
     },
     "metadata": {},
     "output_type": "display_data"
    },
    {
     "data": {
      "text/plain": [
       "Dataset({\n",
       "    features: ['problem', 'level', 'type', 'solution', 'reasoning_formats', 'selected_modules', 'adapted_modules', 'reasoning_plan', 'reasoning', 'trajectory', 'answer_pred'],\n",
       "    num_rows: 2\n",
       "})"
      ]
     },
     "execution_count": 5,
     "metadata": {},
     "output_type": "execute_result"
    }
   ],
   "source": [
    "none_ds = ds.filter(lambda x: x[\"answer_pred\"] == None)\n",
    "none_ds"
   ]
  },
  {
   "cell_type": "code",
   "execution_count": 6,
   "id": "f97e265a-ee41-4542-999e-b7d60d459c7d",
   "metadata": {},
   "outputs": [
    {
     "data": {
      "application/vnd.jupyter.widget-view+json": {
       "model_id": "dbfc32decf69410d9aa7532626b7a4b7",
       "version_major": 2,
       "version_minor": 0
      },
      "text/plain": [
       "Map:   0%|          | 0/200 [00:00<?, ? examples/s]"
      ]
     },
     "metadata": {},
     "output_type": "display_data"
    }
   ],
   "source": [
    "import re\n",
    "def map_fn(instance):\n",
    "    if instance[\"answer_pred\"] == None:\n",
    "        text = \"The final answer is:\"\n",
    "        pattern = fr\"(?<={text}).*\"\n",
    "    \n",
    "        response = instance[\"trajectory\"]\n",
    "    \n",
    "        try:\n",
    "            answer, trajectory = re.search(pattern, response).group(0).strip(), re.sub(pattern, \"\", response).replace(text, \"\").strip()\n",
    "        except:\n",
    "            answer, trajectory = None, response\n",
    "    \n",
    "        return {\n",
    "            \"trajectory\": trajectory,\n",
    "            \"answer_pred\": answer\n",
    "        }\n",
    "\n",
    "    return {\n",
    "        \"trajectory\": instance[\"trajectory\"],\n",
    "        \"answer_pred\": instance[\"answer_pred\"]\n",
    "    }\n",
    "\n",
    "new_ds = ds.map(map_fn)"
   ]
  },
  {
   "cell_type": "code",
   "execution_count": 7,
   "id": "1ac72f65-c4ab-4dc6-a91d-0c57fc9ffdde",
   "metadata": {},
   "outputs": [
    {
     "data": {
      "application/vnd.jupyter.widget-view+json": {
       "model_id": "ed9e00e0fbe646a8a3f26694f40b70c2",
       "version_major": 2,
       "version_minor": 0
      },
      "text/plain": [
       "Filter:   0%|          | 0/200 [00:00<?, ? examples/s]"
      ]
     },
     "metadata": {},
     "output_type": "display_data"
    },
    {
     "data": {
      "text/plain": [
       "Dataset({\n",
       "    features: ['problem', 'level', 'type', 'solution', 'reasoning_formats', 'selected_modules', 'adapted_modules', 'reasoning_plan', 'reasoning', 'trajectory', 'answer_pred'],\n",
       "    num_rows: 2\n",
       "})"
      ]
     },
     "execution_count": 7,
     "metadata": {},
     "output_type": "execute_result"
    }
   ],
   "source": [
    "none_ds = new_ds.filter(lambda x: x[\"answer_pred\"] == None)\n",
    "none_ds"
   ]
  },
  {
   "cell_type": "code",
   "execution_count": 10,
   "id": "27e7375e-fe25-4c76-abf2-2286b46148d7",
   "metadata": {},
   "outputs": [
    {
     "name": "stdout",
     "output_type": "stream",
     "text": [
      "### Step-by-Step Reasoning Plan\n",
      "\n",
      "1. **Identify the Core Mathematical Issue**\n",
      "   - The core issue is to evaluate the expression \\((r + s)(s + t)(t + r)\\) using the roots \\(r\\), \\(s\\), and \\(t\\) of the polynomial \\(x^3 + 9x^2 - 9x - 8\\).\n",
      "\n",
      "2. **Understand the Properties of the Roots**\n",
      "   - Recognize that \\(r\\), \\(s\\), and \\(t\\) are the roots of the polynomial \\(x^3 + 9x^2 - 9x - 8\\).\n",
      "   - Use Vieta's formulas to relate the coefficients of the polynomial to the sums and products of the roots.\n",
      "\n",
      "3. **Apply Vieta's Formulas**\n",
      "   - Vieta's formulas for a cubic polynomial \\(ax^3 + bx^2 + cx + d = 0\\) with roots \\(r\\), \\(s\\), and \\(t\\) are:\n",
      "     - \\(r + s + t = -\\frac{b}{a}\\)\n",
      "     - \\(rs + rt + st = \\frac{c}{a}\\)\n",
      "     - \\(rst = -\\frac{d}{a}\\)\n",
      "   - For the polynomial \\(x^3 + 9x^2 - 9x - 8\\), the coefficients are \\(a = 1\\), \\(b = 9\\), \\(c = -9\\), and \\(d = -8\\).\n",
      "\n",
      "4. **Calculate the Sums and Products of the Roots**\n",
      "   - Using Vieta's formulas:\n",
      "     - \\(r + s + t = -9\\)\n",
      "     - \\(rs + rt + st = -9\\)\n",
      "     - \\(rst = 8\\)\n",
      "\n",
      "5. **Simplify the Expression \\((r + s)(s + t)(t + r)\\)**\n",
      "   - Expand the expression \\((r + s)(s + t)(t + r)\\) using the distributive property:\n",
      "     - \\((r + s)(s + t)(t + r) = (r + s)(st + rt + s^2 + st)\\)\n",
      "     - Simplify further using the sums and products obtained from Vieta's formulas.\n",
      "\n",
      "6. **Substitute the Values from Vieta's Formulas**\n",
      "   - Substitute the values of \\(r + s + t\\), \\(rs + rt + st\\), and \\(rst\\) into the expanded expression.\n",
      "   - Simplify the expression step-by-step to find the value of \\((r + s)(s + t)(t + r)\\).\n",
      "\n",
      "7. **Verify the Solution**\n",
      "   - Ensure that the calculations are correct and that the final expression is simplified correctly.\n",
      "   - Check for any algebraic errors or inconsistencies.\n",
      "\n",
      "### Detailed Steps for Simplification\n",
      "\n",
      "1. **Expand the Expression**\n",
      "   - \\((r + s)(s + t)(t + r) = (r + s)(st + rt + s^2 + st)\\)\n",
      "   - Further expand and simplify using the distributive property.\n",
      "\n",
      "2. **Substitute Known Values**\n",
      "   - Use the values \\(r + s + t = -9\\), \\(rs + rt + st = -9\\), and \\(rst = 8\\) to simplify the expanded expression.\n",
      "\n",
      "3. **Simplify the Final Expression**\n",
      "   - Combine like terms and simplify the expression to find the final value of \\((r + s)(s + t)(t + r)\\).\n",
      "\n",
      "### Calculation\n",
      "\n",
      "Given:\n",
      "- \\(r + s + t = -9\\)\n",
      "- \\(rs + rt + st = -9\\)\n",
      "- \\(rst = 8\\)\n",
      "\n",
      "We need to find \\((r + s)(s + t)(t + r)\\).\n",
      "\n",
      "First, let's expand \\((r + s)(s + t)(t + r)\\):\n",
      "\n",
      "\\[\n",
      "(r + s)(s + t)(t + r) = (r + s)(st + rt + s^2 + st)\n",
      "\\]\n",
      "\n",
      "Using the distributive property:\n",
      "\n",
      "\\[\n",
      "= (r + s)(st + rt + s^2 + st) = (r + s)(st + rt + s^2 + st)\n",
      "\\]\n",
      "\n",
      "Now, substitute the known values:\n",
      "\n",
      "\\[\n",
      "= (r + s)(st + rt + s^2 + st) = (r + s)(-9 + s^2)\n",
      "\\]\n",
      "\n",
      "Expanding further:\n",
      "\n",
      "\\[\n",
      "= r(-9 + s^2) + s(-9 + s^2) = -9r + rs^2 - 9s + s^3\n",
      "\\]\n",
      "\n",
      "Now, substitute \\(r + s = -9 - t\\) and \\(rs = \\frac{-9 - st}{t}\\):\n",
      "\n",
      "\\[\n",
      "= (-9 - t)(-9 + s^2) = 81 - 9s^2 - 9t + ts^2\n",
      "\\]\n",
      "\n",
      "Simplify the expression:\n",
      "\n",
      "\\[\n",
      "= 81 - 9s^2 - 9t + ts^2\n",
      "\\]\n",
      "\n",
      "Finally, substitute \\(s^2 = (r + s + t)^2 - 2(rs + rt + st)\\):\n",
      "\n",
      "\\[\n",
      "= 81 - 9((-9)^2 - 2(-9)) - 9t + t((-9)^2 - 2(-9))\n",
      "\\]\n",
      "\n",
      "\\[\n",
      "= 81 - 9(81 - 18) - 9t + t(81 - 18)\n",
      "\\]\n",
      "\n",
      "\\[\n",
      "= 81 - 9 \\cdot 63 - 9t + 63t\n",
      "\\]\n",
      "\n",
      "\\[\n",
      "= 81 - 567 - 9t + 63t\n",
      "\\]\n",
      "\n",
      "\\[\n",
      "= -486 + 54t\n",
      "\\]\n",
      "\n",
      "Since \\(t = -9 - r - s\\), substitute back:\n",
      "\n",
      "\\[\n",
      "= -486 + 54(-9 - r - s)\n",
      "\\]\n",
      "\n",
      "\\[\n",
      "= -486 - 486 - 54r - 54s\n",
      "\\]\n",
      "\n",
      "\\[\n",
      "= -972 - 54(r + s)\n",
      "\\]\n",
      "\n",
      "\\[\n",
      "= -972 - 54(-9)\n",
      "\\]\n",
      "\n",
      "\\[\n",
      "= -972 + 486\n",
      "\\]\n",
      "\n",
      "\\[\n",
      "= -486\n",
      "\\]\n",
      "\n",
      "Thus, the final answer is:\n",
      "\n",
      "\\[\n",
      "\\boxed{-486}\n",
      "\\]\n"
     ]
    }
   ],
   "source": [
    "print(none_ds[0][\"trajectory\"])"
   ]
  },
  {
   "cell_type": "code",
   "execution_count": 12,
   "id": "5466fd67-7333-472d-8ffa-a983c72034c2",
   "metadata": {},
   "outputs": [
    {
     "data": {
      "application/vnd.jupyter.widget-view+json": {
       "model_id": "31f8da8970a94f8a9a164671113890e4",
       "version_major": 2,
       "version_minor": 0
      },
      "text/plain": [
       "Map:   0%|          | 0/200 [00:00<?, ? examples/s]"
      ]
     },
     "metadata": {},
     "output_type": "display_data"
    }
   ],
   "source": [
    "def map_fn(ins):\n",
    "    if \"First, let's expand \\((r + s)(s + t)(t + r)\\):\" in ins[\"trajectory\"]:\n",
    "        return {\n",
    "            \"answer_pred\": \"\\boxed{-486}\"\n",
    "        }\n",
    "\n",
    "    return {\n",
    "        \"answer_pred\": ins[\"answer_pred\"]\n",
    "    }\n",
    "\n",
    "new_ds = new_ds.map(map_fn)"
   ]
  },
  {
   "cell_type": "code",
   "execution_count": 14,
   "id": "3d94a584-29e9-4e4a-8103-8bf638097dbd",
   "metadata": {},
   "outputs": [
    {
     "data": {
      "application/vnd.jupyter.widget-view+json": {
       "model_id": "944354c32e5a485cbcd813a763411a05",
       "version_major": 2,
       "version_minor": 0
      },
      "text/plain": [
       "Filter:   0%|          | 0/200 [00:00<?, ? examples/s]"
      ]
     },
     "metadata": {},
     "output_type": "display_data"
    },
    {
     "data": {
      "text/plain": [
       "Dataset({\n",
       "    features: ['problem', 'level', 'type', 'solution', 'reasoning_formats', 'selected_modules', 'adapted_modules', 'reasoning_plan', 'reasoning', 'trajectory', 'answer_pred'],\n",
       "    num_rows: 1\n",
       "})"
      ]
     },
     "execution_count": 14,
     "metadata": {},
     "output_type": "execute_result"
    }
   ],
   "source": [
    "none_ds = new_ds.filter(lambda x: x[\"answer_pred\"] == None)\n",
    "none_ds"
   ]
  },
  {
   "cell_type": "code",
   "execution_count": 15,
   "id": "1d31cc56-e5de-45e3-9233-49d3f4603b1a",
   "metadata": {},
   "outputs": [
    {
     "data": {
      "application/vnd.jupyter.widget-view+json": {
       "model_id": "9a55525c75fd489db3ca681bf33a8bee",
       "version_major": 2,
       "version_minor": 0
      },
      "text/plain": [
       "Uploading the dataset shards:   0%|          | 0/1 [00:00<?, ?it/s]"
      ]
     },
     "metadata": {},
     "output_type": "display_data"
    },
    {
     "data": {
      "application/vnd.jupyter.widget-view+json": {
       "model_id": "76dfb2f5837b45bea291563e3ae66a2a",
       "version_major": 2,
       "version_minor": 0
      },
      "text/plain": [
       "Creating parquet from Arrow format:   0%|          | 0/1 [00:00<?, ?ba/s]"
      ]
     },
     "metadata": {},
     "output_type": "display_data"
    },
    {
     "data": {
      "text/plain": [
       "CommitInfo(commit_url='https://huggingface.co/datasets/sachithgunasekara/self-discover-mistral-modified-MATH-eval/commit/00ea556a90a37635d332a703f8bdb576e5d418cf', commit_message='Upload dataset', commit_description='', oid='00ea556a90a37635d332a703f8bdb576e5d418cf', pr_url=None, pr_revision=None, pr_num=None)"
      ]
     },
     "execution_count": 15,
     "metadata": {},
     "output_type": "execute_result"
    }
   ],
   "source": [
    "new_ds.push_to_hub(\"sachithgunasekara/self-discover-mistral-modified-MATH-eval\")"
   ]
  },
  {
   "cell_type": "code",
   "execution_count": 16,
   "id": "55d069be-234c-45cf-9030-29e66ddc45a8",
   "metadata": {},
   "outputs": [
    {
     "data": {
      "application/vnd.jupyter.widget-view+json": {
       "model_id": "fe6fa9f2912145d3bb5309e4710acfca",
       "version_major": 2,
       "version_minor": 0
      },
      "text/plain": [
       "Creating CSV from Arrow format:   0%|          | 0/1 [00:00<?, ?ba/s]"
      ]
     },
     "metadata": {},
     "output_type": "display_data"
    },
    {
     "data": {
      "text/plain": [
       "1800573"
      ]
     },
     "execution_count": 16,
     "metadata": {},
     "output_type": "execute_result"
    }
   ],
   "source": [
    "new_ds.to_csv(\"./henrycks_cm_modified_evals.csv\")"
   ]
  },
  {
   "cell_type": "code",
   "execution_count": 17,
   "id": "ff6bb50d-9a32-4dfb-866b-b55aa5fa7da3",
   "metadata": {},
   "outputs": [],
   "source": [
    "file_name = \"./project-7-at-2024-11-13-05-43-dbc32e36.json\""
   ]
  },
  {
   "cell_type": "code",
   "execution_count": 18,
   "id": "3da2c258-5929-46ad-a1d0-cf2cc47f2919",
   "metadata": {},
   "outputs": [
    {
     "data": {
      "text/plain": [
       "Dataset({\n",
       "    features: ['problem', 'level', 'type', 'solution', 'reasoning_formats', 'selected_modules', 'adapted_modules', 'reasoning_plan', 'reasoning', 'trajectory', 'answer_pred', 'id', 'correct', 'annotator', 'annotation_id', 'created_at', 'updated_at', 'lead_time'],\n",
       "    num_rows: 200\n",
       "})"
      ]
     },
     "execution_count": 18,
     "metadata": {},
     "output_type": "execute_result"
    }
   ],
   "source": [
    "with open(file_name, \"r\") as f:\n",
    "    ds_ann = Dataset.from_list(json.load(f))\n",
    "\n",
    "ds_ann"
   ]
  },
  {
   "cell_type": "code",
   "execution_count": 19,
   "id": "a8fdf8a8-293a-4f46-ad5e-d076a2bd699b",
   "metadata": {},
   "outputs": [
    {
     "data": {
      "text/plain": [
       "{'problem': 'Find all the rational roots of $2x^4 - x^3 - 18x^2 + 14x + 15 = 0.$  Enter all the rational roots, separated by commas.',\n",
       " 'level': 'Level 3',\n",
       " 'type': 'Intermediate Algebra',\n",
       " 'solution': 'By the Rational Root Theorem, the only possible rational roots are of the form $\\\\frac{a}{b},$ where $a \\\\mid 15$ and $b \\\\mid 2.$  Checking all possibilities, we find that the rational roots are $\\\\boxed{\\\\frac{5}{2},-3}.$',\n",
       " 'reasoning_formats': '\\n- should be the final answer based on calculations formatted in Latex style',\n",
       " 'selected_modules': '1. How could I devise an experiment to help solve that problem?\\n4. How can I simplify the problem so that it is easier to solve?\\n9. How can I break down this problem into smaller, more manageable parts?\\n10. Critical Thinking: This style involves analyzing the problem from different perspectives, questioning assumptions, and evaluating the evidence or information available. It focuses on logical reasoning, evidence-based decision-making, and identifying potential biases or flaws in thinking.\\n20. Are there any relevant data or information that can provide insights into the problem? If yes, what data sources are available, and how can they be analyzed?\\n29. Is the problem an analytical one that requires data analysis, modeling, or optimization techniques?\\n39. Let’s make a step by step plan and implement it with good notation and explanation.',\n",
       " 'adapted_modules': '1. How could I design an experiment to test potential rational roots for the polynomial equation $2x^4 - x^3 - 18x^2 + 14x + 15 = 0$?\\n4. How can I simplify the polynomial equation to make it easier to find the rational roots?\\n9. How can I break down the process of finding rational roots into smaller, more manageable steps?\\n10. Critical Thinking: Analyze the polynomial from different perspectives, question assumptions about the roots, and evaluate available information. Focus on logical reasoning and evidence-based approaches to identify potential rational roots.\\n20. What relevant data or information (e.g., theorems like the Rational Root Theorem) can provide insights into finding the rational roots? Identify available data sources and how to analyze them.\\n29. Is this problem suited for analytical techniques such as applying the Rational Root Theorem, synthetic division, or other root-finding methods?\\n39. Let’s create a step-by-step plan to find all rational roots of the polynomial, ensuring clear notation and explanation for each step.',\n",
       " 'reasoning_plan': '### Step-by-Step Reasoning Plan to Find Rational Roots of the Polynomial\\n\\n#### Step 1: Understand the Problem\\n- **Task**: Find all the rational roots of the polynomial equation \\\\(2x^4 - x^3 - 18x^2 + 14x + 15 = 0\\\\).\\n\\n#### Step 2: Identify Relevant Theorems and Techniques\\n- **Rational Root Theorem**: This theorem states that any rational root \\\\(p/q\\\\) of a polynomial equation with integer coefficients, where \\\\(p\\\\) is a factor of the constant term and \\\\(q\\\\) is a factor of the leading coefficient, must satisfy the condition that \\\\(p\\\\) divides the constant term and \\\\(q\\\\) divides the leading coefficient.\\n- **Synthetic Division**: A method to divide polynomials, useful for testing potential roots.\\n\\n#### Step 3: Apply the Rational Root Theorem\\n- **Leading Coefficient**: \\\\(2\\\\)\\n- **Constant Term**: \\\\(15\\\\)\\n- **Potential Rational Roots**: List all possible \\\\(p/q\\\\) where \\\\(p\\\\) is a factor of \\\\(15\\\\) and \\\\(q\\\\) is a factor of \\\\(2\\\\).\\n  - Factors of \\\\(15\\\\): \\\\(\\\\pm 1, \\\\pm 3, \\\\pm 5, \\\\pm 15\\\\)\\n  - Factors of \\\\(2\\\\): \\\\(\\\\pm 1, \\\\pm 2\\\\)\\n  - Possible rational roots: \\\\(\\\\pm 1, \\\\pm 3, \\\\pm 5, \\\\pm 15, \\\\pm \\\\frac{1}{2}, \\\\pm \\\\frac{3}{2}, \\\\pm \\\\frac{5}{2}, \\\\pm \\\\frac{15}{2}\\\\)\\n\\n#### Step 4: Test Each Potential Rational Root\\n- **Synthetic Division**: Use synthetic division to test each potential root.\\n  - For each \\\\(p/q\\\\), substitute into the polynomial and check if the result is zero.\\n\\n#### Step 5: Simplify the Polynomial (if possible)\\n- **Factorization**: If any rational root is found, use it to factor the polynomial and simplify the problem.\\n  - For example, if \\\\(x = a\\\\) is a root, then \\\\(2x^4 - x^3 - 18x^2 + 14x + 15\\\\) can be factored as \\\\((x - a)Q(x)\\\\), where \\\\(Q(x)\\\\) is a polynomial of degree 3.\\n\\n#### Step 6: Repeat the Process\\n- **Continue Testing**: After simplifying, continue testing the remaining potential roots on the simplified polynomial.\\n\\n#### Step 7: Verify the Roots\\n- **Double-Check**: Ensure that all found roots are indeed rational and satisfy the original polynomial equation.\\n\\n#### Step 8: Document the Roots\\n- **List the Roots**: Compile a list of all rational roots found, separated by commas.\\n\\n### Conclusion\\nBy following these steps, the AI agent will be able to systematically identify all rational roots of the polynomial \\\\(2x^4 - x^3 - 18x^2 + 14x + 15 = 0\\\\).',\n",
       " 'reasoning': '### Step-by-Step Reasoning Plan to Find Rational Roots of the Polynomial\\n\\n#### Step 1: Understand the Problem\\n- **Task**: Find all the rational roots of the polynomial equation \\\\(2x^4 - x^3 - 18x^2 + 14x + 15 = 0\\\\).\\n\\n#### Step 2: Identify Relevant Theorems and Techniques\\n- **Rational Root Theorem**: This theorem states that any rational root \\\\(p/q\\\\) of a polynomial equation with integer coefficients, where \\\\(p\\\\) is a factor of the constant term and \\\\(q\\\\) is a factor of the leading coefficient, must satisfy the condition that \\\\(p\\\\) divides the constant term and \\\\(q\\\\) divides the leading coefficient.\\n- **Synthetic Division**: A method to divide polynomials, useful for testing potential roots.\\n\\n#### Step 3: Apply the Rational Root Theorem\\n- **Leading Coefficient**: \\\\(2\\\\)\\n- **Constant Term**: \\\\(15\\\\)\\n- **Potential Rational Roots**: List all possible \\\\(p/q\\\\) where \\\\(p\\\\) is a factor of \\\\(15\\\\) and \\\\(q\\\\) is a factor of \\\\(2\\\\).\\n  - Factors of \\\\(15\\\\): \\\\(\\\\pm 1, \\\\pm 3, \\\\pm 5, \\\\pm 15\\\\)\\n  - Factors of \\\\(2\\\\): \\\\(\\\\pm 1, \\\\pm 2\\\\)\\n  - Possible rational roots: \\\\(\\\\pm 1, \\\\pm 3, \\\\pm 5, \\\\pm 15, \\\\pm \\\\frac{1}{2}, \\\\pm \\\\frac{3}{2}, \\\\pm \\\\frac{5}{2}, \\\\pm \\\\frac{15}{2}\\\\)\\n\\n#### Step 4: Test Each Potential Rational Root\\n- **Synthetic Division**: Use synthetic division to test each potential root.\\n  - For each \\\\(p/q\\\\), substitute into the polynomial and check if the result is zero.\\n\\n#### Step 5: Simplify the Polynomial (if possible)\\n- **Factorization**: If any rational root is found, use it to factor the polynomial and simplify the problem.\\n  - For example, if \\\\(x = a\\\\) is a root, then \\\\(2x^4 - x^3 - 18x^2 + 14x + 15\\\\) can be factored as \\\\((x - a)Q(x)\\\\), where \\\\(Q(x)\\\\) is a polynomial of degree 3.\\n\\n#### Step 6: Repeat the Process\\n- **Continue Testing**: After simplifying, continue testing the remaining potential roots on the simplified polynomial.\\n\\n#### Step 7: Verify the Roots\\n- **Double-Check**: Ensure that all found roots are indeed rational and satisfy the original polynomial equation.\\n\\n#### Step 8: Document the Roots\\n- **List the Roots**: Compile a list of all rational roots found, separated by commas.\\n\\n### Conclusion\\nBy following these steps, the AI agent will be able to systematically identify all rational roots of the polynomial \\\\(2x^4 - x^3 - 18x^2 + 14x + 15 = 0\\\\).\\n\\n### Detailed Calculation:\\n1. **Potential Rational Roots**: \\\\(\\\\pm 1, \\\\pm 3, \\\\pm 5, \\\\pm 15, \\\\pm \\\\frac{1}{2}, \\\\pm \\\\frac{3}{2}, \\\\pm \\\\frac{5}{2}, \\\\pm \\\\frac{15}{2}\\\\)\\n2. **Testing Roots**:\\n   - \\\\(x = 1\\\\): \\\\(2(1)^4 - (1)^3 - 18(1)^2 + 14(1) + 15 = 2 - 1 - 18 + 14 + 15 = 12 \\\\neq 0\\\\)\\n   - \\\\(x = -1\\\\): \\\\(2(-1)^4 - (-1)^3 - 18(-1)^2 + 14(-1) + 15 = 2 + 1 - 18 - 14 + 15 = -14 \\\\neq 0\\\\)\\n   - \\\\(x = 3\\\\): \\\\(2(3)^4 - (3)^3 - 18(3)^2 + 14(3) + 15 = 162 - 27 - 162 + 42 + 15 = 30 \\\\neq 0\\\\)\\n   - \\\\(x = -3\\\\): \\\\(2(-3)^4 - (-3)^3 - 18(-3)^2 + 14(-3) + 15 = 162 + 27 - 162 - 42 + 15 = 12 \\\\neq 0\\\\)\\n   - \\\\(x = \\\\frac{1}{2}\\\\): \\\\(2\\\\left(\\\\frac{1}{2}\\\\right)^4 - \\\\left(\\\\frac{1}{2}\\\\right)^3 - 18\\\\left(\\\\frac{1}{2}\\\\right)^2 + 14\\\\left(\\\\frac{1}{2}\\\\right) + 15 = \\\\frac{1}{8} - \\\\frac{1}{8} - \\\\frac{18}{4} + 7 + 15 = 0\\\\)\\n   - \\\\(x = -\\\\frac{1}{2}\\\\): \\\\(2\\\\left(-\\\\frac{1}{2}\\\\right)^4 - \\\\left(-\\\\frac{1}{2}\\\\right)^3 - 18\\\\left(-\\\\frac{1}{2}\\\\right)^2 + 14\\\\left(-\\\\frac{1}{2}\\\\right) + 15 = \\\\frac{1}{8} + \\\\frac{1}{8} - \\\\frac{18}{4} - 7 + 15 = 0\\\\)\\n   - \\\\(x = \\\\frac{3}{2}\\\\): \\\\(2\\\\left(\\\\frac{3}{2}\\\\right)^4 - \\\\left(\\\\frac{3}{2}\\\\right)^3 - 18\\\\left(\\\\frac{3}{2}\\\\right)^2 + 14\\\\left(\\\\frac{3}{2}\\\\right) + 15 = \\\\frac{81}{8} - \\\\frac{27}{8} - \\\\frac{162}{4} + 21 + 15 = 0\\\\)\\n   - \\\\(x = -\\\\frac{3}{2}\\\\): \\\\(2\\\\left(-\\\\frac{3}{2}\\\\right)^4 - \\\\left(-\\\\frac{3}{2}\\\\right)^3 - 18\\\\left(-\\\\frac{3}{2}\\\\right)^2 + 14\\\\left(-\\\\frac{3}{2}\\\\right) + 15 = \\\\frac{81}{8} + \\\\frac{27}{8} - \\\\frac{162}{4} - 21 + 15 = 0\\\\)\\n\\n### Conclusion\\nThe rational roots of the polynomial \\\\(2x^4 - x^3 - 18x^2 + 14x + 15 = 0\\\\) are \\\\(\\\\frac{1}{2}, -\\\\frac{1}{2}, \\\\frac{3}{2}, -\\\\frac{3}{2}\\\\).\\n\\nThe final answer is \\\\(\\\\boxed{\\\\frac{1}{2}, -\\\\frac{1}{2}, \\\\frac{3}{2}, -\\\\frac{3}{2}}\\\\).',\n",
       " 'trajectory': '### Step-by-Step Reasoning Plan to Find Rational Roots of the Polynomial\\n\\n#### Step 1: Understand the Problem\\n- **Task**: Find all the rational roots of the polynomial equation \\\\(2x^4 - x^3 - 18x^2 + 14x + 15 = 0\\\\).\\n\\n#### Step 2: Identify Relevant Theorems and Techniques\\n- **Rational Root Theorem**: This theorem states that any rational root \\\\(p/q\\\\) of a polynomial equation with integer coefficients, where \\\\(p\\\\) is a factor of the constant term and \\\\(q\\\\) is a factor of the leading coefficient, must satisfy the condition that \\\\(p\\\\) divides the constant term and \\\\(q\\\\) divides the leading coefficient.\\n- **Synthetic Division**: A method to divide polynomials, useful for testing potential roots.\\n\\n#### Step 3: Apply the Rational Root Theorem\\n- **Leading Coefficient**: \\\\(2\\\\)\\n- **Constant Term**: \\\\(15\\\\)\\n- **Potential Rational Roots**: List all possible \\\\(p/q\\\\) where \\\\(p\\\\) is a factor of \\\\(15\\\\) and \\\\(q\\\\) is a factor of \\\\(2\\\\).\\n  - Factors of \\\\(15\\\\): \\\\(\\\\pm 1, \\\\pm 3, \\\\pm 5, \\\\pm 15\\\\)\\n  - Factors of \\\\(2\\\\): \\\\(\\\\pm 1, \\\\pm 2\\\\)\\n  - Possible rational roots: \\\\(\\\\pm 1, \\\\pm 3, \\\\pm 5, \\\\pm 15, \\\\pm \\\\frac{1}{2}, \\\\pm \\\\frac{3}{2}, \\\\pm \\\\frac{5}{2}, \\\\pm \\\\frac{15}{2}\\\\)\\n\\n#### Step 4: Test Each Potential Rational Root\\n- **Synthetic Division**: Use synthetic division to test each potential root.\\n  - For each \\\\(p/q\\\\), substitute into the polynomial and check if the result is zero.\\n\\n#### Step 5: Simplify the Polynomial (if possible)\\n- **Factorization**: If any rational root is found, use it to factor the polynomial and simplify the problem.\\n  - For example, if \\\\(x = a\\\\) is a root, then \\\\(2x^4 - x^3 - 18x^2 + 14x + 15\\\\) can be factored as \\\\((x - a)Q(x)\\\\), where \\\\(Q(x)\\\\) is a polynomial of degree 3.\\n\\n#### Step 6: Repeat the Process\\n- **Continue Testing**: After simplifying, continue testing the remaining potential roots on the simplified polynomial.\\n\\n#### Step 7: Verify the Roots\\n- **Double-Check**: Ensure that all found roots are indeed rational and satisfy the original polynomial equation.\\n\\n#### Step 8: Document the Roots\\n- **List the Roots**: Compile a list of all rational roots found, separated by commas.\\n\\n### Conclusion\\nBy following these steps, the AI agent will be able to systematically identify all rational roots of the polynomial \\\\(2x^4 - x^3 - 18x^2 + 14x + 15 = 0\\\\).\\n\\n### Detailed Calculation:\\n1. **Potential Rational Roots**: \\\\(\\\\pm 1, \\\\pm 3, \\\\pm 5, \\\\pm 15, \\\\pm \\\\frac{1}{2}, \\\\pm \\\\frac{3}{2}, \\\\pm \\\\frac{5}{2}, \\\\pm \\\\frac{15}{2}\\\\)\\n2. **Testing Roots**:\\n   - \\\\(x = 1\\\\): \\\\(2(1)^4 - (1)^3 - 18(1)^2 + 14(1) + 15 = 2 - 1 - 18 + 14 + 15 = 12 \\\\neq 0\\\\)\\n   - \\\\(x = -1\\\\): \\\\(2(-1)^4 - (-1)^3 - 18(-1)^2 + 14(-1) + 15 = 2 + 1 - 18 - 14 + 15 = -14 \\\\neq 0\\\\)\\n   - \\\\(x = 3\\\\): \\\\(2(3)^4 - (3)^3 - 18(3)^2 + 14(3) + 15 = 162 - 27 - 162 + 42 + 15 = 30 \\\\neq 0\\\\)\\n   - \\\\(x = -3\\\\): \\\\(2(-3)^4 - (-3)^3 - 18(-3)^2 + 14(-3) + 15 = 162 + 27 - 162 - 42 + 15 = 12 \\\\neq 0\\\\)\\n   - \\\\(x = \\\\frac{1}{2}\\\\): \\\\(2\\\\left(\\\\frac{1}{2}\\\\right)^4 - \\\\left(\\\\frac{1}{2}\\\\right)^3 - 18\\\\left(\\\\frac{1}{2}\\\\right)^2 + 14\\\\left(\\\\frac{1}{2}\\\\right) + 15 = \\\\frac{1}{8} - \\\\frac{1}{8} - \\\\frac{18}{4} + 7 + 15 = 0\\\\)\\n   - \\\\(x = -\\\\frac{1}{2}\\\\): \\\\(2\\\\left(-\\\\frac{1}{2}\\\\right)^4 - \\\\left(-\\\\frac{1}{2}\\\\right)^3 - 18\\\\left(-\\\\frac{1}{2}\\\\right)^2 + 14\\\\left(-\\\\frac{1}{2}\\\\right) + 15 = \\\\frac{1}{8} + \\\\frac{1}{8} - \\\\frac{18}{4} - 7 + 15 = 0\\\\)\\n   - \\\\(x = \\\\frac{3}{2}\\\\): \\\\(2\\\\left(\\\\frac{3}{2}\\\\right)^4 - \\\\left(\\\\frac{3}{2}\\\\right)^3 - 18\\\\left(\\\\frac{3}{2}\\\\right)^2 + 14\\\\left(\\\\frac{3}{2}\\\\right) + 15 = \\\\frac{81}{8} - \\\\frac{27}{8} - \\\\frac{162}{4} + 21 + 15 = 0\\\\)\\n   - \\\\(x = -\\\\frac{3}{2}\\\\): \\\\(2\\\\left(-\\\\frac{3}{2}\\\\right)^4 - \\\\left(-\\\\frac{3}{2}\\\\right)^3 - 18\\\\left(-\\\\frac{3}{2}\\\\right)^2 + 14\\\\left(-\\\\frac{3}{2}\\\\right) + 15 = \\\\frac{81}{8} + \\\\frac{27}{8} - \\\\frac{162}{4} - 21 + 15 = 0\\\\)\\n\\n### Conclusion\\nThe rational roots of the polynomial \\\\(2x^4 - x^3 - 18x^2 + 14x + 15 = 0\\\\) are \\\\(\\\\frac{1}{2}, -\\\\frac{1}{2}, \\\\frac{3}{2}, -\\\\frac{3}{2}\\\\).',\n",
       " 'answer_pred': '\\\\(\\\\boxed{\\\\frac{1}{2}, -\\\\frac{1}{2}, \\\\frac{3}{2}, -\\\\frac{3}{2}}\\\\).',\n",
       " 'id': 660,\n",
       " 'correct': 'False',\n",
       " 'annotator': 1,\n",
       " 'annotation_id': 699,\n",
       " 'created_at': '2024-11-13T04:14:35.666010Z',\n",
       " 'updated_at': '2024-11-13T04:14:35.666038Z',\n",
       " 'lead_time': 224.282}"
      ]
     },
     "execution_count": 19,
     "metadata": {},
     "output_type": "execute_result"
    }
   ],
   "source": [
    "ds_ann[0]"
   ]
  },
  {
   "cell_type": "code",
   "execution_count": 20,
   "id": "33a716a0-3115-4e8a-a98e-00eb4bc40884",
   "metadata": {},
   "outputs": [
    {
     "data": {
      "application/vnd.jupyter.widget-view+json": {
       "model_id": "d9ed6b55eb5040d6ac62cbea02cb69c8",
       "version_major": 2,
       "version_minor": 0
      },
      "text/plain": [
       "Filter:   0%|          | 0/200 [00:00<?, ? examples/s]"
      ]
     },
     "metadata": {},
     "output_type": "display_data"
    },
    {
     "data": {
      "text/plain": [
       "0.765"
      ]
     },
     "execution_count": 20,
     "metadata": {},
     "output_type": "execute_result"
    }
   ],
   "source": [
    "corr = ds_ann.filter(lambda x: x[\"correct\"] == \"True\")\n",
    "corr.num_rows / ds_ann.num_rows"
   ]
  },
  {
   "cell_type": "code",
   "execution_count": 21,
   "id": "ab147bbb-9227-49fd-9663-15c70accf083",
   "metadata": {},
   "outputs": [
    {
     "data": {
      "application/vnd.jupyter.widget-view+json": {
       "model_id": "9b38356a6584471badda09959d4e0518",
       "version_major": 2,
       "version_minor": 0
      },
      "text/plain": [
       "Uploading the dataset shards:   0%|          | 0/1 [00:00<?, ?it/s]"
      ]
     },
     "metadata": {},
     "output_type": "display_data"
    },
    {
     "data": {
      "application/vnd.jupyter.widget-view+json": {
       "model_id": "e94254b7be434db183021663c0e67cf6",
       "version_major": 2,
       "version_minor": 0
      },
      "text/plain": [
       "Creating parquet from Arrow format:   0%|          | 0/1 [00:00<?, ?ba/s]"
      ]
     },
     "metadata": {},
     "output_type": "display_data"
    },
    {
     "data": {
      "text/plain": [
       "CommitInfo(commit_url='https://huggingface.co/datasets/sachithgunasekara/self-discover-mistral-modified-MATH-eval-annotated/commit/1d2fb27e8ce1b6053ad1be1955d46c0cb0ffefb3', commit_message='Upload dataset', commit_description='', oid='1d2fb27e8ce1b6053ad1be1955d46c0cb0ffefb3', pr_url=None, pr_revision=None, pr_num=None)"
      ]
     },
     "execution_count": 21,
     "metadata": {},
     "output_type": "execute_result"
    }
   ],
   "source": [
    "ds_ann.push_to_hub(\"sachithgunasekara/self-discover-mistral-modified-MATH-eval-annotated\")"
   ]
  }
 ],
 "metadata": {
  "kernelspec": {
   "display_name": "Python 3 (ipykernel)",
   "language": "python",
   "name": "python3"
  },
  "language_info": {
   "codemirror_mode": {
    "name": "ipython",
    "version": 3
   },
   "file_extension": ".py",
   "mimetype": "text/x-python",
   "name": "python",
   "nbconvert_exporter": "python",
   "pygments_lexer": "ipython3",
   "version": "3.8.10"
  }
 },
 "nbformat": 4,
 "nbformat_minor": 5
}
