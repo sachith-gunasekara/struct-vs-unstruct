{
 "cells": [
  {
   "cell_type": "code",
   "execution_count": 83,
   "id": "11651df0-55db-4aa9-b7c0-b9f3efeb9533",
   "metadata": {},
   "outputs": [
    {
     "name": "stdout",
     "output_type": "stream",
     "text": [
      "Collecting scikit-learn\n",
      "  Downloading scikit_learn-1.3.2-cp38-cp38-manylinux_2_17_aarch64.manylinux2014_aarch64.whl.metadata (11 kB)\n",
      "Requirement already satisfied: numpy<2.0,>=1.17.3 in /home/ubuntu/jupyter/env/lib/python3.8/site-packages (from scikit-learn) (1.24.4)\n",
      "Requirement already satisfied: scipy>=1.5.0 in /home/ubuntu/jupyter/env/lib/python3.8/site-packages (from scikit-learn) (1.10.1)\n",
      "Collecting joblib>=1.1.1 (from scikit-learn)\n",
      "  Using cached joblib-1.4.2-py3-none-any.whl.metadata (5.4 kB)\n",
      "Collecting threadpoolctl>=2.0.0 (from scikit-learn)\n",
      "  Downloading threadpoolctl-3.5.0-py3-none-any.whl.metadata (13 kB)\n",
      "Downloading scikit_learn-1.3.2-cp38-cp38-manylinux_2_17_aarch64.manylinux2014_aarch64.whl (10.5 MB)\n",
      "\u001b[2K   \u001b[90m━━━━━━━━━━━━━━━━━━━━━━━━━━━━━━━━━━━━━━━━\u001b[0m \u001b[32m10.5/10.5 MB\u001b[0m \u001b[31m54.1 MB/s\u001b[0m eta \u001b[36m0:00:00\u001b[0m\n",
      "\u001b[?25hUsing cached joblib-1.4.2-py3-none-any.whl (301 kB)\n",
      "Downloading threadpoolctl-3.5.0-py3-none-any.whl (18 kB)\n",
      "Installing collected packages: threadpoolctl, joblib, scikit-learn\n",
      "Successfully installed joblib-1.4.2 scikit-learn-1.3.2 threadpoolctl-3.5.0\n"
     ]
    }
   ],
   "source": [
    "!pip install scikit-learn"
   ]
  },
  {
   "cell_type": "code",
   "execution_count": 111,
   "id": "601a186c-a207-4372-8304-df57e48c6e0b",
   "metadata": {},
   "outputs": [],
   "source": [
    "import random\n",
    "\n",
    "from pyprojroot import here\n",
    "from datasets import load_dataset, Dataset\n",
    "from huggingface_hub import login\n",
    "from sklearn.model_selection import train_test_split"
   ]
  },
  {
   "cell_type": "code",
   "execution_count": 63,
   "id": "2b11c975-4107-44d3-9cb6-5f684854243e",
   "metadata": {},
   "outputs": [
    {
     "data": {
      "application/vnd.jupyter.widget-view+json": {
       "model_id": "18957a48db434863bc9ca8032ac64606",
       "version_major": 2,
       "version_minor": 0
      },
      "text/plain": [
       "VBox(children=(HTML(value='<center> <img\\nsrc=https://huggingface.co/front/assets/huggingface_logo-noborder.sv…"
      ]
     },
     "metadata": {},
     "output_type": "display_data"
    }
   ],
   "source": [
    "login()"
   ]
  },
  {
   "cell_type": "code",
   "execution_count": 3,
   "id": "62836a59-ee17-47bd-9250-615810a8959e",
   "metadata": {},
   "outputs": [],
   "source": [
    "dataset = \"hendrycks/competition_math\""
   ]
  },
  {
   "cell_type": "code",
   "execution_count": 4,
   "id": "d68ea3c2-7ba2-406b-a15e-9903e47ec31d",
   "metadata": {},
   "outputs": [
    {
     "name": "stderr",
     "output_type": "stream",
     "text": [
      "/home/ubuntu/jupyter/env/lib/python3.8/site-packages/datasets/load.py:1486: FutureWarning: The repository for hendrycks/competition_math contains custom code which must be executed to correctly load the dataset. You can inspect the repository content at https://hf.co/datasets/hendrycks/competition_math\n",
      "You can avoid this message in future by passing the argument `trust_remote_code=True`.\n",
      "Passing `trust_remote_code=True` will be mandatory to load this dataset from the next major release of `datasets`.\n",
      "  warnings.warn(\n"
     ]
    },
    {
     "data": {
      "application/vnd.jupyter.widget-view+json": {
       "model_id": "49f685b90ab142a2b12916e4546bcce7",
       "version_major": 2,
       "version_minor": 0
      },
      "text/plain": [
       "Downloading builder script:   0%|          | 0.00/2.57k [00:00<?, ?B/s]"
      ]
     },
     "metadata": {},
     "output_type": "display_data"
    },
    {
     "data": {
      "application/vnd.jupyter.widget-view+json": {
       "model_id": "4a343179ddee4a908d70447c539fcbe3",
       "version_major": 2,
       "version_minor": 0
      },
      "text/plain": [
       "Downloading readme:   0%|          | 0.00/5.32k [00:00<?, ?B/s]"
      ]
     },
     "metadata": {},
     "output_type": "display_data"
    },
    {
     "data": {
      "application/vnd.jupyter.widget-view+json": {
       "model_id": "a88b07fa176b4748ba14b3085dc35d69",
       "version_major": 2,
       "version_minor": 0
      },
      "text/plain": [
       "Downloading data:   0%|          | 0.00/7.91M [00:00<?, ?B/s]"
      ]
     },
     "metadata": {},
     "output_type": "display_data"
    },
    {
     "data": {
      "application/vnd.jupyter.widget-view+json": {
       "model_id": "7a31b97634a74b14b786508d2ca01001",
       "version_major": 2,
       "version_minor": 0
      },
      "text/plain": [
       "Generating train split:   0%|          | 0/7500 [00:00<?, ? examples/s]"
      ]
     },
     "metadata": {},
     "output_type": "display_data"
    },
    {
     "data": {
      "application/vnd.jupyter.widget-view+json": {
       "model_id": "95d9613f46de40aab868ba8c695bf0b8",
       "version_major": 2,
       "version_minor": 0
      },
      "text/plain": [
       "Generating test split:   0%|          | 0/5000 [00:00<?, ? examples/s]"
      ]
     },
     "metadata": {},
     "output_type": "display_data"
    }
   ],
   "source": [
    "ds = load_dataset(dataset)"
   ]
  },
  {
   "cell_type": "code",
   "execution_count": 10,
   "id": "8305d829-c278-40d2-89b6-67660892a93f",
   "metadata": {},
   "outputs": [
    {
     "data": {
      "text/plain": [
       "{'problem': 'What is the 100th term of the arithmetic sequence 6, 10, 14, 18, ...?',\n",
       " 'level': 'Level 2',\n",
       " 'type': 'Algebra',\n",
       " 'solution': 'The common difference is $10 - 6 = 4$, so the 100th term is $6+99\\\\cdot 4=\\\\boxed{402}$.'}"
      ]
     },
     "execution_count": 10,
     "metadata": {},
     "output_type": "execute_result"
    }
   ],
   "source": [
    "ds[\"test\"][5]"
   ]
  },
  {
   "cell_type": "code",
   "execution_count": 11,
   "id": "13202207-1d7f-4938-84a0-5f8c37e5eb4b",
   "metadata": {},
   "outputs": [
    {
     "name": "stdout",
     "output_type": "stream",
     "text": [
      "Collecting pylatexenc\n",
      "  Downloading pylatexenc-2.10.tar.gz (162 kB)\n",
      "\u001b[2K     \u001b[90m━━━━━━━━━━━━━━━━━━━━━━━━━━━━━━━━━━━━━━━\u001b[0m \u001b[32m162.6/162.6 kB\u001b[0m \u001b[31m8.8 MB/s\u001b[0m eta \u001b[36m0:00:00\u001b[0m\n",
      "\u001b[?25h  Preparing metadata (setup.py) ... \u001b[?25ldone\n",
      "\u001b[?25hBuilding wheels for collected packages: pylatexenc\n",
      "  Building wheel for pylatexenc (setup.py) ... \u001b[?25ldone\n",
      "\u001b[?25h  Created wheel for pylatexenc: filename=pylatexenc-2.10-py3-none-any.whl size=136816 sha256=5d057685ba9657e5acb07d00878b3c1f738820d0f2285ff2460682ae7804efe2\n",
      "  Stored in directory: /home/ubuntu/.cache/pip/wheels/72/99/be/81d9bcdf5dd5ee5acd8119a9dd5bc07204c9ce205fd341b021\n",
      "Successfully built pylatexenc\n",
      "Installing collected packages: pylatexenc\n",
      "Successfully installed pylatexenc-2.10\n",
      "\n",
      "\u001b[1m[\u001b[0m\u001b[34;49mnotice\u001b[0m\u001b[1;39;49m]\u001b[0m\u001b[39;49m A new release of pip is available: \u001b[0m\u001b[31;49m24.0\u001b[0m\u001b[39;49m -> \u001b[0m\u001b[32;49m24.3.1\u001b[0m\n",
      "\u001b[1m[\u001b[0m\u001b[34;49mnotice\u001b[0m\u001b[1;39;49m]\u001b[0m\u001b[39;49m To update, run: \u001b[0m\u001b[32;49mpip install --upgrade pip\u001b[0m\n"
     ]
    }
   ],
   "source": [
    "!pip install pylatexenc"
   ]
  },
  {
   "cell_type": "code",
   "execution_count": 35,
   "id": "7494a33e-3a4b-4d41-bf9f-8d9ffa407983",
   "metadata": {},
   "outputs": [
    {
     "name": "stdout",
     "output_type": "stream",
     "text": [
      "402\n"
     ]
    }
   ],
   "source": [
    "import re\n",
    "\n",
    "def extract_text_within_boxed(latex_str):\n",
    "    pattern = r'\\\\boxed{(.*?)}'\n",
    "    match = re.search(pattern, latex_str)\n",
    "    \n",
    "    if match:\n",
    "        return match.group(1)\n",
    "    return None\n",
    "\n",
    "latex_str = r\"The common difference is $10 - 6 = 4$, so the 100th term is $6+99\\\\cdot 4=\\\\boxed{402}$.\"\n",
    "extracted_text = extract_text_within_boxed(latex_str)\n",
    "print(extracted_text)  # Output: This is the extracted text"
   ]
  },
  {
   "cell_type": "code",
   "execution_count": 57,
   "id": "ff45ae33-68a9-4c03-8198-bd554de8a731",
   "metadata": {},
   "outputs": [],
   "source": [
    "ds_subsample = Dataset.from_list(random.sample(list(ds[\"test\"]), 200))"
   ]
  },
  {
   "cell_type": "code",
   "execution_count": 54,
   "id": "5e8f380c-02b8-4ce2-b563-5446630de6fd",
   "metadata": {},
   "outputs": [
    {
     "data": {
      "text/plain": [
       "{'problem': 'How many vertical asymptotes does the graph of $y=\\\\frac{2}{x^2+x-6}$ have?',\n",
       " 'level': 'Level 3',\n",
       " 'type': 'Algebra',\n",
       " 'solution': 'The denominator of the rational function factors into $x^2+x-6=(x-2)(x+3)$. Since the numerator is always nonzero, there is a vertical asymptote whenever the denominator is $0$, which occurs for $x = 2$ and $x = -3$.  Therefore, the graph has $\\\\boxed{2}$ vertical asymptotes.'}"
      ]
     },
     "execution_count": 54,
     "metadata": {},
     "output_type": "execute_result"
    }
   ],
   "source": [
    "ds[\"test\"][0]"
   ]
  },
  {
   "cell_type": "code",
   "execution_count": 68,
   "id": "d4a2b5a6-bc00-4e6b-b6bb-9791b372eeec",
   "metadata": {},
   "outputs": [
    {
     "name": "stdout",
     "output_type": "stream",
     "text": [
      "{'Level 1', 'Level 2', 'Level 4', 'Level 5', 'Level 3'}\n",
      "{'Geometry', 'Algebra', 'Precalculus', 'Counting & Probability', 'Intermediate Algebra', 'Prealgebra', 'Number Theory'}\n"
     ]
    }
   ],
   "source": [
    "print(set(ds[\"test\"][\"level\"]))\n",
    "print(set(ds[\"test\"][\"type\"]))"
   ]
  },
  {
   "cell_type": "code",
   "execution_count": 70,
   "id": "77d83b35-8144-4fbb-b76d-9373ea904084",
   "metadata": {},
   "outputs": [
    {
     "data": {
      "text/plain": [
       "Dataset({\n",
       "    features: ['problem', 'level', 'type', 'solution'],\n",
       "    num_rows: 5000\n",
       "})"
      ]
     },
     "execution_count": 70,
     "metadata": {},
     "output_type": "execute_result"
    }
   ],
   "source": [
    "ds[\"test\"]"
   ]
  },
  {
   "cell_type": "code",
   "execution_count": 91,
   "id": "6d97b7e2-235d-4ec5-985d-82a7f0150eb8",
   "metadata": {},
   "outputs": [
    {
     "data": {
      "text/html": [
       "<div>\n",
       "<style scoped>\n",
       "    .dataframe tbody tr th:only-of-type {\n",
       "        vertical-align: middle;\n",
       "    }\n",
       "\n",
       "    .dataframe tbody tr th {\n",
       "        vertical-align: top;\n",
       "    }\n",
       "\n",
       "    .dataframe thead th {\n",
       "        text-align: right;\n",
       "    }\n",
       "</style>\n",
       "<table border=\"1\" class=\"dataframe\">\n",
       "  <thead>\n",
       "    <tr style=\"text-align: right;\">\n",
       "      <th></th>\n",
       "      <th>problem</th>\n",
       "      <th>level</th>\n",
       "      <th>type</th>\n",
       "      <th>solution</th>\n",
       "    </tr>\n",
       "  </thead>\n",
       "  <tbody>\n",
       "    <tr>\n",
       "      <th>0</th>\n",
       "      <td>How many vertical asymptotes does the graph of...</td>\n",
       "      <td>Level 3</td>\n",
       "      <td>Algebra</td>\n",
       "      <td>The denominator of the rational function facto...</td>\n",
       "    </tr>\n",
       "    <tr>\n",
       "      <th>1</th>\n",
       "      <td>What is the positive difference between $120\\%...</td>\n",
       "      <td>Level 1</td>\n",
       "      <td>Algebra</td>\n",
       "      <td>One hundred twenty percent of 30 is $120\\cdot3...</td>\n",
       "    </tr>\n",
       "    <tr>\n",
       "      <th>2</th>\n",
       "      <td>Find $x$ such that $\\lceil x \\rceil + x = \\dfr...</td>\n",
       "      <td>Level 4</td>\n",
       "      <td>Algebra</td>\n",
       "      <td>First, we note that $x$ must be positive, sinc...</td>\n",
       "    </tr>\n",
       "    <tr>\n",
       "      <th>3</th>\n",
       "      <td>Evaluate $i^5+i^{-25}+i^{45}$.</td>\n",
       "      <td>Level 5</td>\n",
       "      <td>Algebra</td>\n",
       "      <td>We have $i^5 = i^4\\cdot i = 1\\cdot (i) = i$.  ...</td>\n",
       "    </tr>\n",
       "    <tr>\n",
       "      <th>4</th>\n",
       "      <td>If $2^8=4^x$, what is the value of $x$?</td>\n",
       "      <td>Level 1</td>\n",
       "      <td>Algebra</td>\n",
       "      <td>Rewrite $4$ as $2^2$ to find $4^x=2^{2x}$.  Si...</td>\n",
       "    </tr>\n",
       "    <tr>\n",
       "      <th>...</th>\n",
       "      <td>...</td>\n",
       "      <td>...</td>\n",
       "      <td>...</td>\n",
       "      <td>...</td>\n",
       "    </tr>\n",
       "    <tr>\n",
       "      <th>4995</th>\n",
       "      <td>If $\\sin x + \\cos x = \\frac{1}{5}$ and $0 &lt; x ...</td>\n",
       "      <td>Level 5</td>\n",
       "      <td>Precalculus</td>\n",
       "      <td>From the given equation, $\\cos x = \\frac{1}{5}...</td>\n",
       "    </tr>\n",
       "    <tr>\n",
       "      <th>4996</th>\n",
       "      <td>The matrix for projecting onto a certain plane...</td>\n",
       "      <td>Level 5</td>\n",
       "      <td>Precalculus</td>\n",
       "      <td>Since $\\begin{pmatrix} a \\\\ b \\\\ c \\end{pmatri...</td>\n",
       "    </tr>\n",
       "    <tr>\n",
       "      <th>4997</th>\n",
       "      <td>Let $\\mathbf{a},$ $\\mathbf{b},$ and $\\mathbf{c...</td>\n",
       "      <td>Level 4</td>\n",
       "      <td>Precalculus</td>\n",
       "      <td>Since $\\mathbf{a} + \\mathbf{b} + \\mathbf{c} = ...</td>\n",
       "    </tr>\n",
       "    <tr>\n",
       "      <th>4998</th>\n",
       "      <td>Find the smallest positive integer solution to...</td>\n",
       "      <td>Level 5</td>\n",
       "      <td>Precalculus</td>\n",
       "      <td>By the tangent addition formula,\\n\\begin{align...</td>\n",
       "    </tr>\n",
       "    <tr>\n",
       "      <th>4999</th>\n",
       "      <td>The matrix for reflecting over a certain line ...</td>\n",
       "      <td>Level 5</td>\n",
       "      <td>Precalculus</td>\n",
       "      <td>Since $\\begin{pmatrix} a \\\\ b \\\\ c \\end{pmatri...</td>\n",
       "    </tr>\n",
       "  </tbody>\n",
       "</table>\n",
       "<p>5000 rows × 4 columns</p>\n",
       "</div>"
      ],
      "text/plain": [
       "                                                problem    level         type  \\\n",
       "0     How many vertical asymptotes does the graph of...  Level 3      Algebra   \n",
       "1     What is the positive difference between $120\\%...  Level 1      Algebra   \n",
       "2     Find $x$ such that $\\lceil x \\rceil + x = \\dfr...  Level 4      Algebra   \n",
       "3                        Evaluate $i^5+i^{-25}+i^{45}$.  Level 5      Algebra   \n",
       "4               If $2^8=4^x$, what is the value of $x$?  Level 1      Algebra   \n",
       "...                                                 ...      ...          ...   \n",
       "4995  If $\\sin x + \\cos x = \\frac{1}{5}$ and $0 < x ...  Level 5  Precalculus   \n",
       "4996  The matrix for projecting onto a certain plane...  Level 5  Precalculus   \n",
       "4997  Let $\\mathbf{a},$ $\\mathbf{b},$ and $\\mathbf{c...  Level 4  Precalculus   \n",
       "4998  Find the smallest positive integer solution to...  Level 5  Precalculus   \n",
       "4999  The matrix for reflecting over a certain line ...  Level 5  Precalculus   \n",
       "\n",
       "                                               solution  \n",
       "0     The denominator of the rational function facto...  \n",
       "1     One hundred twenty percent of 30 is $120\\cdot3...  \n",
       "2     First, we note that $x$ must be positive, sinc...  \n",
       "3     We have $i^5 = i^4\\cdot i = 1\\cdot (i) = i$.  ...  \n",
       "4     Rewrite $4$ as $2^2$ to find $4^x=2^{2x}$.  Si...  \n",
       "...                                                 ...  \n",
       "4995  From the given equation, $\\cos x = \\frac{1}{5}...  \n",
       "4996  Since $\\begin{pmatrix} a \\\\ b \\\\ c \\end{pmatri...  \n",
       "4997  Since $\\mathbf{a} + \\mathbf{b} + \\mathbf{c} = ...  \n",
       "4998  By the tangent addition formula,\\n\\begin{align...  \n",
       "4999  Since $\\begin{pmatrix} a \\\\ b \\\\ c \\end{pmatri...  \n",
       "\n",
       "[5000 rows x 4 columns]"
      ]
     },
     "execution_count": 91,
     "metadata": {},
     "output_type": "execute_result"
    }
   ],
   "source": [
    "ds[\"test\"].to_pandas()"
   ]
  },
  {
   "cell_type": "code",
   "execution_count": 92,
   "id": "1c73d616-f9d1-45e0-b754-793d41700c69",
   "metadata": {},
   "outputs": [],
   "source": [
    "strata = [\"level\", \"type\"]\n",
    "\n",
    "df = ds[\"test\"].to_pandas()\n",
    "\n",
    "subsample, _ = train_test_split(df, train_size=200, random_state=40, stratify=df[strata])"
   ]
  },
  {
   "cell_type": "code",
   "execution_count": 103,
   "id": "41014018-fc51-4922-997e-abf7f792ab19",
   "metadata": {},
   "outputs": [
    {
     "data": {
      "text/html": [
       "<div>\n",
       "<style scoped>\n",
       "    .dataframe tbody tr th:only-of-type {\n",
       "        vertical-align: middle;\n",
       "    }\n",
       "\n",
       "    .dataframe tbody tr th {\n",
       "        vertical-align: top;\n",
       "    }\n",
       "\n",
       "    .dataframe thead th {\n",
       "        text-align: right;\n",
       "    }\n",
       "</style>\n",
       "<table border=\"1\" class=\"dataframe\">\n",
       "  <thead>\n",
       "    <tr style=\"text-align: right;\">\n",
       "      <th></th>\n",
       "      <th>problem</th>\n",
       "      <th>level</th>\n",
       "      <th>type</th>\n",
       "      <th>solution</th>\n",
       "    </tr>\n",
       "  </thead>\n",
       "  <tbody>\n",
       "    <tr>\n",
       "      <th>852</th>\n",
       "      <td>Suppose $P$ is the point $(5,3)$ and $Q$ is th...</td>\n",
       "      <td>Level 3</td>\n",
       "      <td>Algebra</td>\n",
       "      <td>Let the coordinates of $T$ be $(x,y)$. Then, t...</td>\n",
       "    </tr>\n",
       "    <tr>\n",
       "      <th>3920</th>\n",
       "      <td>If $4$ wands are equivalent to $6$ rands and $...</td>\n",
       "      <td>Level 4</td>\n",
       "      <td>Prealgebra</td>\n",
       "      <td>We can set up a proportion to find the ratio o...</td>\n",
       "    </tr>\n",
       "    <tr>\n",
       "      <th>2180</th>\n",
       "      <td>Let $a,$ $b,$ $c,$ and $d$ be positive real nu...</td>\n",
       "      <td>Level 5</td>\n",
       "      <td>Intermediate Algebra</td>\n",
       "      <td>By AM-GM,\\n\\[\\frac{\\underbrace{3a + 3a + \\dots...</td>\n",
       "    </tr>\n",
       "    <tr>\n",
       "      <th>1963</th>\n",
       "      <td>Altitudes $\\overline{AD}$ and $\\overline{BE}$ ...</td>\n",
       "      <td>Level 4</td>\n",
       "      <td>Geometry</td>\n",
       "      <td>First, we build a diagram:\\n\\n[asy]\\n\\nsize(15...</td>\n",
       "    </tr>\n",
       "    <tr>\n",
       "      <th>1135</th>\n",
       "      <td>What is the greatest integer value of $x$ for ...</td>\n",
       "      <td>Level 3</td>\n",
       "      <td>Algebra</td>\n",
       "      <td>We can factor $6x^2+x-2$ as $(3x+2)(2x-1)$. Fo...</td>\n",
       "    </tr>\n",
       "    <tr>\n",
       "      <th>...</th>\n",
       "      <td>...</td>\n",
       "      <td>...</td>\n",
       "      <td>...</td>\n",
       "      <td>...</td>\n",
       "    </tr>\n",
       "    <tr>\n",
       "      <th>4897</th>\n",
       "      <td>If $\\sin^2 \\theta + \\sin \\theta = 1,$ then fin...</td>\n",
       "      <td>Level 2</td>\n",
       "      <td>Precalculus</td>\n",
       "      <td>From $\\sin^2 \\theta + \\sin \\theta = 1,$ $\\sin ...</td>\n",
       "    </tr>\n",
       "    <tr>\n",
       "      <th>1828</th>\n",
       "      <td>Compute $\\sin 30^\\circ$.</td>\n",
       "      <td>Level 1</td>\n",
       "      <td>Geometry</td>\n",
       "      <td>Let $P$ be the point on the unit circle that i...</td>\n",
       "    </tr>\n",
       "    <tr>\n",
       "      <th>2128</th>\n",
       "      <td>In the diagram, square $ABCD$ has sides of len...</td>\n",
       "      <td>Level 5</td>\n",
       "      <td>Geometry</td>\n",
       "      <td>Since $\\triangle ABE$ is equilateral, we have ...</td>\n",
       "    </tr>\n",
       "    <tr>\n",
       "      <th>596</th>\n",
       "      <td>Evaluate $\\lceil (3.6)^2 \\rceil - ( \\lceil 3.6...</td>\n",
       "      <td>Level 4</td>\n",
       "      <td>Algebra</td>\n",
       "      <td>$\\lceil (3.6)^2 \\rceil = \\lceil 12.96 \\rceil =...</td>\n",
       "    </tr>\n",
       "    <tr>\n",
       "      <th>4242</th>\n",
       "      <td>Kathy needs money for her trip to Europe. If s...</td>\n",
       "      <td>Level 5</td>\n",
       "      <td>Prealgebra</td>\n",
       "      <td>After Kathy has exchanged half of her money ($...</td>\n",
       "    </tr>\n",
       "  </tbody>\n",
       "</table>\n",
       "<p>200 rows × 4 columns</p>\n",
       "</div>"
      ],
      "text/plain": [
       "                                                problem    level  \\\n",
       "852   Suppose $P$ is the point $(5,3)$ and $Q$ is th...  Level 3   \n",
       "3920  If $4$ wands are equivalent to $6$ rands and $...  Level 4   \n",
       "2180  Let $a,$ $b,$ $c,$ and $d$ be positive real nu...  Level 5   \n",
       "1963  Altitudes $\\overline{AD}$ and $\\overline{BE}$ ...  Level 4   \n",
       "1135  What is the greatest integer value of $x$ for ...  Level 3   \n",
       "...                                                 ...      ...   \n",
       "4897  If $\\sin^2 \\theta + \\sin \\theta = 1,$ then fin...  Level 2   \n",
       "1828                           Compute $\\sin 30^\\circ$.  Level 1   \n",
       "2128  In the diagram, square $ABCD$ has sides of len...  Level 5   \n",
       "596   Evaluate $\\lceil (3.6)^2 \\rceil - ( \\lceil 3.6...  Level 4   \n",
       "4242  Kathy needs money for her trip to Europe. If s...  Level 5   \n",
       "\n",
       "                      type                                           solution  \n",
       "852                Algebra  Let the coordinates of $T$ be $(x,y)$. Then, t...  \n",
       "3920            Prealgebra  We can set up a proportion to find the ratio o...  \n",
       "2180  Intermediate Algebra  By AM-GM,\\n\\[\\frac{\\underbrace{3a + 3a + \\dots...  \n",
       "1963              Geometry  First, we build a diagram:\\n\\n[asy]\\n\\nsize(15...  \n",
       "1135               Algebra  We can factor $6x^2+x-2$ as $(3x+2)(2x-1)$. Fo...  \n",
       "...                    ...                                                ...  \n",
       "4897           Precalculus  From $\\sin^2 \\theta + \\sin \\theta = 1,$ $\\sin ...  \n",
       "1828              Geometry  Let $P$ be the point on the unit circle that i...  \n",
       "2128              Geometry  Since $\\triangle ABE$ is equilateral, we have ...  \n",
       "596                Algebra  $\\lceil (3.6)^2 \\rceil = \\lceil 12.96 \\rceil =...  \n",
       "4242            Prealgebra  After Kathy has exchanged half of her money ($...  \n",
       "\n",
       "[200 rows x 4 columns]"
      ]
     },
     "execution_count": 103,
     "metadata": {},
     "output_type": "execute_result"
    }
   ],
   "source": [
    "subsample"
   ]
  },
  {
   "cell_type": "code",
   "execution_count": 97,
   "id": "78bfd52f-3934-4e11-9844-e16a73fb0f8b",
   "metadata": {},
   "outputs": [],
   "source": [
    "ds_subsample = Dataset.from_pandas(subsample)"
   ]
  },
  {
   "cell_type": "code",
   "execution_count": 104,
   "id": "dabdfeea-ca62-4f48-a8b2-87765d17b2cc",
   "metadata": {},
   "outputs": [
    {
     "data": {
      "text/plain": [
       "Dataset({\n",
       "    features: ['problem', 'level', 'type', 'solution'],\n",
       "    num_rows: 200\n",
       "})"
      ]
     },
     "execution_count": 104,
     "metadata": {},
     "output_type": "execute_result"
    }
   ],
   "source": [
    "ds_subsample = ds_subsample.remove_columns(\"__index_level_0__\")\n",
    "ds_subsample"
   ]
  },
  {
   "cell_type": "code",
   "execution_count": 105,
   "id": "2b6de235-3743-4386-ad3b-91a38d839d52",
   "metadata": {},
   "outputs": [
    {
     "data": {
      "application/vnd.jupyter.widget-view+json": {
       "model_id": "a74316580dbf455c88a0ea62677b7cda",
       "version_major": 2,
       "version_minor": 0
      },
      "text/plain": [
       "Uploading the dataset shards:   0%|          | 0/1 [00:00<?, ?it/s]"
      ]
     },
     "metadata": {},
     "output_type": "display_data"
    },
    {
     "data": {
      "application/vnd.jupyter.widget-view+json": {
       "model_id": "66a7f58fec224e8ea3d0b21c44f1d590",
       "version_major": 2,
       "version_minor": 0
      },
      "text/plain": [
       "Creating parquet from Arrow format:   0%|          | 0/1 [00:00<?, ?ba/s]"
      ]
     },
     "metadata": {},
     "output_type": "display_data"
    },
    {
     "data": {
      "application/vnd.jupyter.widget-view+json": {
       "model_id": "e571d741b8024987bf327db9469901e0",
       "version_major": 2,
       "version_minor": 0
      },
      "text/plain": [
       "README.md:   0%|          | 0.00/376 [00:00<?, ?B/s]"
      ]
     },
     "metadata": {},
     "output_type": "display_data"
    },
    {
     "data": {
      "text/plain": [
       "CommitInfo(commit_url='https://huggingface.co/datasets/sachithgunasekara/self-discover-MATH-subsample/commit/d0e03c6022cd801cd984c3fda3d51302ffec0064', commit_message='Upload dataset', commit_description='', oid='d0e03c6022cd801cd984c3fda3d51302ffec0064', pr_url=None, pr_revision=None, pr_num=None)"
      ]
     },
     "execution_count": 105,
     "metadata": {},
     "output_type": "execute_result"
    }
   ],
   "source": [
    "ds_subsample.push_to_hub(\"sachithgunasekara/self-discover-MATH-subsample\")"
   ]
  },
  {
   "cell_type": "code",
   "execution_count": 109,
   "id": "a5ad5697-7fdc-45ed-a0be-6a66a89f3279",
   "metadata": {},
   "outputs": [
    {
     "data": {
      "text/plain": [
       "'What is the base-10 integer 515 when expressed in base 6?'"
      ]
     },
     "execution_count": 109,
     "metadata": {},
     "output_type": "execute_result"
    }
   ],
   "source": [
    "random.sample(list(load_dataset(\"hendrycks/competition_math\", split=\"train\").filter(lambda x: x[\"level\"] == level and x[\"type\"] == type)), 1)[0][\"problem\"]"
   ]
  },
  {
   "cell_type": "code",
   "execution_count": 113,
   "id": "86635909-2c4b-4cc9-957c-7cb31ec55db9",
   "metadata": {},
   "outputs": [
    {
     "data": {
      "application/vnd.jupyter.widget-view+json": {
       "model_id": "db271d16eb4c45bdb5fb83bac3219b69",
       "version_major": 2,
       "version_minor": 0
      },
      "text/plain": [
       "Creating CSV from Arrow format:   0%|          | 0/1 [00:00<?, ?ba/s]"
      ]
     },
     "metadata": {},
     "output_type": "display_data"
    },
    {
     "data": {
      "text/plain": [
       "140012"
      ]
     },
     "execution_count": 113,
     "metadata": {},
     "output_type": "execute_result"
    }
   ],
   "source": [
    "ds_subsample.to_csv(here(\"hendrycks_competition_math_subsample.csv\"))"
   ]
  },
  {
   "cell_type": "code",
   "execution_count": 122,
   "id": "d1a4d341-9f50-4aec-abd2-cd9fed36c4bb",
   "metadata": {},
   "outputs": [
    {
     "data": {
      "application/vnd.jupyter.widget-view+json": {
       "model_id": "c12d10cb6b4044bd848cfe530498bfcc",
       "version_major": 2,
       "version_minor": 0
      },
      "text/plain": [
       "Map:   0%|          | 0/200 [00:00<?, ? examples/s]"
      ]
     },
     "metadata": {},
     "output_type": "display_data"
    }
   ],
   "source": [
    "from pylatexenc.latex2text import LatexNodes2Text\n",
    "\n",
    "def to_html(instance):\n",
    "    return {\n",
    "        \"problem_html\": LatexNodes2Text().latex_to_text(instance[\"problem\"]),\n",
    "        \"solution_html\": LatexNodes2Text().latex_to_text(instance[\"solution\"])\n",
    "    }\n",
    "\n",
    "csv_subsam = ds_subsample.map(to_html)"
   ]
  },
  {
   "cell_type": "code",
   "execution_count": 124,
   "id": "ac0644fc-d5cc-4379-bb8e-c21516cb4eb3",
   "metadata": {},
   "outputs": [
    {
     "data": {
      "text/plain": [
       "'Let the coordinates of T be (x,y). Then, the midpoint of PT is (x+5/2, y+3/2).  Since we know the coordinates of this point are those of point Q, (-3,6), we have (x+5)/2 = -3 and (y+3)/2 = 6.  Solving these equations gives x = -11 and y = 9, so point T is at (-11,9).'"
      ]
     },
     "execution_count": 124,
     "metadata": {},
     "output_type": "execute_result"
    }
   ],
   "source": [
    "csv_subsam[0][\"solution_html\"]"
   ]
  },
  {
   "cell_type": "code",
   "execution_count": 123,
   "id": "23a8e459-eca9-44ed-9e15-df08322278c8",
   "metadata": {},
   "outputs": [
    {
     "data": {
      "application/vnd.jupyter.widget-view+json": {
       "model_id": "1834bff6793d4b85806b8a8b802706ee",
       "version_major": 2,
       "version_minor": 0
      },
      "text/plain": [
       "Creating CSV from Arrow format:   0%|          | 0/1 [00:00<?, ?ba/s]"
      ]
     },
     "metadata": {},
     "output_type": "display_data"
    },
    {
     "data": {
      "text/plain": [
       "258405"
      ]
     },
     "execution_count": 123,
     "metadata": {},
     "output_type": "execute_result"
    }
   ],
   "source": [
    "csv_subsam.to_csv(here(\"hendrycks_competition_math_subsample.csv\"))"
   ]
  }
 ],
 "metadata": {
  "kernelspec": {
   "display_name": "Python 3 (ipykernel)",
   "language": "python",
   "name": "python3"
  },
  "language_info": {
   "codemirror_mode": {
    "name": "ipython",
    "version": 3
   },
   "file_extension": ".py",
   "mimetype": "text/x-python",
   "name": "python",
   "nbconvert_exporter": "python",
   "pygments_lexer": "ipython3",
   "version": "3.8.10"
  }
 },
 "nbformat": 4,
 "nbformat_minor": 5
}
